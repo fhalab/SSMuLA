{
 "cells": [
  {
   "cell_type": "code",
   "execution_count": 1,
   "metadata": {},
   "outputs": [
    {
     "name": "stdout",
     "output_type": "stream",
     "text": [
      "/disk2/fli/SSMuLA\n"
     ]
    }
   ],
   "source": [
    "%cd ~/SSMuLA"
   ]
  },
  {
   "cell_type": "code",
   "execution_count": 2,
   "metadata": {},
   "outputs": [],
   "source": [
    "%load_ext blackcellmagic"
   ]
  },
  {
   "cell_type": "code",
   "execution_count": 3,
   "metadata": {},
   "outputs": [],
   "source": []
  },
  {
   "cell_type": "code",
   "execution_count": 3,
   "metadata": {},
   "outputs": [],
   "source": [
    "# !python sandbox/esmif/score_log_likelihoods.py sandbox/esmif/5YH2.pdb \\\n",
    "#   sandbox/esmif/5YH2_mutated_seqs.fasta --chain C \\\n",
    "#   --outpath sandbox/esmif/5YH2_mutated_seqs_scores.csv"
   ]
  },
  {
   "cell_type": "code",
   "execution_count": 4,
   "metadata": {},
   "outputs": [],
   "source": [
    "import pandas as pd"
   ]
  },
  {
   "cell_type": "code",
   "execution_count": 5,
   "metadata": {},
   "outputs": [
    {
     "name": "stderr",
     "output_type": "stream",
     "text": [
      "/disk2/fli/miniconda3/envs/SSMuLA/lib/python3.10/site-packages/Bio/pairwise2.py:278: BiopythonDeprecationWarning: Bio.pairwise2 has been deprecated, and we intend to remove it in a future release of Biopython. As an alternative, please consider using Bio.Align.PairwiseAligner as a replacement, and contact the Biopython developers if you still need the Bio.pairwise2 module.\n",
      "  warnings.warn(\n"
     ]
    }
   ],
   "source": [
    "import warnings\n",
    "\n",
    "from Bio.PDB import PDBParser\n",
    "from Bio.SeqUtils import seq1\n",
    "from Bio import SeqIO, pairwise2\n",
    "from Bio.pairwise2 import format_alignment\n",
    "\n",
    "from SSMuLA.landscape_global import LIB_INFO_DICT\n",
    "\n",
    "warnings.filterwarnings(\"ignore\")\n",
    "\n",
    "\n",
    "def pdb2seq(pdb_file_path: str, chain_id: str = \"A\") -> str:\n",
    "\n",
    "    \"\"\"\n",
    "    A function for extracting chain in string format from pdb\n",
    "\n",
    "    Args:\n",
    "    - pdb_file_path: str,\n",
    "    - chain_id: str = \"A\"\n",
    "    \"\"\"\n",
    "\n",
    "    chains = {\n",
    "        record.id: record.seq for record in SeqIO.parse(pdb_file_path, \"pdb-atom\")\n",
    "    }\n",
    "\n",
    "    return str(chains[[chain for chain in chains.keys() if chain_id in chain][0]])\n",
    "\n",
    "\n",
    "def find_missing_str(longer: str, shorter: str) -> [str, str]:\n",
    "    \"\"\"\n",
    "    A function for finding the missing part of a string\n",
    "\n",
    "    Args:\n",
    "    - longer: str, longer string\n",
    "    - shorter: str, shorter string\n",
    "\n",
    "    Returns:\n",
    "    - part_before: str, part of the longer string before the shorter\n",
    "    - part_after: str, part of the longer string after the shorter\n",
    "    \"\"\"\n",
    "    # Find the start index of the shorter in the longer string\n",
    "    start_index = longer.find(shorter)\n",
    "\n",
    "    # If the shorter is not found need to do alingment to figure out\n",
    "    if start_index == -1:\n",
    "        \n",
    "        return \"\", \"\"\n",
    "\n",
    "    # Find the end index of the shorter\n",
    "    end_index = start_index + len(shorter)\n",
    "\n",
    "    # Extract parts of the longer string that are not the shorter\n",
    "    part_before = longer[:start_index]\n",
    "    part_after = longer[end_index:]\n",
    "\n",
    "    return part_before, part_after\n",
    "\n",
    "def mut_csv2fasta(lib: str, ev_esm_dir: str = \"ev_esm2\") -> None:\n",
    "    \"\"\"\n",
    "    A function for converting mutation csv to fasta\n",
    "\n",
    "    Args:\n",
    "    - lib: str, path to mutation csv\n",
    "    - ev_esm_dir: str = \"ev_esm2\"\n",
    "    \"\"\"\n",
    "\n",
    "    csv_path = f\"{ev_esm_dir}/{lib}/{lib}.csv\"\n",
    "\n",
    "    if \"TrpB\" in lib:\n",
    "        protein = \"TrpB\"\n",
    "    else:\n",
    "        protein = lib\n",
    "\n",
    "    seq = SeqIO.read(f\"data/{protein}/{protein}.fasta\", \"fasta\").seq\n",
    "\n",
    "    if lib == \"DHFR\":\n",
    "        seq = str(seq.translate())\n",
    "    else:\n",
    "        seq = str(seq)\n",
    "\n",
    "    pdb_seq = pdb2seq(f\"data/{protein}/{protein}.pdb\", \"A\")\n",
    "\n",
    "    df = pd.read_csv(csv_path)\n",
    "\n",
    "    for col in [\"muts\", \"seq\"]:\n",
    "        if col not in df.columns:\n",
    "            raise ValueError(f\"{col} column not found\")\n",
    "\n",
    "    fasta = csv_path.replace(\".csv\", \".fasta\")\n",
    "\n",
    "    print(f\"Writing to {fasta}...\")\n",
    "\n",
    "    # pdb has more than fasta should only be for dhfr\n",
    "    if len(seq) < len(pdb_seq):\n",
    "        print(\"PDB seq is longer than fasta\")\n",
    "        part_before, part_after = find_missing_str(longer=pdb_seq, shorter=seq)\n",
    "        with open(fasta, \"w\") as f:\n",
    "            for mut, seq in zip(df[\"muts\"].values, df[\"seq\"].values):\n",
    "                f.write(f\">{mut}\\n{part_before+seq+part_after}\\n\")\n",
    "    elif len(seq) == len(pdb_seq):\n",
    "        print(\"PDB seq length is equal to fasta\")\n",
    "        with open(fasta, \"w\") as f:\n",
    "            for mut, seq in zip(df[\"muts\"].values, df[\"seq\"].values):\n",
    "                f.write(f\">{mut}\\n{seq}\\n\")\n",
    "    else:\n",
    "        print(\"Fasta seq is longer than PDB\")\n",
    "        part_before, part_after = find_missing_str(longer=seq, shorter=pdb_seq)\n",
    "        with open(fasta, \"w\") as f:\n",
    "            for mut, seq in zip(df[\"muts\"].values, df[\"seq\"].values):\n",
    "                f.write(f\">{mut}\\n{seq[len(part_before):len(seq)-len(part_after)]}\\n\")\n"
   ]
  },
  {
   "cell_type": "code",
   "execution_count": 23,
   "metadata": {},
   "outputs": [
    {
     "name": "stdout",
     "output_type": "stream",
     "text": [
      "233 230\n"
     ]
    }
   ],
   "source": [
    "protein = \"TEV\"\n",
    "lib = \"TEV\"\n",
    "\n",
    "seq = SeqIO.read(f\"data/{protein}/{protein}.fasta\", \"fasta\").seq\n",
    "\n",
    "seq = str(seq)\n",
    "\n",
    "pdb_seq = pdb2seq(f\"data/{protein}/{protein}.pdb\", \"A\")\n",
    "\n",
    "global_alignments = pairwise2.align.globalxx(seq, pdb_seq)\n",
    "\n",
    "print(len(seq), len(pdb_seq))\n"
   ]
  },
  {
   "cell_type": "code",
   "execution_count": 24,
   "metadata": {},
   "outputs": [],
   "source": [
    "df = pd.read_csv(f\"ev_esm2/{lib}/{lib}.csv\")"
   ]
  },
  {
   "cell_type": "code",
   "execution_count": 25,
   "metadata": {},
   "outputs": [
    {
     "data": {
      "text/html": [
       "<div>\n",
       "<style scoped>\n",
       "    .dataframe tbody tr th:only-of-type {\n",
       "        vertical-align: middle;\n",
       "    }\n",
       "\n",
       "    .dataframe tbody tr th {\n",
       "        vertical-align: top;\n",
       "    }\n",
       "\n",
       "    .dataframe thead th {\n",
       "        text-align: right;\n",
       "    }\n",
       "</style>\n",
       "<table border=\"1\" class=\"dataframe\">\n",
       "  <thead>\n",
       "    <tr style=\"text-align: right;\">\n",
       "      <th></th>\n",
       "      <th>AAs</th>\n",
       "      <th>AA1</th>\n",
       "      <th>AA2</th>\n",
       "      <th>AA3</th>\n",
       "      <th>AA4</th>\n",
       "      <th>fitness</th>\n",
       "      <th>active</th>\n",
       "      <th>muts</th>\n",
       "      <th>n_mut</th>\n",
       "      <th>seq</th>\n",
       "      <th>combo</th>\n",
       "      <th>pos</th>\n",
       "      <th>esm_score</th>\n",
       "    </tr>\n",
       "  </thead>\n",
       "  <tbody>\n",
       "    <tr>\n",
       "      <th>0</th>\n",
       "      <td>IEMG</td>\n",
       "      <td>I</td>\n",
       "      <td>E</td>\n",
       "      <td>M</td>\n",
       "      <td>G</td>\n",
       "      <td>-0.054598</td>\n",
       "      <td>False</td>\n",
       "      <td>T146I:D148E:H167M:S170G</td>\n",
       "      <td>4</td>\n",
       "      <td>MFKGPRDYNPISSTICHLTNESDGHTTSLYGIGFGPFIITNKHLFR...</td>\n",
       "      <td>['I', 'E', 'M', 'G']</td>\n",
       "      <td>[146, 148, 167, 170]</td>\n",
       "      <td>-109.408524</td>\n",
       "    </tr>\n",
       "    <tr>\n",
       "      <th>1</th>\n",
       "      <td>HMIR</td>\n",
       "      <td>H</td>\n",
       "      <td>M</td>\n",
       "      <td>I</td>\n",
       "      <td>R</td>\n",
       "      <td>0.003133</td>\n",
       "      <td>False</td>\n",
       "      <td>T146H:D148M:H167I:S170R</td>\n",
       "      <td>4</td>\n",
       "      <td>MFKGPRDYNPISSTICHLTNESDGHTTSLYGIGFGPFIITNKHLFR...</td>\n",
       "      <td>['H', 'M', 'I', 'R']</td>\n",
       "      <td>[146, 148, 167, 170]</td>\n",
       "      <td>-109.191965</td>\n",
       "    </tr>\n",
       "    <tr>\n",
       "      <th>2</th>\n",
       "      <td>HNED</td>\n",
       "      <td>H</td>\n",
       "      <td>N</td>\n",
       "      <td>E</td>\n",
       "      <td>D</td>\n",
       "      <td>-0.009535</td>\n",
       "      <td>False</td>\n",
       "      <td>T146H:D148N:H167E:S170D</td>\n",
       "      <td>4</td>\n",
       "      <td>MFKGPRDYNPISSTICHLTNESDGHTTSLYGIGFGPFIITNKHLFR...</td>\n",
       "      <td>['H', 'N', 'E', 'D']</td>\n",
       "      <td>[146, 148, 167, 170]</td>\n",
       "      <td>-107.576699</td>\n",
       "    </tr>\n",
       "    <tr>\n",
       "      <th>3</th>\n",
       "      <td>HWFP</td>\n",
       "      <td>H</td>\n",
       "      <td>W</td>\n",
       "      <td>F</td>\n",
       "      <td>P</td>\n",
       "      <td>-0.057285</td>\n",
       "      <td>False</td>\n",
       "      <td>T146H:D148W:H167F:S170P</td>\n",
       "      <td>4</td>\n",
       "      <td>MFKGPRDYNPISSTICHLTNESDGHTTSLYGIGFGPFIITNKHLFR...</td>\n",
       "      <td>['H', 'W', 'F', 'P']</td>\n",
       "      <td>[146, 148, 167, 170]</td>\n",
       "      <td>-102.012828</td>\n",
       "    </tr>\n",
       "    <tr>\n",
       "      <th>4</th>\n",
       "      <td>HTFN</td>\n",
       "      <td>H</td>\n",
       "      <td>T</td>\n",
       "      <td>F</td>\n",
       "      <td>N</td>\n",
       "      <td>-0.007008</td>\n",
       "      <td>False</td>\n",
       "      <td>T146H:D148T:H167F:S170N</td>\n",
       "      <td>4</td>\n",
       "      <td>MFKGPRDYNPISSTICHLTNESDGHTTSLYGIGFGPFIITNKHLFR...</td>\n",
       "      <td>['H', 'T', 'F', 'N']</td>\n",
       "      <td>[146, 148, 167, 170]</td>\n",
       "      <td>-104.148911</td>\n",
       "    </tr>\n",
       "    <tr>\n",
       "      <th>...</th>\n",
       "      <td>...</td>\n",
       "      <td>...</td>\n",
       "      <td>...</td>\n",
       "      <td>...</td>\n",
       "      <td>...</td>\n",
       "      <td>...</td>\n",
       "      <td>...</td>\n",
       "      <td>...</td>\n",
       "      <td>...</td>\n",
       "      <td>...</td>\n",
       "      <td>...</td>\n",
       "      <td>...</td>\n",
       "      <td>...</td>\n",
       "    </tr>\n",
       "    <tr>\n",
       "      <th>159127</th>\n",
       "      <td>CKLF</td>\n",
       "      <td>C</td>\n",
       "      <td>K</td>\n",
       "      <td>L</td>\n",
       "      <td>F</td>\n",
       "      <td>-0.035015</td>\n",
       "      <td>False</td>\n",
       "      <td>T146C:D148K:H167L:S170F</td>\n",
       "      <td>4</td>\n",
       "      <td>MFKGPRDYNPISSTICHLTNESDGHTTSLYGIGFGPFIITNKHLFR...</td>\n",
       "      <td>['C', 'K', 'L', 'F']</td>\n",
       "      <td>[146, 148, 167, 170]</td>\n",
       "      <td>-102.514650</td>\n",
       "    </tr>\n",
       "    <tr>\n",
       "      <th>159128</th>\n",
       "      <td>DHRT</td>\n",
       "      <td>D</td>\n",
       "      <td>H</td>\n",
       "      <td>R</td>\n",
       "      <td>T</td>\n",
       "      <td>0.045136</td>\n",
       "      <td>True</td>\n",
       "      <td>T146D:D148H:H167R:S170T</td>\n",
       "      <td>4</td>\n",
       "      <td>MFKGPRDYNPISSTICHLTNESDGHTTSLYGIGFGPFIITNKHLFR...</td>\n",
       "      <td>['D', 'H', 'R', 'T']</td>\n",
       "      <td>[146, 148, 167, 170]</td>\n",
       "      <td>-93.501041</td>\n",
       "    </tr>\n",
       "    <tr>\n",
       "      <th>159129</th>\n",
       "      <td>CGGF</td>\n",
       "      <td>C</td>\n",
       "      <td>G</td>\n",
       "      <td>G</td>\n",
       "      <td>F</td>\n",
       "      <td>0.013294</td>\n",
       "      <td>False</td>\n",
       "      <td>T146C:D148G:H167G:S170F</td>\n",
       "      <td>4</td>\n",
       "      <td>MFKGPRDYNPISSTICHLTNESDGHTTSLYGIGFGPFIITNKHLFR...</td>\n",
       "      <td>['C', 'G', 'G', 'F']</td>\n",
       "      <td>[146, 148, 167, 170]</td>\n",
       "      <td>-83.973839</td>\n",
       "    </tr>\n",
       "    <tr>\n",
       "      <th>159130</th>\n",
       "      <td>CVSV</td>\n",
       "      <td>C</td>\n",
       "      <td>V</td>\n",
       "      <td>S</td>\n",
       "      <td>V</td>\n",
       "      <td>-0.007239</td>\n",
       "      <td>False</td>\n",
       "      <td>T146C:D148V:H167S:S170V</td>\n",
       "      <td>4</td>\n",
       "      <td>MFKGPRDYNPISSTICHLTNESDGHTTSLYGIGFGPFIITNKHLFR...</td>\n",
       "      <td>['C', 'V', 'S', 'V']</td>\n",
       "      <td>[146, 148, 167, 170]</td>\n",
       "      <td>-80.439535</td>\n",
       "    </tr>\n",
       "    <tr>\n",
       "      <th>159131</th>\n",
       "      <td>CMIS</td>\n",
       "      <td>C</td>\n",
       "      <td>M</td>\n",
       "      <td>I</td>\n",
       "      <td>S</td>\n",
       "      <td>0.029134</td>\n",
       "      <td>False</td>\n",
       "      <td>T146C:D148M:H167I</td>\n",
       "      <td>3</td>\n",
       "      <td>MFKGPRDYNPISSTICHLTNESDGHTTSLYGIGFGPFIITNKHLFR...</td>\n",
       "      <td>['C', 'M', 'I']</td>\n",
       "      <td>[146, 148, 167]</td>\n",
       "      <td>-64.828973</td>\n",
       "    </tr>\n",
       "  </tbody>\n",
       "</table>\n",
       "<p>159132 rows × 13 columns</p>\n",
       "</div>"
      ],
      "text/plain": [
       "         AAs AA1 AA2 AA3 AA4   fitness  active                     muts  \\\n",
       "0       IEMG   I   E   M   G -0.054598   False  T146I:D148E:H167M:S170G   \n",
       "1       HMIR   H   M   I   R  0.003133   False  T146H:D148M:H167I:S170R   \n",
       "2       HNED   H   N   E   D -0.009535   False  T146H:D148N:H167E:S170D   \n",
       "3       HWFP   H   W   F   P -0.057285   False  T146H:D148W:H167F:S170P   \n",
       "4       HTFN   H   T   F   N -0.007008   False  T146H:D148T:H167F:S170N   \n",
       "...      ...  ..  ..  ..  ..       ...     ...                      ...   \n",
       "159127  CKLF   C   K   L   F -0.035015   False  T146C:D148K:H167L:S170F   \n",
       "159128  DHRT   D   H   R   T  0.045136    True  T146D:D148H:H167R:S170T   \n",
       "159129  CGGF   C   G   G   F  0.013294   False  T146C:D148G:H167G:S170F   \n",
       "159130  CVSV   C   V   S   V -0.007239   False  T146C:D148V:H167S:S170V   \n",
       "159131  CMIS   C   M   I   S  0.029134   False        T146C:D148M:H167I   \n",
       "\n",
       "        n_mut                                                seq  \\\n",
       "0           4  MFKGPRDYNPISSTICHLTNESDGHTTSLYGIGFGPFIITNKHLFR...   \n",
       "1           4  MFKGPRDYNPISSTICHLTNESDGHTTSLYGIGFGPFIITNKHLFR...   \n",
       "2           4  MFKGPRDYNPISSTICHLTNESDGHTTSLYGIGFGPFIITNKHLFR...   \n",
       "3           4  MFKGPRDYNPISSTICHLTNESDGHTTSLYGIGFGPFIITNKHLFR...   \n",
       "4           4  MFKGPRDYNPISSTICHLTNESDGHTTSLYGIGFGPFIITNKHLFR...   \n",
       "...       ...                                                ...   \n",
       "159127      4  MFKGPRDYNPISSTICHLTNESDGHTTSLYGIGFGPFIITNKHLFR...   \n",
       "159128      4  MFKGPRDYNPISSTICHLTNESDGHTTSLYGIGFGPFIITNKHLFR...   \n",
       "159129      4  MFKGPRDYNPISSTICHLTNESDGHTTSLYGIGFGPFIITNKHLFR...   \n",
       "159130      4  MFKGPRDYNPISSTICHLTNESDGHTTSLYGIGFGPFIITNKHLFR...   \n",
       "159131      3  MFKGPRDYNPISSTICHLTNESDGHTTSLYGIGFGPFIITNKHLFR...   \n",
       "\n",
       "                       combo                   pos   esm_score  \n",
       "0       ['I', 'E', 'M', 'G']  [146, 148, 167, 170] -109.408524  \n",
       "1       ['H', 'M', 'I', 'R']  [146, 148, 167, 170] -109.191965  \n",
       "2       ['H', 'N', 'E', 'D']  [146, 148, 167, 170] -107.576699  \n",
       "3       ['H', 'W', 'F', 'P']  [146, 148, 167, 170] -102.012828  \n",
       "4       ['H', 'T', 'F', 'N']  [146, 148, 167, 170] -104.148911  \n",
       "...                      ...                   ...         ...  \n",
       "159127  ['C', 'K', 'L', 'F']  [146, 148, 167, 170] -102.514650  \n",
       "159128  ['D', 'H', 'R', 'T']  [146, 148, 167, 170]  -93.501041  \n",
       "159129  ['C', 'G', 'G', 'F']  [146, 148, 167, 170]  -83.973839  \n",
       "159130  ['C', 'V', 'S', 'V']  [146, 148, 167, 170]  -80.439535  \n",
       "159131       ['C', 'M', 'I']       [146, 148, 167]  -64.828973  \n",
       "\n",
       "[159132 rows x 13 columns]"
      ]
     },
     "execution_count": 25,
     "metadata": {},
     "output_type": "execute_result"
    }
   ],
   "source": [
    "df"
   ]
  },
  {
   "cell_type": "code",
   "execution_count": 26,
   "metadata": {},
   "outputs": [
    {
     "data": {
      "text/plain": [
       "'MFKGPRDYNPISSTICHLTNESDGHTTSLYGIGFGPFIITNKHLFRRNNGTLLVQSLHGVFKVKNTTTLQQHLIDGRDMIIIRMPKDFPPFPQKLKFREPQREERICLVTTNFQTKSMSSMVSDTSCTFPSSDGIFWKHWIQTKDGQCGSPLVSTRDGFIVGIHSASNFTNTNNYFTSVPKNFMELLTNQEAQQWVSGWRLNADSVLWGGHKVFMVKPEEPFQPVKEATQLMN'"
      ]
     },
     "execution_count": 26,
     "metadata": {},
     "output_type": "execute_result"
    }
   ],
   "source": [
    "seq"
   ]
  },
  {
   "cell_type": "code",
   "execution_count": 27,
   "metadata": {},
   "outputs": [
    {
     "data": {
      "text/plain": [
       "'GHHHHHHHXGESLFKGPRDYNPISSTICHLTNESDGHTTSLYGIGFGPFIITNKHLFRRNNGTLLVQSLHGVFKVKNTTTLQQHLIDGRDMIIIRMPKDFPPFPQKLKFREPQREERICLVTTNFQTKSMSSMVSDTSCTFPSSDGIFWKHWIQTKDGQCGSPLVSTRDGFIVGIHSASNFTNTNNYFTSVPKNFMELLTNQEAQQWVSGWRLNADSVLWGGHKVFMDKP'"
      ]
     },
     "execution_count": 27,
     "metadata": {},
     "output_type": "execute_result"
    }
   ],
   "source": [
    "pdb_seq"
   ]
  },
  {
   "cell_type": "code",
   "execution_count": 28,
   "metadata": {},
   "outputs": [
    {
     "name": "stdout",
     "output_type": "stream",
     "text": [
      "M-------------FKGPRDYNPISSTICHLTNESDGHTTSLYGIGFGPFIITNKHLFRRNNGTLLVQSLHGVFKVKNTTTLQQHLIDGRDMIIIRMPKDFPPFPQKLKFREPQREERICLVTTNFQTKSMSSMVSDTSCTFPSSDGIFWKHWIQTKDGQCGSPLVSTRDGFIVGIHSASNFTNTNNYFTSVPKNFMELLTNQEAQQWVSGWRLNADSVLWGGHKVFMV-KPEEPFQPVKEATQLMN\n",
      "              ||||||||||||||||||||||||||||||||||||||||||||||||||||||||||||||||||||||||||||||||||||||||||||||||||||||||||||||||||||||||||||||||||||||||||||||||||||||||||||||||||||||||||||||||||||||||||||||||||||||||||||||||||||||  ||               \n",
      "-GHHHHHHHXGESLFKGPRDYNPISSTICHLTNESDGHTTSLYGIGFGPFIITNKHLFRRNNGTLLVQSLHGVFKVKNTTTLQQHLIDGRDMIIIRMPKDFPPFPQKLKFREPQREERICLVTTNFQTKSMSSMVSDTSCTFPSSDGIFWKHWIQTKDGQCGSPLVSTRDGFIVGIHSASNFTNTNNYFTSVPKNFMELLTNQEAQQWVSGWRLNADSVLWGGHKVFM-DKP---------------\n",
      "  Score=426.9\n",
      "\n"
     ]
    }
   ],
   "source": [
    "print(format_alignment(*pairwise2.align.globalms(seq, pdb_seq, 2, -1, -0.5, -0.1)[0]))"
   ]
  },
  {
   "cell_type": "code",
   "execution_count": 12,
   "metadata": {},
   "outputs": [],
   "source": [
    "def alignmutseq2pdbseq(mut_seq: str, pdb_seq: str) -> list[int]:\n",
    "    \"\"\"\n",
    "    A function for aligning mutation sequence to pdb sequence and\n",
    "    return the indices of the aligned sequence so that the mutation\n",
    "    sequence can be trimmed to the lenght of the pdb sequence\n",
    "\n",
    "    Args:\n",
    "    - mut_seq: str, mutation sequence\n",
    "    - pdb_seq: str, pdb sequence\n",
    "    \"\"\"\n",
    "\n",
    "    # Define a custom scoring function so that X is aligned with anything\n",
    "    def custom_match_function(x, y):\n",
    "        if x == \"X\" or y == \"X\":\n",
    "            return 2  # High score for aligning X with anything\n",
    "        elif x == y:\n",
    "            return 2  # Match score\n",
    "        else:\n",
    "            return -1  # Mismatch score\n",
    "\n",
    "    _, aligned_pdb_seq, _, _, _ = pairwise2.align.globalcs(\n",
    "        mut_seq, pdb_seq, custom_match_function, -0.5, -0.1\n",
    "    )[0]\n",
    "\n",
    "    return [\n",
    "        aligned_pdb_seq.find(aligned_pdb_seq.replace(\"-\", \"\")[:1]),\n",
    "        aligned_pdb_seq.rfind(aligned_pdb_seq.replace(\"-\", \"\")[-1]),\n",
    "    ]"
   ]
  },
  {
   "cell_type": "code",
   "execution_count": 40,
   "metadata": {},
   "outputs": [],
   "source": [
    "\n",
    "# Define a custom scoring function\n",
    "def custom_match_function(x, y):\n",
    "    if x == 'X' or y == 'X':\n",
    "        return 2  # High score for aligning X with anything\n",
    "    elif x == y:\n",
    "        return 2  # Match score\n",
    "    else:\n",
    "        return -1  # Mismatch score\n"
   ]
  },
  {
   "cell_type": "code",
   "execution_count": 24,
   "metadata": {},
   "outputs": [
    {
     "name": "stdout",
     "output_type": "stream",
     "text": [
      "MNTINIAKNDFSDIELAAIPFNTLADHYGERLAREQLALEHESYEMGEARFRKMFERQLKAGEVADNAAAKPLITTLLPKMIARINDWFEEVKAKRGKRPTAFQFLQEIKPEAVAYITIKTTLACLTSADNTTVQAVASAIGRAIEDEARFGRIRDLEAKHFKKNVEEQLNKRVGHVYKKAFMQVVEADMLSKGLLGGEAWSSWHKEDSIHVGVRCIEMLIESTGMVSLHRQNAGVVGQDSETIELAPEYAEAIATRAGALAGISPMFQPCVVPPKPWTGITGGGYWANGRRPLALVRTHSKKALMRYEDVYMPEVYKAINIAQNTAWKINKKVLAVANVITKWKHCPVEDIPAIEREELPMKPEDIDMNPEALTAWKRAAAAVYRKDKARKSRRISLEFMLEQANKFANHKAIWFPYNMDWRGRVYAVSMFNPQGNDMTKGLLTLAKGKPIGKEGYYWLKIHGANCAGVDKVPFPERIKFIEENHENIMACAKSPLENTWWAEQDSPFCFLAFCFEYAGVQHHGLSYNCSLPLAFDGSCSGIQHFSAMLRDEVGGRAVNLLPSETVQDIYGIVAKKVNEILQADAINGTDNEVVTVTDENTGEISEKVKLGTKALAGQWLAYGVTRSVTKRSVMTLAYGSKEFGFRQQVLEDTIQPAIDSGKGLMFTQPNQAAGYMAKLIWESVSVTVVAAVEAMNWLKSAAKLLAAEVKDKKTGEILRKRCAVHWVTPDGFPVWQEYKKPIQTRLNLMFLGQFRLQPTINTNKDSEIDAHKQESGIAPNFVHSQDGSHLRKTVVWAHEKYGIESFALIHDSFGTIPADAANLFKAVRETMVDTYESCDVLADFYDQFADQLHESQLDKMPALPAKGNLNLRDILESDFAFA\n",
      "     ||||||||||||||||||||||||||||||||||||||||||||||||||................||||||||||||||||||||||||||||||||||||||||||||||||||||||||||||||||||||||||||||||||||||||||||||||||||||||||||||||||||||||||||||||||||||||||||||||||||||||||||||||||||||||||||||||||||||||||||||||||||||||||||||||||||||||||||||||||||||||||||||||||||||||||||||||||||||||||||||||||||||||||||||||||||||||||||||||||||||||||||||||||||||||||||||||||||||||||||||||||||||||||||||||||||||||||||||||||||||||||||||||||||||||||||||||||||||||||||||||||||||||||||||||||||||||||||||||||||||||||||||||||||||||||||||||||||||||||||||||||||||||||||||||||||||||||||||||||||||||||||||||||||||||||||||||||||||||||||||||||||||||||||||||||||||||||||||||||||||||||||||||||||||||||||||||||||||||||||||||||||||||||||||||||||||||||||||||||||||||||||||||||||||||||||||||||||||||||||||||||||||||||||||||||||||||||||||||||||||||||||||||||||||||||||||\n",
      "-----IAKNDFSDIELAAIPFNTLADHYGERLAREQLALEHESYEMGEARFRKMFXXXXXXXXXXXXXXXXPLITTLLPKMIARINDWFEEVKAKRGKRPTAFQFLQEIKPEAVAYITIKTTLACLTSADNTTVQAVASAIGRAIEDEARFGRIRDLEAKHFKKNVEEQLNKRVGHVYKKAFMQVVEADMLSKGLLGGEAWSSWHKEDSIHVGVRCIEMLIESTGMVSLHRQNAGVVGQDSETIELAPEYAEAIATRAGALAGISPMFQPCVVPPKPWTGITGGGYWANGRRPLALVRTHSKKALMRYEDVYMPEVYKAINIAQNTAWKINKKVLAVANVITKWKHCPVEDIPAIEREELPMKPEDIDMNPEALTAWKRAAAAVYRKDKARKSRRISLEFMLEQANKFANHKAIWFPYNMDWRGRVYAVSMFNPQGNDMTKGLLTLAKGKPIGKEGYYWLKIHGANCAGVDKVPFPERIKFIEENHENIMACAKSPLENTWWAEQDSPFCFLAFCFEYAGVQHHGLSYNCSLPLAFDGSCSGIQHFSAMLRDEVGGRAVNLLPSETVQDIYGIVAKKVNEILQADAINGTDNEVVTVTDENTGEISEKVKLGTKALAGQWLAYGVTRSVTKRSVMTLAYGSKEFGFRQQVLEDTIQPAIDSGKGLMFTQPNQAAGYMAKLIWESVSVTVVAAVEAMNWLKSAAKLLAAEVKDKKTGEILRKRCAVHWVTPDGFPVWQEYKKPIQTRLNLMFLGQFRLQPTINTNKDSEIDAHKQESGIAPNFVHSQDGSHLRKTVVWAHEKYGIESFALIHDSFGTIPADAANLFKAVRETMVDTYESCDVLADFYDQFADQLHESQLDKMPALPAKGNLNLRDILESDFAFA\n",
      "  Score=1755.1\n",
      "\n"
     ]
    }
   ],
   "source": [
    "print(format_alignment(*pairwise2.align.globalcs(seq, pdb_seq, custom_match_function, -0.5, -0.1)[0]))"
   ]
  },
  {
   "cell_type": "code",
   "execution_count": 49,
   "metadata": {},
   "outputs": [
    {
     "name": "stdout",
     "output_type": "stream",
     "text": [
      "Aligned region in seq1: Start = 0, End = 882\n",
      "Aligned region in seq2: Start = 5, End = 882\n"
     ]
    }
   ],
   "source": [
    "# Extract the aligned sequences\n",
    "aligned_seq1, aligned_seq2, score, begin, end = pairwise2.align.globalcs(seq, pdb_seq, custom_match_function, -0.5, -0.1)[0]\n",
    "\n",
    "# Determine the start and end positions of the aligned regions (ignoring gaps)\n",
    "start_index_seq1 = aligned_seq1.find(aligned_seq1.replace('-', '')[:1])\n",
    "end_index_seq1 = aligned_seq1.rfind(aligned_seq1.replace('-', '')[-1])\n",
    "\n",
    "start_index_seq2 = aligned_seq2.find(aligned_seq2.replace('-', '')[:1])\n",
    "end_index_seq2 = aligned_seq2.rfind(aligned_seq2.replace('-', '')[-1])\n",
    "\n",
    "# Print the start and end indices\n",
    "print(f\"Aligned region in seq1: Start = {start_index_seq1}, End = {end_index_seq1}\")\n",
    "print(f\"Aligned region in seq2: Start = {start_index_seq2}, End = {end_index_seq2}\")\n"
   ]
  },
  {
   "cell_type": "code",
   "execution_count": 55,
   "metadata": {},
   "outputs": [
    {
     "data": {
      "text/plain": [
       "[55, 56, 57, 58, 59, 60, 61, 62, 63, 64, 65, 66, 67, 68, 69, 70]"
      ]
     },
     "execution_count": 55,
     "metadata": {},
     "output_type": "execute_result"
    }
   ],
   "source": [
    "# Step 1: Find all indices of 'X' in pdb_seq\n",
    "x_indices = [i for i, letter in enumerate(aligned_seq2) if letter == 'X']\n",
    "x_indices"
   ]
  },
  {
   "cell_type": "code",
   "execution_count": 56,
   "metadata": {},
   "outputs": [
    {
     "data": {
      "text/plain": [
       "'MNTINIAKNDFSDIELAAIPFNTLADHYGERLAREQLALEHESYEMGEARFRKMFXXXXXXXXXXXXXXXXPLITTLLPKMIARINDWFEEVKAKRGKRPTAFQFLQEIKPEAVAYITIKTTLACLTSADNTTVQAVASAIGRAIEDEARFGRIRDLEAKHFKKNVEEQLNKRVGHVYKKAFMQVVEADMLSKGLLGGEAWSSWHKEDSIHVGVRCIEMLIESTGMVSLHRQNAGVVGQDSETIELAPEYAEAIATRAGALAGISPMFQPCVVPPKPWTGITGGGYWANGRRPLALVRTHSKKALMRYEDVYMPEVYKAINIAQNTAWKINKKVLAVANVITKWKHCPVEDIPAIEREELPMKPEDIDMNPEALTAWKRAAAAVYRKDKARKSRRISLEFMLEQANKFANHKAIWFPYNMDWRGRVYAVSMFNPQGNDMTKGLLTLAKGKPIGKEGYYWLKIHGANCAGVDKVPFPERIKFIEENHENIMACAKSPLENTWWAEQDSPFCFLAFCFEYAGVQHHGLSYNCSLPLAFDGSCSGIQHFSAMLRDEVGGRAVNLLPSETVQDIYGIVAKKVNEILQADAINGTDNEVVTVTDENTGEISEKVKLGTKALAGQWLAYGVTRSVTKRSVMTLAYGSKEFGFRQQVLEDTIQPAIDSGKGLMFTQPNQAAGYMAKLIWESVSVTVVAAVEAMNWLKSAAKLLAAEVKDKKTGEILRKRCAVHWVTPDGFPVWQEYKKPIQTRLNLMFLGQFRLQPTINTNKDSEIDAHKQESGIAPNFVHSQDGSHLRKTVVWAHEKYGIESFALIHDSFGTIPADAANLFKAVRETMVDTYESCDVLADFYDQFADQLHESQLDKMPALPAKGNLNLRDILESDFAFA'"
      ]
     },
     "execution_count": 56,
     "metadata": {},
     "output_type": "execute_result"
    }
   ],
   "source": [
    "# Step 2: Modify the original seq by replacing characters at the found indices with 'X'\n",
    "seq_list = list(seq)  # Convert the sequence to a list to allow mutation\n",
    "for idx in x_indices:\n",
    "    seq_list[idx] = 'X'\n",
    "\n",
    "# Convert the modified list back to a string\n",
    "modified_seq = ''.join(seq_list)\n",
    "modified_seq"
   ]
  },
  {
   "cell_type": "code",
   "execution_count": 30,
   "metadata": {},
   "outputs": [],
   "source": [
    "from Bio import PDB\n",
    "\n",
    "from Bio import PDB\n",
    "\n",
    "def chop_pdb(input_pdb: str, output_pdb: str, start_resid: int, end_resid: int, chain_id: str):\n",
    "    # Initialize the parser and structure\n",
    "    parser = PDB.PDBParser(QUIET=True)\n",
    "    structure = parser.get_structure(\"structure\", input_pdb)\n",
    "    \n",
    "    # Initialize the writer\n",
    "    io = PDB.PDBIO()\n",
    "\n",
    "    # Define a select class to filter the residues in the specific chain\n",
    "    class ResidueSelect(PDB.Select):\n",
    "        def accept_residue(self, residue):\n",
    "            # Only accept residues in the specified chain with a residue ID greater than or equal to start_resid\n",
    "            if residue.parent.id == chain_id and residue.id[1] >= start_resid and residue.id[1] <= end_resid:\n",
    "                return True\n",
    "            return False\n",
    "\n",
    "    # Save the chopped structure to the output file\n",
    "    io.set_structure(structure)\n",
    "    io.save(output_pdb, ResidueSelect())\n",
    "\n",
    "    print(f\"Saved chopped structure starting from residue {start_resid} in chain {chain_id} to {output_pdb}\")\n"
   ]
  },
  {
   "cell_type": "code",
   "execution_count": null,
   "metadata": {},
   "outputs": [],
   "source": [
    "# Example usage\n",
    "input_pdb = \"/disk2/fli/SSMuLA/data/T7/T7.pdb\"  # Replace with your input PDB file\n",
    "output_pdb = \"/disk2/fli/SSMuLA/data/T7/T7_processed.pdb\"  # Replace with your desired output PDB file\n",
    "start_resid = 71  # Replace with the starting residue ID you want\n",
    "\n",
    "chop_pdb(input_pdb, output_pdb, start_resid, \"A\")\n"
   ]
  },
  {
   "cell_type": "code",
   "execution_count": 32,
   "metadata": {},
   "outputs": [
    {
     "name": "stdout",
     "output_type": "stream",
     "text": [
      "Saved chopped structure starting from residue 5 in chain A to /disk2/fli/SSMuLA/data/TEV/TEV_processed.pdb\n"
     ]
    }
   ],
   "source": [
    "input_pdb = \"/disk2/fli/SSMuLA/data/TEV/TEV.pdb\"  # Replace with your input PDB file\n",
    "output_pdb = \"/disk2/fli/SSMuLA/data/TEV/TEV_processed.pdb\"  # Replace with your desired output PDB file\n",
    "start_resid = 5  # Replace with the starting residue ID you want\n",
    "\n",
    "chop_pdb(input_pdb, output_pdb, start_resid, 218, \"A\")"
   ]
  },
  {
   "cell_type": "code",
   "execution_count": 45,
   "metadata": {},
   "outputs": [
    {
     "data": {
      "text/plain": [
       "(0, 883)"
      ]
     },
     "execution_count": 45,
     "metadata": {},
     "output_type": "execute_result"
    }
   ],
   "source": [
    "begin, end"
   ]
  },
  {
   "cell_type": "code",
   "execution_count": 50,
   "metadata": {},
   "outputs": [
    {
     "data": {
      "text/plain": [
       "'IAKNDFSDIELAAIPFNTLADHYGERLAREQLALEHESYEMGEARFRKMFERQLKAGEVADNAAAKPLITTLLPKMIARINDWFEEVKAKRGKRPTAFQFLQEIKPEAVAYITIKTTLACLTSADNTTVQAVASAIGRAIEDEARFGRIRDLEAKHFKKNVEEQLNKRVGHVYKKAFMQVVEADMLSKGLLGGEAWSSWHKEDSIHVGVRCIEMLIESTGMVSLHRQNAGVVGQDSETIELAPEYAEAIATRAGALAGISPMFQPCVVPPKPWTGITGGGYWANGRRPLALVRTHSKKALMRYEDVYMPEVYKAINIAQNTAWKINKKVLAVANVITKWKHCPVEDIPAIEREELPMKPEDIDMNPEALTAWKRAAAAVYRKDKARKSRRISLEFMLEQANKFANHKAIWFPYNMDWRGRVYAVSMFNPQGNDMTKGLLTLAKGKPIGKEGYYWLKIHGANCAGVDKVPFPERIKFIEENHENIMACAKSPLENTWWAEQDSPFCFLAFCFEYAGVQHHGLSYNCSLPLAFDGSCSGIQHFSAMLRDEVGGRAVNLLPSETVQDIYGIVAKKVNEILQADAINGTDNEVVTVTDENTGEISEKVKLGTKALAGQWLAYGVTRSVTKRSVMTLAYGSKEFGFRQQVLEDTIQPAIDSGKGLMFTQPNQAAGYMAKLIWESVSVTVVAAVEAMNWLKSAAKLLAAEVKDKKTGEILRKRCAVHWVTPDGFPVWQEYKKPIQTRLNLMFLGQFRLQPTINTNKDSEIDAHKQESGIAPNFVHSQDGSHLRKTVVWAHEKYGIESFALIHDSFGTIPADAANLFKAVRETMVDTYESCDVLADFYDQFADQLHESQLDKMPALPAKGNLNLRDILESDFAFA'"
      ]
     },
     "execution_count": 50,
     "metadata": {},
     "output_type": "execute_result"
    }
   ],
   "source": [
    "aligned_seq1[start_index_seq2:end_index_seq2+1]"
   ]
  },
  {
   "cell_type": "code",
   "execution_count": 44,
   "metadata": {},
   "outputs": [
    {
     "data": {
      "text/plain": [
       "'-----IAKNDFSDIELAAIPFNTLADHYGERLAREQLALEHESYEMGEARFRKMFXXXXXXXXXXXXXXXXPLITTLLPKMIARINDWFEEVKAKRGKRPTAFQFLQEIKPEAVAYITIKTTLACLTSADNTTVQAVASAIGRAIEDEARFGRIRDLEAKHFKKNVEEQLNKRVGHVYKKAFMQVVEADMLSKGLLGGEAWSSWHKEDSIHVGVRCIEMLIESTGMVSLHRQNAGVVGQDSETIELAPEYAEAIATRAGALAGISPMFQPCVVPPKPWTGITGGGYWANGRRPLALVRTHSKKALMRYEDVYMPEVYKAINIAQNTAWKINKKVLAVANVITKWKHCPVEDIPAIEREELPMKPEDIDMNPEALTAWKRAAAAVYRKDKARKSRRISLEFMLEQANKFANHKAIWFPYNMDWRGRVYAVSMFNPQGNDMTKGLLTLAKGKPIGKEGYYWLKIHGANCAGVDKVPFPERIKFIEENHENIMACAKSPLENTWWAEQDSPFCFLAFCFEYAGVQHHGLSYNCSLPLAFDGSCSGIQHFSAMLRDEVGGRAVNLLPSETVQDIYGIVAKKVNEILQADAINGTDNEVVTVTDENTGEISEKVKLGTKALAGQWLAYGVTRSVTKRSVMTLAYGSKEFGFRQQVLEDTIQPAIDSGKGLMFTQPNQAAGYMAKLIWESVSVTVVAAVEAMNWLKSAAKLLAAEVKDKKTGEILRKRCAVHWVTPDGFPVWQEYKKPIQTRLNLMFLGQFRLQPTINTNKDSEIDAHKQESGIAPNFVHSQDGSHLRKTVVWAHEKYGIESFALIHDSFGTIPADAANLFKAVRETMVDTYESCDVLADFYDQFADQLHESQLDKMPALPAKGNLNLRDILESDFAFA'"
      ]
     },
     "execution_count": 44,
     "metadata": {},
     "output_type": "execute_result"
    }
   ],
   "source": [
    "aligned_seq2"
   ]
  },
  {
   "cell_type": "code",
   "execution_count": 16,
   "metadata": {},
   "outputs": [
    {
     "data": {
      "text/plain": [
       "811"
      ]
     },
     "execution_count": 16,
     "metadata": {},
     "output_type": "execute_result"
    }
   ],
   "source": [
    "len(\"PLITTLLPKMIARINDWFEEVKAKRGKRPTAFQFLQEIKPEAVAYITIKTTLACLTSADNTTVQAVASAIGRAIEDEARFGRIRDLEAKHFKKNVEEQLNKRVGHVYKKAFMQVVEADMLSKGLLGGEAWSSWHKEDSIHVGVRCIEMLIESTGMVSLHRQNAGVVGQDSETIELAPEYAEAIATRAGALAGISPMFQPCVVPPKPWTGITGGGYWANGRRPLALVRTHSKKALMRYEDVYMPEVYKAINIAQNTAWKINKKVLAVANVITKWKHCPVEDIPAIEREELPMKPEDIDMNPEALTAWKRAAAAVYRKDKARKSRRISLEFMLEQANKFANHKAIWFPYNMDWRGRVYAVSMFNPQGNDMTKGLLTLAKGKPIGKEGYYWLKIHGANCAGVDKVPFPERIKFIEENHENIMACAKSPLENTWWAEQDSPFCFLAFCFEYAGVQHHGLSYNCSLPLAFDGSCSGIQHFSAMLRDEVGGRAVNLLPSETVQDIYGIVAKKVNEILQADAINGTDNEVVTVTDENTGEISEKVKLGTKALAGQWLAYGVTRSVTKRSVMTLAYGSKEFGFRQQVLEDTIQPAIDSGKGLMFTQPNQAAGYMAKLIWESVSVTVVAAVEAMNWLKSAAKLLAAEVKDKKTGEILRKRCAVHWVTPDGFPVWQEYKKPIQTRLHLMFLGQFTLYPTINTNKDSEIDAHKQESGIAPNFVHSQDGSHLRKTVVWAHEKYGIESFALIHDSFGTIPADAANLFKAVRETMVDTYESCDVLADFYDQFADQLHESQLDKMPALPAKGNLNLRDILESDFAF\")"
   ]
  },
  {
   "cell_type": "code",
   "execution_count": 26,
   "metadata": {},
   "outputs": [
    {
     "name": "stdout",
     "output_type": "stream",
     "text": [
      "target            0 MNTINIAKNDFSDIELAAIPFNTLADHYGERLAREQLALEHESYEMGEARFRKMFERQLK\n",
      "                  0 ---|--|||||||||||||||||||||||||||||||||||||||||||||||||.....\n",
      "query             0 ---I--AKNDFSDIELAAIPFNTLADHYGERLAREQLALEHESYEMGEARFRKMFXXXXX\n",
      "\n",
      "target           60 AGEVADNAAAKPLITTLLPKMIARINDWFEEVKAKRGKRPTAFQFLQEIKPEAVAYITIK\n",
      "                 60 ...........|||||||||||||||||||||||||||||||||||||||||||||||||\n",
      "query            55 XXXXXXXXXXXPLITTLLPKMIARINDWFEEVKAKRGKRPTAFQFLQEIKPEAVAYITIK\n",
      "\n",
      "target          120 TTLACLTSADNTTVQAVASAIGRAIEDEARFGRIRDLEAKHFKKNVEEQLNKRVGHVYKK\n",
      "                120 ||||||||||||||||||||||||||||||||||||||||||||||||||||||||||||\n",
      "query           115 TTLACLTSADNTTVQAVASAIGRAIEDEARFGRIRDLEAKHFKKNVEEQLNKRVGHVYKK\n",
      "\n",
      "target          180 AFMQVVEADMLSKGLLGGEAWSSWHKEDSIHVGVRCIEMLIESTGMVSLHRQNAGVVGQD\n",
      "                180 ||||||||||||||||||||||||||||||||||||||||||||||||||||||||||||\n",
      "query           175 AFMQVVEADMLSKGLLGGEAWSSWHKEDSIHVGVRCIEMLIESTGMVSLHRQNAGVVGQD\n",
      "\n",
      "target          240 SETIELAPEYAEAIATRAGALAGISPMFQPCVVPPKPWTGITGGGYWANGRRPLALVRTH\n",
      "                240 ||||||||||||||||||||||||||||||||||||||||||||||||||||||||||||\n",
      "query           235 SETIELAPEYAEAIATRAGALAGISPMFQPCVVPPKPWTGITGGGYWANGRRPLALVRTH\n",
      "\n",
      "target          300 SKKALMRYEDVYMPEVYKAINIAQNTAWKINKKVLAVANVITKWKHCPVEDIPAIEREEL\n",
      "                300 ||||||||||||||||||||||||||||||||||||||||||||||||||||||||||||\n",
      "query           295 SKKALMRYEDVYMPEVYKAINIAQNTAWKINKKVLAVANVITKWKHCPVEDIPAIEREEL\n",
      "\n",
      "target          360 PMKPEDIDMNPEALTAWKRAAAAVYRKDKARKSRRISLEFMLEQANKFANHKAIWFPYNM\n",
      "                360 ||||||||||||||||||||||||||||||||||||||||||||||||||||||||||||\n",
      "query           355 PMKPEDIDMNPEALTAWKRAAAAVYRKDKARKSRRISLEFMLEQANKFANHKAIWFPYNM\n",
      "\n",
      "target          420 DWRGRVYAVSMFNPQGNDMTKGLLTLAKGKPIGKEGYYWLKIHGANCAGVDKVPFPERIK\n",
      "                420 ||||||||||||||||||||||||||||||||||||||||||||||||||||||||||||\n",
      "query           415 DWRGRVYAVSMFNPQGNDMTKGLLTLAKGKPIGKEGYYWLKIHGANCAGVDKVPFPERIK\n",
      "\n",
      "target          480 FIEENHENIMACAKSPLENTWWAEQDSPFCFLAFCFEYAGVQHHGLSYNCSLPLAFDGSC\n",
      "                480 ||||||||||||||||||||||||||||||||||||||||||||||||||||||||||||\n",
      "query           475 FIEENHENIMACAKSPLENTWWAEQDSPFCFLAFCFEYAGVQHHGLSYNCSLPLAFDGSC\n",
      "\n",
      "target          540 SGIQHFSAMLRDEVGGRAVNLLPSETVQDIYGIVAKKVNEILQADAINGTDNEVVTVTDE\n",
      "                540 ||||||||||||||||||||||||||||||||||||||||||||||||||||||||||||\n",
      "query           535 SGIQHFSAMLRDEVGGRAVNLLPSETVQDIYGIVAKKVNEILQADAINGTDNEVVTVTDE\n",
      "\n",
      "target          600 NTGEISEKVKLGTKALAGQWLAYGVTRSVTKRSVMTLAYGSKEFGFRQQVLEDTIQPAID\n",
      "                600 ||||||||||||||||||||||||||||||||||||||||||||||||||||||||||||\n",
      "query           595 NTGEISEKVKLGTKALAGQWLAYGVTRSVTKRSVMTLAYGSKEFGFRQQVLEDTIQPAID\n",
      "\n",
      "target          660 SGKGLMFTQPNQAAGYMAKLIWESVSVTVVAAVEAMNWLKSAAKLLAAEVKDKKTGEILR\n",
      "                660 ||||||||||||||||||||||||||||||||||||||||||||||||||||||||||||\n",
      "query           655 SGKGLMFTQPNQAAGYMAKLIWESVSVTVVAAVEAMNWLKSAAKLLAAEVKDKKTGEILR\n",
      "\n",
      "target          720 KRCAVHWVTPDGFPVWQEYKKPIQTRLNLMFLGQFRLQPTINTNKDSEIDAHKQESGIAP\n",
      "                720 ||||||||||||||||||||||||||||||||||||||||||||||||||||||||||||\n",
      "query           715 KRCAVHWVTPDGFPVWQEYKKPIQTRLNLMFLGQFRLQPTINTNKDSEIDAHKQESGIAP\n",
      "\n",
      "target          780 NFVHSQDGSHLRKTVVWAHEKYGIESFALIHDSFGTIPADAANLFKAVRETMVDTYESCD\n",
      "                780 ||||||||||||||||||||||||||||||||||||||||||||||||||||||||||||\n",
      "query           775 NFVHSQDGSHLRKTVVWAHEKYGIESFALIHDSFGTIPADAANLFKAVRETMVDTYESCD\n",
      "\n",
      "target          840 VLADFYDQFADQLHESQLDKMPALPAKGNLNLRDILESDFAFA 883\n",
      "                840 ||||||||||||||||||||||||||||||||||||||||||| 883\n",
      "query           835 VLADFYDQFADQLHESQLDKMPALPAKGNLNLRDILESDFAFA 878\n",
      "\n"
     ]
    }
   ],
   "source": [
    "from Bio.Align import substitution_matrices, PairwiseAligner\n",
    "\n",
    "aligner = PairwiseAligner()\n",
    "\n",
    "# Use the default substitution matrix and modify it for the wildcard 'X'\n",
    "matrix = substitution_matrices.load(\"BLOSUM62\")\n",
    "\n",
    "# Allow 'X' to align with anything with no penalty\n",
    "for residue in matrix.alphabet:\n",
    "    matrix['X', residue] = 2  # High score for aligning 'X' with anything\n",
    "    matrix[residue, 'X'] = 2\n",
    "\n",
    "aligner.substitution_matrix = matrix\n",
    "aligner.mode = 'global'\n",
    "\n",
    "# Perform the alignment\n",
    "\n",
    "# Print the best alignment\n",
    "print(aligner.align(seq, pdb_seq)[0])\n"
   ]
  },
  {
   "cell_type": "code",
   "execution_count": 35,
   "metadata": {},
   "outputs": [],
   "source": [
    "part_before, part_after = find_missing_str(longer=seq, shorter=pdb_seq)"
   ]
  },
  {
   "cell_type": "code",
   "execution_count": 36,
   "metadata": {},
   "outputs": [
    {
     "data": {
      "text/plain": [
       "''"
      ]
     },
     "execution_count": 36,
     "metadata": {},
     "output_type": "execute_result"
    }
   ],
   "source": [
    "part_before"
   ]
  },
  {
   "cell_type": "code",
   "execution_count": 37,
   "metadata": {},
   "outputs": [
    {
     "data": {
      "text/plain": [
       "''"
      ]
     },
     "execution_count": 37,
     "metadata": {},
     "output_type": "execute_result"
    }
   ],
   "source": [
    "part_after"
   ]
  },
  {
   "cell_type": "code",
   "execution_count": 48,
   "metadata": {},
   "outputs": [
    {
     "name": "stdout",
     "output_type": "stream",
     "text": [
      "DHFR\n",
      "data/DHFR/DHFR.pdb\n",
      "73 159\n",
      "MISLIAALAVDRVIGMENAMPWNLPADLAWFKRNTLNKPVIMGRHTWESIGRPLPGRKNIILSSQPGTDDRVT MISLIAALAVDRVIGMENAMPWNLPADLAWFKRNTLNKPVIMGRHTWESIGRPLPGRKNIILSSQPGTDDRVTWVKSVDEAIAACGDVPEIMVIGGGRVYEQFLPKAQKLYLTHIDAEVEGDTHFPDYEPDDWESVFSEFHDADAQNSHSYCFEILERR\n",
      "Global Alignment:\n",
      "MISLIAALAVDRVIGMENAMPWNLPADLAWFKRNTLNKPVIMGRHTWESIGRPLPGRKNIILSSQPGTDDRVT--------------------------------------------------------------------------------------\n",
      "|||||||||||||||||||||||||||||||||||||||||||||||||||||||||||||||||||||||||                                                                                      \n",
      "MISLIAALAVDRVIGMENAMPWNLPADLAWFKRNTLNKPVIMGRHTWESIGRPLPGRKNIILSSQPGTDDRVTWVKSVDEAIAACGDVPEIMVIGGGRVYEQFLPKAQKLYLTHIDAEVEGDTHFPDYEPDDWESVFSEFHDADAQNSHSYCFEILERR\n",
      "  Score=73\n",
      "\n",
      "ParD2\n",
      "data/ParD2/ParD2.pdb\n",
      "91 87\n",
      "MANVEKMSVAVTPQQAAVMREAVEAGEYATASEIVREAVRDWLAKRELREAEAERLRKAWIEGLESGPFAPFDIEDIKQKARSRLVDAIKK NVEKMSVAVTPQQAAVMREAVEAGEYATASEIVREAVRDWLAKRELREAEAERLRKAWIEGLESGPFAPFDIEDIKQKARSRLVDAI\n",
      "Global Alignment:\n",
      "MANVEKMSVAVTPQQAAVMREAVEAGEYATASEIVREAVRDWLAKRELREAEAERLRKAWIEGLESGPFAPFDIEDIKQKARSRLVDAIKK\n",
      "  |||||||||||||||||||||||||||||||||||||||||||||||||||||||||||||||||||||||||||||||||||||||  \n",
      "--NVEKMSVAVTPQQAAVMREAVEAGEYATASEIVREAVRDWLAKRELREAEAERLRKAWIEGLESGPFAPFDIEDIKQKARSRLVDAI--\n",
      "  Score=87\n",
      "\n",
      "ParD3\n",
      "data/ParD3/ParD3.pdb\n",
      "93 85\n",
      "MANVEKMSVAVTPQQAAVMREAVEAGEYATASEIVREAVRDWLAKRELRHDDIRRLRQLWDEGKASGRPEPVDFDALRKEARQKLTEVPPNGR NVEKMSVAVTPQQAAVMREAVEAGEYATASEIVREAVRDWLAKRELRHDDIRRLRQLWDEGKASGRPEPVDFDALRKEARQKLTE\n",
      "Global Alignment:\n",
      "MANVEKMSVAVTPQQAAVMREAVEAGEYATASEIVREAVRDWLAKRELRHDDIRRLRQLWDEGKASGRPEPVDFDALRKEARQKLTEVPPNGR\n",
      "  |||||||||||||||||||||||||||||||||||||||||||||||||||||||||||||||||||||||||||||||||||||      \n",
      "--NVEKMSVAVTPQQAAVMREAVEAGEYATASEIVREAVRDWLAKRELRHDDIRRLRQLWDEGKASGRPEPVDFDALRKEARQKLTE------\n",
      "  Score=85\n",
      "\n",
      "GB1\n",
      "data/GB1/GB1.pdb\n",
      "56 56\n",
      "TrpB3A\n",
      "data/TrpB/TrpB.pdb\n",
      "390 388\n",
      "MKGYFGPYGGQYVPEILMGALEELEAAYEGIMKDESFWKEFNDLLRDYAGRPTPLYFARRLSEKYGARVYLKREDLLHTGAHKINNAIGQVLLAKLMGKTRIIAETGAGQHGVATATAAALFGMECVIYMGEEDTIRQKLNVERMKLLGAKVVPVKSGSRTLKDAIDEALRDWITNLQTTYYVFGSVVGPHPYPIIVRNFQKVIGEETKKQIPEKEGRLPDYIVACVSGGSNAAGIFYPFIDSGVKLIGVEAGGEGLETGKHAASLLKGKIGYLHGSKTFVLQDDWGQVQVSHSVSAGLDYSGVGPEHAYWRETGKVLYDAVTDEEALDAFIELSRLEGIIPALESSHALAYLKKINIKGKVVVVNLSGRGDKDLESVLNHPYVRERIRL GYFGPYGGQYVPEILMGALEELEAAYEGIMKDESFWKEFNDLLRDYAGRPTPLYFARRLSEKYGARVYLKREDLLHTGAHKINNAIGQVLLAKLMGKTRIIAETGAGQHGVATATAAALFGMECVIYMGEEDTIRQKLNVERMKLLGAKVVPVKSGSRTLKDAIDEALRDWITNLQTTYYVFGSVVGPHPYPIIVRNFQKVIGEETKKQIPEKEGRLPDYIVACVSGGSNAAGIFYPFIDSGVKLIGVEAGGEGLETGKHAASLLKGKIGYLHGSKTFVLQDDWGQVQVSHSVSAGLDYSGVGPEHAYWRETGKVLYDAVTDEEALDAFIELSRLEGIIPALESSHALAYLKKINIKGKVVVVNLSGRGDKDLESVLNHPYVRERIRL\n",
      "Global Alignment:\n",
      "MKGYFGPYGGQYVPEILMGALEELEAAYEGIMKDESFWKEFNDLLRDYAGRPTPLYFARRLSEKYGARVYLKREDLLHTGAHKINNAIGQVLLAKLMGKTRIIAETGAGQHGVATATAAALFGMECVIYMGEEDTIRQKLNVERMKLLGAKVVPVKSGSRTLKDAIDEALRDWITNLQTTYYVFGSVVGPHPYPIIVRNFQKVIGEETKKQIPEKEGRLPDYIVACVSGGSNAAGIFYPFIDSGVKLIGVEAGGEGLETGKHAASLLKGKIGYLHGSKTFVLQDDWGQVQVSHSVSAGLDYSGVGPEHAYWRETGKVLYDAVTDEEALDAFIELSRLEGIIPALESSHALAYLKKINIKGKVVVVNLSGRGDKDLESVLNHPYVRERIRL\n",
      "  ||||||||||||||||||||||||||||||||||||||||||||||||||||||||||||||||||||||||||||||||||||||||||||||||||||||||||||||||||||||||||||||||||||||||||||||||||||||||||||||||||||||||||||||||||||||||||||||||||||||||||||||||||||||||||||||||||||||||||||||||||||||||||||||||||||||||||||||||||||||||||||||||||||||||||||||||||||||||||||||||||||||||||||||||||||||||||||||||||||||||||||||||||||||||||||||||||||\n",
      "--GYFGPYGGQYVPEILMGALEELEAAYEGIMKDESFWKEFNDLLRDYAGRPTPLYFARRLSEKYGARVYLKREDLLHTGAHKINNAIGQVLLAKLMGKTRIIAETGAGQHGVATATAAALFGMECVIYMGEEDTIRQKLNVERMKLLGAKVVPVKSGSRTLKDAIDEALRDWITNLQTTYYVFGSVVGPHPYPIIVRNFQKVIGEETKKQIPEKEGRLPDYIVACVSGGSNAAGIFYPFIDSGVKLIGVEAGGEGLETGKHAASLLKGKIGYLHGSKTFVLQDDWGQVQVSHSVSAGLDYSGVGPEHAYWRETGKVLYDAVTDEEALDAFIELSRLEGIIPALESSHALAYLKKINIKGKVVVVNLSGRGDKDLESVLNHPYVRERIRL\n",
      "  Score=388\n",
      "\n",
      "TrpB3B\n",
      "data/TrpB/TrpB.pdb\n",
      "390 388\n",
      "MKGYFGPYGGQYVPEILMGALEELEAAYEGIMKDESFWKEFNDLLRDYAGRPTPLYFARRLSEKYGARVYLKREDLLHTGAHKINNAIGQVLLAKLMGKTRIIAETGAGQHGVATATAAALFGMECVIYMGEEDTIRQKLNVERMKLLGAKVVPVKSGSRTLKDAIDEALRDWITNLQTTYYVFGSVVGPHPYPIIVRNFQKVIGEETKKQIPEKEGRLPDYIVACVSGGSNAAGIFYPFIDSGVKLIGVEAGGEGLETGKHAASLLKGKIGYLHGSKTFVLQDDWGQVQVSHSVSAGLDYSGVGPEHAYWRETGKVLYDAVTDEEALDAFIELSRLEGIIPALESSHALAYLKKINIKGKVVVVNLSGRGDKDLESVLNHPYVRERIRL GYFGPYGGQYVPEILMGALEELEAAYEGIMKDESFWKEFNDLLRDYAGRPTPLYFARRLSEKYGARVYLKREDLLHTGAHKINNAIGQVLLAKLMGKTRIIAETGAGQHGVATATAAALFGMECVIYMGEEDTIRQKLNVERMKLLGAKVVPVKSGSRTLKDAIDEALRDWITNLQTTYYVFGSVVGPHPYPIIVRNFQKVIGEETKKQIPEKEGRLPDYIVACVSGGSNAAGIFYPFIDSGVKLIGVEAGGEGLETGKHAASLLKGKIGYLHGSKTFVLQDDWGQVQVSHSVSAGLDYSGVGPEHAYWRETGKVLYDAVTDEEALDAFIELSRLEGIIPALESSHALAYLKKINIKGKVVVVNLSGRGDKDLESVLNHPYVRERIRL\n",
      "Global Alignment:\n",
      "MKGYFGPYGGQYVPEILMGALEELEAAYEGIMKDESFWKEFNDLLRDYAGRPTPLYFARRLSEKYGARVYLKREDLLHTGAHKINNAIGQVLLAKLMGKTRIIAETGAGQHGVATATAAALFGMECVIYMGEEDTIRQKLNVERMKLLGAKVVPVKSGSRTLKDAIDEALRDWITNLQTTYYVFGSVVGPHPYPIIVRNFQKVIGEETKKQIPEKEGRLPDYIVACVSGGSNAAGIFYPFIDSGVKLIGVEAGGEGLETGKHAASLLKGKIGYLHGSKTFVLQDDWGQVQVSHSVSAGLDYSGVGPEHAYWRETGKVLYDAVTDEEALDAFIELSRLEGIIPALESSHALAYLKKINIKGKVVVVNLSGRGDKDLESVLNHPYVRERIRL\n",
      "  ||||||||||||||||||||||||||||||||||||||||||||||||||||||||||||||||||||||||||||||||||||||||||||||||||||||||||||||||||||||||||||||||||||||||||||||||||||||||||||||||||||||||||||||||||||||||||||||||||||||||||||||||||||||||||||||||||||||||||||||||||||||||||||||||||||||||||||||||||||||||||||||||||||||||||||||||||||||||||||||||||||||||||||||||||||||||||||||||||||||||||||||||||||||||||||||||||||\n",
      "--GYFGPYGGQYVPEILMGALEELEAAYEGIMKDESFWKEFNDLLRDYAGRPTPLYFARRLSEKYGARVYLKREDLLHTGAHKINNAIGQVLLAKLMGKTRIIAETGAGQHGVATATAAALFGMECVIYMGEEDTIRQKLNVERMKLLGAKVVPVKSGSRTLKDAIDEALRDWITNLQTTYYVFGSVVGPHPYPIIVRNFQKVIGEETKKQIPEKEGRLPDYIVACVSGGSNAAGIFYPFIDSGVKLIGVEAGGEGLETGKHAASLLKGKIGYLHGSKTFVLQDDWGQVQVSHSVSAGLDYSGVGPEHAYWRETGKVLYDAVTDEEALDAFIELSRLEGIIPALESSHALAYLKKINIKGKVVVVNLSGRGDKDLESVLNHPYVRERIRL\n",
      "  Score=388\n",
      "\n",
      "TrpB3C\n",
      "data/TrpB/TrpB.pdb\n",
      "390 388\n",
      "MKGYFGPYGGQYVPEILMGALEELEAAYEGIMKDESFWKEFNDLLRDYAGRPTPLYFARRLSEKYGARVYLKREDLLHTGAHKINNAIGQVLLAKLMGKTRIIAETGAGQHGVATATAAALFGMECVIYMGEEDTIRQKLNVERMKLLGAKVVPVKSGSRTLKDAIDEALRDWITNLQTTYYVFGSVVGPHPYPIIVRNFQKVIGEETKKQIPEKEGRLPDYIVACVSGGSNAAGIFYPFIDSGVKLIGVEAGGEGLETGKHAASLLKGKIGYLHGSKTFVLQDDWGQVQVSHSVSAGLDYSGVGPEHAYWRETGKVLYDAVTDEEALDAFIELSRLEGIIPALESSHALAYLKKINIKGKVVVVNLSGRGDKDLESVLNHPYVRERIRL GYFGPYGGQYVPEILMGALEELEAAYEGIMKDESFWKEFNDLLRDYAGRPTPLYFARRLSEKYGARVYLKREDLLHTGAHKINNAIGQVLLAKLMGKTRIIAETGAGQHGVATATAAALFGMECVIYMGEEDTIRQKLNVERMKLLGAKVVPVKSGSRTLKDAIDEALRDWITNLQTTYYVFGSVVGPHPYPIIVRNFQKVIGEETKKQIPEKEGRLPDYIVACVSGGSNAAGIFYPFIDSGVKLIGVEAGGEGLETGKHAASLLKGKIGYLHGSKTFVLQDDWGQVQVSHSVSAGLDYSGVGPEHAYWRETGKVLYDAVTDEEALDAFIELSRLEGIIPALESSHALAYLKKINIKGKVVVVNLSGRGDKDLESVLNHPYVRERIRL\n",
      "Global Alignment:\n",
      "MKGYFGPYGGQYVPEILMGALEELEAAYEGIMKDESFWKEFNDLLRDYAGRPTPLYFARRLSEKYGARVYLKREDLLHTGAHKINNAIGQVLLAKLMGKTRIIAETGAGQHGVATATAAALFGMECVIYMGEEDTIRQKLNVERMKLLGAKVVPVKSGSRTLKDAIDEALRDWITNLQTTYYVFGSVVGPHPYPIIVRNFQKVIGEETKKQIPEKEGRLPDYIVACVSGGSNAAGIFYPFIDSGVKLIGVEAGGEGLETGKHAASLLKGKIGYLHGSKTFVLQDDWGQVQVSHSVSAGLDYSGVGPEHAYWRETGKVLYDAVTDEEALDAFIELSRLEGIIPALESSHALAYLKKINIKGKVVVVNLSGRGDKDLESVLNHPYVRERIRL\n",
      "  ||||||||||||||||||||||||||||||||||||||||||||||||||||||||||||||||||||||||||||||||||||||||||||||||||||||||||||||||||||||||||||||||||||||||||||||||||||||||||||||||||||||||||||||||||||||||||||||||||||||||||||||||||||||||||||||||||||||||||||||||||||||||||||||||||||||||||||||||||||||||||||||||||||||||||||||||||||||||||||||||||||||||||||||||||||||||||||||||||||||||||||||||||||||||||||||||||||\n",
      "--GYFGPYGGQYVPEILMGALEELEAAYEGIMKDESFWKEFNDLLRDYAGRPTPLYFARRLSEKYGARVYLKREDLLHTGAHKINNAIGQVLLAKLMGKTRIIAETGAGQHGVATATAAALFGMECVIYMGEEDTIRQKLNVERMKLLGAKVVPVKSGSRTLKDAIDEALRDWITNLQTTYYVFGSVVGPHPYPIIVRNFQKVIGEETKKQIPEKEGRLPDYIVACVSGGSNAAGIFYPFIDSGVKLIGVEAGGEGLETGKHAASLLKGKIGYLHGSKTFVLQDDWGQVQVSHSVSAGLDYSGVGPEHAYWRETGKVLYDAVTDEEALDAFIELSRLEGIIPALESSHALAYLKKINIKGKVVVVNLSGRGDKDLESVLNHPYVRERIRL\n",
      "  Score=388\n",
      "\n",
      "TrpB3D\n",
      "data/TrpB/TrpB.pdb\n",
      "390 388\n",
      "MKGYFGPYGGQYVPEILMGALEELEAAYEGIMKDESFWKEFNDLLRDYAGRPTPLYFARRLSEKYGARVYLKREDLLHTGAHKINNAIGQVLLAKLMGKTRIIAETGAGQHGVATATAAALFGMECVIYMGEEDTIRQKLNVERMKLLGAKVVPVKSGSRTLKDAIDEALRDWITNLQTTYYVFGSVVGPHPYPIIVRNFQKVIGEETKKQIPEKEGRLPDYIVACVSGGSNAAGIFYPFIDSGVKLIGVEAGGEGLETGKHAASLLKGKIGYLHGSKTFVLQDDWGQVQVSHSVSAGLDYSGVGPEHAYWRETGKVLYDAVTDEEALDAFIELSRLEGIIPALESSHALAYLKKINIKGKVVVVNLSGRGDKDLESVLNHPYVRERIRL GYFGPYGGQYVPEILMGALEELEAAYEGIMKDESFWKEFNDLLRDYAGRPTPLYFARRLSEKYGARVYLKREDLLHTGAHKINNAIGQVLLAKLMGKTRIIAETGAGQHGVATATAAALFGMECVIYMGEEDTIRQKLNVERMKLLGAKVVPVKSGSRTLKDAIDEALRDWITNLQTTYYVFGSVVGPHPYPIIVRNFQKVIGEETKKQIPEKEGRLPDYIVACVSGGSNAAGIFYPFIDSGVKLIGVEAGGEGLETGKHAASLLKGKIGYLHGSKTFVLQDDWGQVQVSHSVSAGLDYSGVGPEHAYWRETGKVLYDAVTDEEALDAFIELSRLEGIIPALESSHALAYLKKINIKGKVVVVNLSGRGDKDLESVLNHPYVRERIRL\n",
      "Global Alignment:\n",
      "MKGYFGPYGGQYVPEILMGALEELEAAYEGIMKDESFWKEFNDLLRDYAGRPTPLYFARRLSEKYGARVYLKREDLLHTGAHKINNAIGQVLLAKLMGKTRIIAETGAGQHGVATATAAALFGMECVIYMGEEDTIRQKLNVERMKLLGAKVVPVKSGSRTLKDAIDEALRDWITNLQTTYYVFGSVVGPHPYPIIVRNFQKVIGEETKKQIPEKEGRLPDYIVACVSGGSNAAGIFYPFIDSGVKLIGVEAGGEGLETGKHAASLLKGKIGYLHGSKTFVLQDDWGQVQVSHSVSAGLDYSGVGPEHAYWRETGKVLYDAVTDEEALDAFIELSRLEGIIPALESSHALAYLKKINIKGKVVVVNLSGRGDKDLESVLNHPYVRERIRL\n",
      "  ||||||||||||||||||||||||||||||||||||||||||||||||||||||||||||||||||||||||||||||||||||||||||||||||||||||||||||||||||||||||||||||||||||||||||||||||||||||||||||||||||||||||||||||||||||||||||||||||||||||||||||||||||||||||||||||||||||||||||||||||||||||||||||||||||||||||||||||||||||||||||||||||||||||||||||||||||||||||||||||||||||||||||||||||||||||||||||||||||||||||||||||||||||||||||||||||||||\n",
      "--GYFGPYGGQYVPEILMGALEELEAAYEGIMKDESFWKEFNDLLRDYAGRPTPLYFARRLSEKYGARVYLKREDLLHTGAHKINNAIGQVLLAKLMGKTRIIAETGAGQHGVATATAAALFGMECVIYMGEEDTIRQKLNVERMKLLGAKVVPVKSGSRTLKDAIDEALRDWITNLQTTYYVFGSVVGPHPYPIIVRNFQKVIGEETKKQIPEKEGRLPDYIVACVSGGSNAAGIFYPFIDSGVKLIGVEAGGEGLETGKHAASLLKGKIGYLHGSKTFVLQDDWGQVQVSHSVSAGLDYSGVGPEHAYWRETGKVLYDAVTDEEALDAFIELSRLEGIIPALESSHALAYLKKINIKGKVVVVNLSGRGDKDLESVLNHPYVRERIRL\n",
      "  Score=388\n",
      "\n",
      "TrpB3E\n",
      "data/TrpB/TrpB.pdb\n",
      "390 388\n",
      "MKGYFGPYGGQYVPEILMGALEELEAAYEGIMKDESFWKEFNDLLRDYAGRPTPLYFARRLSEKYGARVYLKREDLLHTGAHKINNAIGQVLLAKLMGKTRIIAETGAGQHGVATATAAALFGMECVIYMGEEDTIRQKLNVERMKLLGAKVVPVKSGSRTLKDAIDEALRDWITNLQTTYYVFGSVVGPHPYPIIVRNFQKVIGEETKKQIPEKEGRLPDYIVACVSGGSNAAGIFYPFIDSGVKLIGVEAGGEGLETGKHAASLLKGKIGYLHGSKTFVLQDDWGQVQVSHSVSAGLDYSGVGPEHAYWRETGKVLYDAVTDEEALDAFIELSRLEGIIPALESSHALAYLKKINIKGKVVVVNLSGRGDKDLESVLNHPYVRERIRL GYFGPYGGQYVPEILMGALEELEAAYEGIMKDESFWKEFNDLLRDYAGRPTPLYFARRLSEKYGARVYLKREDLLHTGAHKINNAIGQVLLAKLMGKTRIIAETGAGQHGVATATAAALFGMECVIYMGEEDTIRQKLNVERMKLLGAKVVPVKSGSRTLKDAIDEALRDWITNLQTTYYVFGSVVGPHPYPIIVRNFQKVIGEETKKQIPEKEGRLPDYIVACVSGGSNAAGIFYPFIDSGVKLIGVEAGGEGLETGKHAASLLKGKIGYLHGSKTFVLQDDWGQVQVSHSVSAGLDYSGVGPEHAYWRETGKVLYDAVTDEEALDAFIELSRLEGIIPALESSHALAYLKKINIKGKVVVVNLSGRGDKDLESVLNHPYVRERIRL\n",
      "Global Alignment:\n",
      "MKGYFGPYGGQYVPEILMGALEELEAAYEGIMKDESFWKEFNDLLRDYAGRPTPLYFARRLSEKYGARVYLKREDLLHTGAHKINNAIGQVLLAKLMGKTRIIAETGAGQHGVATATAAALFGMECVIYMGEEDTIRQKLNVERMKLLGAKVVPVKSGSRTLKDAIDEALRDWITNLQTTYYVFGSVVGPHPYPIIVRNFQKVIGEETKKQIPEKEGRLPDYIVACVSGGSNAAGIFYPFIDSGVKLIGVEAGGEGLETGKHAASLLKGKIGYLHGSKTFVLQDDWGQVQVSHSVSAGLDYSGVGPEHAYWRETGKVLYDAVTDEEALDAFIELSRLEGIIPALESSHALAYLKKINIKGKVVVVNLSGRGDKDLESVLNHPYVRERIRL\n",
      "  ||||||||||||||||||||||||||||||||||||||||||||||||||||||||||||||||||||||||||||||||||||||||||||||||||||||||||||||||||||||||||||||||||||||||||||||||||||||||||||||||||||||||||||||||||||||||||||||||||||||||||||||||||||||||||||||||||||||||||||||||||||||||||||||||||||||||||||||||||||||||||||||||||||||||||||||||||||||||||||||||||||||||||||||||||||||||||||||||||||||||||||||||||||||||||||||||||||\n",
      "--GYFGPYGGQYVPEILMGALEELEAAYEGIMKDESFWKEFNDLLRDYAGRPTPLYFARRLSEKYGARVYLKREDLLHTGAHKINNAIGQVLLAKLMGKTRIIAETGAGQHGVATATAAALFGMECVIYMGEEDTIRQKLNVERMKLLGAKVVPVKSGSRTLKDAIDEALRDWITNLQTTYYVFGSVVGPHPYPIIVRNFQKVIGEETKKQIPEKEGRLPDYIVACVSGGSNAAGIFYPFIDSGVKLIGVEAGGEGLETGKHAASLLKGKIGYLHGSKTFVLQDDWGQVQVSHSVSAGLDYSGVGPEHAYWRETGKVLYDAVTDEEALDAFIELSRLEGIIPALESSHALAYLKKINIKGKVVVVNLSGRGDKDLESVLNHPYVRERIRL\n",
      "  Score=388\n",
      "\n",
      "TrpB3F\n",
      "data/TrpB/TrpB.pdb\n",
      "390 388\n",
      "MKGYFGPYGGQYVPEILMGALEELEAAYEGIMKDESFWKEFNDLLRDYAGRPTPLYFARRLSEKYGARVYLKREDLLHTGAHKINNAIGQVLLAKLMGKTRIIAETGAGQHGVATATAAALFGMECVIYMGEEDTIRQKLNVERMKLLGAKVVPVKSGSRTLKDAIDEALRDWITNLQTTYYVFGSVVGPHPYPIIVRNFQKVIGEETKKQIPEKEGRLPDYIVACVSGGSNAAGIFYPFIDSGVKLIGVEAGGEGLETGKHAASLLKGKIGYLHGSKTFVLQDDWGQVQVSHSVSAGLDYSGVGPEHAYWRETGKVLYDAVTDEEALDAFIELSRLEGIIPALESSHALAYLKKINIKGKVVVVNLSGRGDKDLESVLNHPYVRERIRL GYFGPYGGQYVPEILMGALEELEAAYEGIMKDESFWKEFNDLLRDYAGRPTPLYFARRLSEKYGARVYLKREDLLHTGAHKINNAIGQVLLAKLMGKTRIIAETGAGQHGVATATAAALFGMECVIYMGEEDTIRQKLNVERMKLLGAKVVPVKSGSRTLKDAIDEALRDWITNLQTTYYVFGSVVGPHPYPIIVRNFQKVIGEETKKQIPEKEGRLPDYIVACVSGGSNAAGIFYPFIDSGVKLIGVEAGGEGLETGKHAASLLKGKIGYLHGSKTFVLQDDWGQVQVSHSVSAGLDYSGVGPEHAYWRETGKVLYDAVTDEEALDAFIELSRLEGIIPALESSHALAYLKKINIKGKVVVVNLSGRGDKDLESVLNHPYVRERIRL\n",
      "Global Alignment:\n",
      "MKGYFGPYGGQYVPEILMGALEELEAAYEGIMKDESFWKEFNDLLRDYAGRPTPLYFARRLSEKYGARVYLKREDLLHTGAHKINNAIGQVLLAKLMGKTRIIAETGAGQHGVATATAAALFGMECVIYMGEEDTIRQKLNVERMKLLGAKVVPVKSGSRTLKDAIDEALRDWITNLQTTYYVFGSVVGPHPYPIIVRNFQKVIGEETKKQIPEKEGRLPDYIVACVSGGSNAAGIFYPFIDSGVKLIGVEAGGEGLETGKHAASLLKGKIGYLHGSKTFVLQDDWGQVQVSHSVSAGLDYSGVGPEHAYWRETGKVLYDAVTDEEALDAFIELSRLEGIIPALESSHALAYLKKINIKGKVVVVNLSGRGDKDLESVLNHPYVRERIRL\n",
      "  ||||||||||||||||||||||||||||||||||||||||||||||||||||||||||||||||||||||||||||||||||||||||||||||||||||||||||||||||||||||||||||||||||||||||||||||||||||||||||||||||||||||||||||||||||||||||||||||||||||||||||||||||||||||||||||||||||||||||||||||||||||||||||||||||||||||||||||||||||||||||||||||||||||||||||||||||||||||||||||||||||||||||||||||||||||||||||||||||||||||||||||||||||||||||||||||||||||\n",
      "--GYFGPYGGQYVPEILMGALEELEAAYEGIMKDESFWKEFNDLLRDYAGRPTPLYFARRLSEKYGARVYLKREDLLHTGAHKINNAIGQVLLAKLMGKTRIIAETGAGQHGVATATAAALFGMECVIYMGEEDTIRQKLNVERMKLLGAKVVPVKSGSRTLKDAIDEALRDWITNLQTTYYVFGSVVGPHPYPIIVRNFQKVIGEETKKQIPEKEGRLPDYIVACVSGGSNAAGIFYPFIDSGVKLIGVEAGGEGLETGKHAASLLKGKIGYLHGSKTFVLQDDWGQVQVSHSVSAGLDYSGVGPEHAYWRETGKVLYDAVTDEEALDAFIELSRLEGIIPALESSHALAYLKKINIKGKVVVVNLSGRGDKDLESVLNHPYVRERIRL\n",
      "  Score=388\n",
      "\n",
      "TrpB3G\n",
      "data/TrpB/TrpB.pdb\n",
      "390 388\n",
      "MKGYFGPYGGQYVPEILMGALEELEAAYEGIMKDESFWKEFNDLLRDYAGRPTPLYFARRLSEKYGARVYLKREDLLHTGAHKINNAIGQVLLAKLMGKTRIIAETGAGQHGVATATAAALFGMECVIYMGEEDTIRQKLNVERMKLLGAKVVPVKSGSRTLKDAIDEALRDWITNLQTTYYVFGSVVGPHPYPIIVRNFQKVIGEETKKQIPEKEGRLPDYIVACVSGGSNAAGIFYPFIDSGVKLIGVEAGGEGLETGKHAASLLKGKIGYLHGSKTFVLQDDWGQVQVSHSVSAGLDYSGVGPEHAYWRETGKVLYDAVTDEEALDAFIELSRLEGIIPALESSHALAYLKKINIKGKVVVVNLSGRGDKDLESVLNHPYVRERIRL GYFGPYGGQYVPEILMGALEELEAAYEGIMKDESFWKEFNDLLRDYAGRPTPLYFARRLSEKYGARVYLKREDLLHTGAHKINNAIGQVLLAKLMGKTRIIAETGAGQHGVATATAAALFGMECVIYMGEEDTIRQKLNVERMKLLGAKVVPVKSGSRTLKDAIDEALRDWITNLQTTYYVFGSVVGPHPYPIIVRNFQKVIGEETKKQIPEKEGRLPDYIVACVSGGSNAAGIFYPFIDSGVKLIGVEAGGEGLETGKHAASLLKGKIGYLHGSKTFVLQDDWGQVQVSHSVSAGLDYSGVGPEHAYWRETGKVLYDAVTDEEALDAFIELSRLEGIIPALESSHALAYLKKINIKGKVVVVNLSGRGDKDLESVLNHPYVRERIRL\n",
      "Global Alignment:\n",
      "MKGYFGPYGGQYVPEILMGALEELEAAYEGIMKDESFWKEFNDLLRDYAGRPTPLYFARRLSEKYGARVYLKREDLLHTGAHKINNAIGQVLLAKLMGKTRIIAETGAGQHGVATATAAALFGMECVIYMGEEDTIRQKLNVERMKLLGAKVVPVKSGSRTLKDAIDEALRDWITNLQTTYYVFGSVVGPHPYPIIVRNFQKVIGEETKKQIPEKEGRLPDYIVACVSGGSNAAGIFYPFIDSGVKLIGVEAGGEGLETGKHAASLLKGKIGYLHGSKTFVLQDDWGQVQVSHSVSAGLDYSGVGPEHAYWRETGKVLYDAVTDEEALDAFIELSRLEGIIPALESSHALAYLKKINIKGKVVVVNLSGRGDKDLESVLNHPYVRERIRL\n",
      "  ||||||||||||||||||||||||||||||||||||||||||||||||||||||||||||||||||||||||||||||||||||||||||||||||||||||||||||||||||||||||||||||||||||||||||||||||||||||||||||||||||||||||||||||||||||||||||||||||||||||||||||||||||||||||||||||||||||||||||||||||||||||||||||||||||||||||||||||||||||||||||||||||||||||||||||||||||||||||||||||||||||||||||||||||||||||||||||||||||||||||||||||||||||||||||||||||||||\n",
      "--GYFGPYGGQYVPEILMGALEELEAAYEGIMKDESFWKEFNDLLRDYAGRPTPLYFARRLSEKYGARVYLKREDLLHTGAHKINNAIGQVLLAKLMGKTRIIAETGAGQHGVATATAAALFGMECVIYMGEEDTIRQKLNVERMKLLGAKVVPVKSGSRTLKDAIDEALRDWITNLQTTYYVFGSVVGPHPYPIIVRNFQKVIGEETKKQIPEKEGRLPDYIVACVSGGSNAAGIFYPFIDSGVKLIGVEAGGEGLETGKHAASLLKGKIGYLHGSKTFVLQDDWGQVQVSHSVSAGLDYSGVGPEHAYWRETGKVLYDAVTDEEALDAFIELSRLEGIIPALESSHALAYLKKINIKGKVVVVNLSGRGDKDLESVLNHPYVRERIRL\n",
      "  Score=388\n",
      "\n",
      "TrpB3H\n",
      "data/TrpB/TrpB.pdb\n",
      "390 388\n",
      "MKGYFGPYGGQYVPEILMGALEELEAAYEGIMKDESFWKEFNDLLRDYAGRPTPLYFARRLSEKYGARVYLKREDLLHTGAHKINNAIGQVLLAKLMGKTRIIAETGAGQHGVATATAAALFGMECVIYMGEEDTIRQKLNVERMKLLGAKVVPVKSGSRTLKDAIDEALRDWITNLQTTYYVFGSVVGPHPYPIIVRNFQKVIGEETKKQIPEKEGRLPDYIVACVSGGSNAAGIFYPFIDSGVKLIGVEAGGEGLETGKHAASLLKGKIGYLHGSKTFVLQDDWGQVQVSHSVSAGLDYSGVGPEHAYWRETGKVLYDAVTDEEALDAFIELSRLEGIIPALESSHALAYLKKINIKGKVVVVNLSGRGDKDLESVLNHPYVRERIRL GYFGPYGGQYVPEILMGALEELEAAYEGIMKDESFWKEFNDLLRDYAGRPTPLYFARRLSEKYGARVYLKREDLLHTGAHKINNAIGQVLLAKLMGKTRIIAETGAGQHGVATATAAALFGMECVIYMGEEDTIRQKLNVERMKLLGAKVVPVKSGSRTLKDAIDEALRDWITNLQTTYYVFGSVVGPHPYPIIVRNFQKVIGEETKKQIPEKEGRLPDYIVACVSGGSNAAGIFYPFIDSGVKLIGVEAGGEGLETGKHAASLLKGKIGYLHGSKTFVLQDDWGQVQVSHSVSAGLDYSGVGPEHAYWRETGKVLYDAVTDEEALDAFIELSRLEGIIPALESSHALAYLKKINIKGKVVVVNLSGRGDKDLESVLNHPYVRERIRL\n",
      "Global Alignment:\n",
      "MKGYFGPYGGQYVPEILMGALEELEAAYEGIMKDESFWKEFNDLLRDYAGRPTPLYFARRLSEKYGARVYLKREDLLHTGAHKINNAIGQVLLAKLMGKTRIIAETGAGQHGVATATAAALFGMECVIYMGEEDTIRQKLNVERMKLLGAKVVPVKSGSRTLKDAIDEALRDWITNLQTTYYVFGSVVGPHPYPIIVRNFQKVIGEETKKQIPEKEGRLPDYIVACVSGGSNAAGIFYPFIDSGVKLIGVEAGGEGLETGKHAASLLKGKIGYLHGSKTFVLQDDWGQVQVSHSVSAGLDYSGVGPEHAYWRETGKVLYDAVTDEEALDAFIELSRLEGIIPALESSHALAYLKKINIKGKVVVVNLSGRGDKDLESVLNHPYVRERIRL\n",
      "  ||||||||||||||||||||||||||||||||||||||||||||||||||||||||||||||||||||||||||||||||||||||||||||||||||||||||||||||||||||||||||||||||||||||||||||||||||||||||||||||||||||||||||||||||||||||||||||||||||||||||||||||||||||||||||||||||||||||||||||||||||||||||||||||||||||||||||||||||||||||||||||||||||||||||||||||||||||||||||||||||||||||||||||||||||||||||||||||||||||||||||||||||||||||||||||||||||||\n",
      "--GYFGPYGGQYVPEILMGALEELEAAYEGIMKDESFWKEFNDLLRDYAGRPTPLYFARRLSEKYGARVYLKREDLLHTGAHKINNAIGQVLLAKLMGKTRIIAETGAGQHGVATATAAALFGMECVIYMGEEDTIRQKLNVERMKLLGAKVVPVKSGSRTLKDAIDEALRDWITNLQTTYYVFGSVVGPHPYPIIVRNFQKVIGEETKKQIPEKEGRLPDYIVACVSGGSNAAGIFYPFIDSGVKLIGVEAGGEGLETGKHAASLLKGKIGYLHGSKTFVLQDDWGQVQVSHSVSAGLDYSGVGPEHAYWRETGKVLYDAVTDEEALDAFIELSRLEGIIPALESSHALAYLKKINIKGKVVVVNLSGRGDKDLESVLNHPYVRERIRL\n",
      "  Score=388\n",
      "\n",
      "TrpB3I\n",
      "data/TrpB/TrpB.pdb\n",
      "390 388\n",
      "MKGYFGPYGGQYVPEILMGALEELEAAYEGIMKDESFWKEFNDLLRDYAGRPTPLYFARRLSEKYGARVYLKREDLLHTGAHKINNAIGQVLLAKLMGKTRIIAETGAGQHGVATATAAALFGMECVIYMGEEDTIRQKLNVERMKLLGAKVVPVKSGSRTLKDAIDEALRDWITNLQTTYYVFGSVVGPHPYPIIVRNFQKVIGEETKKQIPEKEGRLPDYIVACVSGGSNAAGIFYPFIDSGVKLIGVEAGGEGLETGKHAASLLKGKIGYLHGSKTFVLQDDWGQVQVSHSVSAGLDYSGVGPEHAYWRETGKVLYDAVTDEEALDAFIELSRLEGIIPALESSHALAYLKKINIKGKVVVVNLSGRGDKDLESVLNHPYVRERIRL GYFGPYGGQYVPEILMGALEELEAAYEGIMKDESFWKEFNDLLRDYAGRPTPLYFARRLSEKYGARVYLKREDLLHTGAHKINNAIGQVLLAKLMGKTRIIAETGAGQHGVATATAAALFGMECVIYMGEEDTIRQKLNVERMKLLGAKVVPVKSGSRTLKDAIDEALRDWITNLQTTYYVFGSVVGPHPYPIIVRNFQKVIGEETKKQIPEKEGRLPDYIVACVSGGSNAAGIFYPFIDSGVKLIGVEAGGEGLETGKHAASLLKGKIGYLHGSKTFVLQDDWGQVQVSHSVSAGLDYSGVGPEHAYWRETGKVLYDAVTDEEALDAFIELSRLEGIIPALESSHALAYLKKINIKGKVVVVNLSGRGDKDLESVLNHPYVRERIRL\n",
      "Global Alignment:\n",
      "MKGYFGPYGGQYVPEILMGALEELEAAYEGIMKDESFWKEFNDLLRDYAGRPTPLYFARRLSEKYGARVYLKREDLLHTGAHKINNAIGQVLLAKLMGKTRIIAETGAGQHGVATATAAALFGMECVIYMGEEDTIRQKLNVERMKLLGAKVVPVKSGSRTLKDAIDEALRDWITNLQTTYYVFGSVVGPHPYPIIVRNFQKVIGEETKKQIPEKEGRLPDYIVACVSGGSNAAGIFYPFIDSGVKLIGVEAGGEGLETGKHAASLLKGKIGYLHGSKTFVLQDDWGQVQVSHSVSAGLDYSGVGPEHAYWRETGKVLYDAVTDEEALDAFIELSRLEGIIPALESSHALAYLKKINIKGKVVVVNLSGRGDKDLESVLNHPYVRERIRL\n",
      "  ||||||||||||||||||||||||||||||||||||||||||||||||||||||||||||||||||||||||||||||||||||||||||||||||||||||||||||||||||||||||||||||||||||||||||||||||||||||||||||||||||||||||||||||||||||||||||||||||||||||||||||||||||||||||||||||||||||||||||||||||||||||||||||||||||||||||||||||||||||||||||||||||||||||||||||||||||||||||||||||||||||||||||||||||||||||||||||||||||||||||||||||||||||||||||||||||||||\n",
      "--GYFGPYGGQYVPEILMGALEELEAAYEGIMKDESFWKEFNDLLRDYAGRPTPLYFARRLSEKYGARVYLKREDLLHTGAHKINNAIGQVLLAKLMGKTRIIAETGAGQHGVATATAAALFGMECVIYMGEEDTIRQKLNVERMKLLGAKVVPVKSGSRTLKDAIDEALRDWITNLQTTYYVFGSVVGPHPYPIIVRNFQKVIGEETKKQIPEKEGRLPDYIVACVSGGSNAAGIFYPFIDSGVKLIGVEAGGEGLETGKHAASLLKGKIGYLHGSKTFVLQDDWGQVQVSHSVSAGLDYSGVGPEHAYWRETGKVLYDAVTDEEALDAFIELSRLEGIIPALESSHALAYLKKINIKGKVVVVNLSGRGDKDLESVLNHPYVRERIRL\n",
      "  Score=388\n",
      "\n",
      "TrpB4\n",
      "data/TrpB/TrpB.pdb\n",
      "390 388\n",
      "MKGYFGPYGGQYVPEILMGALEELEAAYEGIMKDESFWKEFNDLLRDYAGRPTPLYFARRLSEKYGARVYLKREDLLHTGAHKINNAIGQVLLAKLMGKTRIIAETGAGQHGVATATAAALFGMECVIYMGEEDTIRQKLNVERMKLLGAKVVPVKSGSRTLKDAIDEALRDWITNLQTTYYVFGSVVGPHPYPIIVRNFQKVIGEETKKQIPEKEGRLPDYIVACVSGGSNAAGIFYPFIDSGVKLIGVEAGGEGLETGKHAASLLKGKIGYLHGSKTFVLQDDWGQVQVSHSVSAGLDYSGVGPEHAYWRETGKVLYDAVTDEEALDAFIELSRLEGIIPALESSHALAYLKKINIKGKVVVVNLSGRGDKDLESVLNHPYVRERIRL GYFGPYGGQYVPEILMGALEELEAAYEGIMKDESFWKEFNDLLRDYAGRPTPLYFARRLSEKYGARVYLKREDLLHTGAHKINNAIGQVLLAKLMGKTRIIAETGAGQHGVATATAAALFGMECVIYMGEEDTIRQKLNVERMKLLGAKVVPVKSGSRTLKDAIDEALRDWITNLQTTYYVFGSVVGPHPYPIIVRNFQKVIGEETKKQIPEKEGRLPDYIVACVSGGSNAAGIFYPFIDSGVKLIGVEAGGEGLETGKHAASLLKGKIGYLHGSKTFVLQDDWGQVQVSHSVSAGLDYSGVGPEHAYWRETGKVLYDAVTDEEALDAFIELSRLEGIIPALESSHALAYLKKINIKGKVVVVNLSGRGDKDLESVLNHPYVRERIRL\n",
      "Global Alignment:\n",
      "MKGYFGPYGGQYVPEILMGALEELEAAYEGIMKDESFWKEFNDLLRDYAGRPTPLYFARRLSEKYGARVYLKREDLLHTGAHKINNAIGQVLLAKLMGKTRIIAETGAGQHGVATATAAALFGMECVIYMGEEDTIRQKLNVERMKLLGAKVVPVKSGSRTLKDAIDEALRDWITNLQTTYYVFGSVVGPHPYPIIVRNFQKVIGEETKKQIPEKEGRLPDYIVACVSGGSNAAGIFYPFIDSGVKLIGVEAGGEGLETGKHAASLLKGKIGYLHGSKTFVLQDDWGQVQVSHSVSAGLDYSGVGPEHAYWRETGKVLYDAVTDEEALDAFIELSRLEGIIPALESSHALAYLKKINIKGKVVVVNLSGRGDKDLESVLNHPYVRERIRL\n",
      "  ||||||||||||||||||||||||||||||||||||||||||||||||||||||||||||||||||||||||||||||||||||||||||||||||||||||||||||||||||||||||||||||||||||||||||||||||||||||||||||||||||||||||||||||||||||||||||||||||||||||||||||||||||||||||||||||||||||||||||||||||||||||||||||||||||||||||||||||||||||||||||||||||||||||||||||||||||||||||||||||||||||||||||||||||||||||||||||||||||||||||||||||||||||||||||||||||||||\n",
      "--GYFGPYGGQYVPEILMGALEELEAAYEGIMKDESFWKEFNDLLRDYAGRPTPLYFARRLSEKYGARVYLKREDLLHTGAHKINNAIGQVLLAKLMGKTRIIAETGAGQHGVATATAAALFGMECVIYMGEEDTIRQKLNVERMKLLGAKVVPVKSGSRTLKDAIDEALRDWITNLQTTYYVFGSVVGPHPYPIIVRNFQKVIGEETKKQIPEKEGRLPDYIVACVSGGSNAAGIFYPFIDSGVKLIGVEAGGEGLETGKHAASLLKGKIGYLHGSKTFVLQDDWGQVQVSHSVSAGLDYSGVGPEHAYWRETGKVLYDAVTDEEALDAFIELSRLEGIIPALESSHALAYLKKINIKGKVVVVNLSGRGDKDLESVLNHPYVRERIRL\n",
      "  Score=388\n",
      "\n"
     ]
    }
   ],
   "source": [
    "\n",
    "    if \"TrpB\" in lib:\n",
    "        protein = \"TrpB\"\n",
    "    else:\n",
    "        protein = lib\n",
    "\n",
    "    print(f\"data/{protein}/{protein}.pdb\")\n",
    "\n",
    "    seq = SeqIO.read(f\"data/{protein}/{protein}.fasta\", \"fasta\").seq\n",
    "    if lib == \"DHFR\":\n",
    "        seq = str(seq.translate())\n",
    "    else:\n",
    "        seq = str(seq)\n",
    "\n",
    "    pdb_seq = pdb2seq(f\"data/{protein}/{protein}.pdb\", \"A\")\n",
    "\n",
    "    global_alignments = pairwise2.align.globalxx(seq, pdb_seq)\n",
    "\n",
    "    print(len(seq), len(pdb_seq))\n",
    "    \n",
    "    # pdb has more than fasta should only be for dhfr\n",
    "    if len(seq) < len(pdb_seq):\n",
    "        \n",
    "        \n",
    "        \n",
    "        \n",
    "        \n",
    "        "
   ]
  },
  {
   "cell_type": "code",
   "execution_count": 55,
   "metadata": {},
   "outputs": [
    {
     "data": {
      "text/plain": [
       "'MKGYFGPYGGQYVPEILMGALEELEAAYEGIMKDESFWKEFNDLLRDYAGRPTPLYFARRLSEKYGARVYLKREDLLHTGAHKINNAIGQVLLAKLMGKTRIIAETGAGQHGVATATAAALFGMECVIYMGEEDTIRQKLNVERMKLLGAKVVPVKSGSRTLKDAIDEALRDWITNLQTTYYVFGSVVGPHPYPIIVRNFQKVIGEETKKQIPEKEGRLPDYIVACVSGGSNAAGIFYPFIDSGVKLIGVEAGGEGLETGKHAASLLKGKIGYLHGSKTFVLQDDWGQVQVSHSVSAGLDYSGVGPEHAYWRETGKVLYDAVTDEEALDAFIELSRLEGIIPALESSHALAYLKKINIKGKVVVVNLSGRGDKDLESVLNHPYVRERIRL'"
      ]
     },
     "execution_count": 55,
     "metadata": {},
     "output_type": "execute_result"
    }
   ],
   "source": [
    "global_alignments[0].seqA"
   ]
  },
  {
   "cell_type": "code",
   "execution_count": 56,
   "metadata": {},
   "outputs": [
    {
     "data": {
      "text/plain": [
       "'--GYFGPYGGQYVPEILMGALEELEAAYEGIMKDESFWKEFNDLLRDYAGRPTPLYFARRLSEKYGARVYLKREDLLHTGAHKINNAIGQVLLAKLMGKTRIIAETGAGQHGVATATAAALFGMECVIYMGEEDTIRQKLNVERMKLLGAKVVPVKSGSRTLKDAIDEALRDWITNLQTTYYVFGSVVGPHPYPIIVRNFQKVIGEETKKQIPEKEGRLPDYIVACVSGGSNAAGIFYPFIDSGVKLIGVEAGGEGLETGKHAASLLKGKIGYLHGSKTFVLQDDWGQVQVSHSVSAGLDYSGVGPEHAYWRETGKVLYDAVTDEEALDAFIELSRLEGIIPALESSHALAYLKKINIKGKVVVVNLSGRGDKDLESVLNHPYVRERIRL'"
      ]
     },
     "execution_count": 56,
     "metadata": {},
     "output_type": "execute_result"
    }
   ],
   "source": [
    "global_alignments[0].seqB"
   ]
  },
  {
   "cell_type": "code",
   "execution_count": 1,
   "metadata": {},
   "outputs": [],
   "source": [
    "def find_missing_str(longer: str, shorter: str) -> [str, str]:\n",
    "    \"\"\"\n",
    "    A function for finding the missing part of a string\n",
    "\n",
    "    Args:\n",
    "    - longer: str, longer string\n",
    "    - shorter: str, shorter string\n",
    "\n",
    "    Returns:\n",
    "    - part_before: str, part of the longer string before the shorter\n",
    "    - part_after: str, part of the longer string after the shorter\n",
    "    \"\"\"\n",
    "    # Find the start index of the shorter in the longer string\n",
    "    start_index = longer.find(shorter)\n",
    "\n",
    "    # If the shorter is not found, return the longer string as the \"missing\" part\n",
    "    if start_index == -1:\n",
    "        return longer, \"\"\n",
    "\n",
    "    # Find the end index of the shorter\n",
    "    end_index = start_index + len(shorter)\n",
    "\n",
    "    # Extract parts of the longer string that are not the shorter\n",
    "    part_before = longer[:start_index]\n",
    "    part_after = longer[end_index:]\n",
    "\n",
    "    return part_before, part_after"
   ]
  },
  {
   "cell_type": "code",
   "execution_count": null,
   "metadata": {},
   "outputs": [],
   "source": []
  },
  {
   "cell_type": "code",
   "execution_count": 16,
   "metadata": {},
   "outputs": [
    {
     "ename": "NameError",
     "evalue": "name 'df_path' is not defined",
     "output_type": "error",
     "traceback": [
      "\u001b[0;31m---------------------------------------------------------------------------\u001b[0m",
      "\u001b[0;31mNameError\u001b[0m                                 Traceback (most recent call last)",
      "Cell \u001b[0;32mIn[16], line 19\u001b[0m\n\u001b[1;32m     15\u001b[0m pdb_seq \u001b[38;5;241m=\u001b[39m pdb2seq(\u001b[38;5;124mf\u001b[39m\u001b[38;5;124m\"\u001b[39m\u001b[38;5;124mdata/\u001b[39m\u001b[38;5;132;01m{\u001b[39;00mprotein\u001b[38;5;132;01m}\u001b[39;00m\u001b[38;5;124m/\u001b[39m\u001b[38;5;132;01m{\u001b[39;00mprotein\u001b[38;5;132;01m}\u001b[39;00m\u001b[38;5;124m.pdb\u001b[39m\u001b[38;5;124m\"\u001b[39m, \u001b[38;5;124m\"\u001b[39m\u001b[38;5;124mA\u001b[39m\u001b[38;5;124m\"\u001b[39m)\n\u001b[1;32m     17\u001b[0m global_alignments \u001b[38;5;241m=\u001b[39m pairwise2\u001b[38;5;241m.\u001b[39malign\u001b[38;5;241m.\u001b[39mglobalxx(seq, pdb_seq)\n\u001b[0;32m---> 19\u001b[0m df \u001b[38;5;241m=\u001b[39m pd\u001b[38;5;241m.\u001b[39mread_csv(\u001b[43mdf_path\u001b[49m)\n\u001b[1;32m     21\u001b[0m \u001b[38;5;28;01mfor\u001b[39;00m col \u001b[38;5;129;01min\u001b[39;00m [\u001b[38;5;124m\"\u001b[39m\u001b[38;5;124mmuts\u001b[39m\u001b[38;5;124m\"\u001b[39m, \u001b[38;5;124m\"\u001b[39m\u001b[38;5;124mseq\u001b[39m\u001b[38;5;124m\"\u001b[39m]:\n\u001b[1;32m     22\u001b[0m     \u001b[38;5;28;01mif\u001b[39;00m col \u001b[38;5;129;01mnot\u001b[39;00m \u001b[38;5;129;01min\u001b[39;00m df\u001b[38;5;241m.\u001b[39mcolumns:\n",
      "\u001b[0;31mNameError\u001b[0m: name 'df_path' is not defined"
     ]
    }
   ],
   "source": [
    "ev_esm_dir = \"ev_esm2\"\n",
    "csv_path = f\"{ev_esm_dir}/{lib}/{lib}.csv\"\n",
    "\n",
    "if \"TrpB\" in lib:\n",
    "    protein = \"TrpB\"\n",
    "else:\n",
    "    protein = lib\n",
    "    \n",
    "seq = SeqIO.read(f\"data/{protein}/{protein}.fasta\", \"fasta\").seq\n",
    "if lib == \"DHFR\":\n",
    "    seq = str(seq.translate())\n",
    "else:\n",
    "    seq = str(seq)\n",
    "\n",
    "pdb_seq = pdb2seq(f\"data/{protein}/{protein}.pdb\", \"A\")\n",
    "\n",
    "global_alignments = pairwise2.align.globalxx(seq, pdb_seq)\n",
    "\n",
    "df = pd.read_csv(df_path)\n",
    "\n",
    "for col in [\"muts\", \"seq\"]:\n",
    "    if col not in df.columns:\n",
    "        raise ValueError(f\"{col} column not found\")\n",
    "\n",
    "fasta = csv_path.replace(\".csv\", \".fasta\")\n",
    "\n",
    "# pdb has more than fasta should only be for dhfr\n",
    "if len(seq) < len(pdb_seq):\n",
    "    part_before, part_after = find_missing_str(longer=pdb_seq, shorter=seq)\n",
    "    with open(fasta, \"w\") as f:\n",
    "        for mut, seq in zip(df[\"muts\"].values, df[\"seq\"].values):\n",
    "            f.write(f\">{mut}\\n{part_before+seq+part_after}\\n\")\n",
    "elif len(seq) == len(pdb_seq):\n",
    "    with open(fasta, \"w\") as f:\n",
    "        for mut, seq in zip(df[\"muts\"].values, df[\"seq\"].values):\n",
    "            f.write(f\">{mut}\\n{seq}\\n\")\n",
    "else:\n",
    "    part_before, part_after = find_missing_str(longer=seq, shorter=pdb_seq)\n",
    "    with open(fasta, \"w\") as f:\n",
    "        for mut, seq in zip(df[\"muts\"].values, df[\"seq\"].values):\n",
    "            f.write(f\">{mut}\\n{seq[len(part_before):len(seq)-len(part_after)]}\\n\")\n",
    "\n"
   ]
  },
  {
   "cell_type": "code",
   "execution_count": 14,
   "metadata": {},
   "outputs": [],
   "source": [
    "mut, seq = df[\"muts\"].values[0], df[\"seq\"].values[0]"
   ]
  },
  {
   "cell_type": "code",
   "execution_count": 38,
   "metadata": {},
   "outputs": [
    {
     "data": {
      "text/plain": [
       "'MNTINIAKNDFSDIELAAIPFNTLADHYGERLAREQLALEHESYEMGEARFRKMFERQLKAGEVADNAAAKPLITTLLPKMIARINDWFEEVKAKRGKRPTAFQFLQEIKPEAVAYITIKTTLACLTSADNTTVQAVASAIGRAIEDEARFGRIRDLEAKHFKKNVEEQLNKRVGHVYKKAFMQVVEADMLSKGLLGGEAWSSWHKEDSIHVGVRCIEMLIESTGMVSLHRQNAGVVGQDSETIELAPEYAEAIATRAGALAGISPMFQPCVVPPKPWTGITGGGYWANGRRPLALVRTHSKKALMRYEDVYMPEVYKAINIAQNTAWKINKKVLAVANVITKWKHCPVEDIPAIEREELPMKPEDIDMNPEALTAWKRAAAAVYRKDKARKSRRISLEFMLEQANKFANHKAIWFPYNMDWRGRVYAVSMFNPQGNDMTKGLLTLAKGKPIGKEGYYWLKIHGANCAGVDKVPFPERIKFIEENHENIMACAKSPLENTWWAEQDSPFCFLAFCFEYAGVQHHGLSYNCSLPLAFDGSCSGIQHFSAMLRDEVGGRAVNLLPSETVQDIYGIVAKKVNEILQADAINGTDNEVVTVTDENTGEISEKVKLGTKALAGQWLAYGVTRSVTKRSVMTLAYGSKEFGFRQQVLEDTIQPAIDSGKGLMFTQPNQAAGYMAKLIWESVSVTVVAAVEAMNWLKSAAKLLAAEVKDKKTGEILRKRCAVHWVTPDGFPVWQEYKKPIQTRLNLMFLGQFRLQPTINTNKDSEIDAHKQESGIAPNFVHSQDGSHLRKTVVWAHEKYGIESFALIHDSFGTIPADAANLFKAVRETMVDTYESCDVLADFYDQFADQLHESQLDKMPALPAKGNLNLRDILESDFAFA'"
      ]
     },
     "execution_count": 38,
     "metadata": {},
     "output_type": "execute_result"
    }
   ],
   "source": [
    "seq[len(part_before):len(seq)-len(part_after)]"
   ]
  },
  {
   "cell_type": "code",
   "execution_count": 31,
   "metadata": {},
   "outputs": [
    {
     "data": {
      "text/plain": [
       "0"
      ]
     },
     "execution_count": 31,
     "metadata": {},
     "output_type": "execute_result"
    }
   ],
   "source": [
    "len(part_before)"
   ]
  },
  {
   "cell_type": "code",
   "execution_count": 33,
   "metadata": {},
   "outputs": [
    {
     "data": {
      "text/plain": [
       "(883, 883, 0)"
      ]
     },
     "execution_count": 33,
     "metadata": {},
     "output_type": "execute_result"
    }
   ],
   "source": [
    "len(seq), len(part_after), len(seq)-len(part_after)"
   ]
  },
  {
   "cell_type": "code",
   "execution_count": null,
   "metadata": {},
   "outputs": [],
   "source": [
    "\n",
    "def csv2fasta(csv: str) -> None:\n",
    "    \"\"\"\n",
    "    A function for converting a csv file to a fasta file\n",
    "    ie /disk2/fli/SSMuLA/ev_esm2/DHFR/DHFR.csv\n",
    "\n",
    "    \"\"\"\n",
    "    df = pd.read_csv(csv)\n",
    "\n",
    "    for col in [\"muts\", \"seq\"]:\n",
    "        if col not in df.columns:\n",
    "            raise ValueError(f\"{col} column not found\")\n",
    "\n",
    "    fasta = csv.replace(\".csv\", \".fasta\")\n",
    "    with open(fasta, \"w\") as f:\n",
    "        for mut, seq in zip(df[\"muts\"].values, df[\"seq\"].values):\n",
    "            f.write(f\">{mut}\\n{seq}\\n\")\n"
   ]
  },
  {
   "cell_type": "code",
   "execution_count": 33,
   "metadata": {},
   "outputs": [],
   "source": []
  },
  {
   "cell_type": "code",
   "execution_count": 6,
   "metadata": {},
   "outputs": [
    {
     "name": "stdout",
     "output_type": "stream",
     "text": [
      "Saved modified PDB file as /disk2/fli/SSMuLA/coves_data/TEV2/TEV2.pdb\n"
     ]
    }
   ],
   "source": [
    "from Bio import PDB\n",
    "\n",
    "def modify_chain_id(input_pdb, output_pdb, original_chain_id='B', new_chain_id='A'):\n",
    "    # Initialize the PDB parser\n",
    "    parser = PDB.PDBParser(QUIET=True)\n",
    "    structure = parser.get_structure('structure', input_pdb)\n",
    "    \n",
    "    # Loop through all models, chains, and residues\n",
    "    for model in structure:\n",
    "        for chain in model:\n",
    "            if chain.id == original_chain_id:\n",
    "                chain.id = new_chain_id\n",
    "    \n",
    "    # Save the modified structure\n",
    "    io = PDB.PDBIO()\n",
    "    io.set_structure(structure)\n",
    "    io.save(output_pdb)\n",
    "    print(f\"Saved modified PDB file as {output_pdb}\")\n",
    "\n",
    "# Example usage\n",
    "input_pdb = '/disk2/fli/SSMuLA/coves_data/TEV2/TEV2.pdb'  # Replace with your input PDB file path\n",
    "output_pdb = '/disk2/fli/SSMuLA/coves_data/TEV2/TEV2.pdb'  # Replace with your desired output PDB file path\n",
    "\n",
    "modify_chain_id(input_pdb, output_pdb, original_chain_id='B', new_chain_id='A')\n"
   ]
  },
  {
   "cell_type": "code",
   "execution_count": null,
   "metadata": {},
   "outputs": [],
   "source": []
  }
 ],
 "metadata": {
  "kernelspec": {
   "display_name": "SSMuLA",
   "language": "python",
   "name": "python3"
  },
  "language_info": {
   "codemirror_mode": {
    "name": "ipython",
    "version": 3
   },
   "file_extension": ".py",
   "mimetype": "text/x-python",
   "name": "python",
   "nbconvert_exporter": "python",
   "pygments_lexer": "ipython3",
   "version": "3.10.14"
  }
 },
 "nbformat": 4,
 "nbformat_minor": 2
}
