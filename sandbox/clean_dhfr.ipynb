{
 "cells": [
  {
   "cell_type": "code",
   "execution_count": 1,
   "metadata": {},
   "outputs": [
    {
     "name": "stdout",
     "output_type": "stream",
     "text": [
      "/disk2/fli/SSMuLA\n"
     ]
    }
   ],
   "source": [
    "%cd ~/SSMuLA"
   ]
  },
  {
   "cell_type": "code",
   "execution_count": 2,
   "metadata": {},
   "outputs": [],
   "source": [
    "%load_ext blackcellmagic\n",
    "%load_ext autoreload\n",
    "%autoreload 2\n",
    "\n",
    "%matplotlib inline"
   ]
  },
  {
   "cell_type": "code",
   "execution_count": 7,
   "metadata": {},
   "outputs": [],
   "source": [
    "from SSMuLA.preprocess import ProcessDHFR"
   ]
  },
  {
   "cell_type": "code",
   "execution_count": 8,
   "metadata": {},
   "outputs": [
    {
     "data": {
      "text/plain": [
       "<SSMuLA.preprocess.ProcessDHFR at 0x7f626d1315d0>"
      ]
     },
     "execution_count": 8,
     "metadata": {},
     "output_type": "execute_result"
    }
   ],
   "source": [
    "ProcessDHFR()"
   ]
  },
  {
   "cell_type": "code",
   "execution_count": 3,
   "metadata": {},
   "outputs": [],
   "source": [
    "import pandas as pd\n",
    "import numpy as np\n",
    "\n",
    "from Bio.Seq import Seq"
   ]
  },
  {
   "cell_type": "code",
   "execution_count": null,
   "metadata": {},
   "outputs": [],
   "source": [
    "# General imports\n",
    "import glob\n",
    "import os\n",
    "import re\n",
    "import pickle\n",
    "import datetime\n",
    "import pathlib\n",
    "\n",
    "# Data manipulation\n",
    "# import growth_analysis as ga\n",
    "import pandas as pd\n",
    "pd.set_option('display.max_columns', 40)\n",
    "import numpy as np\n",
    "\n",
    "# Basic plotting\n",
    "import holoviews as hv\n",
    "import bokeh\n",
    "from bokeh.io import export_svg\n",
    "from bokeh.themes.theme import Theme\n",
    "theme = Theme(\n",
    "    json = {\n",
    "    'attrs' : {\n",
    "        'Title': {\n",
    "            'align':'center',\n",
    "            'text_font_size':'15px',\n",
    "            'text_color':'black',\n",
    "            'text_font': 'arial'\n",
    "        },       # title centered and bigger\n",
    "        'Axis': {\n",
    "            'axis_label_text_font_style': 'normal',\n",
    "            'axis_label_text_color':'black',\n",
    "            'major_label_text_color':'black',\n",
    "            'axis_label_text_font': 'arial',\n",
    "            'major_label_text_font': 'arial',\n",
    "        },          # no italic labels \n",
    "        'Legend': {\n",
    "            'title_text_font_style': 'normal',\n",
    "            'title_text_color':'black',\n",
    "            'label_text_color':'black',\n",
    "            'label_text_font': 'arial',\n",
    "        },\n",
    "        'ColorBar': {\n",
    "            'title_text_font_style': 'normal',\n",
    "            'major_label_text_color':'black',\n",
    "            'major_label_text_font': 'arial',\n",
    "            'title_text_color':'black',\n",
    "            'title_text_font': 'arial',\n",
    "        },\n",
    "    }\n",
    "}\n",
    ")\n",
    "\n",
    "hv.extension('bokeh')\n",
    "hv.renderer('bokeh').theme = theme\n",
    "\n",
    "import panel as pn\n",
    "pn.config.comms = \"vscode\"\n",
    "\n",
    "# Large data plotting\n",
    "import datashader as ds\n",
    "from holoviews.operation.datashader import datashade, rasterize\n",
    "\n",
    "# Making graphs\n",
    "import networkx as nx\n",
    "import matplotlib.pyplot as plt\n",
    "import itertools\n",
    "from tqdm.auto import tqdm\n",
    "from multiprocessing import Pool\n",
    "\n",
    "from SSMuLA.landscape_global import ACTIVE_THRESH_DICT, LIB_INFO_DICT, calc_active_cutoff\n",
    "from SSMuLA.vis import save_bokeh_hv, CODON_AA_COLOER_DICT, plot_fit_dist\n",
    "from SSMuLA.util import checkNgen_folder"
   ]
  },
  {
   "cell_type": "code",
   "execution_count": null,
   "metadata": {},
   "outputs": [],
   "source": [
    "class ProcessDHFR:\n",
    "    \"\"\"\n",
    "    Class to clean up the DHFR data\n",
    "    \"\"\"\n",
    "\n",
    "    def __init__(self, input_csv: str = \"data/DHFR/fitness_landscape/DHFR.csv\") -> None:\n",
    "\n",
    "        \"\"\"\n",
    "        Args:\n",
    "        - input_csv, str: path to the input csv file\n",
    "        \"\"\"\n",
    "\n",
    "        self._input_csv = input_csv\n",
    "\n",
    "        # append the active cutoffs\n",
    "        self._df_avg_aa_append, self._avg_aa_active_cutoff = calc_active_cutoff(\n",
    "            self.df_avg_aa, [\"fitness\"]\n",
    "        )\n",
    "\n",
    "        # save the appended dataframe\n",
    "        self._df_avg_aa_append.to_csv(self.output_csv, index=False)\n",
    "\n",
    "        self._overlay_fit_dist()\n",
    "\n",
    "    def _overlay_fit_dist(\n",
    "        self,\n",
    "        title: str = \"DHFR fitness distribution\",\n",
    "    ) -> hv.Distribution:\n",
    "        \n",
    "        \"\"\"\n",
    "        Plot the fitness distribution\n",
    "\n",
    "        Args:\n",
    "        - dist1, hv.Distribution: fitness distribution 1\n",
    "        - dist2, hv.Distribution: fitness distribution 2\n",
    "        - active_cut_calc, float: calculated active cutoff\n",
    "        - active_cut_def, float: defined active cutoff\n",
    "\n",
    "        Returns:\n",
    "        - hv.Distribution: plot of the fitness distribution\n",
    "        \"\"\"\n",
    "\n",
    "        # Overlay the two plots\n",
    "        overlay_dist = (\n",
    "            self.codon_fit_dist\n",
    "            * self.avg_aa_fit_dist\n",
    "            * hv.Spikes([self.avg_aa_active_cutoff], label = \"Calculated active cutoff\").opts(\n",
    "                color=\"gray\", line_width=1.6\n",
    "            )\n",
    "            * hv.Spikes([ACTIVE_THRESH_DICT[\"DHFR\"]], label = \"Defined active cutoff\").opts(\n",
    "                color=\"gray\", line_dash=\"dashed\", line_width=1.6\n",
    "            )\n",
    "        )\n",
    "\n",
    "        # Customize the plot options\n",
    "        overlay_dist.opts(\n",
    "            legend_position=\"top_right\",\n",
    "            title=title,\n",
    "            xlabel=\"Fitness\",\n",
    "        )\n",
    "\n",
    "        # Display the plot with the legend\n",
    "        save_bokeh_hv(\n",
    "            overlay_dist,\n",
    "            plot_name=title,\n",
    "            plot_path=\"results/fitness_distribution\",\n",
    "            bokehorhv=\"hv\",\n",
    "        )\n",
    "        return overlay_dist\n",
    "\n",
    "    @property\n",
    "    def lib_info(self) -> dict:\n",
    "        \"\"\"Return the library information\"\"\"\n",
    "        return LIB_INFO_DICT[\"DHFR\"]\n",
    "\n",
    "    @property\n",
    "    def split_AA_cols(self) -> list:\n",
    "        \"\"\"Return the columns for the split amino acids\"\"\"\n",
    "        return [f\"AA{str(i)}\" for i in self.lib_info[\"positions\"].keys()]\n",
    "\n",
    "    @property\n",
    "    def input_df(self) -> pd.DataFrame:\n",
    "        \"\"\"Return the input dataframe\"\"\"\n",
    "        return pd.read_csv(self._input_csv)\n",
    "\n",
    "    @property\n",
    "    def df_aa(self) -> pd.DataFrame:\n",
    "\n",
    "        \"\"\"Return the input dataframe with amino acid translations\"\"\"\n",
    "\n",
    "        df = self.input_df.copy()\n",
    "\n",
    "        # Translate the sequence to amino acids\n",
    "        df[\"AAs\"] = df[\"seq\"].apply(lambda x: \"\".join(Seq(x).translate()))\n",
    "\n",
    "        return df[[\"AAs\", \"seq\", \"fitness\"]].copy()\n",
    "\n",
    "    @property\n",
    "    def df_split_aa(self) -> pd.DataFrame:\n",
    "\n",
    "        \"\"\"Return the input dataframe with amino acid translations\n",
    "        and split into individual amino acids\"\"\"\n",
    "\n",
    "        df = self.df_aa.copy()\n",
    "\n",
    "        # Split combo into individual amino acids\n",
    "        df[self.split_AA_cols] = df[\"AAs\"].apply(lambda x: pd.Series(list(x)))\n",
    "\n",
    "        return df[[\"AAs\", *self.split_AA_cols, \"seq\", \"fitness\"]].copy()\n",
    "\n",
    "    @property\n",
    "    def df_avg_aa(self) -> pd.DataFrame:\n",
    "\n",
    "        \"\"\"Return the average fitness of each amino acid\"\"\"\n",
    "\n",
    "        df = self.df_aa.copy()[[\"AAs\", \"fitness\"]]\n",
    "        # Group by amino acid and take the average fitness\n",
    "        df = df.groupby(\"AAs\")[\"fitness\"].mean().reset_index()\n",
    "        # Split combo into individual amino acids\n",
    "        df[self.split_AA_cols] = df[\"AAs\"].apply(lambda x: pd.Series(list(x)))\n",
    "        return df[[\"AAs\", *self.split_AA_cols, \"fitness\"]].copy()\n",
    "\n",
    "    @property\n",
    "    def df_avg_aa_append(self) -> pd.DataFrame:\n",
    "        \"\"\"Return the average fitness of each amino acid with the active cutoff appended\"\"\"\n",
    "        return self._df_avg_aa_append\n",
    "\n",
    "    @property\n",
    "    def avg_aa_active_cutoff(self) -> float:\n",
    "        \"\"\"Return the active cutoff for the average amino acid\"\"\"\n",
    "        return self._avg_aa_active_cutoff\n",
    "\n",
    "    @property\n",
    "    def codon_fit(self) -> pd.Series:\n",
    "        \"\"\"Return the fitness of based on codon as a series\"\"\"\n",
    "        return self.input_df[\"fitness\"]\n",
    "\n",
    "    @property\n",
    "    def avg_aa_fit(self) -> pd.Series:\n",
    "        \"\"\"Return the fitness of based on codon as a series\"\"\"\n",
    "        return self.df_avg_aa[\"fitness\"]\n",
    "\n",
    "    @property\n",
    "    def codon_fit_dist(self) -> hv.Distribution:\n",
    "        \"\"\"Return the fitness distribution based on codon\"\"\"\n",
    "        return plot_fit_dist(self.codon_fit, \"codon\")\n",
    "\n",
    "    @property\n",
    "    def avg_aa_fit_dist(self) -> hv.Distribution:\n",
    "        \"\"\"Return the fitness distribution based on average amino acid\"\"\"\n",
    "        return plot_fit_dist(self.avg_aa_fit, \"AA\")\n",
    "    \n",
    "    @property\n",
    "    def output_csv(self) -> str:\n",
    "        \"\"\"Return the path to the output csv\"\"\"\n",
    "        output_csv = self._input_csv.replace(\"fitness_landscape\", \"processed\")\n",
    "        # check if the folder exists\n",
    "        checkNgen_folder(output_csv)\n",
    "        return output_csv"
   ]
  },
  {
   "cell_type": "code",
   "execution_count": null,
   "metadata": {},
   "outputs": [],
   "source": [
    "ProcessDHFR()"
   ]
  },
  {
   "cell_type": "code",
   "execution_count": null,
   "metadata": {},
   "outputs": [],
   "source": [
    "checkNgen_folder(\"data/DHFR/fitness_landscape/DHFR.csv\".replace(\"fitness_landscape\", \"processed\"))"
   ]
  },
  {
   "cell_type": "code",
   "execution_count": null,
   "metadata": {},
   "outputs": [],
   "source": [
    "calc_active_cutoff(\n",
    "    df=avg_aa_df, fitness_cols = [\"fitness\"]\n",
    ")"
   ]
  },
  {
   "cell_type": "code",
   "execution_count": null,
   "metadata": {},
   "outputs": [],
   "source": [
    "avg_aa_df['active'].value_counts()/len(avg_aa_df)"
   ]
  },
  {
   "cell_type": "code",
   "execution_count": null,
   "metadata": {},
   "outputs": [],
   "source": [
    "ProcessDHFR().df_avg_aa"
   ]
  },
  {
   "cell_type": "code",
   "execution_count": null,
   "metadata": {},
   "outputs": [],
   "source": [
    "ProcessDHFR().input_df[\"seq\"].nunique()"
   ]
  },
  {
   "cell_type": "code",
   "execution_count": null,
   "metadata": {},
   "outputs": [],
   "source": [
    "dhfr_fitclass = ProcessDHFR()\n",
    "\n",
    "codon_df = ProcessDHFR().input_df\n",
    "avg_aa_df = ProcessDHFR().df_avg_aa\n",
    "\n",
    "codon_fit = codon_df[\"fitness\"]\n",
    "aa_fit = avg_aa_df[\"fitness\"]\n",
    "\n",
    "# Create the first distribution plot\n",
    "condon_dist = (\n",
    "    hv.Distribution(codon_fit, label=\"Codon-level\").opts(\n",
    "        width=400,\n",
    "        height=400,\n",
    "        color=PRESENTATION_PALETTE_SATURATE6[\"blue\"],\n",
    "        line_color=None,\n",
    "    )\n",
    "    * hv.Spikes([codon_fit.mean()], label=\"Mean codon fitness\").opts(\n",
    "        line_dash=\"dotted\", line_color=PRESENTATION_PALETTE_SATURATE6[\"blue\"], line_width=1.6\n",
    "    )  # for label\n",
    "    * hv.Spikes([codon_fit.median()], label=\"Median codon fitness\").opts(\n",
    "        line_color=PRESENTATION_PALETTE_SATURATE6[\"blue\"], line_width=1.6\n",
    "    )\n",
    ")\n",
    "\n",
    "# Create the second distribution plot\n",
    "aa_dist = (\n",
    "    hv.Distribution(aa_fit, label=\"AA-level\").opts(\n",
    "        color=PRESENTATION_PALETTE_SATURATE6[\"orange\"],\n",
    "        line_color=None,\n",
    "    )\n",
    "    * hv.Spikes([aa_fit.mean()], label=\"Mean AA fitness\").opts(\n",
    "        line_dash=\"dotted\", line_color=PRESENTATION_PALETTE_SATURATE6[\"orange\"], line_width=1.6\n",
    "    )\n",
    "    * hv.Spikes([aa_fit.median()], label=\"Median AA fitness\").opts(\n",
    "        line_color=PRESENTATION_PALETTE_SATURATE6[\"orange\"], line_width=1.6\n",
    "    )\n",
    ")\n",
    "\n",
    "# Overlay the two plots\n",
    "overlay_dist = dist1 * dist2\n",
    "\n",
    "# Customize the plot options\n",
    "overlay_dist.opts(\n",
    "    legend_position=\"top_right\",\n",
    "    title=\"DHFR fitness distribution\",\n",
    "    xlabel=\"Fitness\",\n",
    ")  # ylabel='Frequency')\n",
    "\n",
    "# Display the plot with the legend\n",
    "save_bokeh_hv(\n",
    "    overlay_dist,\n",
    "    plot_name=\"DHFR fitness distribution\",\n",
    "    plot_path=\"results/fitness_distribution\",\n",
    "    bokehorhv = \"hv\",\n",
    "    # dpi: int = 300,\n",
    "    # scale: float = 1,\n",
    "    )"
   ]
  },
  {
   "cell_type": "code",
   "execution_count": null,
   "metadata": {},
   "outputs": [],
   "source": [
    "df_split_aa = ProcessDHFR().df_split_aa"
   ]
  },
  {
   "cell_type": "code",
   "execution_count": null,
   "metadata": {},
   "outputs": [],
   "source": [
    "site_counts = df_split_aa.groupby([\"AAs\", \"AA1\", \"AA2\", \"AA3\"], as_index=True).count().reset_index()\n",
    "site_counts"
   ]
  },
  {
   "cell_type": "code",
   "execution_count": null,
   "metadata": {},
   "outputs": [],
   "source": [
    "from SSMuLA.param import TRANSLATE_DICT, CODON_COUNT_PER_AA"
   ]
  },
  {
   "cell_type": "code",
   "execution_count": null,
   "metadata": {},
   "outputs": [],
   "source": [
    "df_split_aa['Counts'] = df_split_aa.groupby('AAs')[\"AAs\"].transform('count')\n",
    "count_aa = df_split_aa[[\"AAs\", \"AA1\", \"AA2\", \"AA3\", \"Counts\"]].drop_duplicates().sort_values(\"AAs\").reset_index(drop=True)\n",
    "count_aa[\"Norm_counts\"] = count_aa.apply(lambda row: row[\"Counts\"] / (CODON_COUNT_PER_AA[row[\"AA1\"]] * CODON_COUNT_PER_AA[row[\"AA2\"]] * CODON_COUNT_PER_AA[row[\"AA3\"]]), axis=1)\n",
    "count_aa"
   ]
  },
  {
   "cell_type": "code",
   "execution_count": null,
   "metadata": {},
   "outputs": [],
   "source": [
    "count_aa.Norm_counts.unique()"
   ]
  },
  {
   "cell_type": "code",
   "execution_count": null,
   "metadata": {},
   "outputs": [],
   "source": [
    "site_counts_df = site_counts.to_frame()\n",
    "site_counts_df.plot(kind='bar', figsize=(20, 5))"
   ]
  },
  {
   "cell_type": "code",
   "execution_count": null,
   "metadata": {},
   "outputs": [],
   "source": [
    "aa_stop_df = avg_aa_df[avg_aa_df[\"AAs\"].str.contains(\"\\*\")]\n",
    "aa_stop_df"
   ]
  },
  {
   "cell_type": "code",
   "execution_count": null,
   "metadata": {},
   "outputs": [],
   "source": [
    "# calc active vs inactive based on 1.96 std > mean fitness\n",
    "\n",
    "avg_stop = aa_stop_df[\"fitness\"].mean()\n",
    "std_stop = aa_stop_df[\"fitness\"].std()\n",
    "fit_min = 1.96 * std_stop + avg_stop\n",
    "\n",
    "print('95%', len(avg_aa_df.loc[avg_aa_df['fitness'] > fit_min]), fit_min)\n",
    "\n",
    "# add column called active if fitness > fit_min\n",
    "avg_aa_df.loc[avg_aa_df['fitness'] > fit_min, 'active'] = True\n",
    "avg_aa_df.loc[avg_aa_df['fitness'] <= fit_min, 'active'] = False\n",
    "avg_aa_df\n"
   ]
  },
  {
   "cell_type": "code",
   "execution_count": null,
   "metadata": {},
   "outputs": [],
   "source": [
    "# active percentage\n",
    "active_percnet = avg_aa_df['active'].value_counts()/len(avg_aa_df)\n",
    "active_percnet"
   ]
  },
  {
   "cell_type": "code",
   "execution_count": null,
   "metadata": {},
   "outputs": [],
   "source": [
    "fit_min"
   ]
  }
 ],
 "metadata": {
  "kernelspec": {
   "display_name": "SSMuLA",
   "language": "python",
   "name": "python3"
  },
  "language_info": {
   "codemirror_mode": {
    "name": "ipython",
    "version": 3
   },
   "file_extension": ".py",
   "mimetype": "text/x-python",
   "name": "python",
   "nbconvert_exporter": "python",
   "pygments_lexer": "ipython3",
   "version": "3.10.13"
  }
 },
 "nbformat": 4,
 "nbformat_minor": 2
}
