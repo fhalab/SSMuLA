{
 "cells": [
  {
   "cell_type": "code",
   "execution_count": 1,
   "metadata": {},
   "outputs": [],
   "source": [
    "import pandas as pd"
   ]
  },
  {
   "cell_type": "code",
   "execution_count": 2,
   "metadata": {},
   "outputs": [
    {
     "data": {
      "text/html": [
       "<div>\n",
       "<style scoped>\n",
       "    .dataframe tbody tr th:only-of-type {\n",
       "        vertical-align: middle;\n",
       "    }\n",
       "\n",
       "    .dataframe tbody tr th {\n",
       "        vertical-align: top;\n",
       "    }\n",
       "\n",
       "    .dataframe thead th {\n",
       "        text-align: right;\n",
       "    }\n",
       "</style>\n",
       "<table border=\"1\" class=\"dataframe\">\n",
       "  <thead>\n",
       "    <tr style=\"text-align: right;\">\n",
       "      <th></th>\n",
       "      <th>prefix</th>\n",
       "      <th>minimum_column_coverage</th>\n",
       "      <th>num_seqs</th>\n",
       "      <th>seqlen</th>\n",
       "      <th>num_cov</th>\n",
       "      <th>num_lc</th>\n",
       "      <th>perc_cov</th>\n",
       "      <th>1st_uc</th>\n",
       "      <th>last_uc</th>\n",
       "      <th>len_cov</th>\n",
       "      <th>num_lc_cov</th>\n",
       "      <th>N_eff</th>\n",
       "    </tr>\n",
       "  </thead>\n",
       "  <tbody>\n",
       "    <tr>\n",
       "      <th>0</th>\n",
       "      <td>output/T7/align/T7</td>\n",
       "      <td>0.7</td>\n",
       "      <td>2734</td>\n",
       "      <td>883</td>\n",
       "      <td>791</td>\n",
       "      <td>92</td>\n",
       "      <td>0.896</td>\n",
       "      <td>28</td>\n",
       "      <td>882</td>\n",
       "      <td>855</td>\n",
       "      <td>64</td>\n",
       "      <td>NaN</td>\n",
       "    </tr>\n",
       "  </tbody>\n",
       "</table>\n",
       "</div>"
      ],
      "text/plain": [
       "               prefix  minimum_column_coverage  num_seqs  seqlen  num_cov  \\\n",
       "0  output/T7/align/T7                      0.7      2734     883      791   \n",
       "\n",
       "   num_lc  perc_cov  1st_uc  last_uc  len_cov  num_lc_cov  N_eff  \n",
       "0      92     0.896      28      882      855          64    NaN  "
      ]
     },
     "execution_count": 2,
     "metadata": {},
     "output_type": "execute_result"
    }
   ],
   "source": [
    "pd.read_csv(\"/disk2/fli/EVcouplings/output/T7/align/T7_alignment_statistics.csv\")"
   ]
  },
  {
   "cell_type": "code",
   "execution_count": 3,
   "metadata": {},
   "outputs": [
    {
     "data": {
      "text/html": [
       "<div>\n",
       "<style scoped>\n",
       "    .dataframe tbody tr th:only-of-type {\n",
       "        vertical-align: middle;\n",
       "    }\n",
       "\n",
       "    .dataframe tbody tr th {\n",
       "        vertical-align: top;\n",
       "    }\n",
       "\n",
       "    .dataframe thead th {\n",
       "        text-align: right;\n",
       "    }\n",
       "</style>\n",
       "<table border=\"1\" class=\"dataframe\">\n",
       "  <thead>\n",
       "    <tr style=\"text-align: right;\">\n",
       "      <th></th>\n",
       "      <th>prefix</th>\n",
       "      <th>minimum_column_coverage</th>\n",
       "      <th>num_seqs</th>\n",
       "      <th>seqlen</th>\n",
       "      <th>num_cov</th>\n",
       "      <th>num_lc</th>\n",
       "      <th>perc_cov</th>\n",
       "      <th>1st_uc</th>\n",
       "      <th>last_uc</th>\n",
       "      <th>len_cov</th>\n",
       "      <th>num_lc_cov</th>\n",
       "      <th>N_eff</th>\n",
       "    </tr>\n",
       "  </thead>\n",
       "  <tbody>\n",
       "    <tr>\n",
       "      <th>0</th>\n",
       "      <td>output/TEV/align/TEV</td>\n",
       "      <td>0.7</td>\n",
       "      <td>217</td>\n",
       "      <td>236</td>\n",
       "      <td>233</td>\n",
       "      <td>3</td>\n",
       "      <td>0.987</td>\n",
       "      <td>2</td>\n",
       "      <td>234</td>\n",
       "      <td>233</td>\n",
       "      <td>0</td>\n",
       "      <td>NaN</td>\n",
       "    </tr>\n",
       "  </tbody>\n",
       "</table>\n",
       "</div>"
      ],
      "text/plain": [
       "                 prefix  minimum_column_coverage  num_seqs  seqlen  num_cov  \\\n",
       "0  output/TEV/align/TEV                      0.7       217     236      233   \n",
       "\n",
       "   num_lc  perc_cov  1st_uc  last_uc  len_cov  num_lc_cov  N_eff  \n",
       "0       3     0.987       2      234      233           0    NaN  "
      ]
     },
     "execution_count": 3,
     "metadata": {},
     "output_type": "execute_result"
    }
   ],
   "source": [
    "pd.read_csv(\"/disk2/fli/EVcouplings/output/TEV/align/TEV_alignment_statistics.csv\")"
   ]
  },
  {
   "cell_type": "code",
   "execution_count": null,
   "metadata": {},
   "outputs": [],
   "source": []
  }
 ],
 "metadata": {
  "kernelspec": {
   "display_name": "SSMuLA",
   "language": "python",
   "name": "python3"
  },
  "language_info": {
   "codemirror_mode": {
    "name": "ipython",
    "version": 3
   },
   "file_extension": ".py",
   "mimetype": "text/x-python",
   "name": "python",
   "nbconvert_exporter": "python",
   "pygments_lexer": "ipython3",
   "version": "3.10.14"
  }
 },
 "nbformat": 4,
 "nbformat_minor": 2
}
