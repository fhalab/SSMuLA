{
 "cells": [
  {
   "cell_type": "code",
   "execution_count": 1,
   "metadata": {},
   "outputs": [
    {
     "name": "stdout",
     "output_type": "stream",
     "text": [
      "/disk2/fli/SSMuLA\n"
     ]
    }
   ],
   "source": [
    "%cd ~/SSMuLA"
   ]
  },
  {
   "cell_type": "code",
   "execution_count": 2,
   "metadata": {},
   "outputs": [],
   "source": [
    "%load_ext autoreload\n",
    "%autoreload 2\n",
    "%load_ext blackcellmagic"
   ]
  },
  {
   "cell_type": "code",
   "execution_count": 3,
   "metadata": {},
   "outputs": [],
   "source": [
    "import pandas as pd\n",
    "import numpy as np"
   ]
  },
  {
   "cell_type": "code",
   "execution_count": 4,
   "metadata": {},
   "outputs": [],
   "source": [
    "df = pd.read_csv(\"add_data/tev3_flighted_fitnesses.csv\")"
   ]
  },
  {
   "cell_type": "code",
   "execution_count": 5,
   "metadata": {},
   "outputs": [
    {
     "data": {
      "text/html": [
       "<div>\n",
       "<style scoped>\n",
       "    .dataframe tbody tr th:only-of-type {\n",
       "        vertical-align: middle;\n",
       "    }\n",
       "\n",
       "    .dataframe tbody tr th {\n",
       "        vertical-align: top;\n",
       "    }\n",
       "\n",
       "    .dataframe thead th {\n",
       "        text-align: right;\n",
       "    }\n",
       "</style>\n",
       "<table border=\"1\" class=\"dataframe\">\n",
       "  <thead>\n",
       "    <tr style=\"text-align: right;\">\n",
       "      <th></th>\n",
       "      <th>Sequences</th>\n",
       "      <th>Number of Reads</th>\n",
       "      <th>Fitness Mean</th>\n",
       "      <th>Fitness Variance</th>\n",
       "    </tr>\n",
       "  </thead>\n",
       "  <tbody>\n",
       "    <tr>\n",
       "      <th>0</th>\n",
       "      <td>HTY</td>\n",
       "      <td>10</td>\n",
       "      <td>-0.998598</td>\n",
       "      <td>0.023559</td>\n",
       "    </tr>\n",
       "    <tr>\n",
       "      <th>1</th>\n",
       "      <td>WNG</td>\n",
       "      <td>2</td>\n",
       "      <td>-0.313128</td>\n",
       "      <td>0.062665</td>\n",
       "    </tr>\n",
       "    <tr>\n",
       "      <th>2</th>\n",
       "      <td>QAM</td>\n",
       "      <td>14</td>\n",
       "      <td>-0.154889</td>\n",
       "      <td>0.010164</td>\n",
       "    </tr>\n",
       "    <tr>\n",
       "      <th>3</th>\n",
       "      <td>WMA</td>\n",
       "      <td>8</td>\n",
       "      <td>-0.130526</td>\n",
       "      <td>0.015088</td>\n",
       "    </tr>\n",
       "    <tr>\n",
       "      <th>4</th>\n",
       "      <td>PPV</td>\n",
       "      <td>44</td>\n",
       "      <td>-0.652319</td>\n",
       "      <td>0.004308</td>\n",
       "    </tr>\n",
       "    <tr>\n",
       "      <th>...</th>\n",
       "      <td>...</td>\n",
       "      <td>...</td>\n",
       "      <td>...</td>\n",
       "      <td>...</td>\n",
       "    </tr>\n",
       "    <tr>\n",
       "      <th>6720</th>\n",
       "      <td>SVR</td>\n",
       "      <td>15</td>\n",
       "      <td>-0.595815</td>\n",
       "      <td>0.010214</td>\n",
       "    </tr>\n",
       "    <tr>\n",
       "      <th>6721</th>\n",
       "      <td>QMI</td>\n",
       "      <td>59</td>\n",
       "      <td>-0.697410</td>\n",
       "      <td>0.003494</td>\n",
       "    </tr>\n",
       "    <tr>\n",
       "      <th>6722</th>\n",
       "      <td>LFS</td>\n",
       "      <td>33</td>\n",
       "      <td>-0.178564</td>\n",
       "      <td>0.004329</td>\n",
       "    </tr>\n",
       "    <tr>\n",
       "      <th>6723</th>\n",
       "      <td>NSM</td>\n",
       "      <td>5</td>\n",
       "      <td>-1.175829</td>\n",
       "      <td>0.055315</td>\n",
       "    </tr>\n",
       "    <tr>\n",
       "      <th>6724</th>\n",
       "      <td>TPR</td>\n",
       "      <td>17</td>\n",
       "      <td>-0.973847</td>\n",
       "      <td>0.013940</td>\n",
       "    </tr>\n",
       "  </tbody>\n",
       "</table>\n",
       "<p>6725 rows × 4 columns</p>\n",
       "</div>"
      ],
      "text/plain": [
       "     Sequences  Number of Reads  Fitness Mean  Fitness Variance\n",
       "0          HTY               10     -0.998598          0.023559\n",
       "1          WNG                2     -0.313128          0.062665\n",
       "2          QAM               14     -0.154889          0.010164\n",
       "3          WMA                8     -0.130526          0.015088\n",
       "4          PPV               44     -0.652319          0.004308\n",
       "...        ...              ...           ...               ...\n",
       "6720       SVR               15     -0.595815          0.010214\n",
       "6721       QMI               59     -0.697410          0.003494\n",
       "6722       LFS               33     -0.178564          0.004329\n",
       "6723       NSM                5     -1.175829          0.055315\n",
       "6724       TPR               17     -0.973847          0.013940\n",
       "\n",
       "[6725 rows x 4 columns]"
      ]
     },
     "execution_count": 5,
     "metadata": {},
     "output_type": "execute_result"
    }
   ],
   "source": [
    "df"
   ]
  },
  {
   "cell_type": "code",
   "execution_count": 6,
   "metadata": {},
   "outputs": [
    {
     "data": {
      "text/plain": [
       "0.840625"
      ]
     },
     "execution_count": 6,
     "metadata": {},
     "output_type": "execute_result"
    }
   ],
   "source": [
    "6725 / 20**3"
   ]
  },
  {
   "cell_type": "code",
   "execution_count": 7,
   "metadata": {},
   "outputs": [],
   "source": [
    "import matplotlib.pyplot as plt"
   ]
  },
  {
   "cell_type": "code",
   "execution_count": 24,
   "metadata": {},
   "outputs": [
    {
     "data": {
      "text/html": [
       "<div>\n",
       "<style scoped>\n",
       "    .dataframe tbody tr th:only-of-type {\n",
       "        vertical-align: middle;\n",
       "    }\n",
       "\n",
       "    .dataframe tbody tr th {\n",
       "        vertical-align: top;\n",
       "    }\n",
       "\n",
       "    .dataframe thead th {\n",
       "        text-align: right;\n",
       "    }\n",
       "</style>\n",
       "<table border=\"1\" class=\"dataframe\">\n",
       "  <thead>\n",
       "    <tr style=\"text-align: right;\">\n",
       "      <th></th>\n",
       "      <th>Sequences</th>\n",
       "      <th>Number of Reads</th>\n",
       "      <th>Fitness Mean</th>\n",
       "      <th>Fitness Variance</th>\n",
       "    </tr>\n",
       "  </thead>\n",
       "  <tbody>\n",
       "    <tr>\n",
       "      <th>4637</th>\n",
       "      <td>NRQ</td>\n",
       "      <td>122</td>\n",
       "      <td>0.245154</td>\n",
       "      <td>0.000498</td>\n",
       "    </tr>\n",
       "  </tbody>\n",
       "</table>\n",
       "</div>"
      ],
      "text/plain": [
       "     Sequences  Number of Reads  Fitness Mean  Fitness Variance\n",
       "4637       NRQ              122      0.245154          0.000498"
      ]
     },
     "execution_count": 24,
     "metadata": {},
     "output_type": "execute_result"
    }
   ],
   "source": [
    "df[df[\"Sequences\"] == \"NRQ\"]"
   ]
  },
  {
   "cell_type": "code",
   "execution_count": 26,
   "metadata": {},
   "outputs": [
    {
     "data": {
      "text/plain": [
       "(0.8512114, -1.1766073)"
      ]
     },
     "execution_count": 26,
     "metadata": {},
     "output_type": "execute_result"
    }
   ],
   "source": [
    "df[\"Fitness Mean\"].max(), df[\"Fitness Mean\"].min()"
   ]
  },
  {
   "cell_type": "code",
   "execution_count": 49,
   "metadata": {},
   "outputs": [
    {
     "data": {
      "text/html": [
       "<div>\n",
       "<style scoped>\n",
       "    .dataframe tbody tr th:only-of-type {\n",
       "        vertical-align: middle;\n",
       "    }\n",
       "\n",
       "    .dataframe tbody tr th {\n",
       "        vertical-align: top;\n",
       "    }\n",
       "\n",
       "    .dataframe thead th {\n",
       "        text-align: right;\n",
       "    }\n",
       "</style>\n",
       "<table border=\"1\" class=\"dataframe\">\n",
       "  <thead>\n",
       "    <tr style=\"text-align: right;\">\n",
       "      <th></th>\n",
       "      <th>Sequences</th>\n",
       "      <th>Number of Reads</th>\n",
       "      <th>Fitness Mean</th>\n",
       "      <th>Fitness Variance</th>\n",
       "    </tr>\n",
       "  </thead>\n",
       "  <tbody>\n",
       "    <tr>\n",
       "      <th>2795</th>\n",
       "      <td>HGW</td>\n",
       "      <td>1</td>\n",
       "      <td>-1.176607</td>\n",
       "      <td>0.284717</td>\n",
       "    </tr>\n",
       "    <tr>\n",
       "      <th>5828</th>\n",
       "      <td>TKD</td>\n",
       "      <td>1</td>\n",
       "      <td>-1.176607</td>\n",
       "      <td>0.284717</td>\n",
       "    </tr>\n",
       "  </tbody>\n",
       "</table>\n",
       "</div>"
      ],
      "text/plain": [
       "     Sequences  Number of Reads  Fitness Mean  Fitness Variance\n",
       "2795       HGW                1     -1.176607          0.284717\n",
       "5828       TKD                1     -1.176607          0.284717"
      ]
     },
     "execution_count": 49,
     "metadata": {},
     "output_type": "execute_result"
    }
   ],
   "source": [
    "df[df[\"Fitness Mean\"] <= df[\"Fitness Mean\"].min()]"
   ]
  },
  {
   "cell_type": "code",
   "execution_count": 81,
   "metadata": {},
   "outputs": [
    {
     "data": {
      "text/plain": [
       "array([1055, 1056, 1058, 1059, 1076, 1077, 1083, 1085, 1086, 1093, 1094,\n",
       "       1146, 1147, 1149, 1165, 1166, 1170, 1171, 1175, 1198, 1199, 1201,\n",
       "       1207, 1208, 1210, 1211, 1229, 1231, 1235, 1236, 1237, 1238, 1241,\n",
       "       1262, 1263, 1271, 1272, 1284, 1285, 1290, 1291, 1307, 1315, 1317,\n",
       "       1318, 1319, 1321, 1339, 1342, 1344, 1345, 1368, 1369, 1374, 1375,\n",
       "       1392, 1422, 1423, 1424, 1425, 1426, 1431, 1432, 1434, 1450, 1451,\n",
       "       1453, 1454, 1464, 1465, 1482, 1483, 1484, 1485, 1490, 1492, 1496,\n",
       "       1497, 1511, 1512, 1513, 1529, 1530, 1534, 1535, 1550, 1553, 1554,\n",
       "       1558, 1586, 1587, 1602, 1603, 1607, 1608, 1616, 1617, 1618, 1625,\n",
       "       1626, 1655, 1656, 1667, 1673, 1674, 1675, 1676, 1678])"
      ]
     },
     "execution_count": 81,
     "metadata": {},
     "output_type": "execute_result"
    }
   ],
   "source": [
    "# Step 1: Compute the first derivative\n",
    "first_derivative = np.diff(sorted(df[\"Fitness Mean\"])[:int(len(df) * 0.25)])\n",
    "\n",
    "# Step 2: Compute the second derivative\n",
    "second_derivative = np.diff(first_derivative)\n",
    "# Set a threshold for what you consider a \"significant change\"\n",
    "threshold = np.std(second_derivative) * 2  # Example threshold: two standard deviations above mean\n",
    "significant_changes = np.where(np.abs(second_derivative) > threshold)[0] + 1  # +1 to correct index after diff\n",
    "significant_changes"
   ]
  },
  {
   "cell_type": "code",
   "execution_count": 79,
   "metadata": {},
   "outputs": [
    {
     "data": {
      "text/plain": [
       "0.00043850146550216426"
      ]
     },
     "execution_count": 79,
     "metadata": {},
     "output_type": "execute_result"
    }
   ],
   "source": [
    "threshold"
   ]
  },
  {
   "cell_type": "code",
   "execution_count": 69,
   "metadata": {},
   "outputs": [
    {
     "data": {
      "text/plain": [
       "1055"
      ]
     },
     "execution_count": 69,
     "metadata": {},
     "output_type": "execute_result"
    }
   ],
   "source": [
    "cutoff_index = significant_changes[0]\n",
    "cutoff_index"
   ]
  },
  {
   "cell_type": "code",
   "execution_count": 70,
   "metadata": {},
   "outputs": [
    {
     "data": {
      "text/plain": [
       "-1.1758288"
      ]
     },
     "execution_count": 70,
     "metadata": {},
     "output_type": "execute_result"
    }
   ],
   "source": [
    "cutoff = np.sort(df[\"Fitness Mean\"])[cutoff_index]\n",
    "cutoff"
   ]
  },
  {
   "cell_type": "code",
   "execution_count": 67,
   "metadata": {},
   "outputs": [
    {
     "data": {
      "image/png": "[encoded data removed]",
      "text/plain": [
       "<Figure size 640x480 with 1 Axes>"
      ]
     },
     "metadata": {},
     "output_type": "display_data"
    }
   ],
   "source": [
    "# Prepare colors based on the cutoff\n",
    "colors = ['red' if value < cutoff else 'blue' for value in sorted(df[\"Fitness Mean\"])]\n",
    "\n",
    "# Plot each point with the corresponding color\n",
    "for i, value in enumerate(sorted(df[\"Fitness Mean\"])):\n",
    "    plt.plot(i, value, 'o', color=colors[i])\n",
    "\n",
    "plt.show()"
   ]
  },
  {
   "cell_type": "code",
   "execution_count": 71,
   "metadata": {},
   "outputs": [
    {
     "data": {
      "image/png": "[encoded data removed]",
      "text/plain": [
       "<Figure size 640x480 with 1 Axes>"
      ]
     },
     "metadata": {},
     "output_type": "display_data"
    }
   ],
   "source": [
    "plt.plot(np.sort(df[\"Fitness Mean\"]))\n",
    "plt.axvline(x=cutoff_index, color='r', linestyle='--')\n",
    "plt.show()"
   ]
  },
  {
   "cell_type": "code",
   "execution_count": 76,
   "metadata": {},
   "outputs": [
    {
     "data": {
      "text/plain": [
       "array([-1.1758288, -1.1758288, -1.1742709])"
      ]
     },
     "execution_count": 76,
     "metadata": {},
     "output_type": "execute_result"
    }
   ],
   "source": [
    "np.sort(df[\"Fitness Mean\"])[cutoff_index-1: cutoff_index+2]"
   ]
  },
  {
   "cell_type": "code",
   "execution_count": 78,
   "metadata": {},
   "outputs": [
    {
     "data": {
      "text/plain": [
       "(-1.1758288, -1.1742709)"
      ]
     },
     "execution_count": 78,
     "metadata": {},
     "output_type": "execute_result"
    }
   ],
   "source": [
    "np.sort(df[\"Fitness Mean\"])[cutoff_index], np.sort(df[\"Fitness Mean\"])[cutoff_index+1]"
   ]
  },
  {
   "cell_type": "code",
   "execution_count": 72,
   "metadata": {},
   "outputs": [
    {
     "data": {
      "text/html": [
       "<div>\n",
       "<style scoped>\n",
       "    .dataframe tbody tr th:only-of-type {\n",
       "        vertical-align: middle;\n",
       "    }\n",
       "\n",
       "    .dataframe tbody tr th {\n",
       "        vertical-align: top;\n",
       "    }\n",
       "\n",
       "    .dataframe thead th {\n",
       "        text-align: right;\n",
       "    }\n",
       "</style>\n",
       "<table border=\"1\" class=\"dataframe\">\n",
       "  <thead>\n",
       "    <tr style=\"text-align: right;\">\n",
       "      <th></th>\n",
       "      <th>Sequences</th>\n",
       "      <th>Number of Reads</th>\n",
       "      <th>Fitness Mean</th>\n",
       "      <th>Fitness Variance</th>\n",
       "    </tr>\n",
       "  </thead>\n",
       "  <tbody>\n",
       "    <tr>\n",
       "      <th>4269</th>\n",
       "      <td>MMY</td>\n",
       "      <td>15</td>\n",
       "      <td>-1.175829</td>\n",
       "      <td>0.018438</td>\n",
       "    </tr>\n",
       "    <tr>\n",
       "      <th>6187</th>\n",
       "      <td>DVF</td>\n",
       "      <td>15</td>\n",
       "      <td>-1.175829</td>\n",
       "      <td>0.018438</td>\n",
       "    </tr>\n",
       "  </tbody>\n",
       "</table>\n",
       "</div>"
      ],
      "text/plain": [
       "     Sequences  Number of Reads  Fitness Mean  Fitness Variance\n",
       "4269       MMY               15     -1.175829          0.018438\n",
       "6187       DVF               15     -1.175829          0.018438"
      ]
     },
     "execution_count": 72,
     "metadata": {},
     "output_type": "execute_result"
    }
   ],
   "source": [
    "df[df[\"Fitness Mean\"] == cutoff]"
   ]
  },
  {
   "cell_type": "code",
   "execution_count": 47,
   "metadata": {},
   "outputs": [
    {
     "data": {
      "image/png": "[encoded data removed]",
      "text/plain": [
       "<Figure size 800x400 with 1 Axes>"
      ]
     },
     "metadata": {},
     "output_type": "display_data"
    }
   ],
   "source": [
    "# Sorting the data\n",
    "# x = np.sort(df['Number of Reads'])\n",
    "x = np.sort(df[\"Fitness Mean\"])\n",
    "# Calculating the ECDF\n",
    "y = np.arange(1, len(x)+1) / len(x)\n",
    "\n",
    "# Plotting\n",
    "plt.figure(figsize=(8, 4))\n",
    "plt.step(x, y, where='post')\n",
    "plt.title('ECDF of Values')\n",
    "plt.xlabel('Value')\n",
    "plt.ylabel('ECDF')\n",
    "\n",
    "plt.axvline(x=df[\"Fitness Mean\"].min(), color='r', linestyle='--')\n",
    "# plt.grid(True)\n",
    "plt.show()\n"
   ]
  },
  {
   "cell_type": "code",
   "execution_count": 9,
   "metadata": {},
   "outputs": [
    {
     "data": {
      "text/html": [
       "<div>\n",
       "<style scoped>\n",
       "    .dataframe tbody tr th:only-of-type {\n",
       "        vertical-align: middle;\n",
       "    }\n",
       "\n",
       "    .dataframe tbody tr th {\n",
       "        vertical-align: top;\n",
       "    }\n",
       "\n",
       "    .dataframe thead th {\n",
       "        text-align: right;\n",
       "    }\n",
       "</style>\n",
       "<table border=\"1\" class=\"dataframe\">\n",
       "  <thead>\n",
       "    <tr style=\"text-align: right;\">\n",
       "      <th></th>\n",
       "      <th>Sequences</th>\n",
       "      <th>Number of Reads</th>\n",
       "      <th>Fitness Mean</th>\n",
       "      <th>Fitness Variance</th>\n",
       "      <th>Complete Sequence</th>\n",
       "      <th>Mutation Distance</th>\n",
       "      <th>Original Read Count</th>\n",
       "    </tr>\n",
       "  </thead>\n",
       "  <tbody>\n",
       "    <tr>\n",
       "      <th>0</th>\n",
       "      <td>IEMG</td>\n",
       "      <td>68</td>\n",
       "      <td>-0.076679</td>\n",
       "      <td>0.001506</td>\n",
       "      <td>MFKGPRDYNPISSTICHLTNESDGHTTSLYGIGFGPFIITNKHLFR...</td>\n",
       "      <td>4</td>\n",
       "      <td>8.0</td>\n",
       "    </tr>\n",
       "    <tr>\n",
       "      <th>1</th>\n",
       "      <td>HMIR</td>\n",
       "      <td>83</td>\n",
       "      <td>0.004400</td>\n",
       "      <td>0.001050</td>\n",
       "      <td>MFKGPRDYNPISSTICHLTNESDGHTTSLYGIGFGPFIITNKHLFR...</td>\n",
       "      <td>4</td>\n",
       "      <td>1.0</td>\n",
       "    </tr>\n",
       "    <tr>\n",
       "      <th>2</th>\n",
       "      <td>HNED</td>\n",
       "      <td>100</td>\n",
       "      <td>-0.013391</td>\n",
       "      <td>0.000910</td>\n",
       "      <td>MFKGPRDYNPISSTICHLTNESDGHTTSLYGIGFGPFIITNKHLFR...</td>\n",
       "      <td>4</td>\n",
       "      <td>1.0</td>\n",
       "    </tr>\n",
       "    <tr>\n",
       "      <th>3</th>\n",
       "      <td>HWFP</td>\n",
       "      <td>71</td>\n",
       "      <td>-0.080454</td>\n",
       "      <td>0.001371</td>\n",
       "      <td>MFKGPRDYNPISSTICHLTNESDGHTTSLYGIGFGPFIITNKHLFR...</td>\n",
       "      <td>4</td>\n",
       "      <td>1.0</td>\n",
       "    </tr>\n",
       "    <tr>\n",
       "      <th>4</th>\n",
       "      <td>HTFN</td>\n",
       "      <td>56</td>\n",
       "      <td>-0.009842</td>\n",
       "      <td>0.001542</td>\n",
       "      <td>MFKGPRDYNPISSTICHLTNESDGHTTSLYGIGFGPFIITNKHLFR...</td>\n",
       "      <td>4</td>\n",
       "      <td>1.0</td>\n",
       "    </tr>\n",
       "    <tr>\n",
       "      <th>...</th>\n",
       "      <td>...</td>\n",
       "      <td>...</td>\n",
       "      <td>...</td>\n",
       "      <td>...</td>\n",
       "      <td>...</td>\n",
       "      <td>...</td>\n",
       "      <td>...</td>\n",
       "    </tr>\n",
       "    <tr>\n",
       "      <th>159127</th>\n",
       "      <td>CKLF</td>\n",
       "      <td>55</td>\n",
       "      <td>-0.049176</td>\n",
       "      <td>0.001814</td>\n",
       "      <td>MFKGPRDYNPISSTICHLTNESDGHTTSLYGIGFGPFIITNKHLFR...</td>\n",
       "      <td>4</td>\n",
       "      <td>1.0</td>\n",
       "    </tr>\n",
       "    <tr>\n",
       "      <th>159128</th>\n",
       "      <td>DHRT</td>\n",
       "      <td>374</td>\n",
       "      <td>0.063391</td>\n",
       "      <td>0.000242</td>\n",
       "      <td>MFKGPRDYNPISSTICHLTNESDGHTTSLYGIGFGPFIITNKHLFR...</td>\n",
       "      <td>4</td>\n",
       "      <td>11.0</td>\n",
       "    </tr>\n",
       "    <tr>\n",
       "      <th>159129</th>\n",
       "      <td>CGGF</td>\n",
       "      <td>9</td>\n",
       "      <td>0.018670</td>\n",
       "      <td>0.009830</td>\n",
       "      <td>MFKGPRDYNPISSTICHLTNESDGHTTSLYGIGFGPFIITNKHLFR...</td>\n",
       "      <td>4</td>\n",
       "      <td>NaN</td>\n",
       "    </tr>\n",
       "    <tr>\n",
       "      <th>159130</th>\n",
       "      <td>CVSV</td>\n",
       "      <td>1059</td>\n",
       "      <td>-0.010167</td>\n",
       "      <td>0.000087</td>\n",
       "      <td>MFKGPRDYNPISSTICHLTNESDGHTTSLYGIGFGPFIITNKHLFR...</td>\n",
       "      <td>4</td>\n",
       "      <td>27.0</td>\n",
       "    </tr>\n",
       "    <tr>\n",
       "      <th>159131</th>\n",
       "      <td>CMIS</td>\n",
       "      <td>341</td>\n",
       "      <td>0.040918</td>\n",
       "      <td>0.000260</td>\n",
       "      <td>MFKGPRDYNPISSTICHLTNESDGHTTSLYGIGFGPFIITNKHLFR...</td>\n",
       "      <td>3</td>\n",
       "      <td>3.0</td>\n",
       "    </tr>\n",
       "  </tbody>\n",
       "</table>\n",
       "<p>159132 rows × 7 columns</p>\n",
       "</div>"
      ],
      "text/plain": [
       "       Sequences  Number of Reads  Fitness Mean  Fitness Variance  \\\n",
       "0           IEMG               68     -0.076679          0.001506   \n",
       "1           HMIR               83      0.004400          0.001050   \n",
       "2           HNED              100     -0.013391          0.000910   \n",
       "3           HWFP               71     -0.080454          0.001371   \n",
       "4           HTFN               56     -0.009842          0.001542   \n",
       "...          ...              ...           ...               ...   \n",
       "159127      CKLF               55     -0.049176          0.001814   \n",
       "159128      DHRT              374      0.063391          0.000242   \n",
       "159129      CGGF                9      0.018670          0.009830   \n",
       "159130      CVSV             1059     -0.010167          0.000087   \n",
       "159131      CMIS              341      0.040918          0.000260   \n",
       "\n",
       "                                        Complete Sequence  Mutation Distance  \\\n",
       "0       MFKGPRDYNPISSTICHLTNESDGHTTSLYGIGFGPFIITNKHLFR...                  4   \n",
       "1       MFKGPRDYNPISSTICHLTNESDGHTTSLYGIGFGPFIITNKHLFR...                  4   \n",
       "2       MFKGPRDYNPISSTICHLTNESDGHTTSLYGIGFGPFIITNKHLFR...                  4   \n",
       "3       MFKGPRDYNPISSTICHLTNESDGHTTSLYGIGFGPFIITNKHLFR...                  4   \n",
       "4       MFKGPRDYNPISSTICHLTNESDGHTTSLYGIGFGPFIITNKHLFR...                  4   \n",
       "...                                                   ...                ...   \n",
       "159127  MFKGPRDYNPISSTICHLTNESDGHTTSLYGIGFGPFIITNKHLFR...                  4   \n",
       "159128  MFKGPRDYNPISSTICHLTNESDGHTTSLYGIGFGPFIITNKHLFR...                  4   \n",
       "159129  MFKGPRDYNPISSTICHLTNESDGHTTSLYGIGFGPFIITNKHLFR...                  4   \n",
       "159130  MFKGPRDYNPISSTICHLTNESDGHTTSLYGIGFGPFIITNKHLFR...                  4   \n",
       "159131  MFKGPRDYNPISSTICHLTNESDGHTTSLYGIGFGPFIITNKHLFR...                  3   \n",
       "\n",
       "        Original Read Count  \n",
       "0                       8.0  \n",
       "1                       1.0  \n",
       "2                       1.0  \n",
       "3                       1.0  \n",
       "4                       1.0  \n",
       "...                     ...  \n",
       "159127                  1.0  \n",
       "159128                 11.0  \n",
       "159129                  NaN  \n",
       "159130                 27.0  \n",
       "159131                  3.0  \n",
       "\n",
       "[159132 rows x 7 columns]"
      ]
     },
     "execution_count": 9,
     "metadata": {},
     "output_type": "execute_result"
    }
   ],
   "source": [
    "df_4site = pd.read_csv(\"add_data/tev4_fitnesses_read_count.csv\")\n",
    "df_4site"
   ]
  },
  {
   "cell_type": "code",
   "execution_count": 10,
   "metadata": {},
   "outputs": [
    {
     "data": {
      "text/html": [
       "<div>\n",
       "<style scoped>\n",
       "    .dataframe tbody tr th:only-of-type {\n",
       "        vertical-align: middle;\n",
       "    }\n",
       "\n",
       "    .dataframe tbody tr th {\n",
       "        vertical-align: top;\n",
       "    }\n",
       "\n",
       "    .dataframe thead th {\n",
       "        text-align: right;\n",
       "    }\n",
       "</style>\n",
       "<table border=\"1\" class=\"dataframe\">\n",
       "  <thead>\n",
       "    <tr style=\"text-align: right;\">\n",
       "      <th></th>\n",
       "      <th>Sequences</th>\n",
       "      <th>Number of Reads</th>\n",
       "      <th>Fitness Mean</th>\n",
       "      <th>Fitness Variance</th>\n",
       "      <th>Complete Sequence</th>\n",
       "      <th>Mutation Distance</th>\n",
       "      <th>Original Read Count</th>\n",
       "    </tr>\n",
       "  </thead>\n",
       "  <tbody>\n",
       "    <tr>\n",
       "      <th>104138</th>\n",
       "      <td>TDHS</td>\n",
       "      <td>721</td>\n",
       "      <td>0.414362</td>\n",
       "      <td>0.0001</td>\n",
       "      <td>MFKGPRDYNPISSTICHLTNESDGHTTSLYGIGFGPFIITNKHLFR...</td>\n",
       "      <td>0</td>\n",
       "      <td>21.0</td>\n",
       "    </tr>\n",
       "  </tbody>\n",
       "</table>\n",
       "</div>"
      ],
      "text/plain": [
       "       Sequences  Number of Reads  Fitness Mean  Fitness Variance  \\\n",
       "104138      TDHS              721      0.414362            0.0001   \n",
       "\n",
       "                                        Complete Sequence  Mutation Distance  \\\n",
       "104138  MFKGPRDYNPISSTICHLTNESDGHTTSLYGIGFGPFIITNKHLFR...                  0   \n",
       "\n",
       "        Original Read Count  \n",
       "104138                 21.0  "
      ]
     },
     "execution_count": 10,
     "metadata": {},
     "output_type": "execute_result"
    }
   ],
   "source": [
    "df_4site[df_4site[\"Mutation Distance\"] == 0]"
   ]
  },
  {
   "cell_type": "code",
   "execution_count": 17,
   "metadata": {},
   "outputs": [
    {
     "data": {
      "text/plain": [
       "'MFKGPRDYNPISSTICHLTNESDGHTTSLYGIGFGPFIITNKHLFRRNNGTLLVQSLHGVFKVKNTTTLQQHLIDGRDMIIIRMPKDFPPFPQKLKFREPQREERICLVTTNFQTKSMSSMVSDTSCTFPSSDGIFWKHWIQTKDGQCGSPLVSTRDGFIVGIHSASNFTNTNNYFTSVPKNFMELLTNQEAQQWVSGWRLNADSVLWGGHKVFMVKPEEPFQPVKEATQLMN'"
      ]
     },
     "execution_count": 17,
     "metadata": {},
     "output_type": "execute_result"
    }
   ],
   "source": [
    "df_4site[df_4site[\"Mutation Distance\"] == 0][\"Complete Sequence\"].values[0]"
   ]
  },
  {
   "cell_type": "code",
   "execution_count": 28,
   "metadata": {},
   "outputs": [
    {
     "data": {
      "text/plain": [
       "[<matplotlib.lines.Line2D at 0x7f1aa9480580>]"
      ]
     },
     "execution_count": 28,
     "metadata": {},
     "output_type": "execute_result"
    },
    {
     "data": {
      "image/png": "[encoded data removed]",
      "text/plain": [
       "<Figure size 640x480 with 1 Axes>"
      ]
     },
     "metadata": {},
     "output_type": "display_data"
    }
   ],
   "source": [
    "plt.plot(sorted(df_4site['Fitness Mean']))"
   ]
  },
  {
   "cell_type": "code",
   "execution_count": 27,
   "metadata": {},
   "outputs": [
    {
     "data": {
      "image/png": "[encoded data removed]",
      "text/plain": [
       "<Figure size 800x400 with 1 Axes>"
      ]
     },
     "metadata": {},
     "output_type": "display_data"
    }
   ],
   "source": [
    "# Sorting the data\n",
    "# x = np.sort(df_4site['Number of Reads'])\n",
    "x = np.sort(df_4site[\"Fitness Mean\"])\n",
    "# Calculating the ECDF\n",
    "y = np.arange(1, len(x)+1) / len(x)\n",
    "\n",
    "# Plotting\n",
    "plt.figure(figsize=(8, 4))\n",
    "plt.step(x, y, where='post')\n",
    "plt.title('ECDF of Values')\n",
    "plt.xlabel('Value')\n",
    "plt.ylabel('ECDF')\n",
    "# plt.grid(True)\n",
    "plt.show()\n"
   ]
  },
  {
   "cell_type": "code",
   "execution_count": 11,
   "metadata": {},
   "outputs": [],
   "source": [
    "from Bio.Seq import Seq"
   ]
  },
  {
   "cell_type": "code",
   "execution_count": 15,
   "metadata": {},
   "outputs": [],
   "source": [
    "t7_aa = \"MNTINIAKNDFSDIELAAIPFNTLADHYGERLAREQLALEHESYEMGEARFRKMFERQLKAGEVADNAAAKPLITTLLPKMIARINDWFEEVKAKRGKRPTAFQFLQEIKPEAVAYITIKTTLACLTSADNTTVQAVASAIGRAIEDEARFGRIRDLEAKHFKKNVEEQLNKRVGHVYKKAFMQVVEADMLSKGLLGGEAWSSWHKEDSIHVGVRCIEMLIESTGMVSLHRQNAGVVGQDSETIELAPEYAEAIATRAGALAGISPMFQPCVVPPKPWTGITGGGYWANGRRPLALVRTHSKKALMRYEDVYMPEVYKAINIAQNTAWKINKKVLAVANVITKWKHCPVEDIPAIEREELPMKPEDIDMNPEALTAWKRAAAAVYRKDKARKSRRISLEFMLEQANKFANHKAIWFPYNMDWRGRVYAVSMFNPQGNDMTKGLLTLAKGKPIGKEGYYWLKIHGANCAGVDKVPFPERIKFIEENHENIMACAKSPLENTWWAEQDSPFCFLAFCFEYAGVQHHGLSYNCSLPLAFDGSCSGIQHFSAMLRDEVGGRAVNLLPSETVQDIYGIVAKKVNEILQADAINGTDNEVVTVTDENTGEISEKVKLGTKALAGQWLAYGVTRSVTKRSVMTLAYGSKEFGFRQQVLEDTIQPAIDSGKGLMFTQPNQAAGYMAKLIWESVSVTVVAAVEAMNWLKSAAKLLAAEVKDKKTGEILRKRCAVHWVTPDGFPVWQEYKKPIQTRLNLMFLGQFRLQPTINTNKDSEIDAHKQESGIAPNFVHSQDGSHLRKTVVWAHEKYGIESFALIHDSFGTIPADAANLFKAVRETMVDTYESCDVLADFYDQFADQLHESQLDKMPALPAKGNLNLRDILESDFAFA\""
   ]
  },
  {
   "cell_type": "code",
   "execution_count": 17,
   "metadata": {},
   "outputs": [
    {
     "data": {
      "text/plain": [
       "('N', 'R', 'Q')"
      ]
     },
     "execution_count": 17,
     "metadata": {},
     "output_type": "execute_result"
    }
   ],
   "source": [
    "t7_aa[748-1], t7_aa[756-1], t7_aa[758-1]"
   ]
  },
  {
   "cell_type": "code",
   "execution_count": null,
   "metadata": {},
   "outputs": [],
   "source": []
  }
 ],
 "metadata": {
  "kernelspec": {
   "display_name": "SSMuLA",
   "language": "python",
   "name": "python3"
  },
  "language_info": {
   "codemirror_mode": {
    "name": "ipython",
    "version": 3
   },
   "file_extension": ".py",
   "mimetype": "text/x-python",
   "name": "python",
   "nbconvert_exporter": "python",
   "pygments_lexer": "ipython3",
   "version": "3.10.14"
  }
 },
 "nbformat": 4,
 "nbformat_minor": 2
}
