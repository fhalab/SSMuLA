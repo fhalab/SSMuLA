{
 "cells": [
  {
   "cell_type": "code",
   "execution_count": 1,
   "metadata": {},
   "outputs": [
    {
     "name": "stdout",
     "output_type": "stream",
     "text": [
      "/disk2/fli/SSMuLA\n"
     ]
    }
   ],
   "source": [
    "%cd ~/SSMuLA"
   ]
  },
  {
   "cell_type": "code",
   "execution_count": 2,
   "metadata": {},
   "outputs": [],
   "source": [
    "%load_ext autoreload\n",
    "%autoreload 2\n",
    "%load_ext blackcellmagic"
   ]
  },
  {
   "cell_type": "code",
   "execution_count": 3,
   "metadata": {},
   "outputs": [],
   "source": [
    "import pandas as pd\n",
    "import numpy as np"
   ]
  },
  {
   "cell_type": "code",
   "execution_count": 4,
   "metadata": {},
   "outputs": [],
   "source": [
    "df = pd.read_csv(\"add_data/tev3_flighted_fitnesses.csv\")"
   ]
  },
  {
   "cell_type": "code",
   "execution_count": 5,
   "metadata": {},
   "outputs": [
    {
     "data": {
      "text/html": [
       "<div>\n",
       "<style scoped>\n",
       "    .dataframe tbody tr th:only-of-type {\n",
       "        vertical-align: middle;\n",
       "    }\n",
       "\n",
       "    .dataframe tbody tr th {\n",
       "        vertical-align: top;\n",
       "    }\n",
       "\n",
       "    .dataframe thead th {\n",
       "        text-align: right;\n",
       "    }\n",
       "</style>\n",
       "<table border=\"1\" class=\"dataframe\">\n",
       "  <thead>\n",
       "    <tr style=\"text-align: right;\">\n",
       "      <th></th>\n",
       "      <th>Sequences</th>\n",
       "      <th>Number of Reads</th>\n",
       "      <th>Fitness Mean</th>\n",
       "      <th>Fitness Variance</th>\n",
       "    </tr>\n",
       "  </thead>\n",
       "  <tbody>\n",
       "    <tr>\n",
       "      <th>0</th>\n",
       "      <td>HTY</td>\n",
       "      <td>10</td>\n",
       "      <td>-0.998598</td>\n",
       "      <td>0.023559</td>\n",
       "    </tr>\n",
       "    <tr>\n",
       "      <th>1</th>\n",
       "      <td>WNG</td>\n",
       "      <td>2</td>\n",
       "      <td>-0.313128</td>\n",
       "      <td>0.062665</td>\n",
       "    </tr>\n",
       "    <tr>\n",
       "      <th>2</th>\n",
       "      <td>QAM</td>\n",
       "      <td>14</td>\n",
       "      <td>-0.154889</td>\n",
       "      <td>0.010164</td>\n",
       "    </tr>\n",
       "    <tr>\n",
       "      <th>3</th>\n",
       "      <td>WMA</td>\n",
       "      <td>8</td>\n",
       "      <td>-0.130526</td>\n",
       "      <td>0.015088</td>\n",
       "    </tr>\n",
       "    <tr>\n",
       "      <th>4</th>\n",
       "      <td>PPV</td>\n",
       "      <td>44</td>\n",
       "      <td>-0.652319</td>\n",
       "      <td>0.004308</td>\n",
       "    </tr>\n",
       "    <tr>\n",
       "      <th>...</th>\n",
       "      <td>...</td>\n",
       "      <td>...</td>\n",
       "      <td>...</td>\n",
       "      <td>...</td>\n",
       "    </tr>\n",
       "    <tr>\n",
       "      <th>6720</th>\n",
       "      <td>SVR</td>\n",
       "      <td>15</td>\n",
       "      <td>-0.595815</td>\n",
       "      <td>0.010214</td>\n",
       "    </tr>\n",
       "    <tr>\n",
       "      <th>6721</th>\n",
       "      <td>QMI</td>\n",
       "      <td>59</td>\n",
       "      <td>-0.697410</td>\n",
       "      <td>0.003494</td>\n",
       "    </tr>\n",
       "    <tr>\n",
       "      <th>6722</th>\n",
       "      <td>LFS</td>\n",
       "      <td>33</td>\n",
       "      <td>-0.178564</td>\n",
       "      <td>0.004329</td>\n",
       "    </tr>\n",
       "    <tr>\n",
       "      <th>6723</th>\n",
       "      <td>NSM</td>\n",
       "      <td>5</td>\n",
       "      <td>-1.175829</td>\n",
       "      <td>0.055315</td>\n",
       "    </tr>\n",
       "    <tr>\n",
       "      <th>6724</th>\n",
       "      <td>TPR</td>\n",
       "      <td>17</td>\n",
       "      <td>-0.973847</td>\n",
       "      <td>0.013940</td>\n",
       "    </tr>\n",
       "  </tbody>\n",
       "</table>\n",
       "<p>6725 rows × 4 columns</p>\n",
       "</div>"
      ],
      "text/plain": [
       "     Sequences  Number of Reads  Fitness Mean  Fitness Variance\n",
       "0          HTY               10     -0.998598          0.023559\n",
       "1          WNG                2     -0.313128          0.062665\n",
       "2          QAM               14     -0.154889          0.010164\n",
       "3          WMA                8     -0.130526          0.015088\n",
       "4          PPV               44     -0.652319          0.004308\n",
       "...        ...              ...           ...               ...\n",
       "6720       SVR               15     -0.595815          0.010214\n",
       "6721       QMI               59     -0.697410          0.003494\n",
       "6722       LFS               33     -0.178564          0.004329\n",
       "6723       NSM                5     -1.175829          0.055315\n",
       "6724       TPR               17     -0.973847          0.013940\n",
       "\n",
       "[6725 rows x 4 columns]"
      ]
     },
     "execution_count": 5,
     "metadata": {},
     "output_type": "execute_result"
    }
   ],
   "source": [
    "df"
   ]
  },
  {
   "cell_type": "code",
   "execution_count": 18,
   "metadata": {},
   "outputs": [
    {
     "data": {
      "text/plain": [
       "0.840625"
      ]
     },
     "execution_count": 18,
     "metadata": {},
     "output_type": "execute_result"
    }
   ],
   "source": [
    "6725 / 20**3"
   ]
  },
  {
   "cell_type": "code",
   "execution_count": 6,
   "metadata": {},
   "outputs": [],
   "source": [
    "import matplotlib.pyplot as plt"
   ]
  },
  {
   "cell_type": "code",
   "execution_count": 9,
   "metadata": {},
   "outputs": [
    {
     "data": {
      "text/plain": [
       "[<matplotlib.lines.Line2D at 0x7f23061d4d30>]"
      ]
     },
     "execution_count": 9,
     "metadata": {},
     "output_type": "execute_result"
    },
    {
     "data": {
      "image/png": "[encoded data removed]",
      "text/plain": [
       "<Figure size 640x480 with 1 Axes>"
      ]
     },
     "metadata": {},
     "output_type": "display_data"
    }
   ],
   "source": [
    "plt.plot(sorted(df[\"Number of Reads\"]))"
   ]
  },
  {
   "cell_type": "code",
   "execution_count": 10,
   "metadata": {},
   "outputs": [
    {
     "data": {
      "image/png": "[encoded data removed]",
      "text/plain": [
       "<Figure size 800x400 with 1 Axes>"
      ]
     },
     "metadata": {},
     "output_type": "display_data"
    }
   ],
   "source": [
    "# Sorting the data\n",
    "x = np.sort(df['Number of Reads'])\n",
    "\n",
    "# Calculating the ECDF\n",
    "y = np.arange(1, len(x)+1) / len(x)\n",
    "\n",
    "# Plotting\n",
    "plt.figure(figsize=(8, 4))\n",
    "plt.step(x, y, where='post')\n",
    "plt.title('ECDF of Values')\n",
    "plt.xlabel('Value')\n",
    "plt.ylabel('ECDF')\n",
    "plt.grid(True)\n",
    "plt.show()\n"
   ]
  },
  {
   "cell_type": "code",
   "execution_count": 11,
   "metadata": {},
   "outputs": [
    {
     "data": {
      "text/html": [
       "<div>\n",
       "<style scoped>\n",
       "    .dataframe tbody tr th:only-of-type {\n",
       "        vertical-align: middle;\n",
       "    }\n",
       "\n",
       "    .dataframe tbody tr th {\n",
       "        vertical-align: top;\n",
       "    }\n",
       "\n",
       "    .dataframe thead th {\n",
       "        text-align: right;\n",
       "    }\n",
       "</style>\n",
       "<table border=\"1\" class=\"dataframe\">\n",
       "  <thead>\n",
       "    <tr style=\"text-align: right;\">\n",
       "      <th></th>\n",
       "      <th>Sequences</th>\n",
       "      <th>Number of Reads</th>\n",
       "      <th>Fitness Mean</th>\n",
       "      <th>Fitness Variance</th>\n",
       "      <th>Complete Sequence</th>\n",
       "      <th>Mutation Distance</th>\n",
       "      <th>Original Read Count</th>\n",
       "    </tr>\n",
       "  </thead>\n",
       "  <tbody>\n",
       "    <tr>\n",
       "      <th>0</th>\n",
       "      <td>IEMG</td>\n",
       "      <td>68</td>\n",
       "      <td>-0.076679</td>\n",
       "      <td>0.001506</td>\n",
       "      <td>MFKGPRDYNPISSTICHLTNESDGHTTSLYGIGFGPFIITNKHLFR...</td>\n",
       "      <td>4</td>\n",
       "      <td>8.0</td>\n",
       "    </tr>\n",
       "    <tr>\n",
       "      <th>1</th>\n",
       "      <td>HMIR</td>\n",
       "      <td>83</td>\n",
       "      <td>0.004400</td>\n",
       "      <td>0.001050</td>\n",
       "      <td>MFKGPRDYNPISSTICHLTNESDGHTTSLYGIGFGPFIITNKHLFR...</td>\n",
       "      <td>4</td>\n",
       "      <td>1.0</td>\n",
       "    </tr>\n",
       "    <tr>\n",
       "      <th>2</th>\n",
       "      <td>HNED</td>\n",
       "      <td>100</td>\n",
       "      <td>-0.013391</td>\n",
       "      <td>0.000910</td>\n",
       "      <td>MFKGPRDYNPISSTICHLTNESDGHTTSLYGIGFGPFIITNKHLFR...</td>\n",
       "      <td>4</td>\n",
       "      <td>1.0</td>\n",
       "    </tr>\n",
       "    <tr>\n",
       "      <th>3</th>\n",
       "      <td>HWFP</td>\n",
       "      <td>71</td>\n",
       "      <td>-0.080454</td>\n",
       "      <td>0.001371</td>\n",
       "      <td>MFKGPRDYNPISSTICHLTNESDGHTTSLYGIGFGPFIITNKHLFR...</td>\n",
       "      <td>4</td>\n",
       "      <td>1.0</td>\n",
       "    </tr>\n",
       "    <tr>\n",
       "      <th>4</th>\n",
       "      <td>HTFN</td>\n",
       "      <td>56</td>\n",
       "      <td>-0.009842</td>\n",
       "      <td>0.001542</td>\n",
       "      <td>MFKGPRDYNPISSTICHLTNESDGHTTSLYGIGFGPFIITNKHLFR...</td>\n",
       "      <td>4</td>\n",
       "      <td>1.0</td>\n",
       "    </tr>\n",
       "    <tr>\n",
       "      <th>...</th>\n",
       "      <td>...</td>\n",
       "      <td>...</td>\n",
       "      <td>...</td>\n",
       "      <td>...</td>\n",
       "      <td>...</td>\n",
       "      <td>...</td>\n",
       "      <td>...</td>\n",
       "    </tr>\n",
       "    <tr>\n",
       "      <th>159127</th>\n",
       "      <td>CKLF</td>\n",
       "      <td>55</td>\n",
       "      <td>-0.049176</td>\n",
       "      <td>0.001814</td>\n",
       "      <td>MFKGPRDYNPISSTICHLTNESDGHTTSLYGIGFGPFIITNKHLFR...</td>\n",
       "      <td>4</td>\n",
       "      <td>1.0</td>\n",
       "    </tr>\n",
       "    <tr>\n",
       "      <th>159128</th>\n",
       "      <td>DHRT</td>\n",
       "      <td>374</td>\n",
       "      <td>0.063391</td>\n",
       "      <td>0.000242</td>\n",
       "      <td>MFKGPRDYNPISSTICHLTNESDGHTTSLYGIGFGPFIITNKHLFR...</td>\n",
       "      <td>4</td>\n",
       "      <td>11.0</td>\n",
       "    </tr>\n",
       "    <tr>\n",
       "      <th>159129</th>\n",
       "      <td>CGGF</td>\n",
       "      <td>9</td>\n",
       "      <td>0.018670</td>\n",
       "      <td>0.009830</td>\n",
       "      <td>MFKGPRDYNPISSTICHLTNESDGHTTSLYGIGFGPFIITNKHLFR...</td>\n",
       "      <td>4</td>\n",
       "      <td>NaN</td>\n",
       "    </tr>\n",
       "    <tr>\n",
       "      <th>159130</th>\n",
       "      <td>CVSV</td>\n",
       "      <td>1059</td>\n",
       "      <td>-0.010167</td>\n",
       "      <td>0.000087</td>\n",
       "      <td>MFKGPRDYNPISSTICHLTNESDGHTTSLYGIGFGPFIITNKHLFR...</td>\n",
       "      <td>4</td>\n",
       "      <td>27.0</td>\n",
       "    </tr>\n",
       "    <tr>\n",
       "      <th>159131</th>\n",
       "      <td>CMIS</td>\n",
       "      <td>341</td>\n",
       "      <td>0.040918</td>\n",
       "      <td>0.000260</td>\n",
       "      <td>MFKGPRDYNPISSTICHLTNESDGHTTSLYGIGFGPFIITNKHLFR...</td>\n",
       "      <td>3</td>\n",
       "      <td>3.0</td>\n",
       "    </tr>\n",
       "  </tbody>\n",
       "</table>\n",
       "<p>159132 rows × 7 columns</p>\n",
       "</div>"
      ],
      "text/plain": [
       "       Sequences  Number of Reads  Fitness Mean  Fitness Variance  \\\n",
       "0           IEMG               68     -0.076679          0.001506   \n",
       "1           HMIR               83      0.004400          0.001050   \n",
       "2           HNED              100     -0.013391          0.000910   \n",
       "3           HWFP               71     -0.080454          0.001371   \n",
       "4           HTFN               56     -0.009842          0.001542   \n",
       "...          ...              ...           ...               ...   \n",
       "159127      CKLF               55     -0.049176          0.001814   \n",
       "159128      DHRT              374      0.063391          0.000242   \n",
       "159129      CGGF                9      0.018670          0.009830   \n",
       "159130      CVSV             1059     -0.010167          0.000087   \n",
       "159131      CMIS              341      0.040918          0.000260   \n",
       "\n",
       "                                        Complete Sequence  Mutation Distance  \\\n",
       "0       MFKGPRDYNPISSTICHLTNESDGHTTSLYGIGFGPFIITNKHLFR...                  4   \n",
       "1       MFKGPRDYNPISSTICHLTNESDGHTTSLYGIGFGPFIITNKHLFR...                  4   \n",
       "2       MFKGPRDYNPISSTICHLTNESDGHTTSLYGIGFGPFIITNKHLFR...                  4   \n",
       "3       MFKGPRDYNPISSTICHLTNESDGHTTSLYGIGFGPFIITNKHLFR...                  4   \n",
       "4       MFKGPRDYNPISSTICHLTNESDGHTTSLYGIGFGPFIITNKHLFR...                  4   \n",
       "...                                                   ...                ...   \n",
       "159127  MFKGPRDYNPISSTICHLTNESDGHTTSLYGIGFGPFIITNKHLFR...                  4   \n",
       "159128  MFKGPRDYNPISSTICHLTNESDGHTTSLYGIGFGPFIITNKHLFR...                  4   \n",
       "159129  MFKGPRDYNPISSTICHLTNESDGHTTSLYGIGFGPFIITNKHLFR...                  4   \n",
       "159130  MFKGPRDYNPISSTICHLTNESDGHTTSLYGIGFGPFIITNKHLFR...                  4   \n",
       "159131  MFKGPRDYNPISSTICHLTNESDGHTTSLYGIGFGPFIITNKHLFR...                  3   \n",
       "\n",
       "        Original Read Count  \n",
       "0                       8.0  \n",
       "1                       1.0  \n",
       "2                       1.0  \n",
       "3                       1.0  \n",
       "4                       1.0  \n",
       "...                     ...  \n",
       "159127                  1.0  \n",
       "159128                 11.0  \n",
       "159129                  NaN  \n",
       "159130                 27.0  \n",
       "159131                  3.0  \n",
       "\n",
       "[159132 rows x 7 columns]"
      ]
     },
     "execution_count": 11,
     "metadata": {},
     "output_type": "execute_result"
    }
   ],
   "source": [
    "df_4site = pd.read_csv(\"add_data/tev4_fitnesses_read_count.csv\")\n",
    "df_4site"
   ]
  },
  {
   "cell_type": "code",
   "execution_count": 14,
   "metadata": {},
   "outputs": [
    {
     "data": {
      "text/html": [
       "<div>\n",
       "<style scoped>\n",
       "    .dataframe tbody tr th:only-of-type {\n",
       "        vertical-align: middle;\n",
       "    }\n",
       "\n",
       "    .dataframe tbody tr th {\n",
       "        vertical-align: top;\n",
       "    }\n",
       "\n",
       "    .dataframe thead th {\n",
       "        text-align: right;\n",
       "    }\n",
       "</style>\n",
       "<table border=\"1\" class=\"dataframe\">\n",
       "  <thead>\n",
       "    <tr style=\"text-align: right;\">\n",
       "      <th></th>\n",
       "      <th>Sequences</th>\n",
       "      <th>Number of Reads</th>\n",
       "      <th>Fitness Mean</th>\n",
       "      <th>Fitness Variance</th>\n",
       "      <th>Complete Sequence</th>\n",
       "      <th>Mutation Distance</th>\n",
       "      <th>Original Read Count</th>\n",
       "    </tr>\n",
       "  </thead>\n",
       "  <tbody>\n",
       "    <tr>\n",
       "      <th>104138</th>\n",
       "      <td>TDHS</td>\n",
       "      <td>721</td>\n",
       "      <td>0.414362</td>\n",
       "      <td>0.0001</td>\n",
       "      <td>MFKGPRDYNPISSTICHLTNESDGHTTSLYGIGFGPFIITNKHLFR...</td>\n",
       "      <td>0</td>\n",
       "      <td>21.0</td>\n",
       "    </tr>\n",
       "  </tbody>\n",
       "</table>\n",
       "</div>"
      ],
      "text/plain": [
       "       Sequences  Number of Reads  Fitness Mean  Fitness Variance  \\\n",
       "104138      TDHS              721      0.414362            0.0001   \n",
       "\n",
       "                                        Complete Sequence  Mutation Distance  \\\n",
       "104138  MFKGPRDYNPISSTICHLTNESDGHTTSLYGIGFGPFIITNKHLFR...                  0   \n",
       "\n",
       "        Original Read Count  \n",
       "104138                 21.0  "
      ]
     },
     "execution_count": 14,
     "metadata": {},
     "output_type": "execute_result"
    }
   ],
   "source": [
    "df_4site[df_4site[\"Mutation Distance\"] == 0]"
   ]
  },
  {
   "cell_type": "code",
   "execution_count": 17,
   "metadata": {},
   "outputs": [
    {
     "data": {
      "text/plain": [
       "'MFKGPRDYNPISSTICHLTNESDGHTTSLYGIGFGPFIITNKHLFRRNNGTLLVQSLHGVFKVKNTTTLQQHLIDGRDMIIIRMPKDFPPFPQKLKFREPQREERICLVTTNFQTKSMSSMVSDTSCTFPSSDGIFWKHWIQTKDGQCGSPLVSTRDGFIVGIHSASNFTNTNNYFTSVPKNFMELLTNQEAQQWVSGWRLNADSVLWGGHKVFMVKPEEPFQPVKEATQLMN'"
      ]
     },
     "execution_count": 17,
     "metadata": {},
     "output_type": "execute_result"
    }
   ],
   "source": [
    "df_4site[df_4site[\"Mutation Distance\"] == 0][\"Complete Sequence\"].values[0]"
   ]
  },
  {
   "cell_type": "code",
   "execution_count": null,
   "metadata": {},
   "outputs": [],
   "source": []
  }
 ],
 "metadata": {
  "kernelspec": {
   "display_name": "SSMuLA",
   "language": "python",
   "name": "python3"
  },
  "language_info": {
   "codemirror_mode": {
    "name": "ipython",
    "version": 3
   },
   "file_extension": ".py",
   "mimetype": "text/x-python",
   "name": "python",
   "nbconvert_exporter": "python",
   "pygments_lexer": "ipython3",
   "version": "3.10.14"
  }
 },
 "nbformat": 4,
 "nbformat_minor": 2
}
