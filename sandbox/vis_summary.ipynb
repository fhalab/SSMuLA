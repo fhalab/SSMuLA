{
 "cells": [
  {
   "cell_type": "code",
   "execution_count": null,
   "metadata": {},
   "outputs": [],
   "source": [
    "%cd ~/SSMuLA"
   ]
  },
  {
   "cell_type": "code",
   "execution_count": null,
   "metadata": {},
   "outputs": [],
   "source": [
    "%load_ext blackcellmagic\n",
    "%load_ext autoreload\n",
    "%autoreload 2\n",
    "\n",
    "%matplotlib inline"
   ]
  },
  {
   "cell_type": "code",
   "execution_count": null,
   "metadata": {},
   "outputs": [],
   "source": [
    "import pandas as pd"
   ]
  },
  {
   "cell_type": "code",
   "execution_count": null,
   "metadata": {},
   "outputs": [],
   "source": [
    "\n",
    "import holoviews as hv\n",
    "from holoviews import dim\n",
    "\n",
    "\n",
    "hv.extension(\"bokeh\")\n",
    "\n",
    "from SSMuLA.landscape_global import LIB_NAMES, TrpB_names\n",
    "from SSMuLA.vis import (\n",
    "    save_bokeh_hv,\n",
    "    JSON_THEME,\n",
    "    LIB_COLORS,\n",
    "    one_decimal_x,\n",
    "    one_decimal_y,\n",
    "    fixmargins,\n",
    ")\n",
    "from SSMuLA.util import get_file_name, checkNgen_folder\n",
    "\n",
    "hv.renderer(\"bokeh\").theme = JSON_THEME\n"
   ]
  },
  {
   "cell_type": "code",
   "execution_count": null,
   "metadata": {},
   "outputs": [],
   "source": [
    "df = pd.read_csv(\"results/pairwise_epistasis_vis/none/scale2max.csv\")\n",
    "df"
   ]
  },
  {
   "cell_type": "code",
   "execution_count": null,
   "metadata": {},
   "outputs": [],
   "source": [
    "df[df[\"summary_type\"] == \"fraction\"]"
   ]
  },
  {
   "cell_type": "code",
   "execution_count": null,
   "metadata": {},
   "outputs": [],
   "source": [
    "from SSMuLA.pairwise_epistasis import EPISTASIS_TYPE"
   ]
  },
  {
   "cell_type": "code",
   "execution_count": null,
   "metadata": {},
   "outputs": [],
   "source": [
    "def hook(plot,element):\n",
    "    plot.handles['plot'].x_range.factors = [(lib, epistasis) for lib in LIB_NAMES for epistasis in EPISTASIS_TYPE]\n",
    "\n",
    "# Create the Holoviews Bars element\n",
    "bars = hv.Bars(df[df[\"summary_type\"] == \"fraction\"], \n",
    "               kdims=[\"lib\", \"epistasis_type\"], \n",
    "               vdims=\"value\"\n",
    "               ).opts(\n",
    "    width=1200,\n",
    "    height=400,\n",
    "    show_legend=True,\n",
    "    legend_position=\"top\",\n",
    "    legend_offset=(0, 5),\n",
    "    ylabel=\"Fraction\",\n",
    "    multi_level=False,\n",
    "    title=\"Fraction of pairwise epistasis types\",\n",
    "    xlabel=\"Library\",\n",
    "    hooks=[fixmargins, one_decimal_y, hook],\n",
    "    # x_range_factor = [\n",
    "    #         (lib, epistasis)\n",
    "    #         for lib in LIB_NAMES\n",
    "    #         for epistasis in EPISTASIS_TYPE\n",
    "    #     ]\n",
    "        )\n",
    "bars"
   ]
  },
  {
   "cell_type": "code",
   "execution_count": null,
   "metadata": {},
   "outputs": [],
   "source": [
    "import os\n",
    "from glob import glob"
   ]
  },
  {
   "cell_type": "code",
   "execution_count": null,
   "metadata": {},
   "outputs": [],
   "source": [
    "# results/pairwise_epistasis_vis/none/scale2max.csv\n",
    "# make bar plots base on that and save to the same directory\n",
    "def hook(plot, element):\n",
    "    plot.handles[\"plot\"].x_range.factors = [\n",
    "        (lib, epistasis) for lib in LIB_NAMES for epistasis in EPISTASIS_TYPE\n",
    "    ]\n",
    "\n",
    "# Create the Holoviews Bars element\n",
    "save_bokeh_hv(\n",
    "    hv.Bars(\n",
    "        df[df[\"summary_type\"] == \"fraction\"],\n",
    "        kdims=[\"lib\", \"epistasis_type\"],\n",
    "        vdims=\"value\",\n",
    "    ).opts(\n",
    "        width=1200,\n",
    "        height=400,\n",
    "        show_legend=True,\n",
    "        legend_position=\"top\",\n",
    "        legend_offset=(0, 5),\n",
    "        ylabel=\"Fraction\",\n",
    "        multi_level=False,\n",
    "        title=\"Fraction of pairwise epistasis types\",\n",
    "        xlabel=\"Library\",\n",
    "        hooks=[fixmargins, one_decimal_y, hook],\n",
    "    ),\n",
    "    plot_name=\"scale2max\",\n",
    "    plot_path=os.path.join(\"results/pairwise_epistasis_vis\", \"none\"),\n",
    ")\n"
   ]
  },
  {
   "cell_type": "code",
   "execution_count": null,
   "metadata": {},
   "outputs": [],
   "source": [
    "import ast"
   ]
  },
  {
   "cell_type": "code",
   "execution_count": null,
   "metadata": {},
   "outputs": [],
   "source": [
    "# try zs summary\n",
    "zs_sum_df = pd.read_csv(\"results/zs_sum/none/zs_stat_scale2max.csv\")\n",
    "# make the nested dict in zs_sum_df to be flat as columns and make this a melted df\n",
    "zs_sum_df_melt = zs_sum_df.melt(\n",
    "    id_vars=[\"lib\", \"n_mut\"],\n",
    "    value_vars=[\"Triad_score\", \"ev_score\", \"esm_score\"],\n",
    "    var_name=\"zs_type\",\n",
    "    value_name=\"corr\",\n",
    ")\n",
    "\n",
    "# Concatenate the expanded columns back to the original DataFrame\n",
    "df_expanded = pd.concat(\n",
    "    [\n",
    "        zs_sum_df_melt.drop(\"corr\", axis=1),\n",
    "        zs_sum_df_melt[\"corr\"].apply(ast.literal_eval).apply(pd.Series),\n",
    "    ],\n",
    "    axis=1,\n",
    ")\n",
    "df_expanded"
   ]
  },
  {
   "cell_type": "code",
   "execution_count": null,
   "metadata": {},
   "outputs": [],
   "source": [
    "df_score = df_expanded.melt(id_vars=[\"lib\", \"n_mut\", \"zs_type\"], value_vars=[\"rho\", \"ndcg\", \"rocauc\"], var_name=\"metric\", value_name=\"value\")\n",
    "df_score"
   ]
  },
  {
   "cell_type": "code",
   "execution_count": null,
   "metadata": {},
   "outputs": [],
   "source": [
    "import holoviews as hv\n",
    "hv.extension('bokeh')"
   ]
  },
  {
   "cell_type": "code",
   "execution_count": null,
   "metadata": {},
   "outputs": [],
   "source": [
    "from SSMuLA.zs_analysis import ZS_OPTS"
   ]
  },
  {
   "cell_type": "code",
   "execution_count": null,
   "metadata": {},
   "outputs": [],
   "source": [
    "def hook(plot,element):\n",
    "    plot.handles['plot'].x_range.factors = [(lib, zs) for lib in LIB_NAMES for zs in ZS_OPTS]"
   ]
  },
  {
   "cell_type": "code",
   "execution_count": null,
   "metadata": {},
   "outputs": [],
   "source": [
    "for metric in [\"rho\", \"ndcg\", \"rocauc\"]:\n",
    "\n",
    "    # Create the Holoviews Bars element\n",
    "    save_bokeh_hv(\n",
    "        hv.Bars(df_score[df_score[\"metric\"] == metric], \n",
    "                kdims=[\"lib\", \"zs_type\"], \n",
    "                vdims=\"value\"\n",
    "                ).opts(\n",
    "        width=1200,\n",
    "        height=400,\n",
    "        show_legend=True,\n",
    "        legend_position=\"top\",\n",
    "        legend_offset=(0, 5),\n",
    "        ylabel=f\"{metric} correlation\",\n",
    "        multi_level=False,\n",
    "        title=f\"ZS fitness {metric} correlation\",\n",
    "        xlabel=\"Library\",\n",
    "        hooks=[fixmargins, one_decimal_y, hook],\n",
    "            ),\n",
    "        plot_name=f\"zs_stat_scale2max-{metric}\",\n",
    "        plot_path=os.path.join(\"results/zs_sum\", \"none\"),\n",
    "    )\n"
   ]
  },
  {
   "cell_type": "code",
   "execution_count": null,
   "metadata": {},
   "outputs": [],
   "source": [
    "def noesmhook(plot,element):\n",
    "    plot.handles['plot'].x_range.factors = [(lib, zs) for lib in LIB_NAMES for zs in [\"Triad_score\", \"ev_score\"]]\n",
    "\n",
    "for metric in [\"rho\", \"ndcg\", \"rocauc\"]:\n",
    "\n",
    "    # Create the Holoviews Bars element\n",
    "    save_bokeh_hv(\n",
    "        hv.Bars(df_score[(df_score[\"metric\"] == metric) & (df_score[\"zs_type\"] != \"esm_score\")], \n",
    "                kdims=[\"lib\", \"zs_type\"], \n",
    "                vdims=\"value\"\n",
    "                ).opts(\n",
    "        width=1200,\n",
    "        height=400,\n",
    "        show_legend=True,\n",
    "        legend_position=\"top\",\n",
    "        legend_offset=(0, 5),\n",
    "        ylabel=f\"{metric} correlation\",\n",
    "        multi_level=False,\n",
    "        title=f\"ZS fitness {metric} correlation\",\n",
    "        xlabel=\"Library\",\n",
    "        hooks=[fixmargins, one_decimal_y, noesmhook],\n",
    "            ),\n",
    "        plot_name=f\"zs_stat_scale2max-{metric}-noesm\",\n",
    "        plot_path=os.path.join(\"results/zs_sum\", \"none\"),\n",
    "    )\n"
   ]
  },
  {
   "cell_type": "code",
   "execution_count": null,
   "metadata": {},
   "outputs": [],
   "source": [
    "# try de sim sum\n",
    "df = pd.read_csv(\"results/simulations/DE-active/scale2max/all_landscape_de_summary.csv\")\n",
    "df"
   ]
  },
  {
   "cell_type": "code",
   "execution_count": null,
   "metadata": {},
   "outputs": [],
   "source": [
    "# Fill NaNs in 'mean_top96' and 'median_top96' from 'mean_all' and 'median_all'\n",
    "df['mean_top96'] = df['mean_top96'].fillna(df['mean_all'])\n",
    "df['median_top96'] = df['median_top96'].fillna(df['median_all'])\n",
    "\n",
    "# Fill NaNs in 'mean_top384' and 'median_top384' from 'mean_top96' and 'median_top96'\n",
    "df['mean_top384'] = df['mean_top384'].fillna(df['mean_top96'])\n",
    "df['median_top384'] = df['median_top384'].fillna(df['median_top96'])\n",
    "\n",
    "df"
   ]
  },
  {
   "cell_type": "code",
   "execution_count": null,
   "metadata": {},
   "outputs": [],
   "source": [
    "for lib in sorted(glob(\"data/TrpB/scale2max/TrpB3*.csv\")):\n",
    "    if \"codon\" not in lib:\n",
    "        trpb_df = pd.read_csv(lib)\n",
    "        if trpb_df.loc[trpb_df[\"fitness\"].idxmax()][\"fitness\"] != 1:\n",
    "            print(trpb_df.loc[trpb_df[\"fitness\"].idxmax()])"
   ]
  },
  {
   "cell_type": "code",
   "execution_count": null,
   "metadata": {},
   "outputs": [],
   "source": [
    "# Find the index of the row with the max value in column 'C'\n",
    "max_index = df['C'].idxmax()\n",
    "\n",
    "# Retrieve the row with the max value in column 'C'\n",
    "max_row = df.loc[max_index]"
   ]
  },
  {
   "cell_type": "code",
   "execution_count": null,
   "metadata": {},
   "outputs": [],
   "source": [
    "de_metric_map = {\n",
    "    \"mean_all\": \"all simulations fitness mean\",\n",
    "    \"median_all\": \"all simulations fitness median\",\n",
    "    \"mean_top96\": \"top 96 simulations fitness mean\",\n",
    "    \"median_top96\":\t\"top 96 simulations fitness median\",\n",
    "    \"mean_top384\": \"top 384 simulations fitness mean\",\n",
    "    \"median_top384\": \"top 384 simulations fitness median\",\n",
    "    \"fraction_max\": \"fraction reached max fitness\",\n",
    "}"
   ]
  },
  {
   "cell_type": "code",
   "execution_count": null,
   "metadata": {},
   "outputs": [],
   "source": [
    "def de_hook(plot,element):\n",
    "    plot.handles['plot'].x_range.factors = [(lib, de) for lib in LIB_NAMES for de in [\"single_step_DE\", \"recomb_SSM\", \"top96_SSM\"]]\n",
    "\n",
    "for metric, metric_dets in de_metric_map.items():\n",
    "\n",
    "    title = f\"DE from active variant {metric_dets}\"\n",
    "\n",
    "    save_bokeh_hv(\n",
    "        hv.Bars(df, kdims=[\"lib\", \"de_type\"], vdims=metric).opts(\n",
    "        width=1200,\n",
    "        height=400,\n",
    "        show_legend=True,\n",
    "        legend_position=\"top\",\n",
    "        legend_offset=(0, 5),\n",
    "        ylabel=metric_dets.capitalize(),\n",
    "        multi_level=False,\n",
    "        title=title,\n",
    "        xlabel=\"Library\",\n",
    "        hooks=[fixmargins, one_decimal_y, de_hook],\n",
    "    ),\n",
    "        plot_name=title,\n",
    "        plot_path=os.path.join(\"results/simulations/DE-active\", \"scale2max\", \"summary\"),\n",
    "    )"
   ]
  },
  {
   "cell_type": "code",
   "execution_count": null,
   "metadata": {},
   "outputs": [],
   "source": [
    "mlde_df = pd.read_csv(\"results/mlde/vis/all_df.csv\")\n",
    "mlde_df"
   ]
  },
  {
   "cell_type": "code",
   "execution_count": null,
   "metadata": {},
   "outputs": [],
   "source": [
    "mlde_df_2 = pd.read_csv(\"results/mlde_old/vis/all_df.csv\")\n",
    "mlde_df_2"
   ]
  },
  {
   "cell_type": "code",
   "execution_count": null,
   "metadata": {},
   "outputs": [],
   "source": [
    "pd.set_option(\"display.max_rows\", None)\n",
    "\n",
    "sliced_df_no_zs_top96_all = mlde_df[\n",
    "    (mlde_df[\"zs\"] == \"none\")\n",
    "    & (mlde_df[\"n_top\"] == 96)\n",
    "    & (mlde_df[\"n_mut_cutoff\"] == \"all\")\n",
    "][\n",
    "    [\n",
    "        \"lib\",\n",
    "        \"encoding\",\n",
    "        \"model\",\n",
    "        \"maxes_all\",\n",
    "        \"means_all\",\n",
    "        \"maxes\",\n",
    "        \"means\",\n",
    "        \"ndcgs\",\n",
    "        \"rhos\",\n",
    "        \"if_truemaxs\",\n",
    "        \"truemax_inds\",\n",
    "    ]\n",
    "].groupby(\n",
    "    [\"lib\", \"encoding\", \"model\"]\n",
    ").mean()\n",
    "\n",
    "sliced_df_no_zs_top96_all"
   ]
  },
  {
   "cell_type": "code",
   "execution_count": null,
   "metadata": {},
   "outputs": [],
   "source": [
    "pd.reset_option('display.max_rows')\n"
   ]
  },
  {
   "cell_type": "code",
   "execution_count": null,
   "metadata": {},
   "outputs": [],
   "source": [
    "\n",
    "import bokeh\n",
    "from bokeh.io import show, export_svg, export_png\n",
    "from bokeh.plotting import show\n",
    "from bokeh.themes.theme import Theme\n",
    "\n",
    "bokeh.io.output_notebook()\n",
    "\n",
    "import holoviews as hv\n",
    "from holoviews import opts\n",
    "\n",
    "hv.extension(\"bokeh\", \"matplotlib\")\n",
    "\n",
    "\n",
    "from bokeh.plotting import figure, show\n",
    "from bokeh.io import output_notebook\n",
    "\n",
    "output_notebook()"
   ]
  },
  {
   "cell_type": "code",
   "execution_count": null,
   "metadata": {},
   "outputs": [],
   "source": [
    "sliced_df_no_zs_top96_all.reset_index()"
   ]
  },
  {
   "cell_type": "code",
   "execution_count": null,
   "metadata": {},
   "outputs": [],
   "source": [
    "sliced_df_no_zs_top96_all.reset_index()"
   ]
  },
  {
   "cell_type": "code",
   "execution_count": null,
   "metadata": {},
   "outputs": [],
   "source": [
    "slice_mlde_df = mlde_df[\n",
    "        (mlde_df[\"zs\"] == \"none\")\n",
    "        & (mlde_df[\"n_top\"] == 96)\n",
    "        & (mlde_df[\"n_mut_cutoff\"] == \"all\")\n",
    "        & (mlde_df[\"encoding\"].isin([\"esm2_t33_650M_UR50D-flatten_site\", \"one-hot\"]))\n",
    "    ][[\"lib\", \"encoding\", \"model\", \"maxes\", \"rep\"]]\n",
    "slice_mlde_df[\"encoding\"] = slice_mlde_df[\"encoding\"].str.replace(\"esm2_t33_650M_UR50D-flatten_site\", \"esm\")\n",
    "slice_mlde_df = slice_mlde_df.reset_index(drop=True)\n",
    "slice_mlde_df = slice_mlde_df.sort_values(by=[\"lib\", \"encoding\", \"model\"])\n",
    "slice_mlde_df.head()"
   ]
  },
  {
   "cell_type": "code",
   "execution_count": null,
   "metadata": {},
   "outputs": [],
   "source": [
    "slice_mlde_df[(slice_mlde_df[\"lib\"] == \"TrpB3F\") & (slice_mlde_df[\"encoding\"] == \"esm\") & (slice_mlde_df[\"model\"] == \"ridge\")]"
   ]
  },
  {
   "cell_type": "code",
   "execution_count": null,
   "metadata": {},
   "outputs": [],
   "source": [
    "slice_mlde_df[(slice_mlde_df[\"lib\"] == \"TrpB3F\") & (slice_mlde_df[\"encoding\"] == \"esm\") & (slice_mlde_df[\"model\"] == \"ridge\") & (slice_mlde_df[\"rep\"] == 0)]"
   ]
  },
  {
   "cell_type": "code",
   "execution_count": null,
   "metadata": {},
   "outputs": [],
   "source": [
    "slice_mlde_df.loc[slice_mlde_df[(slice_mlde_df[\"lib\"] == \"TrpB3F\") & (slice_mlde_df[\"encoding\"] == \"esm\") & (slice_mlde_df[\"model\"] == \"ridge\") & (slice_mlde_df[\"rep\"] == 0)], \"maxes\"] = 0.999999"
   ]
  },
  {
   "cell_type": "code",
   "execution_count": null,
   "metadata": {},
   "outputs": [],
   "source": [
    "def hook(plot, element):\n",
    "    plot.handles[\"plot\"].x_range.factors = [\n",
    "        (lib, encoding, model)\n",
    "        for lib in LIB_NAMES\n",
    "        for encoding in [\"esm\", \"one-hot\"]\n",
    "        for model in [\"boosting\", \"ridge\"]\n",
    "    ]\n",
    "\n",
    "\n",
    "hv.Violin(\n",
    "    slice_mlde_df.copy(),\n",
    "    kdims=[\"lib\", \"encoding\", \"model\"],\n",
    "    vdims=[\"maxes\"],\n",
    ").opts(\n",
    "    width=1200,\n",
    "    height=400,\n",
    "    ylim=(0, 1),\n",
    "    # inner=\"box\",\n",
    "    ylabel=\"Max fitness\",\n",
    "    xlabel=\"Library\",\n",
    "    title=\"Max fitness distribution\",\n",
    "    violin_width=0.9,\n",
    "    # split='model',\n",
    "    violin_fill_color=hv.dim(\"encoding\").str(),\n",
    "    violin_line_color=hv.dim(\"model\").str(),\n",
    "    show_legend=True,\n",
    "    # multi_level=True\n",
    "    # show_legend=True,\n",
    "    legend_position=\"top\",\n",
    "    legend_offset=(0, 5),\n",
    "    hooks=[fixmargins, one_decimal_y, hook]\n",
    ")"
   ]
  },
  {
   "cell_type": "code",
   "execution_count": null,
   "metadata": {},
   "outputs": [],
   "source": [
    "%matplotlib inline"
   ]
  },
  {
   "cell_type": "code",
   "execution_count": null,
   "metadata": {},
   "outputs": [],
   "source": [
    "import seaborn as sns\n",
    "import matplotlib.pyplot as plt\n",
    "\n",
    "# Assume `data` is a DataFrame with all values being the same\n",
    "sns.violinplot(data=slice_mlde_df, x='lib', y='maxes', hue=\"encoding\",)\n",
    "plt.show()\n"
   ]
  },
  {
   "cell_type": "code",
   "execution_count": null,
   "metadata": {},
   "outputs": [],
   "source": []
  },
  {
   "cell_type": "code",
   "execution_count": null,
   "metadata": {},
   "outputs": [],
   "source": [
    "g = sns.catplot(slice_mlde_df, x='lib', y='maxes', hue=\"encoding\", col='model', kind='violin')\n",
    "g.set_titles(\"{col_name}\")\n",
    "plt.show()\n"
   ]
  },
  {
   "cell_type": "code",
   "execution_count": null,
   "metadata": {},
   "outputs": [],
   "source": [
    "\n",
    "\n",
    "# results/pairwise_epistasis_vis/none/scale2max.csv\n",
    "# make bar plots base on that and save to the same directory\n",
    "# def hook(plot, element):\n",
    "#     plot.handles[\"plot\"].x_range.factors = [\n",
    "#         (lib, epistasis) for lib in LIB_NAMES for epistasis in EPISTASIS_TYPE\n",
    "#     ]\n",
    "\n",
    "# Create the Holoviews Bars element\n",
    "# save_bokeh_hv(\n",
    "#     hv.Bars(\n",
    "#         df[df[\"summary_type\"] == \"fraction\"],\n",
    "#         kdims=[\"lib\", \"epistasis_type\"],\n",
    "#         vdims=\"value\",\n",
    "#     ).opts(\n",
    "#         width=1200,\n",
    "#         height=400,\n",
    "#         show_legend=True,\n",
    "#         legend_position=\"top\",\n",
    "#         legend_offset=(0, 5),\n",
    "#         ylabel=\"Fraction\",\n",
    "#         multi_level=False,\n",
    "#         title=\"Fraction of pairwise epistasis types\",\n",
    "#         xlabel=\"Library\",\n",
    "#         hooks=[fixmargins, one_decimal_y, hook],\n",
    "#     ),\n",
    "#     plot_name=\"scale2max\",\n",
    "#     plot_path=os.path.join(\"results/pairwise_epistasis_vis\", \"none\"),\n",
    "# )\n"
   ]
  },
  {
   "cell_type": "code",
   "execution_count": null,
   "metadata": {},
   "outputs": [],
   "source": [
    "mlde_df = pd.read_csv(\"results/mlde/vis/all_df.csv\")\n",
    "mlde_df"
   ]
  },
  {
   "cell_type": "code",
   "execution_count": null,
   "metadata": {},
   "outputs": [],
   "source": [
    "mlde_df = pd.read_csv(\"results/mlde/vis/all_df.csv\")\n",
    "mlde_df"
   ]
  },
  {
   "cell_type": "code",
   "execution_count": null,
   "metadata": {},
   "outputs": [],
   "source": [
    "len(mlde_df[(mlde_df[\"encoding\"] == \"one-hot\")])"
   ]
  },
  {
   "cell_type": "code",
   "execution_count": null,
   "metadata": {},
   "outputs": [],
   "source": [
    "mlde_df[(mlde_df[\"encoding\"] == \"one-hot\") & (mlde_df[\"lib\"] == \"GB1\") & (mlde_df[\"model\"] == \"boosting\") & (mlde_df[\"rep\"] == 0)]"
   ]
  },
  {
   "cell_type": "code",
   "execution_count": null,
   "metadata": {},
   "outputs": [],
   "source": [
    "len(mlde_df[(mlde_df[\"encoding\"] == \"one-hot\") & (mlde_df[\"lib\"] == \"GB1\") & (mlde_df[\"model\"] == \"boosting\") & (mlde_df[\"rep\"] == 0)])"
   ]
  },
  {
   "cell_type": "code",
   "execution_count": null,
   "metadata": {},
   "outputs": [],
   "source": [
    "mlde_df.truemax_inds.unique()"
   ]
  },
  {
   "cell_type": "code",
   "execution_count": null,
   "metadata": {},
   "outputs": [],
   "source": []
  },
  {
   "cell_type": "code",
   "execution_count": null,
   "metadata": {},
   "outputs": [],
   "source": []
  }
 ],
 "metadata": {
  "kernelspec": {
   "display_name": "SSMuLA",
   "language": "python",
   "name": "python3"
  },
  "language_info": {
   "codemirror_mode": {
    "name": "ipython",
    "version": 3
   },
   "file_extension": ".py",
   "mimetype": "text/x-python",
   "name": "python",
   "nbconvert_exporter": "python",
   "pygments_lexer": "ipython3",
   "version": "3.10.14"
  }
 },
 "nbformat": 4,
 "nbformat_minor": 2
}
