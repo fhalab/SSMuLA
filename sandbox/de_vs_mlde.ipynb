{
 "cells": [
  {
   "cell_type": "code",
   "execution_count": 1,
   "metadata": {},
   "outputs": [
    {
     "name": "stdout",
     "output_type": "stream",
     "text": [
      "/disk2/fli/SSMuLA\n"
     ]
    }
   ],
   "source": [
    "%cd ~/SSMuLA"
   ]
  },
  {
   "cell_type": "code",
   "execution_count": 2,
   "metadata": {},
   "outputs": [],
   "source": [
    "%load_ext autoreload\n",
    "%autoreload 2\n",
    "%load_ext blackcellmagic"
   ]
  },
  {
   "cell_type": "code",
   "execution_count": 3,
   "metadata": {},
   "outputs": [],
   "source": [
    "import numpy as np\n",
    "import pandas as pd"
   ]
  },
  {
   "cell_type": "code",
   "execution_count": 4,
   "metadata": {},
   "outputs": [],
   "source": [
    "# just do gb1\n",
    "ss_df = pd.read_csv('results/simulations/DE-active/scale2max/GB1-single_step_DE.csv')\n",
    "recomb_df = pd.read_csv(\"results/simulations/DE-active/scale2max/GB1-recomb_SSM.csv\")"
   ]
  },
  {
   "cell_type": "code",
   "execution_count": 5,
   "metadata": {},
   "outputs": [],
   "source": [
    "mlde_all = pd.read_csv(\"results/mlde/vis_2/all_df.csv\")\n",
    "mlde_df = mlde_all[(mlde_all[\"lib\"] == \"GB1\") & (mlde_all[\"n_mut_cutoff\"] == \"all\") & (mlde_all[\"zs\"]== \"none\") & (mlde_all[\"encoding\"] == \"one-hot\")].copy()"
   ]
  },
  {
   "cell_type": "code",
   "execution_count": 6,
   "metadata": {},
   "outputs": [],
   "source": [
    "from SSMuLA.util import ecdf_transform"
   ]
  },
  {
   "cell_type": "code",
   "execution_count": 7,
   "metadata": {},
   "outputs": [],
   "source": [
    "mlde_df[\"final_fitness\"] = mlde_df[\"top_maxes\"].values.copy()\n",
    "mlde_df[\"final_fitness ECDF\"] = ecdf_transform(mlde_df[\"top_maxes\"])"
   ]
  },
  {
   "cell_type": "code",
   "execution_count": 11,
   "metadata": {},
   "outputs": [
    {
     "data": {
      "text/html": [
       "<div>\n",
       "<style scoped>\n",
       "    .dataframe tbody tr th:only-of-type {\n",
       "        vertical-align: middle;\n",
       "    }\n",
       "\n",
       "    .dataframe tbody tr th {\n",
       "        vertical-align: top;\n",
       "    }\n",
       "\n",
       "    .dataframe thead th {\n",
       "        text-align: right;\n",
       "    }\n",
       "</style>\n",
       "<table border=\"1\" class=\"dataframe\">\n",
       "  <thead>\n",
       "    <tr style=\"text-align: right;\">\n",
       "      <th></th>\n",
       "      <th>encoding</th>\n",
       "      <th>model</th>\n",
       "      <th>n_sample</th>\n",
       "      <th>ft_lib</th>\n",
       "      <th>rep</th>\n",
       "      <th>all_maxes</th>\n",
       "      <th>all_means</th>\n",
       "      <th>top_maxes</th>\n",
       "      <th>top_means</th>\n",
       "      <th>ndcgs</th>\n",
       "      <th>rhos</th>\n",
       "      <th>if_truemaxs</th>\n",
       "      <th>truemax_inds</th>\n",
       "      <th>n_mut_cutoff</th>\n",
       "      <th>lib</th>\n",
       "      <th>zs</th>\n",
       "      <th>n_top</th>\n",
       "      <th>final_fitness</th>\n",
       "      <th>final_fitness ECDF</th>\n",
       "    </tr>\n",
       "  </thead>\n",
       "  <tbody>\n",
       "    <tr>\n",
       "      <th>1058600</th>\n",
       "      <td>one-hot</td>\n",
       "      <td>boosting</td>\n",
       "      <td>384</td>\n",
       "      <td>149361</td>\n",
       "      <td>0</td>\n",
       "      <td>0.337172</td>\n",
       "      <td>0.006653</td>\n",
       "      <td>0.627128</td>\n",
       "      <td>0.122141</td>\n",
       "      <td>0.770298</td>\n",
       "      <td>0.416548</td>\n",
       "      <td>0.0</td>\n",
       "      <td>10197.0</td>\n",
       "      <td>all</td>\n",
       "      <td>GB1</td>\n",
       "      <td>none</td>\n",
       "      <td>384</td>\n",
       "      <td>0.627128</td>\n",
       "      <td>0.341429</td>\n",
       "    </tr>\n",
       "    <tr>\n",
       "      <th>1058601</th>\n",
       "      <td>one-hot</td>\n",
       "      <td>boosting</td>\n",
       "      <td>384</td>\n",
       "      <td>149361</td>\n",
       "      <td>1</td>\n",
       "      <td>0.313149</td>\n",
       "      <td>0.005628</td>\n",
       "      <td>0.831130</td>\n",
       "      <td>0.100569</td>\n",
       "      <td>0.785195</td>\n",
       "      <td>0.448754</td>\n",
       "      <td>0.0</td>\n",
       "      <td>23235.0</td>\n",
       "      <td>all</td>\n",
       "      <td>GB1</td>\n",
       "      <td>none</td>\n",
       "      <td>384</td>\n",
       "      <td>0.831130</td>\n",
       "      <td>0.739286</td>\n",
       "    </tr>\n",
       "    <tr>\n",
       "      <th>1058602</th>\n",
       "      <td>one-hot</td>\n",
       "      <td>boosting</td>\n",
       "      <td>384</td>\n",
       "      <td>149361</td>\n",
       "      <td>2</td>\n",
       "      <td>0.367535</td>\n",
       "      <td>0.005830</td>\n",
       "      <td>0.629503</td>\n",
       "      <td>0.129742</td>\n",
       "      <td>0.785543</td>\n",
       "      <td>0.451986</td>\n",
       "      <td>0.0</td>\n",
       "      <td>36245.0</td>\n",
       "      <td>all</td>\n",
       "      <td>GB1</td>\n",
       "      <td>none</td>\n",
       "      <td>384</td>\n",
       "      <td>0.629503</td>\n",
       "      <td>0.365000</td>\n",
       "    </tr>\n",
       "    <tr>\n",
       "      <th>1058603</th>\n",
       "      <td>one-hot</td>\n",
       "      <td>boosting</td>\n",
       "      <td>384</td>\n",
       "      <td>149361</td>\n",
       "      <td>3</td>\n",
       "      <td>0.497862</td>\n",
       "      <td>0.008681</td>\n",
       "      <td>0.716157</td>\n",
       "      <td>0.055017</td>\n",
       "      <td>0.765613</td>\n",
       "      <td>0.468036</td>\n",
       "      <td>0.0</td>\n",
       "      <td>30436.0</td>\n",
       "      <td>all</td>\n",
       "      <td>GB1</td>\n",
       "      <td>none</td>\n",
       "      <td>384</td>\n",
       "      <td>0.716157</td>\n",
       "      <td>0.548571</td>\n",
       "    </tr>\n",
       "    <tr>\n",
       "      <th>1058604</th>\n",
       "      <td>one-hot</td>\n",
       "      <td>boosting</td>\n",
       "      <td>384</td>\n",
       "      <td>149361</td>\n",
       "      <td>4</td>\n",
       "      <td>0.465515</td>\n",
       "      <td>0.007334</td>\n",
       "      <td>0.689827</td>\n",
       "      <td>0.065948</td>\n",
       "      <td>0.768410</td>\n",
       "      <td>0.482155</td>\n",
       "      <td>0.0</td>\n",
       "      <td>36890.0</td>\n",
       "      <td>all</td>\n",
       "      <td>GB1</td>\n",
       "      <td>none</td>\n",
       "      <td>384</td>\n",
       "      <td>0.689827</td>\n",
       "      <td>0.505714</td>\n",
       "    </tr>\n",
       "    <tr>\n",
       "      <th>...</th>\n",
       "      <td>...</td>\n",
       "      <td>...</td>\n",
       "      <td>...</td>\n",
       "      <td>...</td>\n",
       "      <td>...</td>\n",
       "      <td>...</td>\n",
       "      <td>...</td>\n",
       "      <td>...</td>\n",
       "      <td>...</td>\n",
       "      <td>...</td>\n",
       "      <td>...</td>\n",
       "      <td>...</td>\n",
       "      <td>...</td>\n",
       "      <td>...</td>\n",
       "      <td>...</td>\n",
       "      <td>...</td>\n",
       "      <td>...</td>\n",
       "      <td>...</td>\n",
       "      <td>...</td>\n",
       "    </tr>\n",
       "    <tr>\n",
       "      <th>1059995</th>\n",
       "      <td>one-hot</td>\n",
       "      <td>ridge</td>\n",
       "      <td>576</td>\n",
       "      <td>149361</td>\n",
       "      <td>45</td>\n",
       "      <td>0.136799</td>\n",
       "      <td>0.009462</td>\n",
       "      <td>0.784978</td>\n",
       "      <td>0.380986</td>\n",
       "      <td>0.847032</td>\n",
       "      <td>0.445571</td>\n",
       "      <td>0.0</td>\n",
       "      <td>4426.0</td>\n",
       "      <td>all</td>\n",
       "      <td>GB1</td>\n",
       "      <td>none</td>\n",
       "      <td>96</td>\n",
       "      <td>0.784978</td>\n",
       "      <td>0.694286</td>\n",
       "    </tr>\n",
       "    <tr>\n",
       "      <th>1059996</th>\n",
       "      <td>one-hot</td>\n",
       "      <td>ridge</td>\n",
       "      <td>576</td>\n",
       "      <td>149361</td>\n",
       "      <td>46</td>\n",
       "      <td>0.175067</td>\n",
       "      <td>0.012426</td>\n",
       "      <td>0.784978</td>\n",
       "      <td>0.243581</td>\n",
       "      <td>0.833909</td>\n",
       "      <td>0.429427</td>\n",
       "      <td>0.0</td>\n",
       "      <td>843.0</td>\n",
       "      <td>all</td>\n",
       "      <td>GB1</td>\n",
       "      <td>none</td>\n",
       "      <td>96</td>\n",
       "      <td>0.784978</td>\n",
       "      <td>0.695000</td>\n",
       "    </tr>\n",
       "    <tr>\n",
       "      <th>1059997</th>\n",
       "      <td>one-hot</td>\n",
       "      <td>ridge</td>\n",
       "      <td>576</td>\n",
       "      <td>149361</td>\n",
       "      <td>47</td>\n",
       "      <td>0.136367</td>\n",
       "      <td>0.007313</td>\n",
       "      <td>0.784978</td>\n",
       "      <td>0.279715</td>\n",
       "      <td>0.816702</td>\n",
       "      <td>0.423117</td>\n",
       "      <td>0.0</td>\n",
       "      <td>11145.0</td>\n",
       "      <td>all</td>\n",
       "      <td>GB1</td>\n",
       "      <td>none</td>\n",
       "      <td>96</td>\n",
       "      <td>0.784978</td>\n",
       "      <td>0.695714</td>\n",
       "    </tr>\n",
       "    <tr>\n",
       "      <th>1059998</th>\n",
       "      <td>one-hot</td>\n",
       "      <td>ridge</td>\n",
       "      <td>576</td>\n",
       "      <td>149361</td>\n",
       "      <td>48</td>\n",
       "      <td>0.135847</td>\n",
       "      <td>0.008026</td>\n",
       "      <td>0.473378</td>\n",
       "      <td>0.179254</td>\n",
       "      <td>0.809781</td>\n",
       "      <td>0.505576</td>\n",
       "      <td>0.0</td>\n",
       "      <td>23890.0</td>\n",
       "      <td>all</td>\n",
       "      <td>GB1</td>\n",
       "      <td>none</td>\n",
       "      <td>96</td>\n",
       "      <td>0.473378</td>\n",
       "      <td>0.066429</td>\n",
       "    </tr>\n",
       "    <tr>\n",
       "      <th>1059999</th>\n",
       "      <td>one-hot</td>\n",
       "      <td>ridge</td>\n",
       "      <td>576</td>\n",
       "      <td>149361</td>\n",
       "      <td>49</td>\n",
       "      <td>0.125288</td>\n",
       "      <td>0.008850</td>\n",
       "      <td>0.698908</td>\n",
       "      <td>0.182002</td>\n",
       "      <td>0.819515</td>\n",
       "      <td>0.418349</td>\n",
       "      <td>0.0</td>\n",
       "      <td>229.0</td>\n",
       "      <td>all</td>\n",
       "      <td>GB1</td>\n",
       "      <td>none</td>\n",
       "      <td>96</td>\n",
       "      <td>0.698908</td>\n",
       "      <td>0.518571</td>\n",
       "    </tr>\n",
       "  </tbody>\n",
       "</table>\n",
       "<p>1400 rows × 19 columns</p>\n",
       "</div>"
      ],
      "text/plain": [
       "        encoding     model  n_sample  ft_lib  rep  all_maxes  all_means  \\\n",
       "1058600  one-hot  boosting       384  149361    0   0.337172   0.006653   \n",
       "1058601  one-hot  boosting       384  149361    1   0.313149   0.005628   \n",
       "1058602  one-hot  boosting       384  149361    2   0.367535   0.005830   \n",
       "1058603  one-hot  boosting       384  149361    3   0.497862   0.008681   \n",
       "1058604  one-hot  boosting       384  149361    4   0.465515   0.007334   \n",
       "...          ...       ...       ...     ...  ...        ...        ...   \n",
       "1059995  one-hot     ridge       576  149361   45   0.136799   0.009462   \n",
       "1059996  one-hot     ridge       576  149361   46   0.175067   0.012426   \n",
       "1059997  one-hot     ridge       576  149361   47   0.136367   0.007313   \n",
       "1059998  one-hot     ridge       576  149361   48   0.135847   0.008026   \n",
       "1059999  one-hot     ridge       576  149361   49   0.125288   0.008850   \n",
       "\n",
       "         top_maxes  top_means     ndcgs      rhos  if_truemaxs  truemax_inds  \\\n",
       "1058600   0.627128   0.122141  0.770298  0.416548          0.0       10197.0   \n",
       "1058601   0.831130   0.100569  0.785195  0.448754          0.0       23235.0   \n",
       "1058602   0.629503   0.129742  0.785543  0.451986          0.0       36245.0   \n",
       "1058603   0.716157   0.055017  0.765613  0.468036          0.0       30436.0   \n",
       "1058604   0.689827   0.065948  0.768410  0.482155          0.0       36890.0   \n",
       "...            ...        ...       ...       ...          ...           ...   \n",
       "1059995   0.784978   0.380986  0.847032  0.445571          0.0        4426.0   \n",
       "1059996   0.784978   0.243581  0.833909  0.429427          0.0         843.0   \n",
       "1059997   0.784978   0.279715  0.816702  0.423117          0.0       11145.0   \n",
       "1059998   0.473378   0.179254  0.809781  0.505576          0.0       23890.0   \n",
       "1059999   0.698908   0.182002  0.819515  0.418349          0.0         229.0   \n",
       "\n",
       "        n_mut_cutoff  lib    zs  n_top  final_fitness  final_fitness ECDF  \n",
       "1058600          all  GB1  none    384       0.627128            0.341429  \n",
       "1058601          all  GB1  none    384       0.831130            0.739286  \n",
       "1058602          all  GB1  none    384       0.629503            0.365000  \n",
       "1058603          all  GB1  none    384       0.716157            0.548571  \n",
       "1058604          all  GB1  none    384       0.689827            0.505714  \n",
       "...              ...  ...   ...    ...            ...                 ...  \n",
       "1059995          all  GB1  none     96       0.784978            0.694286  \n",
       "1059996          all  GB1  none     96       0.784978            0.695000  \n",
       "1059997          all  GB1  none     96       0.784978            0.695714  \n",
       "1059998          all  GB1  none     96       0.473378            0.066429  \n",
       "1059999          all  GB1  none     96       0.698908            0.518571  \n",
       "\n",
       "[1400 rows x 19 columns]"
      ]
     },
     "execution_count": 11,
     "metadata": {},
     "output_type": "execute_result"
    }
   ],
   "source": [
    "mlde_df"
   ]
  },
  {
   "cell_type": "code",
   "execution_count": 13,
   "metadata": {},
   "outputs": [
    {
     "data": {
      "text/plain": [
       "array([384,  96, 192, 288, 480, 576])"
      ]
     },
     "execution_count": 13,
     "metadata": {},
     "output_type": "execute_result"
    }
   ],
   "source": [
    "mlde_df[\"n_sample\"].unique()"
   ]
  },
  {
   "cell_type": "code",
   "execution_count": 15,
   "metadata": {},
   "outputs": [],
   "source": [
    "mlde_df_96 = mlde_df[mlde_df[\"n_sample\"] == 96][\"top_maxes\"]\n",
    "mlde_df_192 = mlde_df[mlde_df[\"n_sample\"] == 192][\"top_maxes\"]\n",
    "mlde_df_288 = mlde_df[mlde_df[\"n_sample\"] == 288][\"top_maxes\"]\n",
    "mlde_df_384 = mlde_df[mlde_df[\"n_sample\"] == 384][\"top_maxes\"]"
   ]
  },
  {
   "cell_type": "code",
   "execution_count": 20,
   "metadata": {},
   "outputs": [],
   "source": [
    "import matplotlib.pyplot as plt\n",
    "\n",
    "%matplotlib inline"
   ]
  },
  {
   "cell_type": "code",
   "execution_count": 24,
   "metadata": {},
   "outputs": [
    {
     "data": {
      "text/plain": [
       "['#f79646ff',\n",
       " '#f9be00',\n",
       " '#89bf91',\n",
       " '#6db290',\n",
       " '#57a490',\n",
       " '#44948f',\n",
       " '#33858d',\n",
       " '#24768b',\n",
       " '#1c6689',\n",
       " '#215584',\n",
       " '#28437b',\n",
       " '#666666']"
      ]
     },
     "execution_count": 24,
     "metadata": {},
     "output_type": "execute_result"
    }
   ],
   "source": [
    "ten_colors = list(LIB_COLORS.values())\n",
    "ten_colors"
   ]
  },
  {
   "cell_type": "code",
   "execution_count": 25,
   "metadata": {},
   "outputs": [
    {
     "data": {
      "image/png": "[encoded data removed]",
      "text/plain": [
       "<Figure size 800x400 with 1 Axes>"
      ]
     },
     "metadata": {},
     "output_type": "display_data"
    }
   ],
   "source": [
    "plt.figure(figsize=(8, 4))\n",
    "plt.plot(ss_df[\"final_fitness\"], ss_df[\"final_fitness ECDF\"], \".\", label = \"DE - single-step\", color = ten_colors[0])\n",
    "plt.plot(recomb_df[\"final_fitness\"], recomb_df[\"final_fitness ECDF\"], \".\", label = \"DE - recombination\", color = ten_colors[1])\n",
    "plt.plot(mlde_df_96, ecdf_transform(mlde_df_96), \".\", label = \"MLDE - 96\", color = ten_colors[2])\n",
    "plt.plot(mlde_df_192, ecdf_transform(mlde_df_192), \".\", label = \"MLDE - 192\", color = ten_colors[3])\n",
    "plt.plot(mlde_df_288, ecdf_transform(mlde_df_288), \".\", label = \"MLDE - 288\", color = ten_colors[4])\n",
    "plt.plot(mlde_df_384, ecdf_transform(mlde_df_384), \".\", label = \"MLDE - 384\", color = ten_colors[5])\n",
    "plt.xlabel(\"Max fitness achieved\")\n",
    "plt.ylabel(\"ECDF\")\n",
    "plt.legend(loc=\"lower right\")\n",
    "plt.title(\"GB1 MLDE vs DE\")\n",
    "plt.show()"
   ]
  },
  {
   "cell_type": "code",
   "execution_count": 19,
   "metadata": {},
   "outputs": [],
   "source": [
    "from SSMuLA.vis import PRESENTATION_PALETTE_SATURATE, LIB_COLORS"
   ]
  },
  {
   "cell_type": "code",
   "execution_count": 10,
   "metadata": {},
   "outputs": [],
   "source": [
    "import matplotlib.pyplot as plt\n",
    "\n",
    "%matplotlib inline"
   ]
  },
  {
   "cell_type": "code",
   "execution_count": 11,
   "metadata": {},
   "outputs": [
    {
     "data": {
      "image/png": "[encoded data removed]",
      "text/plain": [
       "<Figure size 800x400 with 1 Axes>"
      ]
     },
     "metadata": {},
     "output_type": "display_data"
    }
   ],
   "source": [
    "plt.figure(figsize=(8, 4))\n",
    "plt.plot(ss_df[\"final_fitness\"], ss_df[\"final_fitness ECDF\"], \".\", label = \"DE - single-step\", color = PRESENTATION_PALETTE_SATURATE[\"blue\"])\n",
    "plt.plot(recomb_df[\"final_fitness\"], recomb_df[\"final_fitness ECDF\"], \".\", label = \"DE - recombination\", color = PRESENTATION_PALETTE_SATURATE[\"green\"])\n",
    "plt.plot(mlde_df[\"final_fitness\"], mlde_df[\"final_fitness ECDF\"], \".\", label = \"MLDE\", color=PRESENTATION_PALETTE_SATURATE[\"yellow\"])\n",
    "plt.xlabel(\"Max fitness achieved\")\n",
    "plt.ylabel(\"ECDF\")\n",
    "plt.legend(loc=\"lower right\")\n",
    "plt.title(\"GB1 MLDE vs DE\")\n",
    "plt.show()"
   ]
  },
  {
   "cell_type": "code",
   "execution_count": 12,
   "metadata": {},
   "outputs": [],
   "source": [
    "from SSMuLA.landscape_global import hamming"
   ]
  },
  {
   "cell_type": "code",
   "execution_count": 13,
   "metadata": {},
   "outputs": [],
   "source": [
    "from SSMuLA.landscape_global import LIB_INFO_DICT\n",
    "\n",
    "ss_df['n_mut'] = ss_df[\"start_seq\"].apply(hamming, str2=\"\".join(LIB_INFO_DICT[\"GB1\"][\"AAs\"].values()))\n",
    "recomb_df['n_mut'] = recomb_df[\"start_seq\"].apply(hamming, str2=\"\".join(LIB_INFO_DICT[\"GB1\"][\"AAs\"].values()))\n"
   ]
  },
  {
   "cell_type": "code",
   "execution_count": 14,
   "metadata": {},
   "outputs": [
    {
     "data": {
      "text/plain": [
       "array([0, 1, 2, 3, 4])"
      ]
     },
     "execution_count": 14,
     "metadata": {},
     "output_type": "execute_result"
    }
   ],
   "source": [
    "ss_df[\"n_mut\"].unique()"
   ]
  },
  {
   "cell_type": "code",
   "execution_count": 15,
   "metadata": {},
   "outputs": [],
   "source": [
    "ss_df2 = ss_df[ss_df[\"n_mut\"] <=2].copy()\n",
    "recomb_df2 = recomb_df[recomb_df[\"n_mut\"] <=2].copy()"
   ]
  },
  {
   "cell_type": "code",
   "execution_count": 16,
   "metadata": {},
   "outputs": [],
   "source": [
    "mlde_df2 = mlde_all[(mlde_all[\"lib\"] == \"GB1\") & (mlde_all[\"n_mut_cutoff\"] == \"double\") & (mlde_all[\"zs\"]== \"none\") & (mlde_all[\"encoding\"] == \"one-hot\")].copy()"
   ]
  },
  {
   "cell_type": "code",
   "execution_count": 17,
   "metadata": {},
   "outputs": [
    {
     "data": {
      "text/plain": [
       "Index(['encoding', 'model', 'n_sample', 'ft_lib', 'rep', 'all_maxes',\n",
       "       'all_means', 'top_maxes', 'top_means', 'ndcgs', 'rhos', 'if_truemaxs',\n",
       "       'truemax_inds', 'n_mut_cutoff', 'lib', 'zs', 'n_top'],\n",
       "      dtype='object')"
      ]
     },
     "execution_count": 17,
     "metadata": {},
     "output_type": "execute_result"
    }
   ],
   "source": [
    "mlde_df2.columns"
   ]
  },
  {
   "cell_type": "code",
   "execution_count": 18,
   "metadata": {},
   "outputs": [
    {
     "data": {
      "image/png": "[encoded data removed]",
      "text/plain": [
       "<Figure size 800x400 with 1 Axes>"
      ]
     },
     "metadata": {},
     "output_type": "display_data"
    }
   ],
   "source": [
    "plt.figure(figsize=(8,4))\n",
    "plt.plot(ss_df2[\"final_fitness\"], ecdf_transform(ss_df2[\"final_fitness\"]), \".\", label = \"DE - single-step\", color = PRESENTATION_PALETTE_SATURATE[\"blue\"])\n",
    "plt.plot(recomb_df2[\"final_fitness\"], ecdf_transform(recomb_df2[\"final_fitness\"]), \".\", label = \"DE - recombination\", color = PRESENTATION_PALETTE_SATURATE[\"green\"])\n",
    "plt.plot(mlde_df2[\"top_maxes\"], ecdf_transform(mlde_df2[\"top_maxes\"]), \".\", label = \"MLDE\", color = PRESENTATION_PALETTE_SATURATE[\"yellow\"])\n",
    "plt.xlabel(\"Max fitness achieved\")\n",
    "plt.ylabel(\"ECDF\")\n",
    "plt.legend(loc=\"lower right\")\n",
    "plt.title(\"GB1 MLDE vs DE double only\")\n",
    "plt.show()"
   ]
  },
  {
   "cell_type": "code",
   "execution_count": 19,
   "metadata": {},
   "outputs": [],
   "source": []
  },
  {
   "cell_type": "code",
   "execution_count": 20,
   "metadata": {},
   "outputs": [],
   "source": []
  },
  {
   "cell_type": "code",
   "execution_count": 29,
   "metadata": {},
   "outputs": [],
   "source": [
    "from SSMuLA.vis import save_plt\n",
    "from SSMuLA.landscape_global import LIB_INFO_DICT, hamming, n_mut_cutoff_dict\n",
    "from SSMuLA.util import checkNgen_folder"
   ]
  },
  {
   "cell_type": "code",
   "execution_count": 31,
   "metadata": {},
   "outputs": [],
   "source": [
    "plot_folder = checkNgen_folder(\"results/de_vs_mlde/onehot/n_samples\")\n",
    "\n",
    "mlde_all = pd.read_csv(\"results/mlde/vis_2/all_df.csv\").copy()\n",
    "\n",
    "for lib in LIB_INFO_DICT.keys():\n",
    "    ss_df_all = pd.read_csv(\n",
    "        f\"results/simulations/DE-active/scale2max/{lib}-single_step_DE.csv\"\n",
    "    )\n",
    "    recomb_df_all = pd.read_csv(\n",
    "        f\"results/simulations/DE-active/scale2max/{lib}-recomb_SSM.csv\"\n",
    "    )\n",
    "\n",
    "    # append numb mut\n",
    "    # ss_df_all[\"n_mut\"] = ss_df_all[\"start_seq\"].apply(\n",
    "    #     hamming, str2=\"\".join(LIB_INFO_DICT[lib][\"AAs\"].values())\n",
    "    # )\n",
    "    # recomb_df_all[\"n_mut\"] = recomb_df_all[\"start_seq\"].apply(\n",
    "    #     hamming, str2=\"\".join(LIB_INFO_DICT[lib][\"AAs\"].values())\n",
    "    # )\n",
    "    ss_df = ss_df_all.copy()\n",
    "    recomb_df = recomb_df_all.copy()\n",
    "\n",
    "    for n_mut_cutoff in [\n",
    "        0,\n",
    "        1,\n",
    "        2,\n",
    "    ]:\n",
    "        plot_title = f\"{lib} MLDE vs DE {n_mut_cutoff_dict[n_mut_cutoff]}\"\n",
    "\n",
    "        if n_mut_cutoff == 0:\n",
    "            mlde_df = mlde_all[\n",
    "                (mlde_all[\"lib\"] == lib)\n",
    "                & (mlde_all[\"n_mut_cutoff\"] == \"all\")\n",
    "                & (mlde_all[\"zs\"] == \"none\")\n",
    "                & (mlde_all[\"encoding\"] == \"one-hot\")\n",
    "            ].copy()\n",
    "\n",
    "            # ss_df = ss_df_all.copy()\n",
    "            # recomb_df = recomb_df_all.copy()\n",
    "\n",
    "        else:\n",
    "            mlde_df = mlde_all[\n",
    "                (mlde_all[\"lib\"] == lib)\n",
    "                & (mlde_all[\"n_mut_cutoff\"] == n_mut_cutoff_dict[n_mut_cutoff])\n",
    "                & (mlde_all[\"zs\"] == \"none\")\n",
    "                & (mlde_all[\"encoding\"] == \"one-hot\")\n",
    "            ].copy()\n",
    "\n",
    "            # ss_df = ss_df_all[ss_df_all[\"n_mut\"] <= n_mut_cutoff].copy()\n",
    "            # recomb_df = recomb_df_all[recomb_df_all[\"n_mut\"] <= n_mut_cutoff].copy()\n",
    "\n",
    "        fig, ax = plt.subplots(figsize=(6, 4))\n",
    "        ax.plot(\n",
    "            ss_df[\"final_fitness\"],\n",
    "            ecdf_transform(ss_df[\"final_fitness\"]),\n",
    "            \".\",\n",
    "            label=\"DE - single-step\",\n",
    "            color=ten_colors[0],\n",
    "        )\n",
    "        ax.plot(\n",
    "            recomb_df[\"final_fitness\"],\n",
    "            ecdf_transform(recomb_df[\"final_fitness\"]),\n",
    "            \".\",\n",
    "            label=\"DE - recombination\",\n",
    "            color=ten_colors[1],\n",
    "        )\n",
    "\n",
    "        for n, n_samples in enumerate([96, 192, 288, 384]):\n",
    "            mlde_df_n = mlde_df[mlde_df[\"n_sample\"] == n_samples][\"top_maxes\"]\n",
    "            ax.plot(\n",
    "                mlde_df_n,\n",
    "                ecdf_transform(mlde_df_n),\n",
    "                \".\",\n",
    "                label=f\"MLDE - {str(n_samples)}\",\n",
    "                color=ten_colors[n + 2],\n",
    "            )\n",
    "\n",
    "        # ax.plot(\n",
    "        #     mlde_df[\"top_maxes\"],\n",
    "        #     ecdf_transform(mlde_df[\"top_maxes\"]),\n",
    "        #     \".\",\n",
    "        #     label=\"MLDE\",\n",
    "        #     color=PRESENTATION_PALETTE_SATURATE[\"yellow\"],\n",
    "        # )\n",
    "        plt.xlabel(\"Max fitness achieved\")\n",
    "        plt.ylabel(\"ECDF\")\n",
    "        plt.legend(loc=\"upper left\")\n",
    "        plt.title(plot_title)\n",
    "\n",
    "        save_plt(\n",
    "            fig,\n",
    "            plot_title=plot_title,\n",
    "            path2folder=plot_folder,\n",
    "        )"
   ]
  },
  {
   "cell_type": "code",
   "execution_count": 37,
   "metadata": {},
   "outputs": [],
   "source": []
  },
  {
   "cell_type": "code",
   "execution_count": null,
   "metadata": {},
   "outputs": [],
   "source": []
  }
 ],
 "metadata": {
  "kernelspec": {
   "display_name": "SSMuLA",
   "language": "python",
   "name": "python3"
  },
  "language_info": {
   "codemirror_mode": {
    "name": "ipython",
    "version": 3
   },
   "file_extension": ".py",
   "mimetype": "text/x-python",
   "name": "python",
   "nbconvert_exporter": "python",
   "pygments_lexer": "ipython3",
   "version": "3.10.13"
  }
 },
 "nbformat": 4,
 "nbformat_minor": 2
}
