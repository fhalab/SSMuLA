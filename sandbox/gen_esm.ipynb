{
 "cells": [
  {
   "cell_type": "code",
   "execution_count": 1,
   "metadata": {},
   "outputs": [
    {
     "name": "stdout",
     "output_type": "stream",
     "text": [
      "/disk2/fli/SSMuLA\n"
     ]
    }
   ],
   "source": [
    "%cd ~/SSMuLA"
   ]
  },
  {
   "cell_type": "code",
   "execution_count": 2,
   "metadata": {},
   "outputs": [],
   "source": [
    "%load_ext autoreload\n",
    "%autoreload 2\n",
    "%load_ext blackcellmagic"
   ]
  },
  {
   "cell_type": "code",
   "execution_count": 3,
   "metadata": {},
   "outputs": [
    {
     "name": "stdout",
     "output_type": "stream",
     "text": [
      "tensor([67, 73,  8])\n",
      "torch.Size([3, 73, 1280])\n",
      "tensor(67) torch.Size([65, 1280])\n",
      "torch.Size([1280])\n",
      "tensor(73) torch.Size([71, 1280])\n",
      "torch.Size([1280])\n",
      "tensor(8) torch.Size([6, 1280])\n",
      "torch.Size([1280])\n"
     ]
    }
   ],
   "source": [
    "import torch\n",
    "import esm\n",
    "\n",
    "# Load ESM-2 model\n",
    "model, alphabet = esm.pretrained.esm2_t33_650M_UR50D()\n",
    "batch_converter = alphabet.get_batch_converter()\n",
    "model.eval()  # disables dropout for deterministic results\n",
    "\n",
    "# Prepare data (first 2 sequences from ESMStructuralSplitDataset superfamily / 4)\n",
    "data = [\n",
    "    (\"protein1\", \"MKTVRQERLKSIVRILERSKEPVSGAQLAEELSVSRQVIVQDIAYLRSLGYNIVATPRGYVLAGG\"),\n",
    "    (\"protein2\", \"KALTARQQEVFDLIRDHISQTGMPPTRAEIAQRLGFRSPNAAEEHLKALARKGVIEIVSGASRGIRLLQEE\"),\n",
    "    # (\"protein2 with mask\",\"KALTARQQEVFDLIRD<mask>ISQTGMPPTRAEIAQRLGFRSPNAAEEHLKALARKGVIEIVSGASRGIRLLQEE\"),\n",
    "    (\"protein3\",  \"K A <mask> I S Q\"),\n",
    "]\n",
    "batch_labels, batch_strs, batch_tokens = batch_converter(data)\n",
    "batch_lens = (batch_tokens != alphabet.padding_idx).sum(1)\n",
    "print(batch_lens)\n",
    "\n",
    "# Extract per-residue representations (on CPU)\n",
    "with torch.no_grad():\n",
    "    results = model(batch_tokens, repr_layers=[33], return_contacts=False)\n",
    "token_representations = results[\"representations\"][33]\n",
    "print(token_representations.shape)\n",
    "\n",
    "# Generate per-sequence representations via averaging\n",
    "# NOTE: token 0 is always a beginning-of-sequence token, so the first residue is token 1.\n",
    "sequence_representations = []\n",
    "for i, tokens_len in enumerate(batch_lens):\n",
    "    print(tokens_len, token_representations[i, 1 : tokens_len - 1].shape)\n",
    "    sequence_representations.append(token_representations[i, 1 : tokens_len - 1].mean(0))\n",
    "    print(token_representations[i, 1 : tokens_len - 1].mean(0).shape)"
   ]
  },
  {
   "cell_type": "code",
   "execution_count": 17,
   "metadata": {},
   "outputs": [
    {
     "data": {
      "text/plain": [
       "torch.Size([73, 1280])"
      ]
     },
     "execution_count": 17,
     "metadata": {},
     "output_type": "execute_result"
    }
   ],
   "source": [
    "token_representations[0].shape"
   ]
  },
  {
   "cell_type": "code",
   "execution_count": 19,
   "metadata": {},
   "outputs": [
    {
     "data": {
      "text/plain": [
       "torch.Size([1280])"
      ]
     },
     "execution_count": 19,
     "metadata": {},
     "output_type": "execute_result"
    }
   ],
   "source": [
    "token_representations[0][10].shape"
   ]
  },
  {
   "cell_type": "code",
   "execution_count": 20,
   "metadata": {},
   "outputs": [],
   "source": [
    "positions = [10, 20, 30, 40] # 1 index"
   ]
  },
  {
   "cell_type": "code",
   "execution_count": 4,
   "metadata": {},
   "outputs": [],
   "source": [
    "from copy import deepcopy"
   ]
  },
  {
   "cell_type": "code",
   "execution_count": 38,
   "metadata": {},
   "outputs": [
    {
     "name": "stdout",
     "output_type": "stream",
     "text": [
      "(73, 1280) (1280,) 0.118074946\n",
      "(4, 1280)\n",
      "(4, 1280) 0.118074946\n"
     ]
    }
   ],
   "source": [
    "input_tensor = deepcopy(token_representations[0].cpu()\n",
    "                .numpy())\n",
    "print(input_tensor.shape, input_tensor[20].shape, input_tensor[20][0])\n",
    "\n",
    "# Extract tensors at positions 10, 20, 30, and 40 and concatenate them\n",
    "concatenated_tensor = np.concatenate([input_tensor[pos:pos+1] for pos in positions], axis=0)\n",
    "# Resulting tensor shape: [4, 1280]\n",
    "print(concatenated_tensor.shape)\n",
    "\n",
    "print(concatenated_tensor.shape, concatenated_tensor[1,0])"
   ]
  },
  {
   "cell_type": "code",
   "execution_count": 11,
   "metadata": {},
   "outputs": [],
   "source": [
    "# just esm2_t33_650M_UR50D and flatten over sites"
   ]
  },
  {
   "cell_type": "code",
   "execution_count": 3,
   "metadata": {},
   "outputs": [],
   "source": [
    "\"\"\"Add encoding classes with class methods\"\"\"\n",
    "\n",
    "from __future__ import annotations\n",
    "\n",
    "from abc import ABC, abstractmethod\n",
    "from typing import Collection\n",
    "from collections.abc import Iterable, Sequence\n",
    "\n",
    "import math\n",
    "import random\n",
    "import numpy as np\n",
    "import pandas as pd\n",
    "from tqdm import tqdm\n",
    "from copy import deepcopy\n",
    "\n",
    "import esm\n",
    "import torch\n",
    "\n",
    "# from sequence_models.pretrained import load_model_and_alphabet\n",
    "from SSMuLA.aa_global import AA_NUMB, AA_TO_IND\n",
    "from SSMuLA.landscape_global import LIB_INFO_DICT\n",
    "\n",
    "RAND_SEED = 42\n",
    "# seed everything\n",
    "random.seed(RAND_SEED)\n",
    "np.random.seed(RAND_SEED)\n",
    "torch.manual_seed(RAND_SEED)\n",
    "torch.cuda.manual_seed(RAND_SEED)\n",
    "torch.cuda.manual_seed_all(RAND_SEED)\n",
    "torch.backends.cudnn.deterministic = True\n",
    "\n",
    "# the longest seq for esm1b is 1022 with CLS and EOS\n",
    "MAX_SEQ_LEN = 1022\n",
    "\n",
    "# encoder_name: (embedding dim, num layers, token dim)\n",
    "TRANSFORMER_INFO = {\n",
    "    \"esm1_t6_43M_UR50S\": (768, 6, 2),\n",
    "    \"esm1_t12_85M_UR50S\": (768, 12, 2),\n",
    "    \"esm1_t34_670M_UR50S\": (1280, 34, 2),\n",
    "    \"esm1b_t33_650M_UR50S\": (1280, 33, 2),\n",
    "    \"esm2_t6_8M_UR50D\": (320, 6, 2),\n",
    "    \"esm2_t12_35M_UR50D\": (480, 12, 2),\n",
    "    \"esm2_t30_150M_UR50D\": (640, 30, 2),\n",
    "    \"esm2_t33_650M_UR50D\": (1280, 33, 2),\n",
    "    \"esm2_t36_3B_UR50D\": (2560, 36, 2),\n",
    "    \"esm2_t48_15B_UR50D\": (5120, 48, 2),\n",
    "}\n",
    "\n",
    "DEFAULT_ESM = \"esm2_t33_650M_UR50D\"\n",
    "\n",
    "# Set up cuda variables\n",
    "DEVICE = \"cuda\" if torch.cuda.is_available() else \"cpu\"\n"
   ]
  },
  {
   "cell_type": "code",
   "execution_count": 6,
   "metadata": {},
   "outputs": [
    {
     "data": {
      "text/plain": [
       "dict_values([39, 40, 41, 54])"
      ]
     },
     "execution_count": 6,
     "metadata": {},
     "output_type": "execute_result"
    }
   ],
   "source": [
    "LIB_INFO_DICT[\"GB1\"][\"positions\"].values()"
   ]
  },
  {
   "cell_type": "code",
   "execution_count": 4,
   "metadata": {},
   "outputs": [],
   "source": [
    "class AbstractEncoder(ABC):\n",
    "    \"\"\"\n",
    "    An abstract encoder class to fill in for different kinds of encoders\n",
    "    All encoders will have an \"encode\" function\n",
    "    \"\"\"\n",
    "\n",
    "    def __init__(\n",
    "        self,\n",
    "        encoder_name: str = \"\",\n",
    "    ):\n",
    "\n",
    "        \"\"\"\n",
    "        Args:\n",
    "        - encoder_name: str, the name of the encoder, default empty for onehot\n",
    "        \"\"\"\n",
    "\n",
    "        self._encoder_name = encoder_name\n",
    "\n",
    "    def encode(\n",
    "        self,\n",
    "        mut_seqs: Sequence[str] | str,\n",
    "        batch_size: int = 0,\n",
    "        flatten_emb: bool | str = False,\n",
    "        site_locs: Sequence[int] | None = None,\n",
    "        mut_names: Sequence[str] | str | None = None,\n",
    "    ) -> Iterable[np.ndarray]:\n",
    "\n",
    "        \"\"\"\n",
    "        A function takes a list of sequences to yield a batch of encoded elements\n",
    "\n",
    "        Args:\n",
    "        - mut_seqs: list of str or str, mutant sequences of the same length\n",
    "        - batch_size: int, set to 0 to encode all in a single batch\n",
    "        - flatten_emb: bool or str, if and how (one of [\"max\", \"mean\"]) to flatten the embedding\n",
    "        - mut_names: list of str or str or None, mutant names\n",
    "\n",
    "        Returns:\n",
    "        - generator: dict with layer number as keys and\n",
    "            encoded flattened sequence with or without labels as value\n",
    "        \"\"\"\n",
    "\n",
    "        if isinstance(mut_seqs, str):\n",
    "            mut_seqs = [mut_seqs]\n",
    "\n",
    "        # If the batch size is 0, then encode all at once in a single batch\n",
    "        if batch_size == 0:\n",
    "            yield self._encode_batch(\n",
    "                mut_seqs=mut_seqs, \n",
    "                flatten_emb=flatten_emb, \n",
    "                site_locs=site_locs,\n",
    "                mut_names=mut_names\n",
    "            )\n",
    "\n",
    "        # Otherwise, yield chunks of encoded sequence\n",
    "        else:\n",
    "\n",
    "            for i in tqdm(range(0, len(mut_seqs), batch_size)):\n",
    "\n",
    "                # figure out what mut_names to feed in\n",
    "                if mut_names is None:\n",
    "                    mut_name_batch = mut_names\n",
    "                else:\n",
    "                    mut_name_batch = mut_names[i : i + batch_size]\n",
    "\n",
    "                yield self._encode_batch(\n",
    "                    mut_seqs=mut_seqs[i : i + batch_size],\n",
    "                    flatten_emb=flatten_emb,\n",
    "                    site_locs=site_locs,\n",
    "                    mut_names=mut_name_batch,\n",
    "                )\n",
    "\n",
    "    def flatten_encode(\n",
    "        self,\n",
    "        encoded_mut_seqs: np.ndarray,\n",
    "        flatten_emb: bool | str,\n",
    "        mut_seqs: Sequence[str] | str,\n",
    "        site_locs: Sequence[int] | None,\n",
    "    ) -> np.ndarray:\n",
    "\n",
    "        \"\"\"\n",
    "        Flatten the embedding or just return the encoded mutants.\n",
    "\n",
    "        Args:\n",
    "        - encoded_mut_seqs: np.ndarray, shape [batch_size, seq_len, embed_dim]\n",
    "        - flatten_emb: bool or str, if and how (one of [\"max\", \"mean\"]) to flatten the embedding\n",
    "            - True -> shape [batch_size, seq_len * embed_dim]\n",
    "            - \"max\" or \"mean\" -> shape [batch_size, embed_dim]\n",
    "            - False or everything else -> [batch_size, seq_len, embed_dim]\n",
    "        - mut_seqs: list of str or str, mutant sequences of the same length\n",
    "        - site_locs: list of int or None, 0-indexed site locations to be used for the embedding\n",
    "            ie LIB_INFO_DICT[\"GB1\"][\"positions\"].values() would be dict_values([39, 40, 41, 54])\n",
    "\n",
    "        Returns:\n",
    "        - np.ndarray, shape depends on flatten_emb parameter\n",
    "        \"\"\"\n",
    "\n",
    "        assert (\n",
    "            encoded_mut_seqs.shape[-1] == self._embed_dim\n",
    "        ), f\"encode last dim {encoded_mut_seqs.shape[-1]} != embed dim {self._embed_dim}\"\n",
    "\n",
    "        if site_locs is not None:\n",
    "            # init out put seq_reps should be in dim [batch_size, site_locs, embed_dim]\n",
    "            encoded_mut_siteloc_seqs = np.empty(\n",
    "                (encoded_mut_seqs.shape[0], len(site_locs), self._embed_dim)\n",
    "            )\n",
    "\n",
    "            for i, encoded_mut_seq in enumerate(encoded_mut_seqs):\n",
    "                encoded_mut_siteloc_seqs[i] = np.concatenate(\n",
    "                    [encoded_mut_seq[loc-1 : loc] for loc in site_locs], axis=0\n",
    "                )\n",
    "        else:\n",
    "            encoded_mut_siteloc_seqs = deepcopy(encoded_mut_seqs)\n",
    "\n",
    "        if flatten_emb in [True, \"flatten\", \"flattened\", \"\"]:\n",
    "            # shape [batch_size, seq_len * embed_dim]\n",
    "            return encoded_mut_siteloc_seqs.reshape(\n",
    "                encoded_mut_siteloc_seqs.shape[0], -1\n",
    "            )\n",
    "\n",
    "        elif isinstance(flatten_emb, str):\n",
    "            # init out put seq_reps should be in dim [batch_size, embed_dim]\n",
    "            seq_reps = np.empty((encoded_mut_siteloc_seqs.shape[0], self._embed_dim))\n",
    "            for i, encoded_mut_seq in enumerate(encoded_mut_siteloc_seqs):\n",
    "\n",
    "                # if the emb has label\n",
    "                if len(mut_seqs[i]) == 2:\n",
    "                    seq_len = len(mut_seqs[i][1])\n",
    "                # if the emb is carp\n",
    "                elif len(mut_seqs[i]) == 1:\n",
    "                    seq_len = len(mut_seqs[i][0])\n",
    "                else:\n",
    "                    seq_len = len(mut_seqs[i])\n",
    "\n",
    "                if flatten_emb == \"mean\":\n",
    "                    seq_reps[i] = encoded_mut_seq[:seq_len].mean(0)\n",
    "                elif flatten_emb == \"max\":\n",
    "                    seq_reps[i] = encoded_mut_seq[:seq_len].max(0)\n",
    "\n",
    "            return seq_reps\n",
    "\n",
    "        else:\n",
    "            # print(\"No embedding flattening\")\n",
    "            # [batch_size, seq_len, embed_dim]\n",
    "            return encoded_mut_siteloc_seqs\n",
    "\n",
    "    @abstractmethod\n",
    "    def _encode_batch(\n",
    "        mut_seqs: Sequence[str] | str,\n",
    "        flatten_emb: bool | str,\n",
    "        site_locs: Sequence[int] | None,\n",
    "        mut_names: Sequence[str] | str | None = None,\n",
    "    ) -> np.ndarray:\n",
    "        \"\"\"\n",
    "        Encode a single batch of mut_seqs\n",
    "        \"\"\"\n",
    "        pass\n",
    "\n",
    "    @property\n",
    "    def embed_dim(self) -> int:\n",
    "        \"\"\"The dim of the embedding\"\"\"\n",
    "        return self._embed_dim\n",
    "\n",
    "    @property\n",
    "    def max_emb_layer(self) -> int:\n",
    "        \"\"\"The max layer nubmer of the embedding\"\"\"\n",
    "        return self._max_emb_layer\n",
    "\n",
    "    @property\n",
    "    def encoder_name(self) -> str:\n",
    "        \"\"\"The name of the encoding method\"\"\"\n",
    "        return self._encoder_name\n",
    "    \n",
    "\n",
    "class ESMEncoder(AbstractEncoder):\n",
    "    \"\"\"\n",
    "    Build an ESM encoder\n",
    "    \"\"\"\n",
    "\n",
    "    def __init__(\n",
    "        self,\n",
    "        encoder_name: str,\n",
    "        iftrimCLS: bool = True,\n",
    "        iftrimEOS: bool = True,\n",
    "    ):\n",
    "        \"\"\"\n",
    "        Args\n",
    "        - encoder_name: str, the name of the encoder, one of the keys of TRANSFORMER_INFO\n",
    "        - iftrimCLS: bool, whether to trim the first classifification token\n",
    "        - iftrimEOS: bool, whether to trim the end of sequence token, if exists\n",
    "        \"\"\"\n",
    "\n",
    "        super().__init__(encoder_name)\n",
    "\n",
    "        self._iftrimCLS = iftrimCLS\n",
    "        self._iftrimEOS = iftrimEOS\n",
    "\n",
    "        # get transformer dim and layer info\n",
    "        self._embed_dim, self._max_emb_layer, _ = TRANSFORMER_INFO[self._encoder_name]\n",
    "\n",
    "        # load model from torch.hub\n",
    "        print(\n",
    "            f\"Generating {self._encoder_name} upto {self._max_emb_layer} layer embedding ...\"\n",
    "        )\n",
    "\n",
    "        self.model, self.alphabet = getattr(esm.pretrained, self._encoder_name)()\n",
    "        # self.model, self.alphabet = torch.hub.load(\n",
    "        #     \"facebookresearch/esm:main\", model=self._encoder_name\n",
    "        # )\n",
    "        # torch.hub.load(\"facebookresearch/esm:main\", \"esm2_t33_650M_UR50D\")\n",
    "        self.batch_converter = self.alphabet.get_batch_converter()\n",
    "\n",
    "        # set model to eval mode\n",
    "        self.model.eval()\n",
    "        self.model.to(DEVICE)\n",
    "\n",
    "        expected_num_layers = int(self._encoder_name.split(\"_\")[-3][1:])\n",
    "        assert (\n",
    "            expected_num_layers == self._max_emb_layer\n",
    "        ), \"Wrong ESM model name or layer\"\n",
    "\n",
    "    def _encode_batch(\n",
    "        self,\n",
    "        mut_seqs: Sequence[str] | str,\n",
    "        flatten_emb: bool | str,\n",
    "        site_locs: Sequence[int] | None,\n",
    "        mut_names: Sequence[str] | str | None = None,\n",
    "    ) -> np.ndarray:\n",
    "        \"\"\"\n",
    "        Encodes a batch of mutant sequences.\n",
    "        Args:\n",
    "        - mut_seqs: list of str or str, mutant sequences of the same length\n",
    "        - flatten_emb: bool or str, if and how (one of [\"max\", \"mean\"]) to flatten the embedding\n",
    "        - mut_names: list of str or str or None, mutant names\n",
    "        Returns:\n",
    "        - np.ndarray or a tuple(np.ndarray, list[str]) where the list is batch_labels\n",
    "        \"\"\"\n",
    "\n",
    "        if isinstance(mut_names, str):\n",
    "            mut_names = [mut_names]\n",
    "\n",
    "        # pair the mut_names and mut_seqs\n",
    "        if mut_names is not None:\n",
    "            assert len(mut_names) == len(\n",
    "                mut_seqs\n",
    "            ), \"mutant_name and mut_seqs different length\"\n",
    "            mut_seqs = [(n, m) for (n, m) in zip(mut_names, mut_seqs)]\n",
    "        else:\n",
    "            mut_seqs = [(\"\", m) for m in mut_seqs]\n",
    "\n",
    "        # convert raw mutant sequences to tokens\n",
    "        batch_labels, _, batch_tokens = self.batch_converter(mut_seqs)\n",
    "        batch_tokens = batch_tokens.to(DEVICE)\n",
    "\n",
    "        # Turn off gradients and pass the batch through\n",
    "        with torch.no_grad():\n",
    "            # shape [batch_size, seq_len + pad, embed_dim]\n",
    "\n",
    "            encoded_mut_seqs = (\n",
    "                self.model(batch_tokens, repr_layers=[self._max_emb_layer])[\n",
    "                    \"representations\"\n",
    "                ][self._max_emb_layer]\n",
    "                .cpu()\n",
    "                .numpy()\n",
    "            )\n",
    "            # https://github.com/facebookresearch/esm/blob/main/esm/data.py\n",
    "            # from_architecture\n",
    "\n",
    "            # trim off initial classification token [CLS]\n",
    "            # both \"ESM-1\" and \"ESM-1b\" have prepend_bos = True\n",
    "\n",
    "            # https://github.com/facebookresearch/esm/blob/main/esm/pretrained.py\n",
    "            # for ESM2\n",
    "            # L186: in load_model_and_alphabet_core\n",
    "            # if model_name.startswith(\"esm2\"):\n",
    "            #   model, alphabet, model_state = _load_model_and_alphabet_core_v2(model_data)\n",
    "            # where\n",
    "            # L164: _load_model_and_alphabet_core_v2\n",
    "            # alphabet = esm.data.Alphabet.from_architecture(\"ESM-1b\")\n",
    "\n",
    "            if self._iftrimCLS and self._encoder_name.split(\"_\")[0] in [\n",
    "                \"esm1\",\n",
    "                \"esm1b\",\n",
    "                \"esm2\",\n",
    "            ]:\n",
    "                encoded_mut_seqs = encoded_mut_seqs[:, 1:, :]\n",
    "\n",
    "            # trim off end-of-sequence token [EOS]\n",
    "            # only \"ESM-1b\" has append_eos = True\n",
    "            if self._iftrimEOS and self._encoder_name.split(\"_\")[0] in [\n",
    "                \"esm1b\",\n",
    "                \"esm2\",\n",
    "            ]:\n",
    "                encoded_mut_seqs = encoded_mut_seqs[:, :-1, :]\n",
    "\n",
    "            if mut_names is None:\n",
    "                batch_labels = [\"\"] * len(mut_seqs)\n",
    "\n",
    "        return (\n",
    "            self.flatten_encode(\n",
    "                encoded_mut_seqs=encoded_mut_seqs,\n",
    "                flatten_emb=flatten_emb,\n",
    "                mut_seqs=mut_seqs,\n",
    "                site_locs=site_locs\n",
    "            ),\n",
    "            batch_labels,\n",
    "        )\n"
   ]
  },
  {
   "cell_type": "code",
   "execution_count": 5,
   "metadata": {},
   "outputs": [],
   "source": [
    "df = pd.read_csv(\"results/zs_comb/none/scale2max/TrpB4.csv\")"
   ]
  },
  {
   "cell_type": "code",
   "execution_count": 19,
   "metadata": {},
   "outputs": [
    {
     "name": "stdout",
     "output_type": "stream",
     "text": [
      "Generating esm2_t33_650M_UR50D upto 33 layer embedding ...\n"
     ]
    },
    {
     "name": "stderr",
     "output_type": "stream",
     "text": [
      "  0%|          | 0/125 [00:02<?, ?it/s]\n"
     ]
    }
   ],
   "source": [
    "trpb_batch_encoded_site_flat, _ = next(\n",
    "    ESMEncoder(DEFAULT_ESM).encode(\n",
    "        df[\"seq\"].values,\n",
    "        batch_size=128,\n",
    "        flatten_emb=\"flatten\",\n",
    "        site_locs=LIB_INFO_DICT[\"TrpB4\"][\"positions\"].values()\n",
    "    )\n",
    ")"
   ]
  },
  {
   "cell_type": "code",
   "execution_count": 20,
   "metadata": {},
   "outputs": [
    {
     "data": {
      "text/plain": [
       "(128, 5120)"
      ]
     },
     "execution_count": 20,
     "metadata": {},
     "output_type": "execute_result"
    }
   ],
   "source": [
    "trpb_batch_encoded_site_flat.shape"
   ]
  },
  {
   "cell_type": "code",
   "execution_count": 6,
   "metadata": {},
   "outputs": [
    {
     "name": "stdout",
     "output_type": "stream",
     "text": [
      "Generating esm2_t33_650M_UR50D upto 33 layer embedding ...\n"
     ]
    },
    {
     "name": "stderr",
     "output_type": "stream",
     "text": [
      "  0%|          | 0/125 [00:03<?, ?it/s]\n"
     ]
    }
   ],
   "source": [
    "trpb_batch_encoded, trpb_batch_label = next(\n",
    "    ESMEncoder(DEFAULT_ESM).encode(\n",
    "        df[\"seq\"].values,\n",
    "        batch_size=128,\n",
    "        flatten_emb=False,\n",
    "        site_locs=LIB_INFO_DICT[\"TrpB4\"][\"positions\"].values()\n",
    "    )\n",
    ")"
   ]
  },
  {
   "cell_type": "code",
   "execution_count": 8,
   "metadata": {},
   "outputs": [
    {
     "data": {
      "text/plain": [
       "(128, 4, 1280)"
      ]
     },
     "execution_count": 8,
     "metadata": {},
     "output_type": "execute_result"
    }
   ],
   "source": [
    "trpb_batch_encoded.shape"
   ]
  },
  {
   "cell_type": "code",
   "execution_count": 21,
   "metadata": {},
   "outputs": [
    {
     "data": {
      "text/plain": [
       "True"
      ]
     },
     "execution_count": 21,
     "metadata": {},
     "output_type": "execute_result"
    }
   ],
   "source": [
    "trpb_batch_encoded_site_flat[0,1280] == trpb_batch_encoded[0,1,0]"
   ]
  },
  {
   "cell_type": "code",
   "execution_count": 9,
   "metadata": {},
   "outputs": [
    {
     "name": "stdout",
     "output_type": "stream",
     "text": [
      "Generating esm2_t33_650M_UR50D upto 33 layer embedding ...\n"
     ]
    },
    {
     "name": "stderr",
     "output_type": "stream",
     "text": [
      "  0%|          | 0/125 [00:02<?, ?it/s]\n"
     ]
    }
   ],
   "source": [
    "trpb_batch_encoded_mean_site, _ = next(\n",
    "    ESMEncoder(DEFAULT_ESM).encode(\n",
    "        df[\"seq\"].values,\n",
    "        batch_size=128,\n",
    "        flatten_emb=\"mean\",\n",
    "        site_locs=LIB_INFO_DICT[\"TrpB4\"][\"positions\"].values()\n",
    "    )\n",
    ")"
   ]
  },
  {
   "cell_type": "code",
   "execution_count": 10,
   "metadata": {},
   "outputs": [
    {
     "data": {
      "text/plain": [
       "array([[ 0.06690112, -0.00735967,  0.05250352, ..., -0.00962367,\n",
       "         0.02211293,  0.21614645],\n",
       "       [ 0.07725785, -0.04191585,  0.07053181, ..., -0.02846996,\n",
       "         0.00914089,  0.23718089],\n",
       "       [ 0.07898817, -0.02720864,  0.06164902, ...,  0.00649625,\n",
       "         0.02737933,  0.26365577],\n",
       "       ...,\n",
       "       [ 0.07208584, -0.06696558,  0.06602811, ..., -0.03974852,\n",
       "         0.0478431 ,  0.15584625],\n",
       "       [ 0.08143091, -0.08569822,  0.02405454, ..., -0.06069066,\n",
       "         0.02976506,  0.14763021],\n",
       "       [ 0.07003118, -0.06236179,  0.02882496, ..., -0.03804433,\n",
       "         0.03790435,  0.1555904 ]])"
      ]
     },
     "execution_count": 10,
     "metadata": {},
     "output_type": "execute_result"
    }
   ],
   "source": [
    "trpb_batch_encoded_mean_site"
   ]
  },
  {
   "cell_type": "code",
   "execution_count": 11,
   "metadata": {},
   "outputs": [
    {
     "data": {
      "text/plain": [
       "(128, 1280)"
      ]
     },
     "execution_count": 11,
     "metadata": {},
     "output_type": "execute_result"
    }
   ],
   "source": [
    "trpb_batch_encoded_mean_site.shape"
   ]
  },
  {
   "cell_type": "code",
   "execution_count": 12,
   "metadata": {},
   "outputs": [
    {
     "name": "stdout",
     "output_type": "stream",
     "text": [
      "Generating esm2_t33_650M_UR50D upto 33 layer embedding ...\n"
     ]
    },
    {
     "name": "stderr",
     "output_type": "stream",
     "text": [
      "  0%|          | 0/125 [00:02<?, ?it/s]\n"
     ]
    }
   ],
   "source": [
    "trpb_batch_encoded_mean_all, _ = next(\n",
    "    ESMEncoder(DEFAULT_ESM).encode(\n",
    "        df[\"seq\"].values,\n",
    "        batch_size=128,\n",
    "        flatten_emb=\"mean\",\n",
    "        site_locs=None\n",
    "    )\n",
    ")"
   ]
  },
  {
   "cell_type": "code",
   "execution_count": 13,
   "metadata": {},
   "outputs": [
    {
     "data": {
      "text/plain": [
       "array([[ 0.06001249, -0.04075325, -0.00987006, ..., -0.15907304,\n",
       "        -0.0171439 ,  0.04690428],\n",
       "       [ 0.06123471, -0.04132882, -0.00832703, ..., -0.16045386,\n",
       "        -0.0166444 ,  0.04667898],\n",
       "       [ 0.0623477 , -0.04186155, -0.00955753, ..., -0.1564192 ,\n",
       "        -0.01928762,  0.04758472],\n",
       "       ...,\n",
       "       [ 0.06243843, -0.04354057, -0.00922885, ..., -0.16069499,\n",
       "        -0.01821217,  0.04751799],\n",
       "       [ 0.06512652, -0.04208471, -0.00973924, ..., -0.16079687,\n",
       "        -0.01801949,  0.04707843],\n",
       "       [ 0.06597948, -0.04078652, -0.00942044, ..., -0.16006324,\n",
       "        -0.0173522 ,  0.04582571]])"
      ]
     },
     "execution_count": 13,
     "metadata": {},
     "output_type": "execute_result"
    }
   ],
   "source": [
    "trpb_batch_encoded_mean_all"
   ]
  },
  {
   "cell_type": "code",
   "execution_count": 23,
   "metadata": {},
   "outputs": [],
   "source": [
    "from SSMuLA.util import checkNgen_folder"
   ]
  },
  {
   "cell_type": "code",
   "execution_count": null,
   "metadata": {},
   "outputs": [],
   "source": [
    "\"\"\"import os\n",
    "import math\n",
    "import tables\n",
    "import random\n",
    "from copy import deepcopy\n",
    "from glob import glob\n",
    "import numpy as np\n",
    "import pandas as pd\n",
    "\n",
    "from Bio import SeqIO\n",
    "\n",
    "import torch\n",
    "from torch.utils.data import Dataset, random_split\n",
    "\n",
    "from src.encode.encoder import ESMEncoder, CARPEncoder, OnehotEncoder\n",
    "from src.util import get_file_name, checkNgen_folder, pickle_save\n",
    "from src.param.aa import START_AA_IND, MUT_REGEX\n",
    "from src.param.emb import (\n",
    "    ESM_GEN_BATCH_DICT,\n",
    "    CARP_GEN_BATCH_DICT,\n",
    "    TRANSFORMER_INFO,\n",
    "    CARP_INFO,\n",
    "    DEFAULT_ESM_LIST,\n",
    "    DEFAULT_CARP_LIST,\n",
    ")\n",
    "from src.param.comp import DEVICE, RAND_SEED, DEFAULT_RUN_SPLITS\n",
    "from src.param.landscape import DEFALT_SPLITS\n",
    "\"\"\""
   ]
  },
  {
   "cell_type": "code",
   "execution_count": 26,
   "metadata": {},
   "outputs": [],
   "source": [
    "import os\n",
    "import tables\n",
    "from SSMuLA.landscape_global import LIB_INFO_DICT, LibData\n",
    "from SSMuLA.util import pickle_save, pickle_load"
   ]
  },
  {
   "cell_type": "code",
   "execution_count": 50,
   "metadata": {},
   "outputs": [],
   "source": [
    "class GenLearnedEmb(LibData):\n",
    "    \"\"\"A class to generate and save learned embeddings for a given dataset\"\"\"\n",
    "\n",
    "    def __init__(\n",
    "        self,\n",
    "        input_csv: str,\n",
    "        scale_fit: str,\n",
    "        encoder_name: str,\n",
    "        flatten_emb: bool | str,\n",
    "        ifsite: bool,\n",
    "        batch_size: int = 128,\n",
    "        iftrimCLS: bool = True,\n",
    "        iftrimEOS: bool = True,\n",
    "        regen: bool = False,\n",
    "        emb_folder: str = \"learned_emb\",\n",
    "    ):\n",
    "        \"\"\"\n",
    "        Args:\n",
    "        - input_csv: str, the path to the input csv file\n",
    "        - scale_fit: str, the scale fit to be used\n",
    "        - encoder_name: str, the name of the encoder, one\n",
    "            of the keys of TRANSFORMER_INFO or CARP_INFO\n",
    "        - batch_size: int, set to 0 to encode all in a single batch\n",
    "        - flatten_emb: bool or str, if and how (one of [\"max\", \"mean\"]) to flatten the embedding\n",
    "        - ifsite: if inlucde list of int, 0-indexed site locations to be used for the embedding\n",
    "            ie LIB_INFO_DICT[\"GB1\"][\"positions\"].values() would be dict_values([39, 40, 41, 54])\n",
    "        - iftrimCLS: bool, whether to trim the first classifification token\n",
    "        - iftrimEOS: bool, whether to trim the end of sequence token, if exists\n",
    "        - ifsave: bool, whether to save the learned embeddings\n",
    "        - emb_folder: str, the folder to save the learned embeddings\n",
    "        \"\"\"\n",
    "\n",
    "        super().__init__(input_csv, scale_fit)\n",
    "\n",
    "        assert (\n",
    "            \"seq\" in self.input_df.columns\n",
    "        ), \"make sure full seq is included in input_csv\"\n",
    "\n",
    "        self._encoder_name = encoder_name\n",
    "        self._batch_size = batch_size\n",
    "        self._flatten_emb = flatten_emb\n",
    "        self._ifsite = ifsite\n",
    "        self._iftrimCLS = iftrimCLS\n",
    "        self._iftrimEOS = iftrimEOS\n",
    "        self._regen = regen\n",
    "        self._emb_folder = checkNgen_folder(emb_folder)\n",
    "\n",
    "        # Close all the open files\n",
    "        tables.file._open_files.close_all()\n",
    "\n",
    "        if self._regen and os.path.exists(self.emb_path):\n",
    "            print(f\"Removing {self.emb_path} ...\")\n",
    "            os.remove(self.emb_path)\n",
    "        \n",
    "        if not(os.path.exists(self.emb_path)):\n",
    "            print(f\"Generating learned embeddings {self.emb_path} ...\")\n",
    "            self._gen_learned_emb()\n",
    "\n",
    "        # load directly if exists\n",
    "        # TODO assert for emb attrb, size check\n",
    "        if os.path.exists(self.emb_path):\n",
    "            self._emb_table = tables.open_file(self.emb_path)\n",
    "            self._emb_table.flush()\n",
    "\n",
    "    def _gen_learned_emb(self):\n",
    "        \"\"\"Generate the learned embeddings\"\"\"\n",
    "\n",
    "        # Close all the open files\n",
    "        tables.file._open_files.close_all()\n",
    "\n",
    "        emb_table = tables.open_file(self.emb_path, mode=\"w\")\n",
    "\n",
    "        # get the dim of the array to be saved\n",
    "\n",
    "        if self._ifsite:\n",
    "            seq_dim = len(self.site_locs)\n",
    "        else:\n",
    "            seq_dim = len(self.parent_seq)\n",
    "\n",
    "        # without flattening\n",
    "        if self._flatten_emb == False:\n",
    "            earray_dim = (\n",
    "                0,\n",
    "                seq_dim,\n",
    "                self.encoder_info[self._encoder_name][0],\n",
    "            )\n",
    "        elif self._flatten_emb == \"mean\" or self._flatten_emb == \"max\":\n",
    "            earray_dim = (0, self.encoder_info[self._encoder_name][0])\n",
    "        elif self._flatten_emb in [True, \"flatten\", \"flattened\", \"\"]:\n",
    "            earray_dim = (0, seq_dim * self.encoder.embed_dim)\n",
    "\n",
    "        _ = emb_table.create_earray(\n",
    "            emb_table.root,\n",
    "            \"emb\",\n",
    "            tables.Float32Atom(),\n",
    "            earray_dim,\n",
    "        )\n",
    "\n",
    "        _ = emb_table.create_earray(\n",
    "            emb_table.root,\n",
    "            \"AAs\",\n",
    "            tables.StringAtom(itemsize=25),\n",
    "            (0,),\n",
    "        )\n",
    "\n",
    "        encoder_generator = self.encoder.encode(\n",
    "            mut_seqs=self.input_df[\"seq\"].tolist(),\n",
    "            batch_size=self._batch_size,\n",
    "            flatten_emb=self._flatten_emb,\n",
    "            site_locs=self.site_locs,\n",
    "            mut_names=self.input_df[\"AAs\"].tolist(),\n",
    "        )\n",
    "\n",
    "        # run ESM model in batches\n",
    "        for m in encoder_generator:\n",
    "            emb_table.root.emb.append(m[0])\n",
    "            emb_table.root.AAs.append(m[1])\n",
    "\n",
    "        emb_table.close()\n",
    "\n",
    "    @property\n",
    "    def encoder_class(self) -> AbstractEncoder:\n",
    "        \"\"\"Return the encoder class\"\"\"\n",
    "        if self._encoder_name in TRANSFORMER_INFO:\n",
    "            return ESMEncoder\n",
    "        else:\n",
    "            raise ValueError(f\"Encoder {self._encoder_name} not implemented\")\n",
    "        \n",
    "    @property\n",
    "    def encoder_info(self) -> dict:\n",
    "        if self._encoder_name in TRANSFORMER_INFO:\n",
    "            return TRANSFORMER_INFO\n",
    "        else:\n",
    "            raise ValueError(f\"Encoder {self._encoder_name} not implemented\")\n",
    "\n",
    "    @property\n",
    "    def encoder(self):\n",
    "        \"\"\"Return the encoder instance\"\"\"\n",
    "        return self.encoder_class(encoder_name=self._encoder_name)\n",
    "\n",
    "    @property\n",
    "    def emb_table(self) -> tables.File:\n",
    "        \"\"\"Return the emb_table\"\"\"\n",
    "        return self._emb_table\n",
    "\n",
    "    @property\n",
    "    def parent_seq(self) -> str:\n",
    "        \"\"\"Return the parent sequence\"\"\"\n",
    "        return self.input_df[self.input_df[\"muts\"] == \"WT\"][\"seq\"].values[0]\n",
    "\n",
    "    @property\n",
    "    def flatten_emb_str(self) -> str:\n",
    "        \"\"\"Return the flatten_emb as a string\"\"\"\n",
    "        if isinstance(self._flatten_emb, bool) and self._flatten_emb == False:\n",
    "            return \"noflatten\"\n",
    "        elif isinstance(self._flatten_emb, bool) and self._flatten_emb == True:\n",
    "            return \"flatten\"\n",
    "        else:\n",
    "            return self._flatten_emb\n",
    "\n",
    "    @property\n",
    "    def site_locs(self) -> list[int] | None:\n",
    "        \"\"\"Return the site_locs as a list\"\"\"\n",
    "        if self._ifsite:\n",
    "            return list(LIB_INFO_DICT[self.lib_name][\"positions\"].values())\n",
    "        else:\n",
    "            return None\n",
    "\n",
    "    @property\n",
    "    def site_loc_str(self) -> str:\n",
    "        \"\"\"Return the site_locs as a string\"\"\"\n",
    "        if self.site_locs is None:\n",
    "            return \"all\"\n",
    "        else:\n",
    "            return \"_\".join([str(i) for i in self.site_locs])\n",
    "\n",
    "    @property\n",
    "    def save_path(self) -> str:\n",
    "        \"\"\"Return the save path for the learned embeddings without file extension\"\"\"\n",
    "        return os.path.join(\n",
    "            self._emb_folder,\n",
    "            \"{}-{}-{}-{}\".format(\n",
    "                self.lib_name,\n",
    "                self._encoder_name,\n",
    "                self.flatten_emb_str,\n",
    "                self.site_loc_str,\n",
    "            ),\n",
    "        )\n",
    "\n",
    "    @property\n",
    "    def emb_path(self) -> str:\n",
    "        \"\"\"Return the save path for the learned embeddings\"\"\"\n",
    "        return self.save_path + \".h5\""
   ]
  },
  {
   "cell_type": "code",
   "execution_count": 51,
   "metadata": {},
   "outputs": [
    {
     "name": "stderr",
     "output_type": "stream",
     "text": [
      "/disk2/fli/miniconda3/envs/SSMuLA/lib/python3.10/site-packages/tables/file.py:113: UnclosedFileWarning: Closing remaining open file: learned_emb/TrpB4-esm2_t33_650M_UR50D-flatten-183_184_227_228.h5\n",
      "  warnings.warn(UnclosedFileWarning(msg))\n"
     ]
    },
    {
     "name": "stdout",
     "output_type": "stream",
     "text": [
      "Removing learned_emb/TrpB4-esm2_t33_650M_UR50D-flatten-183_184_227_228.h5 ...\n",
      "Generating learned embeddings learned_emb/TrpB4-esm2_t33_650M_UR50D-flatten-183_184_227_228.h5 ...\n",
      "Generating esm2_t33_650M_UR50D upto 33 layer embedding ...\n",
      "Generating esm2_t33_650M_UR50D upto 33 layer embedding ...\n"
     ]
    },
    {
     "name": "stderr",
     "output_type": "stream",
     "text": [
      "100%|██████████| 125/125 [05:56<00:00,  2.86s/it]\n"
     ]
    }
   ],
   "source": [
    "gen_emb_class = GenLearnedEmb(\n",
    "        input_csv=\"results/zs_comb/none/scale2max/TrpB4.csv\",\n",
    "        scale_fit=\"max\",\n",
    "        encoder_name=DEFAULT_ESM,\n",
    "        flatten_emb=\"flatten\",\n",
    "        ifsite=True,\n",
    "        batch_size = 128,\n",
    "        # iftrimCLS: bool = True,\n",
    "        # iftrimEOS: bool = True,\n",
    "        regen=True,\n",
    "        emb_folder = \"learned_emb\")"
   ]
  },
  {
   "cell_type": "code",
   "execution_count": 55,
   "metadata": {},
   "outputs": [
    {
     "data": {
      "text/plain": [
       "(4, 5120)"
      ]
     },
     "execution_count": 55,
     "metadata": {},
     "output_type": "execute_result"
    }
   ],
   "source": [
    "# test load get a batch of data\n",
    "gen_emb_class.emb_table.root.emb[0:4].shape"
   ]
  },
  {
   "cell_type": "code",
   "execution_count": 57,
   "metadata": {},
   "outputs": [
    {
     "data": {
      "text/plain": [
       "array([b'TAAA', b'TAAC', b'TAAD', b'TAAE'], dtype='|S25')"
      ]
     },
     "execution_count": 57,
     "metadata": {},
     "output_type": "execute_result"
    }
   ],
   "source": [
    "gen_emb_class.emb_table.root.AAs[0:4]"
   ]
  },
  {
   "cell_type": "code",
   "execution_count": 59,
   "metadata": {},
   "outputs": [
    {
     "data": {
      "text/plain": [
       "['TAAA', 'TAAC', 'TAAD', 'TAAE']"
      ]
     },
     "execution_count": 59,
     "metadata": {},
     "output_type": "execute_result"
    }
   ],
   "source": [
    "# Decode byte strings in batch\n",
    "[byte_string.decode('utf-8') for byte_string in gen_emb_class.emb_table.root.AAs[0:4]]"
   ]
  },
  {
   "cell_type": "code",
   "execution_count": 63,
   "metadata": {},
   "outputs": [
    {
     "data": {
      "text/plain": [
       "15935"
      ]
     },
     "execution_count": 63,
     "metadata": {},
     "output_type": "execute_result"
    }
   ],
   "source": [
    "len(gen_emb_class.emb_table.root.AAs[:])"
   ]
  },
  {
   "cell_type": "code",
   "execution_count": 64,
   "metadata": {},
   "outputs": [
    {
     "data": {
      "text/plain": [
       "15935"
      ]
     },
     "execution_count": 64,
     "metadata": {},
     "output_type": "execute_result"
    }
   ],
   "source": [
    "len(pd.read_csv(\"results/zs_comb/none/scale2max/TrpB4.csv\"))"
   ]
  },
  {
   "cell_type": "code",
   "execution_count": 65,
   "metadata": {},
   "outputs": [
    {
     "data": {
      "text/plain": [
       "193170"
      ]
     },
     "execution_count": 65,
     "metadata": {},
     "output_type": "execute_result"
    }
   ],
   "source": [
    "len(pd.read_csv(\"/disk2/fli/SSMuLA/data/TrpB/scale2max/TrpB4.csv\"))"
   ]
  },
  {
   "cell_type": "code",
   "execution_count": 66,
   "metadata": {},
   "outputs": [
    {
     "data": {
      "text/plain": [
       "159129"
      ]
     },
     "execution_count": 66,
     "metadata": {},
     "output_type": "execute_result"
    }
   ],
   "source": [
    "trp_df = pd.read_csv(\"/disk2/fli/SSMuLA/data/TrpB/scale2max/TrpB4.csv\")\n",
    "len(trp_df[~trp_df[\"AAs\"].str.contains(\"\\*\")])"
   ]
  },
  {
   "cell_type": "code",
   "execution_count": 67,
   "metadata": {},
   "outputs": [
    {
     "data": {
      "text/plain": [
       "16001"
      ]
     },
     "execution_count": 67,
     "metadata": {},
     "output_type": "execute_result"
    }
   ],
   "source": [
    "len(pd.read_csv(\"/disk2/fli/SSMuLA/triad/TrpB4/TrpB4.csv\"))"
   ]
  },
  {
   "cell_type": "code",
   "execution_count": 68,
   "metadata": {},
   "outputs": [
    {
     "data": {
      "text/plain": [
       "160000"
      ]
     },
     "execution_count": 68,
     "metadata": {},
     "output_type": "execute_result"
    }
   ],
   "source": [
    "20**4"
   ]
  },
  {
   "cell_type": "code",
   "execution_count": 69,
   "metadata": {},
   "outputs": [
    {
     "data": {
      "text/plain": [
       "159129"
      ]
     },
     "execution_count": 69,
     "metadata": {},
     "output_type": "execute_result"
    }
   ],
   "source": [
    "len(pd.read_csv(\"/disk2/fli/SSMuLA/ev_esm/TrpB4/TrpB4.csv\"))"
   ]
  },
  {
   "cell_type": "code",
   "execution_count": 60,
   "metadata": {},
   "outputs": [
    {
     "name": "stdout",
     "output_type": "stream",
     "text": [
      "AA 'b'AIKG'' not found in the dataset.\n",
      "AA 'b'AAAA'' not found in the dataset.\n",
      "Execution time: 0.00 seconds\n",
      "AIKG not found in the list of AAs.\n",
      "AAAA not found in the list of AAs.\n",
      "Execution time: 0.01 seconds\n"
     ]
    }
   ],
   "source": [
    "import time\n",
    "import numpy as np\n",
    "\n",
    "def get_embeddings_by_AA1(emb_path, target_AAs):\n",
    "    embeddings = []\n",
    "\n",
    "    emb_table = tables.open_file(emb_path)\n",
    "    emb_table.flush()\n",
    "\n",
    "    # Convert the list of AAs to strings\n",
    "    bAAs = [aa.encode('utf-8') for aa in target_AAs]\n",
    "    \n",
    "    # Get the AAs dataset\n",
    "    AAs_dataset = emb_table.root.AAs[:]\n",
    "    \n",
    "    # Iterate over each AA and find its index\n",
    "    for aa in bAAs:\n",
    "        try:\n",
    "            idx = np.where(AAs_dataset == aa)[0][0]  # Get the first occurrence\n",
    "            # Use the index to extract the corresponding embeddings\n",
    "            embedding = emb_table.root.emb[idx]\n",
    "            embeddings.append(embedding)\n",
    "        except IndexError:\n",
    "            print(f\"AA '{aa}' not found in the dataset.\")\n",
    "            embeddings.append(None)  # Append None if AA is not found\n",
    "    \n",
    "    return embeddings\n",
    "\n",
    "import tables\n",
    "\n",
    "def get_embeddings_by_AA2(emb_path, target_AAs):\n",
    "    emb_table = tables.open_file(emb_path)\n",
    "    emb_table.flush()\n",
    "\n",
    "    AAs = emb_table.root.AAs[:]\n",
    "    \n",
    "    # Initialize list to store indices and corresponding embeddings\n",
    "    indices_embeddings = []\n",
    "    \n",
    "    # Find indices of target AAs and corresponding embeddings\n",
    "    for target_AA in target_AAs:\n",
    "        indices = [i for i, AA in enumerate(AAs) if AA.decode('utf-8') == target_AA]\n",
    "        if indices:\n",
    "            for idx in indices:\n",
    "                indices_embeddings.append(emb_table.root.emb[idx])\n",
    "        else:\n",
    "            print(f\"{target_AA} not found in the list of AAs.\")\n",
    "    \n",
    "    return indices_embeddings\n",
    "\n",
    "\n",
    "# Example usage\n",
    "AAs_to_find = ['AIKG', 'VFVS', 'AAAA']\n",
    "start_time = time.time()\n",
    "embeddings1 = get_embeddings_by_AA1(\"learned_emb/TrpB4-esm2_t33_650M_UR50D-flatten-183_184_227_228.h5\", AAs_to_find)\n",
    "# Calculate execution time\n",
    "end_time = time.time()\n",
    "execution_time = end_time - start_time\n",
    "print(f\"Execution time: {execution_time:.2f} seconds\")\n",
    "\n",
    "start_time = time.time()\n",
    "embeddings2 = get_embeddings_by_AA2(\"learned_emb/TrpB4-esm2_t33_650M_UR50D-flatten-183_184_227_228.h5\", AAs_to_find)\n",
    "# Calculate execution time\n",
    "end_time = time.time()\n",
    "execution_time = end_time - start_time\n",
    "print(f\"Execution time: {execution_time:.2f} seconds\")\n",
    "\n"
   ]
  },
  {
   "cell_type": "code",
   "execution_count": 15,
   "metadata": {},
   "outputs": [],
   "source": [
    "import matplotlib.pyplot as plt"
   ]
  },
  {
   "cell_type": "code",
   "execution_count": 18,
   "metadata": {},
   "outputs": [
    {
     "data": {
      "image/png": "[encoded data removed]",
      "text/plain": [
       "<Figure size 640x480 with 1 Axes>"
      ]
     },
     "metadata": {},
     "output_type": "display_data"
    }
   ],
   "source": [
    "plt.plot(trpb_batch_encoded_mean_all - trpb_batch_encoded_mean_site);"
   ]
  },
  {
   "cell_type": "code",
   "execution_count": 14,
   "metadata": {},
   "outputs": [
    {
     "data": {
      "text/plain": [
       "(128, 1280)"
      ]
     },
     "execution_count": 14,
     "metadata": {},
     "output_type": "execute_result"
    }
   ],
   "source": [
    "trpb_batch_encoded_mean_all.shape"
   ]
  },
  {
   "cell_type": "code",
   "execution_count": 7,
   "metadata": {},
   "outputs": [
    {
     "name": "stdout",
     "output_type": "stream",
     "text": [
      "PyTorch version: 2.1.2+cu121\n",
      "CUDA available: True\n",
      "CUDA version: 12.1\n"
     ]
    }
   ],
   "source": [
    "import torch\n",
    "\n",
    "# Check PyTorch version\n",
    "print(\"PyTorch version:\", torch.__version__)\n",
    "\n",
    "# Check CUDA availability\n",
    "cuda_available = torch.cuda.is_available()\n",
    "print(\"CUDA available:\", cuda_available)\n",
    "\n",
    "# If CUDA is available, print CUDA version\n",
    "if cuda_available:\n",
    "    cuda_version = torch.version.cuda\n",
    "    print(\"CUDA version:\", cuda_version)\n"
   ]
  },
  {
   "cell_type": "code",
   "execution_count": 70,
   "metadata": {},
   "outputs": [],
   "source": []
  },
  {
   "cell_type": "code",
   "execution_count": null,
   "metadata": {},
   "outputs": [],
   "source": []
  }
 ],
 "metadata": {
  "kernelspec": {
   "display_name": "MLDE_lite",
   "language": "python",
   "name": "python3"
  },
  "language_info": {
   "codemirror_mode": {
    "name": "ipython",
    "version": 3
   },
   "file_extension": ".py",
   "mimetype": "text/x-python",
   "name": "python",
   "nbconvert_exporter": "python",
   "pygments_lexer": "ipython3",
   "version": "3.10.13"
  }
 },
 "nbformat": 4,
 "nbformat_minor": 2
}
