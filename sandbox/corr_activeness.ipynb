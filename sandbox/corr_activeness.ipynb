{
 "cells": [
  {
   "cell_type": "code",
   "execution_count": 1,
   "metadata": {},
   "outputs": [
    {
     "name": "stdout",
     "output_type": "stream",
     "text": [
      "/disk2/fli/SSMuLA\n"
     ]
    }
   ],
   "source": [
    "%cd ~/SSMuLA"
   ]
  },
  {
   "cell_type": "code",
   "execution_count": 2,
   "metadata": {},
   "outputs": [],
   "source": [
    "%load_ext autoreload\n",
    "%autoreload 2\n",
    "%load_ext blackcellmagic"
   ]
  },
  {
   "cell_type": "code",
   "execution_count": 11,
   "metadata": {},
   "outputs": [],
   "source": [
    "import numpy as np\n",
    "import pandas as pd\n",
    "import matplotlib.pyplot as plt\n",
    "import seaborn as sns\n",
    "# do t-test\n",
    "from scipy.stats import ttest_ind\n",
    "\n",
    "from SSMuLA.fitness_process_vis import parse_lib_stat\n",
    "from SSMuLA.de_simulations import DE_COLORS, DE_TYPES, DE_LEGEND_MAP\n",
    "from SSMuLA.landscape_global import LIB_INFO_DICT\n",
    "from SSMuLA.vis import PRESENTATION_PALETTE_SATURATE, LIB_COLORS\n",
    "from SSMuLA.alde_analysis import avg_alde_df\n",
    "from SSMuLA.zs_analysis import (\n",
    "    ZS_OPTS,\n",
    "    ZS_COMB_OPTS,\n",
    "    ZS_OPTS_LEGEND,\n",
    ")\n",
    "from SSMuLA.vis_summary import (\n",
    "    ZS_OPTS_APPENDED,\n",
    "    ZS_COLOR_MAP_APPENDED\n",
    ")\n",
    "\n",
    "%matplotlib inline"
   ]
  },
  {
   "cell_type": "code",
   "execution_count": 12,
   "metadata": {},
   "outputs": [],
   "source": [
    "lib_stat_dict = {cutoff: parse_lib_stat(\n",
    "    lib_csv_path=\"results/fitness_distribution/max/all_lib_stats.csv\", n_mut_cuttoff=cutoff\n",
    ") for cutoff in [0, 1, 2]}"
   ]
  },
  {
   "cell_type": "code",
   "execution_count": 13,
   "metadata": {},
   "outputs": [
    {
     "data": {
      "text/plain": [
       "Index(['lib', 'n_mut_cuttoff', 'n_site', 'numb_measured', 'percent_measured',\n",
       "       'numb_active', 'percent_active', 'active_fit_min', 'parent_fit',\n",
       "       'parent_rank', 'mean', 'median', 'range', 'iqr', 'std_dev', 'variance',\n",
       "       'skewness', 'kurt', 'quartiles', 'loc', 'scale', 'peaks', 'peak_kde',\n",
       "       'percentiles', 'pdf_values', 'parent_rank_percent', 'Q1', 'Q2', 'Q3',\n",
       "       'numb_kde_peak'],\n",
       "      dtype='object')"
      ]
     },
     "execution_count": 13,
     "metadata": {},
     "output_type": "execute_result"
    }
   ],
   "source": [
    "lib_stat_dict[0].columns"
   ]
  },
  {
   "cell_type": "code",
   "execution_count": 15,
   "metadata": {},
   "outputs": [
    {
     "data": {
      "text/html": [
       "<div>\n",
       "<style scoped>\n",
       "    .dataframe tbody tr th:only-of-type {\n",
       "        vertical-align: middle;\n",
       "    }\n",
       "\n",
       "    .dataframe tbody tr th {\n",
       "        vertical-align: top;\n",
       "    }\n",
       "\n",
       "    .dataframe thead th {\n",
       "        text-align: right;\n",
       "    }\n",
       "</style>\n",
       "<table border=\"1\" class=\"dataframe\">\n",
       "  <thead>\n",
       "    <tr style=\"text-align: right;\">\n",
       "      <th></th>\n",
       "      <th>lib</th>\n",
       "      <th>percent_active_x</th>\n",
       "      <th>percent_active_y</th>\n",
       "    </tr>\n",
       "  </thead>\n",
       "  <tbody>\n",
       "    <tr>\n",
       "      <th>0</th>\n",
       "      <td>DHFR</td>\n",
       "      <td>68.965517</td>\n",
       "      <td>39.877301</td>\n",
       "    </tr>\n",
       "    <tr>\n",
       "      <th>1</th>\n",
       "      <td>GB1</td>\n",
       "      <td>76.623377</td>\n",
       "      <td>59.409594</td>\n",
       "    </tr>\n",
       "    <tr>\n",
       "      <th>2</th>\n",
       "      <td>ParD2</td>\n",
       "      <td>98.275862</td>\n",
       "      <td>93.121693</td>\n",
       "    </tr>\n",
       "    <tr>\n",
       "      <th>3</th>\n",
       "      <td>ParD3</td>\n",
       "      <td>100.000000</td>\n",
       "      <td>98.669033</td>\n",
       "    </tr>\n",
       "    <tr>\n",
       "      <th>4</th>\n",
       "      <td>T7</td>\n",
       "      <td>58.139535</td>\n",
       "      <td>9.572072</td>\n",
       "    </tr>\n",
       "    <tr>\n",
       "      <th>5</th>\n",
       "      <td>TEV</td>\n",
       "      <td>75.324675</td>\n",
       "      <td>39.679001</td>\n",
       "    </tr>\n",
       "    <tr>\n",
       "      <th>6</th>\n",
       "      <td>TrpB3A</td>\n",
       "      <td>15.789474</td>\n",
       "      <td>1.759015</td>\n",
       "    </tr>\n",
       "    <tr>\n",
       "      <th>7</th>\n",
       "      <td>TrpB3B</td>\n",
       "      <td>5.263158</td>\n",
       "      <td>0.350877</td>\n",
       "    </tr>\n",
       "    <tr>\n",
       "      <th>8</th>\n",
       "      <td>TrpB3C</td>\n",
       "      <td>5.172414</td>\n",
       "      <td>1.051709</td>\n",
       "    </tr>\n",
       "    <tr>\n",
       "      <th>9</th>\n",
       "      <td>TrpB3D</td>\n",
       "      <td>54.385965</td>\n",
       "      <td>21.758437</td>\n",
       "    </tr>\n",
       "    <tr>\n",
       "      <th>10</th>\n",
       "      <td>TrpB3E</td>\n",
       "      <td>29.310345</td>\n",
       "      <td>3.593339</td>\n",
       "    </tr>\n",
       "    <tr>\n",
       "      <th>11</th>\n",
       "      <td>TrpB3F</td>\n",
       "      <td>44.827586</td>\n",
       "      <td>6.098655</td>\n",
       "    </tr>\n",
       "    <tr>\n",
       "      <th>12</th>\n",
       "      <td>TrpB3G</td>\n",
       "      <td>27.586207</td>\n",
       "      <td>5.809859</td>\n",
       "    </tr>\n",
       "    <tr>\n",
       "      <th>13</th>\n",
       "      <td>TrpB3H</td>\n",
       "      <td>12.068966</td>\n",
       "      <td>1.581722</td>\n",
       "    </tr>\n",
       "    <tr>\n",
       "      <th>14</th>\n",
       "      <td>TrpB3I</td>\n",
       "      <td>77.586207</td>\n",
       "      <td>51.204282</td>\n",
       "    </tr>\n",
       "    <tr>\n",
       "      <th>15</th>\n",
       "      <td>TrpB4</td>\n",
       "      <td>58.441558</td>\n",
       "      <td>27.061971</td>\n",
       "    </tr>\n",
       "  </tbody>\n",
       "</table>\n",
       "</div>"
      ],
      "text/plain": [
       "       lib  percent_active_x  percent_active_y\n",
       "0     DHFR         68.965517         39.877301\n",
       "1      GB1         76.623377         59.409594\n",
       "2    ParD2         98.275862         93.121693\n",
       "3    ParD3        100.000000         98.669033\n",
       "4       T7         58.139535          9.572072\n",
       "5      TEV         75.324675         39.679001\n",
       "6   TrpB3A         15.789474          1.759015\n",
       "7   TrpB3B          5.263158          0.350877\n",
       "8   TrpB3C          5.172414          1.051709\n",
       "9   TrpB3D         54.385965         21.758437\n",
       "10  TrpB3E         29.310345          3.593339\n",
       "11  TrpB3F         44.827586          6.098655\n",
       "12  TrpB3G         27.586207          5.809859\n",
       "13  TrpB3H         12.068966          1.581722\n",
       "14  TrpB3I         77.586207         51.204282\n",
       "15   TrpB4         58.441558         27.061971"
      ]
     },
     "execution_count": 15,
     "metadata": {},
     "output_type": "execute_result"
    }
   ],
   "source": [
    "pd.merge(lib_stat_dict[1][[\"lib\", \"percent_active\"]], lib_stat_dict[2][[\"lib\", \"percent_active\"]], on=\"lib\", how=\"outer\")"
   ]
  },
  {
   "cell_type": "code",
   "execution_count": null,
   "metadata": {},
   "outputs": [],
   "source": []
  }
 ],
 "metadata": {
  "kernelspec": {
   "display_name": "SSMuLA",
   "language": "python",
   "name": "python3"
  },
  "language_info": {
   "codemirror_mode": {
    "name": "ipython",
    "version": 3
   },
   "file_extension": ".py",
   "mimetype": "text/x-python",
   "name": "python",
   "nbconvert_exporter": "python",
   "pygments_lexer": "ipython3",
   "version": "3.10.14"
  }
 },
 "nbformat": 4,
 "nbformat_minor": 2
}
