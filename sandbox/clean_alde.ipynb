{
 "cells": [
  {
   "cell_type": "code",
   "execution_count": 2,
   "metadata": {},
   "outputs": [
    {
     "name": "stdout",
     "output_type": "stream",
     "text": [
      "/disk2/fli/SSMuLA\n"
     ]
    }
   ],
   "source": [
    "%cd ~/SSMuLA"
   ]
  },
  {
   "cell_type": "code",
   "execution_count": 3,
   "metadata": {},
   "outputs": [],
   "source": [
    "%load_ext autoreload\n",
    "%autoreload 2\n",
    "%load_ext blackcellmagic"
   ]
  },
  {
   "cell_type": "code",
   "execution_count": 7,
   "metadata": {},
   "outputs": [],
   "source": [
    "import os\n",
    "import pandas as pd\n",
    "from glob import glob\n",
    "from tqdm import tqdm\n",
    "\n",
    "from SSMuLA.util import get_file_name, get_dir_name, checkNgen_folder"
   ]
  },
  {
   "cell_type": "code",
   "execution_count": null,
   "metadata": {},
   "outputs": [],
   "source": [
    "# for /disk2/fli/alde4ssmula/results/2eq_60/all_results_2.csv\n"
   ]
  },
  {
   "cell_type": "code",
   "execution_count": 11,
   "metadata": {},
   "outputs": [
    {
     "name": "stderr",
     "output_type": "stream",
     "text": [
      "  0%|          | 0/370 [00:00<?, ?it/s]"
     ]
    },
    {
     "name": "stderr",
     "output_type": "stream",
     "text": [
      " 16%|█▌        | 60/370 [00:13<01:10,  4.39it/s]"
     ]
    },
    {
     "name": "stdout",
     "output_type": "stream",
     "text": [
      "Making results4upload/alde/coves_2eq_1008 ...\n"
     ]
    },
    {
     "name": "stderr",
     "output_type": "stream",
     "text": [
      " 19%|█▉        | 72/370 [00:14<00:33,  8.84it/s]"
     ]
    },
    {
     "name": "stdout",
     "output_type": "stream",
     "text": [
      "Making results4upload/alde/coves_2eq_144 ...\n",
      "Making results4upload/alde/coves_2eq_192 ...\n"
     ]
    },
    {
     "name": "stderr",
     "output_type": "stream",
     "text": [
      " 20%|█▉        | 73/370 [00:14<00:34,  8.51it/s]"
     ]
    },
    {
     "name": "stdout",
     "output_type": "stream",
     "text": [
      "Making results4upload/alde/coves_2eq_240 ...\n"
     ]
    },
    {
     "name": "stderr",
     "output_type": "stream",
     "text": [
      " 20%|██        | 75/370 [00:14<00:40,  7.34it/s]"
     ]
    },
    {
     "name": "stdout",
     "output_type": "stream",
     "text": [
      "Making results4upload/alde/coves_2eq_288 ...\n",
      "Making results4upload/alde/coves_2eq_336 ...\n"
     ]
    },
    {
     "name": "stderr",
     "output_type": "stream",
     "text": [
      " 21%|██        | 76/370 [00:15<00:45,  6.41it/s]"
     ]
    },
    {
     "name": "stdout",
     "output_type": "stream",
     "text": [
      "Making results4upload/alde/coves_2eq_528 ...\n"
     ]
    },
    {
     "name": "stderr",
     "output_type": "stream",
     "text": [
      " 21%|██▏       | 79/370 [00:15<00:37,  7.77it/s]"
     ]
    },
    {
     "name": "stdout",
     "output_type": "stream",
     "text": [
      "Making results4upload/alde/coves_2eq_60 ...\n",
      "Making results4upload/alde/coves_2eq_72 ...\n",
      "Making results4upload/alde/coves_2eq_96 ...\n"
     ]
    },
    {
     "name": "stderr",
     "output_type": "stream",
     "text": [
      " 22%|██▏       | 81/370 [00:15<00:41,  7.04it/s]"
     ]
    },
    {
     "name": "stdout",
     "output_type": "stream",
     "text": [
      "Making results4upload/alde/coves_3eq_128 ...\n",
      "Making results4upload/alde/coves_3eq_160 ...\n",
      "Making results4upload/alde/coves_3eq_192 ...\n"
     ]
    },
    {
     "name": "stderr",
     "output_type": "stream",
     "text": [
      " 23%|██▎       | 84/370 [00:16<00:40,  7.14it/s]"
     ]
    },
    {
     "name": "stdout",
     "output_type": "stream",
     "text": [
      "Making results4upload/alde/coves_3eq_224 ...\n",
      "Making results4upload/alde/coves_3eq_352 ...\n"
     ]
    },
    {
     "name": "stderr",
     "output_type": "stream",
     "text": [
      " 23%|██▎       | 85/370 [00:16<00:48,  5.89it/s]"
     ]
    },
    {
     "name": "stdout",
     "output_type": "stream",
     "text": [
      "Making results4upload/alde/coves_3eq_40 ...\n",
      "Making results4upload/alde/coves_3eq_48 ...\n",
      "Making results4upload/alde/coves_3eq_64 ...\n",
      "Making results4upload/alde/coves_3eq_672 ...\n"
     ]
    },
    {
     "name": "stderr",
     "output_type": "stream",
     "text": [
      " 24%|██▍       | 89/370 [00:17<00:41,  6.81it/s]"
     ]
    },
    {
     "name": "stdout",
     "output_type": "stream",
     "text": [
      "Making results4upload/alde/coves_3eq_96 ...\n",
      "Making results4upload/alde/coves_4eq_120 ...\n"
     ]
    },
    {
     "name": "stderr",
     "output_type": "stream",
     "text": [
      " 25%|██▍       | 91/370 [00:17<00:39,  7.11it/s]"
     ]
    },
    {
     "name": "stdout",
     "output_type": "stream",
     "text": [
      "Making results4upload/alde/coves_4eq_144 ...\n"
     ]
    },
    {
     "name": "stderr",
     "output_type": "stream",
     "text": [
      " 25%|██▍       | 92/370 [00:17<00:55,  5.03it/s]"
     ]
    },
    {
     "name": "stdout",
     "output_type": "stream",
     "text": [
      "Making results4upload/alde/coves_4eq_168 ...\n"
     ]
    },
    {
     "name": "stderr",
     "output_type": "stream",
     "text": [
      " 25%|██▌       | 93/370 [00:17<00:56,  4.90it/s]"
     ]
    },
    {
     "name": "stdout",
     "output_type": "stream",
     "text": [
      "Making results4upload/alde/coves_4eq_264 ...\n"
     ]
    },
    {
     "name": "stderr",
     "output_type": "stream",
     "text": [
      " 26%|██▌       | 97/370 [00:18<00:38,  7.02it/s]"
     ]
    },
    {
     "name": "stdout",
     "output_type": "stream",
     "text": [
      "Making results4upload/alde/coves_4eq_30 ...\n",
      "Making results4upload/alde/coves_4eq_36 ...\n",
      "Making results4upload/alde/coves_4eq_48 ...\n",
      "Making results4upload/alde/coves_4eq_504 ...\n"
     ]
    },
    {
     "name": "stderr",
     "output_type": "stream",
     "text": [
      " 26%|██▋       | 98/370 [00:19<01:12,  3.74it/s]"
     ]
    },
    {
     "name": "stdout",
     "output_type": "stream",
     "text": [
      "Making results4upload/alde/coves_4eq_72 ...\n"
     ]
    },
    {
     "name": "stderr",
     "output_type": "stream",
     "text": [
      " 27%|██▋       | 99/370 [00:19<01:10,  3.84it/s]"
     ]
    },
    {
     "name": "stdout",
     "output_type": "stream",
     "text": [
      "Making results4upload/alde/coves_4eq_96 ...\n",
      "Making results4upload/alde/ds-Triad_2eq_1008 ...\n"
     ]
    },
    {
     "name": "stderr",
     "output_type": "stream",
     "text": [
      " 27%|██▋       | 101/370 [00:19<00:57,  4.68it/s]"
     ]
    },
    {
     "name": "stdout",
     "output_type": "stream",
     "text": [
      "Making results4upload/alde/ds-Triad_2eq_144 ...\n",
      "Making results4upload/alde/ds-Triad_2eq_192 ...\n"
     ]
    },
    {
     "name": "stderr",
     "output_type": "stream",
     "text": [
      " 28%|██▊       | 105/370 [00:20<00:37,  7.14it/s]"
     ]
    },
    {
     "name": "stdout",
     "output_type": "stream",
     "text": [
      "Making results4upload/alde/ds-Triad_2eq_240 ...\n",
      "Making results4upload/alde/ds-Triad_2eq_288 ...\n",
      "Making results4upload/alde/ds-Triad_2eq_336 ...\n",
      "Making results4upload/alde/ds-Triad_2eq_528 ...\n"
     ]
    },
    {
     "name": "stderr",
     "output_type": "stream",
     "text": [
      " 29%|██▉       | 107/370 [00:20<00:37,  6.94it/s]"
     ]
    },
    {
     "name": "stdout",
     "output_type": "stream",
     "text": [
      "Making results4upload/alde/ds-Triad_2eq_60 ...\n",
      "Making results4upload/alde/ds-Triad_2eq_72 ...\n",
      "Making results4upload/alde/ds-Triad_2eq_96 ...\n",
      "Making results4upload/alde/ds-Triad_3eq_128 ...\n"
     ]
    },
    {
     "name": "stderr",
     "output_type": "stream",
     "text": [
      " 31%|███       | 113/370 [00:20<00:25, 10.10it/s]"
     ]
    },
    {
     "name": "stdout",
     "output_type": "stream",
     "text": [
      "Making results4upload/alde/ds-Triad_3eq_160 ...\n",
      "Making results4upload/alde/ds-Triad_3eq_192 ...\n",
      "Making results4upload/alde/ds-Triad_3eq_224 ...\n",
      "Making results4upload/alde/ds-Triad_3eq_352 ...\n"
     ]
    },
    {
     "name": "stderr",
     "output_type": "stream",
     "text": [
      " 31%|███       | 115/370 [00:21<00:30,  8.25it/s]"
     ]
    },
    {
     "name": "stdout",
     "output_type": "stream",
     "text": [
      "Making results4upload/alde/ds-Triad_3eq_40 ...\n",
      "Making results4upload/alde/ds-Triad_3eq_48 ...\n",
      "Making results4upload/alde/ds-Triad_3eq_64 ...\n",
      "Making results4upload/alde/ds-Triad_3eq_672 ...\n"
     ]
    },
    {
     "name": "stderr",
     "output_type": "stream",
     "text": [
      " 32%|███▏      | 119/370 [00:21<00:26,  9.44it/s]"
     ]
    },
    {
     "name": "stdout",
     "output_type": "stream",
     "text": [
      "Making results4upload/alde/ds-Triad_3eq_96 ...\n"
     ]
    },
    {
     "name": "stderr",
     "output_type": "stream",
     "text": [
      " 33%|███▎      | 121/370 [00:21<00:31,  7.87it/s]"
     ]
    },
    {
     "name": "stdout",
     "output_type": "stream",
     "text": [
      "Making results4upload/alde/ds-Triad_4eq_120 ...\n",
      "Making results4upload/alde/ds-Triad_4eq_144 ...\n"
     ]
    },
    {
     "name": "stderr",
     "output_type": "stream",
     "text": [
      " 33%|███▎      | 123/370 [00:22<00:34,  7.15it/s]"
     ]
    },
    {
     "name": "stdout",
     "output_type": "stream",
     "text": [
      "Making results4upload/alde/ds-Triad_4eq_168 ...\n",
      "Making results4upload/alde/ds-Triad_4eq_264 ...\n"
     ]
    },
    {
     "name": "stderr",
     "output_type": "stream",
     "text": [
      " 34%|███▍      | 126/370 [00:22<00:31,  7.87it/s]"
     ]
    },
    {
     "name": "stdout",
     "output_type": "stream",
     "text": [
      "Making results4upload/alde/ds-Triad_4eq_30 ...\n",
      "Making results4upload/alde/ds-Triad_4eq_36 ...\n",
      "Making results4upload/alde/ds-Triad_4eq_48 ...\n",
      "Making results4upload/alde/ds-Triad_4eq_504 ...\n"
     ]
    },
    {
     "name": "stderr",
     "output_type": "stream",
     "text": [
      " 35%|███▌      | 130/370 [00:23<00:29,  8.20it/s]"
     ]
    },
    {
     "name": "stdout",
     "output_type": "stream",
     "text": [
      "Making results4upload/alde/ds-Triad_4eq_72 ...\n",
      "Making results4upload/alde/ds-Triad_4eq_96 ...\n",
      "Making results4upload/alde/ds-coves_2eq_1008 ...\n"
     ]
    },
    {
     "name": "stderr",
     "output_type": "stream",
     "text": [
      " 36%|███▌      | 132/370 [00:23<00:27,  8.51it/s]"
     ]
    },
    {
     "name": "stdout",
     "output_type": "stream",
     "text": [
      "Making results4upload/alde/ds-coves_2eq_144 ...\n",
      "Making results4upload/alde/ds-coves_2eq_192 ...\n"
     ]
    },
    {
     "name": "stderr",
     "output_type": "stream",
     "text": [
      " 36%|███▌      | 134/370 [00:23<00:30,  7.64it/s]"
     ]
    },
    {
     "name": "stdout",
     "output_type": "stream",
     "text": [
      "Making results4upload/alde/ds-coves_2eq_240 ...\n",
      "Making results4upload/alde/ds-coves_2eq_288 ...\n"
     ]
    },
    {
     "name": "stderr",
     "output_type": "stream",
     "text": [
      " 37%|███▋      | 136/370 [00:23<00:31,  7.46it/s]"
     ]
    },
    {
     "name": "stdout",
     "output_type": "stream",
     "text": [
      "Making results4upload/alde/ds-coves_2eq_336 ...\n",
      "Making results4upload/alde/ds-coves_2eq_528 ...\n"
     ]
    },
    {
     "name": "stderr",
     "output_type": "stream",
     "text": [
      " 37%|███▋      | 137/370 [00:24<00:30,  7.65it/s]"
     ]
    },
    {
     "name": "stdout",
     "output_type": "stream",
     "text": [
      "Making results4upload/alde/ds-coves_2eq_60 ...\n",
      "Making results4upload/alde/ds-coves_2eq_72 ...\n",
      "Making results4upload/alde/ds-coves_2eq_96 ...\n",
      "Making results4upload/alde/ds-coves_3eq_128 ...\n"
     ]
    },
    {
     "name": "stderr",
     "output_type": "stream",
     "text": [
      " 39%|███▊      | 143/370 [00:24<00:20, 10.97it/s]"
     ]
    },
    {
     "name": "stdout",
     "output_type": "stream",
     "text": [
      "Making results4upload/alde/ds-coves_3eq_160 ...\n",
      "Making results4upload/alde/ds-coves_3eq_192 ...\n",
      "Making results4upload/alde/ds-coves_3eq_224 ...\n"
     ]
    },
    {
     "name": "stderr",
     "output_type": "stream",
     "text": [
      " 39%|███▉      | 145/370 [00:24<00:22, 10.07it/s]"
     ]
    },
    {
     "name": "stdout",
     "output_type": "stream",
     "text": [
      "Making results4upload/alde/ds-coves_3eq_352 ...\n",
      "Making results4upload/alde/ds-coves_3eq_40 ...\n",
      "Making results4upload/alde/ds-coves_3eq_48 ...\n",
      "Making results4upload/alde/ds-coves_3eq_64 ...\n",
      "Making results4upload/alde/ds-coves_3eq_672 ...\n"
     ]
    },
    {
     "name": "stderr",
     "output_type": "stream",
     "text": [
      " 40%|████      | 149/370 [00:25<00:22,  9.66it/s]"
     ]
    },
    {
     "name": "stdout",
     "output_type": "stream",
     "text": [
      "Making results4upload/alde/ds-coves_3eq_96 ...\n",
      "Making results4upload/alde/ds-coves_4eq_120 ...\n"
     ]
    },
    {
     "name": "stderr",
     "output_type": "stream",
     "text": [
      " 41%|████      | 151/370 [00:25<00:24,  9.01it/s]"
     ]
    },
    {
     "name": "stdout",
     "output_type": "stream",
     "text": [
      "Making results4upload/alde/ds-coves_4eq_144 ...\n"
     ]
    },
    {
     "name": "stderr",
     "output_type": "stream",
     "text": [
      " 41%|████▏     | 153/370 [00:25<00:30,  7.12it/s]"
     ]
    },
    {
     "name": "stdout",
     "output_type": "stream",
     "text": [
      "Making results4upload/alde/ds-coves_4eq_168 ...\n"
     ]
    },
    {
     "name": "stderr",
     "output_type": "stream",
     "text": [
      " 42%|████▏     | 154/370 [00:26<00:31,  6.86it/s]"
     ]
    },
    {
     "name": "stdout",
     "output_type": "stream",
     "text": [
      "Making results4upload/alde/ds-coves_4eq_264 ...\n",
      "Making results4upload/alde/ds-coves_4eq_30 ...\n",
      "Making results4upload/alde/ds-coves_4eq_36 ...\n"
     ]
    },
    {
     "name": "stderr",
     "output_type": "stream",
     "text": [
      " 42%|████▏     | 157/370 [00:26<00:24,  8.55it/s]"
     ]
    },
    {
     "name": "stdout",
     "output_type": "stream",
     "text": [
      "Making results4upload/alde/ds-coves_4eq_48 ...\n",
      "Making results4upload/alde/ds-coves_4eq_504 ...\n"
     ]
    },
    {
     "name": "stderr",
     "output_type": "stream",
     "text": [
      " 43%|████▎     | 160/370 [00:26<00:27,  7.73it/s]"
     ]
    },
    {
     "name": "stdout",
     "output_type": "stream",
     "text": [
      "Making results4upload/alde/ds-coves_4eq_72 ...\n",
      "Making results4upload/alde/ds-coves_4eq_96 ...\n",
      "Making results4upload/alde/ds-esm_2eq_1008 ...\n"
     ]
    },
    {
     "name": "stderr",
     "output_type": "stream",
     "text": [
      " 44%|████▍     | 163/370 [00:27<00:25,  8.13it/s]"
     ]
    },
    {
     "name": "stdout",
     "output_type": "stream",
     "text": [
      "Making results4upload/alde/ds-esm_2eq_144 ...\n",
      "Making results4upload/alde/ds-esm_2eq_192 ...\n",
      "Making results4upload/alde/ds-esm_2eq_240 ...\n"
     ]
    },
    {
     "name": "stderr",
     "output_type": "stream",
     "text": [
      " 45%|████▍     | 165/370 [00:27<00:24,  8.31it/s]"
     ]
    },
    {
     "name": "stdout",
     "output_type": "stream",
     "text": [
      "Making results4upload/alde/ds-esm_2eq_288 ...\n",
      "Making results4upload/alde/ds-esm_2eq_336 ...\n"
     ]
    },
    {
     "name": "stderr",
     "output_type": "stream",
     "text": [
      " 45%|████▌     | 167/370 [00:27<00:29,  6.93it/s]"
     ]
    },
    {
     "name": "stdout",
     "output_type": "stream",
     "text": [
      "Making results4upload/alde/ds-esm_2eq_528 ...\n",
      "Making results4upload/alde/ds-esm_2eq_60 ...\n",
      "Making results4upload/alde/ds-esm_2eq_72 ...\n"
     ]
    },
    {
     "name": "stderr",
     "output_type": "stream",
     "text": [
      " 46%|████▌     | 170/370 [00:27<00:20,  9.90it/s]"
     ]
    },
    {
     "name": "stdout",
     "output_type": "stream",
     "text": [
      "Making results4upload/alde/ds-esm_2eq_96 ...\n",
      "Making results4upload/alde/ds-esm_3eq_128 ...\n",
      "Making results4upload/alde/ds-esm_3eq_160 ...\n"
     ]
    },
    {
     "name": "stderr",
     "output_type": "stream",
     "text": [
      " 46%|████▋     | 172/370 [00:28<00:17, 11.11it/s]"
     ]
    },
    {
     "name": "stdout",
     "output_type": "stream",
     "text": [
      "Making results4upload/alde/ds-esm_3eq_192 ...\n",
      "Making results4upload/alde/ds-esm_3eq_224 ...\n"
     ]
    },
    {
     "name": "stderr",
     "output_type": "stream",
     "text": [
      " 47%|████▋     | 175/370 [00:28<00:25,  7.73it/s]"
     ]
    },
    {
     "name": "stdout",
     "output_type": "stream",
     "text": [
      "Making results4upload/alde/ds-esm_3eq_352 ...\n",
      "Making results4upload/alde/ds-esm_3eq_40 ...\n",
      "Making results4upload/alde/ds-esm_3eq_48 ...\n"
     ]
    },
    {
     "name": "stderr",
     "output_type": "stream",
     "text": [
      " 48%|████▊     | 177/370 [00:28<00:19,  9.71it/s]"
     ]
    },
    {
     "name": "stdout",
     "output_type": "stream",
     "text": [
      "Making results4upload/alde/ds-esm_3eq_64 ...\n",
      "Making results4upload/alde/ds-esm_3eq_672 ...\n"
     ]
    },
    {
     "name": "stderr",
     "output_type": "stream",
     "text": [
      " 48%|████▊     | 179/370 [00:28<00:21,  8.99it/s]"
     ]
    },
    {
     "name": "stdout",
     "output_type": "stream",
     "text": [
      "Making results4upload/alde/ds-esm_3eq_96 ...\n",
      "Making results4upload/alde/ds-esm_4eq_120 ...\n"
     ]
    },
    {
     "name": "stderr",
     "output_type": "stream",
     "text": [
      " 49%|████▉     | 181/370 [00:29<00:20,  9.26it/s]"
     ]
    },
    {
     "name": "stdout",
     "output_type": "stream",
     "text": [
      "Making results4upload/alde/ds-esm_4eq_144 ...\n",
      "Making results4upload/alde/ds-esm_4eq_168 ...\n"
     ]
    },
    {
     "name": "stderr",
     "output_type": "stream",
     "text": [
      " 50%|████▉     | 184/370 [00:29<00:24,  7.75it/s]"
     ]
    },
    {
     "name": "stdout",
     "output_type": "stream",
     "text": [
      "Making results4upload/alde/ds-esm_4eq_264 ...\n",
      "Making results4upload/alde/ds-esm_4eq_30 ...\n"
     ]
    },
    {
     "name": "stderr",
     "output_type": "stream",
     "text": [
      " 51%|█████     | 187/370 [00:29<00:20,  9.14it/s]"
     ]
    },
    {
     "name": "stdout",
     "output_type": "stream",
     "text": [
      "Making results4upload/alde/ds-esm_4eq_36 ...\n",
      "Making results4upload/alde/ds-esm_4eq_48 ...\n",
      "Making results4upload/alde/ds-esm_4eq_504 ...\n"
     ]
    },
    {
     "name": "stderr",
     "output_type": "stream",
     "text": [
      " 51%|█████▏    | 190/370 [00:30<00:18,  9.72it/s]"
     ]
    },
    {
     "name": "stdout",
     "output_type": "stream",
     "text": [
      "Making results4upload/alde/ds-esm_4eq_72 ...\n",
      "Making results4upload/alde/ds-esm_4eq_96 ...\n",
      "Making results4upload/alde/ds-esmif_2eq_1008 ...\n"
     ]
    },
    {
     "name": "stderr",
     "output_type": "stream",
     "text": [
      " 52%|█████▏    | 192/370 [00:30<00:18,  9.52it/s]"
     ]
    },
    {
     "name": "stdout",
     "output_type": "stream",
     "text": [
      "Making results4upload/alde/ds-esmif_2eq_144 ...\n",
      "Making results4upload/alde/ds-esmif_2eq_192 ...\n",
      "Making results4upload/alde/ds-esmif_2eq_240 ...\n"
     ]
    },
    {
     "name": "stderr",
     "output_type": "stream",
     "text": [
      " 52%|█████▏    | 194/370 [00:30<00:18,  9.29it/s]"
     ]
    },
    {
     "name": "stdout",
     "output_type": "stream",
     "text": [
      "Making results4upload/alde/ds-esmif_2eq_288 ...\n",
      "Making results4upload/alde/ds-esmif_2eq_336 ...\n"
     ]
    },
    {
     "name": "stderr",
     "output_type": "stream",
     "text": [
      " 54%|█████▎    | 198/370 [00:31<00:16, 10.29it/s]"
     ]
    },
    {
     "name": "stdout",
     "output_type": "stream",
     "text": [
      "Making results4upload/alde/ds-esmif_2eq_528 ...\n",
      "Making results4upload/alde/ds-esmif_2eq_60 ...\n",
      "Making results4upload/alde/ds-esmif_2eq_72 ...\n",
      "Making results4upload/alde/ds-esmif_2eq_96 ...\n"
     ]
    },
    {
     "name": "stderr",
     "output_type": "stream",
     "text": [
      " 54%|█████▍    | 200/370 [00:31<00:14, 11.62it/s]"
     ]
    },
    {
     "name": "stdout",
     "output_type": "stream",
     "text": [
      "Making results4upload/alde/ds-esmif_3eq_128 ...\n",
      "Making results4upload/alde/ds-esmif_3eq_160 ...\n"
     ]
    },
    {
     "name": "stderr",
     "output_type": "stream",
     "text": [
      " 55%|█████▌    | 204/370 [00:31<00:16,  9.78it/s]"
     ]
    },
    {
     "name": "stdout",
     "output_type": "stream",
     "text": [
      "Making results4upload/alde/ds-esmif_3eq_192 ...\n",
      "Making results4upload/alde/ds-esmif_3eq_224 ...\n",
      "Making results4upload/alde/ds-esmif_3eq_352 ...\n"
     ]
    },
    {
     "name": "stderr",
     "output_type": "stream",
     "text": [
      " 56%|█████▌    | 208/370 [00:32<00:15, 10.51it/s]"
     ]
    },
    {
     "name": "stdout",
     "output_type": "stream",
     "text": [
      "Making results4upload/alde/ds-esmif_3eq_40 ...\n",
      "Making results4upload/alde/ds-esmif_3eq_48 ...\n",
      "Making results4upload/alde/ds-esmif_3eq_64 ...\n",
      "Making results4upload/alde/ds-esmif_3eq_672 ...\n"
     ]
    },
    {
     "name": "stderr",
     "output_type": "stream",
     "text": [
      " 57%|█████▋    | 210/370 [00:32<00:22,  7.18it/s]"
     ]
    },
    {
     "name": "stdout",
     "output_type": "stream",
     "text": [
      "Making results4upload/alde/ds-esmif_3eq_96 ...\n",
      "Making results4upload/alde/ds-esmif_4eq_120 ...\n",
      "Making results4upload/alde/ds-esmif_4eq_144 ...\n"
     ]
    },
    {
     "name": "stderr",
     "output_type": "stream",
     "text": [
      " 57%|█████▋    | 212/370 [00:32<00:20,  7.53it/s]"
     ]
    },
    {
     "name": "stdout",
     "output_type": "stream",
     "text": [
      "Making results4upload/alde/ds-esmif_4eq_168 ...\n",
      "Making results4upload/alde/ds-esmif_4eq_264 ...\n"
     ]
    },
    {
     "name": "stderr",
     "output_type": "stream",
     "text": [
      " 59%|█████▊    | 217/370 [00:33<00:15,  9.98it/s]"
     ]
    },
    {
     "name": "stdout",
     "output_type": "stream",
     "text": [
      "Making results4upload/alde/ds-esmif_4eq_30 ...\n",
      "Making results4upload/alde/ds-esmif_4eq_36 ...\n",
      "Making results4upload/alde/ds-esmif_4eq_48 ...\n",
      "Making results4upload/alde/ds-esmif_4eq_504 ...\n"
     ]
    },
    {
     "name": "stderr",
     "output_type": "stream",
     "text": [
      " 59%|█████▉    | 219/370 [00:33<00:18,  8.15it/s]"
     ]
    },
    {
     "name": "stdout",
     "output_type": "stream",
     "text": [
      "Making results4upload/alde/ds-esmif_4eq_72 ...\n",
      "Making results4upload/alde/ds-esmif_4eq_96 ...\n",
      "Making results4upload/alde/ds-ev_2eq_1008 ...\n"
     ]
    },
    {
     "name": "stderr",
     "output_type": "stream",
     "text": [
      " 61%|██████    | 224/370 [00:34<00:17,  8.24it/s]"
     ]
    },
    {
     "name": "stdout",
     "output_type": "stream",
     "text": [
      "Making results4upload/alde/ds-ev_2eq_144 ...\n",
      "Making results4upload/alde/ds-ev_2eq_192 ...\n",
      "Making results4upload/alde/ds-ev_2eq_240 ...\n",
      "Making results4upload/alde/ds-ev_2eq_288 ...\n"
     ]
    },
    {
     "name": "stderr",
     "output_type": "stream",
     "text": [
      " 61%|██████    | 226/370 [00:34<00:17,  8.10it/s]"
     ]
    },
    {
     "name": "stdout",
     "output_type": "stream",
     "text": [
      "Making results4upload/alde/ds-ev_2eq_336 ...\n",
      "Making results4upload/alde/ds-ev_2eq_528 ...\n"
     ]
    },
    {
     "name": "stderr",
     "output_type": "stream",
     "text": [
      " 62%|██████▏   | 231/370 [00:34<00:13, 10.19it/s]"
     ]
    },
    {
     "name": "stdout",
     "output_type": "stream",
     "text": [
      "Making results4upload/alde/ds-ev_2eq_60 ...\n",
      "Making results4upload/alde/ds-ev_2eq_72 ...\n",
      "Making results4upload/alde/ds-ev_2eq_96 ...\n",
      "Making results4upload/alde/ds-ev_3eq_128 ...\n",
      "Making results4upload/alde/ds-ev_3eq_160 ...\n"
     ]
    },
    {
     "name": "stderr",
     "output_type": "stream",
     "text": [
      " 63%|██████▎   | 233/370 [00:35<00:15,  8.86it/s]"
     ]
    },
    {
     "name": "stdout",
     "output_type": "stream",
     "text": [
      "Making results4upload/alde/ds-ev_3eq_192 ...\n",
      "Making results4upload/alde/ds-ev_3eq_224 ...\n",
      "Making results4upload/alde/ds-ev_3eq_352 ...\n"
     ]
    },
    {
     "name": "stderr",
     "output_type": "stream",
     "text": [
      " 64%|██████▍   | 237/370 [00:35<00:15,  8.78it/s]"
     ]
    },
    {
     "name": "stdout",
     "output_type": "stream",
     "text": [
      "Making results4upload/alde/ds-ev_3eq_40 ...\n",
      "Making results4upload/alde/ds-ev_3eq_48 ...\n",
      "Making results4upload/alde/ds-ev_3eq_64 ...\n",
      "Making results4upload/alde/ds-ev_3eq_672 ...\n"
     ]
    },
    {
     "name": "stderr",
     "output_type": "stream",
     "text": [
      " 65%|██████▌   | 241/370 [00:36<00:14,  9.03it/s]"
     ]
    },
    {
     "name": "stdout",
     "output_type": "stream",
     "text": [
      "Making results4upload/alde/ds-ev_3eq_96 ...\n",
      "Making results4upload/alde/ds-ev_4eq_120 ...\n",
      "Making results4upload/alde/ds-ev_4eq_144 ...\n",
      "Making results4upload/alde/ds-ev_4eq_168 ...\n"
     ]
    },
    {
     "name": "stderr",
     "output_type": "stream",
     "text": [
      " 66%|██████▌   | 243/370 [00:36<00:15,  8.36it/s]"
     ]
    },
    {
     "name": "stdout",
     "output_type": "stream",
     "text": [
      "Making results4upload/alde/ds-ev_4eq_264 ...\n",
      "Making results4upload/alde/ds-ev_4eq_30 ...\n"
     ]
    },
    {
     "name": "stderr",
     "output_type": "stream",
     "text": [
      " 66%|██████▋   | 246/370 [00:37<00:16,  7.38it/s]"
     ]
    },
    {
     "name": "stdout",
     "output_type": "stream",
     "text": [
      "Making results4upload/alde/ds-ev_4eq_36 ...\n",
      "Making results4upload/alde/ds-ev_4eq_48 ...\n",
      "Making results4upload/alde/ds-ev_4eq_504 ...\n"
     ]
    },
    {
     "name": "stderr",
     "output_type": "stream",
     "text": [
      " 67%|██████▋   | 248/370 [00:37<00:20,  6.06it/s]"
     ]
    },
    {
     "name": "stdout",
     "output_type": "stream",
     "text": [
      "Making results4upload/alde/ds-ev_4eq_72 ...\n",
      "Making results4upload/alde/ds-ev_4eq_96 ...\n",
      "Making results4upload/alde/ed_2eq_1008 ...\n"
     ]
    },
    {
     "name": "stderr",
     "output_type": "stream",
     "text": [
      " 68%|██████▊   | 253/370 [00:37<00:14,  8.20it/s]"
     ]
    },
    {
     "name": "stdout",
     "output_type": "stream",
     "text": [
      "Making results4upload/alde/ed_2eq_144 ...\n",
      "Making results4upload/alde/ed_2eq_192 ...\n",
      "Making results4upload/alde/ed_2eq_240 ...\n",
      "Making results4upload/alde/ed_2eq_288 ...\n"
     ]
    },
    {
     "name": "stderr",
     "output_type": "stream",
     "text": [
      " 69%|██████▉   | 256/370 [00:38<00:15,  7.56it/s]"
     ]
    },
    {
     "name": "stdout",
     "output_type": "stream",
     "text": [
      "Making results4upload/alde/ed_2eq_336 ...\n",
      "Making results4upload/alde/ed_2eq_528 ...\n"
     ]
    },
    {
     "name": "stderr",
     "output_type": "stream",
     "text": [
      " 70%|███████   | 260/370 [00:38<00:11,  9.32it/s]"
     ]
    },
    {
     "name": "stdout",
     "output_type": "stream",
     "text": [
      "Making results4upload/alde/ed_2eq_60 ...\n",
      "Making results4upload/alde/ed_2eq_72 ...\n",
      "Making results4upload/alde/ed_2eq_96 ...\n",
      "Making results4upload/alde/ed_3eq_128 ...\n"
     ]
    },
    {
     "name": "stderr",
     "output_type": "stream",
     "text": [
      " 71%|███████   | 262/370 [00:38<00:10, 10.08it/s]"
     ]
    },
    {
     "name": "stdout",
     "output_type": "stream",
     "text": [
      "Making results4upload/alde/ed_3eq_160 ...\n",
      "Making results4upload/alde/ed_3eq_192 ...\n",
      "Making results4upload/alde/ed_3eq_224 ...\n"
     ]
    },
    {
     "name": "stderr",
     "output_type": "stream",
     "text": [
      " 71%|███████▏  | 264/370 [00:39<00:12,  8.54it/s]"
     ]
    },
    {
     "name": "stdout",
     "output_type": "stream",
     "text": [
      "Making results4upload/alde/ed_3eq_352 ...\n"
     ]
    },
    {
     "name": "stderr",
     "output_type": "stream",
     "text": [
      " 72%|███████▏  | 268/370 [00:39<00:10,  9.59it/s]"
     ]
    },
    {
     "name": "stdout",
     "output_type": "stream",
     "text": [
      "Making results4upload/alde/ed_3eq_40 ...\n",
      "Making results4upload/alde/ed_3eq_48 ...\n",
      "Making results4upload/alde/ed_3eq_64 ...\n",
      "Making results4upload/alde/ed_3eq_672 ...\n"
     ]
    },
    {
     "name": "stderr",
     "output_type": "stream",
     "text": [
      " 73%|███████▎  | 270/370 [00:40<00:14,  6.83it/s]"
     ]
    },
    {
     "name": "stdout",
     "output_type": "stream",
     "text": [
      "Making results4upload/alde/ed_3eq_96 ...\n",
      "Making results4upload/alde/ed_4eq_120 ...\n",
      "Making results4upload/alde/ed_4eq_144 ...\n"
     ]
    },
    {
     "name": "stderr",
     "output_type": "stream",
     "text": [
      " 74%|███████▎  | 272/370 [00:40<00:15,  6.25it/s]"
     ]
    },
    {
     "name": "stdout",
     "output_type": "stream",
     "text": [
      "Making results4upload/alde/ed_4eq_168 ...\n"
     ]
    },
    {
     "name": "stderr",
     "output_type": "stream",
     "text": [
      " 74%|███████▍  | 273/370 [00:40<00:17,  5.55it/s]"
     ]
    },
    {
     "name": "stdout",
     "output_type": "stream",
     "text": [
      "Making results4upload/alde/ed_4eq_264 ...\n"
     ]
    },
    {
     "name": "stderr",
     "output_type": "stream",
     "text": [
      " 74%|███████▍  | 275/370 [00:41<00:19,  4.90it/s]"
     ]
    },
    {
     "name": "stdout",
     "output_type": "stream",
     "text": [
      "Making results4upload/alde/ed_4eq_30 ...\n",
      "Making results4upload/alde/ed_4eq_36 ...\n"
     ]
    },
    {
     "name": "stderr",
     "output_type": "stream",
     "text": [
      " 75%|███████▍  | 277/370 [00:41<00:14,  6.55it/s]"
     ]
    },
    {
     "name": "stdout",
     "output_type": "stream",
     "text": [
      "Making results4upload/alde/ed_4eq_48 ...\n",
      "Making results4upload/alde/ed_4eq_504 ...\n"
     ]
    },
    {
     "name": "stderr",
     "output_type": "stream",
     "text": [
      " 76%|███████▌  | 280/370 [00:42<00:20,  4.30it/s]"
     ]
    },
    {
     "name": "stdout",
     "output_type": "stream",
     "text": [
      "Making results4upload/alde/ed_4eq_72 ...\n",
      "Making results4upload/alde/ed_4eq_96 ...\n"
     ]
    },
    {
     "name": "stderr",
     "output_type": "stream",
     "text": [
      " 76%|███████▋  | 283/370 [00:43<00:19,  4.51it/s]"
     ]
    },
    {
     "name": "stdout",
     "output_type": "stream",
     "text": [
      "Making results4upload/alde/esm_2eq_144 ...\n",
      "Making results4upload/alde/esm_2eq_192 ...\n",
      "Making results4upload/alde/esm_2eq_240 ...\n"
     ]
    },
    {
     "name": "stderr",
     "output_type": "stream",
     "text": [
      " 77%|███████▋  | 285/370 [00:43<00:14,  5.81it/s]"
     ]
    },
    {
     "name": "stdout",
     "output_type": "stream",
     "text": [
      "Making results4upload/alde/esm_2eq_288 ...\n",
      "Making results4upload/alde/esm_2eq_336 ...\n"
     ]
    },
    {
     "name": "stderr",
     "output_type": "stream",
     "text": [
      " 77%|███████▋  | 286/370 [00:43<00:14,  5.65it/s]"
     ]
    },
    {
     "name": "stdout",
     "output_type": "stream",
     "text": [
      "Making results4upload/alde/esm_2eq_528 ...\n"
     ]
    },
    {
     "name": "stderr",
     "output_type": "stream",
     "text": [
      " 78%|███████▊  | 290/370 [00:44<00:09,  8.54it/s]"
     ]
    },
    {
     "name": "stdout",
     "output_type": "stream",
     "text": [
      "Making results4upload/alde/esm_2eq_60 ...\n",
      "Making results4upload/alde/esm_2eq_72 ...\n",
      "Making results4upload/alde/esm_2eq_96 ...\n",
      "Making results4upload/alde/esm_3eq_128 ...\n"
     ]
    },
    {
     "name": "stderr",
     "output_type": "stream",
     "text": [
      " 79%|███████▉  | 292/370 [00:44<00:09,  8.32it/s]"
     ]
    },
    {
     "name": "stdout",
     "output_type": "stream",
     "text": [
      "Making results4upload/alde/esm_3eq_160 ...\n",
      "Making results4upload/alde/esm_3eq_192 ...\n",
      "Making results4upload/alde/esm_3eq_224 ...\n"
     ]
    },
    {
     "name": "stderr",
     "output_type": "stream",
     "text": [
      " 79%|███████▉  | 294/370 [00:44<00:10,  6.92it/s]"
     ]
    },
    {
     "name": "stdout",
     "output_type": "stream",
     "text": [
      "Making results4upload/alde/esm_3eq_352 ...\n"
     ]
    },
    {
     "name": "stderr",
     "output_type": "stream",
     "text": [
      " 80%|████████  | 297/370 [00:45<00:09,  7.74it/s]"
     ]
    },
    {
     "name": "stdout",
     "output_type": "stream",
     "text": [
      "Making results4upload/alde/esm_3eq_40 ...\n",
      "Making results4upload/alde/esm_3eq_48 ...\n",
      "Making results4upload/alde/esm_3eq_64 ...\n",
      "Making results4upload/alde/esm_3eq_672 ...\n"
     ]
    },
    {
     "name": "stderr",
     "output_type": "stream",
     "text": [
      " 81%|████████  | 300/370 [00:45<00:12,  5.79it/s]"
     ]
    },
    {
     "name": "stdout",
     "output_type": "stream",
     "text": [
      "Making results4upload/alde/esm_3eq_96 ...\n",
      "Making results4upload/alde/esm_4eq_120 ...\n"
     ]
    },
    {
     "name": "stderr",
     "output_type": "stream",
     "text": [
      " 81%|████████▏ | 301/370 [00:46<00:11,  5.92it/s]"
     ]
    },
    {
     "name": "stdout",
     "output_type": "stream",
     "text": [
      "Making results4upload/alde/esm_4eq_144 ...\n"
     ]
    },
    {
     "name": "stderr",
     "output_type": "stream",
     "text": [
      " 82%|████████▏ | 302/370 [00:46<00:13,  5.02it/s]"
     ]
    },
    {
     "name": "stdout",
     "output_type": "stream",
     "text": [
      "Making results4upload/alde/esm_4eq_168 ...\n"
     ]
    },
    {
     "name": "stderr",
     "output_type": "stream",
     "text": [
      " 82%|████████▏ | 303/370 [00:46<00:16,  4.02it/s]"
     ]
    },
    {
     "name": "stdout",
     "output_type": "stream",
     "text": [
      "Making results4upload/alde/esm_4eq_264 ...\n"
     ]
    },
    {
     "name": "stderr",
     "output_type": "stream",
     "text": [
      " 83%|████████▎ | 306/370 [00:47<00:12,  5.05it/s]"
     ]
    },
    {
     "name": "stdout",
     "output_type": "stream",
     "text": [
      "Making results4upload/alde/esm_4eq_30 ...\n",
      "Making results4upload/alde/esm_4eq_36 ...\n",
      "Making results4upload/alde/esm_4eq_48 ...\n",
      "Making results4upload/alde/esm_4eq_504 ...\n"
     ]
    },
    {
     "name": "stderr",
     "output_type": "stream",
     "text": [
      " 83%|████████▎ | 308/370 [00:48<00:17,  3.48it/s]"
     ]
    },
    {
     "name": "stdout",
     "output_type": "stream",
     "text": [
      "Making results4upload/alde/esm_4eq_72 ...\n",
      "Making results4upload/alde/esm_4eq_96 ...\n"
     ]
    },
    {
     "name": "stderr",
     "output_type": "stream",
     "text": [
      " 84%|████████▍ | 310/370 [00:48<00:14,  4.06it/s]"
     ]
    },
    {
     "name": "stdout",
     "output_type": "stream",
     "text": [
      "Making results4upload/alde/esmif_2eq_1008 ...\n"
     ]
    },
    {
     "name": "stderr",
     "output_type": "stream",
     "text": [
      " 85%|████████▍ | 313/370 [00:49<00:12,  4.65it/s]"
     ]
    },
    {
     "name": "stdout",
     "output_type": "stream",
     "text": [
      "Making results4upload/alde/esmif_2eq_144 ...\n",
      "Making results4upload/alde/esmif_2eq_192 ...\n",
      "Making results4upload/alde/esmif_2eq_240 ...\n"
     ]
    },
    {
     "name": "stderr",
     "output_type": "stream",
     "text": [
      " 85%|████████▌ | 315/370 [00:49<00:10,  5.43it/s]"
     ]
    },
    {
     "name": "stdout",
     "output_type": "stream",
     "text": [
      "Making results4upload/alde/esmif_2eq_288 ...\n",
      "Making results4upload/alde/esmif_2eq_336 ...\n"
     ]
    },
    {
     "name": "stderr",
     "output_type": "stream",
     "text": [
      " 85%|████████▌ | 316/370 [00:49<00:10,  5.24it/s]"
     ]
    },
    {
     "name": "stdout",
     "output_type": "stream",
     "text": [
      "Making results4upload/alde/esmif_2eq_528 ...\n"
     ]
    },
    {
     "name": "stderr",
     "output_type": "stream",
     "text": [
      " 87%|████████▋ | 321/370 [00:50<00:05,  9.61it/s]"
     ]
    },
    {
     "name": "stdout",
     "output_type": "stream",
     "text": [
      "Making results4upload/alde/esmif_2eq_60 ...\n",
      "Making results4upload/alde/esmif_2eq_72 ...\n",
      "Making results4upload/alde/esmif_2eq_96 ...\n",
      "Making results4upload/alde/esmif_3eq_128 ...\n",
      "Making results4upload/alde/esmif_3eq_160 ...\n",
      "Making results4upload/alde/esmif_3eq_192 ...\n"
     ]
    },
    {
     "name": "stderr",
     "output_type": "stream",
     "text": [
      " 87%|████████▋ | 323/370 [00:50<00:05,  8.00it/s]"
     ]
    },
    {
     "name": "stdout",
     "output_type": "stream",
     "text": [
      "Making results4upload/alde/esmif_3eq_224 ...\n",
      "Making results4upload/alde/esmif_3eq_352 ...\n"
     ]
    },
    {
     "name": "stderr",
     "output_type": "stream",
     "text": [
      " 88%|████████▊ | 327/370 [00:51<00:05,  7.54it/s]"
     ]
    },
    {
     "name": "stdout",
     "output_type": "stream",
     "text": [
      "Making results4upload/alde/esmif_3eq_40 ...\n",
      "Making results4upload/alde/esmif_3eq_48 ...\n",
      "Making results4upload/alde/esmif_3eq_64 ...\n",
      "Making results4upload/alde/esmif_3eq_672 ...\n"
     ]
    },
    {
     "name": "stderr",
     "output_type": "stream",
     "text": [
      " 89%|████████▉ | 329/370 [00:51<00:06,  5.96it/s]"
     ]
    },
    {
     "name": "stdout",
     "output_type": "stream",
     "text": [
      "Making results4upload/alde/esmif_3eq_96 ...\n",
      "Making results4upload/alde/esmif_4eq_120 ...\n"
     ]
    },
    {
     "name": "stderr",
     "output_type": "stream",
     "text": [
      " 89%|████████▉ | 331/370 [00:51<00:06,  6.17it/s]"
     ]
    },
    {
     "name": "stdout",
     "output_type": "stream",
     "text": [
      "Making results4upload/alde/esmif_4eq_144 ...\n"
     ]
    },
    {
     "name": "stderr",
     "output_type": "stream",
     "text": [
      " 90%|█████████ | 333/370 [00:52<00:06,  5.34it/s]"
     ]
    },
    {
     "name": "stdout",
     "output_type": "stream",
     "text": [
      "Making results4upload/alde/esmif_4eq_168 ...\n",
      "Making results4upload/alde/esmif_4eq_264 ...\n"
     ]
    },
    {
     "name": "stderr",
     "output_type": "stream",
     "text": [
      " 91%|█████████ | 335/370 [00:52<00:07,  4.79it/s]"
     ]
    },
    {
     "name": "stdout",
     "output_type": "stream",
     "text": [
      "Making results4upload/alde/esmif_4eq_30 ...\n",
      "Making results4upload/alde/esmif_4eq_36 ...\n"
     ]
    },
    {
     "name": "stderr",
     "output_type": "stream",
     "text": [
      " 91%|█████████ | 336/370 [00:52<00:06,  5.33it/s]"
     ]
    },
    {
     "name": "stdout",
     "output_type": "stream",
     "text": [
      "Making results4upload/alde/esmif_4eq_48 ...\n",
      "Making results4upload/alde/esmif_4eq_504 ...\n"
     ]
    },
    {
     "name": "stderr",
     "output_type": "stream",
     "text": [
      " 92%|█████████▏| 339/370 [00:54<00:08,  3.61it/s]"
     ]
    },
    {
     "name": "stdout",
     "output_type": "stream",
     "text": [
      "Making results4upload/alde/esmif_4eq_72 ...\n",
      "Making results4upload/alde/esmif_4eq_96 ...\n"
     ]
    },
    {
     "name": "stderr",
     "output_type": "stream",
     "text": [
      " 92%|█████████▏| 340/370 [00:54<00:08,  3.58it/s]"
     ]
    },
    {
     "name": "stdout",
     "output_type": "stream",
     "text": [
      "Making results4upload/alde/ev_2eq_1008 ...\n"
     ]
    },
    {
     "name": "stderr",
     "output_type": "stream",
     "text": [
      " 93%|█████████▎| 343/370 [00:54<00:05,  4.52it/s]"
     ]
    },
    {
     "name": "stdout",
     "output_type": "stream",
     "text": [
      "Making results4upload/alde/ev_2eq_144 ...\n",
      "Making results4upload/alde/ev_2eq_192 ...\n",
      "Making results4upload/alde/ev_2eq_240 ...\n"
     ]
    },
    {
     "name": "stderr",
     "output_type": "stream",
     "text": [
      " 93%|█████████▎| 344/370 [00:55<00:05,  4.92it/s]"
     ]
    },
    {
     "name": "stdout",
     "output_type": "stream",
     "text": [
      "Making results4upload/alde/ev_2eq_288 ...\n"
     ]
    },
    {
     "name": "stderr",
     "output_type": "stream",
     "text": [
      " 93%|█████████▎| 345/370 [00:55<00:05,  4.63it/s]"
     ]
    },
    {
     "name": "stdout",
     "output_type": "stream",
     "text": [
      "Making results4upload/alde/ev_2eq_336 ...\n"
     ]
    },
    {
     "name": "stderr",
     "output_type": "stream",
     "text": [
      " 94%|█████████▎| 346/370 [00:55<00:05,  4.15it/s]"
     ]
    },
    {
     "name": "stdout",
     "output_type": "stream",
     "text": [
      "Making results4upload/alde/ev_2eq_528 ...\n"
     ]
    },
    {
     "name": "stderr",
     "output_type": "stream",
     "text": [
      " 95%|█████████▍| 350/370 [00:56<00:02,  7.06it/s]"
     ]
    },
    {
     "name": "stdout",
     "output_type": "stream",
     "text": [
      "Making results4upload/alde/ev_2eq_60 ...\n",
      "Making results4upload/alde/ev_2eq_72 ...\n",
      "Making results4upload/alde/ev_2eq_96 ...\n",
      "Making results4upload/alde/ev_3eq_128 ...\n"
     ]
    },
    {
     "name": "stderr",
     "output_type": "stream",
     "text": [
      " 95%|█████████▌| 352/370 [00:56<00:02,  7.84it/s]"
     ]
    },
    {
     "name": "stdout",
     "output_type": "stream",
     "text": [
      "Making results4upload/alde/ev_3eq_160 ...\n",
      "Making results4upload/alde/ev_3eq_192 ...\n",
      "Making results4upload/alde/ev_3eq_224 ...\n"
     ]
    },
    {
     "name": "stderr",
     "output_type": "stream",
     "text": [
      " 96%|█████████▌| 355/370 [00:56<00:02,  6.53it/s]"
     ]
    },
    {
     "name": "stdout",
     "output_type": "stream",
     "text": [
      "Making results4upload/alde/ev_3eq_352 ...\n",
      "Making results4upload/alde/ev_3eq_40 ...\n"
     ]
    },
    {
     "name": "stderr",
     "output_type": "stream",
     "text": [
      " 96%|█████████▋| 357/370 [00:57<00:01,  7.41it/s]"
     ]
    },
    {
     "name": "stdout",
     "output_type": "stream",
     "text": [
      "Making results4upload/alde/ev_3eq_48 ...\n",
      "Making results4upload/alde/ev_3eq_64 ...\n",
      "Making results4upload/alde/ev_3eq_672 ...\n"
     ]
    },
    {
     "name": "stderr",
     "output_type": "stream",
     "text": [
      " 97%|█████████▋| 360/370 [00:57<00:01,  5.55it/s]"
     ]
    },
    {
     "name": "stdout",
     "output_type": "stream",
     "text": [
      "Making results4upload/alde/ev_3eq_96 ...\n",
      "Making results4upload/alde/ev_4eq_120 ...\n"
     ]
    },
    {
     "name": "stderr",
     "output_type": "stream",
     "text": [
      " 98%|█████████▊| 361/370 [00:58<00:01,  4.60it/s]"
     ]
    },
    {
     "name": "stdout",
     "output_type": "stream",
     "text": [
      "Making results4upload/alde/ev_4eq_144 ...\n"
     ]
    },
    {
     "name": "stderr",
     "output_type": "stream",
     "text": [
      " 98%|█████████▊| 362/370 [00:58<00:02,  3.58it/s]"
     ]
    },
    {
     "name": "stdout",
     "output_type": "stream",
     "text": [
      "Making results4upload/alde/ev_4eq_168 ...\n"
     ]
    },
    {
     "name": "stderr",
     "output_type": "stream",
     "text": [
      " 98%|█████████▊| 363/370 [00:58<00:01,  3.52it/s]"
     ]
    },
    {
     "name": "stdout",
     "output_type": "stream",
     "text": [
      "Making results4upload/alde/ev_4eq_264 ...\n"
     ]
    },
    {
     "name": "stderr",
     "output_type": "stream",
     "text": [
      " 99%|█████████▉| 366/370 [00:59<00:01,  3.82it/s]"
     ]
    },
    {
     "name": "stdout",
     "output_type": "stream",
     "text": [
      "Making results4upload/alde/ev_4eq_30 ...\n",
      "Making results4upload/alde/ev_4eq_36 ...\n",
      "Making results4upload/alde/ev_4eq_48 ...\n",
      "Making results4upload/alde/ev_4eq_504 ...\n"
     ]
    },
    {
     "name": "stderr",
     "output_type": "stream",
     "text": [
      "100%|█████████▉| 369/370 [01:01<00:00,  2.88it/s]"
     ]
    },
    {
     "name": "stdout",
     "output_type": "stream",
     "text": [
      "Making results4upload/alde/ev_4eq_72 ...\n",
      "Making results4upload/alde/ev_4eq_96 ...\n"
     ]
    },
    {
     "name": "stderr",
     "output_type": "stream",
     "text": [
      "100%|██████████| 370/370 [01:01<00:00,  6.03it/s]\n"
     ]
    }
   ],
   "source": [
    "for folder in tqdm(sorted(glob(\"/disk2/fli/alde4ssmula/results/*\"))):\n",
    "    if \"+\" in folder:\n",
    "        continue\n",
    "    \n",
    "    subfolder = folder.split(\"/\")[-1]\n",
    "    # destination folder\n",
    "    dest = checkNgen_folder(os.path.join(\"results4upload/alde\", subfolder))\n",
    "    dest_csv = os.path.join(dest, \"all_results.csv\")\n",
    "    # if all_results_2 exists\n",
    "    if os.path.exists(os.path.join(folder, \"all_results_2.csv\")):\n",
    "        read_path = os.path.join(folder, \"all_results_2.csv\")\n",
    "    else:\n",
    "        read_path = os.path.join(folder, \"all_results.csv\")\n",
    "\n",
    "    # read all_results_2\n",
    "    df = pd.read_csv(read_path)\n",
    "    # rename T7_2 to T7 in the Protein column\n",
    "    df[\"Protein\"] = df[\"Protein\"].str.replace(\"T7_2\", \"T7\")\n",
    "\n",
    "    slice_df = df[\n",
    "        (df[\"Protein\"] != \"TrpB3F\")\n",
    "        & (\n",
    "            df[\"Model\"].isin([\"Boosting Ensemble\", \"DNN Ensemble\"])\n",
    "            & (df[\"Acquisition\"] == \"GREEDY\")\n",
    "        )\n",
    "    ]\n",
    "\n",
    "    # get trpb3f\n",
    "    trpb3f = pd.read_csv(\n",
    "        os.path.join(folder.replace(\"results\", \"results_TrpB3F\"), \"all_results.csv\")\n",
    "    )\n",
    "\n",
    "    # append trpb3f to slice_df\n",
    "    merge_df = pd.concat([slice_df, trpb3f])\n",
    "\n",
    "    # save to dest_csv\n",
    "    merge_df.sort_values([\"Protein\", \"Model\", \"Acquisition\", \"Timestep\"]).to_csv(\n",
    "        dest_csv, index=False\n",
    "    )"
   ]
  },
  {
   "cell_type": "code",
   "execution_count": 4,
   "metadata": {},
   "outputs": [
    {
     "data": {
      "text/html": [
       "<div>\n",
       "<style scoped>\n",
       "    .dataframe tbody tr th:only-of-type {\n",
       "        vertical-align: middle;\n",
       "    }\n",
       "\n",
       "    .dataframe tbody tr th {\n",
       "        vertical-align: top;\n",
       "    }\n",
       "\n",
       "    .dataframe thead th {\n",
       "        text-align: right;\n",
       "    }\n",
       "</style>\n",
       "<table border=\"1\" class=\"dataframe\">\n",
       "  <thead>\n",
       "    <tr style=\"text-align: right;\">\n",
       "      <th></th>\n",
       "      <th>n_mut_cutoff</th>\n",
       "      <th>zs</th>\n",
       "      <th>rounds</th>\n",
       "      <th>n_samples</th>\n",
       "      <th>Protein</th>\n",
       "      <th>Encoding</th>\n",
       "      <th>Model</th>\n",
       "      <th>Acquisition</th>\n",
       "      <th>Timestep</th>\n",
       "      <th>Mean</th>\n",
       "      <th>Std</th>\n",
       "      <th>Frac</th>\n",
       "    </tr>\n",
       "  </thead>\n",
       "  <tbody>\n",
       "    <tr>\n",
       "      <th>0</th>\n",
       "      <td>all</td>\n",
       "      <td>NaN</td>\n",
       "      <td>1</td>\n",
       "      <td>120</td>\n",
       "      <td>DHFR</td>\n",
       "      <td>onehot</td>\n",
       "      <td>Boosting Ensemble</td>\n",
       "      <td>GREEDY</td>\n",
       "      <td>120</td>\n",
       "      <td>0.859808</td>\n",
       "      <td>0.024965</td>\n",
       "      <td>0.02</td>\n",
       "    </tr>\n",
       "    <tr>\n",
       "      <th>1</th>\n",
       "      <td>all</td>\n",
       "      <td>NaN</td>\n",
       "      <td>1</td>\n",
       "      <td>120</td>\n",
       "      <td>DHFR</td>\n",
       "      <td>onehot</td>\n",
       "      <td>Boosting Ensemble</td>\n",
       "      <td>TS</td>\n",
       "      <td>120</td>\n",
       "      <td>0.865163</td>\n",
       "      <td>0.022834</td>\n",
       "      <td>0.00</td>\n",
       "    </tr>\n",
       "    <tr>\n",
       "      <th>2</th>\n",
       "      <td>all</td>\n",
       "      <td>NaN</td>\n",
       "      <td>1</td>\n",
       "      <td>120</td>\n",
       "      <td>DHFR</td>\n",
       "      <td>onehot</td>\n",
       "      <td>Boosting Ensemble</td>\n",
       "      <td>UCB</td>\n",
       "      <td>120</td>\n",
       "      <td>0.842993</td>\n",
       "      <td>0.027852</td>\n",
       "      <td>0.02</td>\n",
       "    </tr>\n",
       "    <tr>\n",
       "      <th>3</th>\n",
       "      <td>all</td>\n",
       "      <td>NaN</td>\n",
       "      <td>1</td>\n",
       "      <td>120</td>\n",
       "      <td>DHFR</td>\n",
       "      <td>onehot</td>\n",
       "      <td>DKL</td>\n",
       "      <td>GREEDY</td>\n",
       "      <td>120</td>\n",
       "      <td>0.758989</td>\n",
       "      <td>0.023827</td>\n",
       "      <td>0.02</td>\n",
       "    </tr>\n",
       "    <tr>\n",
       "      <th>4</th>\n",
       "      <td>all</td>\n",
       "      <td>NaN</td>\n",
       "      <td>1</td>\n",
       "      <td>120</td>\n",
       "      <td>DHFR</td>\n",
       "      <td>onehot</td>\n",
       "      <td>DKL</td>\n",
       "      <td>TS</td>\n",
       "      <td>120</td>\n",
       "      <td>0.789997</td>\n",
       "      <td>0.021010</td>\n",
       "      <td>0.00</td>\n",
       "    </tr>\n",
       "    <tr>\n",
       "      <th>...</th>\n",
       "      <td>...</td>\n",
       "      <td>...</td>\n",
       "      <td>...</td>\n",
       "      <td>...</td>\n",
       "      <td>...</td>\n",
       "      <td>...</td>\n",
       "      <td>...</td>\n",
       "      <td>...</td>\n",
       "      <td>...</td>\n",
       "      <td>...</td>\n",
       "      <td>...</td>\n",
       "      <td>...</td>\n",
       "    </tr>\n",
       "    <tr>\n",
       "      <th>33765</th>\n",
       "      <td>double</td>\n",
       "      <td>ds-Triad</td>\n",
       "      <td>4</td>\n",
       "      <td>2016</td>\n",
       "      <td>TrpB3I</td>\n",
       "      <td>onehot</td>\n",
       "      <td>DNN Ensemble</td>\n",
       "      <td>GREEDY</td>\n",
       "      <td>1652</td>\n",
       "      <td>1.000000</td>\n",
       "      <td>0.000000</td>\n",
       "      <td>1.00</td>\n",
       "    </tr>\n",
       "    <tr>\n",
       "      <th>33766</th>\n",
       "      <td>double</td>\n",
       "      <td>ds-Triad</td>\n",
       "      <td>4</td>\n",
       "      <td>2016</td>\n",
       "      <td>TrpB3I</td>\n",
       "      <td>Random</td>\n",
       "      <td>Random</td>\n",
       "      <td>GREEDY</td>\n",
       "      <td>1652</td>\n",
       "      <td>0.993217</td>\n",
       "      <td>0.000423</td>\n",
       "      <td>0.16</td>\n",
       "    </tr>\n",
       "    <tr>\n",
       "      <th>33767</th>\n",
       "      <td>double</td>\n",
       "      <td>ds-Triad</td>\n",
       "      <td>4</td>\n",
       "      <td>2016</td>\n",
       "      <td>TrpB4</td>\n",
       "      <td>onehot</td>\n",
       "      <td>Boosting Ensemble</td>\n",
       "      <td>GREEDY</td>\n",
       "      <td>1792</td>\n",
       "      <td>0.800478</td>\n",
       "      <td>0.000000</td>\n",
       "      <td>0.00</td>\n",
       "    </tr>\n",
       "    <tr>\n",
       "      <th>33768</th>\n",
       "      <td>double</td>\n",
       "      <td>ds-Triad</td>\n",
       "      <td>4</td>\n",
       "      <td>2016</td>\n",
       "      <td>TrpB4</td>\n",
       "      <td>onehot</td>\n",
       "      <td>DNN Ensemble</td>\n",
       "      <td>GREEDY</td>\n",
       "      <td>1792</td>\n",
       "      <td>0.914842</td>\n",
       "      <td>0.013968</td>\n",
       "      <td>0.56</td>\n",
       "    </tr>\n",
       "    <tr>\n",
       "      <th>33769</th>\n",
       "      <td>double</td>\n",
       "      <td>ds-Triad</td>\n",
       "      <td>4</td>\n",
       "      <td>2016</td>\n",
       "      <td>TrpB4</td>\n",
       "      <td>Random</td>\n",
       "      <td>Random</td>\n",
       "      <td>GREEDY</td>\n",
       "      <td>1792</td>\n",
       "      <td>0.705483</td>\n",
       "      <td>0.011797</td>\n",
       "      <td>0.02</td>\n",
       "    </tr>\n",
       "  </tbody>\n",
       "</table>\n",
       "<p>33770 rows × 12 columns</p>\n",
       "</div>"
      ],
      "text/plain": [
       "      n_mut_cutoff        zs  rounds  n_samples Protein Encoding  \\\n",
       "0              all       NaN       1        120    DHFR   onehot   \n",
       "1              all       NaN       1        120    DHFR   onehot   \n",
       "2              all       NaN       1        120    DHFR   onehot   \n",
       "3              all       NaN       1        120    DHFR   onehot   \n",
       "4              all       NaN       1        120    DHFR   onehot   \n",
       "...            ...       ...     ...        ...     ...      ...   \n",
       "33765       double  ds-Triad       4       2016  TrpB3I   onehot   \n",
       "33766       double  ds-Triad       4       2016  TrpB3I   Random   \n",
       "33767       double  ds-Triad       4       2016   TrpB4   onehot   \n",
       "33768       double  ds-Triad       4       2016   TrpB4   onehot   \n",
       "33769       double  ds-Triad       4       2016   TrpB4   Random   \n",
       "\n",
       "                   Model Acquisition  Timestep      Mean       Std  Frac  \n",
       "0      Boosting Ensemble      GREEDY       120  0.859808  0.024965  0.02  \n",
       "1      Boosting Ensemble          TS       120  0.865163  0.022834  0.00  \n",
       "2      Boosting Ensemble         UCB       120  0.842993  0.027852  0.02  \n",
       "3                    DKL      GREEDY       120  0.758989  0.023827  0.02  \n",
       "4                    DKL          TS       120  0.789997  0.021010  0.00  \n",
       "...                  ...         ...       ...       ...       ...   ...  \n",
       "33765       DNN Ensemble      GREEDY      1652  1.000000  0.000000  1.00  \n",
       "33766             Random      GREEDY      1652  0.993217  0.000423  0.16  \n",
       "33767  Boosting Ensemble      GREEDY      1792  0.800478  0.000000  0.00  \n",
       "33768       DNN Ensemble      GREEDY      1792  0.914842  0.013968  0.56  \n",
       "33769             Random      GREEDY      1792  0.705483  0.011797  0.02  \n",
       "\n",
       "[33770 rows x 12 columns]"
      ]
     },
     "execution_count": 4,
     "metadata": {},
     "output_type": "execute_result"
    }
   ],
   "source": [
    "alde_df = pd.read_csv(\"/disk2/fli/SSMuLA/results/alde/alde_all.csv\")\n",
    "alde_df"
   ]
  },
  {
   "cell_type": "code",
   "execution_count": 16,
   "metadata": {},
   "outputs": [],
   "source": [
    "alde_df[\n",
    "    (alde_df[\"rounds\"].isin([2, 3, 4]))\n",
    "    & (alde_df[\"Model\"].isin([\"Boosting Ensemble\", \"DNN Ensemble\"]))\n",
    "    & (alde_df[\"Acquisition\"] == \"GREEDY\")\n",
    "].rename(\n",
    "    columns={\n",
    "        \"Protein\": \"lib\",\n",
    "        \"Mean\": \"top_maxes_mean\",\n",
    "        \"Std\": \"top_maxes_std\",\n",
    "        \"Frac\": \"if_truemaxs_mean\",\n",
    "        \"Encoding\": \"encoding\",\n",
    "        \"Model\": \"model\",\n",
    "        \"n_samples\": \"n_sample\",\n",
    "    }\n",
    ")[\n",
    "    [\n",
    "        \"encoding\",\n",
    "        \"model\",\n",
    "        \"n_sample\",\n",
    "        \"top_maxes_mean\",\n",
    "        \"top_maxes_std\",\n",
    "        \"if_truemaxs_mean\",\n",
    "        \"n_mut_cutoff\",\n",
    "        \"lib\",\n",
    "        \"zs\",\n",
    "        \"rounds\",\n",
    "    ]\n",
    "].reset_index(drop=True).to_csv(\"/disk2/fli/SSMuLA/results/alde/alde_results.csv\")"
   ]
  },
  {
   "cell_type": "code",
   "execution_count": null,
   "metadata": {},
   "outputs": [],
   "source": []
  }
 ],
 "metadata": {
  "kernelspec": {
   "display_name": "SSMuLA",
   "language": "python",
   "name": "python3"
  },
  "language_info": {
   "codemirror_mode": {
    "name": "ipython",
    "version": 3
   },
   "file_extension": ".py",
   "mimetype": "text/x-python",
   "name": "python",
   "nbconvert_exporter": "python",
   "pygments_lexer": "ipython3",
   "version": "3.10.14"
  }
 },
 "nbformat": 4,
 "nbformat_minor": 2
}
