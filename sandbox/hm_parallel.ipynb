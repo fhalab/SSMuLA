{
 "cells": [
  {
   "cell_type": "code",
   "execution_count": 1,
   "metadata": {},
   "outputs": [
    {
     "name": "stdout",
     "output_type": "stream",
     "text": [
      "/disk2/fli/SSMuLA\n"
     ]
    }
   ],
   "source": [
    "%cd ~/SSMuLA"
   ]
  },
  {
   "cell_type": "code",
   "execution_count": 2,
   "metadata": {},
   "outputs": [],
   "source": [
    "%load_ext autoreload\n",
    "%autoreload 2\n",
    "%load_ext blackcellmagic"
   ]
  },
  {
   "cell_type": "code",
   "execution_count": 3,
   "metadata": {},
   "outputs": [],
   "source": [
    "import pandas as pd\n",
    "import numpy as np\n",
    "\n",
    "from tqdm import tqdm\n",
    "\n",
    "import matplotlib.pyplot as plt\n",
    "\n",
    "from SSMuLA.landscape_global import hamming"
   ]
  },
  {
   "cell_type": "code",
   "execution_count": 4,
   "metadata": {},
   "outputs": [],
   "source": [
    "import numpy as np\n",
    "from concurrent.futures import ProcessPoolExecutor, as_completed\n",
    "from tqdm import tqdm\n",
    "\n",
    "# Suppose the hamming function and df are defined elsewhere\n",
    "# def hamming(str1, str2):\n",
    "#     # Assuming a simple Hamming distance function for demonstration\n",
    "#     return sum(c1 != c2 for c1, c2 in zip(str1, str2))\n",
    "\n",
    "def process_aa(aa, all_aas, all_fitnesses):\n",
    "    hm2_fits = []\n",
    "    for aa2, fitness in zip(all_aas, all_fitnesses):\n",
    "        if hamming(aa, aa2) > 2:\n",
    "            continue\n",
    "        hm2_fits.append(fitness)\n",
    "    return aa, np.mean(hm2_fits), np.std(hm2_fits)\n",
    "\n",
    "def main(csv_path):\n",
    "    # Convert DataFrame columns to lists to avoid repeated data access overhead\n",
    "\n",
    "    df = pd.read_csv(csv_path)\n",
    "    all_aas = df[\"AAs\"].tolist()\n",
    "    all_fitnesses = df.loc[df[\"AAs\"].isin(all_aas), \"fitness\"].tolist()\n",
    "\n",
    "    hm2_dict = {}\n",
    "    with ProcessPoolExecutor() as executor:\n",
    "        futures = [executor.submit(process_aa, aa, all_aas, all_fitnesses) for aa in all_aas]\n",
    "        for future in tqdm(as_completed(futures), total=len(futures)):\n",
    "            aa, mean, std = future.result()\n",
    "            hm2_dict[aa] = {'mean': mean, 'std': std}\n",
    "\n",
    "    return hm2_dict\n",
    "\n",
    "# Call main function with your DataFrame\n",
    "# result_dict = main(df)\n"
   ]
  },
  {
   "cell_type": "code",
   "execution_count": 5,
   "metadata": {},
   "outputs": [
    {
     "name": "stderr",
     "output_type": "stream",
     "text": [
      "100%|██████████| 149361/149361 [30:18<00:00, 82.12it/s]\n"
     ]
    }
   ],
   "source": [
    "gb1_dict = main('data/GB1/scale2max/GB1.csv')"
   ]
  },
  {
   "cell_type": "code",
   "execution_count": 15,
   "metadata": {},
   "outputs": [
    {
     "data": {
      "text/html": [
       "<div>\n",
       "<style scoped>\n",
       "    .dataframe tbody tr th:only-of-type {\n",
       "        vertical-align: middle;\n",
       "    }\n",
       "\n",
       "    .dataframe tbody tr th {\n",
       "        vertical-align: top;\n",
       "    }\n",
       "\n",
       "    .dataframe thead th {\n",
       "        text-align: right;\n",
       "    }\n",
       "</style>\n",
       "<table border=\"1\" class=\"dataframe\">\n",
       "  <thead>\n",
       "    <tr style=\"text-align: right;\">\n",
       "      <th></th>\n",
       "      <th>mean</th>\n",
       "      <th>std</th>\n",
       "    </tr>\n",
       "  </thead>\n",
       "  <tbody>\n",
       "    <tr>\n",
       "      <th>ADGF</th>\n",
       "      <td>0.027890</td>\n",
       "      <td>0.066333</td>\n",
       "    </tr>\n",
       "    <tr>\n",
       "      <th>CDGC</th>\n",
       "      <td>0.037786</td>\n",
       "      <td>0.076738</td>\n",
       "    </tr>\n",
       "    <tr>\n",
       "      <th>DDYV</th>\n",
       "      <td>0.002945</td>\n",
       "      <td>0.013583</td>\n",
       "    </tr>\n",
       "    <tr>\n",
       "      <th>VDCV</th>\n",
       "      <td>0.022478</td>\n",
       "      <td>0.070514</td>\n",
       "    </tr>\n",
       "    <tr>\n",
       "      <th>CRGV</th>\n",
       "      <td>0.034233</td>\n",
       "      <td>0.073835</td>\n",
       "    </tr>\n",
       "    <tr>\n",
       "      <th>...</th>\n",
       "      <td>...</td>\n",
       "      <td>...</td>\n",
       "    </tr>\n",
       "    <tr>\n",
       "      <th>YYYR</th>\n",
       "      <td>0.006333</td>\n",
       "      <td>0.039915</td>\n",
       "    </tr>\n",
       "    <tr>\n",
       "      <th>YYYS</th>\n",
       "      <td>0.012146</td>\n",
       "      <td>0.052246</td>\n",
       "    </tr>\n",
       "    <tr>\n",
       "      <th>YYYT</th>\n",
       "      <td>0.016801</td>\n",
       "      <td>0.056238</td>\n",
       "    </tr>\n",
       "    <tr>\n",
       "      <th>YYYW</th>\n",
       "      <td>0.007673</td>\n",
       "      <td>0.042938</td>\n",
       "    </tr>\n",
       "    <tr>\n",
       "      <th>YYYY</th>\n",
       "      <td>0.006850</td>\n",
       "      <td>0.040444</td>\n",
       "    </tr>\n",
       "  </tbody>\n",
       "</table>\n",
       "<p>149361 rows × 2 columns</p>\n",
       "</div>"
      ],
      "text/plain": [
       "          mean       std\n",
       "ADGF  0.027890  0.066333\n",
       "CDGC  0.037786  0.076738\n",
       "DDYV  0.002945  0.013583\n",
       "VDCV  0.022478  0.070514\n",
       "CRGV  0.034233  0.073835\n",
       "...        ...       ...\n",
       "YYYR  0.006333  0.039915\n",
       "YYYS  0.012146  0.052246\n",
       "YYYT  0.016801  0.056238\n",
       "YYYW  0.007673  0.042938\n",
       "YYYY  0.006850  0.040444\n",
       "\n",
       "[149361 rows x 2 columns]"
      ]
     },
     "execution_count": 15,
     "metadata": {},
     "output_type": "execute_result"
    }
   ],
   "source": [
    "pd.DataFrame.from_dict(gb1_dict, orient='index')"
   ]
  },
  {
   "cell_type": "code",
   "execution_count": 6,
   "metadata": {},
   "outputs": [
    {
     "data": {
      "text/html": [
       "<div>\n",
       "<style scoped>\n",
       "    .dataframe tbody tr th:only-of-type {\n",
       "        vertical-align: middle;\n",
       "    }\n",
       "\n",
       "    .dataframe tbody tr th {\n",
       "        vertical-align: top;\n",
       "    }\n",
       "\n",
       "    .dataframe thead th {\n",
       "        text-align: right;\n",
       "    }\n",
       "</style>\n",
       "<table border=\"1\" class=\"dataframe\">\n",
       "  <thead>\n",
       "    <tr style=\"text-align: right;\">\n",
       "      <th></th>\n",
       "      <th>mean</th>\n",
       "      <th>std</th>\n",
       "    </tr>\n",
       "    <tr>\n",
       "      <th>aa</th>\n",
       "      <th></th>\n",
       "      <th></th>\n",
       "    </tr>\n",
       "  </thead>\n",
       "  <tbody>\n",
       "    <tr>\n",
       "      <th>ADGF</th>\n",
       "      <td>0.027890</td>\n",
       "      <td>0.066333</td>\n",
       "    </tr>\n",
       "    <tr>\n",
       "      <th>CDGC</th>\n",
       "      <td>0.037786</td>\n",
       "      <td>0.076738</td>\n",
       "    </tr>\n",
       "    <tr>\n",
       "      <th>DDYV</th>\n",
       "      <td>0.002945</td>\n",
       "      <td>0.013583</td>\n",
       "    </tr>\n",
       "    <tr>\n",
       "      <th>VDCV</th>\n",
       "      <td>0.022478</td>\n",
       "      <td>0.070514</td>\n",
       "    </tr>\n",
       "    <tr>\n",
       "      <th>CRGV</th>\n",
       "      <td>0.034233</td>\n",
       "      <td>0.073835</td>\n",
       "    </tr>\n",
       "    <tr>\n",
       "      <th>...</th>\n",
       "      <td>...</td>\n",
       "      <td>...</td>\n",
       "    </tr>\n",
       "    <tr>\n",
       "      <th>YYYR</th>\n",
       "      <td>0.006333</td>\n",
       "      <td>0.039915</td>\n",
       "    </tr>\n",
       "    <tr>\n",
       "      <th>YYYS</th>\n",
       "      <td>0.012146</td>\n",
       "      <td>0.052246</td>\n",
       "    </tr>\n",
       "    <tr>\n",
       "      <th>YYYT</th>\n",
       "      <td>0.016801</td>\n",
       "      <td>0.056238</td>\n",
       "    </tr>\n",
       "    <tr>\n",
       "      <th>YYYW</th>\n",
       "      <td>0.007673</td>\n",
       "      <td>0.042938</td>\n",
       "    </tr>\n",
       "    <tr>\n",
       "      <th>YYYY</th>\n",
       "      <td>0.006850</td>\n",
       "      <td>0.040444</td>\n",
       "    </tr>\n",
       "  </tbody>\n",
       "</table>\n",
       "<p>149361 rows × 2 columns</p>\n",
       "</div>"
      ],
      "text/plain": [
       "          mean       std\n",
       "aa                      \n",
       "ADGF  0.027890  0.066333\n",
       "CDGC  0.037786  0.076738\n",
       "DDYV  0.002945  0.013583\n",
       "VDCV  0.022478  0.070514\n",
       "CRGV  0.034233  0.073835\n",
       "...        ...       ...\n",
       "YYYR  0.006333  0.039915\n",
       "YYYS  0.012146  0.052246\n",
       "YYYT  0.016801  0.056238\n",
       "YYYW  0.007673  0.042938\n",
       "YYYY  0.006850  0.040444\n",
       "\n",
       "[149361 rows x 2 columns]"
      ]
     },
     "execution_count": 6,
     "metadata": {},
     "output_type": "execute_result"
    }
   ],
   "source": [
    "mean_df = pd.DataFrame.from_dict(gb1_dict, orient='index')\n",
    "\n",
    "# Set the index name to 'aa'\n",
    "mean_df.index.name = 'aa'\n",
    "mean_df"
   ]
  },
  {
   "cell_type": "code",
   "execution_count": 16,
   "metadata": {},
   "outputs": [],
   "source": [
    "mean_df.to_csv('results/hd/GB1.csv')"
   ]
  },
  {
   "cell_type": "code",
   "execution_count": 8,
   "metadata": {},
   "outputs": [],
   "source": [
    "import seaborn as sns"
   ]
  },
  {
   "cell_type": "code",
   "execution_count": 12,
   "metadata": {},
   "outputs": [
    {
     "data": {
      "text/plain": [
       "0.035159396666492766"
      ]
     },
     "execution_count": 12,
     "metadata": {},
     "output_type": "execute_result"
    }
   ],
   "source": [
    "mean_df.loc['VDGV'][\"mean\"]"
   ]
  },
  {
   "cell_type": "code",
   "execution_count": 13,
   "metadata": {},
   "outputs": [],
   "source": [
    "%matplotlib inline"
   ]
  },
  {
   "cell_type": "code",
   "execution_count": 14,
   "metadata": {},
   "outputs": [
    {
     "data": {
      "image/png": "[encoded data removed]",
      "text/plain": [
       "<Figure size 800x600 with 1 Axes>"
      ]
     },
     "metadata": {},
     "output_type": "display_data"
    }
   ],
   "source": [
    "# Create the violin plot\n",
    "plt.figure(figsize=(8, 6))  # Set the figure size\n",
    "ax = sns.violinplot(mean_df[\"mean\"])\n",
    "\n",
    "# Add a horizontal line at the mean of the 'mean' column\n",
    "# mean_value = mean_df[\"mean\"].mean()\n",
    "ax.axhline(mean_df.loc['VDGV'][\"mean\"], color='r', linestyle='--', linewidth=2)\n",
    "\n",
    "# Add annotations or labels (optional)\n",
    "# ax.text(0.5, mean_value, f'Mean: {mean_value:.2f}', color='black', ha='left', va='center')\n",
    "\n",
    "# Show the plot\n",
    "plt.show()\n"
   ]
  },
  {
   "cell_type": "code",
   "execution_count": 9,
   "metadata": {},
   "outputs": [
    {
     "data": {
      "text/plain": [
       "<Axes: ylabel='mean'>"
      ]
     },
     "execution_count": 9,
     "metadata": {},
     "output_type": "execute_result"
    },
    {
     "data": {
      "image/png": "[encoded data removed]",
      "text/plain": [
       "<Figure size 640x480 with 1 Axes>"
      ]
     },
     "metadata": {},
     "output_type": "display_data"
    }
   ],
   "source": [
    "sns.violinplot(mean_df[\"mean\"])\n"
   ]
  },
  {
   "cell_type": "code",
   "execution_count": null,
   "metadata": {},
   "outputs": [],
   "source": []
  }
 ],
 "metadata": {
  "kernelspec": {
   "display_name": "SSMuLA",
   "language": "python",
   "name": "python3"
  },
  "language_info": {
   "codemirror_mode": {
    "name": "ipython",
    "version": 3
   },
   "file_extension": ".py",
   "mimetype": "text/x-python",
   "name": "python",
   "nbconvert_exporter": "python",
   "pygments_lexer": "ipython3",
   "version": "3.10.14"
  }
 },
 "nbformat": 4,
 "nbformat_minor": 2
}
