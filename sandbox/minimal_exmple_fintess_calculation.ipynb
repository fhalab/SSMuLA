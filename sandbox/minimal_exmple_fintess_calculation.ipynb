{
 "cells": [
  {
   "cell_type": "code",
   "execution_count": 5,
   "metadata": {
    "vscode": {
     "languageId": "r"
    }
   },
   "outputs": [],
   "source": [
    "# Set the working directory to a specific path\n",
    "setwd(\"~/SSMuLA\")"
   ]
  },
  {
   "cell_type": "code",
   "execution_count": 1,
   "metadata": {
    "vscode": {
     "languageId": "r"
    }
   },
   "outputs": [
    {
     "name": "stderr",
     "output_type": "stream",
     "text": [
      "Warning message:\n",
      "“package ‘tidyr’ was built under R version 4.3.2”\n",
      "Warning message:\n",
      "“package ‘readr’ was built under R version 4.3.2”\n",
      "Warning message:\n",
      "“package ‘dplyr’ was built under R version 4.3.2”\n",
      "Warning message:\n",
      "“package ‘stringr’ was built under R version 4.3.2”\n",
      "── \u001b[1mAttaching core tidyverse packages\u001b[22m ──────────────────────── tidyverse 2.0.0 ──\n",
      "\u001b[32m✔\u001b[39m \u001b[34mdplyr    \u001b[39m 1.1.4     \u001b[32m✔\u001b[39m \u001b[34mreadr    \u001b[39m 2.1.5\n",
      "\u001b[32m✔\u001b[39m \u001b[34mforcats  \u001b[39m 1.0.0     \u001b[32m✔\u001b[39m \u001b[34mstringr  \u001b[39m 1.5.1\n",
      "\u001b[32m✔\u001b[39m \u001b[34mggplot2  \u001b[39m 3.4.4     \u001b[32m✔\u001b[39m \u001b[34mtibble   \u001b[39m 3.2.1\n",
      "\u001b[32m✔\u001b[39m \u001b[34mlubridate\u001b[39m 1.9.3     \u001b[32m✔\u001b[39m \u001b[34mtidyr    \u001b[39m 1.3.1\n",
      "\u001b[32m✔\u001b[39m \u001b[34mpurrr    \u001b[39m 1.0.2     \n",
      "── \u001b[1mConflicts\u001b[22m ────────────────────────────────────────── tidyverse_conflicts() ──\n",
      "\u001b[31m✖\u001b[39m \u001b[34mdplyr\u001b[39m::\u001b[32mfilter()\u001b[39m masks \u001b[34mstats\u001b[39m::filter()\n",
      "\u001b[31m✖\u001b[39m \u001b[34mdplyr\u001b[39m::\u001b[32mlag()\u001b[39m    masks \u001b[34mstats\u001b[39m::lag()\n",
      "\u001b[36mℹ\u001b[39m Use the conflicted package (\u001b[3m\u001b[34m<http://conflicted.r-lib.org/>\u001b[39m\u001b[23m) to force all conflicts to become errors\n",
      "Warning message:\n",
      "“package ‘Biostrings’ was built under R version 4.3.2”\n",
      "Loading required package: BiocGenerics\n",
      "\n",
      "Warning message:\n",
      "“package ‘BiocGenerics’ was built under R version 4.3.2”\n",
      "\n",
      "Attaching package: ‘BiocGenerics’\n",
      "\n",
      "\n",
      "The following objects are masked from ‘package:lubridate’:\n",
      "\n",
      "    intersect, setdiff, union\n",
      "\n",
      "\n",
      "The following objects are masked from ‘package:dplyr’:\n",
      "\n",
      "    combine, intersect, setdiff, union\n",
      "\n",
      "\n",
      "The following objects are masked from ‘package:stats’:\n",
      "\n",
      "    IQR, mad, sd, var, xtabs\n",
      "\n",
      "\n",
      "The following objects are masked from ‘package:base’:\n",
      "\n",
      "    anyDuplicated, aperm, append, as.data.frame, basename, cbind,\n",
      "    colnames, dirname, do.call, duplicated, eval, evalq, Filter, Find,\n",
      "    get, grep, grepl, intersect, is.unsorted, lapply, Map, mapply,\n",
      "    match, mget, order, paste, pmax, pmax.int, pmin, pmin.int,\n",
      "    Position, rank, rbind, Reduce, rownames, sapply, setdiff, sort,\n",
      "    table, tapply, union, unique, unsplit, which.max, which.min\n",
      "\n",
      "\n",
      "Loading required package: S4Vectors\n",
      "\n",
      "Warning message:\n",
      "“package ‘S4Vectors’ was built under R version 4.3.2”\n",
      "Loading required package: stats4\n",
      "\n",
      "\n",
      "Attaching package: ‘S4Vectors’\n",
      "\n",
      "\n",
      "The following objects are masked from ‘package:lubridate’:\n",
      "\n",
      "    second, second<-\n",
      "\n",
      "\n",
      "The following objects are masked from ‘package:dplyr’:\n",
      "\n",
      "    first, rename\n",
      "\n",
      "\n",
      "The following object is masked from ‘package:tidyr’:\n",
      "\n",
      "    expand\n",
      "\n",
      "\n",
      "The following object is masked from ‘package:utils’:\n",
      "\n",
      "    findMatches\n",
      "\n",
      "\n",
      "The following objects are masked from ‘package:base’:\n",
      "\n",
      "    expand.grid, I, unname\n",
      "\n",
      "\n",
      "Loading required package: IRanges\n",
      "\n",
      "Warning message:\n",
      "“package ‘IRanges’ was built under R version 4.3.2”\n",
      "\n",
      "Attaching package: ‘IRanges’\n",
      "\n",
      "\n",
      "The following object is masked from ‘package:lubridate’:\n",
      "\n",
      "    %within%\n",
      "\n",
      "\n",
      "The following objects are masked from ‘package:dplyr’:\n",
      "\n",
      "    collapse, desc, slice\n",
      "\n",
      "\n",
      "The following object is masked from ‘package:purrr’:\n",
      "\n",
      "    reduce\n",
      "\n",
      "\n",
      "Loading required package: XVector\n",
      "\n",
      "Warning message:\n",
      "“package ‘XVector’ was built under R version 4.3.2”\n",
      "\n",
      "Attaching package: ‘XVector’\n",
      "\n",
      "\n",
      "The following object is masked from ‘package:purrr’:\n",
      "\n",
      "    compact\n",
      "\n",
      "\n",
      "Loading required package: GenomeInfoDb\n",
      "\n",
      "Warning message:\n",
      "“package ‘GenomeInfoDb’ was built under R version 4.3.2”\n",
      "\n",
      "Attaching package: ‘Biostrings’\n",
      "\n",
      "\n",
      "The following object is masked from ‘package:base’:\n",
      "\n",
      "    strsplit\n",
      "\n",
      "\n"
     ]
    }
   ],
   "source": [
    "library(tidyverse)\n",
    "library(Biostrings)"
   ]
  },
  {
   "cell_type": "code",
   "execution_count": 6,
   "metadata": {
    "vscode": {
     "languageId": "r"
    }
   },
   "outputs": [
    {
     "name": "stdout",
     "output_type": "stream",
     "text": [
      "List of 2\n",
      " $ before: int [1:6, 1:261378] 35613 27972 30530 25930 28702 22740 1796 1352 1398 1206 ...\n",
      "  ..- attr(*, \"dimnames\")=List of 2\n",
      "  .. ..$ : chr [1:6] \"Sample_F01\" \"Sample_F02\" \"Sample_F03\" \"Sample_F04\" ...\n",
      "  .. ..$ : chr [1:261378] \"GCGGTAGATCGCGTTATCGGCATGGAAAACGCCATGCCGTGGAACCTGCCTGCCGATCTCGCCTGGTTTAAACGCAACACCTTAAATAAACCCGTGATTATGGGCCGCCATACC\" \"GCGGTAGATCGCGTTATCGGCATGGAAAACGCCATGCCGTGGAACCTGCCTACCGATCTCGCCTGGTTTAAACGCAACACCTTAAATAAACCCGTGATTATGGGCCGCCATACC\" \"GCGGTAGATCGCGTTATCGGCATGGAAAACGCCATGCCGTGGAACCTGCCTGAAAATTAAGCCTGGTTTAAACGCAACACCTTAAATAAACCCGTGATTATGGGCCGCCATACC\" \"GCGGTAGATCGCGTTATCGGCATGGAAAACGCCATGCCGTGGAACCTGCCTAAAATTTGAGCCTGGTTTAAACGCAACACCTTAAATAAACCCGTGATTATGGGCCGCCATACC\" ...\n",
      " $ M9+TMP: int [1:6, 1:261333] 42405 39138 46575 35291 52112 28608 40852 39453 46503 34711 ...\n",
      "  ..- attr(*, \"dimnames\")=List of 2\n",
      "  .. ..$ : chr [1:6] \"Sample_F01\" \"Sample_F02\" \"Sample_F03\" \"Sample_F04\" ...\n",
      "  .. ..$ : chr [1:261333] \"GCGGTAGATCGCGTTATCGGCATGGAAAACGCCATGCCGTGGAACCTGCCTGATGAAATGGCCTGGTTTAAACGCAACACCTTAAATAAACCCGTGATTATGGGCCGCCATACC\" \"GCGGTAGATCGCGTTATCGGCATGGAAAACGCCATGCCGTGGAACCTGCCTTATGAAATGGCCTGGTTTAAACGCAACACCTTAAATAAACCCGTGATTATGGGCCGCCATACC\" \"GCGGTAGATCGCGTTATCGGCATGGAAAACGCCATGCCGTGGAACCTGCCTGACGAAATGGCCTGGTTTAAACGCAACACCTTAAATAAACCCGTGATTATGGGCCGCCATACC\" \"GCGGTAGATCGCGTTATCGGCATGGAAAACGCCATGCCGTGGAACCTGCCTTATGACCAAGCCTGGTTTAAACGCAACACCTTAAATAAACCCGTGATTATGGGCCGCCATACC\" ...\n"
     ]
    }
   ],
   "source": [
    "## read in the count data\n",
    "readRDS(\"data/sequence_reads_counts.RDS\") -> count_data\n",
    "\n",
    "str(count_data)"
   ]
  },
  {
   "cell_type": "code",
   "execution_count": 7,
   "metadata": {
    "vscode": {
     "languageId": "r"
    }
   },
   "outputs": [
    {
     "data": {
      "text/html": [
       "<style>\n",
       ".list-inline {list-style: none; margin:0; padding: 0}\n",
       ".list-inline>li {display: inline-block}\n",
       ".list-inline>li:not(:last-child)::after {content: \"\\00b7\"; padding: 0 .5ex}\n",
       "</style>\n",
       "<ol class=list-inline><li>'matrix'</li><li>'array'</li></ol>\n"
      ],
      "text/latex": [
       "\\begin{enumerate*}\n",
       "\\item 'matrix'\n",
       "\\item 'array'\n",
       "\\end{enumerate*}\n"
      ],
      "text/markdown": [
       "1. 'matrix'\n",
       "2. 'array'\n",
       "\n",
       "\n"
      ],
      "text/plain": [
       "[1] \"matrix\" \"array\" "
      ]
     },
     "metadata": {},
     "output_type": "display_data"
    },
    {
     "data": {
      "text/html": [
       "<style>\n",
       ".list-inline {list-style: none; margin:0; padding: 0}\n",
       ".list-inline>li {display: inline-block}\n",
       ".list-inline>li:not(:last-child)::after {content: \"\\00b7\"; padding: 0 .5ex}\n",
       "</style>\n",
       "<ol class=list-inline><li>6</li><li>261378</li></ol>\n"
      ],
      "text/latex": [
       "\\begin{enumerate*}\n",
       "\\item 6\n",
       "\\item 261378\n",
       "\\end{enumerate*}\n"
      ],
      "text/markdown": [
       "1. 6\n",
       "2. 261378\n",
       "\n",
       "\n"
      ],
      "text/plain": [
       "[1]      6 261378"
      ]
     },
     "metadata": {},
     "output_type": "display_data"
    }
   ],
   "source": [
    "class(count_data$before)\n",
    "dim(count_data$before)\n",
    "\n",
    "write.csv(count_data$before, file = \"data/before.csv\")\n",
    "write.csv(count_data$\"M9+TMP\", file = \"data/after.csv\")"
   ]
  },
  {
   "cell_type": "code",
   "execution_count": 73,
   "metadata": {
    "vscode": {
     "languageId": "r"
    }
   },
   "outputs": [
    {
     "data": {
      "text/html": [
       "<table class=\"dataframe\">\n",
       "<caption>A data.frame: 6 × 7</caption>\n",
       "<thead>\n",
       "\t<tr><th></th><th scope=col>codon1</th><th scope=col>aa1</th><th scope=col>codon2</th><th scope=col>aa2</th><th scope=col>codon3</th><th scope=col>aa3</th><th scope=col>SV</th></tr>\n",
       "\t<tr><th></th><th scope=col>&lt;chr&gt;</th><th scope=col>&lt;chr&gt;</th><th scope=col>&lt;chr&gt;</th><th scope=col>&lt;chr&gt;</th><th scope=col>&lt;chr&gt;</th><th scope=col>&lt;chr&gt;</th><th scope=col>&lt;chr&gt;</th></tr>\n",
       "</thead>\n",
       "<tbody>\n",
       "\t<tr><th scope=row>1</th><td>TTT</td><td>F</td><td>TTT</td><td>F</td><td>TTT</td><td>F</td><td>TTTTTTTTT</td></tr>\n",
       "\t<tr><th scope=row>2</th><td>TTT</td><td>F</td><td>TTT</td><td>F</td><td>TTC</td><td>F</td><td>TTTTTTTTC</td></tr>\n",
       "\t<tr><th scope=row>3</th><td>TTT</td><td>F</td><td>TTT</td><td>F</td><td>TTA</td><td>L</td><td>TTTTTTTTA</td></tr>\n",
       "\t<tr><th scope=row>4</th><td>TTT</td><td>F</td><td>TTT</td><td>F</td><td>TTG</td><td>L</td><td>TTTTTTTTG</td></tr>\n",
       "\t<tr><th scope=row>5</th><td>TTT</td><td>F</td><td>TTT</td><td>F</td><td>TCT</td><td>S</td><td>TTTTTTTCT</td></tr>\n",
       "\t<tr><th scope=row>6</th><td>TTT</td><td>F</td><td>TTT</td><td>F</td><td>TCC</td><td>S</td><td>TTTTTTTCC</td></tr>\n",
       "</tbody>\n",
       "</table>\n"
      ],
      "text/latex": [
       "A data.frame: 6 × 7\n",
       "\\begin{tabular}{r|lllllll}\n",
       "  & codon1 & aa1 & codon2 & aa2 & codon3 & aa3 & SV\\\\\n",
       "  & <chr> & <chr> & <chr> & <chr> & <chr> & <chr> & <chr>\\\\\n",
       "\\hline\n",
       "\t1 & TTT & F & TTT & F & TTT & F & TTTTTTTTT\\\\\n",
       "\t2 & TTT & F & TTT & F & TTC & F & TTTTTTTTC\\\\\n",
       "\t3 & TTT & F & TTT & F & TTA & L & TTTTTTTTA\\\\\n",
       "\t4 & TTT & F & TTT & F & TTG & L & TTTTTTTTG\\\\\n",
       "\t5 & TTT & F & TTT & F & TCT & S & TTTTTTTCT\\\\\n",
       "\t6 & TTT & F & TTT & F & TCC & S & TTTTTTTCC\\\\\n",
       "\\end{tabular}\n"
      ],
      "text/markdown": [
       "\n",
       "A data.frame: 6 × 7\n",
       "\n",
       "| <!--/--> | codon1 &lt;chr&gt; | aa1 &lt;chr&gt; | codon2 &lt;chr&gt; | aa2 &lt;chr&gt; | codon3 &lt;chr&gt; | aa3 &lt;chr&gt; | SV &lt;chr&gt; |\n",
       "|---|---|---|---|---|---|---|---|\n",
       "| 1 | TTT | F | TTT | F | TTT | F | TTTTTTTTT |\n",
       "| 2 | TTT | F | TTT | F | TTC | F | TTTTTTTTC |\n",
       "| 3 | TTT | F | TTT | F | TTA | L | TTTTTTTTA |\n",
       "| 4 | TTT | F | TTT | F | TTG | L | TTTTTTTTG |\n",
       "| 5 | TTT | F | TTT | F | TCT | S | TTTTTTTCT |\n",
       "| 6 | TTT | F | TTT | F | TCC | S | TTTTTTTCC |\n",
       "\n"
      ],
      "text/plain": [
       "  codon1 aa1 codon2 aa2 codon3 aa3 SV       \n",
       "1 TTT    F   TTT    F   TTT    F   TTTTTTTTT\n",
       "2 TTT    F   TTT    F   TTC    F   TTTTTTTTC\n",
       "3 TTT    F   TTT    F   TTA    L   TTTTTTTTA\n",
       "4 TTT    F   TTT    F   TTG    L   TTTTTTTTG\n",
       "5 TTT    F   TTT    F   TCT    S   TTTTTTTCT\n",
       "6 TTT    F   TTT    F   TCC    S   TTTTTTTCC"
      ]
     },
     "metadata": {},
     "output_type": "display_data"
    }
   ],
   "source": [
    "library(Biostrings)\n",
    "\n",
    "gcode = \n",
    "        data.frame(codon1=names(GENETIC_CODE),\n",
    "                   aa1=GENETIC_CODE) %>% \n",
    "            full_join(.,\n",
    "                     data.frame(codon2=names(GENETIC_CODE),\n",
    "                                aa2=GENETIC_CODE),\n",
    "                     by = character()) %>% \n",
    "            full_join(.,\n",
    "                     data.frame(codon3=names(GENETIC_CODE),\n",
    "                                aa3=GENETIC_CODE),\n",
    "                     by = character()) %>% \n",
    "            mutate(SV=paste(codon1,codon2,codon3,sep=\"\")) \n",
    " head(gcode)           \n"
   ]
  },
  {
   "cell_type": "code",
   "execution_count": 74,
   "metadata": {
    "vscode": {
     "languageId": "r"
    }
   },
   "outputs": [
    {
     "data": {
      "text/html": [
       "<table class=\"dataframe\">\n",
       "<caption>A data.frame: 6 × 8</caption>\n",
       "<thead>\n",
       "\t<tr><th></th><th scope=col>SV</th><th scope=col>SVseq</th><th scope=col>codon1</th><th scope=col>aa1</th><th scope=col>codon2</th><th scope=col>aa2</th><th scope=col>codon3</th><th scope=col>aa3</th></tr>\n",
       "\t<tr><th></th><th scope=col>&lt;chr&gt;</th><th scope=col>&lt;chr&gt;</th><th scope=col>&lt;chr&gt;</th><th scope=col>&lt;chr&gt;</th><th scope=col>&lt;chr&gt;</th><th scope=col>&lt;chr&gt;</th><th scope=col>&lt;chr&gt;</th><th scope=col>&lt;chr&gt;</th></tr>\n",
       "</thead>\n",
       "<tbody>\n",
       "\t<tr><th scope=row>1</th><td>GCCGATCTC</td><td>GCGGTAGATCGCGTTATCGGCATGGAAAACGCCATGCCGTGGAACCTGCCTGCCGATCTCGCCTGGTTTAAACGCAACACCTTAAATAAACCCGTGATTATGGGCCGCCATACC</td><td>GCC</td><td>A</td><td>GAT</td><td>D</td><td>CTC</td><td>L</td></tr>\n",
       "\t<tr><th scope=row>2</th><td>ACCGATCTC</td><td>GCGGTAGATCGCGTTATCGGCATGGAAAACGCCATGCCGTGGAACCTGCCTACCGATCTCGCCTGGTTTAAACGCAACACCTTAAATAAACCCGTGATTATGGGCCGCCATACC</td><td>ACC</td><td>T</td><td>GAT</td><td>D</td><td>CTC</td><td>L</td></tr>\n",
       "\t<tr><th scope=row>3</th><td>GAAAATTAA</td><td>GCGGTAGATCGCGTTATCGGCATGGAAAACGCCATGCCGTGGAACCTGCCTGAAAATTAAGCCTGGTTTAAACGCAACACCTTAAATAAACCCGTGATTATGGGCCGCCATACC</td><td>GAA</td><td>E</td><td>AAT</td><td>N</td><td>TAA</td><td>*</td></tr>\n",
       "\t<tr><th scope=row>4</th><td>AAAATTTGA</td><td>GCGGTAGATCGCGTTATCGGCATGGAAAACGCCATGCCGTGGAACCTGCCTAAAATTTGAGCCTGGTTTAAACGCAACACCTTAAATAAACCCGTGATTATGGGCCGCCATACC</td><td>AAA</td><td>K</td><td>ATT</td><td>I</td><td>TGA</td><td>*</td></tr>\n",
       "\t<tr><th scope=row>5</th><td>AAAAAATGA</td><td>GCGGTAGATCGCGTTATCGGCATGGAAAACGCCATGCCGTGGAACCTGCCTAAAAAATGAGCCTGGTTTAAACGCAACACCTTAAATAAACCCGTGATTATGGGCCGCCATACC</td><td>AAA</td><td>K</td><td>AAA</td><td>K</td><td>TGA</td><td>*</td></tr>\n",
       "\t<tr><th scope=row>6</th><td>AAATAAAAT</td><td>GCGGTAGATCGCGTTATCGGCATGGAAAACGCCATGCCGTGGAACCTGCCTAAATAAAATGCCTGGTTTAAACGCAACACCTTAAATAAACCCGTGATTATGGGCCGCCATACC</td><td>AAA</td><td>K</td><td>TAA</td><td>*</td><td>AAT</td><td>N</td></tr>\n",
       "</tbody>\n",
       "</table>\n"
      ],
      "text/latex": [
       "A data.frame: 6 × 8\n",
       "\\begin{tabular}{r|llllllll}\n",
       "  & SV & SVseq & codon1 & aa1 & codon2 & aa2 & codon3 & aa3\\\\\n",
       "  & <chr> & <chr> & <chr> & <chr> & <chr> & <chr> & <chr> & <chr>\\\\\n",
       "\\hline\n",
       "\t1 & GCCGATCTC & GCGGTAGATCGCGTTATCGGCATGGAAAACGCCATGCCGTGGAACCTGCCTGCCGATCTCGCCTGGTTTAAACGCAACACCTTAAATAAACCCGTGATTATGGGCCGCCATACC & GCC & A & GAT & D & CTC & L\\\\\n",
       "\t2 & ACCGATCTC & GCGGTAGATCGCGTTATCGGCATGGAAAACGCCATGCCGTGGAACCTGCCTACCGATCTCGCCTGGTTTAAACGCAACACCTTAAATAAACCCGTGATTATGGGCCGCCATACC & ACC & T & GAT & D & CTC & L\\\\\n",
       "\t3 & GAAAATTAA & GCGGTAGATCGCGTTATCGGCATGGAAAACGCCATGCCGTGGAACCTGCCTGAAAATTAAGCCTGGTTTAAACGCAACACCTTAAATAAACCCGTGATTATGGGCCGCCATACC & GAA & E & AAT & N & TAA & *\\\\\n",
       "\t4 & AAAATTTGA & GCGGTAGATCGCGTTATCGGCATGGAAAACGCCATGCCGTGGAACCTGCCTAAAATTTGAGCCTGGTTTAAACGCAACACCTTAAATAAACCCGTGATTATGGGCCGCCATACC & AAA & K & ATT & I & TGA & *\\\\\n",
       "\t5 & AAAAAATGA & GCGGTAGATCGCGTTATCGGCATGGAAAACGCCATGCCGTGGAACCTGCCTAAAAAATGAGCCTGGTTTAAACGCAACACCTTAAATAAACCCGTGATTATGGGCCGCCATACC & AAA & K & AAA & K & TGA & *\\\\\n",
       "\t6 & AAATAAAAT & GCGGTAGATCGCGTTATCGGCATGGAAAACGCCATGCCGTGGAACCTGCCTAAATAAAATGCCTGGTTTAAACGCAACACCTTAAATAAACCCGTGATTATGGGCCGCCATACC & AAA & K & TAA & * & AAT & N\\\\\n",
       "\\end{tabular}\n"
      ],
      "text/markdown": [
       "\n",
       "A data.frame: 6 × 8\n",
       "\n",
       "| <!--/--> | SV &lt;chr&gt; | SVseq &lt;chr&gt; | codon1 &lt;chr&gt; | aa1 &lt;chr&gt; | codon2 &lt;chr&gt; | aa2 &lt;chr&gt; | codon3 &lt;chr&gt; | aa3 &lt;chr&gt; |\n",
       "|---|---|---|---|---|---|---|---|---|\n",
       "| 1 | GCCGATCTC | GCGGTAGATCGCGTTATCGGCATGGAAAACGCCATGCCGTGGAACCTGCCTGCCGATCTCGCCTGGTTTAAACGCAACACCTTAAATAAACCCGTGATTATGGGCCGCCATACC | GCC | A | GAT | D | CTC | L |\n",
       "| 2 | ACCGATCTC | GCGGTAGATCGCGTTATCGGCATGGAAAACGCCATGCCGTGGAACCTGCCTACCGATCTCGCCTGGTTTAAACGCAACACCTTAAATAAACCCGTGATTATGGGCCGCCATACC | ACC | T | GAT | D | CTC | L |\n",
       "| 3 | GAAAATTAA | GCGGTAGATCGCGTTATCGGCATGGAAAACGCCATGCCGTGGAACCTGCCTGAAAATTAAGCCTGGTTTAAACGCAACACCTTAAATAAACCCGTGATTATGGGCCGCCATACC | GAA | E | AAT | N | TAA | * |\n",
       "| 4 | AAAATTTGA | GCGGTAGATCGCGTTATCGGCATGGAAAACGCCATGCCGTGGAACCTGCCTAAAATTTGAGCCTGGTTTAAACGCAACACCTTAAATAAACCCGTGATTATGGGCCGCCATACC | AAA | K | ATT | I | TGA | * |\n",
       "| 5 | AAAAAATGA | GCGGTAGATCGCGTTATCGGCATGGAAAACGCCATGCCGTGGAACCTGCCTAAAAAATGAGCCTGGTTTAAACGCAACACCTTAAATAAACCCGTGATTATGGGCCGCCATACC | AAA | K | AAA | K | TGA | * |\n",
       "| 6 | AAATAAAAT | GCGGTAGATCGCGTTATCGGCATGGAAAACGCCATGCCGTGGAACCTGCCTAAATAAAATGCCTGGTTTAAACGCAACACCTTAAATAAACCCGTGATTATGGGCCGCCATACC | AAA | K | TAA | * | AAT | N |\n",
       "\n"
      ],
      "text/plain": [
       "  SV       \n",
       "1 GCCGATCTC\n",
       "2 ACCGATCTC\n",
       "3 GAAAATTAA\n",
       "4 AAAATTTGA\n",
       "5 AAAAAATGA\n",
       "6 AAATAAAAT\n",
       "  SVseq                                                                                                             \n",
       "1 GCGGTAGATCGCGTTATCGGCATGGAAAACGCCATGCCGTGGAACCTGCCTGCCGATCTCGCCTGGTTTAAACGCAACACCTTAAATAAACCCGTGATTATGGGCCGCCATACC\n",
       "2 GCGGTAGATCGCGTTATCGGCATGGAAAACGCCATGCCGTGGAACCTGCCTACCGATCTCGCCTGGTTTAAACGCAACACCTTAAATAAACCCGTGATTATGGGCCGCCATACC\n",
       "3 GCGGTAGATCGCGTTATCGGCATGGAAAACGCCATGCCGTGGAACCTGCCTGAAAATTAAGCCTGGTTTAAACGCAACACCTTAAATAAACCCGTGATTATGGGCCGCCATACC\n",
       "4 GCGGTAGATCGCGTTATCGGCATGGAAAACGCCATGCCGTGGAACCTGCCTAAAATTTGAGCCTGGTTTAAACGCAACACCTTAAATAAACCCGTGATTATGGGCCGCCATACC\n",
       "5 GCGGTAGATCGCGTTATCGGCATGGAAAACGCCATGCCGTGGAACCTGCCTAAAAAATGAGCCTGGTTTAAACGCAACACCTTAAATAAACCCGTGATTATGGGCCGCCATACC\n",
       "6 GCGGTAGATCGCGTTATCGGCATGGAAAACGCCATGCCGTGGAACCTGCCTAAATAAAATGCCTGGTTTAAACGCAACACCTTAAATAAACCCGTGATTATGGGCCGCCATACC\n",
       "  codon1 aa1 codon2 aa2 codon3 aa3\n",
       "1 GCC    A   GAT    D   CTC    L  \n",
       "2 ACC    T   GAT    D   CTC    L  \n",
       "3 GAA    E   AAT    N   TAA    *  \n",
       "4 AAA    K   ATT    I   TGA    *  \n",
       "5 AAA    K   AAA    K   TGA    *  \n",
       "6 AAA    K   TAA    *   AAT    N  "
      ]
     },
     "metadata": {},
     "output_type": "display_data"
    }
   ],
   "source": [
    "\n",
    "\n",
    "sv_gcode =  data.frame(SV=substr(colnames(count_data$before),76-24,84-24),\n",
    "                       SVseq=colnames(count_data$before)) %>% \n",
    "            left_join(.,gcode,by=\"SV\")\n",
    "\n",
    "head(sv_gcode)\n",
    "\n"
   ]
  },
  {
   "cell_type": "code",
   "execution_count": 76,
   "metadata": {
    "vscode": {
     "languageId": "r"
    }
   },
   "outputs": [
    {
     "data": {
      "text/html": [
       "<table class=\"dataframe\">\n",
       "<caption>A data.frame: 6 × 11</caption>\n",
       "<thead>\n",
       "\t<tr><th></th><th scope=col>Sample</th><th scope=col>SVseq</th><th scope=col>Nreads</th><th scope=col>SV</th><th scope=col>codon1</th><th scope=col>aa1</th><th scope=col>codon2</th><th scope=col>aa2</th><th scope=col>codon3</th><th scope=col>aa3</th><th scope=col>Total_Nreads</th></tr>\n",
       "\t<tr><th></th><th scope=col>&lt;chr&gt;</th><th scope=col>&lt;chr&gt;</th><th scope=col>&lt;int&gt;</th><th scope=col>&lt;chr&gt;</th><th scope=col>&lt;chr&gt;</th><th scope=col>&lt;chr&gt;</th><th scope=col>&lt;chr&gt;</th><th scope=col>&lt;chr&gt;</th><th scope=col>&lt;chr&gt;</th><th scope=col>&lt;chr&gt;</th><th scope=col>&lt;int&gt;</th></tr>\n",
       "</thead>\n",
       "<tbody>\n",
       "\t<tr><th scope=row>1</th><td>Sample_F01</td><td>GCGGTAGATCGCGTTATCGGCATGGAAAACGCCATGCCGTGGAACCTGCCTGCCGATCTCGCCTGGTTTAAACGCAACACCTTAAATAAACCCGTGATTATGGGCCGCCATACC</td><td>35613</td><td>GCCGATCTC</td><td>GCC</td><td>A</td><td>GAT</td><td>D</td><td>CTC</td><td>L</td><td>69576517</td></tr>\n",
       "\t<tr><th scope=row>2</th><td>Sample_F02</td><td>GCGGTAGATCGCGTTATCGGCATGGAAAACGCCATGCCGTGGAACCTGCCTGCCGATCTCGCCTGGTTTAAACGCAACACCTTAAATAAACCCGTGATTATGGGCCGCCATACC</td><td>27972</td><td>GCCGATCTC</td><td>GCC</td><td>A</td><td>GAT</td><td>D</td><td>CTC</td><td>L</td><td>57285073</td></tr>\n",
       "\t<tr><th scope=row>3</th><td>Sample_F03</td><td>GCGGTAGATCGCGTTATCGGCATGGAAAACGCCATGCCGTGGAACCTGCCTGCCGATCTCGCCTGGTTTAAACGCAACACCTTAAATAAACCCGTGATTATGGGCCGCCATACC</td><td>30530</td><td>GCCGATCTC</td><td>GCC</td><td>A</td><td>GAT</td><td>D</td><td>CTC</td><td>L</td><td>60143775</td></tr>\n",
       "\t<tr><th scope=row>4</th><td>Sample_F04</td><td>GCGGTAGATCGCGTTATCGGCATGGAAAACGCCATGCCGTGGAACCTGCCTGCCGATCTCGCCTGGTTTAAACGCAACACCTTAAATAAACCCGTGATTATGGGCCGCCATACC</td><td>25930</td><td>GCCGATCTC</td><td>GCC</td><td>A</td><td>GAT</td><td>D</td><td>CTC</td><td>L</td><td>53122388</td></tr>\n",
       "\t<tr><th scope=row>5</th><td>Sample_F05</td><td>GCGGTAGATCGCGTTATCGGCATGGAAAACGCCATGCCGTGGAACCTGCCTGCCGATCTCGCCTGGTTTAAACGCAACACCTTAAATAAACCCGTGATTATGGGCCGCCATACC</td><td>28702</td><td>GCCGATCTC</td><td>GCC</td><td>A</td><td>GAT</td><td>D</td><td>CTC</td><td>L</td><td>59065357</td></tr>\n",
       "\t<tr><th scope=row>6</th><td>Sample_F06</td><td>GCGGTAGATCGCGTTATCGGCATGGAAAACGCCATGCCGTGGAACCTGCCTGCCGATCTCGCCTGGTTTAAACGCAACACCTTAAATAAACCCGTGATTATGGGCCGCCATACC</td><td>22740</td><td>GCCGATCTC</td><td>GCC</td><td>A</td><td>GAT</td><td>D</td><td>CTC</td><td>L</td><td>45877874</td></tr>\n",
       "</tbody>\n",
       "</table>\n"
      ],
      "text/latex": [
       "A data.frame: 6 × 11\n",
       "\\begin{tabular}{r|lllllllllll}\n",
       "  & Sample & SVseq & Nreads & SV & codon1 & aa1 & codon2 & aa2 & codon3 & aa3 & Total\\_Nreads\\\\\n",
       "  & <chr> & <chr> & <int> & <chr> & <chr> & <chr> & <chr> & <chr> & <chr> & <chr> & <int>\\\\\n",
       "\\hline\n",
       "\t1 & Sample\\_F01 & GCGGTAGATCGCGTTATCGGCATGGAAAACGCCATGCCGTGGAACCTGCCTGCCGATCTCGCCTGGTTTAAACGCAACACCTTAAATAAACCCGTGATTATGGGCCGCCATACC & 35613 & GCCGATCTC & GCC & A & GAT & D & CTC & L & 69576517\\\\\n",
       "\t2 & Sample\\_F02 & GCGGTAGATCGCGTTATCGGCATGGAAAACGCCATGCCGTGGAACCTGCCTGCCGATCTCGCCTGGTTTAAACGCAACACCTTAAATAAACCCGTGATTATGGGCCGCCATACC & 27972 & GCCGATCTC & GCC & A & GAT & D & CTC & L & 57285073\\\\\n",
       "\t3 & Sample\\_F03 & GCGGTAGATCGCGTTATCGGCATGGAAAACGCCATGCCGTGGAACCTGCCTGCCGATCTCGCCTGGTTTAAACGCAACACCTTAAATAAACCCGTGATTATGGGCCGCCATACC & 30530 & GCCGATCTC & GCC & A & GAT & D & CTC & L & 60143775\\\\\n",
       "\t4 & Sample\\_F04 & GCGGTAGATCGCGTTATCGGCATGGAAAACGCCATGCCGTGGAACCTGCCTGCCGATCTCGCCTGGTTTAAACGCAACACCTTAAATAAACCCGTGATTATGGGCCGCCATACC & 25930 & GCCGATCTC & GCC & A & GAT & D & CTC & L & 53122388\\\\\n",
       "\t5 & Sample\\_F05 & GCGGTAGATCGCGTTATCGGCATGGAAAACGCCATGCCGTGGAACCTGCCTGCCGATCTCGCCTGGTTTAAACGCAACACCTTAAATAAACCCGTGATTATGGGCCGCCATACC & 28702 & GCCGATCTC & GCC & A & GAT & D & CTC & L & 59065357\\\\\n",
       "\t6 & Sample\\_F06 & GCGGTAGATCGCGTTATCGGCATGGAAAACGCCATGCCGTGGAACCTGCCTGCCGATCTCGCCTGGTTTAAACGCAACACCTTAAATAAACCCGTGATTATGGGCCGCCATACC & 22740 & GCCGATCTC & GCC & A & GAT & D & CTC & L & 45877874\\\\\n",
       "\\end{tabular}\n"
      ],
      "text/markdown": [
       "\n",
       "A data.frame: 6 × 11\n",
       "\n",
       "| <!--/--> | Sample &lt;chr&gt; | SVseq &lt;chr&gt; | Nreads &lt;int&gt; | SV &lt;chr&gt; | codon1 &lt;chr&gt; | aa1 &lt;chr&gt; | codon2 &lt;chr&gt; | aa2 &lt;chr&gt; | codon3 &lt;chr&gt; | aa3 &lt;chr&gt; | Total_Nreads &lt;int&gt; |\n",
       "|---|---|---|---|---|---|---|---|---|---|---|---|\n",
       "| 1 | Sample_F01 | GCGGTAGATCGCGTTATCGGCATGGAAAACGCCATGCCGTGGAACCTGCCTGCCGATCTCGCCTGGTTTAAACGCAACACCTTAAATAAACCCGTGATTATGGGCCGCCATACC | 35613 | GCCGATCTC | GCC | A | GAT | D | CTC | L | 69576517 |\n",
       "| 2 | Sample_F02 | GCGGTAGATCGCGTTATCGGCATGGAAAACGCCATGCCGTGGAACCTGCCTGCCGATCTCGCCTGGTTTAAACGCAACACCTTAAATAAACCCGTGATTATGGGCCGCCATACC | 27972 | GCCGATCTC | GCC | A | GAT | D | CTC | L | 57285073 |\n",
       "| 3 | Sample_F03 | GCGGTAGATCGCGTTATCGGCATGGAAAACGCCATGCCGTGGAACCTGCCTGCCGATCTCGCCTGGTTTAAACGCAACACCTTAAATAAACCCGTGATTATGGGCCGCCATACC | 30530 | GCCGATCTC | GCC | A | GAT | D | CTC | L | 60143775 |\n",
       "| 4 | Sample_F04 | GCGGTAGATCGCGTTATCGGCATGGAAAACGCCATGCCGTGGAACCTGCCTGCCGATCTCGCCTGGTTTAAACGCAACACCTTAAATAAACCCGTGATTATGGGCCGCCATACC | 25930 | GCCGATCTC | GCC | A | GAT | D | CTC | L | 53122388 |\n",
       "| 5 | Sample_F05 | GCGGTAGATCGCGTTATCGGCATGGAAAACGCCATGCCGTGGAACCTGCCTGCCGATCTCGCCTGGTTTAAACGCAACACCTTAAATAAACCCGTGATTATGGGCCGCCATACC | 28702 | GCCGATCTC | GCC | A | GAT | D | CTC | L | 59065357 |\n",
       "| 6 | Sample_F06 | GCGGTAGATCGCGTTATCGGCATGGAAAACGCCATGCCGTGGAACCTGCCTGCCGATCTCGCCTGGTTTAAACGCAACACCTTAAATAAACCCGTGATTATGGGCCGCCATACC | 22740 | GCCGATCTC | GCC | A | GAT | D | CTC | L | 45877874 |\n",
       "\n"
      ],
      "text/plain": [
       "  Sample    \n",
       "1 Sample_F01\n",
       "2 Sample_F02\n",
       "3 Sample_F03\n",
       "4 Sample_F04\n",
       "5 Sample_F05\n",
       "6 Sample_F06\n",
       "  SVseq                                                                                                             \n",
       "1 GCGGTAGATCGCGTTATCGGCATGGAAAACGCCATGCCGTGGAACCTGCCTGCCGATCTCGCCTGGTTTAAACGCAACACCTTAAATAAACCCGTGATTATGGGCCGCCATACC\n",
       "2 GCGGTAGATCGCGTTATCGGCATGGAAAACGCCATGCCGTGGAACCTGCCTGCCGATCTCGCCTGGTTTAAACGCAACACCTTAAATAAACCCGTGATTATGGGCCGCCATACC\n",
       "3 GCGGTAGATCGCGTTATCGGCATGGAAAACGCCATGCCGTGGAACCTGCCTGCCGATCTCGCCTGGTTTAAACGCAACACCTTAAATAAACCCGTGATTATGGGCCGCCATACC\n",
       "4 GCGGTAGATCGCGTTATCGGCATGGAAAACGCCATGCCGTGGAACCTGCCTGCCGATCTCGCCTGGTTTAAACGCAACACCTTAAATAAACCCGTGATTATGGGCCGCCATACC\n",
       "5 GCGGTAGATCGCGTTATCGGCATGGAAAACGCCATGCCGTGGAACCTGCCTGCCGATCTCGCCTGGTTTAAACGCAACACCTTAAATAAACCCGTGATTATGGGCCGCCATACC\n",
       "6 GCGGTAGATCGCGTTATCGGCATGGAAAACGCCATGCCGTGGAACCTGCCTGCCGATCTCGCCTGGTTTAAACGCAACACCTTAAATAAACCCGTGATTATGGGCCGCCATACC\n",
       "  Nreads SV        codon1 aa1 codon2 aa2 codon3 aa3 Total_Nreads\n",
       "1 35613  GCCGATCTC GCC    A   GAT    D   CTC    L   69576517    \n",
       "2 27972  GCCGATCTC GCC    A   GAT    D   CTC    L   57285073    \n",
       "3 30530  GCCGATCTC GCC    A   GAT    D   CTC    L   60143775    \n",
       "4 25930  GCCGATCTC GCC    A   GAT    D   CTC    L   53122388    \n",
       "5 28702  GCCGATCTC GCC    A   GAT    D   CTC    L   59065357    \n",
       "6 22740  GCCGATCTC GCC    A   GAT    D   CTC    L   45877874    "
      ]
     },
     "metadata": {},
     "output_type": "display_data"
    }
   ],
   "source": [
    "counts_before = count_data$before %>% \n",
    "                reshape2::melt(.) %>% \n",
    "                dplyr::rename(Sample=Var1,\n",
    "                       SVseq=Var2,\n",
    "                       Nreads=value) %>%\n",
    "                left_join (.,sv_gcode,by=\"SVseq\") %>%\n",
    "                left_join(.,\n",
    "                        data.frame( Sample=rownames(count_data$before),\n",
    "                                    Total_Nreads=c(apply(count_data$before,1,sum)),\n",
    "                                    row.names=NULL),\n",
    "                         by=\"Sample\") \n",
    "\n",
    "head(counts_before)"
   ]
  },
  {
   "cell_type": "code",
   "execution_count": 4,
   "metadata": {
    "vscode": {
     "languageId": "r"
    }
   },
   "outputs": [
    {
     "data": {
      "text/html": [
       "<table class=\"dataframe\">\n",
       "<caption>A matrix: 6 × 261378 of type int</caption>\n",
       "<thead>\n",
       "\t<tr><th></th><th scope=col>GCGGTAGATCGCGTTATCGGCATGGAAAACGCCATGCCGTGGAACCTGCCTGCCGATCTCGCCTGGTTTAAACGCAACACCTTAAATAAACCCGTGATTATGGGCCGCCATACC</th><th scope=col>GCGGTAGATCGCGTTATCGGCATGGAAAACGCCATGCCGTGGAACCTGCCTACCGATCTCGCCTGGTTTAAACGCAACACCTTAAATAAACCCGTGATTATGGGCCGCCATACC</th><th scope=col>GCGGTAGATCGCGTTATCGGCATGGAAAACGCCATGCCGTGGAACCTGCCTGAAAATTAAGCCTGGTTTAAACGCAACACCTTAAATAAACCCGTGATTATGGGCCGCCATACC</th><th scope=col>GCGGTAGATCGCGTTATCGGCATGGAAAACGCCATGCCGTGGAACCTGCCTAAAATTTGAGCCTGGTTTAAACGCAACACCTTAAATAAACCCGTGATTATGGGCCGCCATACC</th><th scope=col>GCGGTAGATCGCGTTATCGGCATGGAAAACGCCATGCCGTGGAACCTGCCTAAAAAATGAGCCTGGTTTAAACGCAACACCTTAAATAAACCCGTGATTATGGGCCGCCATACC</th><th scope=col>GCGGTAGATCGCGTTATCGGCATGGAAAACGCCATGCCGTGGAACCTGCCTAAATAAAATGCCTGGTTTAAACGCAACACCTTAAATAAACCCGTGATTATGGGCCGCCATACC</th><th scope=col>GCGGTAGATCGCGTTATCGGCATGGAAAACGCCATGCCGTGGAACCTGCCTATAAATTGAGCCTGGTTTAAACGCAACACCTTAAATAAACCCGTGATTATGGGCCGCCATACC</th><th scope=col>GCGGTAGATCGCGTTATCGGCATGGAAAACGCCATGCCGTGGAACCTGCCTTGTAAATAAGCCTGGTTTAAACGCAACACCTTAAATAAACCCGTGATTATGGGCCGCCATACC</th><th scope=col>GCGGTAGATCGCGTTATCGGCATGGAAAACGCCATGCCGTGGAACCTGCCTTATAAAATAGCCTGGTTTAAACGCAACACCTTAAATAAACCCGTGATTATGGGCCGCCATACC</th><th scope=col>GCGGTAGATCGCGTTATCGGCATGGAAAACGCCATGCCGTGGAACCTGCCTTTTAAAATTGCCTGGTTTAAACGCAACACCTTAAATAAACCCGTGATTATGGGCCGCCATACC</th><th scope=col>⋯</th><th scope=col>GCGGTAGATCGCGTTATCGGCATGGAAAACGCCATGCCGTGGAACCTGCCTTGCGGCAGGGCCTGGTTTAAACGCAACACCTTAAATAAACCCGTGATTATGGGCCGCCATACC</th><th scope=col>GCGGTAGATCGCGTTATCGGCATGGAAAACGCCATGCCGTGGAACCTGCCTTGTGCCACGGCCTGGTTTAAACGCAACACCTTAAATAAACCCGTGATTATGGGCCGCCATACC</th><th scope=col>GCGGTAGATCGCGTTATCGGCATGGAAAACGCCATGCCGTGGAACCTGCCTCGCCGCCACGCCTGGTTTAAACGCAACACCTTAAATAAACCCGTGATTATGGGCCGCCATACC</th><th scope=col>GCGGTAGATCGCGTTATCGGCATGGAAAACGCCATGCCGTGGAACCTGCCTACCGCTCCGGCCTGGTTTAAACGCAACACCTTAAATAAACCCGTGATTATGGGCCGCCATACC</th><th scope=col>GCGGTAGATCGCGTTATCGGCATGGAAAACGCCATGCCGTGGAACCTGCCTCGGCGTTTCGCCTGGTTTAAACGCAACACCTTAAATAAACCCGTGATTATGGGCCGCCATACC</th><th scope=col>GCGGTAGATCGCGTTATCGGCATGGAAAACGCCATGCCGTGGAACCTGCCTCGCGGCAGTGCCTGGTTTAAACGCAACACCTTAAATAAACCCGTGATTATGGGCCGCCATACC</th><th scope=col>GCGGTAGATCGCGTTATCGGCATGGAAAACGCCATGCCGTGGAACCTGCCTACCGCCTCGGCCTGGTTTAAACGCAACACCTTAAATAAACCCGTGATTATGGGCCGCCATACC</th><th scope=col>GCGGTAGATCGCGTTATCGGCATGGAAAACGCCATGCCGTGGAACCTGCCTGTCGGTCTCGCCTGGTTTAAACGCAACACCTTAAATAAACCCGTGATTATGGGCCGCCATACC</th><th scope=col>GCGGTAGATCGCGTTATCGGCATGGAAAACGCCATGCCGTGGAACCTGCCTCAACCCACGGCCTGGTTTAAACGCAACACCTTAAATAAACCCGTGATTATGGGCCGCCATACC</th><th scope=col>GCGGTAGATCGCGTTATCGGCATGGAAAACGCCATGCCGTGGAACCTGCCTGCCGATCTAGCCTGGTTTAAACGCAACACCTTAAATAAACCCGTGATTATGGGCCGCCATACC</th></tr>\n",
       "</thead>\n",
       "<tbody>\n",
       "\t<tr><th scope=row>Sample_F01</th><td>35613</td><td>1796</td><td>1491</td><td>1473</td><td>1382</td><td>1471</td><td>1397</td><td>1263</td><td>1389</td><td>1479</td><td>⋯</td><td>18</td><td>26</td><td>10</td><td>23</td><td>15</td><td>16</td><td>21</td><td>23</td><td>20</td><td>22</td></tr>\n",
       "\t<tr><th scope=row>Sample_F02</th><td>27972</td><td>1352</td><td>1404</td><td>1158</td><td>1267</td><td>1148</td><td> 983</td><td>1154</td><td>1030</td><td>1031</td><td>⋯</td><td>15</td><td>20</td><td>10</td><td>24</td><td>10</td><td>34</td><td>17</td><td>10</td><td>25</td><td>15</td></tr>\n",
       "\t<tr><th scope=row>Sample_F03</th><td>30530</td><td>1398</td><td>1284</td><td>1317</td><td>1102</td><td>1246</td><td>1332</td><td>1173</td><td>1095</td><td>1157</td><td>⋯</td><td>11</td><td>12</td><td>22</td><td> 7</td><td>19</td><td> 4</td><td> 4</td><td>23</td><td>14</td><td>19</td></tr>\n",
       "\t<tr><th scope=row>Sample_F04</th><td>25930</td><td>1206</td><td>1124</td><td>1158</td><td>1039</td><td>1037</td><td>1044</td><td> 984</td><td>1009</td><td> 992</td><td>⋯</td><td>26</td><td>11</td><td>21</td><td>12</td><td>13</td><td>12</td><td>20</td><td>11</td><td>16</td><td>17</td></tr>\n",
       "\t<tr><th scope=row>Sample_F05</th><td>28702</td><td>1284</td><td>1255</td><td>1288</td><td>1248</td><td>1045</td><td>1185</td><td>1216</td><td>1153</td><td>1081</td><td>⋯</td><td>12</td><td>26</td><td>23</td><td>29</td><td>26</td><td>13</td><td>34</td><td>20</td><td>16</td><td>14</td></tr>\n",
       "\t<tr><th scope=row>Sample_F06</th><td>22740</td><td>1114</td><td> 859</td><td> 894</td><td>1026</td><td> 929</td><td> 852</td><td> 956</td><td> 984</td><td> 902</td><td>⋯</td><td>18</td><td> 5</td><td>14</td><td> 5</td><td>17</td><td>21</td><td> 4</td><td>13</td><td> 9</td><td>13</td></tr>\n",
       "</tbody>\n",
       "</table>\n"
      ],
      "text/latex": [
       "A matrix: 6 × 261378 of type int\n",
       "\\begin{tabular}{r|lllllllllllllllllllll}\n",
       "  & GCGGTAGATCGCGTTATCGGCATGGAAAACGCCATGCCGTGGAACCTGCCTGCCGATCTCGCCTGGTTTAAACGCAACACCTTAAATAAACCCGTGATTATGGGCCGCCATACC & GCGGTAGATCGCGTTATCGGCATGGAAAACGCCATGCCGTGGAACCTGCCTACCGATCTCGCCTGGTTTAAACGCAACACCTTAAATAAACCCGTGATTATGGGCCGCCATACC & GCGGTAGATCGCGTTATCGGCATGGAAAACGCCATGCCGTGGAACCTGCCTGAAAATTAAGCCTGGTTTAAACGCAACACCTTAAATAAACCCGTGATTATGGGCCGCCATACC & GCGGTAGATCGCGTTATCGGCATGGAAAACGCCATGCCGTGGAACCTGCCTAAAATTTGAGCCTGGTTTAAACGCAACACCTTAAATAAACCCGTGATTATGGGCCGCCATACC & GCGGTAGATCGCGTTATCGGCATGGAAAACGCCATGCCGTGGAACCTGCCTAAAAAATGAGCCTGGTTTAAACGCAACACCTTAAATAAACCCGTGATTATGGGCCGCCATACC & GCGGTAGATCGCGTTATCGGCATGGAAAACGCCATGCCGTGGAACCTGCCTAAATAAAATGCCTGGTTTAAACGCAACACCTTAAATAAACCCGTGATTATGGGCCGCCATACC & GCGGTAGATCGCGTTATCGGCATGGAAAACGCCATGCCGTGGAACCTGCCTATAAATTGAGCCTGGTTTAAACGCAACACCTTAAATAAACCCGTGATTATGGGCCGCCATACC & GCGGTAGATCGCGTTATCGGCATGGAAAACGCCATGCCGTGGAACCTGCCTTGTAAATAAGCCTGGTTTAAACGCAACACCTTAAATAAACCCGTGATTATGGGCCGCCATACC & GCGGTAGATCGCGTTATCGGCATGGAAAACGCCATGCCGTGGAACCTGCCTTATAAAATAGCCTGGTTTAAACGCAACACCTTAAATAAACCCGTGATTATGGGCCGCCATACC & GCGGTAGATCGCGTTATCGGCATGGAAAACGCCATGCCGTGGAACCTGCCTTTTAAAATTGCCTGGTTTAAACGCAACACCTTAAATAAACCCGTGATTATGGGCCGCCATACC & ⋯ & GCGGTAGATCGCGTTATCGGCATGGAAAACGCCATGCCGTGGAACCTGCCTTGCGGCAGGGCCTGGTTTAAACGCAACACCTTAAATAAACCCGTGATTATGGGCCGCCATACC & GCGGTAGATCGCGTTATCGGCATGGAAAACGCCATGCCGTGGAACCTGCCTTGTGCCACGGCCTGGTTTAAACGCAACACCTTAAATAAACCCGTGATTATGGGCCGCCATACC & GCGGTAGATCGCGTTATCGGCATGGAAAACGCCATGCCGTGGAACCTGCCTCGCCGCCACGCCTGGTTTAAACGCAACACCTTAAATAAACCCGTGATTATGGGCCGCCATACC & GCGGTAGATCGCGTTATCGGCATGGAAAACGCCATGCCGTGGAACCTGCCTACCGCTCCGGCCTGGTTTAAACGCAACACCTTAAATAAACCCGTGATTATGGGCCGCCATACC & GCGGTAGATCGCGTTATCGGCATGGAAAACGCCATGCCGTGGAACCTGCCTCGGCGTTTCGCCTGGTTTAAACGCAACACCTTAAATAAACCCGTGATTATGGGCCGCCATACC & GCGGTAGATCGCGTTATCGGCATGGAAAACGCCATGCCGTGGAACCTGCCTCGCGGCAGTGCCTGGTTTAAACGCAACACCTTAAATAAACCCGTGATTATGGGCCGCCATACC & GCGGTAGATCGCGTTATCGGCATGGAAAACGCCATGCCGTGGAACCTGCCTACCGCCTCGGCCTGGTTTAAACGCAACACCTTAAATAAACCCGTGATTATGGGCCGCCATACC & GCGGTAGATCGCGTTATCGGCATGGAAAACGCCATGCCGTGGAACCTGCCTGTCGGTCTCGCCTGGTTTAAACGCAACACCTTAAATAAACCCGTGATTATGGGCCGCCATACC & GCGGTAGATCGCGTTATCGGCATGGAAAACGCCATGCCGTGGAACCTGCCTCAACCCACGGCCTGGTTTAAACGCAACACCTTAAATAAACCCGTGATTATGGGCCGCCATACC & GCGGTAGATCGCGTTATCGGCATGGAAAACGCCATGCCGTGGAACCTGCCTGCCGATCTAGCCTGGTTTAAACGCAACACCTTAAATAAACCCGTGATTATGGGCCGCCATACC\\\\\n",
       "\\hline\n",
       "\tSample\\_F01 & 35613 & 1796 & 1491 & 1473 & 1382 & 1471 & 1397 & 1263 & 1389 & 1479 & ⋯ & 18 & 26 & 10 & 23 & 15 & 16 & 21 & 23 & 20 & 22\\\\\n",
       "\tSample\\_F02 & 27972 & 1352 & 1404 & 1158 & 1267 & 1148 &  983 & 1154 & 1030 & 1031 & ⋯ & 15 & 20 & 10 & 24 & 10 & 34 & 17 & 10 & 25 & 15\\\\\n",
       "\tSample\\_F03 & 30530 & 1398 & 1284 & 1317 & 1102 & 1246 & 1332 & 1173 & 1095 & 1157 & ⋯ & 11 & 12 & 22 &  7 & 19 &  4 &  4 & 23 & 14 & 19\\\\\n",
       "\tSample\\_F04 & 25930 & 1206 & 1124 & 1158 & 1039 & 1037 & 1044 &  984 & 1009 &  992 & ⋯ & 26 & 11 & 21 & 12 & 13 & 12 & 20 & 11 & 16 & 17\\\\\n",
       "\tSample\\_F05 & 28702 & 1284 & 1255 & 1288 & 1248 & 1045 & 1185 & 1216 & 1153 & 1081 & ⋯ & 12 & 26 & 23 & 29 & 26 & 13 & 34 & 20 & 16 & 14\\\\\n",
       "\tSample\\_F06 & 22740 & 1114 &  859 &  894 & 1026 &  929 &  852 &  956 &  984 &  902 & ⋯ & 18 &  5 & 14 &  5 & 17 & 21 &  4 & 13 &  9 & 13\\\\\n",
       "\\end{tabular}\n"
      ],
      "text/markdown": [
       "\n",
       "A matrix: 6 × 261378 of type int\n",
       "\n",
       "| <!--/--> | GCGGTAGATCGCGTTATCGGCATGGAAAACGCCATGCCGTGGAACCTGCCTGCCGATCTCGCCTGGTTTAAACGCAACACCTTAAATAAACCCGTGATTATGGGCCGCCATACC | GCGGTAGATCGCGTTATCGGCATGGAAAACGCCATGCCGTGGAACCTGCCTACCGATCTCGCCTGGTTTAAACGCAACACCTTAAATAAACCCGTGATTATGGGCCGCCATACC | GCGGTAGATCGCGTTATCGGCATGGAAAACGCCATGCCGTGGAACCTGCCTGAAAATTAAGCCTGGTTTAAACGCAACACCTTAAATAAACCCGTGATTATGGGCCGCCATACC | GCGGTAGATCGCGTTATCGGCATGGAAAACGCCATGCCGTGGAACCTGCCTAAAATTTGAGCCTGGTTTAAACGCAACACCTTAAATAAACCCGTGATTATGGGCCGCCATACC | GCGGTAGATCGCGTTATCGGCATGGAAAACGCCATGCCGTGGAACCTGCCTAAAAAATGAGCCTGGTTTAAACGCAACACCTTAAATAAACCCGTGATTATGGGCCGCCATACC | GCGGTAGATCGCGTTATCGGCATGGAAAACGCCATGCCGTGGAACCTGCCTAAATAAAATGCCTGGTTTAAACGCAACACCTTAAATAAACCCGTGATTATGGGCCGCCATACC | GCGGTAGATCGCGTTATCGGCATGGAAAACGCCATGCCGTGGAACCTGCCTATAAATTGAGCCTGGTTTAAACGCAACACCTTAAATAAACCCGTGATTATGGGCCGCCATACC | GCGGTAGATCGCGTTATCGGCATGGAAAACGCCATGCCGTGGAACCTGCCTTGTAAATAAGCCTGGTTTAAACGCAACACCTTAAATAAACCCGTGATTATGGGCCGCCATACC | GCGGTAGATCGCGTTATCGGCATGGAAAACGCCATGCCGTGGAACCTGCCTTATAAAATAGCCTGGTTTAAACGCAACACCTTAAATAAACCCGTGATTATGGGCCGCCATACC | GCGGTAGATCGCGTTATCGGCATGGAAAACGCCATGCCGTGGAACCTGCCTTTTAAAATTGCCTGGTTTAAACGCAACACCTTAAATAAACCCGTGATTATGGGCCGCCATACC | ⋯ | GCGGTAGATCGCGTTATCGGCATGGAAAACGCCATGCCGTGGAACCTGCCTTGCGGCAGGGCCTGGTTTAAACGCAACACCTTAAATAAACCCGTGATTATGGGCCGCCATACC | GCGGTAGATCGCGTTATCGGCATGGAAAACGCCATGCCGTGGAACCTGCCTTGTGCCACGGCCTGGTTTAAACGCAACACCTTAAATAAACCCGTGATTATGGGCCGCCATACC | GCGGTAGATCGCGTTATCGGCATGGAAAACGCCATGCCGTGGAACCTGCCTCGCCGCCACGCCTGGTTTAAACGCAACACCTTAAATAAACCCGTGATTATGGGCCGCCATACC | GCGGTAGATCGCGTTATCGGCATGGAAAACGCCATGCCGTGGAACCTGCCTACCGCTCCGGCCTGGTTTAAACGCAACACCTTAAATAAACCCGTGATTATGGGCCGCCATACC | GCGGTAGATCGCGTTATCGGCATGGAAAACGCCATGCCGTGGAACCTGCCTCGGCGTTTCGCCTGGTTTAAACGCAACACCTTAAATAAACCCGTGATTATGGGCCGCCATACC | GCGGTAGATCGCGTTATCGGCATGGAAAACGCCATGCCGTGGAACCTGCCTCGCGGCAGTGCCTGGTTTAAACGCAACACCTTAAATAAACCCGTGATTATGGGCCGCCATACC | GCGGTAGATCGCGTTATCGGCATGGAAAACGCCATGCCGTGGAACCTGCCTACCGCCTCGGCCTGGTTTAAACGCAACACCTTAAATAAACCCGTGATTATGGGCCGCCATACC | GCGGTAGATCGCGTTATCGGCATGGAAAACGCCATGCCGTGGAACCTGCCTGTCGGTCTCGCCTGGTTTAAACGCAACACCTTAAATAAACCCGTGATTATGGGCCGCCATACC | GCGGTAGATCGCGTTATCGGCATGGAAAACGCCATGCCGTGGAACCTGCCTCAACCCACGGCCTGGTTTAAACGCAACACCTTAAATAAACCCGTGATTATGGGCCGCCATACC | GCGGTAGATCGCGTTATCGGCATGGAAAACGCCATGCCGTGGAACCTGCCTGCCGATCTAGCCTGGTTTAAACGCAACACCTTAAATAAACCCGTGATTATGGGCCGCCATACC |\n",
       "|---|---|---|---|---|---|---|---|---|---|---|---|---|---|---|---|---|---|---|---|---|---|\n",
       "| Sample_F01 | 35613 | 1796 | 1491 | 1473 | 1382 | 1471 | 1397 | 1263 | 1389 | 1479 | ⋯ | 18 | 26 | 10 | 23 | 15 | 16 | 21 | 23 | 20 | 22 |\n",
       "| Sample_F02 | 27972 | 1352 | 1404 | 1158 | 1267 | 1148 |  983 | 1154 | 1030 | 1031 | ⋯ | 15 | 20 | 10 | 24 | 10 | 34 | 17 | 10 | 25 | 15 |\n",
       "| Sample_F03 | 30530 | 1398 | 1284 | 1317 | 1102 | 1246 | 1332 | 1173 | 1095 | 1157 | ⋯ | 11 | 12 | 22 |  7 | 19 |  4 |  4 | 23 | 14 | 19 |\n",
       "| Sample_F04 | 25930 | 1206 | 1124 | 1158 | 1039 | 1037 | 1044 |  984 | 1009 |  992 | ⋯ | 26 | 11 | 21 | 12 | 13 | 12 | 20 | 11 | 16 | 17 |\n",
       "| Sample_F05 | 28702 | 1284 | 1255 | 1288 | 1248 | 1045 | 1185 | 1216 | 1153 | 1081 | ⋯ | 12 | 26 | 23 | 29 | 26 | 13 | 34 | 20 | 16 | 14 |\n",
       "| Sample_F06 | 22740 | 1114 |  859 |  894 | 1026 |  929 |  852 |  956 |  984 |  902 | ⋯ | 18 |  5 | 14 |  5 | 17 | 21 |  4 | 13 |  9 | 13 |\n",
       "\n"
      ],
      "text/plain": [
       "           GCGGTAGATCGCGTTATCGGCATGGAAAACGCCATGCCGTGGAACCTGCCTGCCGATCTCGCCTGGTTTAAACGCAACACCTTAAATAAACCCGTGATTATGGGCCGCCATACC\n",
       "Sample_F01 35613                                                                                                             \n",
       "Sample_F02 27972                                                                                                             \n",
       "Sample_F03 30530                                                                                                             \n",
       "Sample_F04 25930                                                                                                             \n",
       "Sample_F05 28702                                                                                                             \n",
       "Sample_F06 22740                                                                                                             \n",
       "           GCGGTAGATCGCGTTATCGGCATGGAAAACGCCATGCCGTGGAACCTGCCTACCGATCTCGCCTGGTTTAAACGCAACACCTTAAATAAACCCGTGATTATGGGCCGCCATACC\n",
       "Sample_F01 1796                                                                                                              \n",
       "Sample_F02 1352                                                                                                              \n",
       "Sample_F03 1398                                                                                                              \n",
       "Sample_F04 1206                                                                                                              \n",
       "Sample_F05 1284                                                                                                              \n",
       "Sample_F06 1114                                                                                                              \n",
       "           GCGGTAGATCGCGTTATCGGCATGGAAAACGCCATGCCGTGGAACCTGCCTGAAAATTAAGCCTGGTTTAAACGCAACACCTTAAATAAACCCGTGATTATGGGCCGCCATACC\n",
       "Sample_F01 1491                                                                                                              \n",
       "Sample_F02 1404                                                                                                              \n",
       "Sample_F03 1284                                                                                                              \n",
       "Sample_F04 1124                                                                                                              \n",
       "Sample_F05 1255                                                                                                              \n",
       "Sample_F06  859                                                                                                              \n",
       "           GCGGTAGATCGCGTTATCGGCATGGAAAACGCCATGCCGTGGAACCTGCCTAAAATTTGAGCCTGGTTTAAACGCAACACCTTAAATAAACCCGTGATTATGGGCCGCCATACC\n",
       "Sample_F01 1473                                                                                                              \n",
       "Sample_F02 1158                                                                                                              \n",
       "Sample_F03 1317                                                                                                              \n",
       "Sample_F04 1158                                                                                                              \n",
       "Sample_F05 1288                                                                                                              \n",
       "Sample_F06  894                                                                                                              \n",
       "           GCGGTAGATCGCGTTATCGGCATGGAAAACGCCATGCCGTGGAACCTGCCTAAAAAATGAGCCTGGTTTAAACGCAACACCTTAAATAAACCCGTGATTATGGGCCGCCATACC\n",
       "Sample_F01 1382                                                                                                              \n",
       "Sample_F02 1267                                                                                                              \n",
       "Sample_F03 1102                                                                                                              \n",
       "Sample_F04 1039                                                                                                              \n",
       "Sample_F05 1248                                                                                                              \n",
       "Sample_F06 1026                                                                                                              \n",
       "           GCGGTAGATCGCGTTATCGGCATGGAAAACGCCATGCCGTGGAACCTGCCTAAATAAAATGCCTGGTTTAAACGCAACACCTTAAATAAACCCGTGATTATGGGCCGCCATACC\n",
       "Sample_F01 1471                                                                                                              \n",
       "Sample_F02 1148                                                                                                              \n",
       "Sample_F03 1246                                                                                                              \n",
       "Sample_F04 1037                                                                                                              \n",
       "Sample_F05 1045                                                                                                              \n",
       "Sample_F06  929                                                                                                              \n",
       "           GCGGTAGATCGCGTTATCGGCATGGAAAACGCCATGCCGTGGAACCTGCCTATAAATTGAGCCTGGTTTAAACGCAACACCTTAAATAAACCCGTGATTATGGGCCGCCATACC\n",
       "Sample_F01 1397                                                                                                              \n",
       "Sample_F02  983                                                                                                              \n",
       "Sample_F03 1332                                                                                                              \n",
       "Sample_F04 1044                                                                                                              \n",
       "Sample_F05 1185                                                                                                              \n",
       "Sample_F06  852                                                                                                              \n",
       "           GCGGTAGATCGCGTTATCGGCATGGAAAACGCCATGCCGTGGAACCTGCCTTGTAAATAAGCCTGGTTTAAACGCAACACCTTAAATAAACCCGTGATTATGGGCCGCCATACC\n",
       "Sample_F01 1263                                                                                                              \n",
       "Sample_F02 1154                                                                                                              \n",
       "Sample_F03 1173                                                                                                              \n",
       "Sample_F04  984                                                                                                              \n",
       "Sample_F05 1216                                                                                                              \n",
       "Sample_F06  956                                                                                                              \n",
       "           GCGGTAGATCGCGTTATCGGCATGGAAAACGCCATGCCGTGGAACCTGCCTTATAAAATAGCCTGGTTTAAACGCAACACCTTAAATAAACCCGTGATTATGGGCCGCCATACC\n",
       "Sample_F01 1389                                                                                                              \n",
       "Sample_F02 1030                                                                                                              \n",
       "Sample_F03 1095                                                                                                              \n",
       "Sample_F04 1009                                                                                                              \n",
       "Sample_F05 1153                                                                                                              \n",
       "Sample_F06  984                                                                                                              \n",
       "           GCGGTAGATCGCGTTATCGGCATGGAAAACGCCATGCCGTGGAACCTGCCTTTTAAAATTGCCTGGTTTAAACGCAACACCTTAAATAAACCCGTGATTATGGGCCGCCATACC\n",
       "Sample_F01 1479                                                                                                              \n",
       "Sample_F02 1031                                                                                                              \n",
       "Sample_F03 1157                                                                                                              \n",
       "Sample_F04  992                                                                                                              \n",
       "Sample_F05 1081                                                                                                              \n",
       "Sample_F06  902                                                                                                              \n",
       "           ⋯\n",
       "Sample_F01 ⋯\n",
       "Sample_F02 ⋯\n",
       "Sample_F03 ⋯\n",
       "Sample_F04 ⋯\n",
       "Sample_F05 ⋯\n",
       "Sample_F06 ⋯\n",
       "           GCGGTAGATCGCGTTATCGGCATGGAAAACGCCATGCCGTGGAACCTGCCTTGCGGCAGGGCCTGGTTTAAACGCAACACCTTAAATAAACCCGTGATTATGGGCCGCCATACC\n",
       "Sample_F01 18                                                                                                                \n",
       "Sample_F02 15                                                                                                                \n",
       "Sample_F03 11                                                                                                                \n",
       "Sample_F04 26                                                                                                                \n",
       "Sample_F05 12                                                                                                                \n",
       "Sample_F06 18                                                                                                                \n",
       "           GCGGTAGATCGCGTTATCGGCATGGAAAACGCCATGCCGTGGAACCTGCCTTGTGCCACGGCCTGGTTTAAACGCAACACCTTAAATAAACCCGTGATTATGGGCCGCCATACC\n",
       "Sample_F01 26                                                                                                                \n",
       "Sample_F02 20                                                                                                                \n",
       "Sample_F03 12                                                                                                                \n",
       "Sample_F04 11                                                                                                                \n",
       "Sample_F05 26                                                                                                                \n",
       "Sample_F06  5                                                                                                                \n",
       "           GCGGTAGATCGCGTTATCGGCATGGAAAACGCCATGCCGTGGAACCTGCCTCGCCGCCACGCCTGGTTTAAACGCAACACCTTAAATAAACCCGTGATTATGGGCCGCCATACC\n",
       "Sample_F01 10                                                                                                                \n",
       "Sample_F02 10                                                                                                                \n",
       "Sample_F03 22                                                                                                                \n",
       "Sample_F04 21                                                                                                                \n",
       "Sample_F05 23                                                                                                                \n",
       "Sample_F06 14                                                                                                                \n",
       "           GCGGTAGATCGCGTTATCGGCATGGAAAACGCCATGCCGTGGAACCTGCCTACCGCTCCGGCCTGGTTTAAACGCAACACCTTAAATAAACCCGTGATTATGGGCCGCCATACC\n",
       "Sample_F01 23                                                                                                                \n",
       "Sample_F02 24                                                                                                                \n",
       "Sample_F03  7                                                                                                                \n",
       "Sample_F04 12                                                                                                                \n",
       "Sample_F05 29                                                                                                                \n",
       "Sample_F06  5                                                                                                                \n",
       "           GCGGTAGATCGCGTTATCGGCATGGAAAACGCCATGCCGTGGAACCTGCCTCGGCGTTTCGCCTGGTTTAAACGCAACACCTTAAATAAACCCGTGATTATGGGCCGCCATACC\n",
       "Sample_F01 15                                                                                                                \n",
       "Sample_F02 10                                                                                                                \n",
       "Sample_F03 19                                                                                                                \n",
       "Sample_F04 13                                                                                                                \n",
       "Sample_F05 26                                                                                                                \n",
       "Sample_F06 17                                                                                                                \n",
       "           GCGGTAGATCGCGTTATCGGCATGGAAAACGCCATGCCGTGGAACCTGCCTCGCGGCAGTGCCTGGTTTAAACGCAACACCTTAAATAAACCCGTGATTATGGGCCGCCATACC\n",
       "Sample_F01 16                                                                                                                \n",
       "Sample_F02 34                                                                                                                \n",
       "Sample_F03  4                                                                                                                \n",
       "Sample_F04 12                                                                                                                \n",
       "Sample_F05 13                                                                                                                \n",
       "Sample_F06 21                                                                                                                \n",
       "           GCGGTAGATCGCGTTATCGGCATGGAAAACGCCATGCCGTGGAACCTGCCTACCGCCTCGGCCTGGTTTAAACGCAACACCTTAAATAAACCCGTGATTATGGGCCGCCATACC\n",
       "Sample_F01 21                                                                                                                \n",
       "Sample_F02 17                                                                                                                \n",
       "Sample_F03  4                                                                                                                \n",
       "Sample_F04 20                                                                                                                \n",
       "Sample_F05 34                                                                                                                \n",
       "Sample_F06  4                                                                                                                \n",
       "           GCGGTAGATCGCGTTATCGGCATGGAAAACGCCATGCCGTGGAACCTGCCTGTCGGTCTCGCCTGGTTTAAACGCAACACCTTAAATAAACCCGTGATTATGGGCCGCCATACC\n",
       "Sample_F01 23                                                                                                                \n",
       "Sample_F02 10                                                                                                                \n",
       "Sample_F03 23                                                                                                                \n",
       "Sample_F04 11                                                                                                                \n",
       "Sample_F05 20                                                                                                                \n",
       "Sample_F06 13                                                                                                                \n",
       "           GCGGTAGATCGCGTTATCGGCATGGAAAACGCCATGCCGTGGAACCTGCCTCAACCCACGGCCTGGTTTAAACGCAACACCTTAAATAAACCCGTGATTATGGGCCGCCATACC\n",
       "Sample_F01 20                                                                                                                \n",
       "Sample_F02 25                                                                                                                \n",
       "Sample_F03 14                                                                                                                \n",
       "Sample_F04 16                                                                                                                \n",
       "Sample_F05 16                                                                                                                \n",
       "Sample_F06  9                                                                                                                \n",
       "           GCGGTAGATCGCGTTATCGGCATGGAAAACGCCATGCCGTGGAACCTGCCTGCCGATCTAGCCTGGTTTAAACGCAACACCTTAAATAAACCCGTGATTATGGGCCGCCATACC\n",
       "Sample_F01 22                                                                                                                \n",
       "Sample_F02 15                                                                                                                \n",
       "Sample_F03 19                                                                                                                \n",
       "Sample_F04 17                                                                                                                \n",
       "Sample_F05 14                                                                                                                \n",
       "Sample_F06 13                                                                                                                "
      ]
     },
     "metadata": {},
     "output_type": "display_data"
    }
   ],
   "source": [
    "count_data$before %>% head()"
   ]
  },
  {
   "cell_type": "code",
   "execution_count": 37,
   "metadata": {
    "vscode": {
     "languageId": "r"
    }
   },
   "outputs": [],
   "source": [
    "data = data.frame( Nreads = c(430,455,465,818,998,812),\n",
    "            Total = c(1000,1000,1000,1000,1000,1000),\n",
    "            time = c(0,0,0,35,35,35)) \n",
    "\n",
    "glm1 =glm( cbind(Nreads,Total-Nreads) ~ time, data=data, family=binomial)"
   ]
  },
  {
   "cell_type": "code",
   "execution_count": 41,
   "metadata": {
    "vscode": {
     "languageId": "r"
    }
   },
   "outputs": [],
   "source": [
    "data = data.frame( Nreads = c(430,455,465,818,998,812),\n",
    "            Total = c(1000,1000,1000,1000,1000,1000),\n",
    "            time = c(0,0,0,35,35,35)) \n",
    "\n",
    "glm2 =glm( (Nreads/Total) ~ time, data=data, family=binomial,weights=Total)"
   ]
  },
  {
   "cell_type": "code",
   "execution_count": 44,
   "metadata": {
    "vscode": {
     "languageId": "r"
    }
   },
   "outputs": [
    {
     "name": "stderr",
     "output_type": "stream",
     "text": [
      "Loading required package: Matrix\n",
      "\n",
      "\n",
      "Attaching package: ‘Matrix’\n",
      "\n",
      "\n",
      "The following object is masked from ‘package:S4Vectors’:\n",
      "\n",
      "    expand\n",
      "\n",
      "\n",
      "The following objects are masked from ‘package:tidyr’:\n",
      "\n",
      "    expand, pack, unpack\n",
      "\n",
      "\n"
     ]
    }
   ],
   "source": [
    "library(lme4)"
   ]
  },
  {
   "cell_type": "code",
   "execution_count": null,
   "metadata": {
    "vscode": {
     "languageId": "r"
    }
   },
   "outputs": [],
   "source": [
    "data = data.frame( Nreads = c(430,455,465,818,998,812),\n",
    "            Total = c(1000,1000,1000,1000,1000,1000),\n",
    "            time = c(0,0,0,35,35,35)) "
   ]
  },
  {
   "cell_type": "code",
   "execution_count": 43,
   "metadata": {
    "vscode": {
     "languageId": "r"
    }
   },
   "outputs": [
    {
     "data": {
      "text/html": [
       "<style>\n",
       ".dl-inline {width: auto; margin:0; padding: 0}\n",
       ".dl-inline>dt, .dl-inline>dd {float: none; width: auto; display: inline-block}\n",
       ".dl-inline>dt::after {content: \":\\0020\"; padding-right: .5ex}\n",
       ".dl-inline>dt:not(:first-of-type) {padding-left: .5ex}\n",
       "</style><dl class=dl-inline><dt>(Intercept)</dt><dd>-0.200670695462151</dd><dt>time</dt><dd>0.0615930063083823</dd></dl>\n"
      ],
      "text/latex": [
       "\\begin{description*}\n",
       "\\item[(Intercept)] -0.200670695462151\n",
       "\\item[time] 0.0615930063083823\n",
       "\\end{description*}\n"
      ],
      "text/markdown": [
       "(Intercept)\n",
       ":   -0.200670695462151time\n",
       ":   0.0615930063083823\n",
       "\n"
      ],
      "text/plain": [
       "(Intercept)        time \n",
       "-0.20067070  0.06159301 "
      ]
     },
     "metadata": {},
     "output_type": "display_data"
    },
    {
     "data": {
      "text/html": [
       "<style>\n",
       ".dl-inline {width: auto; margin:0; padding: 0}\n",
       ".dl-inline>dt, .dl-inline>dd {float: none; width: auto; display: inline-block}\n",
       ".dl-inline>dt::after {content: \":\\0020\"; padding-right: .5ex}\n",
       ".dl-inline>dt:not(:first-of-type) {padding-left: .5ex}\n",
       "</style><dl class=dl-inline><dt>(Intercept)</dt><dd>-0.200670695462151</dd><dt>time</dt><dd>0.0615930063083823</dd></dl>\n"
      ],
      "text/latex": [
       "\\begin{description*}\n",
       "\\item[(Intercept)] -0.200670695462151\n",
       "\\item[time] 0.0615930063083823\n",
       "\\end{description*}\n"
      ],
      "text/markdown": [
       "(Intercept)\n",
       ":   -0.200670695462151time\n",
       ":   0.0615930063083823\n",
       "\n"
      ],
      "text/plain": [
       "(Intercept)        time \n",
       "-0.20067070  0.06159301 "
      ]
     },
     "metadata": {},
     "output_type": "display_data"
    }
   ],
   "source": [
    "coef(glm1)\n",
    "coef(glm2)"
   ]
  },
  {
   "cell_type": "code",
   "execution_count": 21,
   "metadata": {
    "vscode": {
     "languageId": "r"
    }
   },
   "outputs": [
    {
     "name": "stderr",
     "output_type": "stream",
     "text": [
      "\u001b[1m\u001b[22m`geom_smooth()` using formula = 'y ~ x'\n",
      "Warning message in eval(family$initialize):\n",
      "“non-integer #successes in a binomial glm!”\n"
     ]
    },
    {
     "data": {
      "image/png": "[encoded data removed]",
      "text/plain": [
       "plot without title"
      ]
     },
     "metadata": {
      "image/png": {
       "height": 420,
       "width": 420
      }
     },
     "output_type": "display_data"
    }
   ],
   "source": [
    "ggplot(data, aes(x=time, y=Nreads/Total)) + \n",
    "    geom_point() + \n",
    "    geom_smooth(method=\"glm\", method.args=list(family=\"binomial\"))"
   ]
  },
  {
   "cell_type": "code",
   "execution_count": 31,
   "metadata": {
    "vscode": {
     "languageId": "r"
    }
   },
   "outputs": [
    {
     "name": "stderr",
     "output_type": "stream",
     "text": [
      "\u001b[1m\u001b[22m`geom_smooth()` using formula = 'y ~ x'\n"
     ]
    },
    {
     "data": {
      "image/png": "[encoded data removed]",
      "text/plain": [
       "plot without title"
      ]
     },
     "metadata": {
      "image/png": {
       "height": 420,
       "width": 420
      }
     },
     "output_type": "display_data"
    }
   ],
   "source": [
    "ggplot(data, aes(x=time, y=log(Nreads/(Total-Nreads)))) + \n",
    "    geom_point() +\n",
    "    geom_smooth(method=\"lm\")"
   ]
  },
  {
   "cell_type": "code",
   "execution_count": 51,
   "metadata": {
    "vscode": {
     "languageId": "r"
    }
   },
   "outputs": [
    {
     "data": {
      "text/html": [
       "<table class=\"dataframe\">\n",
       "<caption>A data.frame: 9 × 4</caption>\n",
       "<thead>\n",
       "\t<tr><th scope=col>Nreads</th><th scope=col>Total</th><th scope=col>time</th><th scope=col>Rep</th></tr>\n",
       "\t<tr><th scope=col>&lt;dbl&gt;</th><th scope=col>&lt;dbl&gt;</th><th scope=col>&lt;dbl&gt;</th><th scope=col>&lt;chr&gt;</th></tr>\n",
       "</thead>\n",
       "<tbody>\n",
       "\t<tr><td>500</td><td>1000</td><td> 0</td><td>1</td></tr>\n",
       "\t<tr><td>455</td><td>1000</td><td> 0</td><td>2</td></tr>\n",
       "\t<tr><td>465</td><td>1000</td><td> 0</td><td>3</td></tr>\n",
       "\t<tr><td>370</td><td> 500</td><td>10</td><td>1</td></tr>\n",
       "\t<tr><td>350</td><td> 500</td><td>10</td><td>2</td></tr>\n",
       "\t<tr><td>320</td><td> 500</td><td>10</td><td>3</td></tr>\n",
       "\t<tr><td>998</td><td>1000</td><td>20</td><td>1</td></tr>\n",
       "\t<tr><td>818</td><td>1000</td><td>20</td><td>2</td></tr>\n",
       "\t<tr><td>812</td><td>1000</td><td>20</td><td>3</td></tr>\n",
       "</tbody>\n",
       "</table>\n"
      ],
      "text/latex": [
       "A data.frame: 9 × 4\n",
       "\\begin{tabular}{llll}\n",
       " Nreads & Total & time & Rep\\\\\n",
       " <dbl> & <dbl> & <dbl> & <chr>\\\\\n",
       "\\hline\n",
       "\t 500 & 1000 &  0 & 1\\\\\n",
       "\t 455 & 1000 &  0 & 2\\\\\n",
       "\t 465 & 1000 &  0 & 3\\\\\n",
       "\t 370 &  500 & 10 & 1\\\\\n",
       "\t 350 &  500 & 10 & 2\\\\\n",
       "\t 320 &  500 & 10 & 3\\\\\n",
       "\t 998 & 1000 & 20 & 1\\\\\n",
       "\t 818 & 1000 & 20 & 2\\\\\n",
       "\t 812 & 1000 & 20 & 3\\\\\n",
       "\\end{tabular}\n"
      ],
      "text/markdown": [
       "\n",
       "A data.frame: 9 × 4\n",
       "\n",
       "| Nreads &lt;dbl&gt; | Total &lt;dbl&gt; | time &lt;dbl&gt; | Rep &lt;chr&gt; |\n",
       "|---|---|---|---|\n",
       "| 500 | 1000 |  0 | 1 |\n",
       "| 455 | 1000 |  0 | 2 |\n",
       "| 465 | 1000 |  0 | 3 |\n",
       "| 370 |  500 | 10 | 1 |\n",
       "| 350 |  500 | 10 | 2 |\n",
       "| 320 |  500 | 10 | 3 |\n",
       "| 998 | 1000 | 20 | 1 |\n",
       "| 818 | 1000 | 20 | 2 |\n",
       "| 812 | 1000 | 20 | 3 |\n",
       "\n"
      ],
      "text/plain": [
       "  Nreads Total time Rep\n",
       "1 500    1000   0   1  \n",
       "2 455    1000   0   2  \n",
       "3 465    1000   0   3  \n",
       "4 370     500  10   1  \n",
       "5 350     500  10   2  \n",
       "6 320     500  10   3  \n",
       "7 998    1000  20   1  \n",
       "8 818    1000  20   2  \n",
       "9 812    1000  20   3  "
      ]
     },
     "metadata": {},
     "output_type": "display_data"
    }
   ],
   "source": [
    "data2 = data.frame( Nreads = c(500,455,465,370,350,320,998,818,812),\n",
    "            Total = c(1000,1000,1000,500,500,500,1000,1000,1000),\n",
    "            time = c(0,0,0,10,10,10,20,20,20),\n",
    "            Rep = paste(c(1,2,3,1,2,3,1,2,3))) \n",
    "\n",
    "data2"
   ]
  },
  {
   "cell_type": "code",
   "execution_count": 56,
   "metadata": {
    "vscode": {
     "languageId": "r"
    }
   },
   "outputs": [
    {
     "name": "stderr",
     "output_type": "stream",
     "text": [
      "\u001b[1m\u001b[22m`geom_smooth()` using formula = 'y ~ x'\n",
      "Warning message in eval(family$initialize):\n",
      "“non-integer #successes in a binomial glm!”\n"
     ]
    },
    {
     "data": {
      "image/png": "[encoded data removed]",
      "text/plain": [
       "plot without title"
      ]
     },
     "metadata": {
      "image/png": {
       "height": 420,
       "width": 420
      }
     },
     "output_type": "display_data"
    }
   ],
   "source": [
    "ggplot(data2, aes(x=time, y=Nreads/Total)) + \n",
    "    geom_point(aes(color=Rep),size=3) + \n",
    "    geom_smooth(method=\"glm\", method.args=list(family=\"binomial\"))"
   ]
  },
  {
   "cell_type": "code",
   "execution_count": 57,
   "metadata": {
    "vscode": {
     "languageId": "r"
    }
   },
   "outputs": [
    {
     "data": {
      "text/plain": [
       "\n",
       "Call:\n",
       "glm(formula = cbind(Nreads, Total - Nreads) ~ time, family = binomial, \n",
       "    data = data2)\n",
       "\n",
       "Deviance Residuals: \n",
       "    Min       1Q   Median       3Q      Max  \n",
       "-5.3408  -3.3896  -0.5026   1.4831  15.9141  \n",
       "\n",
       "Coefficients:\n",
       "             Estimate Std. Error z value Pr(>|z|)    \n",
       "(Intercept) -0.123723   0.035139  -3.521  0.00043 ***\n",
       "time         0.102024   0.003226  31.621  < 2e-16 ***\n",
       "---\n",
       "Signif. codes:  0 ‘***’ 0.001 ‘**’ 0.01 ‘*’ 0.05 ‘.’ 0.1 ‘ ’ 1\n",
       "\n",
       "(Dispersion parameter for binomial family taken to be 1)\n",
       "\n",
       "    Null deviance: 1493.54  on 8  degrees of freedom\n",
       "Residual deviance:  323.74  on 7  degrees of freedom\n",
       "AIC: 385.61\n",
       "\n",
       "Number of Fisher Scoring iterations: 5\n"
      ]
     },
     "metadata": {},
     "output_type": "display_data"
    }
   ],
   "source": [
    "\n",
    "glm2=glm( cbind(Nreads,Total-Nreads) ~ time, data=data2, family=binomial)\n",
    "\n",
    "summary(glm2)"
   ]
  },
  {
   "cell_type": "code",
   "execution_count": 58,
   "metadata": {
    "vscode": {
     "languageId": "r"
    }
   },
   "outputs": [
    {
     "data": {
      "text/plain": [
       "Generalized linear mixed model fit by maximum likelihood (Laplace\n",
       "  Approximation) [glmerMod]\n",
       " Family: binomial  ( logit )\n",
       "Formula: cbind(Nreads, Total - Nreads) ~ time + (1 | Rep)\n",
       "   Data: data2\n",
       "\n",
       "     AIC      BIC   logLik deviance df.resid \n",
       "   302.8    303.4   -148.4    296.8        6 \n",
       "\n",
       "Scaled residuals: \n",
       "   Min     1Q Median     3Q    Max \n",
       "-3.914 -3.324 -1.309  1.632  9.717 \n",
       "\n",
       "Random effects:\n",
       " Groups Name        Variance Std.Dev.\n",
       " Rep    (Intercept) 0.07167  0.2677  \n",
       "Number of obs: 9, groups:  Rep, 3\n",
       "\n",
       "Fixed effects:\n",
       "             Estimate Std. Error z value Pr(>|z|)    \n",
       "(Intercept) -0.124390   0.158576  -0.784    0.433    \n",
       "time         0.103402   0.003257  31.746   <2e-16 ***\n",
       "---\n",
       "Signif. codes:  0 ‘***’ 0.001 ‘**’ 0.01 ‘*’ 0.05 ‘.’ 0.1 ‘ ’ 1\n",
       "\n",
       "Correlation of Fixed Effects:\n",
       "     (Intr)\n",
       "time -0.144"
      ]
     },
     "metadata": {},
     "output_type": "display_data"
    }
   ],
   "source": [
    "library(lme4)\n",
    "glmer2=glmer( cbind(Nreads,Total-Nreads) ~ time + (1|Rep), data=data2, family=binomial)\n",
    "\n",
    "summary(glmer2)"
   ]
  },
  {
   "cell_type": "code",
   "execution_count": 60,
   "metadata": {
    "vscode": {
     "languageId": "r"
    }
   },
   "outputs": [
    {
     "data": {
      "text/plain": [
       "$Rep\n",
       "  (Intercept)      time\n",
       "1   0.2468881 0.1034025\n",
       "2  -0.2840706 0.1034025\n",
       "3  -0.3367629 0.1034025\n",
       "\n",
       "attr(,\"class\")\n",
       "[1] \"coef.mer\""
      ]
     },
     "metadata": {},
     "output_type": "display_data"
    }
   ],
   "source": [
    "coef(glmer2)"
   ]
  },
  {
   "cell_type": "code",
   "execution_count": 63,
   "metadata": {
    "vscode": {
     "languageId": "r"
    }
   },
   "outputs": [
    {
     "data": {
      "text/html": [
       "<pre class=language-r><code>function (eta) \n",
       ".Call(C_logit_linkinv, eta)</code></pre>"
      ],
      "text/latex": [
       "\\begin{minted}{r}\n",
       "function (eta) \n",
       ".Call(C\\_logit\\_linkinv, eta)\n",
       "\\end{minted}"
      ],
      "text/markdown": [
       "```r\n",
       "function (eta) \n",
       ".Call(C_logit_linkinv, eta)\n",
       "```"
      ],
      "text/plain": [
       "function (eta) \n",
       ".Call(C_logit_linkinv, eta)\n",
       "<environment: namespace:stats>"
      ]
     },
     "metadata": {},
     "output_type": "display_data"
    }
   ],
   "source": []
  },
  {
   "cell_type": "code",
   "execution_count": 65,
   "metadata": {
    "vscode": {
     "languageId": "r"
    }
   },
   "outputs": [],
   "source": [
    "cbind(data2,prediction = predict(glmer2)) %>%\n",
    "mutate( prediction2 = binomial()$linkinv(prediction)) -> data_to_plot"
   ]
  },
  {
   "cell_type": "code",
   "execution_count": 66,
   "metadata": {
    "vscode": {
     "languageId": "r"
    }
   },
   "outputs": [
    {
     "name": "stderr",
     "output_type": "stream",
     "text": [
      "\u001b[1m\u001b[22m`geom_smooth()` using formula = 'y ~ x'\n",
      "Warning message in eval(family$initialize):\n",
      "“non-integer #successes in a binomial glm!”\n"
     ]
    },
    {
     "data": {
      "image/png": "[encoded data removed]",
      "text/plain": [
       "plot without title"
      ]
     },
     "metadata": {
      "image/png": {
       "height": 420,
       "width": 420
      }
     },
     "output_type": "display_data"
    }
   ],
   "source": [
    "ggplot(data_to_plot, aes(x=time, y=Nreads/Total)) + \n",
    "    geom_point(aes(color=Rep),size=3) + \n",
    "    geom_line(aes(x=time,y=prediction2,group=Rep,color=Rep))+\n",
    "    geom_smooth(method=\"glm\", method.args=list(family=\"binomial\"))"
   ]
  },
  {
   "cell_type": "code",
   "execution_count": null,
   "metadata": {
    "vscode": {
     "languageId": "r"
    }
   },
   "outputs": [],
   "source": [
    "## two genotypes"
   ]
  },
  {
   "cell_type": "code",
   "execution_count": 81,
   "metadata": {
    "vscode": {
     "languageId": "r"
    }
   },
   "outputs": [
    {
     "data": {
      "text/html": [
       "<table class=\"dataframe\">\n",
       "<caption>A data.frame: 12 × 4</caption>\n",
       "<thead>\n",
       "\t<tr><th scope=col>Nreads</th><th scope=col>Total</th><th scope=col>time</th><th scope=col>genotype</th></tr>\n",
       "\t<tr><th scope=col>&lt;dbl&gt;</th><th scope=col>&lt;dbl&gt;</th><th scope=col>&lt;dbl&gt;</th><th scope=col>&lt;chr&gt;</th></tr>\n",
       "</thead>\n",
       "<tbody>\n",
       "\t<tr><td>430</td><td>10000</td><td> 0</td><td>A</td></tr>\n",
       "\t<tr><td>455</td><td>10000</td><td> 0</td><td>A</td></tr>\n",
       "\t<tr><td>465</td><td>10000</td><td> 0</td><td>A</td></tr>\n",
       "\t<tr><td>818</td><td>10000</td><td>35</td><td>A</td></tr>\n",
       "\t<tr><td>998</td><td>10000</td><td>35</td><td>A</td></tr>\n",
       "\t<tr><td>812</td><td>10000</td><td>35</td><td>A</td></tr>\n",
       "\t<tr><td>330</td><td>10000</td><td> 0</td><td>B</td></tr>\n",
       "\t<tr><td>355</td><td>10000</td><td> 0</td><td>B</td></tr>\n",
       "\t<tr><td>365</td><td>10000</td><td> 0</td><td>B</td></tr>\n",
       "\t<tr><td>618</td><td>10000</td><td>35</td><td>B</td></tr>\n",
       "\t<tr><td>698</td><td>10000</td><td>35</td><td>B</td></tr>\n",
       "\t<tr><td>612</td><td>10000</td><td>35</td><td>B</td></tr>\n",
       "</tbody>\n",
       "</table>\n"
      ],
      "text/latex": [
       "A data.frame: 12 × 4\n",
       "\\begin{tabular}{llll}\n",
       " Nreads & Total & time & genotype\\\\\n",
       " <dbl> & <dbl> & <dbl> & <chr>\\\\\n",
       "\\hline\n",
       "\t 430 & 10000 &  0 & A\\\\\n",
       "\t 455 & 10000 &  0 & A\\\\\n",
       "\t 465 & 10000 &  0 & A\\\\\n",
       "\t 818 & 10000 & 35 & A\\\\\n",
       "\t 998 & 10000 & 35 & A\\\\\n",
       "\t 812 & 10000 & 35 & A\\\\\n",
       "\t 330 & 10000 &  0 & B\\\\\n",
       "\t 355 & 10000 &  0 & B\\\\\n",
       "\t 365 & 10000 &  0 & B\\\\\n",
       "\t 618 & 10000 & 35 & B\\\\\n",
       "\t 698 & 10000 & 35 & B\\\\\n",
       "\t 612 & 10000 & 35 & B\\\\\n",
       "\\end{tabular}\n"
      ],
      "text/markdown": [
       "\n",
       "A data.frame: 12 × 4\n",
       "\n",
       "| Nreads &lt;dbl&gt; | Total &lt;dbl&gt; | time &lt;dbl&gt; | genotype &lt;chr&gt; |\n",
       "|---|---|---|---|\n",
       "| 430 | 10000 |  0 | A |\n",
       "| 455 | 10000 |  0 | A |\n",
       "| 465 | 10000 |  0 | A |\n",
       "| 818 | 10000 | 35 | A |\n",
       "| 998 | 10000 | 35 | A |\n",
       "| 812 | 10000 | 35 | A |\n",
       "| 330 | 10000 |  0 | B |\n",
       "| 355 | 10000 |  0 | B |\n",
       "| 365 | 10000 |  0 | B |\n",
       "| 618 | 10000 | 35 | B |\n",
       "| 698 | 10000 | 35 | B |\n",
       "| 612 | 10000 | 35 | B |\n",
       "\n"
      ],
      "text/plain": [
       "   Nreads Total time genotype\n",
       "1  430    10000  0   A       \n",
       "2  455    10000  0   A       \n",
       "3  465    10000  0   A       \n",
       "4  818    10000 35   A       \n",
       "5  998    10000 35   A       \n",
       "6  812    10000 35   A       \n",
       "7  330    10000  0   B       \n",
       "8  355    10000  0   B       \n",
       "9  365    10000  0   B       \n",
       "10 618    10000 35   B       \n",
       "11 698    10000 35   B       \n",
       "12 612    10000 35   B       "
      ]
     },
     "metadata": {},
     "output_type": "display_data"
    }
   ],
   "source": [
    "rbind(\n",
    "\n",
    "data.frame( Nreads = c(430,455,465,818,998,812),\n",
    "            Total = rep(10000,6),\n",
    "                       time = c(0,0,0,35,35,35),\n",
    "                       genotype=\"A\") ,\n",
    "\n",
    "data.frame( Nreads = c(330,355,365,618,698,612),\n",
    "            Total = rep(10000,6),\n",
    "                       time = c(0,0,0,35,35,35),\n",
    "                       genotype=\"B\") \n",
    ") -> data3\n",
    "\n",
    "data3"
   ]
  },
  {
   "cell_type": "code",
   "execution_count": 92,
   "metadata": {
    "vscode": {
     "languageId": "r"
    }
   },
   "outputs": [
    {
     "name": "stdout",
     "output_type": "stream",
     "text": [
      "model.matrix               package:stats               R Documentation\n",
      "\n",
      "_\bC_\bo_\bn_\bs_\bt_\br_\bu_\bc_\bt _\bD_\be_\bs_\bi_\bg_\bn _\bM_\ba_\bt_\br_\bi_\bc_\be_\bs\n",
      "\n",
      "_\bD_\be_\bs_\bc_\br_\bi_\bp_\bt_\bi_\bo_\bn:\n",
      "\n",
      "     ‘model.matrix’ creates a design (or model) matrix, e.g., by\n",
      "     expanding factors to a set of dummy variables (depending on the\n",
      "     contrasts) and expanding interactions similarly.\n",
      "\n",
      "_\bU_\bs_\ba_\bg_\be:\n",
      "\n",
      "     model.matrix(object, ...)\n",
      "     \n",
      "     ## Default S3 method:\n",
      "     model.matrix(object, data = environment(object),\n",
      "                  contrasts.arg = NULL, xlev = NULL, ...)\n",
      "     \n",
      "_\bA_\br_\bg_\bu_\bm_\be_\bn_\bt_\bs:\n",
      "\n",
      "  object: an object of an appropriate class.  For the default method, a\n",
      "          model formula or a ‘terms’ object.\n",
      "\n",
      "    data: a data frame created with ‘model.frame’.  If another sort of\n",
      "          object, ‘model.frame’ is called first.\n",
      "\n",
      "contrasts.arg: a list, whose entries are values (numeric matrices,\n",
      "          ‘function’s or character strings naming functions) to be used\n",
      "          as replacement values for the ‘contrasts’ replacement\n",
      "          function and whose names are the names of columns of ‘data’\n",
      "          containing ‘factor’s.\n",
      "\n",
      "    xlev: to be used as argument of ‘model.frame’ if ‘data’ is such\n",
      "          that ‘model.frame’ is called.\n",
      "\n",
      "     ...: further arguments passed to or from other methods.\n",
      "\n",
      "_\bD_\be_\bt_\ba_\bi_\bl_\bs:\n",
      "\n",
      "     ‘model.matrix’ creates a design matrix from the description given\n",
      "     in ‘terms(object)’, using the data in ‘data’ which must supply\n",
      "     variables with the same names as would be created by a call to\n",
      "     ‘model.frame(object)’ or, more precisely, by evaluating\n",
      "     ‘attr(terms(object), \"variables\")’.  If ‘data’ is a data frame,\n",
      "     there may be other columns and the order of columns is not\n",
      "     important.  Any character variables are coerced to factors.  After\n",
      "     coercion, all the variables used on the right-hand side of the\n",
      "     formula must be logical, integer, numeric or factor.\n",
      "\n",
      "     If ‘contrasts.arg’ is specified for a factor it overrides the\n",
      "     default factor coding for that variable and any ‘\"contrasts\"’\n",
      "     attribute set by ‘C’ or ‘contrasts’.  Whereas invalid\n",
      "     ‘contrasts.arg’s have been ignored always, they are warned about\n",
      "     since R version 3.6.0.\n",
      "\n",
      "     In an interaction term, the variable whose levels vary fastest is\n",
      "     the first one to appear in the formula (and not in the term), so\n",
      "     in ‘~ a + b + b:a’ the interaction will have ‘a’ varying fastest.\n",
      "\n",
      "     By convention, if the response variable also appears on the\n",
      "     right-hand side of the formula it is dropped (with a warning),\n",
      "     although interactions involving the term are retained.\n",
      "\n",
      "_\bV_\ba_\bl_\bu_\be:\n",
      "\n",
      "     The design matrix for a regression-like model with the specified\n",
      "     formula and data.\n",
      "\n",
      "     There is an attribute ‘\"assign\"’, an integer vector with an entry\n",
      "     for each column in the matrix giving the term in the formula which\n",
      "     gave rise to the column.  Value ‘0’ corresponds to the intercept\n",
      "     (if any), and positive values to terms in the order given by the\n",
      "     ‘term.labels’ attribute of the ‘terms’ structure corresponding to\n",
      "     ‘object’.\n",
      "\n",
      "     If there are any factors in terms in the model, there is an\n",
      "     attribute ‘\"contrasts\"’, a named list with an entry for each\n",
      "     factor.  This specifies the contrasts that would be used in terms\n",
      "     in which the factor is coded by contrasts (in some terms dummy\n",
      "     coding may be used), either as a character vector naming a\n",
      "     function or as a numeric matrix.\n",
      "\n",
      "_\bR_\be_\bf_\be_\br_\be_\bn_\bc_\be_\bs:\n",
      "\n",
      "     Chambers, J. M. (1992) _Data for models._ Chapter 3 of\n",
      "     _Statistical Models in S_ eds J. M. Chambers and T. J. Hastie,\n",
      "     Wadsworth & Brooks/Cole.\n",
      "\n",
      "_\bS_\be_\be _\bA_\bl_\bs_\bo:\n",
      "\n",
      "     ‘model.frame’, ‘model.extract’, ‘terms’\n",
      "\n",
      "     ‘sparse.model.matrix’ from package ‘Matrix’ for creating _sparse_\n",
      "     model matrices, which may be more efficient in large dimensions.\n",
      "\n",
      "_\bE_\bx_\ba_\bm_\bp_\bl_\be_\bs:\n",
      "\n",
      "     ff <- log(Volume) ~ log(Height) + log(Girth)\n",
      "     utils::str(m <- model.frame(ff, trees))\n",
      "     mat <- model.matrix(ff, m)\n",
      "     \n",
      "     dd <- data.frame(a = gl(3,4), b = gl(4,1,12)) # balanced 2-way\n",
      "     options(\"contrasts\") # typically 'treatment' (for unordered factors)\n",
      "     model.matrix(~ a + b, dd)\n",
      "     model.matrix(~ a + b, dd, contrasts.arg = list(a = \"contr.sum\"))\n",
      "     model.matrix(~ a + b, dd, contrasts.arg = list(a = \"contr.sum\", b = contr.poly))\n",
      "     m.orth <- model.matrix(~a+b, dd, contrasts.arg = list(a = \"contr.helmert\"))\n",
      "     crossprod(m.orth) # m.orth is  ALMOST  orthogonal\n",
      "     # invalid contrasts.. ignored with a warning:\n",
      "     stopifnot(identical(\n",
      "        model.matrix(~ a + b, dd),\n",
      "        model.matrix(~ a + b, dd, contrasts.arg = \"contr.FOO\")))\n",
      "     "
     ]
    }
   ],
   "source": [
    "?model.matrix.default"
   ]
  },
  {
   "cell_type": "code",
   "execution_count": null,
   "metadata": {
    "vscode": {
     "languageId": "r"
    }
   },
   "outputs": [],
   "source": [
    "### time*genotype = time + genotype + time:genotype"
   ]
  },
  {
   "cell_type": "code",
   "execution_count": 96,
   "metadata": {
    "vscode": {
     "languageId": "r"
    }
   },
   "outputs": [
    {
     "data": {
      "text/html": [
       "<table class=\"dataframe\">\n",
       "<caption>A matrix: 12 × 4 of type dbl</caption>\n",
       "<thead>\n",
       "\t<tr><th></th><th scope=col>(Intercept)</th><th scope=col>genotypeB</th><th scope=col>time</th><th scope=col>genotypeB:time</th></tr>\n",
       "</thead>\n",
       "<tbody>\n",
       "\t<tr><th scope=row>1</th><td>1</td><td>0</td><td> 0</td><td> 0</td></tr>\n",
       "\t<tr><th scope=row>2</th><td>1</td><td>0</td><td> 0</td><td> 0</td></tr>\n",
       "\t<tr><th scope=row>3</th><td>1</td><td>0</td><td> 0</td><td> 0</td></tr>\n",
       "\t<tr><th scope=row>4</th><td>1</td><td>0</td><td>35</td><td> 0</td></tr>\n",
       "\t<tr><th scope=row>5</th><td>1</td><td>0</td><td>35</td><td> 0</td></tr>\n",
       "\t<tr><th scope=row>6</th><td>1</td><td>0</td><td>35</td><td> 0</td></tr>\n",
       "\t<tr><th scope=row>7</th><td>1</td><td>1</td><td> 0</td><td> 0</td></tr>\n",
       "\t<tr><th scope=row>8</th><td>1</td><td>1</td><td> 0</td><td> 0</td></tr>\n",
       "\t<tr><th scope=row>9</th><td>1</td><td>1</td><td> 0</td><td> 0</td></tr>\n",
       "\t<tr><th scope=row>10</th><td>1</td><td>1</td><td>35</td><td>35</td></tr>\n",
       "\t<tr><th scope=row>11</th><td>1</td><td>1</td><td>35</td><td>35</td></tr>\n",
       "\t<tr><th scope=row>12</th><td>1</td><td>1</td><td>35</td><td>35</td></tr>\n",
       "</tbody>\n",
       "</table>\n"
      ],
      "text/latex": [
       "A matrix: 12 × 4 of type dbl\n",
       "\\begin{tabular}{r|llll}\n",
       "  & (Intercept) & genotypeB & time & genotypeB:time\\\\\n",
       "\\hline\n",
       "\t1 & 1 & 0 &  0 &  0\\\\\n",
       "\t2 & 1 & 0 &  0 &  0\\\\\n",
       "\t3 & 1 & 0 &  0 &  0\\\\\n",
       "\t4 & 1 & 0 & 35 &  0\\\\\n",
       "\t5 & 1 & 0 & 35 &  0\\\\\n",
       "\t6 & 1 & 0 & 35 &  0\\\\\n",
       "\t7 & 1 & 1 &  0 &  0\\\\\n",
       "\t8 & 1 & 1 &  0 &  0\\\\\n",
       "\t9 & 1 & 1 &  0 &  0\\\\\n",
       "\t10 & 1 & 1 & 35 & 35\\\\\n",
       "\t11 & 1 & 1 & 35 & 35\\\\\n",
       "\t12 & 1 & 1 & 35 & 35\\\\\n",
       "\\end{tabular}\n"
      ],
      "text/markdown": [
       "\n",
       "A matrix: 12 × 4 of type dbl\n",
       "\n",
       "| <!--/--> | (Intercept) | genotypeB | time | genotypeB:time |\n",
       "|---|---|---|---|---|\n",
       "| 1 | 1 | 0 |  0 |  0 |\n",
       "| 2 | 1 | 0 |  0 |  0 |\n",
       "| 3 | 1 | 0 |  0 |  0 |\n",
       "| 4 | 1 | 0 | 35 |  0 |\n",
       "| 5 | 1 | 0 | 35 |  0 |\n",
       "| 6 | 1 | 0 | 35 |  0 |\n",
       "| 7 | 1 | 1 |  0 |  0 |\n",
       "| 8 | 1 | 1 |  0 |  0 |\n",
       "| 9 | 1 | 1 |  0 |  0 |\n",
       "| 10 | 1 | 1 | 35 | 35 |\n",
       "| 11 | 1 | 1 | 35 | 35 |\n",
       "| 12 | 1 | 1 | 35 | 35 |\n",
       "\n"
      ],
      "text/plain": [
       "   (Intercept) genotypeB time genotypeB:time\n",
       "1  1           0          0    0            \n",
       "2  1           0          0    0            \n",
       "3  1           0          0    0            \n",
       "4  1           0         35    0            \n",
       "5  1           0         35    0            \n",
       "6  1           0         35    0            \n",
       "7  1           1          0    0            \n",
       "8  1           1          0    0            \n",
       "9  1           1          0    0            \n",
       "10 1           1         35   35            \n",
       "11 1           1         35   35            \n",
       "12 1           1         35   35            "
      ]
     },
     "metadata": {},
     "output_type": "display_data"
    }
   ],
   "source": [
    " model.matrix(~ genotype*time, data3)"
   ]
  },
  {
   "cell_type": "code",
   "execution_count": 110,
   "metadata": {
    "vscode": {
     "languageId": "r"
    }
   },
   "outputs": [],
   "source": [
    "glm3 = glm( cbind(Nreads,Total-Nreads) ~ time*genotype, data=data3, family=binomial)"
   ]
  },
  {
   "cell_type": "code",
   "execution_count": 99,
   "metadata": {
    "vscode": {
     "languageId": "r"
    }
   },
   "outputs": [
    {
     "data": {
      "text/plain": [
       "\n",
       "Call:\n",
       "glm(formula = cbind(Nreads, Total - Nreads) ~ time * genotype, \n",
       "    family = binomial, data = data3)\n",
       "\n",
       "Deviance Residuals: \n",
       "    Min       1Q   Median       3Q      Max  \n",
       "-2.2895  -1.1389  -0.3655   0.7425   4.2298  \n",
       "\n",
       "Coefficients:\n",
       "                 Estimate Std. Error  z value Pr(>|z|)    \n",
       "(Intercept)    -3.0550489  0.0278504 -109.695  < 2e-16 ***\n",
       "time            0.0203358  0.0009867   20.609  < 2e-16 ***\n",
       "genotypeB      -0.2617312  0.0419829   -6.234 4.54e-10 ***\n",
       "time:genotypeB -0.0020932  0.0014939   -1.401    0.161    \n",
       "---\n",
       "Signif. codes:  0 ‘***’ 0.001 ‘**’ 0.01 ‘*’ 0.05 ‘.’ 0.1 ‘ ’ 1\n",
       "\n",
       "(Dispersion parameter for binomial family taken to be 1)\n",
       "\n",
       "    Null deviance: 914.94  on 11  degrees of freedom\n",
       "Residual deviance:  38.46  on  8  degrees of freedom\n",
       "AIC: 143.4\n",
       "\n",
       "Number of Fisher Scoring iterations: 3\n"
      ]
     },
     "metadata": {},
     "output_type": "display_data"
    }
   ],
   "source": [
    "summary(glm3 )\n",
    "\n",
    "# Coefficients:\n",
    "#                  Estimate     \n",
    "# (Intercept)    -3.0550489   logit of A at time 0\n",
    "# time            0.0203358  slope for A\n",
    "# genotypeB      -0.2617312  difference of logit of A and B at time 0 A-B\n",
    "# time:genotypeB -0.0020932  slope difference of A and B"
   ]
  },
  {
   "cell_type": "code",
   "execution_count": 119,
   "metadata": {
    "vscode": {
     "languageId": "r"
    }
   },
   "outputs": [
    {
     "name": "stderr",
     "output_type": "stream",
     "text": [
      "Waiting for profiling to be done...\n",
      "\n"
     ]
    },
    {
     "data": {
      "text/html": [
       "<table class=\"dataframe\">\n",
       "<caption>A matrix: 4 × 2 of type dbl</caption>\n",
       "<thead>\n",
       "\t<tr><th></th><th scope=col>2.5 %</th><th scope=col>97.5 %</th></tr>\n",
       "</thead>\n",
       "<tbody>\n",
       "\t<tr><th scope=row>(Intercept)</th><td>-3.110091614</td><td>-3.0009114103</td></tr>\n",
       "\t<tr><th scope=row>time</th><td> 0.018407850</td><td> 0.0222760706</td></tr>\n",
       "\t<tr><th scope=row>genotypeB</th><td>-0.344157063</td><td>-0.1795661145</td></tr>\n",
       "\t<tr><th scope=row>time:genotypeB</th><td>-0.005019788</td><td> 0.0008365971</td></tr>\n",
       "</tbody>\n",
       "</table>\n"
      ],
      "text/latex": [
       "A matrix: 4 × 2 of type dbl\n",
       "\\begin{tabular}{r|ll}\n",
       "  & 2.5 \\% & 97.5 \\%\\\\\n",
       "\\hline\n",
       "\t(Intercept) & -3.110091614 & -3.0009114103\\\\\n",
       "\ttime &  0.018407850 &  0.0222760706\\\\\n",
       "\tgenotypeB & -0.344157063 & -0.1795661145\\\\\n",
       "\ttime:genotypeB & -0.005019788 &  0.0008365971\\\\\n",
       "\\end{tabular}\n"
      ],
      "text/markdown": [
       "\n",
       "A matrix: 4 × 2 of type dbl\n",
       "\n",
       "| <!--/--> | 2.5 % | 97.5 % |\n",
       "|---|---|---|\n",
       "| (Intercept) | -3.110091614 | -3.0009114103 |\n",
       "| time |  0.018407850 |  0.0222760706 |\n",
       "| genotypeB | -0.344157063 | -0.1795661145 |\n",
       "| time:genotypeB | -0.005019788 |  0.0008365971 |\n",
       "\n"
      ],
      "text/plain": [
       "               2.5 %        97.5 %       \n",
       "(Intercept)    -3.110091614 -3.0009114103\n",
       "time            0.018407850  0.0222760706\n",
       "genotypeB      -0.344157063 -0.1795661145\n",
       "time:genotypeB -0.005019788  0.0008365971"
      ]
     },
     "metadata": {},
     "output_type": "display_data"
    },
    {
     "data": {
      "text/html": [
       "<style>\n",
       ".dl-inline {width: auto; margin:0; padding: 0}\n",
       ".dl-inline>dt, .dl-inline>dd {float: none; width: auto; display: inline-block}\n",
       ".dl-inline>dt::after {content: \":\\0020\"; padding-right: .5ex}\n",
       ".dl-inline>dt:not(:first-of-type) {padding-left: .5ex}\n",
       "</style><dl class=dl-inline><dt>(Intercept)</dt><dd>-3.0550488507104</dd><dt>time</dt><dd>0.0203357530935946</dd><dt>genotypeB</dt><dd>-0.261731189139108</dd><dt>time:genotypeB</dt><dd>-0.0020931645862273</dd></dl>\n"
      ],
      "text/latex": [
       "\\begin{description*}\n",
       "\\item[(Intercept)] -3.0550488507104\n",
       "\\item[time] 0.0203357530935946\n",
       "\\item[genotypeB] -0.261731189139108\n",
       "\\item[time:genotypeB] -0.0020931645862273\n",
       "\\end{description*}\n"
      ],
      "text/markdown": [
       "(Intercept)\n",
       ":   -3.0550488507104time\n",
       ":   0.0203357530935946genotypeB\n",
       ":   -0.261731189139108time:genotypeB\n",
       ":   -0.0020931645862273\n",
       "\n"
      ],
      "text/plain": [
       "   (Intercept)           time      genotypeB time:genotypeB \n",
       "  -3.055048851    0.020335753   -0.261731189   -0.002093165 "
      ]
     },
     "metadata": {},
     "output_type": "display_data"
    }
   ],
   "source": [
    "confint(glm3)\n"
   ]
  },
  {
   "cell_type": "code",
   "execution_count": 108,
   "metadata": {
    "vscode": {
     "languageId": "r"
    }
   },
   "outputs": [
    {
     "data": {
      "text/html": [
       "0.994992790080549"
      ],
      "text/latex": [
       "0.994992790080549"
      ],
      "text/markdown": [
       "0.994992790080549"
      ],
      "text/plain": [
       "[1] 0.9949928"
      ]
     },
     "metadata": {},
     "output_type": "display_data"
    }
   ],
   "source": [
    "exp(-0.005019788)"
   ]
  },
  {
   "cell_type": "code",
   "execution_count": 120,
   "metadata": {
    "vscode": {
     "languageId": "r"
    }
   },
   "outputs": [
    {
     "data": {
      "text/html": [
       "<strong>time:</strong> 0.0203357530935946"
      ],
      "text/latex": [
       "\\textbf{time:} 0.0203357530935946"
      ],
      "text/markdown": [
       "**time:** 0.0203357530935946"
      ],
      "text/plain": [
       "      time \n",
       "0.02033575 "
      ]
     },
     "metadata": {},
     "output_type": "display_data"
    },
    {
     "data": {
      "text/html": [
       "<strong>time:</strong> 0.0182425885073673"
      ],
      "text/latex": [
       "\\textbf{time:} 0.0182425885073673"
      ],
      "text/markdown": [
       "**time:** 0.0182425885073673"
      ],
      "text/plain": [
       "      time \n",
       "0.01824259 "
      ]
     },
     "metadata": {},
     "output_type": "display_data"
    },
    {
     "data": {
      "text/html": [
       "<strong>time:</strong> -0.00209316458622734"
      ],
      "text/latex": [
       "\\textbf{time:} -0.00209316458622734"
      ],
      "text/markdown": [
       "**time:** -0.00209316458622734"
      ],
      "text/plain": [
       "        time \n",
       "-0.002093165 "
      ]
     },
     "metadata": {},
     "output_type": "display_data"
    },
    {
     "data": {
      "text/html": [
       "<strong>time:genotypeB:</strong> -0.0020931645862273"
      ],
      "text/latex": [
       "\\textbf{time:genotypeB:} -0.0020931645862273"
      ],
      "text/markdown": [
       "**time:genotypeB:** -0.0020931645862273"
      ],
      "text/plain": [
       "time:genotypeB \n",
       "  -0.002093165 "
      ]
     },
     "metadata": {},
     "output_type": "display_data"
    }
   ],
   "source": [
    "data3 %>% filter(genotype==\"A\") %>%\n",
    "\n",
    "glm( cbind(Nreads,Total-Nreads) ~ time, data=., family=binomial) %>%\n",
    "{coef(.)[2]} -> coefA\n",
    "\n",
    "data3 %>% filter(genotype==\"B\") %>%\n",
    "\n",
    "glm( cbind(Nreads,Total-Nreads) ~ time, data=., family=binomial) %>%\n",
    "{coef(.)[2]} -> coefB\n",
    "\n",
    "coefA; coefB \n",
    "coefB - coefA\n",
    "\n",
    "coef(glm3)['time:genotypeB']"
   ]
  },
  {
   "cell_type": "code",
   "execution_count": 121,
   "metadata": {
    "vscode": {
     "languageId": "r"
    }
   },
   "outputs": [
    {
     "data": {
      "text/plain": [
       "R version 4.1.3 (2022-03-10)\n",
       "Platform: x86_64-conda-linux-gnu (64-bit)\n",
       "Running under: Ubuntu 18.04.6 LTS\n",
       "\n",
       "Matrix products: default\n",
       "BLAS/LAPACK: /home/apapkou/miniconda3/envs/lsp/lib/libopenblasp-r0.3.21.so\n",
       "\n",
       "locale:\n",
       " [1] LC_CTYPE=en_GB.utf8       LC_NUMERIC=C             \n",
       " [3] LC_TIME=en_GB.utf8        LC_COLLATE=en_GB.utf8    \n",
       " [5] LC_MONETARY=en_GB.utf8    LC_MESSAGES=en_GB.utf8   \n",
       " [7] LC_PAPER=en_GB.utf8       LC_NAME=C                \n",
       " [9] LC_ADDRESS=C              LC_TELEPHONE=C           \n",
       "[11] LC_MEASUREMENT=en_GB.utf8 LC_IDENTIFICATION=C      \n",
       "\n",
       "attached base packages:\n",
       "[1] stats4    stats     graphics  grDevices utils     datasets  methods  \n",
       "[8] base     \n",
       "\n",
       "other attached packages:\n",
       " [1] lme4_1.1-30         Matrix_1.4-1        Biostrings_2.62.0  \n",
       " [4] GenomeInfoDb_1.30.1 XVector_0.34.0      IRanges_2.28.0     \n",
       " [7] S4Vectors_0.32.4    BiocGenerics_0.40.0 forcats_0.5.1      \n",
       "[10] stringr_1.4.0       dplyr_1.0.9         purrr_0.3.4        \n",
       "[13] readr_2.1.2         tidyr_1.2.0         tibble_3.1.8       \n",
       "[16] ggplot2_3.4.0       tidyverse_1.3.2    \n",
       "\n",
       "loaded via a namespace (and not attached):\n",
       " [1] nlme_3.1-159           bitops_1.0-7           fs_1.5.2              \n",
       " [4] lubridate_1.8.0        httr_1.4.3             repr_1.1.6.9000       \n",
       " [7] tools_4.1.3            backports_1.4.1        utf8_1.2.3            \n",
       "[10] R6_2.5.1               DBI_1.1.3              mgcv_1.8-40           \n",
       "[13] colorspace_2.0-3       withr_2.5.0            tidyselect_1.2.0      \n",
       "[16] compiler_4.1.3         cli_3.6.1              rvest_1.0.2           \n",
       "[19] xml2_1.3.4             labeling_0.4.2         scales_1.2.0          \n",
       "[22] pbdZMQ_0.3-7           digest_0.6.33          minqa_1.2.4           \n",
       "[25] base64enc_0.1-3        pkgconfig_2.0.3        htmltools_0.5.5       \n",
       "[28] dbplyr_2.2.1           fastmap_1.1.1          rlang_1.1.1           \n",
       "[31] readxl_1.4.0           generics_0.1.3         farver_2.1.1          \n",
       "[34] jsonlite_1.8.7         googlesheets4_1.0.0    RCurl_1.98-1.8        \n",
       "[37] magrittr_2.0.3         GenomeInfoDbData_1.2.7 Rcpp_1.0.9            \n",
       "[40] IRkernel_1.3.1         munsell_0.5.0          fansi_1.0.4           \n",
       "[43] lifecycle_1.0.3        stringi_1.7.12         MASS_7.3-58.1         \n",
       "[46] zlibbioc_1.40.0        plyr_1.8.7             grid_4.1.3            \n",
       "[49] crayon_1.5.1           lattice_0.20-45        IRdisplay_1.1         \n",
       "[52] haven_2.5.0            splines_4.1.3          hms_1.1.1             \n",
       "[55] pillar_1.9.0           uuid_1.1-0             boot_1.3-28           \n",
       "[58] reshape2_1.4.4         reprex_2.0.1           glue_1.6.2            \n",
       "[61] evaluate_0.16          modelr_0.1.8           vctrs_0.6.3           \n",
       "[64] nloptr_2.0.3           tzdb_0.3.0             cellranger_1.1.0      \n",
       "[67] gtable_0.3.0           assertthat_0.2.1       broom_1.0.0           \n",
       "[70] googledrive_2.0.0      gargle_1.2.0           ellipsis_0.3.2        "
      ]
     },
     "metadata": {},
     "output_type": "display_data"
    }
   ],
   "source": [
    "sessionInfo()\n"
   ]
  }
 ],
 "metadata": {
  "kernelspec": {
   "display_name": "R",
   "language": "R",
   "name": "ir"
  },
  "language_info": {
   "codemirror_mode": "r",
   "file_extension": ".r",
   "mimetype": "text/x-r-source",
   "name": "R",
   "pygments_lexer": "r",
   "version": "4.3.1"
  },
  "orig_nbformat": 4
 },
 "nbformat": 4,
 "nbformat_minor": 2
}
