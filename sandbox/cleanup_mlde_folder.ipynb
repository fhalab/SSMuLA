{
 "cells": [
  {
   "cell_type": "code",
   "execution_count": 1,
   "metadata": {},
   "outputs": [
    {
     "name": "stdout",
     "output_type": "stream",
     "text": [
      "/disk2/fli/SSMuLA\n"
     ]
    }
   ],
   "source": [
    "%cd ~/SSMuLA"
   ]
  },
  {
   "cell_type": "code",
   "execution_count": 2,
   "metadata": {},
   "outputs": [],
   "source": [
    "%load_ext autoreload\n",
    "%autoreload 2\n",
    "%load_ext blackcellmagic"
   ]
  },
  {
   "cell_type": "code",
   "execution_count": 7,
   "metadata": {},
   "outputs": [],
   "source": [
    "import pandas as pd\n",
    "import numpy as np\n",
    "import os\n",
    "import shutil\n",
    "from glob import glob"
   ]
  },
  {
   "cell_type": "code",
   "execution_count": 5,
   "metadata": {},
   "outputs": [
    {
     "data": {
      "text/plain": [
       "['/disk2/fli/SSMuLA/results/mlde/saved/ev_score/none-all/scale2max/DHFR/esm2_t33_650M_UR50D-flatten_site|esm2_t33_650M_UR50D-mean_all|esm2_t33_650M_UR50D-mean_site_boosting|ridge_sample384_top384.npy',\n",
       " '/disk2/fli/SSMuLA/results/mlde/saved/ev_score/none-all/scale2max/DHFR/esm2_t33_650M_UR50D-flatten_site|esm2_t33_650M_UR50D-mean_all|esm2_t33_650M_UR50D-mean_site_boosting|ridge_sample576_top96.npy',\n",
       " '/disk2/fli/SSMuLA/results/mlde/saved/ev_score/none-all/scale2max/DHFR/esm2_t33_650M_UR50D-flatten_site|esm2_t33_650M_UR50D-mean_all|esm2_t33_650M_UR50D-mean_site_boosting|ridge_sample576_top384.npy',\n",
       " '/disk2/fli/SSMuLA/results/mlde/saved/ev_score/none-all/scale2max/DHFR/esm2_t33_650M_UR50D-flatten_site|esm2_t33_650M_UR50D-mean_all|esm2_t33_650M_UR50D-mean_site_boosting|ridge_sample384_top96.npy']"
      ]
     },
     "execution_count": 5,
     "metadata": {},
     "output_type": "execute_result"
    }
   ],
   "source": [
    "glob(\"/disk2/fli/SSMuLA/results/mlde/saved/ev_score/none-all/scale2max/DHFR/esm2*\")"
   ]
  },
  {
   "cell_type": "code",
   "execution_count": 6,
   "metadata": {},
   "outputs": [
    {
     "data": {
      "text/plain": [
       "['/disk2/fli/SSMuLA/results/mlde_emb/saved/ev_score/none-all/scale2max/DHFR/esm2_t33_650M_UR50D-flatten_site|esm2_t33_650M_UR50D-mean_all|esm2_t33_650M_UR50D-mean_site_boosting|ridge_sample24|48_top96.npy',\n",
       " '/disk2/fli/SSMuLA/results/mlde_emb/saved/ev_score/none-all/scale2max/DHFR/esm2_t33_650M_UR50D-flatten_site|esm2_t33_650M_UR50D-mean_all|esm2_t33_650M_UR50D-mean_site_boosting|ridge_sample24|48_top384.npy']"
      ]
     },
     "execution_count": 6,
     "metadata": {},
     "output_type": "execute_result"
    }
   ],
   "source": [
    "glob(\"/disk2/fli/SSMuLA/results/mlde_emb/saved/ev_score/none-all/scale2max/DHFR/*\")"
   ]
  },
  {
   "cell_type": "code",
   "execution_count": null,
   "metadata": {},
   "outputs": [],
   "source": [
    "for s in glob(\"/disk2/fli/SSMuLA/results/mlde/saved/ev_score/none-all/scale2max/DHFR/esm2*\")\n",
    "\n",
    "destination_path = os.path.join(destination_dir, os.path.basename(source_path))\n"
   ]
  },
  {
   "cell_type": "code",
   "execution_count": 8,
   "metadata": {},
   "outputs": [
    {
     "data": {
      "text/plain": [
       "['/disk2/fli/SSMuLA/results/mlde_ft/saved/esm_score/none-all/scale2max/DHFR/one-hot_boosting|ridge_sample96|384_top384.npy',\n",
       " '/disk2/fli/SSMuLA/results/mlde_ft/saved/esm_score/none-all/scale2max/DHFR/one-hot_boosting|ridge_sample96|384_top96.npy']"
      ]
     },
     "execution_count": 8,
     "metadata": {},
     "output_type": "execute_result"
    }
   ],
   "source": [
    "glob(\"/disk2/fli/SSMuLA/results/mlde_ft/saved/esm_score/none-all/scale2max/DHFR/*\")"
   ]
  },
  {
   "cell_type": "code",
   "execution_count": null,
   "metadata": {},
   "outputs": [],
   "source": []
  }
 ],
 "metadata": {
  "kernelspec": {
   "display_name": "SSMuLA",
   "language": "python",
   "name": "python3"
  },
  "language_info": {
   "codemirror_mode": {
    "name": "ipython",
    "version": 3
   },
   "file_extension": ".py",
   "mimetype": "text/x-python",
   "name": "python",
   "nbconvert_exporter": "python",
   "pygments_lexer": "ipython3",
   "version": "3.10.14"
  }
 },
 "nbformat": 4,
 "nbformat_minor": 2
}
