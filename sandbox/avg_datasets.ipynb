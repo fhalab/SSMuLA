{
 "cells": [
  {
   "cell_type": "code",
   "execution_count": 1,
   "metadata": {},
   "outputs": [
    {
     "name": "stdout",
     "output_type": "stream",
     "text": [
      "/disk2/fli/SSMuLA\n"
     ]
    }
   ],
   "source": [
    "%cd ~/SSMuLA"
   ]
  },
  {
   "cell_type": "code",
   "execution_count": 2,
   "metadata": {},
   "outputs": [],
   "source": [
    "%load_ext autoreload\n",
    "%autoreload 2\n",
    "%load_ext blackcellmagic"
   ]
  },
  {
   "cell_type": "code",
   "execution_count": 3,
   "metadata": {},
   "outputs": [],
   "source": [
    "import numpy as np\n",
    "import pandas as pd\n",
    "import matplotlib.pyplot as plt\n",
    "import seaborn as sns"
   ]
  },
  {
   "cell_type": "code",
   "execution_count": 7,
   "metadata": {},
   "outputs": [],
   "source": [
    "N_SAMPLE_LIST = [24, 48, 96, 192, 288, 384, 480, 576, 960, 1920]"
   ]
  },
  {
   "cell_type": "code",
   "execution_count": 5,
   "metadata": {},
   "outputs": [],
   "source": [
    "mlde_all = pd.read_csv(\"results/mlde/all_df_comb_onehot.csv\")\n",
    "de_all = pd.read_csv(\"results/de/DE-active/scale2max/all_landscape_de_summary.csv\")"
   ]
  },
  {
   "cell_type": "code",
   "execution_count": 16,
   "metadata": {},
   "outputs": [
    {
     "data": {
      "text/plain": [
       "Index(['encoding', 'model', 'n_sample', 'ft_lib', 'rep', 'all_maxes',\n",
       "       'all_means', 'top_maxes', 'top_means', 'ndcgs', 'rhos', 'if_truemaxs',\n",
       "       'truemax_inds', 'n_mut_cutoff', 'lib', 'zs', 'n_top', 'scale_fit'],\n",
       "      dtype='object')"
      ]
     },
     "execution_count": 16,
     "metadata": {},
     "output_type": "execute_result"
    }
   ],
   "source": [
    "mlde_all.columns"
   ]
  },
  {
   "cell_type": "code",
   "execution_count": 29,
   "metadata": {},
   "outputs": [
    {
     "data": {
      "text/html": [
       "<div>\n",
       "<style scoped>\n",
       "    .dataframe tbody tr th:only-of-type {\n",
       "        vertical-align: middle;\n",
       "    }\n",
       "\n",
       "    .dataframe tbody tr th {\n",
       "        vertical-align: top;\n",
       "    }\n",
       "\n",
       "    .dataframe thead th {\n",
       "        text-align: right;\n",
       "    }\n",
       "</style>\n",
       "<table border=\"1\" class=\"dataframe\">\n",
       "  <thead>\n",
       "    <tr style=\"text-align: right;\">\n",
       "      <th></th>\n",
       "      <th>n_sample</th>\n",
       "      <th>top_maxes_mean</th>\n",
       "      <th>top_maxes_std</th>\n",
       "      <th>if_truemaxs_mean</th>\n",
       "      <th>if_truemaxs_std</th>\n",
       "    </tr>\n",
       "  </thead>\n",
       "  <tbody>\n",
       "    <tr>\n",
       "      <th>0</th>\n",
       "      <td>24</td>\n",
       "      <td>0.482933</td>\n",
       "      <td>0.375691</td>\n",
       "      <td>0.089286</td>\n",
       "      <td>0.285258</td>\n",
       "    </tr>\n",
       "    <tr>\n",
       "      <th>1</th>\n",
       "      <td>48</td>\n",
       "      <td>0.547164</td>\n",
       "      <td>0.379115</td>\n",
       "      <td>0.147857</td>\n",
       "      <td>0.355085</td>\n",
       "    </tr>\n",
       "    <tr>\n",
       "      <th>2</th>\n",
       "      <td>96</td>\n",
       "      <td>0.637738</td>\n",
       "      <td>0.371056</td>\n",
       "      <td>0.247857</td>\n",
       "      <td>0.431923</td>\n",
       "    </tr>\n",
       "    <tr>\n",
       "      <th>3</th>\n",
       "      <td>192</td>\n",
       "      <td>0.701023</td>\n",
       "      <td>0.358166</td>\n",
       "      <td>0.335000</td>\n",
       "      <td>0.472159</td>\n",
       "    </tr>\n",
       "    <tr>\n",
       "      <th>4</th>\n",
       "      <td>288</td>\n",
       "      <td>0.737540</td>\n",
       "      <td>0.343149</td>\n",
       "      <td>0.392857</td>\n",
       "      <td>0.488560</td>\n",
       "    </tr>\n",
       "    <tr>\n",
       "      <th>5</th>\n",
       "      <td>384</td>\n",
       "      <td>0.747245</td>\n",
       "      <td>0.340636</td>\n",
       "      <td>0.409286</td>\n",
       "      <td>0.491790</td>\n",
       "    </tr>\n",
       "    <tr>\n",
       "      <th>6</th>\n",
       "      <td>480</td>\n",
       "      <td>0.779634</td>\n",
       "      <td>0.323146</td>\n",
       "      <td>0.459286</td>\n",
       "      <td>0.498518</td>\n",
       "    </tr>\n",
       "    <tr>\n",
       "      <th>7</th>\n",
       "      <td>576</td>\n",
       "      <td>0.795640</td>\n",
       "      <td>0.312706</td>\n",
       "      <td>0.483571</td>\n",
       "      <td>0.499909</td>\n",
       "    </tr>\n",
       "    <tr>\n",
       "      <th>8</th>\n",
       "      <td>960</td>\n",
       "      <td>0.842118</td>\n",
       "      <td>0.279887</td>\n",
       "      <td>0.572857</td>\n",
       "      <td>0.494840</td>\n",
       "    </tr>\n",
       "    <tr>\n",
       "      <th>9</th>\n",
       "      <td>1920</td>\n",
       "      <td>0.867727</td>\n",
       "      <td>0.257865</td>\n",
       "      <td>0.614286</td>\n",
       "      <td>0.486938</td>\n",
       "    </tr>\n",
       "  </tbody>\n",
       "</table>\n",
       "</div>"
      ],
      "text/plain": [
       "   n_sample  top_maxes_mean  top_maxes_std  if_truemaxs_mean  if_truemaxs_std\n",
       "0        24        0.482933       0.375691          0.089286         0.285258\n",
       "1        48        0.547164       0.379115          0.147857         0.355085\n",
       "2        96        0.637738       0.371056          0.247857         0.431923\n",
       "3       192        0.701023       0.358166          0.335000         0.472159\n",
       "4       288        0.737540       0.343149          0.392857         0.488560\n",
       "5       384        0.747245       0.340636          0.409286         0.491790\n",
       "6       480        0.779634       0.323146          0.459286         0.498518\n",
       "7       576        0.795640       0.312706          0.483571         0.499909\n",
       "8       960        0.842118       0.279887          0.572857         0.494840\n",
       "9      1920        0.867727       0.257865          0.614286         0.486938"
      ]
     },
     "execution_count": 29,
     "metadata": {},
     "output_type": "execute_result"
    }
   ],
   "source": [
    "avg_mlde = mlde_all[\n",
    "    (mlde_all[\"zs\"] == \"none\")\n",
    "    & (mlde_all[\"n_top\"] == 96)\n",
    "    & (mlde_all[\"n_mut_cutoff\"] == \"all\")\n",
    "][[\"n_sample\", \"top_maxes\", \"if_truemaxs\"]].groupby(\"n_sample\").agg([\"mean\", \"std\"]).reset_index()\n",
    "avg_mlde.columns = ['{}_{}'.format(i, j) for i, j in avg_mlde.columns]\n",
    "avg_mlde = avg_mlde.rename(columns={'n_sample_': 'n_sample'})\n",
    "avg_mlde"
   ]
  },
  {
   "cell_type": "code",
   "execution_count": 41,
   "metadata": {},
   "outputs": [
    {
     "data": {
      "text/html": [
       "<div>\n",
       "<style scoped>\n",
       "    .dataframe tbody tr th:only-of-type {\n",
       "        vertical-align: middle;\n",
       "    }\n",
       "\n",
       "    .dataframe tbody tr th {\n",
       "        vertical-align: top;\n",
       "    }\n",
       "\n",
       "    .dataframe thead th {\n",
       "        text-align: right;\n",
       "    }\n",
       "</style>\n",
       "<table border=\"1\" class=\"dataframe\">\n",
       "  <thead>\n",
       "    <tr style=\"text-align: right;\">\n",
       "      <th></th>\n",
       "      <th>mean_all_mean</th>\n",
       "      <th>mean_all_std</th>\n",
       "    </tr>\n",
       "    <tr>\n",
       "      <th>de_type</th>\n",
       "      <th></th>\n",
       "      <th></th>\n",
       "    </tr>\n",
       "  </thead>\n",
       "  <tbody>\n",
       "    <tr>\n",
       "      <th>recomb_SSM</th>\n",
       "      <td>0.564960</td>\n",
       "      <td>0.242831</td>\n",
       "    </tr>\n",
       "    <tr>\n",
       "      <th>single_step_DE</th>\n",
       "      <td>0.612200</td>\n",
       "      <td>0.246041</td>\n",
       "    </tr>\n",
       "    <tr>\n",
       "      <th>top96_SSM</th>\n",
       "      <td>0.675433</td>\n",
       "      <td>0.266928</td>\n",
       "    </tr>\n",
       "  </tbody>\n",
       "</table>\n",
       "</div>"
      ],
      "text/plain": [
       "                mean_all_mean  mean_all_std\n",
       "de_type                                    \n",
       "recomb_SSM           0.564960      0.242831\n",
       "single_step_DE       0.612200      0.246041\n",
       "top96_SSM            0.675433      0.266928"
      ]
     },
     "execution_count": 41,
     "metadata": {},
     "output_type": "execute_result"
    }
   ],
   "source": [
    "de_avg = de_all[[\"de_type\", \"mean_all\"]].groupby(\"de_type\").agg([\"mean\", \"std\"])\n",
    "de_avg.columns = ['{}_{}'.format(i, j) for i, j in de_avg.columns]\n",
    "de_avg = de_avg.rename(columns={'de_type_': 'de_type'})\n",
    "de_avg"
   ]
  },
  {
   "cell_type": "code",
   "execution_count": 55,
   "metadata": {},
   "outputs": [],
   "source": [
    "from SSMuLA.de_simulations import DE_COLORS, DE_TYPES, DE_LEGEND_MAP\n",
    "from SSMuLA.vis import PRESENTATION_PALETTE_SATURATE"
   ]
  },
  {
   "cell_type": "code",
   "execution_count": 57,
   "metadata": {},
   "outputs": [
    {
     "data": {
      "text/plain": [
       "<matplotlib.legend.Legend at 0x7ff43ba84e80>"
      ]
     },
     "execution_count": 57,
     "metadata": {},
     "output_type": "execute_result"
    },
    {
     "data": {
      "image/png": "[encoded data removed]",
      "text/plain": [
       "<Figure size 800x600 with 1 Axes>"
      ]
     },
     "metadata": {},
     "output_type": "display_data"
    }
   ],
   "source": [
    "# for avg cross number of samples\n",
    "\n",
    "fig, ax = plt.subplots(1, 1, figsize=(8, 6))\n",
    "\n",
    "ax.plot(\n",
    "    avg_mlde[\"n_sample\"],\n",
    "    avg_mlde[\"top_maxes_mean\"],\n",
    "    label=\"MLDE\",\n",
    "    marker=\"o\",\n",
    "    linestyle=\"solid\",\n",
    "    color=PRESENTATION_PALETTE_SATURATE[\"gray\"],\n",
    ")\n",
    "ax.fill_between(\n",
    "    avg_mlde[\"n_sample\"],\n",
    "    avg_mlde[\"top_maxes_mean\"] - avg_mlde[\"top_maxes_std\"],\n",
    "    avg_mlde[\"top_maxes_mean\"] + avg_mlde[\"top_maxes_std\"],\n",
    "    color=PRESENTATION_PALETTE_SATURATE[\"gray\"],\n",
    "    alpha=0.05,\n",
    ")\n",
    "\n",
    "# ax2 = ax.twinx()\n",
    "# ax2.plot(avg_mlde[\"n_sample\"], avg_mlde[\"if_truemaxs_mean\"], label=\"If true maxes\", linestyle=\"dotted\", marker=\"*\", color=PRESENTATION_PALETTE_SATURATE[\"green\"])\n",
    "# ax2.fill_between(avg_mlde[\"n_sample\"], avg_mlde[\"if_truemaxs_mean\"] - avg_mlde[\"if_truemaxs_std\"], avg_mlde[\"if_truemaxs_mean\"] + avg_mlde[\"if_truemaxs_std\"], color=PRESENTATION_PALETTE_SATURATE[\"green\"], alpha=0.05)\n",
    "\n",
    "for de in DE_TYPES:\n",
    "    ax.axhline(\n",
    "        de_avg.loc[de, \"mean_all_mean\"],\n",
    "        label=f\"DE: {DE_LEGEND_MAP[de]}\",\n",
    "        color=DE_COLORS[de],\n",
    "        linestyle=\"dashed\",\n",
    "    )\n",
    "    ax.fill_between(\n",
    "        avg_mlde[\"n_sample\"],\n",
    "        de_avg.loc[de, \"mean_all_mean\"] - de_avg.loc[de, \"mean_all_std\"],\n",
    "        de_avg.loc[de, \"mean_all_mean\"] + de_avg.loc[de, \"mean_all_std\"],\n",
    "        color=DE_COLORS[de],\n",
    "        alpha=0.05,\n",
    "    )\n",
    "\n",
    "ax.set_xscale(\"log\")\n",
    "ax.set_xlabel(\"Number of samples\")\n",
    "ax.set_ylabel(\"Max fitness achieved\")\n",
    "ax.set_title(\"Max ftiness achieved average over 14 landscapes vs number of samples\")\n",
    "ax.legend(loc=\"upper left\", bbox_to_anchor=(1, 1))"
   ]
  },
  {
   "cell_type": "code",
   "execution_count": null,
   "metadata": {},
   "outputs": [],
   "source": [
    "# count number of mlde > de"
   ]
  }
 ],
 "metadata": {
  "kernelspec": {
   "display_name": "SSMuLA",
   "language": "python",
   "name": "python3"
  },
  "language_info": {
   "codemirror_mode": {
    "name": "ipython",
    "version": 3
   },
   "file_extension": ".py",
   "mimetype": "text/x-python",
   "name": "python",
   "nbconvert_exporter": "python",
   "pygments_lexer": "ipython3",
   "version": "3.10.14"
  }
 },
 "nbformat": 4,
 "nbformat_minor": 2
}
