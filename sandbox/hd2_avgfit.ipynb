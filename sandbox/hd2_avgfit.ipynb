{
 "cells": [
  {
   "cell_type": "code",
   "execution_count": 1,
   "metadata": {},
   "outputs": [
    {
     "name": "stdout",
     "output_type": "stream",
     "text": [
      "/disk2/fli/SSMuLA\n"
     ]
    }
   ],
   "source": [
    "%cd ~/SSMuLA"
   ]
  },
  {
   "cell_type": "code",
   "execution_count": 2,
   "metadata": {},
   "outputs": [],
   "source": [
    "%load_ext autoreload\n",
    "%autoreload 2\n",
    "%load_ext blackcellmagic"
   ]
  },
  {
   "cell_type": "code",
   "execution_count": 12,
   "metadata": {},
   "outputs": [],
   "source": [
    "import pandas as pd\n",
    "import numpy as np\n",
    "\n",
    "from tqdm import tqdm\n",
    "\n",
    "import matplotlib.pyplot as plt\n",
    "\n",
    "from SSMuLA.landscape_global import hamming"
   ]
  },
  {
   "cell_type": "code",
   "execution_count": 5,
   "metadata": {},
   "outputs": [],
   "source": [
    "df = pd.read_csv(\"data/GB1/scale2max/GB1.csv\")"
   ]
  },
  {
   "cell_type": "code",
   "execution_count": 6,
   "metadata": {},
   "outputs": [
    {
     "data": {
      "text/html": [
       "<div>\n",
       "<style scoped>\n",
       "    .dataframe tbody tr th:only-of-type {\n",
       "        vertical-align: middle;\n",
       "    }\n",
       "\n",
       "    .dataframe tbody tr th {\n",
       "        vertical-align: top;\n",
       "    }\n",
       "\n",
       "    .dataframe thead th {\n",
       "        text-align: right;\n",
       "    }\n",
       "</style>\n",
       "<table border=\"1\" class=\"dataframe\">\n",
       "  <thead>\n",
       "    <tr style=\"text-align: right;\">\n",
       "      <th></th>\n",
       "      <th>AAs</th>\n",
       "      <th>AA1</th>\n",
       "      <th>AA2</th>\n",
       "      <th>AA3</th>\n",
       "      <th>AA4</th>\n",
       "      <th>fitness</th>\n",
       "      <th>active</th>\n",
       "      <th>muts</th>\n",
       "      <th>n_mut</th>\n",
       "    </tr>\n",
       "  </thead>\n",
       "  <tbody>\n",
       "    <tr>\n",
       "      <th>0</th>\n",
       "      <td>VDGV</td>\n",
       "      <td>V</td>\n",
       "      <td>D</td>\n",
       "      <td>G</td>\n",
       "      <td>V</td>\n",
       "      <td>0.114130</td>\n",
       "      <td>True</td>\n",
       "      <td>WT</td>\n",
       "      <td>1</td>\n",
       "    </tr>\n",
       "    <tr>\n",
       "      <th>1</th>\n",
       "      <td>ADGV</td>\n",
       "      <td>A</td>\n",
       "      <td>D</td>\n",
       "      <td>G</td>\n",
       "      <td>V</td>\n",
       "      <td>0.007066</td>\n",
       "      <td>True</td>\n",
       "      <td>V39A</td>\n",
       "      <td>1</td>\n",
       "    </tr>\n",
       "    <tr>\n",
       "      <th>2</th>\n",
       "      <td>CDGV</td>\n",
       "      <td>C</td>\n",
       "      <td>D</td>\n",
       "      <td>G</td>\n",
       "      <td>V</td>\n",
       "      <td>0.027646</td>\n",
       "      <td>True</td>\n",
       "      <td>V39C</td>\n",
       "      <td>1</td>\n",
       "    </tr>\n",
       "    <tr>\n",
       "      <th>3</th>\n",
       "      <td>DDGV</td>\n",
       "      <td>D</td>\n",
       "      <td>D</td>\n",
       "      <td>G</td>\n",
       "      <td>V</td>\n",
       "      <td>0.000739</td>\n",
       "      <td>False</td>\n",
       "      <td>V39D</td>\n",
       "      <td>1</td>\n",
       "    </tr>\n",
       "    <tr>\n",
       "      <th>4</th>\n",
       "      <td>EDGV</td>\n",
       "      <td>E</td>\n",
       "      <td>D</td>\n",
       "      <td>G</td>\n",
       "      <td>V</td>\n",
       "      <td>0.003734</td>\n",
       "      <td>True</td>\n",
       "      <td>V39E</td>\n",
       "      <td>1</td>\n",
       "    </tr>\n",
       "  </tbody>\n",
       "</table>\n",
       "</div>"
      ],
      "text/plain": [
       "    AAs AA1 AA2 AA3 AA4   fitness  active  muts  n_mut\n",
       "0  VDGV   V   D   G   V  0.114130    True    WT      1\n",
       "1  ADGV   A   D   G   V  0.007066    True  V39A      1\n",
       "2  CDGV   C   D   G   V  0.027646    True  V39C      1\n",
       "3  DDGV   D   D   G   V  0.000739   False  V39D      1\n",
       "4  EDGV   E   D   G   V  0.003734    True  V39E      1"
      ]
     },
     "execution_count": 6,
     "metadata": {},
     "output_type": "execute_result"
    }
   ],
   "source": [
    "df.head()"
   ]
  },
  {
   "cell_type": "code",
   "execution_count": 10,
   "metadata": {},
   "outputs": [
    {
     "data": {
      "text/plain": [
       "(0.035159396666492766, 0.07708217358554896)"
      ]
     },
     "execution_count": 10,
     "metadata": {},
     "output_type": "execute_result"
    }
   ],
   "source": [
    "df[df[\"n_mut\"] <=2][\"fitness\"].mean(), df[df[\"n_mut\"] <=2][\"fitness\"].std()"
   ]
  },
  {
   "cell_type": "code",
   "execution_count": 11,
   "metadata": {},
   "outputs": [
    {
     "data": {
      "text/html": [
       "<div>\n",
       "<style scoped>\n",
       "    .dataframe tbody tr th:only-of-type {\n",
       "        vertical-align: middle;\n",
       "    }\n",
       "\n",
       "    .dataframe tbody tr th {\n",
       "        vertical-align: top;\n",
       "    }\n",
       "\n",
       "    .dataframe thead th {\n",
       "        text-align: right;\n",
       "    }\n",
       "</style>\n",
       "<table border=\"1\" class=\"dataframe\">\n",
       "  <thead>\n",
       "    <tr style=\"text-align: right;\">\n",
       "      <th></th>\n",
       "      <th>AAs</th>\n",
       "      <th>AA1</th>\n",
       "      <th>AA2</th>\n",
       "      <th>AA3</th>\n",
       "      <th>AA4</th>\n",
       "      <th>fitness</th>\n",
       "      <th>active</th>\n",
       "      <th>muts</th>\n",
       "      <th>n_mut</th>\n",
       "    </tr>\n",
       "  </thead>\n",
       "  <tbody>\n",
       "    <tr>\n",
       "      <th>0</th>\n",
       "      <td>VDGV</td>\n",
       "      <td>V</td>\n",
       "      <td>D</td>\n",
       "      <td>G</td>\n",
       "      <td>V</td>\n",
       "      <td>0.114130</td>\n",
       "      <td>True</td>\n",
       "      <td>WT</td>\n",
       "      <td>1</td>\n",
       "    </tr>\n",
       "    <tr>\n",
       "      <th>1</th>\n",
       "      <td>ADGV</td>\n",
       "      <td>A</td>\n",
       "      <td>D</td>\n",
       "      <td>G</td>\n",
       "      <td>V</td>\n",
       "      <td>0.007066</td>\n",
       "      <td>True</td>\n",
       "      <td>V39A</td>\n",
       "      <td>1</td>\n",
       "    </tr>\n",
       "    <tr>\n",
       "      <th>2</th>\n",
       "      <td>CDGV</td>\n",
       "      <td>C</td>\n",
       "      <td>D</td>\n",
       "      <td>G</td>\n",
       "      <td>V</td>\n",
       "      <td>0.027646</td>\n",
       "      <td>True</td>\n",
       "      <td>V39C</td>\n",
       "      <td>1</td>\n",
       "    </tr>\n",
       "    <tr>\n",
       "      <th>3</th>\n",
       "      <td>DDGV</td>\n",
       "      <td>D</td>\n",
       "      <td>D</td>\n",
       "      <td>G</td>\n",
       "      <td>V</td>\n",
       "      <td>0.000739</td>\n",
       "      <td>False</td>\n",
       "      <td>V39D</td>\n",
       "      <td>1</td>\n",
       "    </tr>\n",
       "    <tr>\n",
       "      <th>4</th>\n",
       "      <td>EDGV</td>\n",
       "      <td>E</td>\n",
       "      <td>D</td>\n",
       "      <td>G</td>\n",
       "      <td>V</td>\n",
       "      <td>0.003734</td>\n",
       "      <td>True</td>\n",
       "      <td>V39E</td>\n",
       "      <td>1</td>\n",
       "    </tr>\n",
       "    <tr>\n",
       "      <th>...</th>\n",
       "      <td>...</td>\n",
       "      <td>...</td>\n",
       "      <td>...</td>\n",
       "      <td>...</td>\n",
       "      <td>...</td>\n",
       "      <td>...</td>\n",
       "      <td>...</td>\n",
       "      <td>...</td>\n",
       "      <td>...</td>\n",
       "    </tr>\n",
       "    <tr>\n",
       "      <th>149356</th>\n",
       "      <td>YYYR</td>\n",
       "      <td>Y</td>\n",
       "      <td>Y</td>\n",
       "      <td>Y</td>\n",
       "      <td>R</td>\n",
       "      <td>0.000154</td>\n",
       "      <td>False</td>\n",
       "      <td>V39Y:D40Y:G41Y:V54R</td>\n",
       "      <td>4</td>\n",
       "    </tr>\n",
       "    <tr>\n",
       "      <th>149357</th>\n",
       "      <td>YYYS</td>\n",
       "      <td>Y</td>\n",
       "      <td>Y</td>\n",
       "      <td>Y</td>\n",
       "      <td>S</td>\n",
       "      <td>0.000505</td>\n",
       "      <td>False</td>\n",
       "      <td>V39Y:D40Y:G41Y:V54S</td>\n",
       "      <td>4</td>\n",
       "    </tr>\n",
       "    <tr>\n",
       "      <th>149358</th>\n",
       "      <td>YYYT</td>\n",
       "      <td>Y</td>\n",
       "      <td>Y</td>\n",
       "      <td>Y</td>\n",
       "      <td>T</td>\n",
       "      <td>0.002420</td>\n",
       "      <td>True</td>\n",
       "      <td>V39Y:D40Y:G41Y:V54T</td>\n",
       "      <td>4</td>\n",
       "    </tr>\n",
       "    <tr>\n",
       "      <th>149359</th>\n",
       "      <td>YYYW</td>\n",
       "      <td>Y</td>\n",
       "      <td>Y</td>\n",
       "      <td>Y</td>\n",
       "      <td>W</td>\n",
       "      <td>0.001043</td>\n",
       "      <td>False</td>\n",
       "      <td>V39Y:D40Y:G41Y:V54W</td>\n",
       "      <td>4</td>\n",
       "    </tr>\n",
       "    <tr>\n",
       "      <th>149360</th>\n",
       "      <td>YYYY</td>\n",
       "      <td>Y</td>\n",
       "      <td>Y</td>\n",
       "      <td>Y</td>\n",
       "      <td>Y</td>\n",
       "      <td>0.001098</td>\n",
       "      <td>False</td>\n",
       "      <td>V39Y:D40Y:G41Y:V54Y</td>\n",
       "      <td>4</td>\n",
       "    </tr>\n",
       "  </tbody>\n",
       "</table>\n",
       "<p>149361 rows × 9 columns</p>\n",
       "</div>"
      ],
      "text/plain": [
       "         AAs AA1 AA2 AA3 AA4   fitness  active                 muts  n_mut\n",
       "0       VDGV   V   D   G   V  0.114130    True                   WT      1\n",
       "1       ADGV   A   D   G   V  0.007066    True                 V39A      1\n",
       "2       CDGV   C   D   G   V  0.027646    True                 V39C      1\n",
       "3       DDGV   D   D   G   V  0.000739   False                 V39D      1\n",
       "4       EDGV   E   D   G   V  0.003734    True                 V39E      1\n",
       "...      ...  ..  ..  ..  ..       ...     ...                  ...    ...\n",
       "149356  YYYR   Y   Y   Y   R  0.000154   False  V39Y:D40Y:G41Y:V54R      4\n",
       "149357  YYYS   Y   Y   Y   S  0.000505   False  V39Y:D40Y:G41Y:V54S      4\n",
       "149358  YYYT   Y   Y   Y   T  0.002420    True  V39Y:D40Y:G41Y:V54T      4\n",
       "149359  YYYW   Y   Y   Y   W  0.001043   False  V39Y:D40Y:G41Y:V54W      4\n",
       "149360  YYYY   Y   Y   Y   Y  0.001098   False  V39Y:D40Y:G41Y:V54Y      4\n",
       "\n",
       "[149361 rows x 9 columns]"
      ]
     },
     "execution_count": 11,
     "metadata": {},
     "output_type": "execute_result"
    }
   ],
   "source": [
    "df"
   ]
  },
  {
   "cell_type": "code",
   "execution_count": 15,
   "metadata": {},
   "outputs": [
    {
     "data": {
      "text/plain": [
       "array(['VDGV', 'ADGV', 'CDGV', ..., 'YYYT', 'YYYW', 'YYYY'], dtype=object)"
      ]
     },
     "execution_count": 15,
     "metadata": {},
     "output_type": "execute_result"
    }
   ],
   "source": [
    "df[\"AAs\"].values"
   ]
  },
  {
   "cell_type": "code",
   "execution_count": 18,
   "metadata": {},
   "outputs": [
    {
     "name": "stderr",
     "output_type": "stream",
     "text": [
      "  0%|          | 10/149361 [02:17<581:38:30, 14.02s/it]"
     ]
    }
   ],
   "source": [
    "hm2_dict = {}\n",
    "\n",
    "for aa in tqdm(df[\"AAs\"].values):\n",
    "\n",
    "    hm2_dict[aa] = {}\n",
    "    hm2_fits = []\n",
    "\n",
    "    for aa2 in df[\"AAs\"].values:\n",
    "        if hamming(aa, aa2) > 2:\n",
    "            continue\n",
    "        hm2_fits.append(df[df[\"AAs\"] == aa2][\"fitness\"].values[0])\n",
    "\n",
    "    hm2_dict[aa][\"mean\"] = np.array(hm2_fits).mean()\n",
    "    hm2_dict[aa][\"std\"] = np.array(hm2_fits).std()\n",
    "    "
   ]
  },
  {
   "cell_type": "code",
   "execution_count": null,
   "metadata": {},
   "outputs": [],
   "source": []
  }
 ],
 "metadata": {
  "kernelspec": {
   "display_name": "SSMuLA",
   "language": "python",
   "name": "python3"
  },
  "language_info": {
   "codemirror_mode": {
    "name": "ipython",
    "version": 3
   },
   "file_extension": ".py",
   "mimetype": "text/x-python",
   "name": "python",
   "nbconvert_exporter": "python",
   "pygments_lexer": "ipython3",
   "version": "3.10.14"
  }
 },
 "nbformat": 4,
 "nbformat_minor": 2
}
