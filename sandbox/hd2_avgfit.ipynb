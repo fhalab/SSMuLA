{
 "cells": [
  {
   "cell_type": "code",
   "execution_count": 1,
   "metadata": {},
   "outputs": [
    {
     "name": "stdout",
     "output_type": "stream",
     "text": [
      "/disk2/fli/SSMuLA\n"
     ]
    }
   ],
   "source": [
    "%cd ~/SSMuLA"
   ]
  },
  {
   "cell_type": "code",
   "execution_count": 2,
   "metadata": {},
   "outputs": [],
   "source": [
    "%load_ext autoreload\n",
    "%autoreload 2\n",
    "%load_ext blackcellmagic"
   ]
  },
  {
   "cell_type": "code",
   "execution_count": null,
   "metadata": {},
   "outputs": [],
   "source": [
    "import pandas as pd\n",
    "import numpy as np\n",
    "\n",
    "from tqdm import tqdm\n",
    "\n",
    "import matplotlib.pyplot as plt\n",
    "\n",
    "from SSMuLA.landscape_global import hamming"
   ]
  },
  {
   "cell_type": "code",
   "execution_count": 5,
   "metadata": {},
   "outputs": [],
   "source": [
    "df = pd.read_csv(\"data/GB1/scale2max/GB1.csv\")"
   ]
  },
  {
   "cell_type": "code",
   "execution_count": 6,
   "metadata": {},
   "outputs": [
    {
     "data": {
      "text/html": [
       "<div>\n",
       "<style scoped>\n",
       "    .dataframe tbody tr th:only-of-type {\n",
       "        vertical-align: middle;\n",
       "    }\n",
       "\n",
       "    .dataframe tbody tr th {\n",
       "        vertical-align: top;\n",
       "    }\n",
       "\n",
       "    .dataframe thead th {\n",
       "        text-align: right;\n",
       "    }\n",
       "</style>\n",
       "<table border=\"1\" class=\"dataframe\">\n",
       "  <thead>\n",
       "    <tr style=\"text-align: right;\">\n",
       "      <th></th>\n",
       "      <th>AAs</th>\n",
       "      <th>AA1</th>\n",
       "      <th>AA2</th>\n",
       "      <th>AA3</th>\n",
       "      <th>AA4</th>\n",
       "      <th>fitness</th>\n",
       "      <th>active</th>\n",
       "      <th>muts</th>\n",
       "      <th>n_mut</th>\n",
       "    </tr>\n",
       "  </thead>\n",
       "  <tbody>\n",
       "    <tr>\n",
       "      <th>0</th>\n",
       "      <td>VDGV</td>\n",
       "      <td>V</td>\n",
       "      <td>D</td>\n",
       "      <td>G</td>\n",
       "      <td>V</td>\n",
       "      <td>0.114130</td>\n",
       "      <td>True</td>\n",
       "      <td>WT</td>\n",
       "      <td>1</td>\n",
       "    </tr>\n",
       "    <tr>\n",
       "      <th>1</th>\n",
       "      <td>ADGV</td>\n",
       "      <td>A</td>\n",
       "      <td>D</td>\n",
       "      <td>G</td>\n",
       "      <td>V</td>\n",
       "      <td>0.007066</td>\n",
       "      <td>True</td>\n",
       "      <td>V39A</td>\n",
       "      <td>1</td>\n",
       "    </tr>\n",
       "    <tr>\n",
       "      <th>2</th>\n",
       "      <td>CDGV</td>\n",
       "      <td>C</td>\n",
       "      <td>D</td>\n",
       "      <td>G</td>\n",
       "      <td>V</td>\n",
       "      <td>0.027646</td>\n",
       "      <td>True</td>\n",
       "      <td>V39C</td>\n",
       "      <td>1</td>\n",
       "    </tr>\n",
       "    <tr>\n",
       "      <th>3</th>\n",
       "      <td>DDGV</td>\n",
       "      <td>D</td>\n",
       "      <td>D</td>\n",
       "      <td>G</td>\n",
       "      <td>V</td>\n",
       "      <td>0.000739</td>\n",
       "      <td>False</td>\n",
       "      <td>V39D</td>\n",
       "      <td>1</td>\n",
       "    </tr>\n",
       "    <tr>\n",
       "      <th>4</th>\n",
       "      <td>EDGV</td>\n",
       "      <td>E</td>\n",
       "      <td>D</td>\n",
       "      <td>G</td>\n",
       "      <td>V</td>\n",
       "      <td>0.003734</td>\n",
       "      <td>True</td>\n",
       "      <td>V39E</td>\n",
       "      <td>1</td>\n",
       "    </tr>\n",
       "  </tbody>\n",
       "</table>\n",
       "</div>"
      ],
      "text/plain": [
       "    AAs AA1 AA2 AA3 AA4   fitness  active  muts  n_mut\n",
       "0  VDGV   V   D   G   V  0.114130    True    WT      1\n",
       "1  ADGV   A   D   G   V  0.007066    True  V39A      1\n",
       "2  CDGV   C   D   G   V  0.027646    True  V39C      1\n",
       "3  DDGV   D   D   G   V  0.000739   False  V39D      1\n",
       "4  EDGV   E   D   G   V  0.003734    True  V39E      1"
      ]
     },
     "execution_count": 6,
     "metadata": {},
     "output_type": "execute_result"
    }
   ],
   "source": [
    "df.head()"
   ]
  },
  {
   "cell_type": "code",
   "execution_count": 10,
   "metadata": {},
   "outputs": [
    {
     "data": {
      "text/plain": [
       "(0.035159396666492766, 0.07708217358554896)"
      ]
     },
     "execution_count": 10,
     "metadata": {},
     "output_type": "execute_result"
    }
   ],
   "source": [
    "df[df[\"n_mut\"] <=2][\"fitness\"].mean(), df[df[\"n_mut\"] <=2][\"fitness\"].std()"
   ]
  },
  {
   "cell_type": "code",
   "execution_count": 11,
   "metadata": {},
   "outputs": [
    {
     "data": {
      "text/html": [
       "<div>\n",
       "<style scoped>\n",
       "    .dataframe tbody tr th:only-of-type {\n",
       "        vertical-align: middle;\n",
       "    }\n",
       "\n",
       "    .dataframe tbody tr th {\n",
       "        vertical-align: top;\n",
       "    }\n",
       "\n",
       "    .dataframe thead th {\n",
       "        text-align: right;\n",
       "    }\n",
       "</style>\n",
       "<table border=\"1\" class=\"dataframe\">\n",
       "  <thead>\n",
       "    <tr style=\"text-align: right;\">\n",
       "      <th></th>\n",
       "      <th>AAs</th>\n",
       "      <th>AA1</th>\n",
       "      <th>AA2</th>\n",
       "      <th>AA3</th>\n",
       "      <th>AA4</th>\n",
       "      <th>fitness</th>\n",
       "      <th>active</th>\n",
       "      <th>muts</th>\n",
       "      <th>n_mut</th>\n",
       "    </tr>\n",
       "  </thead>\n",
       "  <tbody>\n",
       "    <tr>\n",
       "      <th>0</th>\n",
       "      <td>VDGV</td>\n",
       "      <td>V</td>\n",
       "      <td>D</td>\n",
       "      <td>G</td>\n",
       "      <td>V</td>\n",
       "      <td>0.114130</td>\n",
       "      <td>True</td>\n",
       "      <td>WT</td>\n",
       "      <td>1</td>\n",
       "    </tr>\n",
       "    <tr>\n",
       "      <th>1</th>\n",
       "      <td>ADGV</td>\n",
       "      <td>A</td>\n",
       "      <td>D</td>\n",
       "      <td>G</td>\n",
       "      <td>V</td>\n",
       "      <td>0.007066</td>\n",
       "      <td>True</td>\n",
       "      <td>V39A</td>\n",
       "      <td>1</td>\n",
       "    </tr>\n",
       "    <tr>\n",
       "      <th>2</th>\n",
       "      <td>CDGV</td>\n",
       "      <td>C</td>\n",
       "      <td>D</td>\n",
       "      <td>G</td>\n",
       "      <td>V</td>\n",
       "      <td>0.027646</td>\n",
       "      <td>True</td>\n",
       "      <td>V39C</td>\n",
       "      <td>1</td>\n",
       "    </tr>\n",
       "    <tr>\n",
       "      <th>3</th>\n",
       "      <td>DDGV</td>\n",
       "      <td>D</td>\n",
       "      <td>D</td>\n",
       "      <td>G</td>\n",
       "      <td>V</td>\n",
       "      <td>0.000739</td>\n",
       "      <td>False</td>\n",
       "      <td>V39D</td>\n",
       "      <td>1</td>\n",
       "    </tr>\n",
       "    <tr>\n",
       "      <th>4</th>\n",
       "      <td>EDGV</td>\n",
       "      <td>E</td>\n",
       "      <td>D</td>\n",
       "      <td>G</td>\n",
       "      <td>V</td>\n",
       "      <td>0.003734</td>\n",
       "      <td>True</td>\n",
       "      <td>V39E</td>\n",
       "      <td>1</td>\n",
       "    </tr>\n",
       "    <tr>\n",
       "      <th>...</th>\n",
       "      <td>...</td>\n",
       "      <td>...</td>\n",
       "      <td>...</td>\n",
       "      <td>...</td>\n",
       "      <td>...</td>\n",
       "      <td>...</td>\n",
       "      <td>...</td>\n",
       "      <td>...</td>\n",
       "      <td>...</td>\n",
       "    </tr>\n",
       "    <tr>\n",
       "      <th>149356</th>\n",
       "      <td>YYYR</td>\n",
       "      <td>Y</td>\n",
       "      <td>Y</td>\n",
       "      <td>Y</td>\n",
       "      <td>R</td>\n",
       "      <td>0.000154</td>\n",
       "      <td>False</td>\n",
       "      <td>V39Y:D40Y:G41Y:V54R</td>\n",
       "      <td>4</td>\n",
       "    </tr>\n",
       "    <tr>\n",
       "      <th>149357</th>\n",
       "      <td>YYYS</td>\n",
       "      <td>Y</td>\n",
       "      <td>Y</td>\n",
       "      <td>Y</td>\n",
       "      <td>S</td>\n",
       "      <td>0.000505</td>\n",
       "      <td>False</td>\n",
       "      <td>V39Y:D40Y:G41Y:V54S</td>\n",
       "      <td>4</td>\n",
       "    </tr>\n",
       "    <tr>\n",
       "      <th>149358</th>\n",
       "      <td>YYYT</td>\n",
       "      <td>Y</td>\n",
       "      <td>Y</td>\n",
       "      <td>Y</td>\n",
       "      <td>T</td>\n",
       "      <td>0.002420</td>\n",
       "      <td>True</td>\n",
       "      <td>V39Y:D40Y:G41Y:V54T</td>\n",
       "      <td>4</td>\n",
       "    </tr>\n",
       "    <tr>\n",
       "      <th>149359</th>\n",
       "      <td>YYYW</td>\n",
       "      <td>Y</td>\n",
       "      <td>Y</td>\n",
       "      <td>Y</td>\n",
       "      <td>W</td>\n",
       "      <td>0.001043</td>\n",
       "      <td>False</td>\n",
       "      <td>V39Y:D40Y:G41Y:V54W</td>\n",
       "      <td>4</td>\n",
       "    </tr>\n",
       "    <tr>\n",
       "      <th>149360</th>\n",
       "      <td>YYYY</td>\n",
       "      <td>Y</td>\n",
       "      <td>Y</td>\n",
       "      <td>Y</td>\n",
       "      <td>Y</td>\n",
       "      <td>0.001098</td>\n",
       "      <td>False</td>\n",
       "      <td>V39Y:D40Y:G41Y:V54Y</td>\n",
       "      <td>4</td>\n",
       "    </tr>\n",
       "  </tbody>\n",
       "</table>\n",
       "<p>149361 rows × 9 columns</p>\n",
       "</div>"
      ],
      "text/plain": [
       "         AAs AA1 AA2 AA3 AA4   fitness  active                 muts  n_mut\n",
       "0       VDGV   V   D   G   V  0.114130    True                   WT      1\n",
       "1       ADGV   A   D   G   V  0.007066    True                 V39A      1\n",
       "2       CDGV   C   D   G   V  0.027646    True                 V39C      1\n",
       "3       DDGV   D   D   G   V  0.000739   False                 V39D      1\n",
       "4       EDGV   E   D   G   V  0.003734    True                 V39E      1\n",
       "...      ...  ..  ..  ..  ..       ...     ...                  ...    ...\n",
       "149356  YYYR   Y   Y   Y   R  0.000154   False  V39Y:D40Y:G41Y:V54R      4\n",
       "149357  YYYS   Y   Y   Y   S  0.000505   False  V39Y:D40Y:G41Y:V54S      4\n",
       "149358  YYYT   Y   Y   Y   T  0.002420    True  V39Y:D40Y:G41Y:V54T      4\n",
       "149359  YYYW   Y   Y   Y   W  0.001043   False  V39Y:D40Y:G41Y:V54W      4\n",
       "149360  YYYY   Y   Y   Y   Y  0.001098   False  V39Y:D40Y:G41Y:V54Y      4\n",
       "\n",
       "[149361 rows x 9 columns]"
      ]
     },
     "execution_count": 11,
     "metadata": {},
     "output_type": "execute_result"
    }
   ],
   "source": [
    "df"
   ]
  },
  {
   "cell_type": "code",
   "execution_count": 15,
   "metadata": {},
   "outputs": [
    {
     "data": {
      "text/plain": [
       "array(['VDGV', 'ADGV', 'CDGV', ..., 'YYYT', 'YYYW', 'YYYY'], dtype=object)"
      ]
     },
     "execution_count": 15,
     "metadata": {},
     "output_type": "execute_result"
    }
   ],
   "source": [
    "df[\"AAs\"].values"
   ]
  },
  {
   "cell_type": "code",
   "execution_count": 19,
   "metadata": {},
   "outputs": [],
   "source": [
    "import seaborn as sns"
   ]
  },
  {
   "cell_type": "code",
   "execution_count": 20,
   "metadata": {},
   "outputs": [],
   "source": [
    "from glob import glob"
   ]
  },
  {
   "cell_type": "code",
   "execution_count": 21,
   "metadata": {},
   "outputs": [],
   "source": [
    "all_dfs = glob(\"results/hd/*.csv\")"
   ]
  },
  {
   "cell_type": "code",
   "execution_count": 22,
   "metadata": {},
   "outputs": [],
   "source": [
    "from SSMuLA.landscape_global import LIB_INFO_DICT"
   ]
  },
  {
   "cell_type": "code",
   "execution_count": 31,
   "metadata": {},
   "outputs": [],
   "source": [
    "from SSMuLA.vis import LIB_COLORS\n"
   ]
  },
  {
   "cell_type": "code",
   "execution_count": 26,
   "metadata": {},
   "outputs": [
    {
     "data": {
      "text/plain": [
       "'ADL'"
      ]
     },
     "execution_count": 26,
     "metadata": {},
     "output_type": "execute_result"
    }
   ],
   "source": [
    "\"\".join(LIB_INFO_DICT[\"DHFR\"][\"AAs\"].values())"
   ]
  },
  {
   "cell_type": "code",
   "execution_count": 44,
   "metadata": {},
   "outputs": [
    {
     "data": {
      "text/plain": [
       "0.2565046076973378"
      ]
     },
     "execution_count": 44,
     "metadata": {},
     "output_type": "execute_result"
    }
   ],
   "source": [
    "df[df[\"AAs\"] == \"\".join(lib_dict[\"AAs\"].values())][\"mean\"].values[0]"
   ]
  },
  {
   "cell_type": "code",
   "execution_count": 45,
   "metadata": {},
   "outputs": [],
   "source": [
    "all_dfs = []\n",
    "wt_mean = {}\n",
    "\n",
    "for lib, lib_dict in LIB_INFO_DICT.items():\n",
    "    \n",
    "    df = pd.read_csv(f\"results/hd/{lib}.csv\")\n",
    "    df[\"lib\"] = lib\n",
    "    all_dfs.append(df)\n",
    "\n",
    "    wt_mean[lib] = df[df[\"AAs\"] == \"\".join(lib_dict[\"AAs\"].values())][\"mean\"].values[0]"
   ]
  },
  {
   "cell_type": "code",
   "execution_count": 30,
   "metadata": {},
   "outputs": [],
   "source": [
    "%matplotlib inline"
   ]
  },
  {
   "cell_type": "code",
   "execution_count": 33,
   "metadata": {},
   "outputs": [
    {
     "data": {
      "text/html": [
       "<div>\n",
       "<style scoped>\n",
       "    .dataframe tbody tr th:only-of-type {\n",
       "        vertical-align: middle;\n",
       "    }\n",
       "\n",
       "    .dataframe tbody tr th {\n",
       "        vertical-align: top;\n",
       "    }\n",
       "\n",
       "    .dataframe thead th {\n",
       "        text-align: right;\n",
       "    }\n",
       "</style>\n",
       "<table border=\"1\" class=\"dataframe\">\n",
       "  <thead>\n",
       "    <tr style=\"text-align: right;\">\n",
       "      <th></th>\n",
       "      <th>AAs</th>\n",
       "      <th>mean</th>\n",
       "      <th>std</th>\n",
       "      <th>lib</th>\n",
       "    </tr>\n",
       "  </thead>\n",
       "  <tbody>\n",
       "    <tr>\n",
       "      <th>0</th>\n",
       "      <td>AAD</td>\n",
       "      <td>0.134506</td>\n",
       "      <td>0.039025</td>\n",
       "      <td>DHFR</td>\n",
       "    </tr>\n",
       "    <tr>\n",
       "      <th>1</th>\n",
       "      <td>AAP</td>\n",
       "      <td>0.135624</td>\n",
       "      <td>0.040302</td>\n",
       "      <td>DHFR</td>\n",
       "    </tr>\n",
       "    <tr>\n",
       "      <th>2</th>\n",
       "      <td>ACD</td>\n",
       "      <td>0.142509</td>\n",
       "      <td>0.044255</td>\n",
       "      <td>DHFR</td>\n",
       "    </tr>\n",
       "    <tr>\n",
       "      <th>3</th>\n",
       "      <td>AAC</td>\n",
       "      <td>0.142069</td>\n",
       "      <td>0.061229</td>\n",
       "      <td>DHFR</td>\n",
       "    </tr>\n",
       "    <tr>\n",
       "      <th>4</th>\n",
       "      <td>AAN</td>\n",
       "      <td>0.138584</td>\n",
       "      <td>0.049502</td>\n",
       "      <td>DHFR</td>\n",
       "    </tr>\n",
       "    <tr>\n",
       "      <th>...</th>\n",
       "      <td>...</td>\n",
       "      <td>...</td>\n",
       "      <td>...</td>\n",
       "      <td>...</td>\n",
       "    </tr>\n",
       "    <tr>\n",
       "      <th>159124</th>\n",
       "      <td>YYYS</td>\n",
       "      <td>0.014580</td>\n",
       "      <td>0.020450</td>\n",
       "      <td>TrpB4</td>\n",
       "    </tr>\n",
       "    <tr>\n",
       "      <th>159125</th>\n",
       "      <td>YYYT</td>\n",
       "      <td>0.012484</td>\n",
       "      <td>0.019079</td>\n",
       "      <td>TrpB4</td>\n",
       "    </tr>\n",
       "    <tr>\n",
       "      <th>159126</th>\n",
       "      <td>YYYV</td>\n",
       "      <td>0.012956</td>\n",
       "      <td>0.022449</td>\n",
       "      <td>TrpB4</td>\n",
       "    </tr>\n",
       "    <tr>\n",
       "      <th>159127</th>\n",
       "      <td>YYYW</td>\n",
       "      <td>0.010259</td>\n",
       "      <td>0.025991</td>\n",
       "      <td>TrpB4</td>\n",
       "    </tr>\n",
       "    <tr>\n",
       "      <th>159128</th>\n",
       "      <td>YYYY</td>\n",
       "      <td>0.012316</td>\n",
       "      <td>0.020683</td>\n",
       "      <td>TrpB4</td>\n",
       "    </tr>\n",
       "  </tbody>\n",
       "</table>\n",
       "<p>403070 rows × 4 columns</p>\n",
       "</div>"
      ],
      "text/plain": [
       "         AAs      mean       std    lib\n",
       "0        AAD  0.134506  0.039025   DHFR\n",
       "1        AAP  0.135624  0.040302   DHFR\n",
       "2        ACD  0.142509  0.044255   DHFR\n",
       "3        AAC  0.142069  0.061229   DHFR\n",
       "4        AAN  0.138584  0.049502   DHFR\n",
       "...      ...       ...       ...    ...\n",
       "159124  YYYS  0.014580  0.020450  TrpB4\n",
       "159125  YYYT  0.012484  0.019079  TrpB4\n",
       "159126  YYYV  0.012956  0.022449  TrpB4\n",
       "159127  YYYW  0.010259  0.025991  TrpB4\n",
       "159128  YYYY  0.012316  0.020683  TrpB4\n",
       "\n",
       "[403070 rows x 4 columns]"
      ]
     },
     "execution_count": 33,
     "metadata": {},
     "output_type": "execute_result"
    }
   ],
   "source": [
    "pd.concat(all_dfs)"
   ]
  },
  {
   "cell_type": "code",
   "execution_count": 35,
   "metadata": {},
   "outputs": [
    {
     "data": {
      "text/plain": [
       "{'DHFR': '#f79646ff',\n",
       " 'ParD2': '#ffbb78',\n",
       " 'ParD3': '#6e4a2eff',\n",
       " 'GB1': '#f9be00',\n",
       " 'TrpB3A': '#89bf91',\n",
       " 'TrpB3B': '#6db290',\n",
       " 'TrpB3C': '#57a490',\n",
       " 'TrpB3D': '#44948f',\n",
       " 'TrpB3E': '#33858d',\n",
       " 'TrpB3F': '#24768b',\n",
       " 'TrpB3G': '#1c6689',\n",
       " 'TrpB3H': '#215584',\n",
       " 'TrpB3I': '#28437b',\n",
       " 'TrpB4': '#666666'}"
      ]
     },
     "execution_count": 35,
     "metadata": {},
     "output_type": "execute_result"
    }
   ],
   "source": [
    "LIB_COLORS"
   ]
  },
  {
   "cell_type": "code",
   "execution_count": 40,
   "metadata": {},
   "outputs": [
    {
     "data": {
      "text/plain": [
       "42    0.256505\n",
       "Name: mean, dtype: float64"
      ]
     },
     "execution_count": 40,
     "metadata": {},
     "output_type": "execute_result"
    }
   ],
   "source": [
    "wt_mean[lib]"
   ]
  },
  {
   "cell_type": "code",
   "execution_count": 46,
   "metadata": {},
   "outputs": [
    {
     "data": {
      "text/plain": [
       "(0, 0.0764622184459188, '#666666', 0.0)"
      ]
     },
     "execution_count": 46,
     "metadata": {},
     "output_type": "execute_result"
    }
   ],
   "source": [
    "position, wt_mean[lib], LIB_COLORS[lib], position/len(LIB_INFO_DICT)"
   ]
  },
  {
   "cell_type": "code",
   "execution_count": 52,
   "metadata": {},
   "outputs": [
    {
     "data": {
      "text/plain": [
       "<matplotlib.legend.Legend at 0x7f019f4d6950>"
      ]
     },
     "execution_count": 52,
     "metadata": {},
     "output_type": "execute_result"
    },
    {
     "data": {
      "image/png": "[encoded data removed]",
      "text/plain": [
       "<Figure size 1600x800 with 1 Axes>"
      ]
     },
     "metadata": {},
     "output_type": "display_data"
    }
   ],
   "source": [
    "import seaborn as sns\n",
    "import matplotlib.pyplot as plt\n",
    "\n",
    "all_df = pd.concat(all_dfs)\n",
    "\n",
    "plt.figure(figsize=(16, 8))  # Adjust the size as needed\n",
    "ax = sns.violinplot(x=\"lib\", y=\"mean\", data=all_df, hue=\"lib\", palette=LIB_COLORS)\n",
    "\n",
    "for lib in LIB_INFO_DICT.keys():\n",
    "\n",
    "    # Find the position of the violin to add the line to\n",
    "    position = all_df[\"lib\"].unique().tolist().index(lib)\n",
    "    ax.axhline(\n",
    "        wt_mean[lib],\n",
    "        color=LIB_COLORS[lib],\n",
    "        linestyle=\"--\",\n",
    "        linewidth=2,\n",
    "        xmin=position / len(LIB_INFO_DICT),\n",
    "        xmax=(position + 1) / len(LIB_INFO_DICT),\n",
    "        label=f\"{lib} parent\",\n",
    "    )\n",
    "\n",
    "ax.set_title(\"Average fitness of HD2 with different backgrounds\")\n",
    "ax.legend(loc=\"upper left\", bbox_to_anchor=(1, 1))\n",
    "# Optional: Set x-axis labels to rotate for better visibility\n",
    "# plt.xticks(rotation=45)"
   ]
  },
  {
   "cell_type": "code",
   "execution_count": 3,
   "metadata": {},
   "outputs": [],
   "source": []
  },
  {
   "cell_type": "code",
   "execution_count": null,
   "metadata": {},
   "outputs": [],
   "source": []
  }
 ],
 "metadata": {
  "kernelspec": {
   "display_name": "SSMuLA",
   "language": "python",
   "name": "python3"
  },
  "language_info": {
   "codemirror_mode": {
    "name": "ipython",
    "version": 3
   },
   "file_extension": ".py",
   "mimetype": "text/x-python",
   "name": "python",
   "nbconvert_exporter": "python",
   "pygments_lexer": "ipython3",
   "version": "3.10.14"
  }
 },
 "nbformat": 4,
 "nbformat_minor": 2
}
