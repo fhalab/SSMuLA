{
 "cells": [
  {
   "cell_type": "code",
   "execution_count": 1,
   "metadata": {},
   "outputs": [
    {
     "name": "stdout",
     "output_type": "stream",
     "text": [
      "/disk2/fli/SSMuLA\n"
     ]
    }
   ],
   "source": [
    "%cd ~/SSMuLA"
   ]
  },
  {
   "cell_type": "code",
   "execution_count": 2,
   "metadata": {},
   "outputs": [],
   "source": [
    "%load_ext autoreload\n",
    "%autoreload 2\n",
    "%load_ext blackcellmagic"
   ]
  },
  {
   "cell_type": "code",
   "execution_count": 3,
   "metadata": {},
   "outputs": [
    {
     "data": {
      "application/javascript": "(function(root) {\n  function now() {\n    return new Date();\n  }\n\n  var force = true;\n  var py_version = '3.3.4'.replace('rc', '-rc.').replace('.dev', '-dev.');\n  var reloading = false;\n  var Bokeh = root.Bokeh;\n\n  if (typeof (root._bokeh_timeout) === \"undefined\" || force) {\n    root._bokeh_timeout = Date.now() + 5000;\n    root._bokeh_failed_load = false;\n  }\n\n  function run_callbacks() {\n    try {\n      root._bokeh_onload_callbacks.forEach(function(callback) {\n        if (callback != null)\n          callback();\n      });\n    } finally {\n      delete root._bokeh_onload_callbacks;\n    }\n    console.debug(\"Bokeh: all callbacks have finished\");\n  }\n\n  function load_libs(css_urls, js_urls, js_modules, js_exports, callback) {\n    if (css_urls == null) css_urls = [];\n    if (js_urls == null) js_urls = [];\n    if (js_modules == null) js_modules = [];\n    if (js_exports == null) js_exports = {};\n\n    root._bokeh_onload_callbacks.push(callback);\n\n    if (root._bokeh_is_loading > 0) {\n      console.debug(\"Bokeh: BokehJS is being loaded, scheduling callback at\", now());\n      return null;\n    }\n    if (js_urls.length === 0 && js_modules.length === 0 && Object.keys(js_exports).length === 0) {\n      run_callbacks();\n      return null;\n    }\n    if (!reloading) {\n      console.debug(\"Bokeh: BokehJS not loaded, scheduling load and callback at\", now());\n    }\n\n    function on_load() {\n      root._bokeh_is_loading--;\n      if (root._bokeh_is_loading === 0) {\n        console.debug(\"Bokeh: all BokehJS libraries/stylesheets loaded\");\n        run_callbacks()\n      }\n    }\n    window._bokeh_on_load = on_load\n\n    function on_error() {\n      console.error(\"failed to load \" + url);\n    }\n\n    var skip = [];\n    if (window.requirejs) {\n      window.requirejs.config({'packages': {}, 'paths': {'jspanel': 'https://cdn.jsdelivr.net/npm/jspanel4@4.12.0/dist/jspanel', 'jspanel-modal': 'https://cdn.jsdelivr.net/npm/jspanel4@4.12.0/dist/extensions/modal/jspanel.modal', 'jspanel-tooltip': 'https://cdn.jsdelivr.net/npm/jspanel4@4.12.0/dist/extensions/tooltip/jspanel.tooltip', 'jspanel-hint': 'https://cdn.jsdelivr.net/npm/jspanel4@4.12.0/dist/extensions/hint/jspanel.hint', 'jspanel-layout': 'https://cdn.jsdelivr.net/npm/jspanel4@4.12.0/dist/extensions/layout/jspanel.layout', 'jspanel-contextmenu': 'https://cdn.jsdelivr.net/npm/jspanel4@4.12.0/dist/extensions/contextmenu/jspanel.contextmenu', 'jspanel-dock': 'https://cdn.jsdelivr.net/npm/jspanel4@4.12.0/dist/extensions/dock/jspanel.dock', 'gridstack': 'https://cdn.jsdelivr.net/npm/gridstack@7.2.3/dist/gridstack-all', 'notyf': 'https://cdn.jsdelivr.net/npm/notyf@3/notyf.min'}, 'shim': {'jspanel': {'exports': 'jsPanel'}, 'gridstack': {'exports': 'GridStack'}}});\n      require([\"jspanel\"], function(jsPanel) {\n\twindow.jsPanel = jsPanel\n\ton_load()\n      })\n      require([\"jspanel-modal\"], function() {\n\ton_load()\n      })\n      require([\"jspanel-tooltip\"], function() {\n\ton_load()\n      })\n      require([\"jspanel-hint\"], function() {\n\ton_load()\n      })\n      require([\"jspanel-layout\"], function() {\n\ton_load()\n      })\n      require([\"jspanel-contextmenu\"], function() {\n\ton_load()\n      })\n      require([\"jspanel-dock\"], function() {\n\ton_load()\n      })\n      require([\"gridstack\"], function(GridStack) {\n\twindow.GridStack = GridStack\n\ton_load()\n      })\n      require([\"notyf\"], function() {\n\ton_load()\n      })\n      root._bokeh_is_loading = css_urls.length + 9;\n    } else {\n      root._bokeh_is_loading = css_urls.length + js_urls.length + js_modules.length + Object.keys(js_exports).length;\n    }\n\n    var existing_stylesheets = []\n    var links = document.getElementsByTagName('link')\n    for (var i = 0; i < links.length; i++) {\n      var link = links[i]\n      if (link.href != null) {\n\texisting_stylesheets.push(link.href)\n      }\n    }\n    for (var i = 0; i < css_urls.length; i++) {\n      var url = css_urls[i];\n      if (existing_stylesheets.indexOf(url) !== -1) {\n\ton_load()\n\tcontinue;\n      }\n      const element = document.createElement(\"link\");\n      element.onload = on_load;\n      element.onerror = on_error;\n      element.rel = \"stylesheet\";\n      element.type = \"text/css\";\n      element.href = url;\n      console.debug(\"Bokeh: injecting link tag for BokehJS stylesheet: \", url);\n      document.body.appendChild(element);\n    }    if (((window['jsPanel'] !== undefined) && (!(window['jsPanel'] instanceof HTMLElement))) || window.requirejs) {\n      var urls = ['https://cdn.holoviz.org/panel/1.3.8/dist/bundled/floatpanel/jspanel4@4.12.0/dist/jspanel.js', 'https://cdn.holoviz.org/panel/1.3.8/dist/bundled/floatpanel/jspanel4@4.12.0/dist/extensions/modal/jspanel.modal.js', 'https://cdn.holoviz.org/panel/1.3.8/dist/bundled/floatpanel/jspanel4@4.12.0/dist/extensions/tooltip/jspanel.tooltip.js', 'https://cdn.holoviz.org/panel/1.3.8/dist/bundled/floatpanel/jspanel4@4.12.0/dist/extensions/hint/jspanel.hint.js', 'https://cdn.holoviz.org/panel/1.3.8/dist/bundled/floatpanel/jspanel4@4.12.0/dist/extensions/layout/jspanel.layout.js', 'https://cdn.holoviz.org/panel/1.3.8/dist/bundled/floatpanel/jspanel4@4.12.0/dist/extensions/contextmenu/jspanel.contextmenu.js', 'https://cdn.holoviz.org/panel/1.3.8/dist/bundled/floatpanel/jspanel4@4.12.0/dist/extensions/dock/jspanel.dock.js'];\n      for (var i = 0; i < urls.length; i++) {\n        skip.push(urls[i])\n      }\n    }    if (((window['GridStack'] !== undefined) && (!(window['GridStack'] instanceof HTMLElement))) || window.requirejs) {\n      var urls = ['https://cdn.holoviz.org/panel/1.3.8/dist/bundled/gridstack/gridstack@7.2.3/dist/gridstack-all.js'];\n      for (var i = 0; i < urls.length; i++) {\n        skip.push(urls[i])\n      }\n    }    if (((window['Notyf'] !== undefined) && (!(window['Notyf'] instanceof HTMLElement))) || window.requirejs) {\n      var urls = ['https://cdn.holoviz.org/panel/1.3.8/dist/bundled/notificationarea/notyf@3/notyf.min.js'];\n      for (var i = 0; i < urls.length; i++) {\n        skip.push(urls[i])\n      }\n    }    var existing_scripts = []\n    var scripts = document.getElementsByTagName('script')\n    for (var i = 0; i < scripts.length; i++) {\n      var script = scripts[i]\n      if (script.src != null) {\n\texisting_scripts.push(script.src)\n      }\n    }\n    for (var i = 0; i < js_urls.length; i++) {\n      var url = js_urls[i];\n      if (skip.indexOf(url) !== -1 || existing_scripts.indexOf(url) !== -1) {\n\tif (!window.requirejs) {\n\t  on_load();\n\t}\n\tcontinue;\n      }\n      var element = document.createElement('script');\n      element.onload = on_load;\n      element.onerror = on_error;\n      element.async = false;\n      element.src = url;\n      console.debug(\"Bokeh: injecting script tag for BokehJS library: \", url);\n      document.head.appendChild(element);\n    }\n    for (var i = 0; i < js_modules.length; i++) {\n      var url = js_modules[i];\n      if (skip.indexOf(url) !== -1 || existing_scripts.indexOf(url) !== -1) {\n\tif (!window.requirejs) {\n\t  on_load();\n\t}\n\tcontinue;\n      }\n      var element = document.createElement('script');\n      element.onload = on_load;\n      element.onerror = on_error;\n      element.async = false;\n      element.src = url;\n      element.type = \"module\";\n      console.debug(\"Bokeh: injecting script tag for BokehJS library: \", url);\n      document.head.appendChild(element);\n    }\n    for (const name in js_exports) {\n      var url = js_exports[name];\n      if (skip.indexOf(url) >= 0 || root[name] != null) {\n\tif (!window.requirejs) {\n\t  on_load();\n\t}\n\tcontinue;\n      }\n      var element = document.createElement('script');\n      element.onerror = on_error;\n      element.async = false;\n      element.type = \"module\";\n      console.debug(\"Bokeh: injecting script tag for BokehJS library: \", url);\n      element.textContent = `\n      import ${name} from \"${url}\"\n      window.${name} = ${name}\n      window._bokeh_on_load()\n      `\n      document.head.appendChild(element);\n    }\n    if (!js_urls.length && !js_modules.length) {\n      on_load()\n    }\n  };\n\n  function inject_raw_css(css) {\n    const element = document.createElement(\"style\");\n    element.appendChild(document.createTextNode(css));\n    document.body.appendChild(element);\n  }\n\n  var js_urls = [\"https://cdn.bokeh.org/bokeh/release/bokeh-3.3.4.min.js\", \"https://cdn.bokeh.org/bokeh/release/bokeh-gl-3.3.4.min.js\", \"https://cdn.bokeh.org/bokeh/release/bokeh-widgets-3.3.4.min.js\", \"https://cdn.bokeh.org/bokeh/release/bokeh-tables-3.3.4.min.js\", \"https://cdn.holoviz.org/panel/1.3.8/dist/panel.min.js\"];\n  var js_modules = [];\n  var js_exports = {};\n  var css_urls = [];\n  var inline_js = [    function(Bokeh) {\n      Bokeh.set_log_level(\"info\");\n    },\nfunction(Bokeh) {} // ensure no trailing comma for IE\n  ];\n\n  function run_inline_js() {\n    if ((root.Bokeh !== undefined) || (force === true)) {\n      for (var i = 0; i < inline_js.length; i++) {\n\ttry {\n          inline_js[i].call(root, root.Bokeh);\n\t} catch(e) {\n\t  if (!reloading) {\n\t    throw e;\n\t  }\n\t}\n      }\n      // Cache old bokeh versions\n      if (Bokeh != undefined && !reloading) {\n\tvar NewBokeh = root.Bokeh;\n\tif (Bokeh.versions === undefined) {\n\t  Bokeh.versions = new Map();\n\t}\n\tif (NewBokeh.version !== Bokeh.version) {\n\t  Bokeh.versions.set(NewBokeh.version, NewBokeh)\n\t}\n\troot.Bokeh = Bokeh;\n      }} else if (Date.now() < root._bokeh_timeout) {\n      setTimeout(run_inline_js, 100);\n    } else if (!root._bokeh_failed_load) {\n      console.log(\"Bokeh: BokehJS failed to load within specified timeout.\");\n      root._bokeh_failed_load = true;\n    }\n    root._bokeh_is_initializing = false\n  }\n\n  function load_or_wait() {\n    // Implement a backoff loop that tries to ensure we do not load multiple\n    // versions of Bokeh and its dependencies at the same time.\n    // In recent versions we use the root._bokeh_is_initializing flag\n    // to determine whether there is an ongoing attempt to initialize\n    // bokeh, however for backward compatibility we also try to ensure\n    // that we do not start loading a newer (Panel>=1.0 and Bokeh>3) version\n    // before older versions are fully initialized.\n    if (root._bokeh_is_initializing && Date.now() > root._bokeh_timeout) {\n      root._bokeh_is_initializing = false;\n      root._bokeh_onload_callbacks = undefined;\n      console.log(\"Bokeh: BokehJS was loaded multiple times but one version failed to initialize.\");\n      load_or_wait();\n    } else if (root._bokeh_is_initializing || (typeof root._bokeh_is_initializing === \"undefined\" && root._bokeh_onload_callbacks !== undefined)) {\n      setTimeout(load_or_wait, 100);\n    } else {\n      root._bokeh_is_initializing = true\n      root._bokeh_onload_callbacks = []\n      var bokeh_loaded = Bokeh != null && (Bokeh.version === py_version || (Bokeh.versions !== undefined && Bokeh.versions.has(py_version)));\n      if (!reloading && !bokeh_loaded) {\n\troot.Bokeh = undefined;\n      }\n      load_libs(css_urls, js_urls, js_modules, js_exports, function() {\n\tconsole.debug(\"Bokeh: BokehJS plotting callback run at\", now());\n\trun_inline_js();\n      });\n    }\n  }\n  // Give older versions of the autoload script a head-start to ensure\n  // they initialize before we start loading newer version.\n  setTimeout(load_or_wait, 100)\n}(window));",
      "application/vnd.holoviews_load.v0+json": ""
     },
     "metadata": {},
     "output_type": "display_data"
    },
    {
     "data": {
      "application/javascript": "\nif ((window.PyViz === undefined) || (window.PyViz instanceof HTMLElement)) {\n  window.PyViz = {comms: {}, comm_status:{}, kernels:{}, receivers: {}, plot_index: []}\n}\n\n\n    function JupyterCommManager() {\n    }\n\n    JupyterCommManager.prototype.register_target = function(plot_id, comm_id, msg_handler) {\n      if (window.comm_manager || ((window.Jupyter !== undefined) && (Jupyter.notebook.kernel != null))) {\n        var comm_manager = window.comm_manager || Jupyter.notebook.kernel.comm_manager;\n        comm_manager.register_target(comm_id, function(comm) {\n          comm.on_msg(msg_handler);\n        });\n      } else if ((plot_id in window.PyViz.kernels) && (window.PyViz.kernels[plot_id])) {\n        window.PyViz.kernels[plot_id].registerCommTarget(comm_id, function(comm) {\n          comm.onMsg = msg_handler;\n        });\n      } else if (typeof google != 'undefined' && google.colab.kernel != null) {\n        google.colab.kernel.comms.registerTarget(comm_id, (comm) => {\n          var messages = comm.messages[Symbol.asyncIterator]();\n          function processIteratorResult(result) {\n            var message = result.value;\n            console.log(message)\n            var content = {data: message.data, comm_id};\n            var buffers = []\n            for (var buffer of message.buffers || []) {\n              buffers.push(new DataView(buffer))\n            }\n            var metadata = message.metadata || {};\n            var msg = {content, buffers, metadata}\n            msg_handler(msg);\n            return messages.next().then(processIteratorResult);\n          }\n          return messages.next().then(processIteratorResult);\n        })\n      }\n    }\n\n    JupyterCommManager.prototype.get_client_comm = function(plot_id, comm_id, msg_handler) {\n      if (comm_id in window.PyViz.comms) {\n        return window.PyViz.comms[comm_id];\n      } else if (window.comm_manager || ((window.Jupyter !== undefined) && (Jupyter.notebook.kernel != null))) {\n        var comm_manager = window.comm_manager || Jupyter.notebook.kernel.comm_manager;\n        var comm = comm_manager.new_comm(comm_id, {}, {}, {}, comm_id);\n        if (msg_handler) {\n          comm.on_msg(msg_handler);\n        }\n      } else if ((plot_id in window.PyViz.kernels) && (window.PyViz.kernels[plot_id])) {\n        var comm = window.PyViz.kernels[plot_id].connectToComm(comm_id);\n        comm.open();\n        if (msg_handler) {\n          comm.onMsg = msg_handler;\n        }\n      } else if (typeof google != 'undefined' && google.colab.kernel != null) {\n        var comm_promise = google.colab.kernel.comms.open(comm_id)\n        comm_promise.then((comm) => {\n          window.PyViz.comms[comm_id] = comm;\n          if (msg_handler) {\n            var messages = comm.messages[Symbol.asyncIterator]();\n            function processIteratorResult(result) {\n              var message = result.value;\n              var content = {data: message.data};\n              var metadata = message.metadata || {comm_id};\n              var msg = {content, metadata}\n              msg_handler(msg);\n              return messages.next().then(processIteratorResult);\n            }\n            return messages.next().then(processIteratorResult);\n          }\n        }) \n        var sendClosure = (data, metadata, buffers, disposeOnDone) => {\n          return comm_promise.then((comm) => {\n            comm.send(data, metadata, buffers, disposeOnDone);\n          });\n        };\n        var comm = {\n          send: sendClosure\n        };\n      }\n      window.PyViz.comms[comm_id] = comm;\n      return comm;\n    }\n    window.PyViz.comm_manager = new JupyterCommManager();\n    \n\n\nvar JS_MIME_TYPE = 'application/javascript';\nvar HTML_MIME_TYPE = 'text/html';\nvar EXEC_MIME_TYPE = 'application/vnd.holoviews_exec.v0+json';\nvar CLASS_NAME = 'output';\n\n/**\n * Render data to the DOM node\n */\nfunction render(props, node) {\n  var div = document.createElement(\"div\");\n  var script = document.createElement(\"script\");\n  node.appendChild(div);\n  node.appendChild(script);\n}\n\n/**\n * Handle when a new output is added\n */\nfunction handle_add_output(event, handle) {\n  var output_area = handle.output_area;\n  var output = handle.output;\n  if ((output.data == undefined) || (!output.data.hasOwnProperty(EXEC_MIME_TYPE))) {\n    return\n  }\n  var id = output.metadata[EXEC_MIME_TYPE][\"id\"];\n  var toinsert = output_area.element.find(\".\" + CLASS_NAME.split(' ')[0]);\n  if (id !== undefined) {\n    var nchildren = toinsert.length;\n    var html_node = toinsert[nchildren-1].children[0];\n    html_node.innerHTML = output.data[HTML_MIME_TYPE];\n    var scripts = [];\n    var nodelist = html_node.querySelectorAll(\"script\");\n    for (var i in nodelist) {\n      if (nodelist.hasOwnProperty(i)) {\n        scripts.push(nodelist[i])\n      }\n    }\n\n    scripts.forEach( function (oldScript) {\n      var newScript = document.createElement(\"script\");\n      var attrs = [];\n      var nodemap = oldScript.attributes;\n      for (var j in nodemap) {\n        if (nodemap.hasOwnProperty(j)) {\n          attrs.push(nodemap[j])\n        }\n      }\n      attrs.forEach(function(attr) { newScript.setAttribute(attr.name, attr.value) });\n      newScript.appendChild(document.createTextNode(oldScript.innerHTML));\n      oldScript.parentNode.replaceChild(newScript, oldScript);\n    });\n    if (JS_MIME_TYPE in output.data) {\n      toinsert[nchildren-1].children[1].textContent = output.data[JS_MIME_TYPE];\n    }\n    output_area._hv_plot_id = id;\n    if ((window.Bokeh !== undefined) && (id in Bokeh.index)) {\n      window.PyViz.plot_index[id] = Bokeh.index[id];\n    } else {\n      window.PyViz.plot_index[id] = null;\n    }\n  } else if (output.metadata[EXEC_MIME_TYPE][\"server_id\"] !== undefined) {\n    var bk_div = document.createElement(\"div\");\n    bk_div.innerHTML = output.data[HTML_MIME_TYPE];\n    var script_attrs = bk_div.children[0].attributes;\n    for (var i = 0; i < script_attrs.length; i++) {\n      toinsert[toinsert.length - 1].childNodes[1].setAttribute(script_attrs[i].name, script_attrs[i].value);\n    }\n    // store reference to server id on output_area\n    output_area._bokeh_server_id = output.metadata[EXEC_MIME_TYPE][\"server_id\"];\n  }\n}\n\n/**\n * Handle when an output is cleared or removed\n */\nfunction handle_clear_output(event, handle) {\n  var id = handle.cell.output_area._hv_plot_id;\n  var server_id = handle.cell.output_area._bokeh_server_id;\n  if (((id === undefined) || !(id in PyViz.plot_index)) && (server_id !== undefined)) { return; }\n  var comm = window.PyViz.comm_manager.get_client_comm(\"hv-extension-comm\", \"hv-extension-comm\", function () {});\n  if (server_id !== null) {\n    comm.send({event_type: 'server_delete', 'id': server_id});\n    return;\n  } else if (comm !== null) {\n    comm.send({event_type: 'delete', 'id': id});\n  }\n  delete PyViz.plot_index[id];\n  if ((window.Bokeh !== undefined) & (id in window.Bokeh.index)) {\n    var doc = window.Bokeh.index[id].model.document\n    doc.clear();\n    const i = window.Bokeh.documents.indexOf(doc);\n    if (i > -1) {\n      window.Bokeh.documents.splice(i, 1);\n    }\n  }\n}\n\n/**\n * Handle kernel restart event\n */\nfunction handle_kernel_cleanup(event, handle) {\n  delete PyViz.comms[\"hv-extension-comm\"];\n  window.PyViz.plot_index = {}\n}\n\n/**\n * Handle update_display_data messages\n */\nfunction handle_update_output(event, handle) {\n  handle_clear_output(event, {cell: {output_area: handle.output_area}})\n  handle_add_output(event, handle)\n}\n\nfunction register_renderer(events, OutputArea) {\n  function append_mime(data, metadata, element) {\n    // create a DOM node to render to\n    var toinsert = this.create_output_subarea(\n    metadata,\n    CLASS_NAME,\n    EXEC_MIME_TYPE\n    );\n    this.keyboard_manager.register_events(toinsert);\n    // Render to node\n    var props = {data: data, metadata: metadata[EXEC_MIME_TYPE]};\n    render(props, toinsert[0]);\n    element.append(toinsert);\n    return toinsert\n  }\n\n  events.on('output_added.OutputArea', handle_add_output);\n  events.on('output_updated.OutputArea', handle_update_output);\n  events.on('clear_output.CodeCell', handle_clear_output);\n  events.on('delete.Cell', handle_clear_output);\n  events.on('kernel_ready.Kernel', handle_kernel_cleanup);\n\n  OutputArea.prototype.register_mime_type(EXEC_MIME_TYPE, append_mime, {\n    safe: true,\n    index: 0\n  });\n}\n\nif (window.Jupyter !== undefined) {\n  try {\n    var events = require('base/js/events');\n    var OutputArea = require('notebook/js/outputarea').OutputArea;\n    if (OutputArea.prototype.mime_types().indexOf(EXEC_MIME_TYPE) == -1) {\n      register_renderer(events, OutputArea);\n    }\n  } catch(err) {\n  }\n}\n",
      "application/vnd.holoviews_load.v0+json": ""
     },
     "metadata": {},
     "output_type": "display_data"
    },
    {
     "data": {
      "text/html": [
       "<style>*[data-root-id],\n",
       "*[data-root-id] > * {\n",
       "  box-sizing: border-box;\n",
       "  font-family: var(--jp-ui-font-family);\n",
       "  font-size: var(--jp-ui-font-size1);\n",
       "  color: var(--vscode-editor-foreground, var(--jp-ui-font-color1));\n",
       "}\n",
       "\n",
       "/* Override VSCode background color */\n",
       ".cell-output-ipywidget-background:has(\n",
       "    > .cell-output-ipywidget-background > .lm-Widget > *[data-root-id]\n",
       "  ),\n",
       ".cell-output-ipywidget-background:has(> .lm-Widget > *[data-root-id]) {\n",
       "  background-color: transparent !important;\n",
       "}\n",
       "</style>"
      ]
     },
     "metadata": {},
     "output_type": "display_data"
    },
    {
     "data": {
      "application/vnd.holoviews_exec.v0+json": "",
      "text/html": [
       "<div id='p1002'>\n",
       "  <div id=\"d19da90f-fa8c-4120-b020-00157f21507a\" data-root-id=\"p1002\" style=\"display: contents;\"></div>\n",
       "</div>\n",
       "<script type=\"application/javascript\">(function(root) {\n",
       "  var docs_json = {\"6d0dfe31-28bb-42db-861b-7713dc978847\":{\"version\":\"3.3.4\",\"title\":\"Bokeh Application\",\"roots\":[{\"type\":\"object\",\"name\":\"panel.models.browser.BrowserInfo\",\"id\":\"p1002\"},{\"type\":\"object\",\"name\":\"panel.models.comm_manager.CommManager\",\"id\":\"p1003\",\"attributes\":{\"plot_id\":\"p1002\",\"comm_id\":\"4b18b2fb18284ac5992acc174eae987b\",\"client_comm_id\":\"1e477c8d72614f069d1668dfa497ff2f\"}}],\"defs\":[{\"type\":\"model\",\"name\":\"ReactiveHTML1\"},{\"type\":\"model\",\"name\":\"FlexBox1\",\"properties\":[{\"name\":\"align_content\",\"kind\":\"Any\",\"default\":\"flex-start\"},{\"name\":\"align_items\",\"kind\":\"Any\",\"default\":\"flex-start\"},{\"name\":\"flex_direction\",\"kind\":\"Any\",\"default\":\"row\"},{\"name\":\"flex_wrap\",\"kind\":\"Any\",\"default\":\"wrap\"},{\"name\":\"justify_content\",\"kind\":\"Any\",\"default\":\"flex-start\"}]},{\"type\":\"model\",\"name\":\"FloatPanel1\",\"properties\":[{\"name\":\"config\",\"kind\":\"Any\",\"default\":{\"type\":\"map\"}},{\"name\":\"contained\",\"kind\":\"Any\",\"default\":true},{\"name\":\"position\",\"kind\":\"Any\",\"default\":\"right-top\"},{\"name\":\"offsetx\",\"kind\":\"Any\",\"default\":null},{\"name\":\"offsety\",\"kind\":\"Any\",\"default\":null},{\"name\":\"theme\",\"kind\":\"Any\",\"default\":\"primary\"},{\"name\":\"status\",\"kind\":\"Any\",\"default\":\"normalized\"}]},{\"type\":\"model\",\"name\":\"GridStack1\",\"properties\":[{\"name\":\"mode\",\"kind\":\"Any\",\"default\":\"warn\"},{\"name\":\"ncols\",\"kind\":\"Any\",\"default\":null},{\"name\":\"nrows\",\"kind\":\"Any\",\"default\":null},{\"name\":\"allow_resize\",\"kind\":\"Any\",\"default\":true},{\"name\":\"allow_drag\",\"kind\":\"Any\",\"default\":true},{\"name\":\"state\",\"kind\":\"Any\",\"default\":[]}]},{\"type\":\"model\",\"name\":\"drag1\",\"properties\":[{\"name\":\"slider_width\",\"kind\":\"Any\",\"default\":5},{\"name\":\"slider_color\",\"kind\":\"Any\",\"default\":\"black\"},{\"name\":\"value\",\"kind\":\"Any\",\"default\":50}]},{\"type\":\"model\",\"name\":\"click1\",\"properties\":[{\"name\":\"terminal_output\",\"kind\":\"Any\",\"default\":\"\"},{\"name\":\"debug_name\",\"kind\":\"Any\",\"default\":\"\"},{\"name\":\"clears\",\"kind\":\"Any\",\"default\":0}]},{\"type\":\"model\",\"name\":\"copy_to_clipboard1\",\"properties\":[{\"name\":\"fill\",\"kind\":\"Any\",\"default\":\"none\"},{\"name\":\"value\",\"kind\":\"Any\",\"default\":null}]},{\"type\":\"model\",\"name\":\"FastWrapper1\",\"properties\":[{\"name\":\"object\",\"kind\":\"Any\",\"default\":null},{\"name\":\"style\",\"kind\":\"Any\",\"default\":null}]},{\"type\":\"model\",\"name\":\"NotificationAreaBase1\",\"properties\":[{\"name\":\"js_events\",\"kind\":\"Any\",\"default\":{\"type\":\"map\"}},{\"name\":\"position\",\"kind\":\"Any\",\"default\":\"bottom-right\"},{\"name\":\"_clear\",\"kind\":\"Any\",\"default\":0}]},{\"type\":\"model\",\"name\":\"NotificationArea1\",\"properties\":[{\"name\":\"js_events\",\"kind\":\"Any\",\"default\":{\"type\":\"map\"}},{\"name\":\"notifications\",\"kind\":\"Any\",\"default\":[]},{\"name\":\"position\",\"kind\":\"Any\",\"default\":\"bottom-right\"},{\"name\":\"_clear\",\"kind\":\"Any\",\"default\":0},{\"name\":\"types\",\"kind\":\"Any\",\"default\":[{\"type\":\"map\",\"entries\":[[\"type\",\"warning\"],[\"background\",\"#ffc107\"],[\"icon\",{\"type\":\"map\",\"entries\":[[\"className\",\"fas fa-exclamation-triangle\"],[\"tagName\",\"i\"],[\"color\",\"white\"]]}]]},{\"type\":\"map\",\"entries\":[[\"type\",\"info\"],[\"background\",\"#007bff\"],[\"icon\",{\"type\":\"map\",\"entries\":[[\"className\",\"fas fa-info-circle\"],[\"tagName\",\"i\"],[\"color\",\"white\"]]}]]}]}]},{\"type\":\"model\",\"name\":\"Notification\",\"properties\":[{\"name\":\"background\",\"kind\":\"Any\",\"default\":null},{\"name\":\"duration\",\"kind\":\"Any\",\"default\":3000},{\"name\":\"icon\",\"kind\":\"Any\",\"default\":null},{\"name\":\"message\",\"kind\":\"Any\",\"default\":\"\"},{\"name\":\"notification_type\",\"kind\":\"Any\",\"default\":null},{\"name\":\"_destroyed\",\"kind\":\"Any\",\"default\":false}]},{\"type\":\"model\",\"name\":\"TemplateActions1\",\"properties\":[{\"name\":\"open_modal\",\"kind\":\"Any\",\"default\":0},{\"name\":\"close_modal\",\"kind\":\"Any\",\"default\":0}]},{\"type\":\"model\",\"name\":\"BootstrapTemplateActions1\",\"properties\":[{\"name\":\"open_modal\",\"kind\":\"Any\",\"default\":0},{\"name\":\"close_modal\",\"kind\":\"Any\",\"default\":0}]},{\"type\":\"model\",\"name\":\"MaterialTemplateActions1\",\"properties\":[{\"name\":\"open_modal\",\"kind\":\"Any\",\"default\":0},{\"name\":\"close_modal\",\"kind\":\"Any\",\"default\":0}]}]}};\n",
       "  var render_items = [{\"docid\":\"6d0dfe31-28bb-42db-861b-7713dc978847\",\"roots\":{\"p1002\":\"d19da90f-fa8c-4120-b020-00157f21507a\"},\"root_ids\":[\"p1002\"]}];\n",
       "  var docs = Object.values(docs_json)\n",
       "  if (!docs) {\n",
       "    return\n",
       "  }\n",
       "  const py_version = docs[0].version.replace('rc', '-rc.').replace('.dev', '-dev.')\n",
       "  function embed_document(root) {\n",
       "    var Bokeh = get_bokeh(root)\n",
       "    Bokeh.embed.embed_items_notebook(docs_json, render_items);\n",
       "    for (const render_item of render_items) {\n",
       "      for (const root_id of render_item.root_ids) {\n",
       "\tconst id_el = document.getElementById(root_id)\n",
       "\tif (id_el.children.length && (id_el.children[0].className === 'bk-root')) {\n",
       "\t  const root_el = id_el.children[0]\n",
       "\t  root_el.id = root_el.id + '-rendered'\n",
       "\t}\n",
       "      }\n",
       "    }\n",
       "  }\n",
       "  function get_bokeh(root) {\n",
       "    if (root.Bokeh === undefined) {\n",
       "      return null\n",
       "    } else if (root.Bokeh.version !== py_version) {\n",
       "      if (root.Bokeh.versions === undefined || !root.Bokeh.versions.has(py_version)) {\n",
       "\treturn null\n",
       "      }\n",
       "      return root.Bokeh.versions.get(py_version);\n",
       "    } else if (root.Bokeh.version === py_version) {\n",
       "      return root.Bokeh\n",
       "    }\n",
       "    return null\n",
       "  }\n",
       "  function is_loaded(root) {\n",
       "    var Bokeh = get_bokeh(root)\n",
       "    return (Bokeh != null && Bokeh.Panel !== undefined)\n",
       "  }\n",
       "  if (is_loaded(root)) {\n",
       "    embed_document(root);\n",
       "  } else {\n",
       "    var attempts = 0;\n",
       "    var timer = setInterval(function(root) {\n",
       "      if (is_loaded(root)) {\n",
       "        clearInterval(timer);\n",
       "        embed_document(root);\n",
       "      } else if (document.readyState == \"complete\") {\n",
       "        attempts++;\n",
       "        if (attempts > 200) {\n",
       "          clearInterval(timer);\n",
       "\t  var Bokeh = get_bokeh(root)\n",
       "\t  if (Bokeh == null || Bokeh.Panel == null) {\n",
       "            console.warn(\"Panel: ERROR: Unable to run Panel code because Bokeh or Panel library is missing\");\n",
       "\t  } else {\n",
       "\t    console.warn(\"Panel: WARNING: Attempting to render but not all required libraries could be resolved.\")\n",
       "\t    embed_document(root)\n",
       "\t  }\n",
       "        }\n",
       "      }\n",
       "    }, 25, root)\n",
       "  }\n",
       "})(window);</script>"
      ]
     },
     "metadata": {
      "application/vnd.holoviews_exec.v0+json": {
       "id": "p1002"
      }
     },
     "output_type": "display_data"
    },
    {
     "data": {
      "text/html": [
       "\n",
       "<div class=\"logo-block\">\n",
       "<img src='data:image/png;base64,iVBORw0KGgoAAAANSUhEUgAAAEAAAABACAYAAACqaXHeAAAABHNCSVQICAgIfAhkiAAAAAlwSFlz\n",
       "AAAB+wAAAfsBxc2miwAAABl0RVh0U29mdHdhcmUAd3d3Lmlua3NjYXBlLm9yZ5vuPBoAAA6zSURB\n",
       "VHic7ZtpeFRVmsf/5966taWqUlUJ2UioBBJiIBAwCZtog9IOgjqACsogKtqirT2ttt069nQ/zDzt\n",
       "tI4+CrJIREFaFgWhBXpUNhHZQoKBkIUASchWla1S+3ar7r1nPkDaCAnZKoQP/D7mnPOe9/xy76n3\n",
       "nFSAW9ziFoPFNED2LLK5wcyBDObkb8ZkxuaoSYlI6ZcOKq1eWFdedqNzGHQBk9RMEwFAASkk0Xw3\n",
       "ETacDNi2vtvc7L0ROdw0AjoSotQVkKSvHQz/wRO1lScGModBFbDMaNRN1A4tUBCS3lk7BWhQkgpD\n",
       "lG4852/+7DWr1R3uHAZVQDsbh6ZPN7CyxUrCzJMRouusj0ipRwD2uKm0Zn5d2dFwzX1TCGhnmdGo\n",
       "G62Nna+isiUqhkzuKrkQaJlPEv5mFl2fvGg2t/VnzkEV8F5ioioOEWkLG86fvbpthynjdhXYZziQ\n",
       "x1hC9J2NFyi8vCTt91Fh04KGip0AaG9zuCk2wQCVyoNU3Hjezee9bq92duzzTmxsRJoy+jEZZZYo\n",
       "GTKJ6SJngdJqAfRzpze0+jHreUtPc7gpBLQnIYK6BYp/uGhw9YK688eu7v95ysgshcg9qSLMo3JC\n",
       "4jqLKQFBgdKDPoQ+Pltb8dUyQLpeDjeVgI6EgLIQFT5tEl3rn2losHVsexbZ3EyT9wE1uGdkIPcy\n",
       "BGxn8QUq1QrA5nqW5i2tLqvrrM9NK6AdkVIvL9E9bZL/oyfMVd/jqvc8LylzRBKDJSzIExwhQzuL\n",
       "QYGQj4rHfFTc8mUdu3E7yoLtbTe9gI4EqVgVkug2i5+uXGo919ixbRog+3fTbQ8qJe4ZOYNfMoTI\n",
       "OoshUNosgO60AisX15aeI2PSIp5KiFLI9ubb1vV3Qb2ltwLakUCDAkWX7/nHKRmmGIl9VgYsUhJm\n",
       "2NXjKYADtM1ygne9QQDIXlk49FBstMKx66D1v4+XuQr7vqTe0VcBHQlRWiOCbmmSYe2SqtL6q5rJ\n",
       "zsTb7lKx3FKOYC4DoqyS/B5bvLPxvD9Qtf6saxYLQGJErmDOdOMr/zo96km1nElr8bmPOBwI9COv\n",
       "HnFPRIwmkSOv9kcAS4heRsidOkpeWBgZM+UBrTFAXNYL5Vf2ii9c1trNzpYdaoVil3WIc+wdk+gQ\n",
       "noie3ecCcxt9ITcLAPWt/laGEO/9U6PmzZkenTtsSMQ8uYywJVW+grCstAvCIaAdArAsIWkRDDs/\n",
       "KzLm2YcjY1Lv0UdW73HabE9n6V66cxSzfEmuJssTpKGVp+0vHq73FwL46eOjpMpbRAnNmJFrGJNu\n",
       "Ukf9Yrz+3rghiumCKNXXWPhLYcjxGsIpoCMsIRoFITkW8AuyM8jC1+/QLx4bozCEJIq38+1rtpR6\n",
       "V/yzb8eBlRb3fo5l783N0CWolAzJHaVNzkrTzlEp2bQ2q3TC5gn6wpnoQAmwSiGh2GitnTmVMc5O\n",
       "UyfKWUKCIsU7+fZDKwqdT6DDpvkzAX4/+AMFjk0tDp5GRXLpQ2MUmhgDp5gxQT8+Y7hyPsMi8uxF\n",
       "71H0oebujHALECjFKaW9Lm68n18wXp2kVzIcABytD5iXFzg+WVXkegpAsOOYziqo0OkK76GyquC3\n",
       "ltZAzMhhqlSNmmWTE5T6e3IN05ITFLM4GdN0vtZ3ob8Jh1NAKXFbm5PtLU/eqTSlGjkNAJjdgn/N\n",
       "aedXa0tdi7+t9G0FIF49rtMSEgAs1kDLkTPO7ebm4IUWeyh1bKomXqlgMG6kJmHcSM0clYLJ8XtR\n",
       "1GTnbV3F6I5wCGikAb402npp1h1s7LQUZZSMIfALFOuL3UUrfnS8+rez7v9qcold5tilgHbO1fjK\n",
       "9ubb17u9oshxzMiUBKXWqJNxd+fqb0tLVs4lILFnK71H0Ind7uiPgACVcFJlrb0tV6DzxqqTIhUM\n",
       "CwDf1/rrVhTa33/3pGPxJYdQ2l2cbgVcQSosdx8uqnDtbGjh9SlDVSMNWhlnilfqZk42Th2ZpLpf\n",
       "xrHec5e815zrr0dfBZSwzkZfqsv+1FS1KUknUwPARVvItfKUY+cn57yP7qv07UE3p8B2uhUwLk09\n",
       "e0SCOrK+hbdYHYLjRIl71wWzv9jpEoeOHhGRrJAzyEyNiJuUqX0g2sBN5kGK6y2Blp5M3lsB9Qh4\n",
       "y2Ja6x6+i0ucmKgwMATwhSjdUu49tKrQ/pvN5d53ml2CGwCmJipmKjgmyuaXzNeL2a0AkQ01Th5j\n",
       "2DktO3Jyk8f9vcOBQHV94OK+fPumJmvQHxJoWkaKWq9Vs+yUsbq0zGT1I4RgeH2b5wef7+c7bl8F\n",
       "eKgoHVVZa8ZPEORzR6sT1BzDUAD/d9F78e2Tzv99v8D+fLVTqAKAsbGamKey1Mt9Ann4eH3gTXTz\n",
       "idWtAJ8PQWOk7NzSeQn/OTHDuEikVF1R4z8BQCy+6D1aWRfY0tTGG2OM8rRoPaeIj5ZHzJxszElN\n",
       "VM8K8JS5WOfv8mzRnQAKoEhmt8gyPM4lU9SmBK1MCQBnW4KONT86v1hZ1PbwSXPw4JWussVjtH9Y\n",
       "NCoiL9UoH/6PSu8jFrfY2t36erQHXLIEakMi1SydmzB31h3GGXFDFNPaK8Rme9B79Ixrd0WN+1ij\n",
       "NRQ/doRmuFLBkHSTOm5GruG+pFjFdAmorG4IXH1Qua6ASniclfFtDYt+oUjKipPrCQB7QBQ2lrgP\n",
       "fFzm+9XWUtcqJ3/5vDLDpJ79XHZk3u8nGZ42qlj1+ydtbxysCezrydp6ugmipNJ7WBPB5tydY0jP\n",
       "HaVNzs3QzeE4ZpTbI+ZbnSFPbVOw9vsfnVvqWnirPyCNGD08IlqtYkh2hjZ5dErEQzoNm+6ykyOt\n",
       "Lt5/PQEuSRRKo22VkydK+vvS1XEKlhCJAnsqvcVvH7f/ZU2R67eXbMEGAMiIV5oWZWiWvz5Fv2xG\n",
       "sjqNJQRvn3Rs2lji/lNP19VjAQDgD7FHhujZB9OGqYxRkZxixgRDVlqS6uEOFaJUVu0rPFzctrnF\n",
       "JqijImVp8dEKVWyUXDk92zAuMZ6bFwpBU1HrOw6AdhQgUooChb0+ItMbWJitSo5Ws3IAOGEOtL53\n",
       "0vHZih9sC4vtofZ7Qu6523V/fmGcds1TY3V36pUsBwAbSlxnVh2xLfAD/IAIMDf7XYIkNmXfpp2l\n",
       "18rkAJAy9HKFaIr/qULkeQQKy9zf1JgDB2uaeFNGijo5QsUyacNUUTOnGO42xSnv4oOwpDi1zYkc\n",
       "efUc3I5Gk6PhyTuVKaOGyLUAYPGIoY9Pu/atL/L92+4q9wbflRJ2Trpm/jPjdBtfnqB/dIThcl8A\n",
       "KG7hbRuKnb8qsQsVvVlTrwQAQMUlf3kwJI24Z4JhPMtcfng5GcH49GsrxJpGvvHIaeem2ma+KSjQ\n",
       "lIwUdYyCY8j4dE1KzijNnIP2llF2wcXNnsoapw9XxsgYAl6k+KzUXbi2yP3KR2ecf6z3BFsBICdW\n",
       "nvnIaG3eHybqX7vbpEqUMT+9OL4Qpe8VON7dXuFd39v19FoAABRVePbGGuXTszO0P7tu6lghUonE\n",
       "llRdrhArLvmKdh9u29jcFiRRkfLUxBiFNiqSU9icoZQHo5mYBI1MBgBH6wMNb+U7Pnw337H4gi1Y\n",
       "ciWs+uks3Z9fztUvfzxTm9Ne8XXkvQLHNytOOZeiD4e0PgkAIAYCYknKUNUDSXEKzdWNpnil7r4p\n",
       "xqkjTarZMtk/K8TQ6Qve78qqvXurGwIJqcOUKfUWHsm8KGvxSP68YudXq4pcj39X49uOK2X142O0\n",
       "Tz5/u/7TVybqH0rSya6ZBwD21/gubbrgWdDgEOx9WUhfBaC2ibcEBYm7a7x+ukrBMNcEZggyR0TE\n",
       "T8zUPjikQ4VosQZbTpS4vqizBKvqmvjsqnpfzaZyx9JPiz1/bfGKdgD45XB1zoIMzYbfTdS/NClB\n",
       "Gct0USiY3YL/g0LHy/uq/Ef6uo5+n0R/vyhp17Klpge763f8rMu6YU/zrn2nml+2WtH+Z+5IAAFc\n",
       "2bUTdTDOSNa9+cQY7YLsOIXhevEkCvzph7a8laecz/Un/z4/Ae04XeL3UQb57IwU9ZDr9UuKVajv\n",
       "nxp1+1UVIo/LjztZkKH59fO3G/JemqCfmaCRqbqbd90ZZ8FfjtkfAyD0J/9+C2h1hDwsSxvGjNDc\n",
       "b4zk5NfrSwiQblLHzZhg+Jf4aPlUwpDqkQqa9nimbt1/TDH8OitGMaQnj+RJS6B1fbF7SY1TqO5v\n",
       "/v0WAADl1f7zokgS7s7VT2DZ7pegUjBM7mjtiDZbcN4j0YrHH0rXpCtY0qPX0cVL0rv5jv/ZXend\n",
       "0u/EESYBAFBU4T4Qa5TflZOhTe7pmKpaP8kCVUVw1+yhXfJWvn1P3hnXi33JsTN6PnP3hHZ8Z3/h\n",
       "aLHzmkNPuPj7Bc/F/Q38CwjTpSwQXgE4Vmwry9tpfq/ZFgqFMy4AVDtCvi8rvMvOmv0N4YwbVgEA\n",
       "sPM72/KVnzfspmH7HQGCRLG2yL1+z8XwvPcdCbsAANh+xPzstgMtxeGKt+6MK3/tacfvwhWvIwMi\n",
       "oKEBtm0H7W+UVfkc/Y1V0BhoPlDr/w1w/eu1vjIgAgDg22OtX6/eYfnEz/focrZTHAFR+PSs56/7\n",
       "q32nwpjazxgwAQCwcU/T62t3WL7r6/jVRa6/byp1rei+Z98ZUAEAhEPHPc8fKnTU9nbgtnOe8h0l\n",
       "9hcGIqmODLQAHCy2Xti6v/XNRivf43f4fFvIteu854+VHnR7q9tfBlwAAGz+pnndB9vM26UebAe8\n",
       "SLHujPOTPVW+rwY+sxskAAC2HrA8t2Vvc7ffP1r9o+vwR2dcr92InIAbKKC1FZ5tB1tf+/G8p8sv\n",
       "N/9Q5zd/XR34LYCwV5JdccMEAMDBk45DH243r/X4xGvqxFa/GNpS7n6rwOwNWwHVE26oAADYurf1\n",
       "zx/utOzt+DMKYM0p17YtZZ5VNzqfsB2HewG1WXE8PoZ7gOclbTIvynZf9JV+fqZtfgs/8F/Nu5rB\n",
       "EIBmJ+8QRMmpU7EzGRsf2FzuePqYRbzh/zE26EwdrT10f6r6o8HOYzCJB9Dpff8tbnGLG8L/A/WE\n",
       "roTBs2RqAAAAAElFTkSuQmCC'\n",
       "     style='height:25px; border-radius:12px; display: inline-block; float: left; vertical-align: middle'></img>\n",
       "\n",
       "\n",
       "  <img src='data:image/png;base64,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'\n",
       "       style='height:15px; border-radius:12px; display: inline-block; float: left'></img>\n",
       "  \n",
       "\n",
       "\n",
       "\n",
       "\n",
       "</div>\n"
      ]
     },
     "metadata": {},
     "output_type": "display_data"
    }
   ],
   "source": [
    "import os\n",
    "import numpy as np\n",
    "import pandas as pd\n",
    "import json\n",
    "import seaborn as sns\n",
    "import matplotlib.pyplot as plt\n",
    "import matplotlib as mpl\n",
    "from matplotlib.colors import LogNorm\n",
    "import pickle\n",
    "\n",
    "\n",
    "font = {'family' : 'arial',\n",
    "        'size'   : 16}\n",
    "mpl.rc('font', **font)\n",
    "mpl.rc('lines', linewidth=2)\n",
    "mpl.rcParams['axes.linewidth'] = 2\n",
    "mpl.rcParams['xtick.major.width'] = 2\n",
    "mpl.rcParams['ytick.major.width'] = 2\n",
    "\n",
    "# General imports\n",
    "import glob\n",
    "import os\n",
    "import re\n",
    "import pickle\n",
    "import datetime\n",
    "\n",
    "# Data manipulation\n",
    "#import growth_analysis as ga\n",
    "import pandas as pd\n",
    "#from multiprocesspandas import applyparallel\n",
    "import numpy as np\n",
    "from sklearn.impute import KNNImputer\n",
    "\n",
    "# Basic plotting\n",
    "import holoviews as hv\n",
    "import bokeh\n",
    "from bokeh.io import export_svg\n",
    "from bokeh.models import NumeralTickFormatter\n",
    "\n",
    "from bokeh.themes.theme import Theme\n",
    "\n",
    "import panel as pn\n",
    "pn.config.comms = \"vscode\"\n",
    "\n",
    "# Making graphs\n",
    "import matplotlib.pyplot as plt\n",
    "import itertools\n",
    "import tqdm\n",
    "from multiprocessing import Pool\n",
    "from operator import itemgetter\n",
    "\n",
    "hv.extension('bokeh')"
   ]
  },
  {
   "cell_type": "markdown",
   "metadata": {},
   "source": [
    "### For Francesca\n",
    "\n",
    "-first run execute_mlde.py in the DeCOIL folder, refer to https://github.com/jsunn-y/DeCOIL"
   ]
  },
  {
   "cell_type": "markdown",
   "metadata": {},
   "source": [
    "### Load the optimization results"
   ]
  },
  {
   "cell_type": "code",
   "execution_count": 4,
   "metadata": {},
   "outputs": [
    {
     "data": {
      "text/plain": [
       "array({'top_seqs': array([[[[[['V', 'V', 'V', ..., 'G', 'D', 'G'],\n",
       "           ['F', 'F', 'F', ..., 'F', 'F', 'F'],\n",
       "           ['V', 'L', 'V', ..., 'V', 'V', 'T'],\n",
       "           ...,\n",
       "           ['C', 'V', 'M', ..., 'A', 'K', 'K'],\n",
       "           ['I', 'M', 'Q', ..., 'H', 'E', 'E'],\n",
       "           ['L', 'F', 'C', ..., 'D', 'P', 'K']]]]]], dtype='<U1'), 'maxes': array([[[[[0.54491082, 0.83459085, 0.61524237, 0.53065704, 0.68982662,\n",
       "           0.79677708, 0.83459085, 0.65875997, 1.        , 0.83459085,\n",
       "           1.        , 0.65875997, 0.37169227, 0.66271143, 0.71799903,\n",
       "           0.74292453, 0.53591288, 0.66669781, 0.83459085, 0.72398109,\n",
       "           0.72398109, 0.49830685, 0.51195701, 0.71615739, 0.862211  ,\n",
       "           0.58327363, 0.50206058, 0.86246276, 1.        , 0.66271143,\n",
       "           0.83459085, 0.53957076, 0.78497786, 0.58709344, 0.47889692,\n",
       "           0.70773337, 0.45455496, 1.        , 0.62712818, 0.71615739,\n",
       "           0.57919257, 0.62731024, 0.5572929 , 0.65359153, 0.79677708,\n",
       "           0.76349645, 0.70158888, 0.83459085, 0.61524237, 0.66271143,\n",
       "           0.72398109, 0.57924211, 0.67232935, 0.78497786, 0.83459085,\n",
       "           0.862211  , 0.86246276, 1.        , 0.83459085, 0.74136048,\n",
       "           0.61174099, 0.59681201, 0.65875997, 0.54491082, 0.83459085,\n",
       "           0.62712818, 0.57924211, 0.64269462, 0.78497786, 0.59160402,\n",
       "           0.70773337, 0.78497786, 0.56887085, 0.62712818, 0.61405096,\n",
       "           0.91819031, 0.862211  , 0.83113003, 0.86246276, 0.71615739,\n",
       "           0.83459085, 0.65875997, 0.83459085, 1.        , 0.71799903,\n",
       "           0.62712818, 0.52262669, 0.91819031, 0.65359153, 0.91819031,\n",
       "           0.62950265, 0.91819031, 0.78497786, 0.86246276, 0.64660666,\n",
       "           0.86246276, 0.56181357, 0.862211  , 0.51389506, 0.82500438]]]]]), 'means': array([[[[[0.09117361, 0.06588994, 0.10235434, 0.03179285, 0.12563566,\n",
       "           0.08085454, 0.18927649, 0.08788491, 0.20337358, 0.09051863,\n",
       "           0.08884583, 0.07319235, 0.03003017, 0.10144573, 0.10346635,\n",
       "           0.07664726, 0.04368487, 0.079949  , 0.16496859, 0.0669536 ,\n",
       "           0.16107282, 0.04325853, 0.12509699, 0.08089794, 0.08102571,\n",
       "           0.03518481, 0.03577167, 0.2649259 , 0.13279939, 0.15933321,\n",
       "           0.1467801 , 0.03957739, 0.08709674, 0.13620271, 0.07342187,\n",
       "           0.15261635, 0.03638817, 0.18748753, 0.14070281, 0.07540135,\n",
       "           0.04966754, 0.02456943, 0.04603067, 0.04151564, 0.08593804,\n",
       "           0.10161699, 0.08620575, 0.22434368, 0.09142799, 0.07333374,\n",
       "           0.06092163, 0.0958598 , 0.12408197, 0.07309308, 0.05447388,\n",
       "           0.2675297 , 0.09975375, 0.10550037, 0.15232712, 0.07015592,\n",
       "           0.0599515 , 0.07038353, 0.13100515, 0.09319387, 0.21802864,\n",
       "           0.099246  , 0.08530315, 0.06939134, 0.08524464, 0.08301021,\n",
       "           0.04706602, 0.0989051 , 0.03813023, 0.14360373, 0.08423795,\n",
       "           0.04516148, 0.27872433, 0.09959116, 0.27103107, 0.0496121 ,\n",
       "           0.12681301, 0.09243742, 0.0788233 , 0.2920097 , 0.10351483,\n",
       "           0.13293201, 0.1211839 , 0.04127724, 0.09674568, 0.05054604,\n",
       "           0.14674783, 0.10937401, 0.0855094 , 0.27048603, 0.08157939,\n",
       "           0.06552693, 0.02393559, 0.07253746, 0.03917869, 0.10246557]]]]]), 'ndcgs': array([[[[[0.76099667, 0.77780869, 0.77803894, 0.76839676, 0.77685913,\n",
       "           0.77921136, 0.77825235, 0.75848238, 0.81246781, 0.79816109,\n",
       "           0.79274148, 0.76619889, 0.76735275, 0.78388742, 0.77186023,\n",
       "           0.79405198, 0.77282126, 0.77091192, 0.79002445, 0.77476508,\n",
       "           0.79411695, 0.75971681, 0.77777559, 0.77443895, 0.76753734,\n",
       "           0.75210947, 0.74716084, 0.81672307, 0.78790463, 0.81940455,\n",
       "           0.78492365, 0.75758753, 0.79907625, 0.78901045, 0.76269352,\n",
       "           0.78671604, 0.74982823, 0.79485251, 0.79384905, 0.79322159,\n",
       "           0.76631267, 0.76041769, 0.78202942, 0.76844647, 0.80251054,\n",
       "           0.77877756, 0.7762903 , 0.80545888, 0.77742235, 0.76389257,\n",
       "           0.78883177, 0.78667948, 0.78693536, 0.77797113, 0.76921802,\n",
       "           0.81444406, 0.77104948, 0.77354819, 0.78358132, 0.77815752,\n",
       "           0.77240146, 0.76840549, 0.77909173, 0.78080296, 0.80237912,\n",
       "           0.76426618, 0.76299246, 0.79792538, 0.78319806, 0.78847643,\n",
       "           0.77552609, 0.78298278, 0.77059661, 0.79952798, 0.77364308,\n",
       "           0.78121774, 0.82501791, 0.79593087, 0.81211509, 0.76142748,\n",
       "           0.78665692, 0.77424589, 0.76399846, 0.82588014, 0.77722249,\n",
       "           0.76984353, 0.76777842, 0.76355837, 0.79583806, 0.76982273,\n",
       "           0.78636235, 0.77844022, 0.79386303, 0.80286213, 0.76505734,\n",
       "           0.74788703, 0.76241083, 0.75637185, 0.76284947, 0.78401121]]]]]), 'unique': array([[[[[384., 384., 384., 384., 384., 384., 384., 384., 384., 384.,\n",
       "           384., 384., 384., 384., 384., 384., 384., 384., 384., 384.,\n",
       "           384., 384., 384., 384., 384., 384., 384., 384., 384., 384.,\n",
       "           384., 384., 384., 384., 384., 384., 384., 384., 384., 384.,\n",
       "           384., 384., 384., 384., 384., 384., 384., 384., 384., 384.,\n",
       "           384., 384., 384., 384., 384., 384., 384., 384., 384., 384.,\n",
       "           384., 384., 384., 384., 384., 384., 384., 384., 384., 384.,\n",
       "           384., 384., 384., 384., 384., 384., 384., 384., 384., 384.,\n",
       "           384., 384., 384., 384., 384., 384., 384., 384., 384., 384.,\n",
       "           384., 384., 384., 384., 384., 384., 384., 384., 384., 384.]]]]]), 'labelled': array([[[[[384., 384., 384., 384., 384., 384., 384., 384., 384., 384.,\n",
       "           384., 384., 384., 384., 384., 384., 384., 384., 384., 384.,\n",
       "           384., 384., 384., 384., 384., 384., 384., 384., 384., 384.,\n",
       "           384., 384., 384., 384., 384., 384., 384., 384., 384., 384.,\n",
       "           384., 384., 384., 384., 384., 384., 384., 384., 384., 384.,\n",
       "           384., 384., 384., 384., 384., 384., 384., 384., 384., 384.,\n",
       "           384., 384., 384., 384., 384., 384., 384., 384., 384., 384.,\n",
       "           384., 384., 384., 384., 384., 384., 384., 384., 384., 384.,\n",
       "           384., 384., 384., 384., 384., 384., 384., 384., 384., 384.,\n",
       "           384., 384., 384., 384., 384., 384., 384., 384., 384., 384.]]]]]), 'y_preds': array([[[[[[2.08620727e-02, 2.14897253e-02, 1.99265089e-02, ...,\n",
       "            1.50791050e-03, 7.08085317e-05, 5.46028794e-05],\n",
       "           [7.94506478e-03, 4.42460319e-03, 4.59368597e-03, ...,\n",
       "            2.58608587e-02, 2.52483040e-02, 2.53302237e-02],\n",
       "           [2.27008903e-01, 1.84718411e-02, 1.83611741e-02, ...,\n",
       "            1.72279492e-02, 9.49271017e-03, 9.57834374e-03],\n",
       "           ...,\n",
       "           [4.95464166e-03, 8.93122014e-03, 6.36342689e-03, ...,\n",
       "            9.70084255e-04, 7.82285840e-04, 7.67368334e-04],\n",
       "           [1.29016924e-01, 1.13611743e-01, 1.17166741e-01, ...,\n",
       "            1.27454658e-02, 8.47751216e-04, 6.68392351e-04],\n",
       "           [4.40639867e-02, 1.63506327e-02, 3.25566120e-02, ...,\n",
       "            3.61675308e-03, 1.82169785e-03, 1.84744589e-03]]]]]])},\n",
       "      dtype=object)"
      ]
     },
     "execution_count": 4,
     "metadata": {},
     "output_type": "execute_result"
    }
   ],
   "source": [
    "GB1 = np.load('mlde/results/mlde/results/mlde_results.npy', allow_pickle=True)\n",
    "GB1"
   ]
  },
  {
   "cell_type": "code",
   "execution_count": 5,
   "metadata": {},
   "outputs": [
    {
     "data": {
      "text/plain": [
       "dict_keys(['top_seqs', 'maxes', 'means', 'ndcgs', 'unique', 'labelled', 'y_preds'])"
      ]
     },
     "execution_count": 5,
     "metadata": {},
     "output_type": "execute_result"
    }
   ],
   "source": [
    "GB1.item().keys()"
   ]
  },
  {
   "cell_type": "code",
   "execution_count": 7,
   "metadata": {},
   "outputs": [
    {
     "data": {
      "text/plain": [
       "((1, 1, 1, 1, 100),\n",
       " (1, 1, 1, 1, 100),\n",
       " (1, 1, 1, 1, 100, 384),\n",
       " (1, 1, 1, 1, 100, 149361))"
      ]
     },
     "execution_count": 7,
     "metadata": {},
     "output_type": "execute_result"
    }
   ],
   "source": [
    "GB1.item()[\"maxes\"].shape, GB1.item()[\"means\"].shape, GB1.item()[\"top_seqs\"].shape, GB1.item()[\"y_preds\"].shape"
   ]
  },
  {
   "cell_type": "code",
   "execution_count": 12,
   "metadata": {},
   "outputs": [
    {
     "data": {
      "text/plain": [
       "384"
      ]
     },
     "execution_count": 12,
     "metadata": {},
     "output_type": "execute_result"
    }
   ],
   "source": [
    "len(GB1.item()[\"top_seqs\"][0][0][0][0][0])"
   ]
  },
  {
   "cell_type": "code",
   "execution_count": 14,
   "metadata": {},
   "outputs": [
    {
     "data": {
      "text/plain": [
       "array(['V', 'V', 'V', 'V', 'V', 'V', 'V', 'V', 'V', 'V', 'V', 'V', 'V',\n",
       "       'V', 'V', 'V', 'V', 'V', 'A', 'M', 'A', 'V', 'A', 'A', 'A', 'A',\n",
       "       'A', 'A', 'A', 'A', 'A', 'A', 'A', 'A', 'A', 'A', 'M', 'M', 'M',\n",
       "       'M', 'M', 'M', 'M', 'M', 'M', 'M', 'M', 'M', 'M', 'M', 'M', 'M',\n",
       "       'M', 'M', 'M', 'T', 'F', 'I', 'L', 'T', 'N', 'H', 'S', 'E', 'Y',\n",
       "       'W', 'Q', 'C', 'L', 'R', 'M', 'R', 'M', 'M', 'M', 'M', 'M', 'M',\n",
       "       'M', 'M', 'M', 'M', 'M', 'M', 'M', 'M', 'M', 'M', 'F', 'L', 'S',\n",
       "       'Y', 'W', 'I', 'N', 'T', 'L', 'H', 'Y', 'E', 'S', 'P', 'F', 'W',\n",
       "       'H', 'C', 'W', 'R', 'Q', 'N', 'L', 'F', 'S', 'E', 'Y', 'W', 'F',\n",
       "       'F', 'R', 'I', 'Q', 'K', 'F', 'M', 'L', 'F', 'F', 'F', 'F', 'F',\n",
       "       'F', 'T', 'N', 'F', 'I', 'T', 'H', 'N', 'I', 'F', 'H', 'S', 'Y',\n",
       "       'E', 'L', 'F', 'S', 'L', 'L', 'L', 'L', 'L', 'L', 'W', 'I', 'E',\n",
       "       'Y', 'L', 'Q', 'W', 'Q', 'T', 'C', 'A', 'N', 'T', 'T', 'T', 'T',\n",
       "       'T', 'T', 'N', 'I', 'N', 'N', 'N', 'N', 'N', 'I', 'I', 'I', 'I',\n",
       "       'I', 'T', 'L', 'H', 'C', 'H', 'H', 'H', 'H', 'H', 'L', 'S', 'N',\n",
       "       'H', 'I', 'Q', 'E', 'Y', 'H', 'C', 'S', 'S', 'S', 'S', 'S', 'S',\n",
       "       'E', 'Y', 'W', 'Y', 'E', 'Y', 'E', 'Y', 'Y', 'Y', 'E', 'E', 'E',\n",
       "       'L', 'S', 'F', 'Q', 'I', 'Q', 'Q', 'Q', 'Q', 'Q', 'N', 'T', 'E',\n",
       "       'Y', 'T', 'W', 'W', 'W', 'W', 'W', 'W', 'N', 'Q', 'F', 'I', 'N',\n",
       "       'T', 'W', 'H', 'H', 'E', 'I', 'S', 'S', 'Q', 'H', 'C', 'Y', 'E',\n",
       "       'C', 'Y', 'Q', 'L', 'S', 'C', 'C', 'C', 'C', 'C', 'Q', 'W', 'Y',\n",
       "       'E', 'W', 'C', 'W', 'R', 'T', 'H', 'N', 'I', 'R', 'C', 'C', 'C',\n",
       "       'S', 'E', 'Y', 'Q', 'R', 'W', 'H', 'R', 'R', 'R', 'R', 'R', 'R',\n",
       "       'R', 'L', 'T', 'C', 'I', 'N', 'S', 'R', 'R', 'R', 'E', 'Y', 'Q',\n",
       "       'R', 'P', 'R', 'P', 'C', 'I', 'R', 'K', 'P', 'P', 'K', 'P', 'P',\n",
       "       'P', 'P', 'P', 'P', 'P', 'P', 'P', 'P', 'P', 'M', 'M', 'K', 'D',\n",
       "       'K', 'K', 'K', 'K', 'K', 'K', 'K', 'K', 'K', 'K', 'K', 'P', 'K',\n",
       "       'K', 'P', 'G', 'K', 'M', 'D', 'G', 'D', 'G', 'I', 'D', 'D', 'D',\n",
       "       'D', 'D', 'D', 'D', 'D', 'D', 'D', 'G', 'D', 'D', 'D', 'G', 'G',\n",
       "       'G', 'G', 'G', 'G', 'G', 'D', 'G'], dtype='<U1')"
      ]
     },
     "execution_count": 14,
     "metadata": {},
     "output_type": "execute_result"
    }
   ],
   "source": [
    "GB1.item()[\"top_seqs\"][0][0][0][0][0]"
   ]
  },
  {
   "cell_type": "code",
   "execution_count": 16,
   "metadata": {},
   "outputs": [
    {
     "data": {
      "text/plain": [
       "(149361,)"
      ]
     },
     "execution_count": 16,
     "metadata": {},
     "output_type": "execute_result"
    }
   ],
   "source": [
    "GB1.item()[\"y_preds\"][0][0][0][0][0].shape"
   ]
  },
  {
   "cell_type": "code",
   "execution_count": 17,
   "metadata": {},
   "outputs": [
    {
     "data": {
      "text/plain": [
       "array([2.08620727e-02, 2.14897253e-02, 1.99265089e-02, ...,\n",
       "       1.50791050e-03, 7.08085317e-05, 5.46028794e-05])"
      ]
     },
     "execution_count": 17,
     "metadata": {},
     "output_type": "execute_result"
    }
   ],
   "source": [
    "GB1.item()[\"y_preds\"][0][0][0][0][0]"
   ]
  },
  {
   "cell_type": "code",
   "execution_count": 13,
   "metadata": {},
   "outputs": [
    {
     "data": {
      "text/plain": [
       "((1, 1, 1, 3, 100),\n",
       " (1, 1, 1, 3, 100),\n",
       " (1, 1, 1, 3, 100, 384),\n",
       " (1, 1, 1, 3, 100, 149361))"
      ]
     },
     "execution_count": 13,
     "metadata": {},
     "output_type": "execute_result"
    }
   ],
   "source": [
    "GB1_tri = np.load(\"mlde/results/mlde/results/Triad_score/mlde_results.npy\", allow_pickle=True)\n",
    "GB1_tri.item()[\"maxes\"].shape, GB1_tri.item()[\"means\"].shape, GB1_tri.item()[\"top_seqs\"].shape, GB1_tri.item()[\"y_preds\"].shape"
   ]
  },
  {
   "cell_type": "code",
   "execution_count": null,
   "metadata": {},
   "outputs": [],
   "source": []
  },
  {
   "cell_type": "code",
   "execution_count": 42,
   "metadata": {},
   "outputs": [
    {
     "name": "stdout",
     "output_type": "stream",
     "text": [
      "[[[[[0.79677708 0.61405096 0.52687597 0.74184587 0.47551514 0.64269462\n",
      "     0.57841398 0.51099081 0.83113003 0.58468356 0.86246276 0.51195701\n",
      "     0.59731877 0.65875997 0.74136048 0.67232935 0.71615739 0.83459085\n",
      "     0.54805528 0.45455496 0.68189251 0.83459085 0.72398109 0.57924211\n",
      "     0.72398109 0.62404087 0.59835001 0.72398109 0.86246276 0.862211\n",
      "     0.32141124 0.62404087 0.70158888 0.83113003 0.862211   0.59042949\n",
      "     0.53068257 0.49672123 0.57924211 0.76349645 0.78497786 0.68791511\n",
      "     0.74184587 0.61405096 0.64660666 0.70158888 0.73527678 0.6260269\n",
      "     0.862211   0.72398109 0.862211   0.51395762 0.82500438 0.63813307\n",
      "     0.73527678 0.66984814 0.32036549 0.68958016 0.83113003 0.63813307\n",
      "     0.55680238 0.68958016 0.55288283 0.66271143 0.74292453 0.72398109\n",
      "     0.79677708 0.82500438 0.37962253 0.59835001]\n",
      "    [0.82500438 0.62712818 0.82500438 0.5572929  0.68958016 0.6856483\n",
      "     1.         0.70773337 0.79677708 1.         0.56966864 0.64660666\n",
      "     0.862211   0.86246276 0.67232935 0.68958016 1.         0.91819031\n",
      "     0.68791511 0.73527678 0.83459085 0.862211   0.82500438 0.79677708\n",
      "     0.70773337 1.         0.66271143 0.82500438 0.82500438 0.79071951\n",
      "     0.862211   0.862211   0.82500438 1.         0.83459085 0.66271143\n",
      "     1.         0.91819031 0.91819031 0.86246276 0.79677708 0.86246276\n",
      "     0.862211   1.         0.59042949 0.86246276 0.862211   0.82500438\n",
      "     0.59835001 0.83113003 0.74136048 0.86246276 1.         0.59042949\n",
      "     0.64126117 1.         0.83113003 0.6856483  0.86246276 0.862211\n",
      "     0.862211   0.79677708 0.62404087 0.55706455 1.         0.70773337\n",
      "     0.68958016 0.82500438 0.65875997 0.862211  ]\n",
      "    [1.         0.59681201 0.82500438 0.82500438 0.68958016 0.91819031\n",
      "     0.50206058 0.62712818 0.83459085 0.86246276 0.67232935 0.86246276\n",
      "     0.86246276 0.70773337 0.74184587 0.86246276 0.91819031 0.6856483\n",
      "     0.68189251 0.70773337 0.862211   0.74184587 0.57992056 0.86246276\n",
      "     0.67232935 0.58468356 1.         1.         0.86246276 0.86246276\n",
      "     0.74184587 0.74184587 0.79071951 1.         0.83459085 1.\n",
      "     0.70773337 0.68958016 0.86246276 0.79071951 0.86246276 0.68958016\n",
      "     0.64269462 0.862211   0.83113003 0.82500438 0.79677708 1.\n",
      "     0.62712818 0.862211   0.91819031 0.86246276 0.86246276 0.72398109\n",
      "     0.82500438 0.61263608 0.68958016 0.64660666 0.82500438 0.862211\n",
      "     0.86246276 0.91819031 0.82500438 1.         0.62155463 1.\n",
      "     1.         0.57992056 0.86246276 1.        ]\n",
      "    [0.91819031 0.86246276 1.         0.862211   0.82500438 0.69890765\n",
      "     0.69890765 0.91819031 0.86246276 0.91819031 0.862211   0.862211\n",
      "     0.86246276 0.82500438 0.68958016 0.91819031 0.862211   0.91819031\n",
      "     1.         0.862211   1.         0.78497786 1.         1.\n",
      "     0.82500438 1.         0.79071951 1.         0.66984814 1.\n",
      "     0.82500438 0.79071951 0.862211   0.82500438 0.74184587 0.91819031\n",
      "     0.86246276 0.67232935 1.         0.862211   0.91819031 0.82500438\n",
      "     0.70773337 0.68958016 0.83459085 1.         0.862211   0.62712818\n",
      "     1.         0.91819031 1.         0.82500438 0.862211   0.83113003\n",
      "     1.         1.         0.65875997 1.         1.         0.83113003\n",
      "     0.91819031 1.         0.862211   1.         0.66984814 1.\n",
      "     0.862211   1.         0.91819031 0.91819031]\n",
      "    [0.74136048 1.         0.68958016 1.         1.         0.91819031\n",
      "     0.862211   0.68791511 1.         1.         1.         0.79071951\n",
      "     0.91819031 1.         0.91819031 0.68982662 0.91819031 1.\n",
      "     1.         0.79071951 1.         0.91819031 0.79071951 1.\n",
      "     0.82500438 0.68958016 1.         0.91819031 0.862211   0.70773337\n",
      "     0.67232935 0.91819031 1.         0.70773337 0.82500438 0.83113003\n",
      "     0.79071951 0.91819031 1.         0.862211   0.79071951 0.68958016\n",
      "     0.91819031 1.         0.862211   1.         1.         0.91819031\n",
      "     0.91819031 0.79071951 0.66984814 0.91819031 0.61524237 1.\n",
      "     0.91819031 1.         1.         1.         0.65875997 1.\n",
      "     0.68958016 0.862211   1.         0.82500438 1.         0.91819031\n",
      "     1.         1.         0.862211   0.70773337]]]]]\n",
      "(1, 1, 1, 5, 70)\n"
     ]
    }
   ],
   "source": [
    "results_dict = {\"GB1\": GB1}\n",
    "\n",
    "maxes = {}\n",
    "means = {}\n",
    "ndcgs = {}\n",
    "top_seqs = {}\n",
    "labelled = {}\n",
    "unique = {}\n",
    "\n",
    "maxes2 = {}\n",
    "means2 = {}\n",
    "ndcgs2 = {}\n",
    "unique2 = {}\n",
    "\n",
    "for r_key in results_dict:\n",
    "    print(results_dict[r_key].item()['maxes'])\n",
    "    print(results_dict[r_key].item()['maxes'].shape)\n",
    "    maxes[r_key] = results_dict[r_key].item()['maxes']\n",
    "    means[r_key] = results_dict[r_key].item()['means']\n",
    "    ndcgs[r_key] = results_dict[r_key].item()['ndcgs']\n",
    "    top_seqs[r_key] = results_dict[r_key].item()['top_seqs']\n",
    "    labelled[r_key] = results_dict[r_key].item()['labelled']\n",
    "    unique[r_key] = results_dict[r_key].item()['unique']\n",
    "\n",
    "    maxes2[r_key] = maxes[r_key].flatten()\n",
    "    means2[r_key] = means[r_key].flatten()\n",
    "    ndcgs2[r_key] = ndcgs[r_key].flatten()\n",
    "    unique2[r_key] = unique[r_key].flatten()"
   ]
  },
  {
   "cell_type": "code",
   "execution_count": null,
   "metadata": {},
   "outputs": [],
   "source": [
    "# model"
   ]
  },
  {
   "cell_type": "code",
   "execution_count": 43,
   "metadata": {},
   "outputs": [
    {
     "data": {},
     "metadata": {},
     "output_type": "display_data"
    },
    {
     "data": {
      "application/vnd.holoviews_exec.v0+json": "",
      "text/html": [
       "<div id='p1078'>\n",
       "  <div id=\"a64520a2-68a5-4995-8735-2a9fb8840524\" data-root-id=\"p1078\" style=\"display: contents;\"></div>\n",
       "</div>\n",
       "<script type=\"application/javascript\">(function(root) {\n",
       "  var docs_json = {\"04c58ead-0736-4355-8acd-5493fa2e05b0\":{\"version\":\"3.3.4\",\"title\":\"Bokeh Application\",\"roots\":[{\"type\":\"object\",\"name\":\"Row\",\"id\":\"p1078\",\"attributes\":{\"name\":\"Row00952\",\"tags\":[\"embedded\"],\"stylesheets\":[\"\\n:host(.pn-loading.pn-arc):before, .pn-loading.pn-arc:before {\\n  background-image: url(\\\"data:image/svg+xml;base64,PHN2ZyB4bWxucz0iaHR0cDovL3d3dy53My5vcmcvMjAwMC9zdmciIHN0eWxlPSJtYXJnaW46IGF1dG87IGJhY2tncm91bmQ6IG5vbmU7IGRpc3BsYXk6IGJsb2NrOyBzaGFwZS1yZW5kZXJpbmc6IGF1dG87IiB2aWV3Qm94PSIwIDAgMTAwIDEwMCIgcHJlc2VydmVBc3BlY3RSYXRpbz0ieE1pZFlNaWQiPiAgPGNpcmNsZSBjeD0iNTAiIGN5PSI1MCIgZmlsbD0ibm9uZSIgc3Ryb2tlPSIjYzNjM2MzIiBzdHJva2Utd2lkdGg9IjEwIiByPSIzNSIgc3Ryb2tlLWRhc2hhcnJheT0iMTY0LjkzMzYxNDMxMzQ2NDE1IDU2Ljk3Nzg3MTQzNzgyMTM4Ij4gICAgPGFuaW1hdGVUcmFuc2Zvcm0gYXR0cmlidXRlTmFtZT0idHJhbnNmb3JtIiB0eXBlPSJyb3RhdGUiIHJlcGVhdENvdW50PSJpbmRlZmluaXRlIiBkdXI9IjFzIiB2YWx1ZXM9IjAgNTAgNTA7MzYwIDUwIDUwIiBrZXlUaW1lcz0iMDsxIj48L2FuaW1hdGVUcmFuc2Zvcm0+ICA8L2NpcmNsZT48L3N2Zz4=\\\");\\n  background-size: auto calc(min(50%, 400px));\\n}\",{\"type\":\"object\",\"name\":\"ImportedStyleSheet\",\"id\":\"p1081\",\"attributes\":{\"url\":\"https://cdn.holoviz.org/panel/1.3.8/dist/css/loading.css\"}},{\"type\":\"object\",\"name\":\"ImportedStyleSheet\",\"id\":\"p1190\",\"attributes\":{\"url\":\"https://cdn.holoviz.org/panel/1.3.8/dist/css/listpanel.css\"}},{\"type\":\"object\",\"name\":\"ImportedStyleSheet\",\"id\":\"p1079\",\"attributes\":{\"url\":\"https://cdn.holoviz.org/panel/1.3.8/dist/bundled/theme/default.css\"}},{\"type\":\"object\",\"name\":\"ImportedStyleSheet\",\"id\":\"p1080\",\"attributes\":{\"url\":\"https://cdn.holoviz.org/panel/1.3.8/dist/bundled/theme/native.css\"}}],\"margin\":0,\"sizing_mode\":\"stretch_width\",\"align\":\"start\",\"children\":[{\"type\":\"object\",\"name\":\"Spacer\",\"id\":\"p1082\",\"attributes\":{\"name\":\"HSpacer00959\",\"stylesheets\":[\"\\n:host(.pn-loading.pn-arc):before, .pn-loading.pn-arc:before {\\n  background-image: url(\\\"data:image/svg+xml;base64,PHN2ZyB4bWxucz0iaHR0cDovL3d3dy53My5vcmcvMjAwMC9zdmciIHN0eWxlPSJtYXJnaW46IGF1dG87IGJhY2tncm91bmQ6IG5vbmU7IGRpc3BsYXk6IGJsb2NrOyBzaGFwZS1yZW5kZXJpbmc6IGF1dG87IiB2aWV3Qm94PSIwIDAgMTAwIDEwMCIgcHJlc2VydmVBc3BlY3RSYXRpbz0ieE1pZFlNaWQiPiAgPGNpcmNsZSBjeD0iNTAiIGN5PSI1MCIgZmlsbD0ibm9uZSIgc3Ryb2tlPSIjYzNjM2MzIiBzdHJva2Utd2lkdGg9IjEwIiByPSIzNSIgc3Ryb2tlLWRhc2hhcnJheT0iMTY0LjkzMzYxNDMxMzQ2NDE1IDU2Ljk3Nzg3MTQzNzgyMTM4Ij4gICAgPGFuaW1hdGVUcmFuc2Zvcm0gYXR0cmlidXRlTmFtZT0idHJhbnNmb3JtIiB0eXBlPSJyb3RhdGUiIHJlcGVhdENvdW50PSJpbmRlZmluaXRlIiBkdXI9IjFzIiB2YWx1ZXM9IjAgNTAgNTA7MzYwIDUwIDUwIiBrZXlUaW1lcz0iMDsxIj48L2FuaW1hdGVUcmFuc2Zvcm0+ICA8L2NpcmNsZT48L3N2Zz4=\\\");\\n  background-size: auto calc(min(50%, 400px));\\n}\",{\"id\":\"p1081\"},{\"id\":\"p1079\"},{\"id\":\"p1080\"}],\"margin\":0,\"sizing_mode\":\"stretch_width\",\"align\":\"start\"}},{\"type\":\"object\",\"name\":\"Figure\",\"id\":\"p1089\",\"attributes\":{\"width\":null,\"height\":null,\"margin\":[5,10],\"sizing_mode\":\"fixed\",\"align\":\"start\",\"x_range\":{\"type\":\"object\",\"name\":\"FactorRange\",\"id\":\"p1083\",\"attributes\":{\"tags\":[[[\"Landscape\",\"Landscape\",null]],[]],\"factors\":[\"GB1\"]}},\"y_range\":{\"type\":\"object\",\"name\":\"Range1d\",\"id\":\"p1084\",\"attributes\":{\"tags\":[[[\"max_fitness\",\"max_fitness\",null]],{\"type\":\"map\",\"entries\":[[\"invert_yaxis\",false],[\"autorange\",false]]}],\"reset_start\":0,\"reset_end\":1}},\"x_scale\":{\"type\":\"object\",\"name\":\"CategoricalScale\",\"id\":\"p1099\"},\"y_scale\":{\"type\":\"object\",\"name\":\"LinearScale\",\"id\":\"p1100\"},\"title\":{\"type\":\"object\",\"name\":\"Title\",\"id\":\"p1092\",\"attributes\":{\"text_color\":\"black\",\"text_font_size\":\"15.6pt\"}},\"outline_line_color\":\"black\",\"renderers\":[{\"type\":\"object\",\"name\":\"GlyphRenderer\",\"id\":\"p1132\",\"attributes\":{\"data_source\":{\"type\":\"object\",\"name\":\"ColumnDataSource\",\"id\":\"p1121\",\"attributes\":{\"selected\":{\"type\":\"object\",\"name\":\"Selection\",\"id\":\"p1122\",\"attributes\":{\"indices\":[],\"line_indices\":[]}},\"selection_policy\":{\"type\":\"object\",\"name\":\"UnionRenderers\",\"id\":\"p1123\"},\"data\":{\"type\":\"map\",\"entries\":[[\"ys\",[{\"type\":\"ndarray\",\"array\":{\"type\":\"bytes\",\"data\":\"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\"},\"shape\":[200],\"dtype\":\"float64\",\"order\":\"little\"}]],[\"xs\",[[[\"GB1\",-0.008535223001010787],[\"GB1\",-0.00880447737470823],[\"GB1\",-0.00894470269516384],[\"GB1\",-0.008964846434879218],[\"GB1\",-0.008882674647773241],[\"GB1\",-0.008723542808781735],[\"GB1\",-0.0085188819698912],[\"GB1\",-0.008304646406419227],[\"GB1\",-0.008119892149329578],[\"GB1\",-0.00800555186362908],[\"GB1\",-0.008003373984430129],[\"GB1\",-0.008154931216836392],[\"GB1\",-0.008500590722367102],[\"GB1\",-0.00907837472975114],[\"GB1\",-0.0099227112530754],[\"GB1\",-0.011063157596285636],[\"GB1\",-0.012523251241551531],[\"GB1\",-0.014319685461515897],[\"GB1\",-0.016462010182687854],[\"GB1\",-0.01895301937805277],[\"GB1\",-0.02178990745346291],[\"GB1\",-0.024966165883713587],[\"GB1\",-0.028474059232871815],[\"GB1\",-0.032307383784743286],[\"GB1\",-0.03646409621269425],[\"GB1\",-0.0409483335163813],[\"GB1\",-0.0457713588509415],[\"GB1\",-0.050951082573311435],[\"GB1\",-0.05651002684803378],[\"GB1\",-0.06247190168737439],[\"GB1\",-0.06885728787336978],[\"GB1\",-0.07567920371122291],[\"GB1\",-0.08293948796889797],[\"GB1\",-0.09062689577406097],[\"GB1\",-0.09871754856137216],[\"GB1\",-0.10717792404405664],[\"GB1\",-0.11596999053206043],[\"GB1\",-0.1250574962213198],[\"GB1\",-0.1344119524706606],[\"GB1\",-0.14401662603765328],[\"GB1\",-0.15386696716933385],[\"GB1\",-0.16396637719904986],[\"GB1\",-0.17431701811892483],[\"GB1\",-0.18490637381712716],[\"GB1\",-0.1956913177533347],[\"GB1\",-0.206582323459679],[\"GB1\",-0.21743097551481033],[\"GB1\",-0.2280239467055869],[\"GB1\",-0.23808603014009863],[\"GB1\",-0.24729368811544555],[\"GB1\",-0.25529905072084974],[\"GB1\",-0.2617626091597683],[\"GB1\",-0.266391295763182],[\"GB1\",-0.26897751048996277],[\"GB1\",-0.2694341575208868],[\"GB1\",-0.2678209914992264],[\"GB1\",-0.2643584978423334],[\"GB1\",-0.25942697638966056],[\"GB1\",-0.2535502110705944],[\"GB1\",-0.24736481620849715],[\"GB1\",-0.2415778145343638],[\"GB1\",-0.2369160631700294],[\"GB1\",-0.23407173699083572],[\"GB1\",-0.23364822581854422],[\"GB1\",-0.2361105852067226],[\"GB1\",-0.24174420925499068],[\"GB1\",-0.2506247719046224],[\"GB1\",-0.2626017855448159],[\"GB1\",-0.2772973854653868],[\"GB1\",-0.29412115543469464],[\"GB1\",-0.3123009214362744],[\"GB1\",-0.330928408202005],[\"GB1\",-0.3490174556278367],[\"GB1\",-0.3655711749607066],[\"GB1\",-0.3796531276788846],[\"GB1\",-0.3904565683781927],[\"GB1\",-0.3973652984787344],[\"GB1\",-0.4],[\"GB1\",-0.3982452044470247],[\"GB1\",-0.3922542330056966],[\"GB1\",-0.3824321976139255],[\"GB1\",-0.369399940167145],[\"GB1\",-0.35394398367804447],[\"GB1\",-0.33695864727899405],[\"GB1\",-0.3193861932644638],[\"GB1\",-0.30215938607520765],[\"GB1\",-0.28614869895054024],[\"GB1\",-0.272114394066454],[\"GB1\",-0.26066260218503134],[\"GB1\",-0.25220481906309367],[\"GB1\",-0.24692189833540348],[\"GB1\",-0.24473608615533027],[\"GB1\",-0.24529693870488437],[\"GB1\",-0.24798801430904624],[\"GB1\",-0.2519602272835711],[\"GB1\",-0.2561944579189858],[\"GB1\",-0.2595909210648769],[\"GB1\",-0.2610770335419058],[\"GB1\",-0.2597205631628842],[\"GB1\",-0.2548320906799906],[\"GB1\",0.2548320906799906],[\"GB1\",0.2597205631628842],[\"GB1\",0.2610770335419058],[\"GB1\",0.2595909210648769],[\"GB1\",0.2561944579189858],[\"GB1\",0.2519602272835711],[\"GB1\",0.24798801430904624],[\"GB1\",0.24529693870488437],[\"GB1\",0.24473608615533027],[\"GB1\",0.24692189833540348],[\"GB1\",0.25220481906309367],[\"GB1\",0.26066260218503134],[\"GB1\",0.272114394066454],[\"GB1\",0.28614869895054024],[\"GB1\",0.30215938607520765],[\"GB1\",0.3193861932644638],[\"GB1\",0.33695864727899405],[\"GB1\",0.35394398367804447],[\"GB1\",0.369399940167145],[\"GB1\",0.3824321976139255],[\"GB1\",0.3922542330056966],[\"GB1\",0.3982452044470247],[\"GB1\",0.4],[\"GB1\",0.3973652984787344],[\"GB1\",0.3904565683781927],[\"GB1\",0.3796531276788846],[\"GB1\",0.3655711749607066],[\"GB1\",0.3490174556278367],[\"GB1\",0.330928408202005],[\"GB1\",0.3123009214362744],[\"GB1\",0.29412115543469464],[\"GB1\",0.2772973854653868],[\"GB1\",0.2626017855448159],[\"GB1\",0.2506247719046224],[\"GB1\",0.24174420925499068],[\"GB1\",0.2361105852067226],[\"GB1\",0.23364822581854422],[\"GB1\",0.23407173699083572],[\"GB1\",0.2369160631700294],[\"GB1\",0.2415778145343638],[\"GB1\",0.24736481620849715],[\"GB1\",0.2535502110705944],[\"GB1\",0.25942697638966056],[\"GB1\",0.2643584978423334],[\"GB1\",0.2678209914992264],[\"GB1\",0.2694341575208868],[\"GB1\",0.26897751048996277],[\"GB1\",0.266391295763182],[\"GB1\",0.2617626091597683],[\"GB1\",0.25529905072084974],[\"GB1\",0.24729368811544555],[\"GB1\",0.23808603014009863],[\"GB1\",0.2280239467055869],[\"GB1\",0.21743097551481033],[\"GB1\",0.206582323459679],[\"GB1\",0.1956913177533347],[\"GB1\",0.18490637381712716],[\"GB1\",0.17431701811892483],[\"GB1\",0.16396637719904986],[\"GB1\",0.15386696716933385],[\"GB1\",0.14401662603765328],[\"GB1\",0.1344119524706606],[\"GB1\",0.1250574962213198],[\"GB1\",0.11596999053206043],[\"GB1\",0.10717792404405664],[\"GB1\",0.09871754856137216],[\"GB1\",0.09062689577406097],[\"GB1\",0.08293948796889797],[\"GB1\",0.07567920371122291],[\"GB1\",0.06885728787336978],[\"GB1\",0.06247190168737439],[\"GB1\",0.05651002684803378],[\"GB1\",0.050951082573311435],[\"GB1\",0.0457713588509415],[\"GB1\",0.0409483335163813],[\"GB1\",0.03646409621269425],[\"GB1\",0.032307383784743286],[\"GB1\",0.028474059232871815],[\"GB1\",0.024966165883713587],[\"GB1\",0.02178990745346291],[\"GB1\",0.01895301937805277],[\"GB1\",0.016462010182687854],[\"GB1\",0.014319685461515897],[\"GB1\",0.012523251241551531],[\"GB1\",0.011063157596285636],[\"GB1\",0.0099227112530754],[\"GB1\",0.00907837472975114],[\"GB1\",0.008500590722367102],[\"GB1\",0.008154931216836392],[\"GB1\",0.008003373984430129],[\"GB1\",0.00800555186362908],[\"GB1\",0.008119892149329578],[\"GB1\",0.008304646406419227],[\"GB1\",0.0085188819698912],[\"GB1\",0.008723542808781735],[\"GB1\",0.008882674647773241],[\"GB1\",0.008964846434879218],[\"GB1\",0.00894470269516384],[\"GB1\",0.00880447737470823],[\"GB1\",0.008535223001010787]]]],[\"violin_color\",[\"GB1\"]]]}}},\"view\":{\"type\":\"object\",\"name\":\"CDSView\",\"id\":\"p1133\",\"attributes\":{\"filter\":{\"type\":\"object\",\"name\":\"AllIndices\",\"id\":\"p1134\"}}},\"glyph\":{\"type\":\"object\",\"name\":\"Patches\",\"id\":\"p1127\",\"attributes\":{\"xs\":{\"type\":\"field\",\"field\":\"xs\"},\"ys\":{\"type\":\"field\",\"field\":\"ys\"},\"line_color\":{\"type\":\"field\",\"field\":\"violin_color\",\"transform\":{\"type\":\"object\",\"name\":\"CategoricalColorMapper\",\"id\":\"p1120\",\"attributes\":{\"palette\":[\"#1f77b4\"],\"factors\":[\"GB1\"]}}},\"line_width\":{\"type\":\"value\",\"value\":0},\"fill_color\":{\"type\":\"field\",\"field\":\"violin_color\",\"transform\":{\"id\":\"p1120\"}},\"fill_alpha\":{\"type\":\"value\",\"value\":0.5},\"hatch_color\":{\"type\":\"field\",\"field\":\"violin_color\",\"transform\":{\"id\":\"p1120\"}}}},\"selection_glyph\":{\"type\":\"object\",\"name\":\"Patches\",\"id\":\"p1129\",\"attributes\":{\"xs\":{\"type\":\"field\",\"field\":\"xs\"},\"ys\":{\"type\":\"field\",\"field\":\"ys\"},\"line_color\":{\"type\":\"field\",\"field\":\"violin_color\",\"transform\":{\"id\":\"p1120\"}},\"line_width\":{\"type\":\"value\",\"value\":0},\"fill_color\":{\"type\":\"field\",\"field\":\"violin_color\",\"transform\":{\"id\":\"p1120\"}},\"fill_alpha\":{\"type\":\"value\",\"value\":0.5},\"hatch_color\":{\"type\":\"field\",\"field\":\"violin_color\",\"transform\":{\"id\":\"p1120\"}}}},\"nonselection_glyph\":{\"type\":\"object\",\"name\":\"Patches\",\"id\":\"p1128\",\"attributes\":{\"xs\":{\"type\":\"field\",\"field\":\"xs\"},\"ys\":{\"type\":\"field\",\"field\":\"ys\"},\"line_color\":{\"type\":\"field\",\"field\":\"violin_color\",\"transform\":{\"id\":\"p1120\"}},\"line_alpha\":{\"type\":\"value\",\"value\":0.1},\"line_width\":{\"type\":\"value\",\"value\":0},\"fill_color\":{\"type\":\"field\",\"field\":\"violin_color\",\"transform\":{\"id\":\"p1120\"}},\"fill_alpha\":{\"type\":\"value\",\"value\":0.5},\"hatch_color\":{\"type\":\"field\",\"field\":\"violin_color\",\"transform\":{\"id\":\"p1120\"}},\"hatch_alpha\":{\"type\":\"value\",\"value\":0.1}}},\"hover_glyph\":{\"type\":\"object\",\"name\":\"Patches\",\"id\":\"p1130\",\"attributes\":{\"xs\":{\"type\":\"field\",\"field\":\"xs\"},\"ys\":{\"type\":\"field\",\"field\":\"ys\"},\"line_color\":{\"type\":\"field\",\"field\":\"violin_color\",\"transform\":{\"id\":\"p1120\"}},\"line_width\":{\"type\":\"value\",\"value\":0},\"fill_color\":{\"type\":\"field\",\"field\":\"violin_color\",\"transform\":{\"id\":\"p1120\"}},\"fill_alpha\":{\"type\":\"value\",\"value\":0.5},\"hatch_color\":{\"type\":\"field\",\"field\":\"violin_color\",\"transform\":{\"id\":\"p1120\"}}}},\"muted_glyph\":{\"type\":\"object\",\"name\":\"Patches\",\"id\":\"p1131\",\"attributes\":{\"xs\":{\"type\":\"field\",\"field\":\"xs\"},\"ys\":{\"type\":\"field\",\"field\":\"ys\"},\"line_color\":{\"type\":\"field\",\"field\":\"violin_color\",\"transform\":{\"id\":\"p1120\"}},\"line_alpha\":{\"type\":\"value\",\"value\":0.2},\"line_width\":{\"type\":\"value\",\"value\":0},\"fill_color\":{\"type\":\"field\",\"field\":\"violin_color\",\"transform\":{\"id\":\"p1120\"}},\"fill_alpha\":{\"type\":\"value\",\"value\":0.5},\"hatch_color\":{\"type\":\"field\",\"field\":\"violin_color\",\"transform\":{\"id\":\"p1120\"}},\"hatch_alpha\":{\"type\":\"value\",\"value\":0.2}}}}},{\"type\":\"object\",\"name\":\"GlyphRenderer\",\"id\":\"p1144\",\"attributes\":{\"data_source\":{\"type\":\"object\",\"name\":\"ColumnDataSource\",\"id\":\"p1135\",\"attributes\":{\"selected\":{\"type\":\"object\",\"name\":\"Selection\",\"id\":\"p1136\",\"attributes\":{\"indices\":[],\"line_indices\":[]}},\"selection_policy\":{\"type\":\"object\",\"name\":\"UnionRenderers\",\"id\":\"p1137\"},\"data\":{\"type\":\"map\",\"entries\":[[\"ys\",[{\"type\":\"ndarray\",\"array\":{\"type\":\"bytes\",\"data\":\"TQMvRN6A1D8r8XYkWPHUPwjfvgTSYdU/5swG5UvS1T/Duk7FxULWP6GolqU/s9Y/f5behbkj1z9chCZmM5TXPzpybkatBNg/GGC2Jid12D/1Tf4GoeXYP9M7RucaVtk/sCmOx5TG2T+OF9anDjfaP2wFHoiIp9o/SfNlaAIY2z8n4a1IfIjbPwTP9Sj2+Ns/4rw9CXBp3D/AqoXp6dncP52YzcljSt0/e4YVqt263T9YdF2KVyvePzZipWrRm94/FFDtSksM3z/xPTUrxXzfP88rfQs/7d8/1oziddwu4D/FgwZmGWfgP7R6KlZWn+A/o3FORpPX4D+SaHI20A/hP4BfliYNSOE/b1a6FkqA4T9eTd4Gh7jhP01EAvfD8OE/PDsm5wAp4j8qMkrXPWHiPxkpbsd6meI/CCCSt7fR4j/2Fran9AnjP+YN2pcxQuM/1AT+h2564z/D+yF4q7LjP7LyRWjo6uM/oOlpWCUj5D+Q4I1IYlvkP37XsTifk+Q/bc7VKNzL5D9cxfkYGQTlP0q8HQlWPOU/OrNB+ZJ05T8oqmXpz6zlPxehidkM5eU/BpityUkd5j/1jtG5hlXmP+SF9anDjeY/0nwZmgDG5j/Bcz2KPf7mP7BqYXp6Nuc/n2GFardu5z+OWKla9KbnP3xPzUox3+c/a0bxOm4X6D9aPRUrq0/oP0k0ORvoh+g/OCtdCyXA6D8mIoH7YfjoPxUZpeueMOk/BBDJ29to6T/zBu3LGKHpP+L9ELxV2ek/0PQ0rJIR6j/A61icz0nqP67ifIwMguo/nNmgfEm66j+M0MRshvLqP3rH6FzDKus/ar4MTQBj6z9YtTA9PZvrP0asVC160+s/NqN4HbcL7D8kmpwN9EPsPxSRwP0wfOw/Aojk7W207D/wfgjequzsP+B1LM7nJO0/zmxQviRd7T++Y3SuYZXtP6xamJ6eze0/mlG8jtsF7j+KSOB+GD7uP3g/BG9Vdu4/aDYoX5Ku7j9WLUxPz+buP0QkcD8MH+8/NBuUL0lX7z8iErgfho/vPxIJ3A/Dx+8/AAAAAAAA8D8AAAAAAADwPxIJ3A/Dx+8/IhK4H4aP7z80G5QvSVfvP0QkcD8MH+8/Vi1MT8/m7j9oNihfkq7uP3g/BG9Vdu4/ikjgfhg+7j+aUbyO2wXuP6xamJ6eze0/vmN0rmGV7T/ObFC+JF3tP+B1LM7nJO0/8H4I3qrs7D8CiOTtbbTsPxSRwP0wfOw/JJqcDfRD7D82o3gdtwvsP0asVC160+s/WLUwPT2b6z9qvgxNAGPrP3rH6FzDKus/jNDEbIby6j+c2aB8SbrqP67ifIwMguo/wOtYnM9J6j/Q9DSskhHqP+L9ELxV2ek/8wbtyxih6T8EEMnb22jpPxUZpeueMOk/JiKB+2H46D84K10LJcDoP0k0ORvoh+g/Wj0VK6tP6D9rRvE6bhfoP3xPzUox3+c/jlipWvSm5z+fYYVqt27nP7BqYXp6Nuc/wXM9ij3+5j/SfBmaAMbmP+SF9anDjeY/9Y7RuYZV5j8GmK3JSR3mPxehidkM5eU/KKpl6c+s5T86s0H5knTlP0q8HQlWPOU/XMX5GBkE5T9tztUo3MvkP37XsTifk+Q/kOCNSGJb5D+g6WlYJSPkP7LyRWjo6uM/w/sheKuy4z/UBP6HbnrjP+YN2pcxQuM/9ha2p/QJ4z8IIJK3t9HiPxkpbsd6meI/KjJK1z1h4j88OybnACniP01EAvfD8OE/Xk3eBoe44T9vVroWSoDhP4BfliYNSOE/kmhyNtAP4T+jcU5Gk9fgP7R6KlZWn+A/xYMGZhln4D/WjOJ13C7gP88rfQs/7d8/8T01K8V83z8UUO1KSwzfPzZipWrRm94/WHRdilcr3j97hhWq3brdP52YzcljSt0/wKqF6enZ3D/ivD0JcGncPwTP9Sj2+Ns/J+GtSHyI2z9J82VoAhjbP2wFHoiIp9o/jhfWpw432j+wKY7HlMbZP9M7RucaVtk/9U3+BqHl2D8YYLYmJ3XYPzpybkatBNg/XIQmZjOU1z9/lt6FuSPXP6GolqU/s9Y/w7pOxcVC1j/mzAblS9LVPwjfvgTSYdU/K/F2JFjx1D9NAy9E3oDUPw==\"},\"shape\":[200],\"dtype\":\"float64\",\"order\":\"little\"}]],[\"xs\",[[[\"GB1\",-0.008535223001010787],[\"GB1\",-0.00880447737470823],[\"GB1\",-0.00894470269516384],[\"GB1\",-0.008964846434879218],[\"GB1\",-0.008882674647773241],[\"GB1\",-0.008723542808781735],[\"GB1\",-0.0085188819698912],[\"GB1\",-0.008304646406419227],[\"GB1\",-0.008119892149329578],[\"GB1\",-0.00800555186362908],[\"GB1\",-0.008003373984430129],[\"GB1\",-0.008154931216836392],[\"GB1\",-0.008500590722367102],[\"GB1\",-0.00907837472975114],[\"GB1\",-0.0099227112530754],[\"GB1\",-0.011063157596285636],[\"GB1\",-0.012523251241551531],[\"GB1\",-0.014319685461515897],[\"GB1\",-0.016462010182687854],[\"GB1\",-0.01895301937805277],[\"GB1\",-0.02178990745346291],[\"GB1\",-0.024966165883713587],[\"GB1\",-0.028474059232871815],[\"GB1\",-0.032307383784743286],[\"GB1\",-0.03646409621269425],[\"GB1\",-0.0409483335163813],[\"GB1\",-0.0457713588509415],[\"GB1\",-0.050951082573311435],[\"GB1\",-0.05651002684803378],[\"GB1\",-0.06247190168737439],[\"GB1\",-0.06885728787336978],[\"GB1\",-0.07567920371122291],[\"GB1\",-0.08293948796889797],[\"GB1\",-0.09062689577406097],[\"GB1\",-0.09871754856137216],[\"GB1\",-0.10717792404405664],[\"GB1\",-0.11596999053206043],[\"GB1\",-0.1250574962213198],[\"GB1\",-0.1344119524706606],[\"GB1\",-0.14401662603765328],[\"GB1\",-0.15386696716933385],[\"GB1\",-0.16396637719904986],[\"GB1\",-0.17431701811892483],[\"GB1\",-0.18490637381712716],[\"GB1\",-0.1956913177533347],[\"GB1\",-0.206582323459679],[\"GB1\",-0.21743097551481033],[\"GB1\",-0.2280239467055869],[\"GB1\",-0.23808603014009863],[\"GB1\",-0.24729368811544555],[\"GB1\",-0.25529905072084974],[\"GB1\",-0.2617626091597683],[\"GB1\",-0.266391295763182],[\"GB1\",-0.26897751048996277],[\"GB1\",-0.2694341575208868],[\"GB1\",-0.2678209914992264],[\"GB1\",-0.2643584978423334],[\"GB1\",-0.25942697638966056],[\"GB1\",-0.2535502110705944],[\"GB1\",-0.24736481620849715],[\"GB1\",-0.2415778145343638],[\"GB1\",-0.2369160631700294],[\"GB1\",-0.23407173699083572],[\"GB1\",-0.23364822581854422],[\"GB1\",-0.2361105852067226],[\"GB1\",-0.24174420925499068],[\"GB1\",-0.2506247719046224],[\"GB1\",-0.2626017855448159],[\"GB1\",-0.2772973854653868],[\"GB1\",-0.29412115543469464],[\"GB1\",-0.3123009214362744],[\"GB1\",-0.330928408202005],[\"GB1\",-0.3490174556278367],[\"GB1\",-0.3655711749607066],[\"GB1\",-0.3796531276788846],[\"GB1\",-0.3904565683781927],[\"GB1\",-0.3973652984787344],[\"GB1\",-0.4],[\"GB1\",-0.3982452044470247],[\"GB1\",-0.3922542330056966],[\"GB1\",-0.3824321976139255],[\"GB1\",-0.369399940167145],[\"GB1\",-0.35394398367804447],[\"GB1\",-0.33695864727899405],[\"GB1\",-0.3193861932644638],[\"GB1\",-0.30215938607520765],[\"GB1\",-0.28614869895054024],[\"GB1\",-0.272114394066454],[\"GB1\",-0.26066260218503134],[\"GB1\",-0.25220481906309367],[\"GB1\",-0.24692189833540348],[\"GB1\",-0.24473608615533027],[\"GB1\",-0.24529693870488437],[\"GB1\",-0.24798801430904624],[\"GB1\",-0.2519602272835711],[\"GB1\",-0.2561944579189858],[\"GB1\",-0.2595909210648769],[\"GB1\",-0.2610770335419058],[\"GB1\",-0.2597205631628842],[\"GB1\",-0.2548320906799906],[\"GB1\",0.2548320906799906],[\"GB1\",0.2597205631628842],[\"GB1\",0.2610770335419058],[\"GB1\",0.2595909210648769],[\"GB1\",0.2561944579189858],[\"GB1\",0.2519602272835711],[\"GB1\",0.24798801430904624],[\"GB1\",0.24529693870488437],[\"GB1\",0.24473608615533027],[\"GB1\",0.24692189833540348],[\"GB1\",0.25220481906309367],[\"GB1\",0.26066260218503134],[\"GB1\",0.272114394066454],[\"GB1\",0.28614869895054024],[\"GB1\",0.30215938607520765],[\"GB1\",0.3193861932644638],[\"GB1\",0.33695864727899405],[\"GB1\",0.35394398367804447],[\"GB1\",0.369399940167145],[\"GB1\",0.3824321976139255],[\"GB1\",0.3922542330056966],[\"GB1\",0.3982452044470247],[\"GB1\",0.4],[\"GB1\",0.3973652984787344],[\"GB1\",0.3904565683781927],[\"GB1\",0.3796531276788846],[\"GB1\",0.3655711749607066],[\"GB1\",0.3490174556278367],[\"GB1\",0.330928408202005],[\"GB1\",0.3123009214362744],[\"GB1\",0.29412115543469464],[\"GB1\",0.2772973854653868],[\"GB1\",0.2626017855448159],[\"GB1\",0.2506247719046224],[\"GB1\",0.24174420925499068],[\"GB1\",0.2361105852067226],[\"GB1\",0.23364822581854422],[\"GB1\",0.23407173699083572],[\"GB1\",0.2369160631700294],[\"GB1\",0.2415778145343638],[\"GB1\",0.24736481620849715],[\"GB1\",0.2535502110705944],[\"GB1\",0.25942697638966056],[\"GB1\",0.2643584978423334],[\"GB1\",0.2678209914992264],[\"GB1\",0.2694341575208868],[\"GB1\",0.26897751048996277],[\"GB1\",0.266391295763182],[\"GB1\",0.2617626091597683],[\"GB1\",0.25529905072084974],[\"GB1\",0.24729368811544555],[\"GB1\",0.23808603014009863],[\"GB1\",0.2280239467055869],[\"GB1\",0.21743097551481033],[\"GB1\",0.206582323459679],[\"GB1\",0.1956913177533347],[\"GB1\",0.18490637381712716],[\"GB1\",0.17431701811892483],[\"GB1\",0.16396637719904986],[\"GB1\",0.15386696716933385],[\"GB1\",0.14401662603765328],[\"GB1\",0.1344119524706606],[\"GB1\",0.1250574962213198],[\"GB1\",0.11596999053206043],[\"GB1\",0.10717792404405664],[\"GB1\",0.09871754856137216],[\"GB1\",0.09062689577406097],[\"GB1\",0.08293948796889797],[\"GB1\",0.07567920371122291],[\"GB1\",0.06885728787336978],[\"GB1\",0.06247190168737439],[\"GB1\",0.05651002684803378],[\"GB1\",0.050951082573311435],[\"GB1\",0.0457713588509415],[\"GB1\",0.0409483335163813],[\"GB1\",0.03646409621269425],[\"GB1\",0.032307383784743286],[\"GB1\",0.028474059232871815],[\"GB1\",0.024966165883713587],[\"GB1\",0.02178990745346291],[\"GB1\",0.01895301937805277],[\"GB1\",0.016462010182687854],[\"GB1\",0.014319685461515897],[\"GB1\",0.012523251241551531],[\"GB1\",0.011063157596285636],[\"GB1\",0.0099227112530754],[\"GB1\",0.00907837472975114],[\"GB1\",0.008500590722367102],[\"GB1\",0.008154931216836392],[\"GB1\",0.008003373984430129],[\"GB1\",0.00800555186362908],[\"GB1\",0.008119892149329578],[\"GB1\",0.008304646406419227],[\"GB1\",0.0085188819698912],[\"GB1\",0.008723542808781735],[\"GB1\",0.008882674647773241],[\"GB1\",0.008964846434879218],[\"GB1\",0.00894470269516384],[\"GB1\",0.00880447737470823],[\"GB1\",0.008535223001010787]]]]]}}},\"view\":{\"type\":\"object\",\"name\":\"CDSView\",\"id\":\"p1145\",\"attributes\":{\"filter\":{\"type\":\"object\",\"name\":\"AllIndices\",\"id\":\"p1146\"}}},\"glyph\":{\"type\":\"object\",\"name\":\"MultiLine\",\"id\":\"p1141\",\"attributes\":{\"xs\":{\"type\":\"field\",\"field\":\"xs\"},\"ys\":{\"type\":\"field\",\"field\":\"ys\"}}},\"selection_glyph\":{\"type\":\"object\",\"name\":\"MultiLine\",\"id\":\"p1147\",\"attributes\":{\"xs\":{\"type\":\"field\",\"field\":\"xs\"},\"ys\":{\"type\":\"field\",\"field\":\"ys\"},\"line_color\":{\"type\":\"value\",\"value\":\"black\"},\"line_alpha\":{\"type\":\"value\",\"value\":1.0},\"line_width\":{\"type\":\"value\",\"value\":1},\"line_join\":{\"type\":\"value\",\"value\":\"bevel\"},\"line_cap\":{\"type\":\"value\",\"value\":\"butt\"},\"line_dash\":{\"type\":\"value\",\"value\":[]},\"line_dash_offset\":{\"type\":\"value\",\"value\":0}}},\"nonselection_glyph\":{\"type\":\"object\",\"name\":\"MultiLine\",\"id\":\"p1142\",\"attributes\":{\"xs\":{\"type\":\"field\",\"field\":\"xs\"},\"ys\":{\"type\":\"field\",\"field\":\"ys\"},\"line_alpha\":{\"type\":\"value\",\"value\":0.1}}},\"muted_glyph\":{\"type\":\"object\",\"name\":\"MultiLine\",\"id\":\"p1143\",\"attributes\":{\"xs\":{\"type\":\"field\",\"field\":\"xs\"},\"ys\":{\"type\":\"field\",\"field\":\"ys\"},\"line_alpha\":{\"type\":\"value\",\"value\":0.2}}}}},{\"type\":\"object\",\"name\":\"GlyphRenderer\",\"id\":\"p1157\",\"attributes\":{\"data_source\":{\"type\":\"object\",\"name\":\"ColumnDataSource\",\"id\":\"p1148\",\"attributes\":{\"selected\":{\"type\":\"object\",\"name\":\"Selection\",\"id\":\"p1149\",\"attributes\":{\"indices\":[],\"line_indices\":[]}},\"selection_policy\":{\"type\":\"object\",\"name\":\"UnionRenderers\",\"id\":\"p1150\"},\"data\":{\"type\":\"map\",\"entries\":[[\"x\",[[\"GB1\",0]]],[\"y0\",{\"type\":\"ndarray\",\"array\":{\"type\":\"bytes\",\"data\":\"p3OUT7xL2D8=\"},\"shape\":[1],\"dtype\":\"float64\",\"order\":\"little\"}],[\"y1\",{\"type\":\"ndarray\",\"array\":{\"type\":\"bytes\",\"data\":\"AAAAAAAA8D8=\"},\"shape\":[1],\"dtype\":\"float64\",\"order\":\"little\"}]]}}},\"view\":{\"type\":\"object\",\"name\":\"CDSView\",\"id\":\"p1158\",\"attributes\":{\"filter\":{\"type\":\"object\",\"name\":\"AllIndices\",\"id\":\"p1159\"}}},\"glyph\":{\"type\":\"object\",\"name\":\"Segment\",\"id\":\"p1154\",\"attributes\":{\"x0\":{\"type\":\"field\",\"field\":\"x\"},\"y0\":{\"type\":\"field\",\"field\":\"y0\"},\"x1\":{\"type\":\"field\",\"field\":\"x\"},\"y1\":{\"type\":\"field\",\"field\":\"y1\"}}},\"selection_glyph\":{\"type\":\"object\",\"name\":\"Segment\",\"id\":\"p1160\",\"attributes\":{\"x0\":{\"type\":\"field\",\"field\":\"x\"},\"y0\":{\"type\":\"field\",\"field\":\"y0\"},\"x1\":{\"type\":\"field\",\"field\":\"x\"},\"y1\":{\"type\":\"field\",\"field\":\"y1\"},\"line_color\":{\"type\":\"value\",\"value\":\"black\"},\"line_alpha\":{\"type\":\"value\",\"value\":1.0},\"line_width\":{\"type\":\"value\",\"value\":1},\"line_join\":{\"type\":\"value\",\"value\":\"bevel\"},\"line_cap\":{\"type\":\"value\",\"value\":\"butt\"},\"line_dash\":{\"type\":\"value\",\"value\":[]},\"line_dash_offset\":{\"type\":\"value\",\"value\":0}}},\"nonselection_glyph\":{\"type\":\"object\",\"name\":\"Segment\",\"id\":\"p1155\",\"attributes\":{\"x0\":{\"type\":\"field\",\"field\":\"x\"},\"y0\":{\"type\":\"field\",\"field\":\"y0\"},\"x1\":{\"type\":\"field\",\"field\":\"x\"},\"y1\":{\"type\":\"field\",\"field\":\"y1\"},\"line_alpha\":{\"type\":\"value\",\"value\":0.1}}},\"muted_glyph\":{\"type\":\"object\",\"name\":\"Segment\",\"id\":\"p1156\",\"attributes\":{\"x0\":{\"type\":\"field\",\"field\":\"x\"},\"y0\":{\"type\":\"field\",\"field\":\"y0\"},\"x1\":{\"type\":\"field\",\"field\":\"x\"},\"y1\":{\"type\":\"field\",\"field\":\"y1\"},\"line_alpha\":{\"type\":\"value\",\"value\":0.2}}}}},{\"type\":\"object\",\"name\":\"GlyphRenderer\",\"id\":\"p1170\",\"attributes\":{\"data_source\":{\"type\":\"object\",\"name\":\"ColumnDataSource\",\"id\":\"p1161\",\"attributes\":{\"selected\":{\"type\":\"object\",\"name\":\"Selection\",\"id\":\"p1162\",\"attributes\":{\"indices\":[],\"line_indices\":[]}},\"selection_policy\":{\"type\":\"object\",\"name\":\"UnionRenderers\",\"id\":\"p1163\"},\"data\":{\"type\":\"map\",\"entries\":[[\"x\",[[\"GB1\",0]]],[\"bottom\",{\"type\":\"ndarray\",\"array\":{\"type\":\"bytes\",\"data\":\"gVnyZgoR5j8=\"},\"shape\":[1],\"dtype\":\"float64\",\"order\":\"little\"}],[\"top\",{\"type\":\"ndarray\",\"array\":{\"type\":\"bytes\",\"data\":\"EQizp9Bh7T8=\"},\"shape\":[1],\"dtype\":\"float64\",\"order\":\"little\"}]]}}},\"view\":{\"type\":\"object\",\"name\":\"CDSView\",\"id\":\"p1171\",\"attributes\":{\"filter\":{\"type\":\"object\",\"name\":\"AllIndices\",\"id\":\"p1172\"}}},\"glyph\":{\"type\":\"object\",\"name\":\"VBar\",\"id\":\"p1167\",\"attributes\":{\"x\":{\"type\":\"field\",\"field\":\"x\"},\"width\":{\"type\":\"value\",\"value\":0.1},\"bottom\":{\"type\":\"field\",\"field\":\"bottom\"},\"top\":{\"type\":\"field\",\"field\":\"top\"},\"fill_color\":{\"type\":\"value\",\"value\":\"black\"}}},\"selection_glyph\":{\"type\":\"object\",\"name\":\"VBar\",\"id\":\"p1173\",\"attributes\":{\"x\":{\"type\":\"field\",\"field\":\"x\"},\"width\":{\"type\":\"value\",\"value\":0.1},\"bottom\":{\"type\":\"field\",\"field\":\"bottom\"},\"top\":{\"type\":\"field\",\"field\":\"top\"},\"line_color\":{\"type\":\"value\",\"value\":\"black\"},\"line_alpha\":{\"type\":\"value\",\"value\":1.0},\"line_width\":{\"type\":\"value\",\"value\":1},\"line_join\":{\"type\":\"value\",\"value\":\"bevel\"},\"line_cap\":{\"type\":\"value\",\"value\":\"butt\"},\"line_dash\":{\"type\":\"value\",\"value\":[]},\"line_dash_offset\":{\"type\":\"value\",\"value\":0},\"fill_color\":{\"type\":\"value\",\"value\":\"black\"},\"fill_alpha\":{\"type\":\"value\",\"value\":1.0},\"hatch_color\":{\"type\":\"value\",\"value\":\"black\"},\"hatch_alpha\":{\"type\":\"value\",\"value\":1.0},\"hatch_scale\":{\"type\":\"value\",\"value\":12.0},\"hatch_pattern\":{\"type\":\"value\",\"value\":null},\"hatch_weight\":{\"type\":\"value\",\"value\":1.0}}},\"nonselection_glyph\":{\"type\":\"object\",\"name\":\"VBar\",\"id\":\"p1168\",\"attributes\":{\"x\":{\"type\":\"field\",\"field\":\"x\"},\"width\":{\"type\":\"value\",\"value\":0.1},\"bottom\":{\"type\":\"field\",\"field\":\"bottom\"},\"top\":{\"type\":\"field\",\"field\":\"top\"},\"line_alpha\":{\"type\":\"value\",\"value\":0.1},\"fill_color\":{\"type\":\"value\",\"value\":\"black\"},\"fill_alpha\":{\"type\":\"value\",\"value\":0.1},\"hatch_alpha\":{\"type\":\"value\",\"value\":0.1}}},\"muted_glyph\":{\"type\":\"object\",\"name\":\"VBar\",\"id\":\"p1169\",\"attributes\":{\"x\":{\"type\":\"field\",\"field\":\"x\"},\"width\":{\"type\":\"value\",\"value\":0.1},\"bottom\":{\"type\":\"field\",\"field\":\"bottom\"},\"top\":{\"type\":\"field\",\"field\":\"top\"},\"line_alpha\":{\"type\":\"value\",\"value\":0.2},\"fill_color\":{\"type\":\"value\",\"value\":\"black\"},\"fill_alpha\":{\"type\":\"value\",\"value\":0.2},\"hatch_alpha\":{\"type\":\"value\",\"value\":0.2}}}}},{\"type\":\"object\",\"name\":\"GlyphRenderer\",\"id\":\"p1183\",\"attributes\":{\"data_source\":{\"type\":\"object\",\"name\":\"ColumnDataSource\",\"id\":\"p1174\",\"attributes\":{\"selected\":{\"type\":\"object\",\"name\":\"Selection\",\"id\":\"p1175\",\"attributes\":{\"indices\":[],\"line_indices\":[]}},\"selection_policy\":{\"type\":\"object\",\"name\":\"UnionRenderers\",\"id\":\"p1176\"},\"data\":{\"type\":\"map\",\"entries\":[[\"x\",[[\"GB1\",0]]],[\"y\",{\"type\":\"ndarray\",\"array\":{\"type\":\"bytes\",\"data\":\"KFB4lm9m6j8=\"},\"shape\":[1],\"dtype\":\"float64\",\"order\":\"little\"}]]}}},\"view\":{\"type\":\"object\",\"name\":\"CDSView\",\"id\":\"p1184\",\"attributes\":{\"filter\":{\"type\":\"object\",\"name\":\"AllIndices\",\"id\":\"p1185\"}}},\"glyph\":{\"type\":\"object\",\"name\":\"Scatter\",\"id\":\"p1180\",\"attributes\":{\"x\":{\"type\":\"field\",\"field\":\"x\"},\"y\":{\"type\":\"field\",\"field\":\"y\"},\"line_color\":{\"type\":\"value\",\"value\":\"white\"},\"fill_color\":{\"type\":\"value\",\"value\":\"white\"},\"hatch_color\":{\"type\":\"value\",\"value\":\"white\"}}},\"selection_glyph\":{\"type\":\"object\",\"name\":\"Scatter\",\"id\":\"p1186\",\"attributes\":{\"x\":{\"type\":\"field\",\"field\":\"x\"},\"y\":{\"type\":\"field\",\"field\":\"y\"},\"size\":{\"type\":\"value\",\"value\":4},\"angle\":{\"type\":\"value\",\"value\":0.0},\"line_color\":{\"type\":\"value\",\"value\":\"white\"},\"line_alpha\":{\"type\":\"value\",\"value\":1.0},\"line_width\":{\"type\":\"value\",\"value\":1},\"line_join\":{\"type\":\"value\",\"value\":\"bevel\"},\"line_cap\":{\"type\":\"value\",\"value\":\"butt\"},\"line_dash\":{\"type\":\"value\",\"value\":[]},\"line_dash_offset\":{\"type\":\"value\",\"value\":0},\"fill_color\":{\"type\":\"value\",\"value\":\"white\"},\"fill_alpha\":{\"type\":\"value\",\"value\":1.0},\"hatch_color\":{\"type\":\"value\",\"value\":\"white\"},\"hatch_alpha\":{\"type\":\"value\",\"value\":1.0},\"hatch_scale\":{\"type\":\"value\",\"value\":12.0},\"hatch_pattern\":{\"type\":\"value\",\"value\":null},\"hatch_weight\":{\"type\":\"value\",\"value\":1.0},\"marker\":{\"type\":\"value\",\"value\":\"circle\"}}},\"nonselection_glyph\":{\"type\":\"object\",\"name\":\"Scatter\",\"id\":\"p1181\",\"attributes\":{\"x\":{\"type\":\"field\",\"field\":\"x\"},\"y\":{\"type\":\"field\",\"field\":\"y\"},\"line_color\":{\"type\":\"value\",\"value\":\"white\"},\"line_alpha\":{\"type\":\"value\",\"value\":0.1},\"fill_color\":{\"type\":\"value\",\"value\":\"white\"},\"fill_alpha\":{\"type\":\"value\",\"value\":0.1},\"hatch_color\":{\"type\":\"value\",\"value\":\"white\"},\"hatch_alpha\":{\"type\":\"value\",\"value\":0.1}}},\"muted_glyph\":{\"type\":\"object\",\"name\":\"Scatter\",\"id\":\"p1182\",\"attributes\":{\"x\":{\"type\":\"field\",\"field\":\"x\"},\"y\":{\"type\":\"field\",\"field\":\"y\"},\"line_color\":{\"type\":\"value\",\"value\":\"white\"},\"line_alpha\":{\"type\":\"value\",\"value\":0.2},\"fill_color\":{\"type\":\"value\",\"value\":\"white\"},\"fill_alpha\":{\"type\":\"value\",\"value\":0.2},\"hatch_color\":{\"type\":\"value\",\"value\":\"white\"},\"hatch_alpha\":{\"type\":\"value\",\"value\":0.2}}}}}],\"toolbar\":{\"type\":\"object\",\"name\":\"Toolbar\",\"id\":\"p1098\",\"attributes\":{\"autohide\":true,\"tools\":[{\"type\":\"object\",\"name\":\"WheelZoomTool\",\"id\":\"p1088\",\"attributes\":{\"tags\":[\"hv_created\"],\"renderers\":\"auto\",\"zoom_together\":\"none\"}},{\"type\":\"object\",\"name\":\"SaveTool\",\"id\":\"p1111\"},{\"type\":\"object\",\"name\":\"PanTool\",\"id\":\"p1112\"},{\"type\":\"object\",\"name\":\"BoxZoomTool\",\"id\":\"p1113\",\"attributes\":{\"overlay\":{\"type\":\"object\",\"name\":\"BoxAnnotation\",\"id\":\"p1114\",\"attributes\":{\"syncable\":false,\"level\":\"overlay\",\"visible\":false,\"left\":{\"type\":\"number\",\"value\":\"nan\"},\"right\":{\"type\":\"number\",\"value\":\"nan\"},\"top\":{\"type\":\"number\",\"value\":\"nan\"},\"bottom\":{\"type\":\"number\",\"value\":\"nan\"},\"left_units\":\"canvas\",\"right_units\":\"canvas\",\"top_units\":\"canvas\",\"bottom_units\":\"canvas\",\"line_color\":\"black\",\"line_alpha\":1.0,\"line_width\":2,\"line_dash\":[4,4],\"fill_color\":\"lightgrey\",\"fill_alpha\":0.5}}}},{\"type\":\"object\",\"name\":\"ResetTool\",\"id\":\"p1119\"}],\"active_drag\":{\"id\":\"p1112\"},\"active_scroll\":{\"id\":\"p1088\"}}},\"left\":[{\"type\":\"object\",\"name\":\"LinearAxis\",\"id\":\"p1106\",\"attributes\":{\"ticker\":{\"type\":\"object\",\"name\":\"BasicTicker\",\"id\":\"p1107\",\"attributes\":{\"mantissas\":[1,2,5]}},\"formatter\":{\"type\":\"object\",\"name\":\"BasicTickFormatter\",\"id\":\"p1108\"},\"axis_label\":\"Max Fitness Achieved\",\"axis_label_text_font_size\":\"16.9px\",\"major_label_policy\":{\"type\":\"object\",\"name\":\"AllLabels\",\"id\":\"p1109\"},\"major_label_text_font_size\":\"14.3px\"}}],\"below\":[{\"type\":\"object\",\"name\":\"CategoricalAxis\",\"id\":\"p1101\",\"attributes\":{\"ticker\":{\"type\":\"object\",\"name\":\"CategoricalTicker\",\"id\":\"p1102\"},\"formatter\":{\"type\":\"object\",\"name\":\"CategoricalTickFormatter\",\"id\":\"p1103\"},\"axis_label\":\"Protein\",\"axis_label_text_font_size\":\"16.9px\",\"major_label_policy\":{\"type\":\"object\",\"name\":\"AllLabels\",\"id\":\"p1104\"},\"major_label_text_font_size\":\"14.3px\",\"group_text_font_size\":\"14.3px\"}}],\"center\":[{\"type\":\"object\",\"name\":\"Grid\",\"id\":\"p1105\",\"attributes\":{\"axis\":{\"id\":\"p1101\"},\"grid_line_color\":null}},{\"type\":\"object\",\"name\":\"Grid\",\"id\":\"p1110\",\"attributes\":{\"dimension\":1,\"axis\":{\"id\":\"p1106\"},\"grid_line_color\":null}}],\"frame_width\":300,\"frame_height\":300,\"min_border_top\":20,\"min_border_bottom\":65,\"min_border_left\":65,\"min_border_right\":30,\"output_backend\":\"webgl\"}},{\"type\":\"object\",\"name\":\"Spacer\",\"id\":\"p1188\",\"attributes\":{\"name\":\"HSpacer00960\",\"stylesheets\":[\"\\n:host(.pn-loading.pn-arc):before, .pn-loading.pn-arc:before {\\n  background-image: url(\\\"data:image/svg+xml;base64,PHN2ZyB4bWxucz0iaHR0cDovL3d3dy53My5vcmcvMjAwMC9zdmciIHN0eWxlPSJtYXJnaW46IGF1dG87IGJhY2tncm91bmQ6IG5vbmU7IGRpc3BsYXk6IGJsb2NrOyBzaGFwZS1yZW5kZXJpbmc6IGF1dG87IiB2aWV3Qm94PSIwIDAgMTAwIDEwMCIgcHJlc2VydmVBc3BlY3RSYXRpbz0ieE1pZFlNaWQiPiAgPGNpcmNsZSBjeD0iNTAiIGN5PSI1MCIgZmlsbD0ibm9uZSIgc3Ryb2tlPSIjYzNjM2MzIiBzdHJva2Utd2lkdGg9IjEwIiByPSIzNSIgc3Ryb2tlLWRhc2hhcnJheT0iMTY0LjkzMzYxNDMxMzQ2NDE1IDU2Ljk3Nzg3MTQzNzgyMTM4Ij4gICAgPGFuaW1hdGVUcmFuc2Zvcm0gYXR0cmlidXRlTmFtZT0idHJhbnNmb3JtIiB0eXBlPSJyb3RhdGUiIHJlcGVhdENvdW50PSJpbmRlZmluaXRlIiBkdXI9IjFzIiB2YWx1ZXM9IjAgNTAgNTA7MzYwIDUwIDUwIiBrZXlUaW1lcz0iMDsxIj48L2FuaW1hdGVUcmFuc2Zvcm0+ICA8L2NpcmNsZT48L3N2Zz4=\\\");\\n  background-size: auto calc(min(50%, 400px));\\n}\",{\"id\":\"p1081\"},{\"id\":\"p1079\"},{\"id\":\"p1080\"}],\"margin\":0,\"sizing_mode\":\"stretch_width\",\"align\":\"start\"}}]}}],\"defs\":[{\"type\":\"model\",\"name\":\"ReactiveHTML1\"},{\"type\":\"model\",\"name\":\"FlexBox1\",\"properties\":[{\"name\":\"align_content\",\"kind\":\"Any\",\"default\":\"flex-start\"},{\"name\":\"align_items\",\"kind\":\"Any\",\"default\":\"flex-start\"},{\"name\":\"flex_direction\",\"kind\":\"Any\",\"default\":\"row\"},{\"name\":\"flex_wrap\",\"kind\":\"Any\",\"default\":\"wrap\"},{\"name\":\"justify_content\",\"kind\":\"Any\",\"default\":\"flex-start\"}]},{\"type\":\"model\",\"name\":\"FloatPanel1\",\"properties\":[{\"name\":\"config\",\"kind\":\"Any\",\"default\":{\"type\":\"map\"}},{\"name\":\"contained\",\"kind\":\"Any\",\"default\":true},{\"name\":\"position\",\"kind\":\"Any\",\"default\":\"right-top\"},{\"name\":\"offsetx\",\"kind\":\"Any\",\"default\":null},{\"name\":\"offsety\",\"kind\":\"Any\",\"default\":null},{\"name\":\"theme\",\"kind\":\"Any\",\"default\":\"primary\"},{\"name\":\"status\",\"kind\":\"Any\",\"default\":\"normalized\"}]},{\"type\":\"model\",\"name\":\"GridStack1\",\"properties\":[{\"name\":\"mode\",\"kind\":\"Any\",\"default\":\"warn\"},{\"name\":\"ncols\",\"kind\":\"Any\",\"default\":null},{\"name\":\"nrows\",\"kind\":\"Any\",\"default\":null},{\"name\":\"allow_resize\",\"kind\":\"Any\",\"default\":true},{\"name\":\"allow_drag\",\"kind\":\"Any\",\"default\":true},{\"name\":\"state\",\"kind\":\"Any\",\"default\":[]}]},{\"type\":\"model\",\"name\":\"drag1\",\"properties\":[{\"name\":\"slider_width\",\"kind\":\"Any\",\"default\":5},{\"name\":\"slider_color\",\"kind\":\"Any\",\"default\":\"black\"},{\"name\":\"value\",\"kind\":\"Any\",\"default\":50}]},{\"type\":\"model\",\"name\":\"click1\",\"properties\":[{\"name\":\"terminal_output\",\"kind\":\"Any\",\"default\":\"\"},{\"name\":\"debug_name\",\"kind\":\"Any\",\"default\":\"\"},{\"name\":\"clears\",\"kind\":\"Any\",\"default\":0}]},{\"type\":\"model\",\"name\":\"copy_to_clipboard1\",\"properties\":[{\"name\":\"fill\",\"kind\":\"Any\",\"default\":\"none\"},{\"name\":\"value\",\"kind\":\"Any\",\"default\":null}]},{\"type\":\"model\",\"name\":\"FastWrapper1\",\"properties\":[{\"name\":\"object\",\"kind\":\"Any\",\"default\":null},{\"name\":\"style\",\"kind\":\"Any\",\"default\":null}]},{\"type\":\"model\",\"name\":\"NotificationAreaBase1\",\"properties\":[{\"name\":\"js_events\",\"kind\":\"Any\",\"default\":{\"type\":\"map\"}},{\"name\":\"position\",\"kind\":\"Any\",\"default\":\"bottom-right\"},{\"name\":\"_clear\",\"kind\":\"Any\",\"default\":0}]},{\"type\":\"model\",\"name\":\"NotificationArea1\",\"properties\":[{\"name\":\"js_events\",\"kind\":\"Any\",\"default\":{\"type\":\"map\"}},{\"name\":\"notifications\",\"kind\":\"Any\",\"default\":[]},{\"name\":\"position\",\"kind\":\"Any\",\"default\":\"bottom-right\"},{\"name\":\"_clear\",\"kind\":\"Any\",\"default\":0},{\"name\":\"types\",\"kind\":\"Any\",\"default\":[{\"type\":\"map\",\"entries\":[[\"type\",\"warning\"],[\"background\",\"#ffc107\"],[\"icon\",{\"type\":\"map\",\"entries\":[[\"className\",\"fas fa-exclamation-triangle\"],[\"tagName\",\"i\"],[\"color\",\"white\"]]}]]},{\"type\":\"map\",\"entries\":[[\"type\",\"info\"],[\"background\",\"#007bff\"],[\"icon\",{\"type\":\"map\",\"entries\":[[\"className\",\"fas fa-info-circle\"],[\"tagName\",\"i\"],[\"color\",\"white\"]]}]]}]}]},{\"type\":\"model\",\"name\":\"Notification\",\"properties\":[{\"name\":\"background\",\"kind\":\"Any\",\"default\":null},{\"name\":\"duration\",\"kind\":\"Any\",\"default\":3000},{\"name\":\"icon\",\"kind\":\"Any\",\"default\":null},{\"name\":\"message\",\"kind\":\"Any\",\"default\":\"\"},{\"name\":\"notification_type\",\"kind\":\"Any\",\"default\":null},{\"name\":\"_destroyed\",\"kind\":\"Any\",\"default\":false}]},{\"type\":\"model\",\"name\":\"TemplateActions1\",\"properties\":[{\"name\":\"open_modal\",\"kind\":\"Any\",\"default\":0},{\"name\":\"close_modal\",\"kind\":\"Any\",\"default\":0}]},{\"type\":\"model\",\"name\":\"BootstrapTemplateActions1\",\"properties\":[{\"name\":\"open_modal\",\"kind\":\"Any\",\"default\":0},{\"name\":\"close_modal\",\"kind\":\"Any\",\"default\":0}]},{\"type\":\"model\",\"name\":\"MaterialTemplateActions1\",\"properties\":[{\"name\":\"open_modal\",\"kind\":\"Any\",\"default\":0},{\"name\":\"close_modal\",\"kind\":\"Any\",\"default\":0}]}]}};\n",
       "  var render_items = [{\"docid\":\"04c58ead-0736-4355-8acd-5493fa2e05b0\",\"roots\":{\"p1078\":\"a64520a2-68a5-4995-8735-2a9fb8840524\"},\"root_ids\":[\"p1078\"]}];\n",
       "  var docs = Object.values(docs_json)\n",
       "  if (!docs) {\n",
       "    return\n",
       "  }\n",
       "  const py_version = docs[0].version.replace('rc', '-rc.').replace('.dev', '-dev.')\n",
       "  function embed_document(root) {\n",
       "    var Bokeh = get_bokeh(root)\n",
       "    Bokeh.embed.embed_items_notebook(docs_json, render_items);\n",
       "    for (const render_item of render_items) {\n",
       "      for (const root_id of render_item.root_ids) {\n",
       "\tconst id_el = document.getElementById(root_id)\n",
       "\tif (id_el.children.length && (id_el.children[0].className === 'bk-root')) {\n",
       "\t  const root_el = id_el.children[0]\n",
       "\t  root_el.id = root_el.id + '-rendered'\n",
       "\t}\n",
       "      }\n",
       "    }\n",
       "  }\n",
       "  function get_bokeh(root) {\n",
       "    if (root.Bokeh === undefined) {\n",
       "      return null\n",
       "    } else if (root.Bokeh.version !== py_version) {\n",
       "      if (root.Bokeh.versions === undefined || !root.Bokeh.versions.has(py_version)) {\n",
       "\treturn null\n",
       "      }\n",
       "      return root.Bokeh.versions.get(py_version);\n",
       "    } else if (root.Bokeh.version === py_version) {\n",
       "      return root.Bokeh\n",
       "    }\n",
       "    return null\n",
       "  }\n",
       "  function is_loaded(root) {\n",
       "    var Bokeh = get_bokeh(root)\n",
       "    return (Bokeh != null && Bokeh.Panel !== undefined)\n",
       "  }\n",
       "  if (is_loaded(root)) {\n",
       "    embed_document(root);\n",
       "  } else {\n",
       "    var attempts = 0;\n",
       "    var timer = setInterval(function(root) {\n",
       "      if (is_loaded(root)) {\n",
       "        clearInterval(timer);\n",
       "        embed_document(root);\n",
       "      } else if (document.readyState == \"complete\") {\n",
       "        attempts++;\n",
       "        if (attempts > 200) {\n",
       "          clearInterval(timer);\n",
       "\t  var Bokeh = get_bokeh(root)\n",
       "\t  if (Bokeh == null || Bokeh.Panel == null) {\n",
       "            console.warn(\"Panel: ERROR: Unable to run Panel code because Bokeh or Panel library is missing\");\n",
       "\t  } else {\n",
       "\t    console.warn(\"Panel: WARNING: Attempting to render but not all required libraries could be resolved.\")\n",
       "\t    embed_document(root)\n",
       "\t  }\n",
       "        }\n",
       "      }\n",
       "    }, 25, root)\n",
       "  }\n",
       "})(window);</script>"
      ],
      "text/plain": [
       ":Violin   [Landscape]   (max_fitness)"
      ]
     },
     "execution_count": 43,
     "metadata": {
      "application/vnd.holoviews_exec.v0+json": {
       "id": "p1078"
      }
     },
     "output_type": "execute_result"
    }
   ],
   "source": [
    "#MLDE violin plots\n",
    "# Plot Hooks\n",
    "def one_decimal_x(plot,element):\n",
    "    plot.handles['plot'].xaxis[0].formatter = NumeralTickFormatter(format=\"0.0\")\n",
    "\n",
    "def one_decimal_y(plot,element):\n",
    "    plot.handles['plot'].yaxis[0].formatter = NumeralTickFormatter(format=\"0.0\")\n",
    "\n",
    "def fixmargins(plot,element):\n",
    "    plot.handles['plot'].min_border_right=30\n",
    "    plot.handles['plot'].min_border_left=65\n",
    "    plot.handles['plot'].min_border_top=20\n",
    "    plot.handles['plot'].min_border_bottom=65\n",
    "    plot.handles['plot'].outline_line_color='black'\n",
    "    plot.handles['plot'].outline_line_alpha=1\n",
    "    plot.handles['plot'].outline_line_width=1\n",
    "    plot.handles['plot'].toolbar.autohide = True\n",
    "    \n",
    "data = pd.DataFrame.from_dict(maxes2)\n",
    "data = data.melt(var_name='Landscape', value_name='max_fitness')\n",
    "\n",
    "MLDE_fig = hv.Violin(\n",
    "    data.sort_index(ascending=False), ['Landscape'], 'max_fitness'\n",
    ").opts(\n",
    "    # split='protein',\n",
    "    frame_height=300,\n",
    "    frame_width=300,\n",
    "    violin_width=0.8,\n",
    "    fontscale=1.3,\n",
    "    hooks=[fixmargins],\n",
    "    # show_legend=True,\n",
    "    # inner=None,\n",
    "    cut = 0,\n",
    "    # legend_position='top',\n",
    "    ylabel='Max Fitness Achieved',\n",
    "    violin_color=hv.dim('Landscape').str(),\n",
    "    cmap = 'Category10',\n",
    "    xlabel = 'Protein',\n",
    "    ylim = (0,1)\n",
    ")\n",
    "\n",
    "MLDE_fig"
   ]
  },
  {
   "cell_type": "code",
   "execution_count": 44,
   "metadata": {},
   "outputs": [
    {
     "data": {
      "text/html": [
       "<div>\n",
       "<style scoped>\n",
       "    .dataframe tbody tr th:only-of-type {\n",
       "        vertical-align: middle;\n",
       "    }\n",
       "\n",
       "    .dataframe tbody tr th {\n",
       "        vertical-align: top;\n",
       "    }\n",
       "\n",
       "    .dataframe thead th {\n",
       "        text-align: right;\n",
       "    }\n",
       "</style>\n",
       "<table border=\"1\" class=\"dataframe\">\n",
       "  <thead>\n",
       "    <tr style=\"text-align: right;\">\n",
       "      <th></th>\n",
       "      <th>Landscape</th>\n",
       "      <th>max_fitness</th>\n",
       "    </tr>\n",
       "  </thead>\n",
       "  <tbody>\n",
       "    <tr>\n",
       "      <th>0</th>\n",
       "      <td>GB1</td>\n",
       "      <td>0.796777</td>\n",
       "    </tr>\n",
       "    <tr>\n",
       "      <th>1</th>\n",
       "      <td>GB1</td>\n",
       "      <td>0.614051</td>\n",
       "    </tr>\n",
       "    <tr>\n",
       "      <th>2</th>\n",
       "      <td>GB1</td>\n",
       "      <td>0.526876</td>\n",
       "    </tr>\n",
       "    <tr>\n",
       "      <th>3</th>\n",
       "      <td>GB1</td>\n",
       "      <td>0.741846</td>\n",
       "    </tr>\n",
       "    <tr>\n",
       "      <th>4</th>\n",
       "      <td>GB1</td>\n",
       "      <td>0.475515</td>\n",
       "    </tr>\n",
       "    <tr>\n",
       "      <th>...</th>\n",
       "      <td>...</td>\n",
       "      <td>...</td>\n",
       "    </tr>\n",
       "    <tr>\n",
       "      <th>345</th>\n",
       "      <td>GB1</td>\n",
       "      <td>0.918190</td>\n",
       "    </tr>\n",
       "    <tr>\n",
       "      <th>346</th>\n",
       "      <td>GB1</td>\n",
       "      <td>1.000000</td>\n",
       "    </tr>\n",
       "    <tr>\n",
       "      <th>347</th>\n",
       "      <td>GB1</td>\n",
       "      <td>1.000000</td>\n",
       "    </tr>\n",
       "    <tr>\n",
       "      <th>348</th>\n",
       "      <td>GB1</td>\n",
       "      <td>0.862211</td>\n",
       "    </tr>\n",
       "    <tr>\n",
       "      <th>349</th>\n",
       "      <td>GB1</td>\n",
       "      <td>0.707733</td>\n",
       "    </tr>\n",
       "  </tbody>\n",
       "</table>\n",
       "<p>350 rows × 2 columns</p>\n",
       "</div>"
      ],
      "text/plain": [
       "    Landscape  max_fitness\n",
       "0         GB1     0.796777\n",
       "1         GB1     0.614051\n",
       "2         GB1     0.526876\n",
       "3         GB1     0.741846\n",
       "4         GB1     0.475515\n",
       "..        ...          ...\n",
       "345       GB1     0.918190\n",
       "346       GB1     1.000000\n",
       "347       GB1     1.000000\n",
       "348       GB1     0.862211\n",
       "349       GB1     0.707733\n",
       "\n",
       "[350 rows x 2 columns]"
      ]
     },
     "execution_count": 44,
     "metadata": {},
     "output_type": "execute_result"
    }
   ],
   "source": [
    "data"
   ]
  },
  {
   "cell_type": "code",
   "execution_count": 19,
   "metadata": {},
   "outputs": [],
   "source": []
  }
 ],
 "metadata": {
  "kernelspec": {
   "display_name": "Python 3.9.13 ('ProtGraphR')",
   "language": "python",
   "name": "python3"
  },
  "language_info": {
   "codemirror_mode": {
    "name": "ipython",
    "version": 3
   },
   "file_extension": ".py",
   "mimetype": "text/x-python",
   "name": "python",
   "nbconvert_exporter": "python",
   "pygments_lexer": "ipython3",
   "version": "3.10.13"
  },
  "orig_nbformat": 4,
  "vscode": {
   "interpreter": {
    "hash": "139d1aaa1d1fb05ac2b871ea076ee69809b0d9a8dfdac7dc2e2d4e05ffa29f01"
   }
  }
 },
 "nbformat": 4,
 "nbformat_minor": 2
}
