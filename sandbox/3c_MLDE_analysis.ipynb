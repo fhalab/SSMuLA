{
 "cells": [
  {
   "cell_type": "code",
   "execution_count": 1,
   "metadata": {},
   "outputs": [
    {
     "name": "stdout",
     "output_type": "stream",
     "text": [
      "/disk2/fli/SSMuLA\n"
     ]
    }
   ],
   "source": [
    "%cd ~/SSMuLA"
   ]
  },
  {
   "cell_type": "code",
   "execution_count": 2,
   "metadata": {},
   "outputs": [],
   "source": [
    "%load_ext autoreload\n",
    "%autoreload 2\n",
    "%load_ext blackcellmagic"
   ]
  },
  {
   "cell_type": "code",
   "execution_count": 3,
   "metadata": {},
   "outputs": [
    {
     "data": {
      "application/javascript": "(function(root) {\n  function now() {\n    return new Date();\n  }\n\n  var force = true;\n  var py_version = '3.3.4'.replace('rc', '-rc.').replace('.dev', '-dev.');\n  var reloading = false;\n  var Bokeh = root.Bokeh;\n\n  if (typeof (root._bokeh_timeout) === \"undefined\" || force) {\n    root._bokeh_timeout = Date.now() + 5000;\n    root._bokeh_failed_load = false;\n  }\n\n  function run_callbacks() {\n    try {\n      root._bokeh_onload_callbacks.forEach(function(callback) {\n        if (callback != null)\n          callback();\n      });\n    } finally {\n      delete root._bokeh_onload_callbacks;\n    }\n    console.debug(\"Bokeh: all callbacks have finished\");\n  }\n\n  function load_libs(css_urls, js_urls, js_modules, js_exports, callback) {\n    if (css_urls == null) css_urls = [];\n    if (js_urls == null) js_urls = [];\n    if (js_modules == null) js_modules = [];\n    if (js_exports == null) js_exports = {};\n\n    root._bokeh_onload_callbacks.push(callback);\n\n    if (root._bokeh_is_loading > 0) {\n      console.debug(\"Bokeh: BokehJS is being loaded, scheduling callback at\", now());\n      return null;\n    }\n    if (js_urls.length === 0 && js_modules.length === 0 && Object.keys(js_exports).length === 0) {\n      run_callbacks();\n      return null;\n    }\n    if (!reloading) {\n      console.debug(\"Bokeh: BokehJS not loaded, scheduling load and callback at\", now());\n    }\n\n    function on_load() {\n      root._bokeh_is_loading--;\n      if (root._bokeh_is_loading === 0) {\n        console.debug(\"Bokeh: all BokehJS libraries/stylesheets loaded\");\n        run_callbacks()\n      }\n    }\n    window._bokeh_on_load = on_load\n\n    function on_error() {\n      console.error(\"failed to load \" + url);\n    }\n\n    var skip = [];\n    if (window.requirejs) {\n      window.requirejs.config({'packages': {}, 'paths': {'jspanel': 'https://cdn.jsdelivr.net/npm/jspanel4@4.12.0/dist/jspanel', 'jspanel-modal': 'https://cdn.jsdelivr.net/npm/jspanel4@4.12.0/dist/extensions/modal/jspanel.modal', 'jspanel-tooltip': 'https://cdn.jsdelivr.net/npm/jspanel4@4.12.0/dist/extensions/tooltip/jspanel.tooltip', 'jspanel-hint': 'https://cdn.jsdelivr.net/npm/jspanel4@4.12.0/dist/extensions/hint/jspanel.hint', 'jspanel-layout': 'https://cdn.jsdelivr.net/npm/jspanel4@4.12.0/dist/extensions/layout/jspanel.layout', 'jspanel-contextmenu': 'https://cdn.jsdelivr.net/npm/jspanel4@4.12.0/dist/extensions/contextmenu/jspanel.contextmenu', 'jspanel-dock': 'https://cdn.jsdelivr.net/npm/jspanel4@4.12.0/dist/extensions/dock/jspanel.dock', 'gridstack': 'https://cdn.jsdelivr.net/npm/gridstack@7.2.3/dist/gridstack-all', 'notyf': 'https://cdn.jsdelivr.net/npm/notyf@3/notyf.min'}, 'shim': {'jspanel': {'exports': 'jsPanel'}, 'gridstack': {'exports': 'GridStack'}}});\n      require([\"jspanel\"], function(jsPanel) {\n\twindow.jsPanel = jsPanel\n\ton_load()\n      })\n      require([\"jspanel-modal\"], function() {\n\ton_load()\n      })\n      require([\"jspanel-tooltip\"], function() {\n\ton_load()\n      })\n      require([\"jspanel-hint\"], function() {\n\ton_load()\n      })\n      require([\"jspanel-layout\"], function() {\n\ton_load()\n      })\n      require([\"jspanel-contextmenu\"], function() {\n\ton_load()\n      })\n      require([\"jspanel-dock\"], function() {\n\ton_load()\n      })\n      require([\"gridstack\"], function(GridStack) {\n\twindow.GridStack = GridStack\n\ton_load()\n      })\n      require([\"notyf\"], function() {\n\ton_load()\n      })\n      root._bokeh_is_loading = css_urls.length + 9;\n    } else {\n      root._bokeh_is_loading = css_urls.length + js_urls.length + js_modules.length + Object.keys(js_exports).length;\n    }\n\n    var existing_stylesheets = []\n    var links = document.getElementsByTagName('link')\n    for (var i = 0; i < links.length; i++) {\n      var link = links[i]\n      if (link.href != null) {\n\texisting_stylesheets.push(link.href)\n      }\n    }\n    for (var i = 0; i < css_urls.length; i++) {\n      var url = css_urls[i];\n      if (existing_stylesheets.indexOf(url) !== -1) {\n\ton_load()\n\tcontinue;\n      }\n      const element = document.createElement(\"link\");\n      element.onload = on_load;\n      element.onerror = on_error;\n      element.rel = \"stylesheet\";\n      element.type = \"text/css\";\n      element.href = url;\n      console.debug(\"Bokeh: injecting link tag for BokehJS stylesheet: \", url);\n      document.body.appendChild(element);\n    }    if (((window['jsPanel'] !== undefined) && (!(window['jsPanel'] instanceof HTMLElement))) || window.requirejs) {\n      var urls = ['https://cdn.holoviz.org/panel/1.3.8/dist/bundled/floatpanel/jspanel4@4.12.0/dist/jspanel.js', 'https://cdn.holoviz.org/panel/1.3.8/dist/bundled/floatpanel/jspanel4@4.12.0/dist/extensions/modal/jspanel.modal.js', 'https://cdn.holoviz.org/panel/1.3.8/dist/bundled/floatpanel/jspanel4@4.12.0/dist/extensions/tooltip/jspanel.tooltip.js', 'https://cdn.holoviz.org/panel/1.3.8/dist/bundled/floatpanel/jspanel4@4.12.0/dist/extensions/hint/jspanel.hint.js', 'https://cdn.holoviz.org/panel/1.3.8/dist/bundled/floatpanel/jspanel4@4.12.0/dist/extensions/layout/jspanel.layout.js', 'https://cdn.holoviz.org/panel/1.3.8/dist/bundled/floatpanel/jspanel4@4.12.0/dist/extensions/contextmenu/jspanel.contextmenu.js', 'https://cdn.holoviz.org/panel/1.3.8/dist/bundled/floatpanel/jspanel4@4.12.0/dist/extensions/dock/jspanel.dock.js'];\n      for (var i = 0; i < urls.length; i++) {\n        skip.push(urls[i])\n      }\n    }    if (((window['GridStack'] !== undefined) && (!(window['GridStack'] instanceof HTMLElement))) || window.requirejs) {\n      var urls = ['https://cdn.holoviz.org/panel/1.3.8/dist/bundled/gridstack/gridstack@7.2.3/dist/gridstack-all.js'];\n      for (var i = 0; i < urls.length; i++) {\n        skip.push(urls[i])\n      }\n    }    if (((window['Notyf'] !== undefined) && (!(window['Notyf'] instanceof HTMLElement))) || window.requirejs) {\n      var urls = ['https://cdn.holoviz.org/panel/1.3.8/dist/bundled/notificationarea/notyf@3/notyf.min.js'];\n      for (var i = 0; i < urls.length; i++) {\n        skip.push(urls[i])\n      }\n    }    var existing_scripts = []\n    var scripts = document.getElementsByTagName('script')\n    for (var i = 0; i < scripts.length; i++) {\n      var script = scripts[i]\n      if (script.src != null) {\n\texisting_scripts.push(script.src)\n      }\n    }\n    for (var i = 0; i < js_urls.length; i++) {\n      var url = js_urls[i];\n      if (skip.indexOf(url) !== -1 || existing_scripts.indexOf(url) !== -1) {\n\tif (!window.requirejs) {\n\t  on_load();\n\t}\n\tcontinue;\n      }\n      var element = document.createElement('script');\n      element.onload = on_load;\n      element.onerror = on_error;\n      element.async = false;\n      element.src = url;\n      console.debug(\"Bokeh: injecting script tag for BokehJS library: \", url);\n      document.head.appendChild(element);\n    }\n    for (var i = 0; i < js_modules.length; i++) {\n      var url = js_modules[i];\n      if (skip.indexOf(url) !== -1 || existing_scripts.indexOf(url) !== -1) {\n\tif (!window.requirejs) {\n\t  on_load();\n\t}\n\tcontinue;\n      }\n      var element = document.createElement('script');\n      element.onload = on_load;\n      element.onerror = on_error;\n      element.async = false;\n      element.src = url;\n      element.type = \"module\";\n      console.debug(\"Bokeh: injecting script tag for BokehJS library: \", url);\n      document.head.appendChild(element);\n    }\n    for (const name in js_exports) {\n      var url = js_exports[name];\n      if (skip.indexOf(url) >= 0 || root[name] != null) {\n\tif (!window.requirejs) {\n\t  on_load();\n\t}\n\tcontinue;\n      }\n      var element = document.createElement('script');\n      element.onerror = on_error;\n      element.async = false;\n      element.type = \"module\";\n      console.debug(\"Bokeh: injecting script tag for BokehJS library: \", url);\n      element.textContent = `\n      import ${name} from \"${url}\"\n      window.${name} = ${name}\n      window._bokeh_on_load()\n      `\n      document.head.appendChild(element);\n    }\n    if (!js_urls.length && !js_modules.length) {\n      on_load()\n    }\n  };\n\n  function inject_raw_css(css) {\n    const element = document.createElement(\"style\");\n    element.appendChild(document.createTextNode(css));\n    document.body.appendChild(element);\n  }\n\n  var js_urls = [\"https://cdn.bokeh.org/bokeh/release/bokeh-3.3.4.min.js\", \"https://cdn.bokeh.org/bokeh/release/bokeh-gl-3.3.4.min.js\", \"https://cdn.bokeh.org/bokeh/release/bokeh-widgets-3.3.4.min.js\", \"https://cdn.bokeh.org/bokeh/release/bokeh-tables-3.3.4.min.js\", \"https://cdn.holoviz.org/panel/1.3.8/dist/panel.min.js\"];\n  var js_modules = [];\n  var js_exports = {};\n  var css_urls = [];\n  var inline_js = [    function(Bokeh) {\n      Bokeh.set_log_level(\"info\");\n    },\nfunction(Bokeh) {} // ensure no trailing comma for IE\n  ];\n\n  function run_inline_js() {\n    if ((root.Bokeh !== undefined) || (force === true)) {\n      for (var i = 0; i < inline_js.length; i++) {\n\ttry {\n          inline_js[i].call(root, root.Bokeh);\n\t} catch(e) {\n\t  if (!reloading) {\n\t    throw e;\n\t  }\n\t}\n      }\n      // Cache old bokeh versions\n      if (Bokeh != undefined && !reloading) {\n\tvar NewBokeh = root.Bokeh;\n\tif (Bokeh.versions === undefined) {\n\t  Bokeh.versions = new Map();\n\t}\n\tif (NewBokeh.version !== Bokeh.version) {\n\t  Bokeh.versions.set(NewBokeh.version, NewBokeh)\n\t}\n\troot.Bokeh = Bokeh;\n      }} else if (Date.now() < root._bokeh_timeout) {\n      setTimeout(run_inline_js, 100);\n    } else if (!root._bokeh_failed_load) {\n      console.log(\"Bokeh: BokehJS failed to load within specified timeout.\");\n      root._bokeh_failed_load = true;\n    }\n    root._bokeh_is_initializing = false\n  }\n\n  function load_or_wait() {\n    // Implement a backoff loop that tries to ensure we do not load multiple\n    // versions of Bokeh and its dependencies at the same time.\n    // In recent versions we use the root._bokeh_is_initializing flag\n    // to determine whether there is an ongoing attempt to initialize\n    // bokeh, however for backward compatibility we also try to ensure\n    // that we do not start loading a newer (Panel>=1.0 and Bokeh>3) version\n    // before older versions are fully initialized.\n    if (root._bokeh_is_initializing && Date.now() > root._bokeh_timeout) {\n      root._bokeh_is_initializing = false;\n      root._bokeh_onload_callbacks = undefined;\n      console.log(\"Bokeh: BokehJS was loaded multiple times but one version failed to initialize.\");\n      load_or_wait();\n    } else if (root._bokeh_is_initializing || (typeof root._bokeh_is_initializing === \"undefined\" && root._bokeh_onload_callbacks !== undefined)) {\n      setTimeout(load_or_wait, 100);\n    } else {\n      root._bokeh_is_initializing = true\n      root._bokeh_onload_callbacks = []\n      var bokeh_loaded = Bokeh != null && (Bokeh.version === py_version || (Bokeh.versions !== undefined && Bokeh.versions.has(py_version)));\n      if (!reloading && !bokeh_loaded) {\n\troot.Bokeh = undefined;\n      }\n      load_libs(css_urls, js_urls, js_modules, js_exports, function() {\n\tconsole.debug(\"Bokeh: BokehJS plotting callback run at\", now());\n\trun_inline_js();\n      });\n    }\n  }\n  // Give older versions of the autoload script a head-start to ensure\n  // they initialize before we start loading newer version.\n  setTimeout(load_or_wait, 100)\n}(window));",
      "application/vnd.holoviews_load.v0+json": ""
     },
     "metadata": {},
     "output_type": "display_data"
    },
    {
     "data": {
      "application/javascript": "\nif ((window.PyViz === undefined) || (window.PyViz instanceof HTMLElement)) {\n  window.PyViz = {comms: {}, comm_status:{}, kernels:{}, receivers: {}, plot_index: []}\n}\n\n\n    function JupyterCommManager() {\n    }\n\n    JupyterCommManager.prototype.register_target = function(plot_id, comm_id, msg_handler) {\n      if (window.comm_manager || ((window.Jupyter !== undefined) && (Jupyter.notebook.kernel != null))) {\n        var comm_manager = window.comm_manager || Jupyter.notebook.kernel.comm_manager;\n        comm_manager.register_target(comm_id, function(comm) {\n          comm.on_msg(msg_handler);\n        });\n      } else if ((plot_id in window.PyViz.kernels) && (window.PyViz.kernels[plot_id])) {\n        window.PyViz.kernels[plot_id].registerCommTarget(comm_id, function(comm) {\n          comm.onMsg = msg_handler;\n        });\n      } else if (typeof google != 'undefined' && google.colab.kernel != null) {\n        google.colab.kernel.comms.registerTarget(comm_id, (comm) => {\n          var messages = comm.messages[Symbol.asyncIterator]();\n          function processIteratorResult(result) {\n            var message = result.value;\n            console.log(message)\n            var content = {data: message.data, comm_id};\n            var buffers = []\n            for (var buffer of message.buffers || []) {\n              buffers.push(new DataView(buffer))\n            }\n            var metadata = message.metadata || {};\n            var msg = {content, buffers, metadata}\n            msg_handler(msg);\n            return messages.next().then(processIteratorResult);\n          }\n          return messages.next().then(processIteratorResult);\n        })\n      }\n    }\n\n    JupyterCommManager.prototype.get_client_comm = function(plot_id, comm_id, msg_handler) {\n      if (comm_id in window.PyViz.comms) {\n        return window.PyViz.comms[comm_id];\n      } else if (window.comm_manager || ((window.Jupyter !== undefined) && (Jupyter.notebook.kernel != null))) {\n        var comm_manager = window.comm_manager || Jupyter.notebook.kernel.comm_manager;\n        var comm = comm_manager.new_comm(comm_id, {}, {}, {}, comm_id);\n        if (msg_handler) {\n          comm.on_msg(msg_handler);\n        }\n      } else if ((plot_id in window.PyViz.kernels) && (window.PyViz.kernels[plot_id])) {\n        var comm = window.PyViz.kernels[plot_id].connectToComm(comm_id);\n        comm.open();\n        if (msg_handler) {\n          comm.onMsg = msg_handler;\n        }\n      } else if (typeof google != 'undefined' && google.colab.kernel != null) {\n        var comm_promise = google.colab.kernel.comms.open(comm_id)\n        comm_promise.then((comm) => {\n          window.PyViz.comms[comm_id] = comm;\n          if (msg_handler) {\n            var messages = comm.messages[Symbol.asyncIterator]();\n            function processIteratorResult(result) {\n              var message = result.value;\n              var content = {data: message.data};\n              var metadata = message.metadata || {comm_id};\n              var msg = {content, metadata}\n              msg_handler(msg);\n              return messages.next().then(processIteratorResult);\n            }\n            return messages.next().then(processIteratorResult);\n          }\n        }) \n        var sendClosure = (data, metadata, buffers, disposeOnDone) => {\n          return comm_promise.then((comm) => {\n            comm.send(data, metadata, buffers, disposeOnDone);\n          });\n        };\n        var comm = {\n          send: sendClosure\n        };\n      }\n      window.PyViz.comms[comm_id] = comm;\n      return comm;\n    }\n    window.PyViz.comm_manager = new JupyterCommManager();\n    \n\n\nvar JS_MIME_TYPE = 'application/javascript';\nvar HTML_MIME_TYPE = 'text/html';\nvar EXEC_MIME_TYPE = 'application/vnd.holoviews_exec.v0+json';\nvar CLASS_NAME = 'output';\n\n/**\n * Render data to the DOM node\n */\nfunction render(props, node) {\n  var div = document.createElement(\"div\");\n  var script = document.createElement(\"script\");\n  node.appendChild(div);\n  node.appendChild(script);\n}\n\n/**\n * Handle when a new output is added\n */\nfunction handle_add_output(event, handle) {\n  var output_area = handle.output_area;\n  var output = handle.output;\n  if ((output.data == undefined) || (!output.data.hasOwnProperty(EXEC_MIME_TYPE))) {\n    return\n  }\n  var id = output.metadata[EXEC_MIME_TYPE][\"id\"];\n  var toinsert = output_area.element.find(\".\" + CLASS_NAME.split(' ')[0]);\n  if (id !== undefined) {\n    var nchildren = toinsert.length;\n    var html_node = toinsert[nchildren-1].children[0];\n    html_node.innerHTML = output.data[HTML_MIME_TYPE];\n    var scripts = [];\n    var nodelist = html_node.querySelectorAll(\"script\");\n    for (var i in nodelist) {\n      if (nodelist.hasOwnProperty(i)) {\n        scripts.push(nodelist[i])\n      }\n    }\n\n    scripts.forEach( function (oldScript) {\n      var newScript = document.createElement(\"script\");\n      var attrs = [];\n      var nodemap = oldScript.attributes;\n      for (var j in nodemap) {\n        if (nodemap.hasOwnProperty(j)) {\n          attrs.push(nodemap[j])\n        }\n      }\n      attrs.forEach(function(attr) { newScript.setAttribute(attr.name, attr.value) });\n      newScript.appendChild(document.createTextNode(oldScript.innerHTML));\n      oldScript.parentNode.replaceChild(newScript, oldScript);\n    });\n    if (JS_MIME_TYPE in output.data) {\n      toinsert[nchildren-1].children[1].textContent = output.data[JS_MIME_TYPE];\n    }\n    output_area._hv_plot_id = id;\n    if ((window.Bokeh !== undefined) && (id in Bokeh.index)) {\n      window.PyViz.plot_index[id] = Bokeh.index[id];\n    } else {\n      window.PyViz.plot_index[id] = null;\n    }\n  } else if (output.metadata[EXEC_MIME_TYPE][\"server_id\"] !== undefined) {\n    var bk_div = document.createElement(\"div\");\n    bk_div.innerHTML = output.data[HTML_MIME_TYPE];\n    var script_attrs = bk_div.children[0].attributes;\n    for (var i = 0; i < script_attrs.length; i++) {\n      toinsert[toinsert.length - 1].childNodes[1].setAttribute(script_attrs[i].name, script_attrs[i].value);\n    }\n    // store reference to server id on output_area\n    output_area._bokeh_server_id = output.metadata[EXEC_MIME_TYPE][\"server_id\"];\n  }\n}\n\n/**\n * Handle when an output is cleared or removed\n */\nfunction handle_clear_output(event, handle) {\n  var id = handle.cell.output_area._hv_plot_id;\n  var server_id = handle.cell.output_area._bokeh_server_id;\n  if (((id === undefined) || !(id in PyViz.plot_index)) && (server_id !== undefined)) { return; }\n  var comm = window.PyViz.comm_manager.get_client_comm(\"hv-extension-comm\", \"hv-extension-comm\", function () {});\n  if (server_id !== null) {\n    comm.send({event_type: 'server_delete', 'id': server_id});\n    return;\n  } else if (comm !== null) {\n    comm.send({event_type: 'delete', 'id': id});\n  }\n  delete PyViz.plot_index[id];\n  if ((window.Bokeh !== undefined) & (id in window.Bokeh.index)) {\n    var doc = window.Bokeh.index[id].model.document\n    doc.clear();\n    const i = window.Bokeh.documents.indexOf(doc);\n    if (i > -1) {\n      window.Bokeh.documents.splice(i, 1);\n    }\n  }\n}\n\n/**\n * Handle kernel restart event\n */\nfunction handle_kernel_cleanup(event, handle) {\n  delete PyViz.comms[\"hv-extension-comm\"];\n  window.PyViz.plot_index = {}\n}\n\n/**\n * Handle update_display_data messages\n */\nfunction handle_update_output(event, handle) {\n  handle_clear_output(event, {cell: {output_area: handle.output_area}})\n  handle_add_output(event, handle)\n}\n\nfunction register_renderer(events, OutputArea) {\n  function append_mime(data, metadata, element) {\n    // create a DOM node to render to\n    var toinsert = this.create_output_subarea(\n    metadata,\n    CLASS_NAME,\n    EXEC_MIME_TYPE\n    );\n    this.keyboard_manager.register_events(toinsert);\n    // Render to node\n    var props = {data: data, metadata: metadata[EXEC_MIME_TYPE]};\n    render(props, toinsert[0]);\n    element.append(toinsert);\n    return toinsert\n  }\n\n  events.on('output_added.OutputArea', handle_add_output);\n  events.on('output_updated.OutputArea', handle_update_output);\n  events.on('clear_output.CodeCell', handle_clear_output);\n  events.on('delete.Cell', handle_clear_output);\n  events.on('kernel_ready.Kernel', handle_kernel_cleanup);\n\n  OutputArea.prototype.register_mime_type(EXEC_MIME_TYPE, append_mime, {\n    safe: true,\n    index: 0\n  });\n}\n\nif (window.Jupyter !== undefined) {\n  try {\n    var events = require('base/js/events');\n    var OutputArea = require('notebook/js/outputarea').OutputArea;\n    if (OutputArea.prototype.mime_types().indexOf(EXEC_MIME_TYPE) == -1) {\n      register_renderer(events, OutputArea);\n    }\n  } catch(err) {\n  }\n}\n",
      "application/vnd.holoviews_load.v0+json": ""
     },
     "metadata": {},
     "output_type": "display_data"
    },
    {
     "data": {
      "text/html": [
       "<style>*[data-root-id],\n",
       "*[data-root-id] > * {\n",
       "  box-sizing: border-box;\n",
       "  font-family: var(--jp-ui-font-family);\n",
       "  font-size: var(--jp-ui-font-size1);\n",
       "  color: var(--vscode-editor-foreground, var(--jp-ui-font-color1));\n",
       "}\n",
       "\n",
       "/* Override VSCode background color */\n",
       ".cell-output-ipywidget-background:has(\n",
       "    > .cell-output-ipywidget-background > .lm-Widget > *[data-root-id]\n",
       "  ),\n",
       ".cell-output-ipywidget-background:has(> .lm-Widget > *[data-root-id]) {\n",
       "  background-color: transparent !important;\n",
       "}\n",
       "</style>"
      ]
     },
     "metadata": {},
     "output_type": "display_data"
    },
    {
     "data": {
      "application/vnd.holoviews_exec.v0+json": "",
      "text/html": [
       "<div id='p1002'>\n",
       "  <div id=\"fdcf1f82-ba2b-49ca-9d09-bf5bb4772e61\" data-root-id=\"p1002\" style=\"display: contents;\"></div>\n",
       "</div>\n",
       "<script type=\"application/javascript\">(function(root) {\n",
       "  var docs_json = {\"62aa9e8d-1671-4048-8447-fd1be09a04f9\":{\"version\":\"3.3.4\",\"title\":\"Bokeh Application\",\"roots\":[{\"type\":\"object\",\"name\":\"panel.models.browser.BrowserInfo\",\"id\":\"p1002\"},{\"type\":\"object\",\"name\":\"panel.models.comm_manager.CommManager\",\"id\":\"p1003\",\"attributes\":{\"plot_id\":\"p1002\",\"comm_id\":\"abf5e1a284a8427c8ad1632e2d37df82\",\"client_comm_id\":\"41f0c7e4851c45f28e4e677f4dbfb827\"}}],\"defs\":[{\"type\":\"model\",\"name\":\"ReactiveHTML1\"},{\"type\":\"model\",\"name\":\"FlexBox1\",\"properties\":[{\"name\":\"align_content\",\"kind\":\"Any\",\"default\":\"flex-start\"},{\"name\":\"align_items\",\"kind\":\"Any\",\"default\":\"flex-start\"},{\"name\":\"flex_direction\",\"kind\":\"Any\",\"default\":\"row\"},{\"name\":\"flex_wrap\",\"kind\":\"Any\",\"default\":\"wrap\"},{\"name\":\"justify_content\",\"kind\":\"Any\",\"default\":\"flex-start\"}]},{\"type\":\"model\",\"name\":\"FloatPanel1\",\"properties\":[{\"name\":\"config\",\"kind\":\"Any\",\"default\":{\"type\":\"map\"}},{\"name\":\"contained\",\"kind\":\"Any\",\"default\":true},{\"name\":\"position\",\"kind\":\"Any\",\"default\":\"right-top\"},{\"name\":\"offsetx\",\"kind\":\"Any\",\"default\":null},{\"name\":\"offsety\",\"kind\":\"Any\",\"default\":null},{\"name\":\"theme\",\"kind\":\"Any\",\"default\":\"primary\"},{\"name\":\"status\",\"kind\":\"Any\",\"default\":\"normalized\"}]},{\"type\":\"model\",\"name\":\"GridStack1\",\"properties\":[{\"name\":\"mode\",\"kind\":\"Any\",\"default\":\"warn\"},{\"name\":\"ncols\",\"kind\":\"Any\",\"default\":null},{\"name\":\"nrows\",\"kind\":\"Any\",\"default\":null},{\"name\":\"allow_resize\",\"kind\":\"Any\",\"default\":true},{\"name\":\"allow_drag\",\"kind\":\"Any\",\"default\":true},{\"name\":\"state\",\"kind\":\"Any\",\"default\":[]}]},{\"type\":\"model\",\"name\":\"drag1\",\"properties\":[{\"name\":\"slider_width\",\"kind\":\"Any\",\"default\":5},{\"name\":\"slider_color\",\"kind\":\"Any\",\"default\":\"black\"},{\"name\":\"value\",\"kind\":\"Any\",\"default\":50}]},{\"type\":\"model\",\"name\":\"click1\",\"properties\":[{\"name\":\"terminal_output\",\"kind\":\"Any\",\"default\":\"\"},{\"name\":\"debug_name\",\"kind\":\"Any\",\"default\":\"\"},{\"name\":\"clears\",\"kind\":\"Any\",\"default\":0}]},{\"type\":\"model\",\"name\":\"copy_to_clipboard1\",\"properties\":[{\"name\":\"fill\",\"kind\":\"Any\",\"default\":\"none\"},{\"name\":\"value\",\"kind\":\"Any\",\"default\":null}]},{\"type\":\"model\",\"name\":\"FastWrapper1\",\"properties\":[{\"name\":\"object\",\"kind\":\"Any\",\"default\":null},{\"name\":\"style\",\"kind\":\"Any\",\"default\":null}]},{\"type\":\"model\",\"name\":\"NotificationAreaBase1\",\"properties\":[{\"name\":\"js_events\",\"kind\":\"Any\",\"default\":{\"type\":\"map\"}},{\"name\":\"position\",\"kind\":\"Any\",\"default\":\"bottom-right\"},{\"name\":\"_clear\",\"kind\":\"Any\",\"default\":0}]},{\"type\":\"model\",\"name\":\"NotificationArea1\",\"properties\":[{\"name\":\"js_events\",\"kind\":\"Any\",\"default\":{\"type\":\"map\"}},{\"name\":\"notifications\",\"kind\":\"Any\",\"default\":[]},{\"name\":\"position\",\"kind\":\"Any\",\"default\":\"bottom-right\"},{\"name\":\"_clear\",\"kind\":\"Any\",\"default\":0},{\"name\":\"types\",\"kind\":\"Any\",\"default\":[{\"type\":\"map\",\"entries\":[[\"type\",\"warning\"],[\"background\",\"#ffc107\"],[\"icon\",{\"type\":\"map\",\"entries\":[[\"className\",\"fas fa-exclamation-triangle\"],[\"tagName\",\"i\"],[\"color\",\"white\"]]}]]},{\"type\":\"map\",\"entries\":[[\"type\",\"info\"],[\"background\",\"#007bff\"],[\"icon\",{\"type\":\"map\",\"entries\":[[\"className\",\"fas fa-info-circle\"],[\"tagName\",\"i\"],[\"color\",\"white\"]]}]]}]}]},{\"type\":\"model\",\"name\":\"Notification\",\"properties\":[{\"name\":\"background\",\"kind\":\"Any\",\"default\":null},{\"name\":\"duration\",\"kind\":\"Any\",\"default\":3000},{\"name\":\"icon\",\"kind\":\"Any\",\"default\":null},{\"name\":\"message\",\"kind\":\"Any\",\"default\":\"\"},{\"name\":\"notification_type\",\"kind\":\"Any\",\"default\":null},{\"name\":\"_destroyed\",\"kind\":\"Any\",\"default\":false}]},{\"type\":\"model\",\"name\":\"TemplateActions1\",\"properties\":[{\"name\":\"open_modal\",\"kind\":\"Any\",\"default\":0},{\"name\":\"close_modal\",\"kind\":\"Any\",\"default\":0}]},{\"type\":\"model\",\"name\":\"BootstrapTemplateActions1\",\"properties\":[{\"name\":\"open_modal\",\"kind\":\"Any\",\"default\":0},{\"name\":\"close_modal\",\"kind\":\"Any\",\"default\":0}]},{\"type\":\"model\",\"name\":\"MaterialTemplateActions1\",\"properties\":[{\"name\":\"open_modal\",\"kind\":\"Any\",\"default\":0},{\"name\":\"close_modal\",\"kind\":\"Any\",\"default\":0}]}]}};\n",
       "  var render_items = [{\"docid\":\"62aa9e8d-1671-4048-8447-fd1be09a04f9\",\"roots\":{\"p1002\":\"fdcf1f82-ba2b-49ca-9d09-bf5bb4772e61\"},\"root_ids\":[\"p1002\"]}];\n",
       "  var docs = Object.values(docs_json)\n",
       "  if (!docs) {\n",
       "    return\n",
       "  }\n",
       "  const py_version = docs[0].version.replace('rc', '-rc.').replace('.dev', '-dev.')\n",
       "  function embed_document(root) {\n",
       "    var Bokeh = get_bokeh(root)\n",
       "    Bokeh.embed.embed_items_notebook(docs_json, render_items);\n",
       "    for (const render_item of render_items) {\n",
       "      for (const root_id of render_item.root_ids) {\n",
       "\tconst id_el = document.getElementById(root_id)\n",
       "\tif (id_el.children.length && (id_el.children[0].className === 'bk-root')) {\n",
       "\t  const root_el = id_el.children[0]\n",
       "\t  root_el.id = root_el.id + '-rendered'\n",
       "\t}\n",
       "      }\n",
       "    }\n",
       "  }\n",
       "  function get_bokeh(root) {\n",
       "    if (root.Bokeh === undefined) {\n",
       "      return null\n",
       "    } else if (root.Bokeh.version !== py_version) {\n",
       "      if (root.Bokeh.versions === undefined || !root.Bokeh.versions.has(py_version)) {\n",
       "\treturn null\n",
       "      }\n",
       "      return root.Bokeh.versions.get(py_version);\n",
       "    } else if (root.Bokeh.version === py_version) {\n",
       "      return root.Bokeh\n",
       "    }\n",
       "    return null\n",
       "  }\n",
       "  function is_loaded(root) {\n",
       "    var Bokeh = get_bokeh(root)\n",
       "    return (Bokeh != null && Bokeh.Panel !== undefined)\n",
       "  }\n",
       "  if (is_loaded(root)) {\n",
       "    embed_document(root);\n",
       "  } else {\n",
       "    var attempts = 0;\n",
       "    var timer = setInterval(function(root) {\n",
       "      if (is_loaded(root)) {\n",
       "        clearInterval(timer);\n",
       "        embed_document(root);\n",
       "      } else if (document.readyState == \"complete\") {\n",
       "        attempts++;\n",
       "        if (attempts > 200) {\n",
       "          clearInterval(timer);\n",
       "\t  var Bokeh = get_bokeh(root)\n",
       "\t  if (Bokeh == null || Bokeh.Panel == null) {\n",
       "            console.warn(\"Panel: ERROR: Unable to run Panel code because Bokeh or Panel library is missing\");\n",
       "\t  } else {\n",
       "\t    console.warn(\"Panel: WARNING: Attempting to render but not all required libraries could be resolved.\")\n",
       "\t    embed_document(root)\n",
       "\t  }\n",
       "        }\n",
       "      }\n",
       "    }, 25, root)\n",
       "  }\n",
       "})(window);</script>"
      ]
     },
     "metadata": {
      "application/vnd.holoviews_exec.v0+json": {
       "id": "p1002"
      }
     },
     "output_type": "display_data"
    },
    {
     "data": {
      "text/html": [
       "\n",
       "<div class=\"logo-block\">\n",
       "<img src='data:image/png;base64,iVBORw0KGgoAAAANSUhEUgAAAEAAAABACAYAAACqaXHeAAAABHNCSVQICAgIfAhkiAAAAAlwSFlz\n",
       "AAAB+wAAAfsBxc2miwAAABl0RVh0U29mdHdhcmUAd3d3Lmlua3NjYXBlLm9yZ5vuPBoAAA6zSURB\n",
       "VHic7ZtpeFRVmsf/5966taWqUlUJ2UioBBJiIBAwCZtog9IOgjqACsogKtqirT2ttt069nQ/zDzt\n",
       "tI4+CrJIREFaFgWhBXpUNhHZQoKBkIUASchWla1S+3ar7r1nPkDaCAnZKoQP/D7mnPOe9/xy76n3\n",
       "nFSAW9ziFoPFNED2LLK5wcyBDObkb8ZkxuaoSYlI6ZcOKq1eWFdedqNzGHQBk9RMEwFAASkk0Xw3\n",
       "ETacDNi2vtvc7L0ROdw0AjoSotQVkKSvHQz/wRO1lScGModBFbDMaNRN1A4tUBCS3lk7BWhQkgpD\n",
       "lG4852/+7DWr1R3uHAZVQDsbh6ZPN7CyxUrCzJMRouusj0ipRwD2uKm0Zn5d2dFwzX1TCGhnmdGo\n",
       "G62Nna+isiUqhkzuKrkQaJlPEv5mFl2fvGg2t/VnzkEV8F5ioioOEWkLG86fvbpthynjdhXYZziQ\n",
       "x1hC9J2NFyi8vCTt91Fh04KGip0AaG9zuCk2wQCVyoNU3Hjezee9bq92duzzTmxsRJoy+jEZZZYo\n",
       "GTKJ6SJngdJqAfRzpze0+jHreUtPc7gpBLQnIYK6BYp/uGhw9YK688eu7v95ysgshcg9qSLMo3JC\n",
       "4jqLKQFBgdKDPoQ+Pltb8dUyQLpeDjeVgI6EgLIQFT5tEl3rn2losHVsexbZ3EyT9wE1uGdkIPcy\n",
       "BGxn8QUq1QrA5nqW5i2tLqvrrM9NK6AdkVIvL9E9bZL/oyfMVd/jqvc8LylzRBKDJSzIExwhQzuL\n",
       "QYGQj4rHfFTc8mUdu3E7yoLtbTe9gI4EqVgVkug2i5+uXGo919ixbRog+3fTbQ8qJe4ZOYNfMoTI\n",
       "OoshUNosgO60AisX15aeI2PSIp5KiFLI9ubb1vV3Qb2ltwLakUCDAkWX7/nHKRmmGIl9VgYsUhJm\n",
       "2NXjKYADtM1ygne9QQDIXlk49FBstMKx66D1v4+XuQr7vqTe0VcBHQlRWiOCbmmSYe2SqtL6q5rJ\n",
       "zsTb7lKx3FKOYC4DoqyS/B5bvLPxvD9Qtf6saxYLQGJErmDOdOMr/zo96km1nElr8bmPOBwI9COv\n",
       "HnFPRIwmkSOv9kcAS4heRsidOkpeWBgZM+UBrTFAXNYL5Vf2ii9c1trNzpYdaoVil3WIc+wdk+gQ\n",
       "noie3ecCcxt9ITcLAPWt/laGEO/9U6PmzZkenTtsSMQ8uYywJVW+grCstAvCIaAdArAsIWkRDDs/\n",
       "KzLm2YcjY1Lv0UdW73HabE9n6V66cxSzfEmuJssTpKGVp+0vHq73FwL46eOjpMpbRAnNmJFrGJNu\n",
       "Ukf9Yrz+3rghiumCKNXXWPhLYcjxGsIpoCMsIRoFITkW8AuyM8jC1+/QLx4bozCEJIq38+1rtpR6\n",
       "V/yzb8eBlRb3fo5l783N0CWolAzJHaVNzkrTzlEp2bQ2q3TC5gn6wpnoQAmwSiGh2GitnTmVMc5O\n",
       "UyfKWUKCIsU7+fZDKwqdT6DDpvkzAX4/+AMFjk0tDp5GRXLpQ2MUmhgDp5gxQT8+Y7hyPsMi8uxF\n",
       "71H0oebujHALECjFKaW9Lm68n18wXp2kVzIcABytD5iXFzg+WVXkegpAsOOYziqo0OkK76GyquC3\n",
       "ltZAzMhhqlSNmmWTE5T6e3IN05ITFLM4GdN0vtZ3ob8Jh1NAKXFbm5PtLU/eqTSlGjkNAJjdgn/N\n",
       "aedXa0tdi7+t9G0FIF49rtMSEgAs1kDLkTPO7ebm4IUWeyh1bKomXqlgMG6kJmHcSM0clYLJ8XtR\n",
       "1GTnbV3F6I5wCGikAb402npp1h1s7LQUZZSMIfALFOuL3UUrfnS8+rez7v9qcold5tilgHbO1fjK\n",
       "9ubb17u9oshxzMiUBKXWqJNxd+fqb0tLVs4lILFnK71H0Ind7uiPgACVcFJlrb0tV6DzxqqTIhUM\n",
       "CwDf1/rrVhTa33/3pGPxJYdQ2l2cbgVcQSosdx8uqnDtbGjh9SlDVSMNWhlnilfqZk42Th2ZpLpf\n",
       "xrHec5e815zrr0dfBZSwzkZfqsv+1FS1KUknUwPARVvItfKUY+cn57yP7qv07UE3p8B2uhUwLk09\n",
       "e0SCOrK+hbdYHYLjRIl71wWzv9jpEoeOHhGRrJAzyEyNiJuUqX0g2sBN5kGK6y2Blp5M3lsB9Qh4\n",
       "y2Ja6x6+i0ucmKgwMATwhSjdUu49tKrQ/pvN5d53ml2CGwCmJipmKjgmyuaXzNeL2a0AkQ01Th5j\n",
       "2DktO3Jyk8f9vcOBQHV94OK+fPumJmvQHxJoWkaKWq9Vs+yUsbq0zGT1I4RgeH2b5wef7+c7bl8F\n",
       "eKgoHVVZa8ZPEORzR6sT1BzDUAD/d9F78e2Tzv99v8D+fLVTqAKAsbGamKey1Mt9Ann4eH3gTXTz\n",
       "idWtAJ8PQWOk7NzSeQn/OTHDuEikVF1R4z8BQCy+6D1aWRfY0tTGG2OM8rRoPaeIj5ZHzJxszElN\n",
       "VM8K8JS5WOfv8mzRnQAKoEhmt8gyPM4lU9SmBK1MCQBnW4KONT86v1hZ1PbwSXPw4JWussVjtH9Y\n",
       "NCoiL9UoH/6PSu8jFrfY2t36erQHXLIEakMi1SydmzB31h3GGXFDFNPaK8Rme9B79Ixrd0WN+1ij\n",
       "NRQ/doRmuFLBkHSTOm5GruG+pFjFdAmorG4IXH1Qua6ASniclfFtDYt+oUjKipPrCQB7QBQ2lrgP\n",
       "fFzm+9XWUtcqJ3/5vDLDpJ79XHZk3u8nGZ42qlj1+ydtbxysCezrydp6ugmipNJ7WBPB5tydY0jP\n",
       "HaVNzs3QzeE4ZpTbI+ZbnSFPbVOw9vsfnVvqWnirPyCNGD08IlqtYkh2hjZ5dErEQzoNm+6ykyOt\n",
       "Lt5/PQEuSRRKo22VkydK+vvS1XEKlhCJAnsqvcVvH7f/ZU2R67eXbMEGAMiIV5oWZWiWvz5Fv2xG\n",
       "sjqNJQRvn3Rs2lji/lNP19VjAQDgD7FHhujZB9OGqYxRkZxixgRDVlqS6uEOFaJUVu0rPFzctrnF\n",
       "JqijImVp8dEKVWyUXDk92zAuMZ6bFwpBU1HrOw6AdhQgUooChb0+ItMbWJitSo5Ws3IAOGEOtL53\n",
       "0vHZih9sC4vtofZ7Qu6523V/fmGcds1TY3V36pUsBwAbSlxnVh2xLfAD/IAIMDf7XYIkNmXfpp2l\n",
       "18rkAJAy9HKFaIr/qULkeQQKy9zf1JgDB2uaeFNGijo5QsUyacNUUTOnGO42xSnv4oOwpDi1zYkc\n",
       "efUc3I5Gk6PhyTuVKaOGyLUAYPGIoY9Pu/atL/L92+4q9wbflRJ2Trpm/jPjdBtfnqB/dIThcl8A\n",
       "KG7hbRuKnb8qsQsVvVlTrwQAQMUlf3kwJI24Z4JhPMtcfng5GcH49GsrxJpGvvHIaeem2ma+KSjQ\n",
       "lIwUdYyCY8j4dE1KzijNnIP2llF2wcXNnsoapw9XxsgYAl6k+KzUXbi2yP3KR2ecf6z3BFsBICdW\n",
       "nvnIaG3eHybqX7vbpEqUMT+9OL4Qpe8VON7dXuFd39v19FoAABRVePbGGuXTszO0P7tu6lghUonE\n",
       "llRdrhArLvmKdh9u29jcFiRRkfLUxBiFNiqSU9icoZQHo5mYBI1MBgBH6wMNb+U7Pnw337H4gi1Y\n",
       "ciWs+uks3Z9fztUvfzxTm9Ne8XXkvQLHNytOOZeiD4e0PgkAIAYCYknKUNUDSXEKzdWNpnil7r4p\n",
       "xqkjTarZMtk/K8TQ6Qve78qqvXurGwIJqcOUKfUWHsm8KGvxSP68YudXq4pcj39X49uOK2X142O0\n",
       "Tz5/u/7TVybqH0rSya6ZBwD21/gubbrgWdDgEOx9WUhfBaC2ibcEBYm7a7x+ukrBMNcEZggyR0TE\n",
       "T8zUPjikQ4VosQZbTpS4vqizBKvqmvjsqnpfzaZyx9JPiz1/bfGKdgD45XB1zoIMzYbfTdS/NClB\n",
       "Gct0USiY3YL/g0LHy/uq/Ef6uo5+n0R/vyhp17Klpge763f8rMu6YU/zrn2nml+2WtH+Z+5IAAFc\n",
       "2bUTdTDOSNa9+cQY7YLsOIXhevEkCvzph7a8laecz/Un/z4/Ae04XeL3UQb57IwU9ZDr9UuKVajv\n",
       "nxp1+1UVIo/LjztZkKH59fO3G/JemqCfmaCRqbqbd90ZZ8FfjtkfAyD0J/9+C2h1hDwsSxvGjNDc\n",
       "b4zk5NfrSwiQblLHzZhg+Jf4aPlUwpDqkQqa9nimbt1/TDH8OitGMaQnj+RJS6B1fbF7SY1TqO5v\n",
       "/v0WAADl1f7zokgS7s7VT2DZ7pegUjBM7mjtiDZbcN4j0YrHH0rXpCtY0qPX0cVL0rv5jv/ZXend\n",
       "0u/EESYBAFBU4T4Qa5TflZOhTe7pmKpaP8kCVUVw1+yhXfJWvn1P3hnXi33JsTN6PnP3hHZ8Z3/h\n",
       "aLHzmkNPuPj7Bc/F/Q38CwjTpSwQXgE4Vmwry9tpfq/ZFgqFMy4AVDtCvi8rvMvOmv0N4YwbVgEA\n",
       "sPM72/KVnzfspmH7HQGCRLG2yL1+z8XwvPcdCbsAANh+xPzstgMtxeGKt+6MK3/tacfvwhWvIwMi\n",
       "oKEBtm0H7W+UVfkc/Y1V0BhoPlDr/w1w/eu1vjIgAgDg22OtX6/eYfnEz/focrZTHAFR+PSs56/7\n",
       "q32nwpjazxgwAQCwcU/T62t3WL7r6/jVRa6/byp1rei+Z98ZUAEAhEPHPc8fKnTU9nbgtnOe8h0l\n",
       "9hcGIqmODLQAHCy2Xti6v/XNRivf43f4fFvIteu854+VHnR7q9tfBlwAAGz+pnndB9vM26UebAe8\n",
       "SLHujPOTPVW+rwY+sxskAAC2HrA8t2Vvc7ffP1r9o+vwR2dcr92InIAbKKC1FZ5tB1tf+/G8p8sv\n",
       "N/9Q5zd/XR34LYCwV5JdccMEAMDBk45DH243r/X4xGvqxFa/GNpS7n6rwOwNWwHVE26oAADYurf1\n",
       "zx/utOzt+DMKYM0p17YtZZ5VNzqfsB2HewG1WXE8PoZ7gOclbTIvynZf9JV+fqZtfgs/8F/Nu5rB\n",
       "EIBmJ+8QRMmpU7EzGRsf2FzuePqYRbzh/zE26EwdrT10f6r6o8HOYzCJB9Dpff8tbnGLG8L/A/WE\n",
       "roTBs2RqAAAAAElFTkSuQmCC'\n",
       "     style='height:25px; border-radius:12px; display: inline-block; float: left; vertical-align: middle'></img>\n",
       "\n",
       "\n",
       "  <img src='data:image/png;base64,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'\n",
       "       style='height:15px; border-radius:12px; display: inline-block; float: left'></img>\n",
       "  \n",
       "\n",
       "\n",
       "\n",
       "\n",
       "</div>\n"
      ]
     },
     "metadata": {},
     "output_type": "display_data"
    }
   ],
   "source": [
    "import os\n",
    "import numpy as np\n",
    "import pandas as pd\n",
    "import json\n",
    "import seaborn as sns\n",
    "import matplotlib.pyplot as plt\n",
    "import matplotlib as mpl\n",
    "from matplotlib.colors import LogNorm\n",
    "import pickle\n",
    "\n",
    "\n",
    "font = {'family' : 'arial',\n",
    "        'size'   : 16}\n",
    "mpl.rc('font', **font)\n",
    "mpl.rc('lines', linewidth=2)\n",
    "mpl.rcParams['axes.linewidth'] = 2\n",
    "mpl.rcParams['xtick.major.width'] = 2\n",
    "mpl.rcParams['ytick.major.width'] = 2\n",
    "\n",
    "# General imports\n",
    "import glob\n",
    "import os\n",
    "import re\n",
    "import pickle\n",
    "import datetime\n",
    "\n",
    "# Data manipulation\n",
    "#import growth_analysis as ga\n",
    "import pandas as pd\n",
    "#from multiprocesspandas import applyparallel\n",
    "import numpy as np\n",
    "from sklearn.impute import KNNImputer\n",
    "\n",
    "# Basic plotting\n",
    "import holoviews as hv\n",
    "import bokeh\n",
    "from bokeh.io import export_svg\n",
    "from bokeh.models import NumeralTickFormatter\n",
    "\n",
    "from bokeh.themes.theme import Theme\n",
    "\n",
    "import panel as pn\n",
    "pn.config.comms = \"vscode\"\n",
    "\n",
    "# Making graphs\n",
    "import matplotlib.pyplot as plt\n",
    "import itertools\n",
    "import tqdm\n",
    "from multiprocessing import Pool\n",
    "from operator import itemgetter\n",
    "\n",
    "hv.extension('bokeh')"
   ]
  },
  {
   "cell_type": "markdown",
   "metadata": {},
   "source": [
    "### Load the optimization results"
   ]
  },
  {
   "cell_type": "code",
   "execution_count": 26,
   "metadata": {},
   "outputs": [
    {
     "data": {
      "text/plain": [
       "array({'top_seqs': array([[[[[['KES', 'KET', 'KEQ', ..., 'LES', 'VES', 'MES'],\n",
       "           ['REW', 'REV', 'RET', ..., 'QEQ', 'LEC', 'RDQ'],\n",
       "           ['IEA', 'TES', 'LEM', ..., 'YEF', 'REF', 'CEA'],\n",
       "           ...,\n",
       "           ['RET', 'NEF', 'CES', ..., 'VDV', 'CEV', 'YDQ'],\n",
       "           ['TDM', 'YDV', 'FDM', ..., 'IDT', 'VDS', 'GDV'],\n",
       "           ['FEM', 'VEM', 'VEW', ..., 'KEF', 'MDQ', 'TET']]]],\n",
       "\n",
       "\n",
       "\n",
       "        [[[['KEV', 'NEV', 'KEW', ..., 'RET', 'FEF', 'IES'],\n",
       "           ['LEV', 'KEV', 'LEM', ..., 'YEG', 'KEA', 'TEY'],\n",
       "           ['TEQ', 'TEV', 'YEQ', ..., 'HES', 'CEF', 'DEM'],\n",
       "           ...,\n",
       "           ['TEW', 'TEV', 'KEW', ..., 'IET', 'HDV', 'NDV'],\n",
       "           ['KEM', 'KEV', 'TEM', ..., 'CEQ', 'GEA', 'QEQ'],\n",
       "           ['TDQ', 'TDM', 'KDQ', ..., 'TDR', 'IDA', 'CDA']]]]]],\n",
       "      dtype='<U3'), 'maxes': array([[[[[1.        , 1.        , 1.        , 1.        , 0.98555511,\n",
       "           1.        , 1.        , 1.        , 1.        , 0.99653688,\n",
       "           0.99653688, 0.86553772, 0.98555511, 1.        , 1.        ,\n",
       "           1.        , 0.87359575, 0.86553772, 1.        , 0.86553772,\n",
       "           1.        , 1.        , 1.        , 0.98253018, 1.        ,\n",
       "           1.        , 1.        , 1.        , 1.        , 1.        ,\n",
       "           0.98555511, 0.98555511, 1.        , 1.        , 0.98555511,\n",
       "           1.        , 0.99653688, 1.        , 1.        , 1.        ,\n",
       "           0.99653688, 0.98555511, 1.        , 0.99653688, 1.        ,\n",
       "           1.        , 1.        , 1.        , 1.        , 1.        ,\n",
       "           1.        , 1.        , 1.        , 1.        , 0.99653688,\n",
       "           0.99653688, 1.        , 0.86553772, 0.99653688, 0.86553772,\n",
       "           0.98253018, 1.        , 1.        , 1.        , 0.86553772,\n",
       "           1.        , 1.        , 1.        , 1.        , 1.        ,\n",
       "           1.        , 1.        , 1.        , 1.        , 1.        ,\n",
       "           1.        , 0.99653688, 1.        , 1.        , 0.86553772,\n",
       "           0.99653688, 1.        , 1.        , 0.99653688, 1.        ,\n",
       "           0.99653688, 0.86553772, 1.        , 0.99653688, 0.98555511,\n",
       "           1.        , 0.86553772, 1.        , 0.86553772, 1.        ,\n",
       "           0.86553772, 0.99653688, 1.        , 0.86553772, 0.87359575]]],\n",
       "\n",
       "\n",
       "        [[[1.        , 1.        , 1.        , 1.        , 1.        ,\n",
       "           1.        , 1.        , 1.        , 1.        , 1.        ,\n",
       "           1.        , 1.        , 1.        , 1.        , 1.        ,\n",
       "           1.        , 1.        , 1.        , 1.        , 1.        ,\n",
       "           1.        , 1.        , 1.        , 1.        , 1.        ,\n",
       "           1.        , 1.        , 1.        , 1.        , 1.        ,\n",
       "           1.        , 1.        , 1.        , 1.        , 1.        ,\n",
       "           1.        , 1.        , 0.95900307, 1.        , 1.        ,\n",
       "           1.        , 0.99653688, 1.        , 1.        , 1.        ,\n",
       "           1.        , 1.        , 1.        , 1.        , 0.99653688,\n",
       "           1.        , 1.        , 1.        , 1.        , 1.        ,\n",
       "           1.        , 1.        , 1.        , 1.        , 1.        ,\n",
       "           1.        , 1.        , 1.        , 1.        , 1.        ,\n",
       "           1.        , 1.        , 1.        , 1.        , 1.        ,\n",
       "           1.        , 1.        , 1.        , 1.        , 1.        ,\n",
       "           1.        , 1.        , 1.        , 1.        , 1.        ,\n",
       "           1.        , 0.98253018, 1.        , 1.        , 1.        ,\n",
       "           1.        , 1.        , 1.        , 1.        , 1.        ,\n",
       "           1.        , 1.        , 1.        , 1.        , 1.        ,\n",
       "           1.        , 1.        , 1.        , 1.        , 1.        ]]]]]), 'means': array([[[[[0.56255167, 0.58492638, 0.57044841, 0.62790348, 0.5823869 ,\n",
       "           0.55323238, 0.63068551, 0.52123522, 0.67813848, 0.57861575,\n",
       "           0.57545032, 0.71767183, 0.55293526, 0.55765852, 0.56803492,\n",
       "           0.55774556, 0.72600166, 0.72314734, 0.74994484, 0.71458775,\n",
       "           0.58199251, 0.62620461, 0.50867879, 0.56461391, 0.66519415,\n",
       "           0.58912214, 0.65698673, 0.60196157, 0.50628078, 0.51591046,\n",
       "           0.61147741, 0.57441525, 0.58889702, 0.59792426, 0.58239004,\n",
       "           0.58343486, 0.57885762, 0.62665797, 0.5977839 , 0.58377108,\n",
       "           0.56015675, 0.54827929, 0.56575439, 0.59289916, 0.57646464,\n",
       "           0.5702873 , 0.5210225 , 0.57831658, 0.59991134, 0.61038284,\n",
       "           0.5496264 , 0.55862912, 0.56805459, 0.59968279, 0.57414666,\n",
       "           0.70673358, 0.62461068, 0.72178956, 0.67117764, 0.72249051,\n",
       "           0.58614246, 0.64756585, 0.59194625, 0.57423009, 0.71687771,\n",
       "           0.59666126, 0.65659896, 0.58541182, 0.59158335, 0.61267516,\n",
       "           0.56588795, 0.59495236, 0.52013803, 0.61480948, 0.64508256,\n",
       "           0.5941735 , 0.60614655, 0.63582944, 0.60899229, 0.70677553,\n",
       "           0.63998211, 0.65154332, 0.60685633, 0.54486861, 0.58309153,\n",
       "           0.6578663 , 0.71778502, 0.59174461, 0.56779073, 0.56248442,\n",
       "           0.54883359, 0.71265669, 0.56647087, 0.71791206, 0.61393042,\n",
       "           0.66574356, 0.55414841, 0.58742709, 0.7172758 , 0.57639934]]],\n",
       "\n",
       "\n",
       "        [[[0.60333225, 0.61260112, 0.61560835, 0.56222213, 0.68953098,\n",
       "           0.64714025, 0.59983195, 0.56383092, 0.66730306, 0.61850078,\n",
       "           0.60515426, 0.62922731, 0.62946009, 0.59348471, 0.62078829,\n",
       "           0.592201  , 0.63745514, 0.58845912, 0.63033311, 0.6395143 ,\n",
       "           0.57780627, 0.60190498, 0.62233551, 0.67185904, 0.62814293,\n",
       "           0.67832358, 0.59591929, 0.6092455 , 0.6131458 , 0.64337269,\n",
       "           0.58822966, 0.60256541, 0.60923747, 0.66356433, 0.62488171,\n",
       "           0.67768258, 0.67115899, 0.65614021, 0.6669728 , 0.57126038,\n",
       "           0.6382769 , 0.69023241, 0.63797541, 0.63210986, 0.65345396,\n",
       "           0.64092427, 0.59553692, 0.56844095, 0.58677216, 0.5780311 ,\n",
       "           0.59738471, 0.57506014, 0.58136636, 0.66071859, 0.64527379,\n",
       "           0.58188868, 0.66396758, 0.64609013, 0.57206573, 0.63708858,\n",
       "           0.61854406, 0.63570569, 0.57633861, 0.5962347 , 0.66900491,\n",
       "           0.69602354, 0.60513118, 0.62490513, 0.57696108, 0.55705336,\n",
       "           0.62413987, 0.64686282, 0.63471355, 0.65214196, 0.66402623,\n",
       "           0.56102822, 0.58904771, 0.59915816, 0.64067196, 0.60893386,\n",
       "           0.6323107 , 0.64003937, 0.57826523, 0.61262124, 0.61928442,\n",
       "           0.6229028 , 0.64568459, 0.56447928, 0.61505283, 0.61501571,\n",
       "           0.60164203, 0.60905538, 0.64726319, 0.63806889, 0.63781295,\n",
       "           0.61366524, 0.65837692, 0.62806631, 0.59971703, 0.73241048]]]]]), 'ndcgs': array([[[[[0.92715596, 0.9187948 , 0.91294238, 0.9237694 , 0.92978563,\n",
       "           0.91810657, 0.92683538, 0.91515341, 0.95794192, 0.92944312,\n",
       "           0.92310005, 0.96643992, 0.91702405, 0.91712388, 0.9123976 ,\n",
       "           0.90827124, 0.96712202, 0.95979866, 0.9695101 , 0.94013984,\n",
       "           0.91859771, 0.93627309, 0.90849834, 0.93185876, 0.94774818,\n",
       "           0.91060088, 0.94497175, 0.92919985, 0.90438239, 0.90951745,\n",
       "           0.93268018, 0.91628159, 0.92417272, 0.92219666, 0.92687168,\n",
       "           0.9261711 , 0.91770739, 0.91911958, 0.93007989, 0.90942334,\n",
       "           0.92059666, 0.9293179 , 0.92002454, 0.93101008, 0.92895575,\n",
       "           0.90201954, 0.91267604, 0.91325142, 0.9141732 , 0.93037372,\n",
       "           0.9144724 , 0.9137666 , 0.90291035, 0.92644015, 0.91335534,\n",
       "           0.96204033, 0.92031299, 0.96403784, 0.94154701, 0.95216005,\n",
       "           0.92814895, 0.93397849, 0.92630465, 0.91615777, 0.95729465,\n",
       "           0.91738783, 0.91890376, 0.92592411, 0.91890249, 0.93563964,\n",
       "           0.93162653, 0.92185237, 0.90814657, 0.93074061, 0.94661566,\n",
       "           0.90807789, 0.93806091, 0.92897838, 0.92693174, 0.95982662,\n",
       "           0.93206044, 0.93427739, 0.93040248, 0.93496574, 0.92115675,\n",
       "           0.94788227, 0.95942043, 0.91882707, 0.91765526, 0.9167481 ,\n",
       "           0.91547871, 0.96187689, 0.91242218, 0.94791004, 0.93904135,\n",
       "           0.95444758, 0.91766166, 0.91766423, 0.9540824 , 0.92886112]]],\n",
       "\n",
       "\n",
       "        [[[0.93362534, 0.93160535, 0.92785596, 0.91826898, 0.9544762 ,\n",
       "           0.94033134, 0.92526768, 0.9108453 , 0.94660418, 0.93805837,\n",
       "           0.93833495, 0.92844894, 0.93121706, 0.92136212, 0.93621361,\n",
       "           0.93240013, 0.93800031, 0.92799215, 0.94707269, 0.94300138,\n",
       "           0.93390239, 0.91292068, 0.93858279, 0.95158501, 0.93268077,\n",
       "           0.93528389, 0.9192154 , 0.92689243, 0.93326621, 0.9372779 ,\n",
       "           0.92537749, 0.93014796, 0.93608183, 0.94542809, 0.93214176,\n",
       "           0.95275734, 0.93951367, 0.94038628, 0.94707159, 0.93016842,\n",
       "           0.94418681, 0.95320172, 0.9261715 , 0.94060757, 0.93632677,\n",
       "           0.93446412, 0.93396439, 0.9234737 , 0.92581055, 0.92410349,\n",
       "           0.9186973 , 0.91685865, 0.92983995, 0.93841458, 0.94114006,\n",
       "           0.92248916, 0.93727837, 0.94205016, 0.92828805, 0.94032801,\n",
       "           0.93141658, 0.93095113, 0.93386849, 0.91931983, 0.94944065,\n",
       "           0.95282782, 0.92333172, 0.9230315 , 0.92186422, 0.92316425,\n",
       "           0.94401928, 0.93490193, 0.93781669, 0.94175572, 0.94631668,\n",
       "           0.91552753, 0.93204423, 0.92056948, 0.93565616, 0.93043284,\n",
       "           0.94924568, 0.93915654, 0.92083355, 0.940775  , 0.94117573,\n",
       "           0.93121985, 0.92944954, 0.91994229, 0.94110478, 0.93295726,\n",
       "           0.92928481, 0.93517728, 0.93963442, 0.94343572, 0.94789267,\n",
       "           0.94356197, 0.93977788, 0.93048409, 0.9411431 , 0.95703408]]]]]), 'rhos': array([[[[[0.76499349, 0.76136634, 0.76531197, 0.7894717 , 0.7969003 ,\n",
       "           0.76551661, 0.78782792, 0.7775293 , 0.80810219, 0.78057594,\n",
       "           0.78949623, 0.82209779, 0.76765658, 0.76315692, 0.77600907,\n",
       "           0.77019248, 0.79712547, 0.78432325, 0.84364941, 0.75129926,\n",
       "           0.76100739, 0.77871238, 0.77987075, 0.78737822, 0.79342371,\n",
       "           0.77055657, 0.78831008, 0.78349713, 0.75855418, 0.76410175,\n",
       "           0.78182465, 0.76098301, 0.77009609, 0.77124887, 0.77391834,\n",
       "           0.77764289, 0.77048625, 0.78389435, 0.76766902, 0.76037994,\n",
       "           0.7747881 , 0.76738478, 0.77209824, 0.77770756, 0.7801545 ,\n",
       "           0.752336  , 0.77600329, 0.75979647, 0.76330855, 0.77370667,\n",
       "           0.7575032 , 0.77409219, 0.75721329, 0.78597377, 0.77643106,\n",
       "           0.80799504, 0.77267153, 0.7993011 , 0.78185888, 0.76222952,\n",
       "           0.78579017, 0.77182476, 0.78594415, 0.7678813 , 0.78189273,\n",
       "           0.79279953, 0.77923152, 0.76958176, 0.76334431, 0.78273483,\n",
       "           0.78429967, 0.77916972, 0.77339075, 0.78831861, 0.81495135,\n",
       "           0.77208847, 0.79712108, 0.78436473, 0.77611927, 0.80638049,\n",
       "           0.77919039, 0.80244886, 0.78304152, 0.78664061, 0.77972121,\n",
       "           0.79182497, 0.79484797, 0.77238644, 0.75966151, 0.75925431,\n",
       "           0.76795595, 0.78808867, 0.77281085, 0.74727893, 0.78322709,\n",
       "           0.78585144, 0.78107744, 0.77832373, 0.75860932, 0.78441885]]],\n",
       "\n",
       "\n",
       "        [[[0.57072662, 0.58804709, 0.60055458, 0.62026758, 0.63568906,\n",
       "           0.61609982, 0.59853121, 0.60319263, 0.62838393, 0.61927302,\n",
       "           0.61470906, 0.5808144 , 0.62889887, 0.62041046, 0.6188057 ,\n",
       "           0.63198711, 0.61176985, 0.57299382, 0.59484701, 0.58802432,\n",
       "           0.63498617, 0.57614779, 0.62215649, 0.63407219, 0.60083413,\n",
       "           0.58915867, 0.55620316, 0.59205082, 0.6172511 , 0.58749638,\n",
       "           0.59196497, 0.57722088, 0.60384213, 0.64124999, 0.58657103,\n",
       "           0.60065367, 0.54514232, 0.58197108, 0.61688721, 0.58845549,\n",
       "           0.58608518, 0.58808518, 0.59598835, 0.59854557, 0.57323945,\n",
       "           0.62456484, 0.63215243, 0.5781232 , 0.55426372, 0.62175166,\n",
       "           0.60488218, 0.61938431, 0.60162236, 0.59182425, 0.63290622,\n",
       "           0.64910477, 0.56389059, 0.61787212, 0.61620619, 0.58141329,\n",
       "           0.5980921 , 0.59084332, 0.62520157, 0.59123632, 0.62690853,\n",
       "           0.59823337, 0.59844577, 0.58014172, 0.58680924, 0.6438107 ,\n",
       "           0.63177058, 0.60780271, 0.59551635, 0.59237559, 0.63573171,\n",
       "           0.61579223, 0.62443632, 0.57913745, 0.61902162, 0.62457033,\n",
       "           0.6104751 , 0.5702304 , 0.59164189, 0.60184682, 0.59661982,\n",
       "           0.6250168 , 0.59427904, 0.61989308, 0.60859163, 0.60645106,\n",
       "           0.60994882, 0.59815864, 0.6414522 , 0.63145187, 0.6069464 ,\n",
       "           0.61773766, 0.59046489, 0.60178054, 0.59350401, 0.58711784]]]]]), 'unique': array([[[[[384., 384., 384., 384., 384., 384., 384., 384., 384., 384.,\n",
       "           384., 384., 384., 384., 384., 384., 384., 384., 384., 384.,\n",
       "           384., 384., 384., 384., 384., 384., 384., 384., 384., 384.,\n",
       "           384., 384., 384., 384., 384., 384., 384., 384., 384., 384.,\n",
       "           384., 384., 384., 384., 384., 384., 384., 384., 384., 384.,\n",
       "           384., 384., 384., 384., 384., 384., 384., 384., 384., 384.,\n",
       "           384., 384., 384., 384., 384., 384., 384., 384., 384., 384.,\n",
       "           384., 384., 384., 384., 384., 384., 384., 384., 384., 384.,\n",
       "           384., 384., 384., 384., 384., 384., 384., 384., 384., 384.,\n",
       "           384., 384., 384., 384., 384., 384., 384., 384., 384., 384.]]],\n",
       "\n",
       "\n",
       "        [[[384., 384., 384., 384., 384., 384., 384., 384., 384., 384.,\n",
       "           384., 384., 384., 384., 384., 384., 384., 384., 384., 384.,\n",
       "           384., 384., 384., 384., 384., 384., 384., 384., 384., 384.,\n",
       "           384., 384., 384., 384., 384., 384., 384., 384., 384., 384.,\n",
       "           384., 384., 384., 384., 384., 384., 384., 384., 384., 384.,\n",
       "           384., 384., 384., 384., 384., 384., 384., 384., 384., 384.,\n",
       "           384., 384., 384., 384., 384., 384., 384., 384., 384., 384.,\n",
       "           384., 384., 384., 384., 384., 384., 384., 384., 384., 384.,\n",
       "           384., 384., 384., 384., 384., 384., 384., 384., 384., 384.,\n",
       "           384., 384., 384., 384., 384., 384., 384., 384., 384., 384.]]]]]), 'labelled': array([[[[[384., 384., 384., 384., 384., 384., 384., 384., 384., 384.,\n",
       "           384., 384., 384., 384., 384., 384., 384., 384., 384., 384.,\n",
       "           384., 384., 384., 384., 384., 384., 384., 384., 384., 384.,\n",
       "           384., 384., 384., 384., 384., 384., 384., 384., 384., 384.,\n",
       "           384., 384., 384., 384., 384., 384., 384., 384., 384., 384.,\n",
       "           384., 384., 384., 384., 384., 384., 384., 384., 384., 384.,\n",
       "           384., 384., 384., 384., 384., 384., 384., 384., 384., 384.,\n",
       "           384., 384., 384., 384., 384., 384., 384., 384., 384., 384.,\n",
       "           384., 384., 384., 384., 384., 384., 384., 384., 384., 384.,\n",
       "           384., 384., 384., 384., 384., 384., 384., 384., 384., 384.]]],\n",
       "\n",
       "\n",
       "        [[[384., 384., 384., 384., 384., 384., 384., 384., 384., 384.,\n",
       "           384., 384., 384., 384., 384., 384., 384., 384., 384., 384.,\n",
       "           384., 384., 384., 384., 384., 384., 384., 384., 384., 384.,\n",
       "           384., 384., 384., 384., 384., 384., 384., 384., 384., 384.,\n",
       "           384., 384., 384., 384., 384., 384., 384., 384., 384., 384.,\n",
       "           384., 384., 384., 384., 384., 384., 384., 384., 384., 384.,\n",
       "           384., 384., 384., 384., 384., 384., 384., 384., 384., 384.,\n",
       "           384., 384., 384., 384., 384., 384., 384., 384., 384., 384.,\n",
       "           384., 384., 384., 384., 384., 384., 384., 384., 384., 384.,\n",
       "           384., 384., 384., 384., 384., 384., 384., 384., 384., 384.]]]]]), 'y_preds': array([[[[[[ 0.12720679,  0.12596648,  0.10178082, ...,  0.2499064 ,\n",
       "             0.2023719 ,  0.18416618],\n",
       "           [ 0.12750573,  0.12689877,  0.11644482, ...,  0.21662267,\n",
       "             0.21961153,  0.14924881],\n",
       "           [ 0.12723517,  0.12662236,  0.12449349, ...,  0.20842894,\n",
       "             0.23149129,  0.15936008],\n",
       "           ...,\n",
       "           [ 0.12743266,  0.12654161,  0.12661065, ...,  0.24354675,\n",
       "             0.1757023 ,  0.17686161],\n",
       "           [ 0.12611895,  0.12600229,  0.12722896, ...,  0.31278989,\n",
       "             0.21618145,  0.1380414 ],\n",
       "           [ 0.12765028,  0.12720142,  0.12676669, ...,  0.22266713,\n",
       "             0.21577139,  0.13790585]]]],\n",
       "\n",
       "\n",
       "\n",
       "        [[[[ 0.17856698,  0.06260926, -0.06305399, ...,  0.40708873,\n",
       "             0.39617663,  0.30966751],\n",
       "           [ 0.10205223,  0.09840365, -0.07955594, ...,  0.43669658,\n",
       "             0.37534851,  0.32653696],\n",
       "           [ 0.12209773,  0.08578114, -0.05798595, ...,  0.44452205,\n",
       "             0.27710619,  0.29672559],\n",
       "           ...,\n",
       "           [ 0.16041099,  0.07221192,  0.03473812, ...,  0.34763739,\n",
       "             0.36052563,  0.24136776],\n",
       "           [ 0.18383717,  0.10597581, -0.01089788, ...,  0.37869311,\n",
       "             0.32428465,  0.2697399 ],\n",
       "           [ 0.18945763,  0.09596878, -0.0177564 , ...,  0.37315229,\n",
       "             0.32129475,  0.27802194]]]]]])}, dtype=object)"
      ]
     },
     "execution_count": 26,
     "metadata": {},
     "output_type": "execute_result"
    }
   ],
   "source": [
    "GB1 = np.load('results/mlde/saved/none/none-double/scale2max/DHFR/one-hot_boosting|ridge_sample384_top96.npy', allow_pickle=True)\n",
    "GB1"
   ]
  },
  {
   "cell_type": "code",
   "execution_count": 27,
   "metadata": {},
   "outputs": [
    {
     "data": {
      "text/plain": [
       "dict_keys(['top_seqs', 'maxes', 'means', 'ndcgs', 'rhos', 'unique', 'labelled', 'y_preds'])"
      ]
     },
     "execution_count": 27,
     "metadata": {},
     "output_type": "execute_result"
    }
   ],
   "source": [
    "GB1.item().keys()"
   ]
  },
  {
   "cell_type": "code",
   "execution_count": 28,
   "metadata": {},
   "outputs": [
    {
     "data": {
      "text/plain": [
       "((1, 2, 1, 1, 100),\n",
       " (1, 2, 1, 1, 100),\n",
       " (1, 2, 1, 1, 100, 96),\n",
       " (1, 2, 1, 1, 100, 8000))"
      ]
     },
     "execution_count": 28,
     "metadata": {},
     "output_type": "execute_result"
    }
   ],
   "source": [
    "GB1.item()[\"maxes\"].shape, GB1.item()[\"means\"].shape, GB1.item()[\"top_seqs\"].shape, GB1.item()[\"y_preds\"].shape"
   ]
  },
  {
   "cell_type": "code",
   "execution_count": 9,
   "metadata": {},
   "outputs": [
    {
     "data": {
      "text/plain": [
       "96"
      ]
     },
     "execution_count": 9,
     "metadata": {},
     "output_type": "execute_result"
    }
   ],
   "source": [
    "len(GB1.item()[\"top_seqs\"][0][0][0][0][0])"
   ]
  },
  {
   "cell_type": "code",
   "execution_count": 10,
   "metadata": {},
   "outputs": [
    {
     "data": {
      "text/plain": [
       "array(['K', 'K', 'R', 'K', 'R', 'R', 'K', 'R', 'R', 'L', 'K', 'I', 'R',\n",
       "       'R', 'R', 'R', 'R', 'R', 'R', 'R', 'R', 'R', 'R', 'K', 'K', 'K',\n",
       "       'K', 'K', 'K', 'K', 'K', 'T', 'K', 'K', 'K', 'R', 'K', 'R', 'K',\n",
       "       'K', 'K', 'S', 'I', 'K', 'K', 'V', 'K', 'K', 'K', 'K', 'K', 'K',\n",
       "       'K', 'K', 'K', 'K', 'M', 'K', 'K', 'K', 'Q', 'K', 'I', 'K', 'K',\n",
       "       'L', 'R', 'V', 'H', 'G', 'I', 'N', 'E', 'Q', 'H', 'D', 'C', 'F',\n",
       "       'Y', 'I', 'G', 'N', 'T', 'A', 'S', 'I', 'I', 'F', 'Y', 'C', 'L',\n",
       "       'I', 'I', 'I', 'I', 'I'], dtype='<U1')"
      ]
     },
     "execution_count": 10,
     "metadata": {},
     "output_type": "execute_result"
    }
   ],
   "source": [
    "GB1.item()[\"top_seqs\"][0][0][0][0][0]"
   ]
  },
  {
   "cell_type": "code",
   "execution_count": 16,
   "metadata": {},
   "outputs": [
    {
     "data": {
      "text/plain": [
       "(149361,)"
      ]
     },
     "execution_count": 16,
     "metadata": {},
     "output_type": "execute_result"
    }
   ],
   "source": [
    "GB1.item()[\"y_preds\"][0][0][0][0][0].shape"
   ]
  },
  {
   "cell_type": "code",
   "execution_count": 17,
   "metadata": {},
   "outputs": [
    {
     "data": {
      "text/plain": [
       "array([2.08620727e-02, 2.14897253e-02, 1.99265089e-02, ...,\n",
       "       1.50791050e-03, 7.08085317e-05, 5.46028794e-05])"
      ]
     },
     "execution_count": 17,
     "metadata": {},
     "output_type": "execute_result"
    }
   ],
   "source": [
    "GB1.item()[\"y_preds\"][0][0][0][0][0]"
   ]
  },
  {
   "cell_type": "code",
   "execution_count": 29,
   "metadata": {},
   "outputs": [
    {
     "data": {
      "text/plain": [
       "((1, 2, 1, 3, 100),\n",
       " (1, 2, 1, 3, 100),\n",
       " (1, 2, 1, 3, 100, 96),\n",
       " (1, 2, 1, 3, 100, 8000))"
      ]
     },
     "execution_count": 29,
     "metadata": {},
     "output_type": "execute_result"
    }
   ],
   "source": [
    "GB1_tri = np.load(\"results/mlde/saved/Triad_score/none-double/scale2max/DHFR/one-hot_boosting|ridge_sample384_top96.npy\", allow_pickle=True)\n",
    "GB1_tri.item()[\"maxes\"].shape, GB1_tri.item()[\"means\"].shape, GB1_tri.item()[\"top_seqs\"].shape, GB1_tri.item()[\"y_preds\"].shape"
   ]
  },
  {
   "cell_type": "code",
   "execution_count": 22,
   "metadata": {},
   "outputs": [
    {
     "data": {
      "text/plain": [
       "(1, 3, 100)"
      ]
     },
     "execution_count": 22,
     "metadata": {},
     "output_type": "execute_result"
    }
   ],
   "source": [
    "GB1_tri.item()[\"maxes\"][0][0].shape"
   ]
  },
  {
   "cell_type": "code",
   "execution_count": 23,
   "metadata": {},
   "outputs": [
    {
     "data": {
      "text/plain": [
       "array([0.99653688, 0.99653688, 0.86553772, 1.        , 0.99653688,\n",
       "       1.        , 1.        , 1.        , 1.        , 0.99653688,\n",
       "       1.        , 0.86553772, 0.87359575, 0.99653688, 0.99653688,\n",
       "       1.        , 1.        , 0.86553772, 0.99653688, 1.        ,\n",
       "       1.        , 1.        , 1.        , 1.        , 0.95900307,\n",
       "       1.        , 1.        , 1.        , 1.        , 1.        ,\n",
       "       1.        , 0.85784747, 1.        , 0.99653688, 1.        ,\n",
       "       0.87359575, 1.        , 0.99653688, 1.        , 0.99653688,\n",
       "       1.        , 0.98253018, 1.        , 0.85784747, 1.        ,\n",
       "       1.        , 0.99653688, 1.        , 0.86553772, 0.86553772,\n",
       "       1.        , 0.99653688, 0.99653688, 0.86553772, 1.        ,\n",
       "       1.        , 0.99653688, 0.99653688, 1.        , 0.98555511,\n",
       "       0.95900307, 1.        , 1.        , 1.        , 0.87359575,\n",
       "       1.        , 1.        , 1.        , 0.98253018, 1.        ,\n",
       "       1.        , 0.86553772, 1.        , 1.        , 1.        ,\n",
       "       1.        , 1.        , 1.        , 0.99653688, 0.99653688,\n",
       "       1.        , 0.99653688, 0.98555511, 1.        , 0.86553772,\n",
       "       1.        , 0.98253018, 0.99653688, 0.86553772, 1.        ,\n",
       "       0.86553772, 1.        , 0.85784747, 1.        , 0.88328995,\n",
       "       0.99653688, 1.        , 1.        , 1.        , 1.        ])"
      ]
     },
     "execution_count": 23,
     "metadata": {},
     "output_type": "execute_result"
    }
   ],
   "source": [
    "GB1_tri.item()[\"maxes\"][0][0][0][0]"
   ]
  },
  {
   "cell_type": "code",
   "execution_count": 24,
   "metadata": {},
   "outputs": [
    {
     "data": {
      "text/plain": [
       "array([0.99653688, 0.99653688, 0.86553772, 1.        , 0.99653688,\n",
       "       1.        , 1.        , 1.        , 1.        , 0.99653688,\n",
       "       1.        , 0.86553772, 0.87359575, 0.99653688, 0.99653688,\n",
       "       1.        , 1.        , 0.86553772, 0.99653688, 1.        ,\n",
       "       1.        , 1.        , 1.        , 1.        , 0.95900307,\n",
       "       1.        , 1.        , 1.        , 1.        , 1.        ,\n",
       "       1.        , 0.85784747, 1.        , 0.99653688, 1.        ,\n",
       "       0.87359575, 1.        , 0.99653688, 1.        , 0.99653688,\n",
       "       1.        , 0.98253018, 1.        , 0.85784747, 1.        ,\n",
       "       1.        , 0.99653688, 1.        , 0.86553772, 0.86553772,\n",
       "       1.        , 0.99653688, 0.99653688, 0.86553772, 1.        ,\n",
       "       1.        , 0.99653688, 0.99653688, 1.        , 0.98555511,\n",
       "       0.95900307, 1.        , 1.        , 1.        , 0.87359575,\n",
       "       1.        , 1.        , 1.        , 0.98253018, 1.        ,\n",
       "       1.        , 0.86553772, 1.        , 1.        , 1.        ,\n",
       "       1.        , 1.        , 1.        , 0.99653688, 0.99653688,\n",
       "       1.        , 0.99653688, 0.98555511, 1.        , 0.86553772,\n",
       "       1.        , 0.98253018, 0.99653688, 0.86553772, 1.        ,\n",
       "       0.86553772, 1.        , 0.85784747, 1.        , 0.88328995,\n",
       "       0.99653688, 1.        , 1.        , 1.        , 1.        ])"
      ]
     },
     "execution_count": 24,
     "metadata": {},
     "output_type": "execute_result"
    }
   ],
   "source": [
    "GB1_tri.item()[\"maxes\"][0][0][0][1]"
   ]
  },
  {
   "cell_type": "code",
   "execution_count": 25,
   "metadata": {},
   "outputs": [
    {
     "data": {
      "text/plain": [
       "array([0.99653688, 0.99653688, 0.86553772, 1.        , 0.99653688,\n",
       "       1.        , 1.        , 1.        , 1.        , 0.99653688,\n",
       "       1.        , 0.86553772, 0.87359575, 0.99653688, 0.99653688,\n",
       "       1.        , 1.        , 0.86553772, 0.99653688, 1.        ,\n",
       "       1.        , 1.        , 1.        , 1.        , 0.95900307,\n",
       "       1.        , 1.        , 1.        , 1.        , 1.        ,\n",
       "       1.        , 0.85784747, 1.        , 0.99653688, 1.        ,\n",
       "       0.87359575, 1.        , 0.99653688, 1.        , 0.99653688,\n",
       "       1.        , 0.98253018, 1.        , 0.85784747, 1.        ,\n",
       "       1.        , 0.99653688, 1.        , 0.86553772, 0.86553772,\n",
       "       1.        , 0.99653688, 0.99653688, 0.86553772, 1.        ,\n",
       "       1.        , 0.99653688, 0.99653688, 1.        , 0.98555511,\n",
       "       0.95900307, 1.        , 1.        , 1.        , 0.87359575,\n",
       "       1.        , 1.        , 1.        , 0.98253018, 1.        ,\n",
       "       1.        , 0.86553772, 1.        , 1.        , 1.        ,\n",
       "       1.        , 1.        , 1.        , 0.99653688, 0.99653688,\n",
       "       1.        , 0.99653688, 0.98555511, 1.        , 0.86553772,\n",
       "       1.        , 0.98253018, 0.99653688, 0.86553772, 1.        ,\n",
       "       0.86553772, 1.        , 0.85784747, 1.        , 0.88328995,\n",
       "       0.99653688, 1.        , 1.        , 1.        , 1.        ])"
      ]
     },
     "execution_count": 25,
     "metadata": {},
     "output_type": "execute_result"
    }
   ],
   "source": [
    "GB1_tri.item()[\"maxes\"][0][0][0][2]"
   ]
  },
  {
   "cell_type": "code",
   "execution_count": 8,
   "metadata": {},
   "outputs": [
    {
     "data": {
      "text/plain": [
       "dict_keys(['top_seqs', 'maxes', 'means', 'ndcgs', 'unique', 'labelled', 'y_preds'])"
      ]
     },
     "execution_count": 8,
     "metadata": {},
     "output_type": "execute_result"
    }
   ],
   "source": [
    "gb1_d2m = np.load(\"results/mlde/saved/esm_score/none-single/scale2max/DHFR/one-hot_boosting|ridge_sample384_top96.npy\", allow_pickle=True)\n",
    "gb1_d2m.item().keys()"
   ]
  },
  {
   "cell_type": "code",
   "execution_count": 10,
   "metadata": {},
   "outputs": [
    {
     "data": {
      "text/plain": [
       "((1, 2, 1, 3, 100), (1, 2, 1, 3, 100, 96), (1, 2, 1, 3, 100, 8000))"
      ]
     },
     "execution_count": 10,
     "metadata": {},
     "output_type": "execute_result"
    }
   ],
   "source": [
    "gb1_d2m.item()[\"maxes\"].shape, gb1_d2m.item()[\"top_seqs\"].shape, gb1_d2m.item()[\"y_preds\"].shape"
   ]
  },
  {
   "cell_type": "code",
   "execution_count": 11,
   "metadata": {},
   "outputs": [
    {
     "ename": "ValueError",
     "evalue": "cannot reshape array of size 200 into shape (1,100)",
     "output_type": "error",
     "traceback": [
      "\u001b[0;31m---------------------------------------------------------------------------\u001b[0m",
      "\u001b[0;31mValueError\u001b[0m                                Traceback (most recent call last)",
      "Cell \u001b[0;32mIn[11], line 8\u001b[0m\n\u001b[1;32m      5\u001b[0m labelled \u001b[38;5;241m=\u001b[39m GB1\u001b[38;5;241m.\u001b[39mitem()[\u001b[38;5;124m'\u001b[39m\u001b[38;5;124mlabelled\u001b[39m\u001b[38;5;124m'\u001b[39m]\n\u001b[1;32m      6\u001b[0m unique \u001b[38;5;241m=\u001b[39m GB1\u001b[38;5;241m.\u001b[39mitem()[\u001b[38;5;124m'\u001b[39m\u001b[38;5;124munique\u001b[39m\u001b[38;5;124m'\u001b[39m]\n\u001b[0;32m----> 8\u001b[0m maxes2 \u001b[38;5;241m=\u001b[39m \u001b[43mmaxes\u001b[49m\u001b[38;5;241;43m.\u001b[39;49m\u001b[43mreshape\u001b[49m\u001b[43m(\u001b[49m\u001b[43mmaxes\u001b[49m\u001b[38;5;241;43m.\u001b[39;49m\u001b[43mshape\u001b[49m\u001b[43m[\u001b[49m\u001b[38;5;241;43m3\u001b[39;49m\u001b[43m]\u001b[49m\u001b[43m,\u001b[49m\u001b[43m \u001b[49m\u001b[43mmaxes\u001b[49m\u001b[38;5;241;43m.\u001b[39;49m\u001b[43mshape\u001b[49m\u001b[43m[\u001b[49m\u001b[38;5;241;43m4\u001b[39;49m\u001b[43m]\u001b[49m\u001b[43m)\u001b[49m\u001b[38;5;241m.\u001b[39mT\n\u001b[1;32m      9\u001b[0m means2 \u001b[38;5;241m=\u001b[39m means\u001b[38;5;241m.\u001b[39mreshape(means\u001b[38;5;241m.\u001b[39mshape[\u001b[38;5;241m3\u001b[39m], means\u001b[38;5;241m.\u001b[39mshape[\u001b[38;5;241m4\u001b[39m])\u001b[38;5;241m.\u001b[39mT\n\u001b[1;32m     10\u001b[0m ndcgs2 \u001b[38;5;241m=\u001b[39m ndcgs\u001b[38;5;241m.\u001b[39mreshape(ndcgs\u001b[38;5;241m.\u001b[39mshape[\u001b[38;5;241m3\u001b[39m], ndcgs\u001b[38;5;241m.\u001b[39mshape[\u001b[38;5;241m4\u001b[39m])\u001b[38;5;241m.\u001b[39mT\n",
      "\u001b[0;31mValueError\u001b[0m: cannot reshape array of size 200 into shape (1,100)"
     ]
    }
   ],
   "source": [
    "maxes = GB1.item()['maxes']\n",
    "means = GB1.item()['means']\n",
    "ndcgs = GB1.item()['ndcgs']\n",
    "top_seqs = GB1.item()['top_seqs']\n",
    "labelled = GB1.item()['labelled']\n",
    "unique = GB1.item()['unique']"
   ]
  },
  {
   "cell_type": "code",
   "execution_count": null,
   "metadata": {},
   "outputs": [],
   "source": []
  },
  {
   "cell_type": "code",
   "execution_count": 42,
   "metadata": {},
   "outputs": [
    {
     "name": "stdout",
     "output_type": "stream",
     "text": [
      "[[[[[0.79677708 0.61405096 0.52687597 0.74184587 0.47551514 0.64269462\n",
      "     0.57841398 0.51099081 0.83113003 0.58468356 0.86246276 0.51195701\n",
      "     0.59731877 0.65875997 0.74136048 0.67232935 0.71615739 0.83459085\n",
      "     0.54805528 0.45455496 0.68189251 0.83459085 0.72398109 0.57924211\n",
      "     0.72398109 0.62404087 0.59835001 0.72398109 0.86246276 0.862211\n",
      "     0.32141124 0.62404087 0.70158888 0.83113003 0.862211   0.59042949\n",
      "     0.53068257 0.49672123 0.57924211 0.76349645 0.78497786 0.68791511\n",
      "     0.74184587 0.61405096 0.64660666 0.70158888 0.73527678 0.6260269\n",
      "     0.862211   0.72398109 0.862211   0.51395762 0.82500438 0.63813307\n",
      "     0.73527678 0.66984814 0.32036549 0.68958016 0.83113003 0.63813307\n",
      "     0.55680238 0.68958016 0.55288283 0.66271143 0.74292453 0.72398109\n",
      "     0.79677708 0.82500438 0.37962253 0.59835001]\n",
      "    [0.82500438 0.62712818 0.82500438 0.5572929  0.68958016 0.6856483\n",
      "     1.         0.70773337 0.79677708 1.         0.56966864 0.64660666\n",
      "     0.862211   0.86246276 0.67232935 0.68958016 1.         0.91819031\n",
      "     0.68791511 0.73527678 0.83459085 0.862211   0.82500438 0.79677708\n",
      "     0.70773337 1.         0.66271143 0.82500438 0.82500438 0.79071951\n",
      "     0.862211   0.862211   0.82500438 1.         0.83459085 0.66271143\n",
      "     1.         0.91819031 0.91819031 0.86246276 0.79677708 0.86246276\n",
      "     0.862211   1.         0.59042949 0.86246276 0.862211   0.82500438\n",
      "     0.59835001 0.83113003 0.74136048 0.86246276 1.         0.59042949\n",
      "     0.64126117 1.         0.83113003 0.6856483  0.86246276 0.862211\n",
      "     0.862211   0.79677708 0.62404087 0.55706455 1.         0.70773337\n",
      "     0.68958016 0.82500438 0.65875997 0.862211  ]\n",
      "    [1.         0.59681201 0.82500438 0.82500438 0.68958016 0.91819031\n",
      "     0.50206058 0.62712818 0.83459085 0.86246276 0.67232935 0.86246276\n",
      "     0.86246276 0.70773337 0.74184587 0.86246276 0.91819031 0.6856483\n",
      "     0.68189251 0.70773337 0.862211   0.74184587 0.57992056 0.86246276\n",
      "     0.67232935 0.58468356 1.         1.         0.86246276 0.86246276\n",
      "     0.74184587 0.74184587 0.79071951 1.         0.83459085 1.\n",
      "     0.70773337 0.68958016 0.86246276 0.79071951 0.86246276 0.68958016\n",
      "     0.64269462 0.862211   0.83113003 0.82500438 0.79677708 1.\n",
      "     0.62712818 0.862211   0.91819031 0.86246276 0.86246276 0.72398109\n",
      "     0.82500438 0.61263608 0.68958016 0.64660666 0.82500438 0.862211\n",
      "     0.86246276 0.91819031 0.82500438 1.         0.62155463 1.\n",
      "     1.         0.57992056 0.86246276 1.        ]\n",
      "    [0.91819031 0.86246276 1.         0.862211   0.82500438 0.69890765\n",
      "     0.69890765 0.91819031 0.86246276 0.91819031 0.862211   0.862211\n",
      "     0.86246276 0.82500438 0.68958016 0.91819031 0.862211   0.91819031\n",
      "     1.         0.862211   1.         0.78497786 1.         1.\n",
      "     0.82500438 1.         0.79071951 1.         0.66984814 1.\n",
      "     0.82500438 0.79071951 0.862211   0.82500438 0.74184587 0.91819031\n",
      "     0.86246276 0.67232935 1.         0.862211   0.91819031 0.82500438\n",
      "     0.70773337 0.68958016 0.83459085 1.         0.862211   0.62712818\n",
      "     1.         0.91819031 1.         0.82500438 0.862211   0.83113003\n",
      "     1.         1.         0.65875997 1.         1.         0.83113003\n",
      "     0.91819031 1.         0.862211   1.         0.66984814 1.\n",
      "     0.862211   1.         0.91819031 0.91819031]\n",
      "    [0.74136048 1.         0.68958016 1.         1.         0.91819031\n",
      "     0.862211   0.68791511 1.         1.         1.         0.79071951\n",
      "     0.91819031 1.         0.91819031 0.68982662 0.91819031 1.\n",
      "     1.         0.79071951 1.         0.91819031 0.79071951 1.\n",
      "     0.82500438 0.68958016 1.         0.91819031 0.862211   0.70773337\n",
      "     0.67232935 0.91819031 1.         0.70773337 0.82500438 0.83113003\n",
      "     0.79071951 0.91819031 1.         0.862211   0.79071951 0.68958016\n",
      "     0.91819031 1.         0.862211   1.         1.         0.91819031\n",
      "     0.91819031 0.79071951 0.66984814 0.91819031 0.61524237 1.\n",
      "     0.91819031 1.         1.         1.         0.65875997 1.\n",
      "     0.68958016 0.862211   1.         0.82500438 1.         0.91819031\n",
      "     1.         1.         0.862211   0.70773337]]]]]\n",
      "(1, 1, 1, 5, 70)\n"
     ]
    }
   ],
   "source": [
    "results_dict = {\"GB1\": GB1}\n",
    "\n",
    "maxes = {}\n",
    "means = {}\n",
    "ndcgs = {}\n",
    "top_seqs = {}\n",
    "labelled = {}\n",
    "unique = {}\n",
    "\n",
    "maxes2 = {}\n",
    "means2 = {}\n",
    "ndcgs2 = {}\n",
    "unique2 = {}\n",
    "\n",
    "for r_key in results_dict:\n",
    "    print(results_dict[r_key].item()['maxes'])\n",
    "    print(results_dict[r_key].item()['maxes'].shape)\n",
    "    maxes[r_key] = results_dict[r_key].item()['maxes']\n",
    "    means[r_key] = results_dict[r_key].item()['means']\n",
    "    ndcgs[r_key] = results_dict[r_key].item()['ndcgs']\n",
    "    top_seqs[r_key] = results_dict[r_key].item()['top_seqs']\n",
    "    labelled[r_key] = results_dict[r_key].item()['labelled']\n",
    "    unique[r_key] = results_dict[r_key].item()['unique']\n",
    "\n",
    "    maxes2[r_key] = maxes[r_key].flatten()\n",
    "    means2[r_key] = means[r_key].flatten()\n",
    "    ndcgs2[r_key] = ndcgs[r_key].flatten()\n",
    "    unique2[r_key] = unique[r_key].flatten()"
   ]
  },
  {
   "cell_type": "code",
   "execution_count": null,
   "metadata": {},
   "outputs": [],
   "source": [
    "# model"
   ]
  },
  {
   "cell_type": "code",
   "execution_count": 43,
   "metadata": {},
   "outputs": [
    {
     "data": {},
     "metadata": {},
     "output_type": "display_data"
    },
    {
     "data": {
      "application/vnd.holoviews_exec.v0+json": "",
      "text/html": [
       "<div id='p1078'>\n",
       "  <div id=\"a64520a2-68a5-4995-8735-2a9fb8840524\" data-root-id=\"p1078\" style=\"display: contents;\"></div>\n",
       "</div>\n",
       "<script type=\"application/javascript\">(function(root) {\n",
       "  var docs_json = {\"04c58ead-0736-4355-8acd-5493fa2e05b0\":{\"version\":\"3.3.4\",\"title\":\"Bokeh Application\",\"roots\":[{\"type\":\"object\",\"name\":\"Row\",\"id\":\"p1078\",\"attributes\":{\"name\":\"Row00952\",\"tags\":[\"embedded\"],\"stylesheets\":[\"\\n:host(.pn-loading.pn-arc):before, .pn-loading.pn-arc:before {\\n  background-image: url(\\\"data:image/svg+xml;base64,PHN2ZyB4bWxucz0iaHR0cDovL3d3dy53My5vcmcvMjAwMC9zdmciIHN0eWxlPSJtYXJnaW46IGF1dG87IGJhY2tncm91bmQ6IG5vbmU7IGRpc3BsYXk6IGJsb2NrOyBzaGFwZS1yZW5kZXJpbmc6IGF1dG87IiB2aWV3Qm94PSIwIDAgMTAwIDEwMCIgcHJlc2VydmVBc3BlY3RSYXRpbz0ieE1pZFlNaWQiPiAgPGNpcmNsZSBjeD0iNTAiIGN5PSI1MCIgZmlsbD0ibm9uZSIgc3Ryb2tlPSIjYzNjM2MzIiBzdHJva2Utd2lkdGg9IjEwIiByPSIzNSIgc3Ryb2tlLWRhc2hhcnJheT0iMTY0LjkzMzYxNDMxMzQ2NDE1IDU2Ljk3Nzg3MTQzNzgyMTM4Ij4gICAgPGFuaW1hdGVUcmFuc2Zvcm0gYXR0cmlidXRlTmFtZT0idHJhbnNmb3JtIiB0eXBlPSJyb3RhdGUiIHJlcGVhdENvdW50PSJpbmRlZmluaXRlIiBkdXI9IjFzIiB2YWx1ZXM9IjAgNTAgNTA7MzYwIDUwIDUwIiBrZXlUaW1lcz0iMDsxIj48L2FuaW1hdGVUcmFuc2Zvcm0+ICA8L2NpcmNsZT48L3N2Zz4=\\\");\\n  background-size: auto calc(min(50%, 400px));\\n}\",{\"type\":\"object\",\"name\":\"ImportedStyleSheet\",\"id\":\"p1081\",\"attributes\":{\"url\":\"https://cdn.holoviz.org/panel/1.3.8/dist/css/loading.css\"}},{\"type\":\"object\",\"name\":\"ImportedStyleSheet\",\"id\":\"p1190\",\"attributes\":{\"url\":\"https://cdn.holoviz.org/panel/1.3.8/dist/css/listpanel.css\"}},{\"type\":\"object\",\"name\":\"ImportedStyleSheet\",\"id\":\"p1079\",\"attributes\":{\"url\":\"https://cdn.holoviz.org/panel/1.3.8/dist/bundled/theme/default.css\"}},{\"type\":\"object\",\"name\":\"ImportedStyleSheet\",\"id\":\"p1080\",\"attributes\":{\"url\":\"https://cdn.holoviz.org/panel/1.3.8/dist/bundled/theme/native.css\"}}],\"margin\":0,\"sizing_mode\":\"stretch_width\",\"align\":\"start\",\"children\":[{\"type\":\"object\",\"name\":\"Spacer\",\"id\":\"p1082\",\"attributes\":{\"name\":\"HSpacer00959\",\"stylesheets\":[\"\\n:host(.pn-loading.pn-arc):before, .pn-loading.pn-arc:before {\\n  background-image: url(\\\"data:image/svg+xml;base64,PHN2ZyB4bWxucz0iaHR0cDovL3d3dy53My5vcmcvMjAwMC9zdmciIHN0eWxlPSJtYXJnaW46IGF1dG87IGJhY2tncm91bmQ6IG5vbmU7IGRpc3BsYXk6IGJsb2NrOyBzaGFwZS1yZW5kZXJpbmc6IGF1dG87IiB2aWV3Qm94PSIwIDAgMTAwIDEwMCIgcHJlc2VydmVBc3BlY3RSYXRpbz0ieE1pZFlNaWQiPiAgPGNpcmNsZSBjeD0iNTAiIGN5PSI1MCIgZmlsbD0ibm9uZSIgc3Ryb2tlPSIjYzNjM2MzIiBzdHJva2Utd2lkdGg9IjEwIiByPSIzNSIgc3Ryb2tlLWRhc2hhcnJheT0iMTY0LjkzMzYxNDMxMzQ2NDE1IDU2Ljk3Nzg3MTQzNzgyMTM4Ij4gICAgPGFuaW1hdGVUcmFuc2Zvcm0gYXR0cmlidXRlTmFtZT0idHJhbnNmb3JtIiB0eXBlPSJyb3RhdGUiIHJlcGVhdENvdW50PSJpbmRlZmluaXRlIiBkdXI9IjFzIiB2YWx1ZXM9IjAgNTAgNTA7MzYwIDUwIDUwIiBrZXlUaW1lcz0iMDsxIj48L2FuaW1hdGVUcmFuc2Zvcm0+ICA8L2NpcmNsZT48L3N2Zz4=\\\");\\n  background-size: auto calc(min(50%, 400px));\\n}\",{\"id\":\"p1081\"},{\"id\":\"p1079\"},{\"id\":\"p1080\"}],\"margin\":0,\"sizing_mode\":\"stretch_width\",\"align\":\"start\"}},{\"type\":\"object\",\"name\":\"Figure\",\"id\":\"p1089\",\"attributes\":{\"width\":null,\"height\":null,\"margin\":[5,10],\"sizing_mode\":\"fixed\",\"align\":\"start\",\"x_range\":{\"type\":\"object\",\"name\":\"FactorRange\",\"id\":\"p1083\",\"attributes\":{\"tags\":[[[\"Landscape\",\"Landscape\",null]],[]],\"factors\":[\"GB1\"]}},\"y_range\":{\"type\":\"object\",\"name\":\"Range1d\",\"id\":\"p1084\",\"attributes\":{\"tags\":[[[\"max_fitness\",\"max_fitness\",null]],{\"type\":\"map\",\"entries\":[[\"invert_yaxis\",false],[\"autorange\",false]]}],\"reset_start\":0,\"reset_end\":1}},\"x_scale\":{\"type\":\"object\",\"name\":\"CategoricalScale\",\"id\":\"p1099\"},\"y_scale\":{\"type\":\"object\",\"name\":\"LinearScale\",\"id\":\"p1100\"},\"title\":{\"type\":\"object\",\"name\":\"Title\",\"id\":\"p1092\",\"attributes\":{\"text_color\":\"black\",\"text_font_size\":\"15.6pt\"}},\"outline_line_color\":\"black\",\"renderers\":[{\"type\":\"object\",\"name\":\"GlyphRenderer\",\"id\":\"p1132\",\"attributes\":{\"data_source\":{\"type\":\"object\",\"name\":\"ColumnDataSource\",\"id\":\"p1121\",\"attributes\":{\"selected\":{\"type\":\"object\",\"name\":\"Selection\",\"id\":\"p1122\",\"attributes\":{\"indices\":[],\"line_indices\":[]}},\"selection_policy\":{\"type\":\"object\",\"name\":\"UnionRenderers\",\"id\":\"p1123\"},\"data\":{\"type\":\"map\",\"entries\":[[\"ys\",[{\"type\":\"ndarray\",\"array\":{\"type\":\"bytes\",\"data\":\"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\"},\"shape\":[200],\"dtype\":\"float64\",\"order\":\"little\"}]],[\"xs\",[[[\"GB1\",-0.008535223001010787],[\"GB1\",-0.00880447737470823],[\"GB1\",-0.00894470269516384],[\"GB1\",-0.008964846434879218],[\"GB1\",-0.008882674647773241],[\"GB1\",-0.008723542808781735],[\"GB1\",-0.0085188819698912],[\"GB1\",-0.008304646406419227],[\"GB1\",-0.008119892149329578],[\"GB1\",-0.00800555186362908],[\"GB1\",-0.008003373984430129],[\"GB1\",-0.008154931216836392],[\"GB1\",-0.008500590722367102],[\"GB1\",-0.00907837472975114],[\"GB1\",-0.0099227112530754],[\"GB1\",-0.011063157596285636],[\"GB1\",-0.012523251241551531],[\"GB1\",-0.014319685461515897],[\"GB1\",-0.016462010182687854],[\"GB1\",-0.01895301937805277],[\"GB1\",-0.02178990745346291],[\"GB1\",-0.024966165883713587],[\"GB1\",-0.028474059232871815],[\"GB1\",-0.032307383784743286],[\"GB1\",-0.03646409621269425],[\"GB1\",-0.0409483335163813],[\"GB1\",-0.0457713588509415],[\"GB1\",-0.050951082573311435],[\"GB1\",-0.05651002684803378],[\"GB1\",-0.06247190168737439],[\"GB1\",-0.06885728787336978],[\"GB1\",-0.07567920371122291],[\"GB1\",-0.08293948796889797],[\"GB1\",-0.09062689577406097],[\"GB1\",-0.09871754856137216],[\"GB1\",-0.10717792404405664],[\"GB1\",-0.11596999053206043],[\"GB1\",-0.1250574962213198],[\"GB1\",-0.1344119524706606],[\"GB1\",-0.14401662603765328],[\"GB1\",-0.15386696716933385],[\"GB1\",-0.16396637719904986],[\"GB1\",-0.17431701811892483],[\"GB1\",-0.18490637381712716],[\"GB1\",-0.1956913177533347],[\"GB1\",-0.206582323459679],[\"GB1\",-0.21743097551481033],[\"GB1\",-0.2280239467055869],[\"GB1\",-0.23808603014009863],[\"GB1\",-0.24729368811544555],[\"GB1\",-0.25529905072084974],[\"GB1\",-0.2617626091597683],[\"GB1\",-0.266391295763182],[\"GB1\",-0.26897751048996277],[\"GB1\",-0.2694341575208868],[\"GB1\",-0.2678209914992264],[\"GB1\",-0.2643584978423334],[\"GB1\",-0.25942697638966056],[\"GB1\",-0.2535502110705944],[\"GB1\",-0.24736481620849715],[\"GB1\",-0.2415778145343638],[\"GB1\",-0.2369160631700294],[\"GB1\",-0.23407173699083572],[\"GB1\",-0.23364822581854422],[\"GB1\",-0.2361105852067226],[\"GB1\",-0.24174420925499068],[\"GB1\",-0.2506247719046224],[\"GB1\",-0.2626017855448159],[\"GB1\",-0.2772973854653868],[\"GB1\",-0.29412115543469464],[\"GB1\",-0.3123009214362744],[\"GB1\",-0.330928408202005],[\"GB1\",-0.3490174556278367],[\"GB1\",-0.3655711749607066],[\"GB1\",-0.3796531276788846],[\"GB1\",-0.3904565683781927],[\"GB1\",-0.3973652984787344],[\"GB1\",-0.4],[\"GB1\",-0.3982452044470247],[\"GB1\",-0.3922542330056966],[\"GB1\",-0.3824321976139255],[\"GB1\",-0.369399940167145],[\"GB1\",-0.35394398367804447],[\"GB1\",-0.33695864727899405],[\"GB1\",-0.3193861932644638],[\"GB1\",-0.30215938607520765],[\"GB1\",-0.28614869895054024],[\"GB1\",-0.272114394066454],[\"GB1\",-0.26066260218503134],[\"GB1\",-0.25220481906309367],[\"GB1\",-0.24692189833540348],[\"GB1\",-0.24473608615533027],[\"GB1\",-0.24529693870488437],[\"GB1\",-0.24798801430904624],[\"GB1\",-0.2519602272835711],[\"GB1\",-0.2561944579189858],[\"GB1\",-0.2595909210648769],[\"GB1\",-0.2610770335419058],[\"GB1\",-0.2597205631628842],[\"GB1\",-0.2548320906799906],[\"GB1\",0.2548320906799906],[\"GB1\",0.2597205631628842],[\"GB1\",0.2610770335419058],[\"GB1\",0.2595909210648769],[\"GB1\",0.2561944579189858],[\"GB1\",0.2519602272835711],[\"GB1\",0.24798801430904624],[\"GB1\",0.24529693870488437],[\"GB1\",0.24473608615533027],[\"GB1\",0.24692189833540348],[\"GB1\",0.25220481906309367],[\"GB1\",0.26066260218503134],[\"GB1\",0.272114394066454],[\"GB1\",0.28614869895054024],[\"GB1\",0.30215938607520765],[\"GB1\",0.3193861932644638],[\"GB1\",0.33695864727899405],[\"GB1\",0.35394398367804447],[\"GB1\",0.369399940167145],[\"GB1\",0.3824321976139255],[\"GB1\",0.3922542330056966],[\"GB1\",0.3982452044470247],[\"GB1\",0.4],[\"GB1\",0.3973652984787344],[\"GB1\",0.3904565683781927],[\"GB1\",0.3796531276788846],[\"GB1\",0.3655711749607066],[\"GB1\",0.3490174556278367],[\"GB1\",0.330928408202005],[\"GB1\",0.3123009214362744],[\"GB1\",0.29412115543469464],[\"GB1\",0.2772973854653868],[\"GB1\",0.2626017855448159],[\"GB1\",0.2506247719046224],[\"GB1\",0.24174420925499068],[\"GB1\",0.2361105852067226],[\"GB1\",0.23364822581854422],[\"GB1\",0.23407173699083572],[\"GB1\",0.2369160631700294],[\"GB1\",0.2415778145343638],[\"GB1\",0.24736481620849715],[\"GB1\",0.2535502110705944],[\"GB1\",0.25942697638966056],[\"GB1\",0.2643584978423334],[\"GB1\",0.2678209914992264],[\"GB1\",0.2694341575208868],[\"GB1\",0.26897751048996277],[\"GB1\",0.266391295763182],[\"GB1\",0.2617626091597683],[\"GB1\",0.25529905072084974],[\"GB1\",0.24729368811544555],[\"GB1\",0.23808603014009863],[\"GB1\",0.2280239467055869],[\"GB1\",0.21743097551481033],[\"GB1\",0.206582323459679],[\"GB1\",0.1956913177533347],[\"GB1\",0.18490637381712716],[\"GB1\",0.17431701811892483],[\"GB1\",0.16396637719904986],[\"GB1\",0.15386696716933385],[\"GB1\",0.14401662603765328],[\"GB1\",0.1344119524706606],[\"GB1\",0.1250574962213198],[\"GB1\",0.11596999053206043],[\"GB1\",0.10717792404405664],[\"GB1\",0.09871754856137216],[\"GB1\",0.09062689577406097],[\"GB1\",0.08293948796889797],[\"GB1\",0.07567920371122291],[\"GB1\",0.06885728787336978],[\"GB1\",0.06247190168737439],[\"GB1\",0.05651002684803378],[\"GB1\",0.050951082573311435],[\"GB1\",0.0457713588509415],[\"GB1\",0.0409483335163813],[\"GB1\",0.03646409621269425],[\"GB1\",0.032307383784743286],[\"GB1\",0.028474059232871815],[\"GB1\",0.024966165883713587],[\"GB1\",0.02178990745346291],[\"GB1\",0.01895301937805277],[\"GB1\",0.016462010182687854],[\"GB1\",0.014319685461515897],[\"GB1\",0.012523251241551531],[\"GB1\",0.011063157596285636],[\"GB1\",0.0099227112530754],[\"GB1\",0.00907837472975114],[\"GB1\",0.008500590722367102],[\"GB1\",0.008154931216836392],[\"GB1\",0.008003373984430129],[\"GB1\",0.00800555186362908],[\"GB1\",0.008119892149329578],[\"GB1\",0.008304646406419227],[\"GB1\",0.0085188819698912],[\"GB1\",0.008723542808781735],[\"GB1\",0.008882674647773241],[\"GB1\",0.008964846434879218],[\"GB1\",0.00894470269516384],[\"GB1\",0.00880447737470823],[\"GB1\",0.008535223001010787]]]],[\"violin_color\",[\"GB1\"]]]}}},\"view\":{\"type\":\"object\",\"name\":\"CDSView\",\"id\":\"p1133\",\"attributes\":{\"filter\":{\"type\":\"object\",\"name\":\"AllIndices\",\"id\":\"p1134\"}}},\"glyph\":{\"type\":\"object\",\"name\":\"Patches\",\"id\":\"p1127\",\"attributes\":{\"xs\":{\"type\":\"field\",\"field\":\"xs\"},\"ys\":{\"type\":\"field\",\"field\":\"ys\"},\"line_color\":{\"type\":\"field\",\"field\":\"violin_color\",\"transform\":{\"type\":\"object\",\"name\":\"CategoricalColorMapper\",\"id\":\"p1120\",\"attributes\":{\"palette\":[\"#1f77b4\"],\"factors\":[\"GB1\"]}}},\"line_width\":{\"type\":\"value\",\"value\":0},\"fill_color\":{\"type\":\"field\",\"field\":\"violin_color\",\"transform\":{\"id\":\"p1120\"}},\"fill_alpha\":{\"type\":\"value\",\"value\":0.5},\"hatch_color\":{\"type\":\"field\",\"field\":\"violin_color\",\"transform\":{\"id\":\"p1120\"}}}},\"selection_glyph\":{\"type\":\"object\",\"name\":\"Patches\",\"id\":\"p1129\",\"attributes\":{\"xs\":{\"type\":\"field\",\"field\":\"xs\"},\"ys\":{\"type\":\"field\",\"field\":\"ys\"},\"line_color\":{\"type\":\"field\",\"field\":\"violin_color\",\"transform\":{\"id\":\"p1120\"}},\"line_width\":{\"type\":\"value\",\"value\":0},\"fill_color\":{\"type\":\"field\",\"field\":\"violin_color\",\"transform\":{\"id\":\"p1120\"}},\"fill_alpha\":{\"type\":\"value\",\"value\":0.5},\"hatch_color\":{\"type\":\"field\",\"field\":\"violin_color\",\"transform\":{\"id\":\"p1120\"}}}},\"nonselection_glyph\":{\"type\":\"object\",\"name\":\"Patches\",\"id\":\"p1128\",\"attributes\":{\"xs\":{\"type\":\"field\",\"field\":\"xs\"},\"ys\":{\"type\":\"field\",\"field\":\"ys\"},\"line_color\":{\"type\":\"field\",\"field\":\"violin_color\",\"transform\":{\"id\":\"p1120\"}},\"line_alpha\":{\"type\":\"value\",\"value\":0.1},\"line_width\":{\"type\":\"value\",\"value\":0},\"fill_color\":{\"type\":\"field\",\"field\":\"violin_color\",\"transform\":{\"id\":\"p1120\"}},\"fill_alpha\":{\"type\":\"value\",\"value\":0.5},\"hatch_color\":{\"type\":\"field\",\"field\":\"violin_color\",\"transform\":{\"id\":\"p1120\"}},\"hatch_alpha\":{\"type\":\"value\",\"value\":0.1}}},\"hover_glyph\":{\"type\":\"object\",\"name\":\"Patches\",\"id\":\"p1130\",\"attributes\":{\"xs\":{\"type\":\"field\",\"field\":\"xs\"},\"ys\":{\"type\":\"field\",\"field\":\"ys\"},\"line_color\":{\"type\":\"field\",\"field\":\"violin_color\",\"transform\":{\"id\":\"p1120\"}},\"line_width\":{\"type\":\"value\",\"value\":0},\"fill_color\":{\"type\":\"field\",\"field\":\"violin_color\",\"transform\":{\"id\":\"p1120\"}},\"fill_alpha\":{\"type\":\"value\",\"value\":0.5},\"hatch_color\":{\"type\":\"field\",\"field\":\"violin_color\",\"transform\":{\"id\":\"p1120\"}}}},\"muted_glyph\":{\"type\":\"object\",\"name\":\"Patches\",\"id\":\"p1131\",\"attributes\":{\"xs\":{\"type\":\"field\",\"field\":\"xs\"},\"ys\":{\"type\":\"field\",\"field\":\"ys\"},\"line_color\":{\"type\":\"field\",\"field\":\"violin_color\",\"transform\":{\"id\":\"p1120\"}},\"line_alpha\":{\"type\":\"value\",\"value\":0.2},\"line_width\":{\"type\":\"value\",\"value\":0},\"fill_color\":{\"type\":\"field\",\"field\":\"violin_color\",\"transform\":{\"id\":\"p1120\"}},\"fill_alpha\":{\"type\":\"value\",\"value\":0.5},\"hatch_color\":{\"type\":\"field\",\"field\":\"violin_color\",\"transform\":{\"id\":\"p1120\"}},\"hatch_alpha\":{\"type\":\"value\",\"value\":0.2}}}}},{\"type\":\"object\",\"name\":\"GlyphRenderer\",\"id\":\"p1144\",\"attributes\":{\"data_source\":{\"type\":\"object\",\"name\":\"ColumnDataSource\",\"id\":\"p1135\",\"attributes\":{\"selected\":{\"type\":\"object\",\"name\":\"Selection\",\"id\":\"p1136\",\"attributes\":{\"indices\":[],\"line_indices\":[]}},\"selection_policy\":{\"type\":\"object\",\"name\":\"UnionRenderers\",\"id\":\"p1137\"},\"data\":{\"type\":\"map\",\"entries\":[[\"ys\",[{\"type\":\"ndarray\",\"array\":{\"type\":\"bytes\",\"data\":\"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\"},\"shape\":[200],\"dtype\":\"float64\",\"order\":\"little\"}]],[\"xs\",[[[\"GB1\",-0.008535223001010787],[\"GB1\",-0.00880447737470823],[\"GB1\",-0.00894470269516384],[\"GB1\",-0.008964846434879218],[\"GB1\",-0.008882674647773241],[\"GB1\",-0.008723542808781735],[\"GB1\",-0.0085188819698912],[\"GB1\",-0.008304646406419227],[\"GB1\",-0.008119892149329578],[\"GB1\",-0.00800555186362908],[\"GB1\",-0.008003373984430129],[\"GB1\",-0.008154931216836392],[\"GB1\",-0.008500590722367102],[\"GB1\",-0.00907837472975114],[\"GB1\",-0.0099227112530754],[\"GB1\",-0.011063157596285636],[\"GB1\",-0.012523251241551531],[\"GB1\",-0.014319685461515897],[\"GB1\",-0.016462010182687854],[\"GB1\",-0.01895301937805277],[\"GB1\",-0.02178990745346291],[\"GB1\",-0.024966165883713587],[\"GB1\",-0.028474059232871815],[\"GB1\",-0.032307383784743286],[\"GB1\",-0.03646409621269425],[\"GB1\",-0.0409483335163813],[\"GB1\",-0.0457713588509415],[\"GB1\",-0.050951082573311435],[\"GB1\",-0.05651002684803378],[\"GB1\",-0.06247190168737439],[\"GB1\",-0.06885728787336978],[\"GB1\",-0.07567920371122291],[\"GB1\",-0.08293948796889797],[\"GB1\",-0.09062689577406097],[\"GB1\",-0.09871754856137216],[\"GB1\",-0.10717792404405664],[\"GB1\",-0.11596999053206043],[\"GB1\",-0.1250574962213198],[\"GB1\",-0.1344119524706606],[\"GB1\",-0.14401662603765328],[\"GB1\",-0.15386696716933385],[\"GB1\",-0.16396637719904986],[\"GB1\",-0.17431701811892483],[\"GB1\",-0.18490637381712716],[\"GB1\",-0.1956913177533347],[\"GB1\",-0.206582323459679],[\"GB1\",-0.21743097551481033],[\"GB1\",-0.2280239467055869],[\"GB1\",-0.23808603014009863],[\"GB1\",-0.24729368811544555],[\"GB1\",-0.25529905072084974],[\"GB1\",-0.2617626091597683],[\"GB1\",-0.266391295763182],[\"GB1\",-0.26897751048996277],[\"GB1\",-0.2694341575208868],[\"GB1\",-0.2678209914992264],[\"GB1\",-0.2643584978423334],[\"GB1\",-0.25942697638966056],[\"GB1\",-0.2535502110705944],[\"GB1\",-0.24736481620849715],[\"GB1\",-0.2415778145343638],[\"GB1\",-0.2369160631700294],[\"GB1\",-0.23407173699083572],[\"GB1\",-0.23364822581854422],[\"GB1\",-0.2361105852067226],[\"GB1\",-0.24174420925499068],[\"GB1\",-0.2506247719046224],[\"GB1\",-0.2626017855448159],[\"GB1\",-0.2772973854653868],[\"GB1\",-0.29412115543469464],[\"GB1\",-0.3123009214362744],[\"GB1\",-0.330928408202005],[\"GB1\",-0.3490174556278367],[\"GB1\",-0.3655711749607066],[\"GB1\",-0.3796531276788846],[\"GB1\",-0.3904565683781927],[\"GB1\",-0.3973652984787344],[\"GB1\",-0.4],[\"GB1\",-0.3982452044470247],[\"GB1\",-0.3922542330056966],[\"GB1\",-0.3824321976139255],[\"GB1\",-0.369399940167145],[\"GB1\",-0.35394398367804447],[\"GB1\",-0.33695864727899405],[\"GB1\",-0.3193861932644638],[\"GB1\",-0.30215938607520765],[\"GB1\",-0.28614869895054024],[\"GB1\",-0.272114394066454],[\"GB1\",-0.26066260218503134],[\"GB1\",-0.25220481906309367],[\"GB1\",-0.24692189833540348],[\"GB1\",-0.24473608615533027],[\"GB1\",-0.24529693870488437],[\"GB1\",-0.24798801430904624],[\"GB1\",-0.2519602272835711],[\"GB1\",-0.2561944579189858],[\"GB1\",-0.2595909210648769],[\"GB1\",-0.2610770335419058],[\"GB1\",-0.2597205631628842],[\"GB1\",-0.2548320906799906],[\"GB1\",0.2548320906799906],[\"GB1\",0.2597205631628842],[\"GB1\",0.2610770335419058],[\"GB1\",0.2595909210648769],[\"GB1\",0.2561944579189858],[\"GB1\",0.2519602272835711],[\"GB1\",0.24798801430904624],[\"GB1\",0.24529693870488437],[\"GB1\",0.24473608615533027],[\"GB1\",0.24692189833540348],[\"GB1\",0.25220481906309367],[\"GB1\",0.26066260218503134],[\"GB1\",0.272114394066454],[\"GB1\",0.28614869895054024],[\"GB1\",0.30215938607520765],[\"GB1\",0.3193861932644638],[\"GB1\",0.33695864727899405],[\"GB1\",0.35394398367804447],[\"GB1\",0.369399940167145],[\"GB1\",0.3824321976139255],[\"GB1\",0.3922542330056966],[\"GB1\",0.3982452044470247],[\"GB1\",0.4],[\"GB1\",0.3973652984787344],[\"GB1\",0.3904565683781927],[\"GB1\",0.3796531276788846],[\"GB1\",0.3655711749607066],[\"GB1\",0.3490174556278367],[\"GB1\",0.330928408202005],[\"GB1\",0.3123009214362744],[\"GB1\",0.29412115543469464],[\"GB1\",0.2772973854653868],[\"GB1\",0.2626017855448159],[\"GB1\",0.2506247719046224],[\"GB1\",0.24174420925499068],[\"GB1\",0.2361105852067226],[\"GB1\",0.23364822581854422],[\"GB1\",0.23407173699083572],[\"GB1\",0.2369160631700294],[\"GB1\",0.2415778145343638],[\"GB1\",0.24736481620849715],[\"GB1\",0.2535502110705944],[\"GB1\",0.25942697638966056],[\"GB1\",0.2643584978423334],[\"GB1\",0.2678209914992264],[\"GB1\",0.2694341575208868],[\"GB1\",0.26897751048996277],[\"GB1\",0.266391295763182],[\"GB1\",0.2617626091597683],[\"GB1\",0.25529905072084974],[\"GB1\",0.24729368811544555],[\"GB1\",0.23808603014009863],[\"GB1\",0.2280239467055869],[\"GB1\",0.21743097551481033],[\"GB1\",0.206582323459679],[\"GB1\",0.1956913177533347],[\"GB1\",0.18490637381712716],[\"GB1\",0.17431701811892483],[\"GB1\",0.16396637719904986],[\"GB1\",0.15386696716933385],[\"GB1\",0.14401662603765328],[\"GB1\",0.1344119524706606],[\"GB1\",0.1250574962213198],[\"GB1\",0.11596999053206043],[\"GB1\",0.10717792404405664],[\"GB1\",0.09871754856137216],[\"GB1\",0.09062689577406097],[\"GB1\",0.08293948796889797],[\"GB1\",0.07567920371122291],[\"GB1\",0.06885728787336978],[\"GB1\",0.06247190168737439],[\"GB1\",0.05651002684803378],[\"GB1\",0.050951082573311435],[\"GB1\",0.0457713588509415],[\"GB1\",0.0409483335163813],[\"GB1\",0.03646409621269425],[\"GB1\",0.032307383784743286],[\"GB1\",0.028474059232871815],[\"GB1\",0.024966165883713587],[\"GB1\",0.02178990745346291],[\"GB1\",0.01895301937805277],[\"GB1\",0.016462010182687854],[\"GB1\",0.014319685461515897],[\"GB1\",0.012523251241551531],[\"GB1\",0.011063157596285636],[\"GB1\",0.0099227112530754],[\"GB1\",0.00907837472975114],[\"GB1\",0.008500590722367102],[\"GB1\",0.008154931216836392],[\"GB1\",0.008003373984430129],[\"GB1\",0.00800555186362908],[\"GB1\",0.008119892149329578],[\"GB1\",0.008304646406419227],[\"GB1\",0.0085188819698912],[\"GB1\",0.008723542808781735],[\"GB1\",0.008882674647773241],[\"GB1\",0.008964846434879218],[\"GB1\",0.00894470269516384],[\"GB1\",0.00880447737470823],[\"GB1\",0.008535223001010787]]]]]}}},\"view\":{\"type\":\"object\",\"name\":\"CDSView\",\"id\":\"p1145\",\"attributes\":{\"filter\":{\"type\":\"object\",\"name\":\"AllIndices\",\"id\":\"p1146\"}}},\"glyph\":{\"type\":\"object\",\"name\":\"MultiLine\",\"id\":\"p1141\",\"attributes\":{\"xs\":{\"type\":\"field\",\"field\":\"xs\"},\"ys\":{\"type\":\"field\",\"field\":\"ys\"}}},\"selection_glyph\":{\"type\":\"object\",\"name\":\"MultiLine\",\"id\":\"p1147\",\"attributes\":{\"xs\":{\"type\":\"field\",\"field\":\"xs\"},\"ys\":{\"type\":\"field\",\"field\":\"ys\"},\"line_color\":{\"type\":\"value\",\"value\":\"black\"},\"line_alpha\":{\"type\":\"value\",\"value\":1.0},\"line_width\":{\"type\":\"value\",\"value\":1},\"line_join\":{\"type\":\"value\",\"value\":\"bevel\"},\"line_cap\":{\"type\":\"value\",\"value\":\"butt\"},\"line_dash\":{\"type\":\"value\",\"value\":[]},\"line_dash_offset\":{\"type\":\"value\",\"value\":0}}},\"nonselection_glyph\":{\"type\":\"object\",\"name\":\"MultiLine\",\"id\":\"p1142\",\"attributes\":{\"xs\":{\"type\":\"field\",\"field\":\"xs\"},\"ys\":{\"type\":\"field\",\"field\":\"ys\"},\"line_alpha\":{\"type\":\"value\",\"value\":0.1}}},\"muted_glyph\":{\"type\":\"object\",\"name\":\"MultiLine\",\"id\":\"p1143\",\"attributes\":{\"xs\":{\"type\":\"field\",\"field\":\"xs\"},\"ys\":{\"type\":\"field\",\"field\":\"ys\"},\"line_alpha\":{\"type\":\"value\",\"value\":0.2}}}}},{\"type\":\"object\",\"name\":\"GlyphRenderer\",\"id\":\"p1157\",\"attributes\":{\"data_source\":{\"type\":\"object\",\"name\":\"ColumnDataSource\",\"id\":\"p1148\",\"attributes\":{\"selected\":{\"type\":\"object\",\"name\":\"Selection\",\"id\":\"p1149\",\"attributes\":{\"indices\":[],\"line_indices\":[]}},\"selection_policy\":{\"type\":\"object\",\"name\":\"UnionRenderers\",\"id\":\"p1150\"},\"data\":{\"type\":\"map\",\"entries\":[[\"x\",[[\"GB1\",0]]],[\"y0\",{\"type\":\"ndarray\",\"array\":{\"type\":\"bytes\",\"data\":\"p3OUT7xL2D8=\"},\"shape\":[1],\"dtype\":\"float64\",\"order\":\"little\"}],[\"y1\",{\"type\":\"ndarray\",\"array\":{\"type\":\"bytes\",\"data\":\"AAAAAAAA8D8=\"},\"shape\":[1],\"dtype\":\"float64\",\"order\":\"little\"}]]}}},\"view\":{\"type\":\"object\",\"name\":\"CDSView\",\"id\":\"p1158\",\"attributes\":{\"filter\":{\"type\":\"object\",\"name\":\"AllIndices\",\"id\":\"p1159\"}}},\"glyph\":{\"type\":\"object\",\"name\":\"Segment\",\"id\":\"p1154\",\"attributes\":{\"x0\":{\"type\":\"field\",\"field\":\"x\"},\"y0\":{\"type\":\"field\",\"field\":\"y0\"},\"x1\":{\"type\":\"field\",\"field\":\"x\"},\"y1\":{\"type\":\"field\",\"field\":\"y1\"}}},\"selection_glyph\":{\"type\":\"object\",\"name\":\"Segment\",\"id\":\"p1160\",\"attributes\":{\"x0\":{\"type\":\"field\",\"field\":\"x\"},\"y0\":{\"type\":\"field\",\"field\":\"y0\"},\"x1\":{\"type\":\"field\",\"field\":\"x\"},\"y1\":{\"type\":\"field\",\"field\":\"y1\"},\"line_color\":{\"type\":\"value\",\"value\":\"black\"},\"line_alpha\":{\"type\":\"value\",\"value\":1.0},\"line_width\":{\"type\":\"value\",\"value\":1},\"line_join\":{\"type\":\"value\",\"value\":\"bevel\"},\"line_cap\":{\"type\":\"value\",\"value\":\"butt\"},\"line_dash\":{\"type\":\"value\",\"value\":[]},\"line_dash_offset\":{\"type\":\"value\",\"value\":0}}},\"nonselection_glyph\":{\"type\":\"object\",\"name\":\"Segment\",\"id\":\"p1155\",\"attributes\":{\"x0\":{\"type\":\"field\",\"field\":\"x\"},\"y0\":{\"type\":\"field\",\"field\":\"y0\"},\"x1\":{\"type\":\"field\",\"field\":\"x\"},\"y1\":{\"type\":\"field\",\"field\":\"y1\"},\"line_alpha\":{\"type\":\"value\",\"value\":0.1}}},\"muted_glyph\":{\"type\":\"object\",\"name\":\"Segment\",\"id\":\"p1156\",\"attributes\":{\"x0\":{\"type\":\"field\",\"field\":\"x\"},\"y0\":{\"type\":\"field\",\"field\":\"y0\"},\"x1\":{\"type\":\"field\",\"field\":\"x\"},\"y1\":{\"type\":\"field\",\"field\":\"y1\"},\"line_alpha\":{\"type\":\"value\",\"value\":0.2}}}}},{\"type\":\"object\",\"name\":\"GlyphRenderer\",\"id\":\"p1170\",\"attributes\":{\"data_source\":{\"type\":\"object\",\"name\":\"ColumnDataSource\",\"id\":\"p1161\",\"attributes\":{\"selected\":{\"type\":\"object\",\"name\":\"Selection\",\"id\":\"p1162\",\"attributes\":{\"indices\":[],\"line_indices\":[]}},\"selection_policy\":{\"type\":\"object\",\"name\":\"UnionRenderers\",\"id\":\"p1163\"},\"data\":{\"type\":\"map\",\"entries\":[[\"x\",[[\"GB1\",0]]],[\"bottom\",{\"type\":\"ndarray\",\"array\":{\"type\":\"bytes\",\"data\":\"gVnyZgoR5j8=\"},\"shape\":[1],\"dtype\":\"float64\",\"order\":\"little\"}],[\"top\",{\"type\":\"ndarray\",\"array\":{\"type\":\"bytes\",\"data\":\"EQizp9Bh7T8=\"},\"shape\":[1],\"dtype\":\"float64\",\"order\":\"little\"}]]}}},\"view\":{\"type\":\"object\",\"name\":\"CDSView\",\"id\":\"p1171\",\"attributes\":{\"filter\":{\"type\":\"object\",\"name\":\"AllIndices\",\"id\":\"p1172\"}}},\"glyph\":{\"type\":\"object\",\"name\":\"VBar\",\"id\":\"p1167\",\"attributes\":{\"x\":{\"type\":\"field\",\"field\":\"x\"},\"width\":{\"type\":\"value\",\"value\":0.1},\"bottom\":{\"type\":\"field\",\"field\":\"bottom\"},\"top\":{\"type\":\"field\",\"field\":\"top\"},\"fill_color\":{\"type\":\"value\",\"value\":\"black\"}}},\"selection_glyph\":{\"type\":\"object\",\"name\":\"VBar\",\"id\":\"p1173\",\"attributes\":{\"x\":{\"type\":\"field\",\"field\":\"x\"},\"width\":{\"type\":\"value\",\"value\":0.1},\"bottom\":{\"type\":\"field\",\"field\":\"bottom\"},\"top\":{\"type\":\"field\",\"field\":\"top\"},\"line_color\":{\"type\":\"value\",\"value\":\"black\"},\"line_alpha\":{\"type\":\"value\",\"value\":1.0},\"line_width\":{\"type\":\"value\",\"value\":1},\"line_join\":{\"type\":\"value\",\"value\":\"bevel\"},\"line_cap\":{\"type\":\"value\",\"value\":\"butt\"},\"line_dash\":{\"type\":\"value\",\"value\":[]},\"line_dash_offset\":{\"type\":\"value\",\"value\":0},\"fill_color\":{\"type\":\"value\",\"value\":\"black\"},\"fill_alpha\":{\"type\":\"value\",\"value\":1.0},\"hatch_color\":{\"type\":\"value\",\"value\":\"black\"},\"hatch_alpha\":{\"type\":\"value\",\"value\":1.0},\"hatch_scale\":{\"type\":\"value\",\"value\":12.0},\"hatch_pattern\":{\"type\":\"value\",\"value\":null},\"hatch_weight\":{\"type\":\"value\",\"value\":1.0}}},\"nonselection_glyph\":{\"type\":\"object\",\"name\":\"VBar\",\"id\":\"p1168\",\"attributes\":{\"x\":{\"type\":\"field\",\"field\":\"x\"},\"width\":{\"type\":\"value\",\"value\":0.1},\"bottom\":{\"type\":\"field\",\"field\":\"bottom\"},\"top\":{\"type\":\"field\",\"field\":\"top\"},\"line_alpha\":{\"type\":\"value\",\"value\":0.1},\"fill_color\":{\"type\":\"value\",\"value\":\"black\"},\"fill_alpha\":{\"type\":\"value\",\"value\":0.1},\"hatch_alpha\":{\"type\":\"value\",\"value\":0.1}}},\"muted_glyph\":{\"type\":\"object\",\"name\":\"VBar\",\"id\":\"p1169\",\"attributes\":{\"x\":{\"type\":\"field\",\"field\":\"x\"},\"width\":{\"type\":\"value\",\"value\":0.1},\"bottom\":{\"type\":\"field\",\"field\":\"bottom\"},\"top\":{\"type\":\"field\",\"field\":\"top\"},\"line_alpha\":{\"type\":\"value\",\"value\":0.2},\"fill_color\":{\"type\":\"value\",\"value\":\"black\"},\"fill_alpha\":{\"type\":\"value\",\"value\":0.2},\"hatch_alpha\":{\"type\":\"value\",\"value\":0.2}}}}},{\"type\":\"object\",\"name\":\"GlyphRenderer\",\"id\":\"p1183\",\"attributes\":{\"data_source\":{\"type\":\"object\",\"name\":\"ColumnDataSource\",\"id\":\"p1174\",\"attributes\":{\"selected\":{\"type\":\"object\",\"name\":\"Selection\",\"id\":\"p1175\",\"attributes\":{\"indices\":[],\"line_indices\":[]}},\"selection_policy\":{\"type\":\"object\",\"name\":\"UnionRenderers\",\"id\":\"p1176\"},\"data\":{\"type\":\"map\",\"entries\":[[\"x\",[[\"GB1\",0]]],[\"y\",{\"type\":\"ndarray\",\"array\":{\"type\":\"bytes\",\"data\":\"KFB4lm9m6j8=\"},\"shape\":[1],\"dtype\":\"float64\",\"order\":\"little\"}]]}}},\"view\":{\"type\":\"object\",\"name\":\"CDSView\",\"id\":\"p1184\",\"attributes\":{\"filter\":{\"type\":\"object\",\"name\":\"AllIndices\",\"id\":\"p1185\"}}},\"glyph\":{\"type\":\"object\",\"name\":\"Scatter\",\"id\":\"p1180\",\"attributes\":{\"x\":{\"type\":\"field\",\"field\":\"x\"},\"y\":{\"type\":\"field\",\"field\":\"y\"},\"line_color\":{\"type\":\"value\",\"value\":\"white\"},\"fill_color\":{\"type\":\"value\",\"value\":\"white\"},\"hatch_color\":{\"type\":\"value\",\"value\":\"white\"}}},\"selection_glyph\":{\"type\":\"object\",\"name\":\"Scatter\",\"id\":\"p1186\",\"attributes\":{\"x\":{\"type\":\"field\",\"field\":\"x\"},\"y\":{\"type\":\"field\",\"field\":\"y\"},\"size\":{\"type\":\"value\",\"value\":4},\"angle\":{\"type\":\"value\",\"value\":0.0},\"line_color\":{\"type\":\"value\",\"value\":\"white\"},\"line_alpha\":{\"type\":\"value\",\"value\":1.0},\"line_width\":{\"type\":\"value\",\"value\":1},\"line_join\":{\"type\":\"value\",\"value\":\"bevel\"},\"line_cap\":{\"type\":\"value\",\"value\":\"butt\"},\"line_dash\":{\"type\":\"value\",\"value\":[]},\"line_dash_offset\":{\"type\":\"value\",\"value\":0},\"fill_color\":{\"type\":\"value\",\"value\":\"white\"},\"fill_alpha\":{\"type\":\"value\",\"value\":1.0},\"hatch_color\":{\"type\":\"value\",\"value\":\"white\"},\"hatch_alpha\":{\"type\":\"value\",\"value\":1.0},\"hatch_scale\":{\"type\":\"value\",\"value\":12.0},\"hatch_pattern\":{\"type\":\"value\",\"value\":null},\"hatch_weight\":{\"type\":\"value\",\"value\":1.0},\"marker\":{\"type\":\"value\",\"value\":\"circle\"}}},\"nonselection_glyph\":{\"type\":\"object\",\"name\":\"Scatter\",\"id\":\"p1181\",\"attributes\":{\"x\":{\"type\":\"field\",\"field\":\"x\"},\"y\":{\"type\":\"field\",\"field\":\"y\"},\"line_color\":{\"type\":\"value\",\"value\":\"white\"},\"line_alpha\":{\"type\":\"value\",\"value\":0.1},\"fill_color\":{\"type\":\"value\",\"value\":\"white\"},\"fill_alpha\":{\"type\":\"value\",\"value\":0.1},\"hatch_color\":{\"type\":\"value\",\"value\":\"white\"},\"hatch_alpha\":{\"type\":\"value\",\"value\":0.1}}},\"muted_glyph\":{\"type\":\"object\",\"name\":\"Scatter\",\"id\":\"p1182\",\"attributes\":{\"x\":{\"type\":\"field\",\"field\":\"x\"},\"y\":{\"type\":\"field\",\"field\":\"y\"},\"line_color\":{\"type\":\"value\",\"value\":\"white\"},\"line_alpha\":{\"type\":\"value\",\"value\":0.2},\"fill_color\":{\"type\":\"value\",\"value\":\"white\"},\"fill_alpha\":{\"type\":\"value\",\"value\":0.2},\"hatch_color\":{\"type\":\"value\",\"value\":\"white\"},\"hatch_alpha\":{\"type\":\"value\",\"value\":0.2}}}}}],\"toolbar\":{\"type\":\"object\",\"name\":\"Toolbar\",\"id\":\"p1098\",\"attributes\":{\"autohide\":true,\"tools\":[{\"type\":\"object\",\"name\":\"WheelZoomTool\",\"id\":\"p1088\",\"attributes\":{\"tags\":[\"hv_created\"],\"renderers\":\"auto\",\"zoom_together\":\"none\"}},{\"type\":\"object\",\"name\":\"SaveTool\",\"id\":\"p1111\"},{\"type\":\"object\",\"name\":\"PanTool\",\"id\":\"p1112\"},{\"type\":\"object\",\"name\":\"BoxZoomTool\",\"id\":\"p1113\",\"attributes\":{\"overlay\":{\"type\":\"object\",\"name\":\"BoxAnnotation\",\"id\":\"p1114\",\"attributes\":{\"syncable\":false,\"level\":\"overlay\",\"visible\":false,\"left\":{\"type\":\"number\",\"value\":\"nan\"},\"right\":{\"type\":\"number\",\"value\":\"nan\"},\"top\":{\"type\":\"number\",\"value\":\"nan\"},\"bottom\":{\"type\":\"number\",\"value\":\"nan\"},\"left_units\":\"canvas\",\"right_units\":\"canvas\",\"top_units\":\"canvas\",\"bottom_units\":\"canvas\",\"line_color\":\"black\",\"line_alpha\":1.0,\"line_width\":2,\"line_dash\":[4,4],\"fill_color\":\"lightgrey\",\"fill_alpha\":0.5}}}},{\"type\":\"object\",\"name\":\"ResetTool\",\"id\":\"p1119\"}],\"active_drag\":{\"id\":\"p1112\"},\"active_scroll\":{\"id\":\"p1088\"}}},\"left\":[{\"type\":\"object\",\"name\":\"LinearAxis\",\"id\":\"p1106\",\"attributes\":{\"ticker\":{\"type\":\"object\",\"name\":\"BasicTicker\",\"id\":\"p1107\",\"attributes\":{\"mantissas\":[1,2,5]}},\"formatter\":{\"type\":\"object\",\"name\":\"BasicTickFormatter\",\"id\":\"p1108\"},\"axis_label\":\"Max Fitness Achieved\",\"axis_label_text_font_size\":\"16.9px\",\"major_label_policy\":{\"type\":\"object\",\"name\":\"AllLabels\",\"id\":\"p1109\"},\"major_label_text_font_size\":\"14.3px\"}}],\"below\":[{\"type\":\"object\",\"name\":\"CategoricalAxis\",\"id\":\"p1101\",\"attributes\":{\"ticker\":{\"type\":\"object\",\"name\":\"CategoricalTicker\",\"id\":\"p1102\"},\"formatter\":{\"type\":\"object\",\"name\":\"CategoricalTickFormatter\",\"id\":\"p1103\"},\"axis_label\":\"Protein\",\"axis_label_text_font_size\":\"16.9px\",\"major_label_policy\":{\"type\":\"object\",\"name\":\"AllLabels\",\"id\":\"p1104\"},\"major_label_text_font_size\":\"14.3px\",\"group_text_font_size\":\"14.3px\"}}],\"center\":[{\"type\":\"object\",\"name\":\"Grid\",\"id\":\"p1105\",\"attributes\":{\"axis\":{\"id\":\"p1101\"},\"grid_line_color\":null}},{\"type\":\"object\",\"name\":\"Grid\",\"id\":\"p1110\",\"attributes\":{\"dimension\":1,\"axis\":{\"id\":\"p1106\"},\"grid_line_color\":null}}],\"frame_width\":300,\"frame_height\":300,\"min_border_top\":20,\"min_border_bottom\":65,\"min_border_left\":65,\"min_border_right\":30,\"output_backend\":\"webgl\"}},{\"type\":\"object\",\"name\":\"Spacer\",\"id\":\"p1188\",\"attributes\":{\"name\":\"HSpacer00960\",\"stylesheets\":[\"\\n:host(.pn-loading.pn-arc):before, .pn-loading.pn-arc:before {\\n  background-image: url(\\\"data:image/svg+xml;base64,PHN2ZyB4bWxucz0iaHR0cDovL3d3dy53My5vcmcvMjAwMC9zdmciIHN0eWxlPSJtYXJnaW46IGF1dG87IGJhY2tncm91bmQ6IG5vbmU7IGRpc3BsYXk6IGJsb2NrOyBzaGFwZS1yZW5kZXJpbmc6IGF1dG87IiB2aWV3Qm94PSIwIDAgMTAwIDEwMCIgcHJlc2VydmVBc3BlY3RSYXRpbz0ieE1pZFlNaWQiPiAgPGNpcmNsZSBjeD0iNTAiIGN5PSI1MCIgZmlsbD0ibm9uZSIgc3Ryb2tlPSIjYzNjM2MzIiBzdHJva2Utd2lkdGg9IjEwIiByPSIzNSIgc3Ryb2tlLWRhc2hhcnJheT0iMTY0LjkzMzYxNDMxMzQ2NDE1IDU2Ljk3Nzg3MTQzNzgyMTM4Ij4gICAgPGFuaW1hdGVUcmFuc2Zvcm0gYXR0cmlidXRlTmFtZT0idHJhbnNmb3JtIiB0eXBlPSJyb3RhdGUiIHJlcGVhdENvdW50PSJpbmRlZmluaXRlIiBkdXI9IjFzIiB2YWx1ZXM9IjAgNTAgNTA7MzYwIDUwIDUwIiBrZXlUaW1lcz0iMDsxIj48L2FuaW1hdGVUcmFuc2Zvcm0+ICA8L2NpcmNsZT48L3N2Zz4=\\\");\\n  background-size: auto calc(min(50%, 400px));\\n}\",{\"id\":\"p1081\"},{\"id\":\"p1079\"},{\"id\":\"p1080\"}],\"margin\":0,\"sizing_mode\":\"stretch_width\",\"align\":\"start\"}}]}}],\"defs\":[{\"type\":\"model\",\"name\":\"ReactiveHTML1\"},{\"type\":\"model\",\"name\":\"FlexBox1\",\"properties\":[{\"name\":\"align_content\",\"kind\":\"Any\",\"default\":\"flex-start\"},{\"name\":\"align_items\",\"kind\":\"Any\",\"default\":\"flex-start\"},{\"name\":\"flex_direction\",\"kind\":\"Any\",\"default\":\"row\"},{\"name\":\"flex_wrap\",\"kind\":\"Any\",\"default\":\"wrap\"},{\"name\":\"justify_content\",\"kind\":\"Any\",\"default\":\"flex-start\"}]},{\"type\":\"model\",\"name\":\"FloatPanel1\",\"properties\":[{\"name\":\"config\",\"kind\":\"Any\",\"default\":{\"type\":\"map\"}},{\"name\":\"contained\",\"kind\":\"Any\",\"default\":true},{\"name\":\"position\",\"kind\":\"Any\",\"default\":\"right-top\"},{\"name\":\"offsetx\",\"kind\":\"Any\",\"default\":null},{\"name\":\"offsety\",\"kind\":\"Any\",\"default\":null},{\"name\":\"theme\",\"kind\":\"Any\",\"default\":\"primary\"},{\"name\":\"status\",\"kind\":\"Any\",\"default\":\"normalized\"}]},{\"type\":\"model\",\"name\":\"GridStack1\",\"properties\":[{\"name\":\"mode\",\"kind\":\"Any\",\"default\":\"warn\"},{\"name\":\"ncols\",\"kind\":\"Any\",\"default\":null},{\"name\":\"nrows\",\"kind\":\"Any\",\"default\":null},{\"name\":\"allow_resize\",\"kind\":\"Any\",\"default\":true},{\"name\":\"allow_drag\",\"kind\":\"Any\",\"default\":true},{\"name\":\"state\",\"kind\":\"Any\",\"default\":[]}]},{\"type\":\"model\",\"name\":\"drag1\",\"properties\":[{\"name\":\"slider_width\",\"kind\":\"Any\",\"default\":5},{\"name\":\"slider_color\",\"kind\":\"Any\",\"default\":\"black\"},{\"name\":\"value\",\"kind\":\"Any\",\"default\":50}]},{\"type\":\"model\",\"name\":\"click1\",\"properties\":[{\"name\":\"terminal_output\",\"kind\":\"Any\",\"default\":\"\"},{\"name\":\"debug_name\",\"kind\":\"Any\",\"default\":\"\"},{\"name\":\"clears\",\"kind\":\"Any\",\"default\":0}]},{\"type\":\"model\",\"name\":\"copy_to_clipboard1\",\"properties\":[{\"name\":\"fill\",\"kind\":\"Any\",\"default\":\"none\"},{\"name\":\"value\",\"kind\":\"Any\",\"default\":null}]},{\"type\":\"model\",\"name\":\"FastWrapper1\",\"properties\":[{\"name\":\"object\",\"kind\":\"Any\",\"default\":null},{\"name\":\"style\",\"kind\":\"Any\",\"default\":null}]},{\"type\":\"model\",\"name\":\"NotificationAreaBase1\",\"properties\":[{\"name\":\"js_events\",\"kind\":\"Any\",\"default\":{\"type\":\"map\"}},{\"name\":\"position\",\"kind\":\"Any\",\"default\":\"bottom-right\"},{\"name\":\"_clear\",\"kind\":\"Any\",\"default\":0}]},{\"type\":\"model\",\"name\":\"NotificationArea1\",\"properties\":[{\"name\":\"js_events\",\"kind\":\"Any\",\"default\":{\"type\":\"map\"}},{\"name\":\"notifications\",\"kind\":\"Any\",\"default\":[]},{\"name\":\"position\",\"kind\":\"Any\",\"default\":\"bottom-right\"},{\"name\":\"_clear\",\"kind\":\"Any\",\"default\":0},{\"name\":\"types\",\"kind\":\"Any\",\"default\":[{\"type\":\"map\",\"entries\":[[\"type\",\"warning\"],[\"background\",\"#ffc107\"],[\"icon\",{\"type\":\"map\",\"entries\":[[\"className\",\"fas fa-exclamation-triangle\"],[\"tagName\",\"i\"],[\"color\",\"white\"]]}]]},{\"type\":\"map\",\"entries\":[[\"type\",\"info\"],[\"background\",\"#007bff\"],[\"icon\",{\"type\":\"map\",\"entries\":[[\"className\",\"fas fa-info-circle\"],[\"tagName\",\"i\"],[\"color\",\"white\"]]}]]}]}]},{\"type\":\"model\",\"name\":\"Notification\",\"properties\":[{\"name\":\"background\",\"kind\":\"Any\",\"default\":null},{\"name\":\"duration\",\"kind\":\"Any\",\"default\":3000},{\"name\":\"icon\",\"kind\":\"Any\",\"default\":null},{\"name\":\"message\",\"kind\":\"Any\",\"default\":\"\"},{\"name\":\"notification_type\",\"kind\":\"Any\",\"default\":null},{\"name\":\"_destroyed\",\"kind\":\"Any\",\"default\":false}]},{\"type\":\"model\",\"name\":\"TemplateActions1\",\"properties\":[{\"name\":\"open_modal\",\"kind\":\"Any\",\"default\":0},{\"name\":\"close_modal\",\"kind\":\"Any\",\"default\":0}]},{\"type\":\"model\",\"name\":\"BootstrapTemplateActions1\",\"properties\":[{\"name\":\"open_modal\",\"kind\":\"Any\",\"default\":0},{\"name\":\"close_modal\",\"kind\":\"Any\",\"default\":0}]},{\"type\":\"model\",\"name\":\"MaterialTemplateActions1\",\"properties\":[{\"name\":\"open_modal\",\"kind\":\"Any\",\"default\":0},{\"name\":\"close_modal\",\"kind\":\"Any\",\"default\":0}]}]}};\n",
       "  var render_items = [{\"docid\":\"04c58ead-0736-4355-8acd-5493fa2e05b0\",\"roots\":{\"p1078\":\"a64520a2-68a5-4995-8735-2a9fb8840524\"},\"root_ids\":[\"p1078\"]}];\n",
       "  var docs = Object.values(docs_json)\n",
       "  if (!docs) {\n",
       "    return\n",
       "  }\n",
       "  const py_version = docs[0].version.replace('rc', '-rc.').replace('.dev', '-dev.')\n",
       "  function embed_document(root) {\n",
       "    var Bokeh = get_bokeh(root)\n",
       "    Bokeh.embed.embed_items_notebook(docs_json, render_items);\n",
       "    for (const render_item of render_items) {\n",
       "      for (const root_id of render_item.root_ids) {\n",
       "\tconst id_el = document.getElementById(root_id)\n",
       "\tif (id_el.children.length && (id_el.children[0].className === 'bk-root')) {\n",
       "\t  const root_el = id_el.children[0]\n",
       "\t  root_el.id = root_el.id + '-rendered'\n",
       "\t}\n",
       "      }\n",
       "    }\n",
       "  }\n",
       "  function get_bokeh(root) {\n",
       "    if (root.Bokeh === undefined) {\n",
       "      return null\n",
       "    } else if (root.Bokeh.version !== py_version) {\n",
       "      if (root.Bokeh.versions === undefined || !root.Bokeh.versions.has(py_version)) {\n",
       "\treturn null\n",
       "      }\n",
       "      return root.Bokeh.versions.get(py_version);\n",
       "    } else if (root.Bokeh.version === py_version) {\n",
       "      return root.Bokeh\n",
       "    }\n",
       "    return null\n",
       "  }\n",
       "  function is_loaded(root) {\n",
       "    var Bokeh = get_bokeh(root)\n",
       "    return (Bokeh != null && Bokeh.Panel !== undefined)\n",
       "  }\n",
       "  if (is_loaded(root)) {\n",
       "    embed_document(root);\n",
       "  } else {\n",
       "    var attempts = 0;\n",
       "    var timer = setInterval(function(root) {\n",
       "      if (is_loaded(root)) {\n",
       "        clearInterval(timer);\n",
       "        embed_document(root);\n",
       "      } else if (document.readyState == \"complete\") {\n",
       "        attempts++;\n",
       "        if (attempts > 200) {\n",
       "          clearInterval(timer);\n",
       "\t  var Bokeh = get_bokeh(root)\n",
       "\t  if (Bokeh == null || Bokeh.Panel == null) {\n",
       "            console.warn(\"Panel: ERROR: Unable to run Panel code because Bokeh or Panel library is missing\");\n",
       "\t  } else {\n",
       "\t    console.warn(\"Panel: WARNING: Attempting to render but not all required libraries could be resolved.\")\n",
       "\t    embed_document(root)\n",
       "\t  }\n",
       "        }\n",
       "      }\n",
       "    }, 25, root)\n",
       "  }\n",
       "})(window);</script>"
      ],
      "text/plain": [
       ":Violin   [Landscape]   (max_fitness)"
      ]
     },
     "execution_count": 43,
     "metadata": {
      "application/vnd.holoviews_exec.v0+json": {
       "id": "p1078"
      }
     },
     "output_type": "execute_result"
    }
   ],
   "source": [
    "#MLDE violin plots\n",
    "# Plot Hooks\n",
    "def one_decimal_x(plot,element):\n",
    "    plot.handles['plot'].xaxis[0].formatter = NumeralTickFormatter(format=\"0.0\")\n",
    "\n",
    "def one_decimal_y(plot,element):\n",
    "    plot.handles['plot'].yaxis[0].formatter = NumeralTickFormatter(format=\"0.0\")\n",
    "\n",
    "def fixmargins(plot,element):\n",
    "    plot.handles['plot'].min_border_right=30\n",
    "    plot.handles['plot'].min_border_left=65\n",
    "    plot.handles['plot'].min_border_top=20\n",
    "    plot.handles['plot'].min_border_bottom=65\n",
    "    plot.handles['plot'].outline_line_color='black'\n",
    "    plot.handles['plot'].outline_line_alpha=1\n",
    "    plot.handles['plot'].outline_line_width=1\n",
    "    plot.handles['plot'].toolbar.autohide = True\n",
    "    \n",
    "data = pd.DataFrame.from_dict(maxes2)\n",
    "data = data.melt(var_name='Landscape', value_name='max_fitness')\n",
    "\n",
    "MLDE_fig = hv.Violin(\n",
    "    data.sort_index(ascending=False), ['Landscape'], 'max_fitness'\n",
    ").opts(\n",
    "    # split='protein',\n",
    "    frame_height=300,\n",
    "    frame_width=300,\n",
    "    violin_width=0.8,\n",
    "    fontscale=1.3,\n",
    "    hooks=[fixmargins],\n",
    "    # show_legend=True,\n",
    "    # inner=None,\n",
    "    cut = 0,\n",
    "    # legend_position='top',\n",
    "    ylabel='Max Fitness Achieved',\n",
    "    violin_color=hv.dim('Landscape').str(),\n",
    "    cmap = 'Category10',\n",
    "    xlabel = 'Protein',\n",
    "    ylim = (0,1)\n",
    ")\n",
    "\n",
    "MLDE_fig"
   ]
  },
  {
   "cell_type": "code",
   "execution_count": 44,
   "metadata": {},
   "outputs": [
    {
     "data": {
      "text/html": [
       "<div>\n",
       "<style scoped>\n",
       "    .dataframe tbody tr th:only-of-type {\n",
       "        vertical-align: middle;\n",
       "    }\n",
       "\n",
       "    .dataframe tbody tr th {\n",
       "        vertical-align: top;\n",
       "    }\n",
       "\n",
       "    .dataframe thead th {\n",
       "        text-align: right;\n",
       "    }\n",
       "</style>\n",
       "<table border=\"1\" class=\"dataframe\">\n",
       "  <thead>\n",
       "    <tr style=\"text-align: right;\">\n",
       "      <th></th>\n",
       "      <th>Landscape</th>\n",
       "      <th>max_fitness</th>\n",
       "    </tr>\n",
       "  </thead>\n",
       "  <tbody>\n",
       "    <tr>\n",
       "      <th>0</th>\n",
       "      <td>GB1</td>\n",
       "      <td>0.796777</td>\n",
       "    </tr>\n",
       "    <tr>\n",
       "      <th>1</th>\n",
       "      <td>GB1</td>\n",
       "      <td>0.614051</td>\n",
       "    </tr>\n",
       "    <tr>\n",
       "      <th>2</th>\n",
       "      <td>GB1</td>\n",
       "      <td>0.526876</td>\n",
       "    </tr>\n",
       "    <tr>\n",
       "      <th>3</th>\n",
       "      <td>GB1</td>\n",
       "      <td>0.741846</td>\n",
       "    </tr>\n",
       "    <tr>\n",
       "      <th>4</th>\n",
       "      <td>GB1</td>\n",
       "      <td>0.475515</td>\n",
       "    </tr>\n",
       "    <tr>\n",
       "      <th>...</th>\n",
       "      <td>...</td>\n",
       "      <td>...</td>\n",
       "    </tr>\n",
       "    <tr>\n",
       "      <th>345</th>\n",
       "      <td>GB1</td>\n",
       "      <td>0.918190</td>\n",
       "    </tr>\n",
       "    <tr>\n",
       "      <th>346</th>\n",
       "      <td>GB1</td>\n",
       "      <td>1.000000</td>\n",
       "    </tr>\n",
       "    <tr>\n",
       "      <th>347</th>\n",
       "      <td>GB1</td>\n",
       "      <td>1.000000</td>\n",
       "    </tr>\n",
       "    <tr>\n",
       "      <th>348</th>\n",
       "      <td>GB1</td>\n",
       "      <td>0.862211</td>\n",
       "    </tr>\n",
       "    <tr>\n",
       "      <th>349</th>\n",
       "      <td>GB1</td>\n",
       "      <td>0.707733</td>\n",
       "    </tr>\n",
       "  </tbody>\n",
       "</table>\n",
       "<p>350 rows × 2 columns</p>\n",
       "</div>"
      ],
      "text/plain": [
       "    Landscape  max_fitness\n",
       "0         GB1     0.796777\n",
       "1         GB1     0.614051\n",
       "2         GB1     0.526876\n",
       "3         GB1     0.741846\n",
       "4         GB1     0.475515\n",
       "..        ...          ...\n",
       "345       GB1     0.918190\n",
       "346       GB1     1.000000\n",
       "347       GB1     1.000000\n",
       "348       GB1     0.862211\n",
       "349       GB1     0.707733\n",
       "\n",
       "[350 rows x 2 columns]"
      ]
     },
     "execution_count": 44,
     "metadata": {},
     "output_type": "execute_result"
    }
   ],
   "source": [
    "data"
   ]
  },
  {
   "cell_type": "code",
   "execution_count": 30,
   "metadata": {},
   "outputs": [],
   "source": []
  },
  {
   "cell_type": "code",
   "execution_count": null,
   "metadata": {},
   "outputs": [],
   "source": []
  }
 ],
 "metadata": {
  "kernelspec": {
   "display_name": "Python 3.9.13 ('ProtGraphR')",
   "language": "python",
   "name": "python3"
  },
  "language_info": {
   "codemirror_mode": {
    "name": "ipython",
    "version": 3
   },
   "file_extension": ".py",
   "mimetype": "text/x-python",
   "name": "python",
   "nbconvert_exporter": "python",
   "pygments_lexer": "ipython3",
   "version": "3.10.13"
  },
  "orig_nbformat": 4,
  "vscode": {
   "interpreter": {
    "hash": "139d1aaa1d1fb05ac2b871ea076ee69809b0d9a8dfdac7dc2e2d4e05ffa29f01"
   }
  }
 },
 "nbformat": 4,
 "nbformat_minor": 2
}
