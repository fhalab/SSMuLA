{
 "cells": [
  {
   "cell_type": "code",
   "execution_count": 1,
   "metadata": {},
   "outputs": [
    {
     "name": "stdout",
     "output_type": "stream",
     "text": [
      "/disk2/fli/SSMuLA\n"
     ]
    }
   ],
   "source": [
    "%cd ~/SSMuLA/"
   ]
  },
  {
   "cell_type": "code",
   "execution_count": 4,
   "metadata": {},
   "outputs": [],
   "source": [
    "# %load_ext autoreload\n",
    "# %autoreload 2\n",
    "# %load_ext blackcellmagic"
   ]
  },
  {
   "cell_type": "code",
   "execution_count": 5,
   "metadata": {},
   "outputs": [
    {
     "name": "stdout",
     "output_type": "stream",
     "text": [
      "torch geometric not found, GNN examples will not work until it is.\n"
     ]
    }
   ],
   "source": [
    "import atom3d.datasets as da"
   ]
  },
  {
   "cell_type": "code",
   "execution_count": 6,
   "metadata": {},
   "outputs": [
    {
     "name": "stderr",
     "output_type": "stream",
     "text": [
      "0it [00:00, ?it/s]\n"
     ]
    }
   ],
   "source": [
    "\n",
    "# Load dataset from directory of PDB files\n",
    "dataset = da.load_dataset(\"data/ParD3/ParD3.pdb\", 'pdb')\n",
    "# Create LMDB dataset from PDB dataset\n",
    "da.make_lmdb_dataset(dataset, \"lmdb\")"
   ]
  },
  {
   "cell_type": "code",
   "execution_count": 7,
   "metadata": {},
   "outputs": [],
   "source": [
    "import importlib"
   ]
  },
  {
   "cell_type": "code",
   "execution_count": 42,
   "metadata": {},
   "outputs": [],
   "source": [
    "import torch, functools\n",
    "from torch import nn, scatter_add\n",
    "import torch.nn.functional as F\n",
    "import torch_geometric\n",
    "from torch_geometric.nn import MessagePassing"
   ]
  },
  {
   "cell_type": "code",
   "execution_count": 3,
   "metadata": {},
   "outputs": [],
   "source": [
    "def tuple_sum(*args):\n",
    "    '''\n",
    "    Sums any number of tuples (s, V) elementwise.\n",
    "    '''\n",
    "    return tuple(map(sum, zip(*args)))\n",
    "\n",
    "\n",
    "def tuple_cat(*args, dim=-1):\n",
    "    '''\n",
    "    Concatenates any number of tuples (s, V) elementwise.\n",
    "    \n",
    "    :param dim: dimension along which to concatenate when viewed\n",
    "                as the `dim` index for the scalar-channel tensors.\n",
    "                This means that `dim=-1` will be applied as\n",
    "                `dim=-2` for the vector-channel tensors.\n",
    "    '''\n",
    "    dim %= len(args[0][0].shape)\n",
    "    s_args, v_args = list(zip(*args))\n",
    "    return torch.cat(s_args, dim=dim), torch.cat(v_args, dim=dim)\n",
    "\n",
    "\n",
    "def tuple_index(x, idx):\n",
    "    '''\n",
    "    Indexes into a tuple (s, V) along the first dimension.\n",
    "    \n",
    "    :param idx: any object which can be used to index into a `torch.Tensor`\n",
    "    '''\n",
    "    return x[0][idx], x[1][idx]\n",
    "\n",
    "def _split(x, nv):\n",
    "    '''\n",
    "    Splits a merged representation of (s, V) back into a tuple. \n",
    "    Should be used only with `_merge(s, V)` and only if the tuple \n",
    "    representation cannot be used.\n",
    "    \n",
    "    :param x: the `torch.Tensor` returned from `_merge`\n",
    "    :param nv: the number of vector channels in the input to `_merge`\n",
    "    '''\n",
    "    v = torch.reshape(x[..., -3*nv:], x.shape[:-1] + (nv, 3))\n",
    "    s = x[..., :-3*nv]\n",
    "    return s, v\n",
    "\n",
    "def _merge(s, v):\n",
    "    '''\n",
    "    Merges a tuple (s, V) into a single `torch.Tensor`, where the\n",
    "    vector channels are flattened and appended to the scalar channels.\n",
    "    Should be used only if the tuple representation cannot be used.\n",
    "    Use `_split(x, nv)` to reverse.\n",
    "    '''\n",
    "    v = torch.reshape(v, v.shape[:-2] + (3*v.shape[-2],))\n",
    "    return torch.cat([s, v], -1)\n",
    "\n",
    "def _norm_no_nan(x, axis=-1, keepdims=False, eps=1e-8, sqrt=True):\n",
    "    '''\n",
    "    L2 norm of tensor clamped above a minimum value `eps`.\n",
    "    \n",
    "    :param sqrt: if `False`, returns the square of the L2 norm\n",
    "    '''\n",
    "    out = torch.clamp(torch.sum(torch.square(x), axis, keepdims), min=eps)\n",
    "    return torch.sqrt(out) if sqrt else out"
   ]
  },
  {
   "cell_type": "code",
   "execution_count": 4,
   "metadata": {},
   "outputs": [],
   "source": [
    "class _VDropout(nn.Module):\n",
    "    '''\n",
    "    Vector channel dropout where the elements of each\n",
    "    vector channel are dropped together.\n",
    "    '''\n",
    "    def __init__(self, drop_rate):\n",
    "        super(_VDropout, self).__init__()\n",
    "        self.drop_rate = drop_rate\n",
    "        self.dummy_param = nn.Parameter(torch.empty(0))\n",
    "\n",
    "    def forward(self, x):\n",
    "        '''\n",
    "        :param x: `torch.Tensor` corresponding to vector channels\n",
    "        '''\n",
    "        device = self.dummy_param.device\n",
    "        if not self.training:\n",
    "            return x\n",
    "        mask = torch.bernoulli(\n",
    "            (1 - self.drop_rate) * torch.ones(x.shape[:-1], device=device)\n",
    "        ).unsqueeze(-1)\n",
    "        x = mask * x / (1 - self.drop_rate)\n",
    "        return x\n",
    "\n",
    "        "
   ]
  },
  {
   "cell_type": "code",
   "execution_count": 5,
   "metadata": {},
   "outputs": [],
   "source": [
    "\n",
    "class LayerNorm(nn.Module):\n",
    "    '''\n",
    "    Combined LayerNorm for tuples (s, V).\n",
    "    Takes tuples (s, V) as input and as output.\n",
    "    '''\n",
    "    def __init__(self, dims):\n",
    "        super(LayerNorm, self).__init__()\n",
    "        self.s, self.v = dims\n",
    "        self.scalar_norm = nn.LayerNorm(self.s)\n",
    "        \n",
    "    def forward(self, x):\n",
    "        '''\n",
    "        :param x: tuple (s, V) of `torch.Tensor`,\n",
    "                  or single `torch.Tensor` \n",
    "                  (will be assumed to be scalar channels)\n",
    "        '''\n",
    "        if not self.v:\n",
    "            return self.scalar_norm(x)\n",
    "        s, v = x\n",
    "        vn = _norm_no_nan(v, axis=-1, keepdims=True, sqrt=False)\n",
    "        vn = torch.sqrt(torch.mean(vn, dim=-2, keepdim=True))\n",
    "        return self.scalar_norm(s), v / vn"
   ]
  },
  {
   "cell_type": "code",
   "execution_count": 6,
   "metadata": {},
   "outputs": [],
   "source": [
    "\n",
    "class Dropout(nn.Module):\n",
    "    '''\n",
    "    Combined dropout for tuples (s, V).\n",
    "    Takes tuples (s, V) as input and as output.\n",
    "    '''\n",
    "    def __init__(self, drop_rate):\n",
    "        super(Dropout, self).__init__()\n",
    "        self.sdropout = nn.Dropout(drop_rate)\n",
    "        self.vdropout = _VDropout(drop_rate)\n",
    "\n",
    "    def forward(self, x):\n",
    "        '''\n",
    "        :param x: tuple (s, V) of `torch.Tensor`,\n",
    "                  or single `torch.Tensor` \n",
    "                  (will be assumed to be scalar channels)\n",
    "        '''\n",
    "        if type(x) is torch.Tensor:\n",
    "            return self.sdropout(x)\n",
    "        s, v = x\n",
    "        return self.sdropout(s), self.vdropout(v)"
   ]
  },
  {
   "cell_type": "code",
   "execution_count": 7,
   "metadata": {},
   "outputs": [],
   "source": [
    "\n",
    "class GVP(nn.Module):\n",
    "    '''\n",
    "    Geometric Vector Perceptron. See manuscript and README.md\n",
    "    for more details.\n",
    "    \n",
    "    :param in_dims: tuple (n_scalar, n_vector)\n",
    "    :param out_dims: tuple (n_scalar, n_vector)\n",
    "    :param h_dim: intermediate number of vector channels, optional\n",
    "    :param activations: tuple of functions (scalar_act, vector_act)\n",
    "    :param vector_gate: whether to use vector gating.\n",
    "                        (vector_act will be used as sigma^+ in vector gating if `True`)\n",
    "    '''\n",
    "    def __init__(self, in_dims, out_dims, h_dim=None,\n",
    "                 activations=(F.relu, torch.sigmoid), vector_gate=False):\n",
    "        super(GVP, self).__init__()\n",
    "        self.si, self.vi = in_dims\n",
    "        self.so, self.vo = out_dims\n",
    "        self.vector_gate = vector_gate\n",
    "        if self.vi: \n",
    "            self.h_dim = h_dim or max(self.vi, self.vo) \n",
    "            self.wh = nn.Linear(self.vi, self.h_dim, bias=False)\n",
    "            self.ws = nn.Linear(self.h_dim + self.si, self.so)\n",
    "            if self.vo:\n",
    "                self.wv = nn.Linear(self.h_dim, self.vo, bias=False)\n",
    "                if self.vector_gate: self.wsv = nn.Linear(self.so, self.vo)\n",
    "        else:\n",
    "            self.ws = nn.Linear(self.si, self.so)\n",
    "        \n",
    "        self.scalar_act, self.vector_act = activations\n",
    "        self.dummy_param = nn.Parameter(torch.empty(0))\n",
    "        \n",
    "    def forward(self, x):\n",
    "        '''\n",
    "        :param x: tuple (s, V) of `torch.Tensor`, \n",
    "                  or (if vectors_in is 0), a single `torch.Tensor`\n",
    "        :return: tuple (s, V) of `torch.Tensor`,\n",
    "                 or (if vectors_out is 0), a single `torch.Tensor`\n",
    "        '''\n",
    "        if self.vi:\n",
    "            s, v = x\n",
    "            v = torch.transpose(v, -1, -2)\n",
    "            vh = self.wh(v)    \n",
    "            vn = _norm_no_nan(vh, axis=-2)\n",
    "            s = self.ws(torch.cat([s, vn], -1))\n",
    "            if self.vo: \n",
    "                v = self.wv(vh) \n",
    "                v = torch.transpose(v, -1, -2)\n",
    "                if self.vector_gate: \n",
    "                    if self.vector_act:\n",
    "                        gate = self.wsv(self.vector_act(s))\n",
    "                    else:\n",
    "                        gate = self.wsv(s)\n",
    "                    v = v * torch.sigmoid(gate).unsqueeze(-1)\n",
    "                elif self.vector_act:\n",
    "                    v = v * self.vector_act(\n",
    "                        _norm_no_nan(v, axis=-1, keepdims=True))\n",
    "        else:\n",
    "            s = self.ws(x)\n",
    "            if self.vo:\n",
    "                v = torch.zeros(s.shape[0], self.vo, 3,\n",
    "                                device=self.dummy_param.device)\n",
    "        if self.scalar_act:\n",
    "            s = self.scalar_act(s)\n",
    "        \n",
    "        return (s, v) if self.vo else s\n",
    "\n",
    "\n",
    "class GVPConv(MessagePassing):\n",
    "    '''\n",
    "    Graph convolution / message passing with Geometric Vector Perceptrons.\n",
    "    Takes in a graph with node and edge embeddings,\n",
    "    and returns new node embeddings.\n",
    "    \n",
    "    This does NOT do residual updates and pointwise feedforward layers\n",
    "    ---see `GVPConvLayer`.\n",
    "    \n",
    "    :param in_dims: input node embedding dimensions (n_scalar, n_vector)\n",
    "    :param out_dims: output node embedding dimensions (n_scalar, n_vector)\n",
    "    :param edge_dims: input edge embedding dimensions (n_scalar, n_vector)\n",
    "    :param n_layers: number of GVPs in the message function\n",
    "    :param module_list: preconstructed message function, overrides n_layers\n",
    "    :param aggr: should be \"add\" if some incoming edges are masked, as in\n",
    "                 a masked autoregressive decoder architecture, otherwise \"mean\"\n",
    "    :param activations: tuple of functions (scalar_act, vector_act) to use in GVPs\n",
    "    :param vector_gate: whether to use vector gating.\n",
    "                        (vector_act will be used as sigma^+ in vector gating if `True`)\n",
    "    '''\n",
    "    def __init__(self, in_dims, out_dims, edge_dims,\n",
    "                 n_layers=3, module_list=None, aggr=\"mean\", \n",
    "                 activations=(F.relu, torch.sigmoid), vector_gate=False):\n",
    "        super(GVPConv, self).__init__(aggr=aggr)\n",
    "        self.si, self.vi = in_dims\n",
    "        self.so, self.vo = out_dims\n",
    "        self.se, self.ve = edge_dims\n",
    "        \n",
    "        GVP_ = functools.partial(GVP, \n",
    "                activations=activations, vector_gate=vector_gate)\n",
    "        \n",
    "        module_list = module_list or []\n",
    "        if not module_list:\n",
    "            if n_layers == 1:\n",
    "                module_list.append(\n",
    "                    GVP_((2*self.si + self.se, 2*self.vi + self.ve), \n",
    "                        (self.so, self.vo), activations=(None, None)))\n",
    "            else:\n",
    "                module_list.append(\n",
    "                    GVP_((2*self.si + self.se, 2*self.vi + self.ve), out_dims)\n",
    "                )\n",
    "                for i in range(n_layers - 2):\n",
    "                    module_list.append(GVP_(out_dims, out_dims))\n",
    "                module_list.append(GVP_(out_dims, out_dims,\n",
    "                                       activations=(None, None)))\n",
    "        self.message_func = nn.Sequential(*module_list)\n",
    "\n",
    "    def forward(self, x, edge_index, edge_attr):\n",
    "        '''\n",
    "        :param x: tuple (s, V) of `torch.Tensor`\n",
    "        :param edge_index: array of shape [2, n_edges]\n",
    "        :param edge_attr: tuple (s, V) of `torch.Tensor`\n",
    "        '''\n",
    "        x_s, x_v = x\n",
    "        message = self.propagate(edge_index, \n",
    "                    s=x_s, v=x_v.reshape(x_v.shape[0], 3*x_v.shape[1]),\n",
    "                    edge_attr=edge_attr)\n",
    "        return _split(message, self.vo) \n",
    "\n",
    "    def message(self, s_i, v_i, s_j, v_j, edge_attr):\n",
    "        v_j = v_j.view(v_j.shape[0], v_j.shape[1]//3, 3)\n",
    "        v_i = v_i.view(v_i.shape[0], v_i.shape[1]//3, 3)\n",
    "        message = tuple_cat((s_j, v_j), edge_attr, (s_i, v_i))\n",
    "        message = self.message_func(message)\n",
    "        return _merge(*message)\n",
    "\n",
    "class GVPConvLayer(nn.Module):\n",
    "    '''\n",
    "    Full graph convolution / message passing layer with \n",
    "    Geometric Vector Perceptrons. Residually updates node embeddings with\n",
    "    aggregated incoming messages, applies a pointwise feedforward \n",
    "    network to node embeddings, and returns updated node embeddings.\n",
    "    \n",
    "    To only compute the aggregated messages, see `GVPConv`.\n",
    "    \n",
    "    :param node_dims: node embedding dimensions (n_scalar, n_vector)\n",
    "    :param edge_dims: input edge embedding dimensions (n_scalar, n_vector)\n",
    "    :param n_message: number of GVPs to use in message function\n",
    "    :param n_feedforward: number of GVPs to use in feedforward function\n",
    "    :param drop_rate: drop probability in all dropout layers\n",
    "    :param autoregressive: if `True`, this `GVPConvLayer` will be used\n",
    "           with a different set of input node embeddings for messages\n",
    "           where src >= dst\n",
    "    :param activations: tuple of functions (scalar_act, vector_act) to use in GVPs\n",
    "    :param vector_gate: whether to use vector gating.\n",
    "                        (vector_act will be used as sigma^+ in vector gating if `True`)\n",
    "    '''\n",
    "    def __init__(self, node_dims, edge_dims,\n",
    "                 n_message=3, n_feedforward=2, drop_rate=.1,\n",
    "                 autoregressive=False, \n",
    "                 activations=(F.relu, torch.sigmoid), vector_gate=False):\n",
    "        \n",
    "        super(GVPConvLayer, self).__init__()\n",
    "        self.conv = GVPConv(node_dims, node_dims, edge_dims, n_message,\n",
    "                           aggr=\"add\" if autoregressive else \"mean\",\n",
    "                           activations=activations, vector_gate=vector_gate)\n",
    "        GVP_ = functools.partial(GVP, \n",
    "                activations=activations, vector_gate=vector_gate)\n",
    "        self.norm = nn.ModuleList([LayerNorm(node_dims) for _ in range(2)])\n",
    "        self.dropout = nn.ModuleList([Dropout(drop_rate) for _ in range(2)])\n",
    "\n",
    "        ff_func = []\n",
    "        if n_feedforward == 1:\n",
    "            ff_func.append(GVP_(node_dims, node_dims, activations=(None, None)))\n",
    "        else:\n",
    "            hid_dims = 4*node_dims[0], 2*node_dims[1]\n",
    "            ff_func.append(GVP_(node_dims, hid_dims))\n",
    "            for i in range(n_feedforward-2):\n",
    "                ff_func.append(GVP_(hid_dims, hid_dims))\n",
    "            ff_func.append(GVP_(hid_dims, node_dims, activations=(None, None)))\n",
    "        self.ff_func = nn.Sequential(*ff_func)\n",
    "\n",
    "    def forward(self, x, edge_index, edge_attr,\n",
    "                autoregressive_x=None, node_mask=None):\n",
    "        '''\n",
    "        :param x: tuple (s, V) of `torch.Tensor`\n",
    "        :param edge_index: array of shape [2, n_edges]\n",
    "        :param edge_attr: tuple (s, V) of `torch.Tensor`\n",
    "        :param autoregressive_x: tuple (s, V) of `torch.Tensor`. \n",
    "                If not `None`, will be used as src node embeddings\n",
    "                for forming messages where src >= dst. The corrent node \n",
    "                embeddings `x` will still be the base of the update and the \n",
    "                pointwise feedforward.\n",
    "        :param node_mask: array of type `bool` to index into the first\n",
    "                dim of node embeddings (s, V). If not `None`, only\n",
    "                these nodes will be updated.\n",
    "        '''\n",
    "        \n",
    "        if autoregressive_x is not None:\n",
    "            src, dst = edge_index\n",
    "            mask = src < dst\n",
    "            edge_index_forward = edge_index[:, mask]\n",
    "            edge_index_backward = edge_index[:, ~mask]\n",
    "            edge_attr_forward = tuple_index(edge_attr, mask)\n",
    "            edge_attr_backward = tuple_index(edge_attr, ~mask)\n",
    "            \n",
    "            dh = tuple_sum(\n",
    "                self.conv(x, edge_index_forward, edge_attr_forward),\n",
    "                self.conv(autoregressive_x, edge_index_backward, edge_attr_backward)\n",
    "            )\n",
    "            \n",
    "            count = scatter_add(torch.ones_like(dst), dst,\n",
    "                        dim_size=dh[0].size(0)).clamp(min=1).unsqueeze(-1)\n",
    "            \n",
    "            dh = dh[0] / count, dh[1] / count.unsqueeze(-1)\n",
    "\n",
    "        else:\n",
    "            dh = self.conv(x, edge_index, edge_attr)\n",
    "        \n",
    "        if node_mask is not None:\n",
    "            x_ = x\n",
    "            x, dh = tuple_index(x, node_mask), tuple_index(dh, node_mask)\n",
    "            \n",
    "        x = self.norm[0](tuple_sum(x, self.dropout[0](dh)))\n",
    "        \n",
    "        dh = self.ff_func(x)\n",
    "        x = self.norm[1](tuple_sum(x, self.dropout[1](dh)))\n",
    "        \n",
    "        if node_mask is not None:\n",
    "            x_[0][node_mask], x_[1][node_mask] = x[0], x[1]\n",
    "            x = x_\n",
    "        return x\n"
   ]
  },
  {
   "cell_type": "code",
   "execution_count": 11,
   "metadata": {},
   "outputs": [],
   "source": [
    "\n",
    "# to go from 3 letter amino acid code to one letter amino acid code\n",
    "AA3_TO_AA1 = {\n",
    "    \"CYS\": \"C\",\n",
    "    \"ASP\": \"D\",\n",
    "    \"SER\": \"S\",\n",
    "    \"GLN\": \"Q\",\n",
    "    \"LYS\": \"K\",\n",
    "    \"ILE\": \"I\",\n",
    "    \"PRO\": \"P\",\n",
    "    \"THR\": \"T\",\n",
    "    \"PHE\": \"F\",\n",
    "    \"ASN\": \"N\",\n",
    "    \"GLY\": \"G\",\n",
    "    \"HIS\": \"H\",\n",
    "    \"LEU\": \"L\",\n",
    "    \"ARG\": \"R\",\n",
    "    \"TRP\": \"W\",\n",
    "    \"ALA\": \"A\",\n",
    "    \"VAL\": \"V\",\n",
    "    \"GLU\": \"E\",\n",
    "    \"TYR\": \"Y\",\n",
    "    \"MET\": \"M\",\n",
    "}\n",
    "\n",
    "AA1_TO_AA3 = dict(zip(AA3_TO_AA1.values(), AA3_TO_AA1.keys()))\n"
   ]
  },
  {
   "cell_type": "code",
   "execution_count": 13,
   "metadata": {},
   "outputs": [],
   "source": [
    "import numpy as np\n",
    "\n",
    "\n",
    "label_res_dict={0:'HIS',1:'LYS',2:'ARG',3:'ASP',4:'GLU',5:'SER',6:'THR',7:'ASN',8:'GLN',9:'ALA',10:'VAL',11:'LEU',12:'ILE',13:'MET',14:'PHE',15:'TYR',16:'TRP',17:'PRO',18:'GLY',19:'CYS'}\n",
    "res_label_dict={'HIS':0,'LYS':1,'ARG':2,'ASP':3,'GLU':4,'SER':5,'THR':6,'ASN':7,'GLN':8,'ALA':9,'VAL':10,'LEU':11,'ILE':12,'MET':13,'PHE':14,'TYR':15,'TRP':16,'PRO':17,'GLY':18,'CYS':19}\n",
    "bb_atoms = ['N', 'CA', 'C', 'O']\n",
    "allowed_atoms = ['C', 'O', 'N', 'S', 'P', 'SE']\n",
    "\n",
    "# computed statistics from training set\n",
    "res_wt_dict = {'HIS': 0.581391659111514, 'LYS': 0.266061611865989, 'ARG': 0.2796785729861747, 'ASP': 0.26563454667840314, 'GLU': 0.22814679094919596, 'SER': 0.2612916369563003, 'THR': 0.27832512315270935, 'ASN': 0.3477441570413752, 'GLN': 0.37781509139381086, 'ALA': 0.20421144813311043, 'VAL': 0.22354397064847012, 'LEU': 0.18395198072344454, 'ILE': 0.2631600545792168, 'MET': 0.6918305148744505, 'PHE': 0.3592224851905275, 'TYR': 0.4048964515721682, 'TRP': 0.9882874205355423, 'PRO': 0.32994186046511625, 'GLY': 0.2238561093317741, 'CYS': 1.0}\n",
    "\n",
    "gly_CB_mu = np.array([-0.5311191 , -0.75842446,  1.2198311 ], dtype=np.float32)\n",
    "gly_CB_sigma = np.array([[1.63731114e-03, 2.40018381e-04, 6.38361679e-04],\n",
    "       [2.40018381e-04, 6.87853419e-05, 1.43898267e-04],\n",
    "       [6.38361679e-04, 1.43898267e-04, 3.25022011e-04]], dtype=np.float32)\n"
   ]
  },
  {
   "cell_type": "code",
   "execution_count": 14,
   "metadata": {},
   "outputs": [],
   "source": [
    "from atom3d.datasets import LMDBDataset\n",
    "import atom3d.datasets.datasets as da\n",
    "import atom3d.splits.splits as spl\n",
    "import atom3d.util.file as fi\n",
    "import atom3d.util.formats as fo\n",
    "from atom3d.util import metrics"
   ]
  },
  {
   "cell_type": "code",
   "execution_count": 16,
   "metadata": {},
   "outputs": [],
   "source": [
    "import pandas as pd\n",
    "import scipy"
   ]
  },
  {
   "cell_type": "code",
   "execution_count": 17,
   "metadata": {},
   "outputs": [],
   "source": [
    "\n",
    "class myResTransform(object):\n",
    "    # pos_oi is for example: [('A', 60, 'TRP'),('A', 61, 'ASP'), ('A', 64, 'LYS'), ('A', 80, 'GLU')]\n",
    "    # first entry is chain number, position in M1 indexing, and 3letter amino acid code\n",
    "\n",
    "    def __init__(self, balance=False, pos_oi = []):\n",
    "        self.balance = balance\n",
    "        self.pos_oi = pos_oi\n",
    "\n",
    "    def __call__(self, x):\n",
    "        x['id'] = fi.get_pdb_code(x['id'])\n",
    "        df = x['atoms']\n",
    "\n",
    "        subunits = []\n",
    "        # df = df.set_index(['chain', 'residue', 'resname'], drop=False)\n",
    "        df = df.dropna(subset=['x','y','z'])\n",
    "        #remove Hets and non-allowable atoms\n",
    "        df = df[df['element'].isin(allowed_atoms)]\n",
    "        df = df[df['hetero'].str.strip()=='']\n",
    "        df = df.reset_index(drop=True)\n",
    "        \n",
    "        labels = []\n",
    "\n",
    "        for chain_res, res_df in df.groupby(['chain', 'residue', 'resname']):\n",
    "            # chain_res is something like ('A', 61, 'ASP')\n",
    "\n",
    "            if chain_res not in self.pos_oi:\n",
    "                continue\n",
    "            print(chain_res)# s\n",
    "\n",
    "            chain, res, res_name = chain_res\n",
    "            # only train on canonical residues\n",
    "            if res_name not in res_label_dict:\n",
    "                continue\n",
    "            # sample each residue based on its frequency in train data\n",
    "            if self.balance:\n",
    "                if not np.random.random() < res_wt_dict[res_name]:\n",
    "                    continue\n",
    "\n",
    "            if not np.all([b in res_df['name'].to_list() for b in bb_atoms]):\n",
    "                # print('residue missing atoms...   skipping')\n",
    "                continue\n",
    "            CA_pos = res_df[res_df['name']=='CA'][['x', 'y', 'z']].astype(np.float32).to_numpy()[0]\n",
    "\n",
    "            CB_pos = CA_pos + (np.ones_like(CA_pos) * gly_CB_mu)\n",
    "\n",
    "            # remove current residue from structure\n",
    "            subunit_df = df[(df.chain != chain) | (df.residue != res) | df['name'].isin(bb_atoms)]\n",
    "            \n",
    "            # environment = all atoms within 10*sqrt(3) angstroms (to enable a 20A cube)\n",
    "            kd_tree = scipy.spatial.KDTree(subunit_df[['x','y','z']].to_numpy())\n",
    "            subunit_pt_idx = kd_tree.query_ball_point(CB_pos, r=10.0*np.sqrt(3), p=2.0)\n",
    "            \n",
    "            subunits.append(subunit_df.index[sorted(subunit_pt_idx)].to_list())\n",
    "    \n",
    "            sub_name = '_'.join([str(x) for x in chain_res])\n",
    "            label_row = [sub_name, res_label_dict[res_name], CB_pos[0], CB_pos[1], CB_pos[2]]\n",
    "            labels.append(label_row)\n",
    "\n",
    "        assert len(labels) == len(subunits)\n",
    "        print(len(labels))\n",
    "        x['atoms'] = df\n",
    "        x['labels'] = pd.DataFrame(labels, columns=['subunit', 'label', 'x', 'y', 'z'])\n",
    "        x['subunit_indices'] = subunits\n",
    "\n",
    "        return x\n"
   ]
  },
  {
   "cell_type": "code",
   "execution_count": 40,
   "metadata": {},
   "outputs": [],
   "source": [
    "\n",
    "_NUM_ATOM_TYPES = 9\n",
    "_element_mapping = lambda x: {\n",
    "    'H' : 0,\n",
    "    'C' : 1,\n",
    "    'N' : 2,\n",
    "    'O' : 3,\n",
    "    'F' : 4,\n",
    "    'S' : 5,\n",
    "    'Cl': 6, 'CL': 6,\n",
    "    'P' : 7\n",
    "}.get(x, 8)\n",
    "\n",
    "_DEFAULT_V_DIM = (100, 16)\n",
    "_DEFAULT_E_DIM = (32, 1)\n"
   ]
  },
  {
   "cell_type": "code",
   "execution_count": 33,
   "metadata": {},
   "outputs": [],
   "source": [
    "\n",
    "class BaseModel(nn.Module):\n",
    "    '''\n",
    "    A base 5-layer GVP-GNN for all ATOM3D tasks, using GVPs with \n",
    "    vector gating as described in the manuscript. Takes in atomic-level\n",
    "    structure graphs of type `torch_geometric.data.Batch`\n",
    "    and returns a single scalar.\n",
    "    \n",
    "    This class should not be used directly. Instead, please use the\n",
    "    task-specific models which extend BaseModel. (Some of these classes\n",
    "    may be aliases of BaseModel.)\n",
    "    \n",
    "    :param num_rbf: number of radial bases to use in the edge embedding\n",
    "    '''\n",
    "    def __init__(self, num_rbf=16):\n",
    "        \n",
    "        super().__init__()\n",
    "        activations = (F.relu, None)\n",
    "        \n",
    "        self.embed = nn.Embedding(_NUM_ATOM_TYPES, _NUM_ATOM_TYPES)\n",
    "        \n",
    "        self.W_e = nn.Sequential(\n",
    "            LayerNorm((num_rbf, 1)),\n",
    "            GVP((num_rbf, 1), _DEFAULT_E_DIM, \n",
    "                activations=(None, None), vector_gate=True)\n",
    "        )\n",
    "        \n",
    "        self.W_v = nn.Sequential(\n",
    "            LayerNorm((_NUM_ATOM_TYPES, 0)),\n",
    "            GVP((_NUM_ATOM_TYPES, 0), _DEFAULT_V_DIM,\n",
    "                activations=(None, None), vector_gate=True)\n",
    "        )\n",
    "        \n",
    "        self.layers = nn.ModuleList(\n",
    "                GVPConvLayer(_DEFAULT_V_DIM, _DEFAULT_E_DIM, \n",
    "                             activations=activations, vector_gate=True) \n",
    "            for _ in range(5))\n",
    "        \n",
    "        ns, _ = _DEFAULT_V_DIM\n",
    "        self.W_out = nn.Sequential(\n",
    "            LayerNorm(_DEFAULT_V_DIM),\n",
    "            GVP(_DEFAULT_V_DIM, (ns, 0), \n",
    "                activations=activations, vector_gate=True)\n",
    "        )\n",
    "        \n",
    "        self.dense = nn.Sequential(\n",
    "            nn.Linear(ns, 2*ns), nn.ReLU(inplace=True),\n",
    "            nn.Dropout(p=0.1),\n",
    "            nn.Linear(2*ns, 1)\n",
    "        )\n",
    "    \n",
    "    def forward(self, batch, scatter_mean=True, dense=True):\n",
    "        '''\n",
    "        Forward pass which can be adjusted based on task formulation.\n",
    "        \n",
    "        :param batch: `torch_geometric.data.Batch` with data attributes\n",
    "                      as returned from a BaseTransform\n",
    "        :param scatter_mean: if `True`, returns mean of final node embeddings\n",
    "                             (for each graph), else, returns embeddings seperately\n",
    "        :param dense: if `True`, applies final dense layer to reduce embedding\n",
    "                      to a single scalar; else, returns the embedding\n",
    "        '''\n",
    "        h_V = self.embed(batch.atoms)\n",
    "        h_E = (batch.edge_s, batch.edge_v)\n",
    "        h_V = self.W_v(h_V)\n",
    "        h_E = self.W_e(h_E)\n",
    "        \n",
    "        batch_id = batch.batch\n",
    "        \n",
    "        for layer in self.layers:\n",
    "            h_V = layer(h_V, batch.edge_index, h_E)\n",
    "\n",
    "        out = self.W_out(h_V)\n",
    "        if scatter_mean: out = torch_scatter.scatter_mean(out, batch_id, dim=0)\n",
    "        if dense: out = self.dense(out).squeeze(-1)\n",
    "        return out\n"
   ]
  },
  {
   "cell_type": "code",
   "execution_count": 34,
   "metadata": {},
   "outputs": [],
   "source": [
    "                        \n",
    "class RESModel(BaseModel):\n",
    "    '''\n",
    "    GVP-GNN for the RES task.\n",
    "    \n",
    "    Extends BaseModel to output a 20-dim vector instead of a single\n",
    "    scalar for each graph, which can be used as logits in 20-way\n",
    "    classification.\n",
    "    \n",
    "    As noted in the manuscript, RESModel uses the final alpha\n",
    "    carbon embeddings instead of the graph mean embedding.\n",
    "    '''\n",
    "    def __init__(self, **kwargs):\n",
    "        super().__init__(**kwargs)\n",
    "        ns, _ = _DEFAULT_V_DIM\n",
    "        self.dense = nn.Sequential(\n",
    "            nn.Linear(ns, 2*ns), nn.ReLU(inplace=True),\n",
    "            nn.Dropout(p=0.1),\n",
    "            nn.Linear(2*ns, 20)\n",
    "        )\n",
    "    def forward(self, batch):\n",
    "        out = super().forward(batch, scatter_mean=False)\n",
    "        return out[batch.ca_idx+batch.ptr[:-1]]"
   ]
  },
  {
   "cell_type": "code",
   "execution_count": 35,
   "metadata": {},
   "outputs": [],
   "source": [
    "                        \n",
    "def get_model(task):\n",
    "    return {\n",
    "        'RES' : RESModel,\n",
    "    }[task]()\n"
   ]
  },
  {
   "cell_type": "code",
   "execution_count": 70,
   "metadata": {},
   "outputs": [
    {
     "name": "stdout",
     "output_type": "stream",
     "text": [
      "Collecting torch-cluster\n",
      "  Downloading torch_cluster-1.6.3.tar.gz (54 kB)\n",
      "\u001b[2K     \u001b[90m━━━━━━━━━━━━━━━━━━━━━━━━━━━━━━━━━━━━━━━━\u001b[0m \u001b[32m54.5/54.5 kB\u001b[0m \u001b[31m8.7 MB/s\u001b[0m eta \u001b[36m0:00:00\u001b[0m\n",
      "\u001b[?25h  Preparing metadata (setup.py) ... \u001b[?25ldone\n",
      "\u001b[?25hRequirement already satisfied: scipy in /disk2/fli/miniconda3/envs/coves/lib/python3.9/site-packages (from torch-cluster) (1.13.0)\n",
      "Requirement already satisfied: numpy<2.3,>=1.22.4 in /disk2/fli/miniconda3/envs/coves/lib/python3.9/site-packages (from scipy->torch-cluster) (1.26.4)\n",
      "Building wheels for collected packages: torch-cluster\n",
      "  Building wheel for torch-cluster (setup.py) ... \u001b[?25ldone\n",
      "\u001b[?25h  Created wheel for torch-cluster: filename=torch_cluster-1.6.3-cp39-cp39-linux_x86_64.whl size=724315 sha256=d2911020574fa264a8011204f343b264946c5ef45b172cc578fdcf24b5f1f056\n",
      "  Stored in directory: /disk2/fli/.cache/pip/wheels/fc/55/f3/d8a310d8f0c29653a7580789f3b53f15e3cd2e88ff8ed5eeb5\n",
      "Successfully built torch-cluster\n",
      "Installing collected packages: torch-cluster\n",
      "Successfully installed torch-cluster-1.6.3\n"
     ]
    }
   ],
   "source": [
    "!pip install torch-cluster"
   ]
  },
  {
   "cell_type": "code",
   "execution_count": 72,
   "metadata": {},
   "outputs": [],
   "source": [
    "import torch_cluster"
   ]
  },
  {
   "cell_type": "code",
   "execution_count": 77,
   "metadata": {},
   "outputs": [],
   "source": [
    "\n",
    "def _normalize(tensor, dim=-1):\n",
    "    '''\n",
    "    Normalizes a `torch.Tensor` along dimension `dim` without `nan`s.\n",
    "    '''\n",
    "    return torch.nan_to_num(\n",
    "        torch.div(tensor, torch.norm(tensor, dim=dim, keepdim=True)))\n",
    "\n",
    "\n",
    "def _rbf(D, D_min=0., D_max=20., D_count=16, device='cpu'):\n",
    "    '''\n",
    "    From https://github.com/jingraham/neurips19-graph-protein-design\n",
    "    \n",
    "    Returns an RBF embedding of `torch.Tensor` `D` along a new axis=-1.\n",
    "    That is, if `D` has shape [...dims], then the returned tensor will have\n",
    "    shape [...dims, D_count].\n",
    "    '''\n",
    "    D_mu = torch.linspace(D_min, D_max, D_count, device=device)\n",
    "    D_mu = D_mu.view([1, -1])\n",
    "    D_sigma = (D_max - D_min) / D_count\n",
    "    D_expand = torch.unsqueeze(D, -1)\n",
    "\n",
    "    RBF = torch.exp(-((D_expand - D_mu) / D_sigma) ** 2)\n",
    "    return RBF\n",
    "\n"
   ]
  },
  {
   "cell_type": "code",
   "execution_count": 78,
   "metadata": {},
   "outputs": [],
   "source": [
    "\n",
    "def _edge_features(coords, edge_index, D_max=4.5, num_rbf=16, device='cpu'):\n",
    "    \n",
    "    E_vectors = coords[edge_index[0]] - coords[edge_index[1]]\n",
    "    rbf = _rbf(E_vectors.norm(dim=-1), \n",
    "               D_max=D_max, D_count=num_rbf, device=device)\n",
    "\n",
    "    edge_s = rbf\n",
    "    edge_v = _normalize(E_vectors).unsqueeze(-2)\n",
    "\n",
    "    edge_s, edge_v = map(torch.nan_to_num,\n",
    "            (edge_s, edge_v))\n",
    "\n",
    "    return edge_s, edge_v"
   ]
  },
  {
   "cell_type": "code",
   "execution_count": 20,
   "metadata": {},
   "outputs": [],
   "source": [
    "class BaseTransform:\n",
    "    '''\n",
    "    Implementation of an ATOM3D Transform which featurizes the atomic\n",
    "    coordinates in an ATOM3D dataframes into `torch_geometric.data.Data`\n",
    "    graphs. This class should not be used directly; instead, use the\n",
    "    task-specific transforms, which all extend BaseTransform. Node\n",
    "    and edge features are as described in the EGNN manuscript.\n",
    "    \n",
    "    Returned graphs have the following attributes:\n",
    "    -x          atomic coordinates, shape [n_nodes, 3]\n",
    "    -atoms      numeric encoding of atomic identity, shape [n_nodes]\n",
    "    -edge_index edge indices, shape [2, n_edges]\n",
    "    -edge_s     edge scalar features, shape [n_edges, 16]\n",
    "    -edge_v     edge scalar features, shape [n_edges, 1, 3]\n",
    "    \n",
    "    Subclasses of BaseTransform will produce graphs with additional \n",
    "    attributes for the tasks-specific training labels, in addition \n",
    "    to the above.\n",
    "    \n",
    "    All subclasses of BaseTransform directly inherit the BaseTransform\n",
    "    constructor.\n",
    "    \n",
    "    :param edge_cutoff: distance cutoff to use when drawing edges\n",
    "    :param num_rbf: number of radial bases to encode the distance on each edge\n",
    "    :device: if \"cuda\", will do preprocessing on the GPU\n",
    "    '''\n",
    "    def __init__(self, edge_cutoff=4.5, num_rbf=16, device='cpu'):\n",
    "        self.edge_cutoff = edge_cutoff\n",
    "        self.num_rbf = num_rbf\n",
    "        self.device = device\n",
    "            \n",
    "    def __call__(self, df):\n",
    "        '''\n",
    "        :param df: `pandas.DataFrame` of atomic coordinates\n",
    "                    in the ATOM3D format\n",
    "        \n",
    "        :return: `torch_geometric.data.Data` structure graph\n",
    "        '''\n",
    "        with torch.no_grad():\n",
    "            coords = torch.as_tensor(df[['x', 'y', 'z']].to_numpy(),\n",
    "                                     dtype=torch.float32, device=self.device)\n",
    "            atoms = torch.as_tensor(list(map(_element_mapping, df.element)),\n",
    "                                            dtype=torch.long, device=self.device)\n",
    "\n",
    "            edge_index = torch_cluster.radius_graph(coords, r=self.edge_cutoff)\n",
    "\n",
    "            edge_s, edge_v = _edge_features(coords, edge_index, \n",
    "                                D_max=self.edge_cutoff, num_rbf=self.num_rbf, device=self.device)\n",
    "\n",
    "            return torch_geometric.data.Data(x=coords, atoms=atoms,\n",
    "                        edge_index=edge_index, edge_s=edge_s, edge_v=edge_v)\n"
   ]
  },
  {
   "cell_type": "code",
   "execution_count": 23,
   "metadata": {},
   "outputs": [],
   "source": [
    "\n",
    "from torch.utils.data import IterableDataset\n",
    "import torch, random, scipy, math"
   ]
  },
  {
   "cell_type": "code",
   "execution_count": 24,
   "metadata": {},
   "outputs": [],
   "source": [
    "_amino_acids = lambda x: {\n",
    "    'ALA': 0,\n",
    "    'ARG': 1,\n",
    "    'ASN': 2,\n",
    "    'ASP': 3,\n",
    "    'CYS': 4,\n",
    "    'GLU': 5,\n",
    "    'GLN': 6,\n",
    "    'GLY': 7,\n",
    "    'HIS': 8,\n",
    "    'ILE': 9,\n",
    "    'LEU': 10,\n",
    "    'LYS': 11,\n",
    "    'MET': 12,\n",
    "    'PHE': 13,\n",
    "    'PRO': 14,\n",
    "    'SER': 15,\n",
    "    'THR': 16,\n",
    "    'TRP': 17,\n",
    "    'TYR': 18,\n",
    "    'VAL': 19\n",
    "}.get(x, 20)"
   ]
  },
  {
   "cell_type": "code",
   "execution_count": 73,
   "metadata": {},
   "outputs": [],
   "source": [
    "\n",
    "class myRESDataset(IterableDataset):\n",
    "    '''\n",
    "    A `torch.utils.data.IterableDataset` wrapper around a\n",
    "    ATOM3D RES dataset.\n",
    "    \n",
    "    On each iteration, returns a `torch_geometric.data.Data`\n",
    "    graph with the attribute `label` encoding the masked residue\n",
    "    identity, `ca_idx` for the node index of the alpha carbon, \n",
    "    and all structural attributes as described in BaseTransform.\n",
    "    \n",
    "    Excludes hydrogen atoms.\n",
    "    \n",
    "    :param lmdb_dataset: path to ATOM3D dataset\n",
    "    :param split_path: path to the ATOM3D split file\n",
    "    '''\n",
    "    def __init__(self, lmdb_dataset, chain_id_oi = 'A',split_path=None):\n",
    "        self.dataset = LMDBDataset(lmdb_dataset) #load lmdb dataset as above\n",
    "        self.idx = [0]\n",
    "        self.transform = BaseTransform()\n",
    "        self.chain_id_oi = chain_id_oi\n",
    "        \n",
    "    def __iter__(self):\n",
    "        worker_info = torch.utils.data.get_worker_info()\n",
    "        if worker_info is None:\n",
    "            gen = self._dataset_generator(list(range(len(self.idx))), \n",
    "                      shuffle=False)\n",
    "        else:  \n",
    "            per_worker = int(math.ceil(len(self.idx) / float(worker_info.num_workers)))\n",
    "            worker_id = worker_info.id\n",
    "            iter_start = worker_id * per_worker\n",
    "            iter_end = min(iter_start + per_worker, len(self.idx))\n",
    "            gen = self._dataset_generator(list(range(len(self.idx)))[iter_start:iter_end],\n",
    "                      shuffle=False)\n",
    "        return gen\n",
    "    \n",
    "    def _dataset_generator(self, indices, shuffle=False):\n",
    "        if shuffle: random.shuffle(indices)\n",
    "        with torch.no_grad():\n",
    "            for idx in indices:\n",
    "                print('idx',idx)\n",
    "                data = self.dataset[self.idx[idx]]\n",
    "                atoms = data['atoms']\n",
    "                for sub in data['labels'].itertuples():\n",
    "                    _, num, aa_num = sub.subunit.split('_')\n",
    "                    num, aa = int(num), _amino_acids(aa_num)\n",
    "                    if aa == 20: \n",
    "                        print('aais20')\n",
    "                        continue\n",
    "                    my_atoms = atoms.iloc[data['subunit_indices'][sub.Index]].reset_index(drop=True)\n",
    "                    ca_idx = np.where((my_atoms.residue == num) & (my_atoms.name == 'CA') &(my_atoms.chain  ==self.chain_id_oi))[0] # had to fix this\n",
    "                    if len(ca_idx) != 1: \n",
    "                        print('len(ca_idx) is not 1')\n",
    "                        continue\n",
    "                        \n",
    "                    with torch.no_grad():\n",
    "                        graph = self.transform(my_atoms)\n",
    "                        graph.label = aa\n",
    "                        graph.ca_idx = int(ca_idx)\n",
    "                        yield num, aa, graph\n"
   ]
  },
  {
   "cell_type": "code",
   "execution_count": 26,
   "metadata": {},
   "outputs": [],
   "source": [
    "import tqdm"
   ]
  },
  {
   "cell_type": "code",
   "execution_count": 82,
   "metadata": {},
   "outputs": [],
   "source": [
    "\n",
    "aa3_to_num = {\n",
    "    'ALA': 0,\n",
    "    'ARG': 1,\n",
    "    'ASN': 2,\n",
    "    'ASP': 3,\n",
    "    'CYS': 4,\n",
    "    'GLU': 5,\n",
    "    'GLN': 6,\n",
    "    'GLY': 7,\n",
    "    'HIS': 8,\n",
    "    'ILE': 9,\n",
    "    'LEU': 10,\n",
    "    'LYS': 11,\n",
    "    'MET': 12,\n",
    "    'PHE': 13,\n",
    "    'PRO': 14,\n",
    "    'SER': 15,\n",
    "    'THR': 16,\n",
    "    'TRP': 17,\n",
    "    'TYR': 18,\n",
    "    'VAL': 19\n",
    "}\n",
    "\n",
    "\n",
    "num_to_aa3 = dict(zip(aa3_to_num.values(), aa3_to_num.keys()))\n"
   ]
  },
  {
   "cell_type": "code",
   "execution_count": 87,
   "metadata": {},
   "outputs": [],
   "source": [
    "def forward(model, batch, device):\n",
    "    if type(batch) in [list, tuple]:\n",
    "        batch = batch[0].to(device), batch[1].to(device)\n",
    "    else:\n",
    "        batch = batch.to(device)\n",
    "    return model(batch)\n"
   ]
  },
  {
   "cell_type": "code",
   "execution_count": 88,
   "metadata": {},
   "outputs": [],
   "source": [
    "\n",
    "def get_gvp_res_prefs(wt_seq='',\n",
    "                      protein_name ='protein',\n",
    "                     chain_number='',\n",
    "                     pdb_din='',\n",
    "                     lmdb_dout=\"\",\n",
    "                      model_weight_path = '/disk2/fli/ddingding-CoVES/data/coves/res_weights/RES_1646945484.3030427_8.pt',\n",
    "                      dout = './', \n",
    "                      max_pos_to_do = 1000,\n",
    "                      n_ave = 15\n",
    "                     ):\n",
    "    \n",
    "    # uses RES GVP to calculate residue preferences from structural environment\n",
    "    # pdb_din: input directory of pdb file\n",
    "    # lmdb_dout: output directory for making lmdb file\n",
    "\n",
    "    ##############################################################################\n",
    "    # create list of positions that are of interest\n",
    "    pos_oi_all = list(zip([chain_number]* len(wt_seq),\n",
    "                         range(1,len(wt_seq)+1),\n",
    "                         [AA1_TO_AA3[aa] for aa in wt_seq]\n",
    "                        )\n",
    "                    )\n",
    "    # Load dataset from directory of PDB files \n",
    "    # this is recursive, all pdb files in subdirectories will also be used\n",
    "    # dataset = da.load_dataset(pdb_din, 'pdb', \n",
    "    #                           transform = myResTransform(balance=False, pos_oi =pos_oi_all)) \n",
    "\n",
    "    # # Create LMDB dataset from PDB dataset, and write to file\n",
    "    # da.make_lmdb_dataset(dataset, lmdb_dout)\n",
    "    \n",
    "    ########################## LOAD MODEL #######################################\n",
    "    device = 'cuda' if torch.cuda.is_available() else 'cpu'\n",
    "    # push the model to cuda \n",
    "    model = get_model('RES').to(device)\n",
    "\n",
    "    #load model\n",
    "    if device == 'cuda':\n",
    "        model.load_state_dict(torch.load(model_weight_path))\n",
    "    else:\n",
    "        model.load_state_dict(torch.load(model_weight_path, map_location=torch.device('cpu')))\n",
    "\n",
    "    model = model.eval()\n",
    "    \n",
    "    ds_all = myRESDataset(lmdb_dout, chain_id_oi=chain_number)\n",
    "    # dl_all = torch_geometric.data.DataLoader(ds_all, num_workers=4, batch_size=1)\n",
    "    dl_all = torch_geometric.loader.DataLoader(ds_all, num_workers=4, batch_size=1)\n",
    "\n",
    "    ########################## predicting mutation preferences ##################\n",
    "    df_result = pd.DataFrame()\n",
    "    with torch.no_grad():\n",
    "        c=0\n",
    "        for d in tqdm.tqdm(dl_all):\n",
    "            num, aa, b = d\n",
    "            if c<max_pos_to_do:\n",
    "                pos = num.numpy()[0]\n",
    "                aa3 = num_to_aa3[aa.numpy()[0]]\n",
    "                x= np.zeros([n_ave, 20])\n",
    "                for i in range(n_ave):\n",
    "                    out = forward(model, b, device)\n",
    "                    m_out= out.cpu().detach().numpy().reshape(-1)\n",
    "\n",
    "                    x[i,:] = m_out\n",
    "\n",
    "                mean_x = x.mean(axis=0)\n",
    "                std_x = x.std(axis=0)\n",
    "\n",
    "                aa1 = AA3_TO_AA1[aa3]\n",
    "                wt_pos = aa1+str(pos)\n",
    "\n",
    "                muts = [wt_pos+AA3_TO_AA1[k] for k in aa3_to_num.keys()]\n",
    "\n",
    "                zipped = list(zip(muts, mean_x, std_x))\n",
    "                df_pos = pd.DataFrame(zipped, columns=['mut', 'mean_x', 'std_x'])\n",
    "\n",
    "                df_result = pd.concat([df_result,df_pos], axis=0)\n",
    "                c+=1\n",
    "                print(c)\n",
    "    df_result = df_result.reset_index()\n",
    "    #print(df_result)\n",
    "    df_result.to_csv(dout+'gvp_{}_m_{}_230523_.csv'.format(n_ave, protein_name))\n",
    "    return df_result"
   ]
  },
  {
   "cell_type": "code",
   "execution_count": 28,
   "metadata": {},
   "outputs": [],
   "source": [
    "import time\n",
    "import timeit"
   ]
  },
  {
   "cell_type": "code",
   "execution_count": 89,
   "metadata": {},
   "outputs": [
    {
     "name": "stdout",
     "output_type": "stream",
     "text": [
      "<torch_geometric.loader.dataloader.DataLoader object at 0x7f9c5c1da2e0>\n"
     ]
    },
    {
     "name": "stderr",
     "output_type": "stream",
     "text": [
      "0it [00:00, ?it/s]"
     ]
    },
    {
     "name": "stdout",
     "output_type": "stream",
     "text": [
      "idx 0\n"
     ]
    },
    {
     "name": "stderr",
     "output_type": "stream",
     "text": [
      "/tmp/ipykernel_1997758/2728505039.py:58: DeprecationWarning: Conversion of an array with ndim > 0 to a scalar is deprecated, and will error in future. Ensure you extract a single element from your array before performing this operation. (Deprecated NumPy 1.25.)\n",
      "  graph.ca_idx = int(ca_idx)\n",
      "/tmp/ipykernel_1997758/2728505039.py:58: DeprecationWarning: Conversion of an array with ndim > 0 to a scalar is deprecated, and will error in future. Ensure you extract a single element from your array before performing this operation. (Deprecated NumPy 1.25.)\n",
      "  graph.ca_idx = int(ca_idx)\n",
      "/tmp/ipykernel_1997758/2728505039.py:58: DeprecationWarning: Conversion of an array with ndim > 0 to a scalar is deprecated, and will error in future. Ensure you extract a single element from your array before performing this operation. (Deprecated NumPy 1.25.)\n",
      "  graph.ca_idx = int(ca_idx)\n",
      "/tmp/ipykernel_1997758/2728505039.py:58: DeprecationWarning: Conversion of an array with ndim > 0 to a scalar is deprecated, and will error in future. Ensure you extract a single element from your array before performing this operation. (Deprecated NumPy 1.25.)\n",
      "  graph.ca_idx = int(ca_idx)\n",
      "/tmp/ipykernel_1997758/2728505039.py:58: DeprecationWarning: Conversion of an array with ndim > 0 to a scalar is deprecated, and will error in future. Ensure you extract a single element from your array before performing this operation. (Deprecated NumPy 1.25.)\n",
      "  graph.ca_idx = int(ca_idx)\n",
      "1it [00:32, 32.07s/it]/tmp/ipykernel_1997758/2728505039.py:58: DeprecationWarning: Conversion of an array with ndim > 0 to a scalar is deprecated, and will error in future. Ensure you extract a single element from your array before performing this operation. (Deprecated NumPy 1.25.)\n",
      "  graph.ca_idx = int(ca_idx)\n"
     ]
    },
    {
     "name": "stdout",
     "output_type": "stream",
     "text": [
      "1\n"
     ]
    },
    {
     "name": "stderr",
     "output_type": "stream",
     "text": [
      "2it [01:05, 32.80s/it]/tmp/ipykernel_1997758/2728505039.py:58: DeprecationWarning: Conversion of an array with ndim > 0 to a scalar is deprecated, and will error in future. Ensure you extract a single element from your array before performing this operation. (Deprecated NumPy 1.25.)\n",
      "  graph.ca_idx = int(ca_idx)\n"
     ]
    },
    {
     "name": "stdout",
     "output_type": "stream",
     "text": [
      "2\n"
     ]
    },
    {
     "name": "stderr",
     "output_type": "stream",
     "text": [
      "3it [01:41, 34.13s/it]/tmp/ipykernel_1997758/2728505039.py:58: DeprecationWarning: Conversion of an array with ndim > 0 to a scalar is deprecated, and will error in future. Ensure you extract a single element from your array before performing this operation. (Deprecated NumPy 1.25.)\n",
      "  graph.ca_idx = int(ca_idx)\n"
     ]
    },
    {
     "name": "stdout",
     "output_type": "stream",
     "text": [
      "3\n"
     ]
    },
    {
     "name": "stderr",
     "output_type": "stream",
     "text": [
      "4it [02:14, 34.01s/it]/tmp/ipykernel_1997758/2728505039.py:58: DeprecationWarning: Conversion of an array with ndim > 0 to a scalar is deprecated, and will error in future. Ensure you extract a single element from your array before performing this operation. (Deprecated NumPy 1.25.)\n",
      "  graph.ca_idx = int(ca_idx)\n"
     ]
    },
    {
     "name": "stdout",
     "output_type": "stream",
     "text": [
      "4\n"
     ]
    },
    {
     "name": "stderr",
     "output_type": "stream",
     "text": [
      "5it [02:49, 34.29s/it]/tmp/ipykernel_1997758/2728505039.py:58: DeprecationWarning: Conversion of an array with ndim > 0 to a scalar is deprecated, and will error in future. Ensure you extract a single element from your array before performing this operation. (Deprecated NumPy 1.25.)\n",
      "  graph.ca_idx = int(ca_idx)\n"
     ]
    },
    {
     "name": "stdout",
     "output_type": "stream",
     "text": [
      "5\n"
     ]
    },
    {
     "name": "stderr",
     "output_type": "stream",
     "text": [
      "6it [03:20, 33.18s/it]/tmp/ipykernel_1997758/2728505039.py:58: DeprecationWarning: Conversion of an array with ndim > 0 to a scalar is deprecated, and will error in future. Ensure you extract a single element from your array before performing this operation. (Deprecated NumPy 1.25.)\n",
      "  graph.ca_idx = int(ca_idx)\n"
     ]
    },
    {
     "name": "stdout",
     "output_type": "stream",
     "text": [
      "6\n"
     ]
    },
    {
     "name": "stderr",
     "output_type": "stream",
     "text": [
      "7it [03:55, 33.76s/it]/tmp/ipykernel_1997758/2728505039.py:58: DeprecationWarning: Conversion of an array with ndim > 0 to a scalar is deprecated, and will error in future. Ensure you extract a single element from your array before performing this operation. (Deprecated NumPy 1.25.)\n",
      "  graph.ca_idx = int(ca_idx)\n"
     ]
    },
    {
     "name": "stdout",
     "output_type": "stream",
     "text": [
      "7\n"
     ]
    },
    {
     "name": "stderr",
     "output_type": "stream",
     "text": [
      "8it [04:25, 32.54s/it]/tmp/ipykernel_1997758/2728505039.py:58: DeprecationWarning: Conversion of an array with ndim > 0 to a scalar is deprecated, and will error in future. Ensure you extract a single element from your array before performing this operation. (Deprecated NumPy 1.25.)\n",
      "  graph.ca_idx = int(ca_idx)\n"
     ]
    },
    {
     "name": "stdout",
     "output_type": "stream",
     "text": [
      "8\n"
     ]
    },
    {
     "name": "stderr",
     "output_type": "stream",
     "text": [
      "9it [04:53, 31.01s/it]/tmp/ipykernel_1997758/2728505039.py:58: DeprecationWarning: Conversion of an array with ndim > 0 to a scalar is deprecated, and will error in future. Ensure you extract a single element from your array before performing this operation. (Deprecated NumPy 1.25.)\n",
      "  graph.ca_idx = int(ca_idx)\n"
     ]
    },
    {
     "name": "stdout",
     "output_type": "stream",
     "text": [
      "9\n"
     ]
    },
    {
     "name": "stderr",
     "output_type": "stream",
     "text": [
      "10it [05:23, 30.64s/it]/tmp/ipykernel_1997758/2728505039.py:58: DeprecationWarning: Conversion of an array with ndim > 0 to a scalar is deprecated, and will error in future. Ensure you extract a single element from your array before performing this operation. (Deprecated NumPy 1.25.)\n",
      "  graph.ca_idx = int(ca_idx)\n"
     ]
    },
    {
     "name": "stdout",
     "output_type": "stream",
     "text": [
      "10\n"
     ]
    },
    {
     "name": "stderr",
     "output_type": "stream",
     "text": [
      "11it [05:51, 29.87s/it]/tmp/ipykernel_1997758/2728505039.py:58: DeprecationWarning: Conversion of an array with ndim > 0 to a scalar is deprecated, and will error in future. Ensure you extract a single element from your array before performing this operation. (Deprecated NumPy 1.25.)\n",
      "  graph.ca_idx = int(ca_idx)\n"
     ]
    },
    {
     "name": "stdout",
     "output_type": "stream",
     "text": [
      "11\n"
     ]
    },
    {
     "name": "stderr",
     "output_type": "stream",
     "text": [
      "12it [06:21, 29.93s/it]/tmp/ipykernel_1997758/2728505039.py:58: DeprecationWarning: Conversion of an array with ndim > 0 to a scalar is deprecated, and will error in future. Ensure you extract a single element from your array before performing this operation. (Deprecated NumPy 1.25.)\n",
      "  graph.ca_idx = int(ca_idx)\n"
     ]
    },
    {
     "name": "stdout",
     "output_type": "stream",
     "text": [
      "12\n"
     ]
    },
    {
     "name": "stderr",
     "output_type": "stream",
     "text": [
      "13it [06:46, 28.53s/it]/tmp/ipykernel_1997758/2728505039.py:58: DeprecationWarning: Conversion of an array with ndim > 0 to a scalar is deprecated, and will error in future. Ensure you extract a single element from your array before performing this operation. (Deprecated NumPy 1.25.)\n",
      "  graph.ca_idx = int(ca_idx)\n"
     ]
    },
    {
     "name": "stdout",
     "output_type": "stream",
     "text": [
      "13\n"
     ]
    },
    {
     "name": "stderr",
     "output_type": "stream",
     "text": [
      "14it [07:14, 28.24s/it]/tmp/ipykernel_1997758/2728505039.py:58: DeprecationWarning: Conversion of an array with ndim > 0 to a scalar is deprecated, and will error in future. Ensure you extract a single element from your array before performing this operation. (Deprecated NumPy 1.25.)\n",
      "  graph.ca_idx = int(ca_idx)\n"
     ]
    },
    {
     "name": "stdout",
     "output_type": "stream",
     "text": [
      "14\n"
     ]
    },
    {
     "name": "stderr",
     "output_type": "stream",
     "text": [
      "15it [07:33, 25.67s/it]/tmp/ipykernel_1997758/2728505039.py:58: DeprecationWarning: Conversion of an array with ndim > 0 to a scalar is deprecated, and will error in future. Ensure you extract a single element from your array before performing this operation. (Deprecated NumPy 1.25.)\n",
      "  graph.ca_idx = int(ca_idx)\n"
     ]
    },
    {
     "name": "stdout",
     "output_type": "stream",
     "text": [
      "15\n"
     ]
    },
    {
     "name": "stderr",
     "output_type": "stream",
     "text": [
      "16it [07:57, 25.05s/it]/tmp/ipykernel_1997758/2728505039.py:58: DeprecationWarning: Conversion of an array with ndim > 0 to a scalar is deprecated, and will error in future. Ensure you extract a single element from your array before performing this operation. (Deprecated NumPy 1.25.)\n",
      "  graph.ca_idx = int(ca_idx)\n"
     ]
    },
    {
     "name": "stdout",
     "output_type": "stream",
     "text": [
      "16\n"
     ]
    },
    {
     "name": "stderr",
     "output_type": "stream",
     "text": [
      "17it [08:25, 25.82s/it]/tmp/ipykernel_1997758/2728505039.py:58: DeprecationWarning: Conversion of an array with ndim > 0 to a scalar is deprecated, and will error in future. Ensure you extract a single element from your array before performing this operation. (Deprecated NumPy 1.25.)\n",
      "  graph.ca_idx = int(ca_idx)\n"
     ]
    },
    {
     "name": "stdout",
     "output_type": "stream",
     "text": [
      "17\n"
     ]
    },
    {
     "name": "stderr",
     "output_type": "stream",
     "text": [
      "18it [09:00, 28.57s/it]/tmp/ipykernel_1997758/2728505039.py:58: DeprecationWarning: Conversion of an array with ndim > 0 to a scalar is deprecated, and will error in future. Ensure you extract a single element from your array before performing this operation. (Deprecated NumPy 1.25.)\n",
      "  graph.ca_idx = int(ca_idx)\n"
     ]
    },
    {
     "name": "stdout",
     "output_type": "stream",
     "text": [
      "18\n"
     ]
    },
    {
     "name": "stderr",
     "output_type": "stream",
     "text": [
      "19it [09:28, 28.66s/it]/tmp/ipykernel_1997758/2728505039.py:58: DeprecationWarning: Conversion of an array with ndim > 0 to a scalar is deprecated, and will error in future. Ensure you extract a single element from your array before performing this operation. (Deprecated NumPy 1.25.)\n",
      "  graph.ca_idx = int(ca_idx)\n"
     ]
    },
    {
     "name": "stdout",
     "output_type": "stream",
     "text": [
      "19\n"
     ]
    },
    {
     "name": "stderr",
     "output_type": "stream",
     "text": [
      "20it [09:57, 28.67s/it]/tmp/ipykernel_1997758/2728505039.py:58: DeprecationWarning: Conversion of an array with ndim > 0 to a scalar is deprecated, and will error in future. Ensure you extract a single element from your array before performing this operation. (Deprecated NumPy 1.25.)\n",
      "  graph.ca_idx = int(ca_idx)\n"
     ]
    },
    {
     "name": "stdout",
     "output_type": "stream",
     "text": [
      "20\n"
     ]
    },
    {
     "name": "stderr",
     "output_type": "stream",
     "text": [
      "21it [10:26, 28.80s/it]/tmp/ipykernel_1997758/2728505039.py:58: DeprecationWarning: Conversion of an array with ndim > 0 to a scalar is deprecated, and will error in future. Ensure you extract a single element from your array before performing this operation. (Deprecated NumPy 1.25.)\n",
      "  graph.ca_idx = int(ca_idx)\n"
     ]
    },
    {
     "name": "stdout",
     "output_type": "stream",
     "text": [
      "21\n"
     ]
    },
    {
     "name": "stderr",
     "output_type": "stream",
     "text": [
      "22it [10:53, 28.30s/it]/tmp/ipykernel_1997758/2728505039.py:58: DeprecationWarning: Conversion of an array with ndim > 0 to a scalar is deprecated, and will error in future. Ensure you extract a single element from your array before performing this operation. (Deprecated NumPy 1.25.)\n",
      "  graph.ca_idx = int(ca_idx)\n"
     ]
    },
    {
     "name": "stdout",
     "output_type": "stream",
     "text": [
      "22\n"
     ]
    },
    {
     "name": "stderr",
     "output_type": "stream",
     "text": [
      "23it [11:15, 26.24s/it]/tmp/ipykernel_1997758/2728505039.py:58: DeprecationWarning: Conversion of an array with ndim > 0 to a scalar is deprecated, and will error in future. Ensure you extract a single element from your array before performing this operation. (Deprecated NumPy 1.25.)\n",
      "  graph.ca_idx = int(ca_idx)\n"
     ]
    },
    {
     "name": "stdout",
     "output_type": "stream",
     "text": [
      "23\n"
     ]
    },
    {
     "name": "stderr",
     "output_type": "stream",
     "text": [
      "24it [11:39, 25.60s/it]/tmp/ipykernel_1997758/2728505039.py:58: DeprecationWarning: Conversion of an array with ndim > 0 to a scalar is deprecated, and will error in future. Ensure you extract a single element from your array before performing this operation. (Deprecated NumPy 1.25.)\n",
      "  graph.ca_idx = int(ca_idx)\n"
     ]
    },
    {
     "name": "stdout",
     "output_type": "stream",
     "text": [
      "24\n"
     ]
    },
    {
     "name": "stderr",
     "output_type": "stream",
     "text": [
      "25it [12:02, 24.88s/it]/tmp/ipykernel_1997758/2728505039.py:58: DeprecationWarning: Conversion of an array with ndim > 0 to a scalar is deprecated, and will error in future. Ensure you extract a single element from your array before performing this operation. (Deprecated NumPy 1.25.)\n",
      "  graph.ca_idx = int(ca_idx)\n"
     ]
    },
    {
     "name": "stdout",
     "output_type": "stream",
     "text": [
      "25\n"
     ]
    },
    {
     "name": "stderr",
     "output_type": "stream",
     "text": [
      "26it [12:22, 23.47s/it]/tmp/ipykernel_1997758/2728505039.py:58: DeprecationWarning: Conversion of an array with ndim > 0 to a scalar is deprecated, and will error in future. Ensure you extract a single element from your array before performing this operation. (Deprecated NumPy 1.25.)\n",
      "  graph.ca_idx = int(ca_idx)\n"
     ]
    },
    {
     "name": "stdout",
     "output_type": "stream",
     "text": [
      "26\n"
     ]
    },
    {
     "name": "stderr",
     "output_type": "stream",
     "text": [
      "27it [12:46, 23.68s/it]/tmp/ipykernel_1997758/2728505039.py:58: DeprecationWarning: Conversion of an array with ndim > 0 to a scalar is deprecated, and will error in future. Ensure you extract a single element from your array before performing this operation. (Deprecated NumPy 1.25.)\n",
      "  graph.ca_idx = int(ca_idx)\n"
     ]
    },
    {
     "name": "stdout",
     "output_type": "stream",
     "text": [
      "27\n"
     ]
    },
    {
     "name": "stderr",
     "output_type": "stream",
     "text": [
      "28it [13:17, 25.69s/it]/tmp/ipykernel_1997758/2728505039.py:58: DeprecationWarning: Conversion of an array with ndim > 0 to a scalar is deprecated, and will error in future. Ensure you extract a single element from your array before performing this operation. (Deprecated NumPy 1.25.)\n",
      "  graph.ca_idx = int(ca_idx)\n"
     ]
    },
    {
     "name": "stdout",
     "output_type": "stream",
     "text": [
      "28\n"
     ]
    },
    {
     "name": "stderr",
     "output_type": "stream",
     "text": [
      "29it [13:53, 28.81s/it]/tmp/ipykernel_1997758/2728505039.py:58: DeprecationWarning: Conversion of an array with ndim > 0 to a scalar is deprecated, and will error in future. Ensure you extract a single element from your array before performing this operation. (Deprecated NumPy 1.25.)\n",
      "  graph.ca_idx = int(ca_idx)\n"
     ]
    },
    {
     "name": "stdout",
     "output_type": "stream",
     "text": [
      "29\n"
     ]
    },
    {
     "name": "stderr",
     "output_type": "stream",
     "text": [
      "30it [14:24, 29.54s/it]/tmp/ipykernel_1997758/2728505039.py:58: DeprecationWarning: Conversion of an array with ndim > 0 to a scalar is deprecated, and will error in future. Ensure you extract a single element from your array before performing this operation. (Deprecated NumPy 1.25.)\n",
      "  graph.ca_idx = int(ca_idx)\n"
     ]
    },
    {
     "name": "stdout",
     "output_type": "stream",
     "text": [
      "30\n"
     ]
    },
    {
     "name": "stderr",
     "output_type": "stream",
     "text": [
      "31it [15:05, 33.01s/it]/tmp/ipykernel_1997758/2728505039.py:58: DeprecationWarning: Conversion of an array with ndim > 0 to a scalar is deprecated, and will error in future. Ensure you extract a single element from your array before performing this operation. (Deprecated NumPy 1.25.)\n",
      "  graph.ca_idx = int(ca_idx)\n"
     ]
    },
    {
     "name": "stdout",
     "output_type": "stream",
     "text": [
      "31\n"
     ]
    },
    {
     "name": "stderr",
     "output_type": "stream",
     "text": [
      "32it [15:28, 29.79s/it]/tmp/ipykernel_1997758/2728505039.py:58: DeprecationWarning: Conversion of an array with ndim > 0 to a scalar is deprecated, and will error in future. Ensure you extract a single element from your array before performing this operation. (Deprecated NumPy 1.25.)\n",
      "  graph.ca_idx = int(ca_idx)\n"
     ]
    },
    {
     "name": "stdout",
     "output_type": "stream",
     "text": [
      "32\n"
     ]
    },
    {
     "name": "stderr",
     "output_type": "stream",
     "text": [
      "33it [16:00, 30.56s/it]/tmp/ipykernel_1997758/2728505039.py:58: DeprecationWarning: Conversion of an array with ndim > 0 to a scalar is deprecated, and will error in future. Ensure you extract a single element from your array before performing this operation. (Deprecated NumPy 1.25.)\n",
      "  graph.ca_idx = int(ca_idx)\n"
     ]
    },
    {
     "name": "stdout",
     "output_type": "stream",
     "text": [
      "33\n"
     ]
    },
    {
     "name": "stderr",
     "output_type": "stream",
     "text": [
      "34it [16:34, 31.60s/it]/tmp/ipykernel_1997758/2728505039.py:58: DeprecationWarning: Conversion of an array with ndim > 0 to a scalar is deprecated, and will error in future. Ensure you extract a single element from your array before performing this operation. (Deprecated NumPy 1.25.)\n",
      "  graph.ca_idx = int(ca_idx)\n"
     ]
    },
    {
     "name": "stdout",
     "output_type": "stream",
     "text": [
      "34\n"
     ]
    },
    {
     "name": "stderr",
     "output_type": "stream",
     "text": [
      "35it [17:06, 31.89s/it]/tmp/ipykernel_1997758/2728505039.py:58: DeprecationWarning: Conversion of an array with ndim > 0 to a scalar is deprecated, and will error in future. Ensure you extract a single element from your array before performing this operation. (Deprecated NumPy 1.25.)\n",
      "  graph.ca_idx = int(ca_idx)\n"
     ]
    },
    {
     "name": "stdout",
     "output_type": "stream",
     "text": [
      "35\n"
     ]
    },
    {
     "name": "stderr",
     "output_type": "stream",
     "text": [
      "36it [17:37, 31.58s/it]/tmp/ipykernel_1997758/2728505039.py:58: DeprecationWarning: Conversion of an array with ndim > 0 to a scalar is deprecated, and will error in future. Ensure you extract a single element from your array before performing this operation. (Deprecated NumPy 1.25.)\n",
      "  graph.ca_idx = int(ca_idx)\n"
     ]
    },
    {
     "name": "stdout",
     "output_type": "stream",
     "text": [
      "36\n"
     ]
    },
    {
     "name": "stderr",
     "output_type": "stream",
     "text": [
      "37it [17:58, 28.31s/it]/tmp/ipykernel_1997758/2728505039.py:58: DeprecationWarning: Conversion of an array with ndim > 0 to a scalar is deprecated, and will error in future. Ensure you extract a single element from your array before performing this operation. (Deprecated NumPy 1.25.)\n",
      "  graph.ca_idx = int(ca_idx)\n"
     ]
    },
    {
     "name": "stdout",
     "output_type": "stream",
     "text": [
      "37\n"
     ]
    },
    {
     "name": "stderr",
     "output_type": "stream",
     "text": [
      "38it [18:16, 25.33s/it]/tmp/ipykernel_1997758/2728505039.py:58: DeprecationWarning: Conversion of an array with ndim > 0 to a scalar is deprecated, and will error in future. Ensure you extract a single element from your array before performing this operation. (Deprecated NumPy 1.25.)\n",
      "  graph.ca_idx = int(ca_idx)\n"
     ]
    },
    {
     "name": "stdout",
     "output_type": "stream",
     "text": [
      "38\n"
     ]
    },
    {
     "name": "stderr",
     "output_type": "stream",
     "text": [
      "39it [18:48, 27.34s/it]/tmp/ipykernel_1997758/2728505039.py:58: DeprecationWarning: Conversion of an array with ndim > 0 to a scalar is deprecated, and will error in future. Ensure you extract a single element from your array before performing this operation. (Deprecated NumPy 1.25.)\n",
      "  graph.ca_idx = int(ca_idx)\n"
     ]
    },
    {
     "name": "stdout",
     "output_type": "stream",
     "text": [
      "39\n"
     ]
    },
    {
     "name": "stderr",
     "output_type": "stream",
     "text": [
      "40it [19:41, 34.95s/it]/tmp/ipykernel_1997758/2728505039.py:58: DeprecationWarning: Conversion of an array with ndim > 0 to a scalar is deprecated, and will error in future. Ensure you extract a single element from your array before performing this operation. (Deprecated NumPy 1.25.)\n",
      "  graph.ca_idx = int(ca_idx)\n"
     ]
    },
    {
     "name": "stdout",
     "output_type": "stream",
     "text": [
      "40\n"
     ]
    },
    {
     "name": "stderr",
     "output_type": "stream",
     "text": [
      "41it [20:26, 37.99s/it]/tmp/ipykernel_1997758/2728505039.py:58: DeprecationWarning: Conversion of an array with ndim > 0 to a scalar is deprecated, and will error in future. Ensure you extract a single element from your array before performing this operation. (Deprecated NumPy 1.25.)\n",
      "  graph.ca_idx = int(ca_idx)\n"
     ]
    },
    {
     "name": "stdout",
     "output_type": "stream",
     "text": [
      "41\n"
     ]
    },
    {
     "name": "stderr",
     "output_type": "stream",
     "text": [
      "42it [20:54, 35.07s/it]/tmp/ipykernel_1997758/2728505039.py:58: DeprecationWarning: Conversion of an array with ndim > 0 to a scalar is deprecated, and will error in future. Ensure you extract a single element from your array before performing this operation. (Deprecated NumPy 1.25.)\n",
      "  graph.ca_idx = int(ca_idx)\n"
     ]
    },
    {
     "name": "stdout",
     "output_type": "stream",
     "text": [
      "42\n"
     ]
    },
    {
     "name": "stderr",
     "output_type": "stream",
     "text": [
      "43it [21:24, 33.40s/it]/tmp/ipykernel_1997758/2728505039.py:58: DeprecationWarning: Conversion of an array with ndim > 0 to a scalar is deprecated, and will error in future. Ensure you extract a single element from your array before performing this operation. (Deprecated NumPy 1.25.)\n",
      "  graph.ca_idx = int(ca_idx)\n"
     ]
    },
    {
     "name": "stdout",
     "output_type": "stream",
     "text": [
      "43\n"
     ]
    },
    {
     "name": "stderr",
     "output_type": "stream",
     "text": [
      "44it [21:55, 32.80s/it]/tmp/ipykernel_1997758/2728505039.py:58: DeprecationWarning: Conversion of an array with ndim > 0 to a scalar is deprecated, and will error in future. Ensure you extract a single element from your array before performing this operation. (Deprecated NumPy 1.25.)\n",
      "  graph.ca_idx = int(ca_idx)\n"
     ]
    },
    {
     "name": "stdout",
     "output_type": "stream",
     "text": [
      "44\n"
     ]
    },
    {
     "name": "stderr",
     "output_type": "stream",
     "text": [
      "45it [22:24, 31.68s/it]/tmp/ipykernel_1997758/2728505039.py:58: DeprecationWarning: Conversion of an array with ndim > 0 to a scalar is deprecated, and will error in future. Ensure you extract a single element from your array before performing this operation. (Deprecated NumPy 1.25.)\n",
      "  graph.ca_idx = int(ca_idx)\n"
     ]
    },
    {
     "name": "stdout",
     "output_type": "stream",
     "text": [
      "45\n"
     ]
    },
    {
     "name": "stderr",
     "output_type": "stream",
     "text": [
      "46it [22:49, 29.65s/it]/tmp/ipykernel_1997758/2728505039.py:58: DeprecationWarning: Conversion of an array with ndim > 0 to a scalar is deprecated, and will error in future. Ensure you extract a single element from your array before performing this operation. (Deprecated NumPy 1.25.)\n",
      "  graph.ca_idx = int(ca_idx)\n"
     ]
    },
    {
     "name": "stdout",
     "output_type": "stream",
     "text": [
      "46\n"
     ]
    },
    {
     "name": "stderr",
     "output_type": "stream",
     "text": [
      "47it [23:22, 30.56s/it]/tmp/ipykernel_1997758/2728505039.py:58: DeprecationWarning: Conversion of an array with ndim > 0 to a scalar is deprecated, and will error in future. Ensure you extract a single element from your array before performing this operation. (Deprecated NumPy 1.25.)\n",
      "  graph.ca_idx = int(ca_idx)\n"
     ]
    },
    {
     "name": "stdout",
     "output_type": "stream",
     "text": [
      "47\n"
     ]
    },
    {
     "name": "stderr",
     "output_type": "stream",
     "text": [
      "48it [23:46, 28.61s/it]/tmp/ipykernel_1997758/2728505039.py:58: DeprecationWarning: Conversion of an array with ndim > 0 to a scalar is deprecated, and will error in future. Ensure you extract a single element from your array before performing this operation. (Deprecated NumPy 1.25.)\n",
      "  graph.ca_idx = int(ca_idx)\n"
     ]
    },
    {
     "name": "stdout",
     "output_type": "stream",
     "text": [
      "48\n"
     ]
    },
    {
     "name": "stderr",
     "output_type": "stream",
     "text": [
      "49it [24:11, 27.60s/it]/tmp/ipykernel_1997758/2728505039.py:58: DeprecationWarning: Conversion of an array with ndim > 0 to a scalar is deprecated, and will error in future. Ensure you extract a single element from your array before performing this operation. (Deprecated NumPy 1.25.)\n",
      "  graph.ca_idx = int(ca_idx)\n"
     ]
    },
    {
     "name": "stdout",
     "output_type": "stream",
     "text": [
      "49\n"
     ]
    },
    {
     "name": "stderr",
     "output_type": "stream",
     "text": [
      "50it [24:38, 27.33s/it]/tmp/ipykernel_1997758/2728505039.py:58: DeprecationWarning: Conversion of an array with ndim > 0 to a scalar is deprecated, and will error in future. Ensure you extract a single element from your array before performing this operation. (Deprecated NumPy 1.25.)\n",
      "  graph.ca_idx = int(ca_idx)\n"
     ]
    },
    {
     "name": "stdout",
     "output_type": "stream",
     "text": [
      "50\n"
     ]
    },
    {
     "name": "stderr",
     "output_type": "stream",
     "text": [
      "51it [25:04, 27.05s/it]/tmp/ipykernel_1997758/2728505039.py:58: DeprecationWarning: Conversion of an array with ndim > 0 to a scalar is deprecated, and will error in future. Ensure you extract a single element from your array before performing this operation. (Deprecated NumPy 1.25.)\n",
      "  graph.ca_idx = int(ca_idx)\n"
     ]
    },
    {
     "name": "stdout",
     "output_type": "stream",
     "text": [
      "51\n"
     ]
    },
    {
     "name": "stderr",
     "output_type": "stream",
     "text": [
      "52it [25:20, 23.69s/it]/tmp/ipykernel_1997758/2728505039.py:58: DeprecationWarning: Conversion of an array with ndim > 0 to a scalar is deprecated, and will error in future. Ensure you extract a single element from your array before performing this operation. (Deprecated NumPy 1.25.)\n",
      "  graph.ca_idx = int(ca_idx)\n"
     ]
    },
    {
     "name": "stdout",
     "output_type": "stream",
     "text": [
      "52\n"
     ]
    },
    {
     "name": "stderr",
     "output_type": "stream",
     "text": [
      "53it [25:46, 24.19s/it]/tmp/ipykernel_1997758/2728505039.py:58: DeprecationWarning: Conversion of an array with ndim > 0 to a scalar is deprecated, and will error in future. Ensure you extract a single element from your array before performing this operation. (Deprecated NumPy 1.25.)\n",
      "  graph.ca_idx = int(ca_idx)\n"
     ]
    },
    {
     "name": "stdout",
     "output_type": "stream",
     "text": [
      "53\n"
     ]
    },
    {
     "name": "stderr",
     "output_type": "stream",
     "text": [
      "54it [26:12, 24.86s/it]/tmp/ipykernel_1997758/2728505039.py:58: DeprecationWarning: Conversion of an array with ndim > 0 to a scalar is deprecated, and will error in future. Ensure you extract a single element from your array before performing this operation. (Deprecated NumPy 1.25.)\n",
      "  graph.ca_idx = int(ca_idx)\n"
     ]
    },
    {
     "name": "stdout",
     "output_type": "stream",
     "text": [
      "54\n"
     ]
    },
    {
     "name": "stderr",
     "output_type": "stream",
     "text": [
      "55it [26:47, 27.77s/it]/tmp/ipykernel_1997758/2728505039.py:58: DeprecationWarning: Conversion of an array with ndim > 0 to a scalar is deprecated, and will error in future. Ensure you extract a single element from your array before performing this operation. (Deprecated NumPy 1.25.)\n",
      "  graph.ca_idx = int(ca_idx)\n"
     ]
    },
    {
     "name": "stdout",
     "output_type": "stream",
     "text": [
      "55\n"
     ]
    },
    {
     "name": "stderr",
     "output_type": "stream",
     "text": [
      "56it [27:13, 27.28s/it]/tmp/ipykernel_1997758/2728505039.py:58: DeprecationWarning: Conversion of an array with ndim > 0 to a scalar is deprecated, and will error in future. Ensure you extract a single element from your array before performing this operation. (Deprecated NumPy 1.25.)\n",
      "  graph.ca_idx = int(ca_idx)\n"
     ]
    },
    {
     "name": "stdout",
     "output_type": "stream",
     "text": [
      "56\n"
     ]
    },
    {
     "name": "stderr",
     "output_type": "stream",
     "text": [
      "57it [27:43, 28.18s/it]/tmp/ipykernel_1997758/2728505039.py:58: DeprecationWarning: Conversion of an array with ndim > 0 to a scalar is deprecated, and will error in future. Ensure you extract a single element from your array before performing this operation. (Deprecated NumPy 1.25.)\n",
      "  graph.ca_idx = int(ca_idx)\n"
     ]
    },
    {
     "name": "stdout",
     "output_type": "stream",
     "text": [
      "57\n"
     ]
    },
    {
     "name": "stderr",
     "output_type": "stream",
     "text": [
      "58it [28:16, 29.61s/it]/tmp/ipykernel_1997758/2728505039.py:58: DeprecationWarning: Conversion of an array with ndim > 0 to a scalar is deprecated, and will error in future. Ensure you extract a single element from your array before performing this operation. (Deprecated NumPy 1.25.)\n",
      "  graph.ca_idx = int(ca_idx)\n"
     ]
    },
    {
     "name": "stdout",
     "output_type": "stream",
     "text": [
      "58\n"
     ]
    },
    {
     "name": "stderr",
     "output_type": "stream",
     "text": [
      "59it [28:53, 31.91s/it]/tmp/ipykernel_1997758/2728505039.py:58: DeprecationWarning: Conversion of an array with ndim > 0 to a scalar is deprecated, and will error in future. Ensure you extract a single element from your array before performing this operation. (Deprecated NumPy 1.25.)\n",
      "  graph.ca_idx = int(ca_idx)\n"
     ]
    },
    {
     "name": "stdout",
     "output_type": "stream",
     "text": [
      "59\n"
     ]
    },
    {
     "name": "stderr",
     "output_type": "stream",
     "text": [
      "60it [29:31, 33.61s/it]/tmp/ipykernel_1997758/2728505039.py:58: DeprecationWarning: Conversion of an array with ndim > 0 to a scalar is deprecated, and will error in future. Ensure you extract a single element from your array before performing this operation. (Deprecated NumPy 1.25.)\n",
      "  graph.ca_idx = int(ca_idx)\n"
     ]
    },
    {
     "name": "stdout",
     "output_type": "stream",
     "text": [
      "60\n"
     ]
    },
    {
     "name": "stderr",
     "output_type": "stream",
     "text": [
      "61it [30:17, 37.40s/it]/tmp/ipykernel_1997758/2728505039.py:58: DeprecationWarning: Conversion of an array with ndim > 0 to a scalar is deprecated, and will error in future. Ensure you extract a single element from your array before performing this operation. (Deprecated NumPy 1.25.)\n",
      "  graph.ca_idx = int(ca_idx)\n"
     ]
    },
    {
     "name": "stdout",
     "output_type": "stream",
     "text": [
      "61\n"
     ]
    },
    {
     "name": "stderr",
     "output_type": "stream",
     "text": [
      "62it [31:06, 40.86s/it]/tmp/ipykernel_1997758/2728505039.py:58: DeprecationWarning: Conversion of an array with ndim > 0 to a scalar is deprecated, and will error in future. Ensure you extract a single element from your array before performing this operation. (Deprecated NumPy 1.25.)\n",
      "  graph.ca_idx = int(ca_idx)\n"
     ]
    },
    {
     "name": "stdout",
     "output_type": "stream",
     "text": [
      "62\n"
     ]
    },
    {
     "name": "stderr",
     "output_type": "stream",
     "text": [
      "63it [31:50, 41.67s/it]/tmp/ipykernel_1997758/2728505039.py:58: DeprecationWarning: Conversion of an array with ndim > 0 to a scalar is deprecated, and will error in future. Ensure you extract a single element from your array before performing this operation. (Deprecated NumPy 1.25.)\n",
      "  graph.ca_idx = int(ca_idx)\n"
     ]
    },
    {
     "name": "stdout",
     "output_type": "stream",
     "text": [
      "63\n"
     ]
    },
    {
     "name": "stderr",
     "output_type": "stream",
     "text": [
      "64it [32:24, 39.60s/it]/tmp/ipykernel_1997758/2728505039.py:58: DeprecationWarning: Conversion of an array with ndim > 0 to a scalar is deprecated, and will error in future. Ensure you extract a single element from your array before performing this operation. (Deprecated NumPy 1.25.)\n",
      "  graph.ca_idx = int(ca_idx)\n"
     ]
    },
    {
     "name": "stdout",
     "output_type": "stream",
     "text": [
      "64\n"
     ]
    },
    {
     "name": "stderr",
     "output_type": "stream",
     "text": [
      "65it [32:59, 38.07s/it]/tmp/ipykernel_1997758/2728505039.py:58: DeprecationWarning: Conversion of an array with ndim > 0 to a scalar is deprecated, and will error in future. Ensure you extract a single element from your array before performing this operation. (Deprecated NumPy 1.25.)\n",
      "  graph.ca_idx = int(ca_idx)\n"
     ]
    },
    {
     "name": "stdout",
     "output_type": "stream",
     "text": [
      "65\n"
     ]
    },
    {
     "name": "stderr",
     "output_type": "stream",
     "text": [
      "66it [33:42, 39.72s/it]/tmp/ipykernel_1997758/2728505039.py:58: DeprecationWarning: Conversion of an array with ndim > 0 to a scalar is deprecated, and will error in future. Ensure you extract a single element from your array before performing this operation. (Deprecated NumPy 1.25.)\n",
      "  graph.ca_idx = int(ca_idx)\n"
     ]
    },
    {
     "name": "stdout",
     "output_type": "stream",
     "text": [
      "66\n"
     ]
    },
    {
     "name": "stderr",
     "output_type": "stream",
     "text": [
      "67it [34:19, 38.63s/it]/tmp/ipykernel_1997758/2728505039.py:58: DeprecationWarning: Conversion of an array with ndim > 0 to a scalar is deprecated, and will error in future. Ensure you extract a single element from your array before performing this operation. (Deprecated NumPy 1.25.)\n",
      "  graph.ca_idx = int(ca_idx)\n"
     ]
    },
    {
     "name": "stdout",
     "output_type": "stream",
     "text": [
      "67\n"
     ]
    },
    {
     "name": "stderr",
     "output_type": "stream",
     "text": [
      "68it [34:56, 38.16s/it]/tmp/ipykernel_1997758/2728505039.py:58: DeprecationWarning: Conversion of an array with ndim > 0 to a scalar is deprecated, and will error in future. Ensure you extract a single element from your array before performing this operation. (Deprecated NumPy 1.25.)\n",
      "  graph.ca_idx = int(ca_idx)\n"
     ]
    },
    {
     "name": "stdout",
     "output_type": "stream",
     "text": [
      "68\n"
     ]
    },
    {
     "name": "stderr",
     "output_type": "stream",
     "text": [
      "69it [35:31, 37.31s/it]/tmp/ipykernel_1997758/2728505039.py:58: DeprecationWarning: Conversion of an array with ndim > 0 to a scalar is deprecated, and will error in future. Ensure you extract a single element from your array before performing this operation. (Deprecated NumPy 1.25.)\n",
      "  graph.ca_idx = int(ca_idx)\n"
     ]
    },
    {
     "name": "stdout",
     "output_type": "stream",
     "text": [
      "69\n"
     ]
    },
    {
     "name": "stderr",
     "output_type": "stream",
     "text": [
      "70it [36:06, 36.80s/it]/tmp/ipykernel_1997758/2728505039.py:58: DeprecationWarning: Conversion of an array with ndim > 0 to a scalar is deprecated, and will error in future. Ensure you extract a single element from your array before performing this operation. (Deprecated NumPy 1.25.)\n",
      "  graph.ca_idx = int(ca_idx)\n"
     ]
    },
    {
     "name": "stdout",
     "output_type": "stream",
     "text": [
      "70\n"
     ]
    },
    {
     "name": "stderr",
     "output_type": "stream",
     "text": [
      "71it [36:45, 37.24s/it]/tmp/ipykernel_1997758/2728505039.py:58: DeprecationWarning: Conversion of an array with ndim > 0 to a scalar is deprecated, and will error in future. Ensure you extract a single element from your array before performing this operation. (Deprecated NumPy 1.25.)\n",
      "  graph.ca_idx = int(ca_idx)\n"
     ]
    },
    {
     "name": "stdout",
     "output_type": "stream",
     "text": [
      "71\n"
     ]
    },
    {
     "name": "stderr",
     "output_type": "stream",
     "text": [
      "72it [37:29, 39.36s/it]/tmp/ipykernel_1997758/2728505039.py:58: DeprecationWarning: Conversion of an array with ndim > 0 to a scalar is deprecated, and will error in future. Ensure you extract a single element from your array before performing this operation. (Deprecated NumPy 1.25.)\n",
      "  graph.ca_idx = int(ca_idx)\n"
     ]
    },
    {
     "name": "stdout",
     "output_type": "stream",
     "text": [
      "72\n"
     ]
    },
    {
     "name": "stderr",
     "output_type": "stream",
     "text": [
      "73it [38:23, 43.87s/it]/tmp/ipykernel_1997758/2728505039.py:58: DeprecationWarning: Conversion of an array with ndim > 0 to a scalar is deprecated, and will error in future. Ensure you extract a single element from your array before performing this operation. (Deprecated NumPy 1.25.)\n",
      "  graph.ca_idx = int(ca_idx)\n"
     ]
    },
    {
     "name": "stdout",
     "output_type": "stream",
     "text": [
      "73\n"
     ]
    },
    {
     "name": "stderr",
     "output_type": "stream",
     "text": [
      "74it [39:12, 45.35s/it]/tmp/ipykernel_1997758/2728505039.py:58: DeprecationWarning: Conversion of an array with ndim > 0 to a scalar is deprecated, and will error in future. Ensure you extract a single element from your array before performing this operation. (Deprecated NumPy 1.25.)\n",
      "  graph.ca_idx = int(ca_idx)\n"
     ]
    },
    {
     "name": "stdout",
     "output_type": "stream",
     "text": [
      "74\n"
     ]
    },
    {
     "name": "stderr",
     "output_type": "stream",
     "text": [
      "75it [40:08, 48.48s/it]/tmp/ipykernel_1997758/2728505039.py:58: DeprecationWarning: Conversion of an array with ndim > 0 to a scalar is deprecated, and will error in future. Ensure you extract a single element from your array before performing this operation. (Deprecated NumPy 1.25.)\n",
      "  graph.ca_idx = int(ca_idx)\n"
     ]
    },
    {
     "name": "stdout",
     "output_type": "stream",
     "text": [
      "75\n"
     ]
    },
    {
     "name": "stderr",
     "output_type": "stream",
     "text": [
      "76it [40:49, 46.18s/it]/tmp/ipykernel_1997758/2728505039.py:58: DeprecationWarning: Conversion of an array with ndim > 0 to a scalar is deprecated, and will error in future. Ensure you extract a single element from your array before performing this operation. (Deprecated NumPy 1.25.)\n",
      "  graph.ca_idx = int(ca_idx)\n"
     ]
    },
    {
     "name": "stdout",
     "output_type": "stream",
     "text": [
      "76\n"
     ]
    },
    {
     "name": "stderr",
     "output_type": "stream",
     "text": [
      "77it [41:24, 42.96s/it]/tmp/ipykernel_1997758/2728505039.py:58: DeprecationWarning: Conversion of an array with ndim > 0 to a scalar is deprecated, and will error in future. Ensure you extract a single element from your array before performing this operation. (Deprecated NumPy 1.25.)\n",
      "  graph.ca_idx = int(ca_idx)\n"
     ]
    },
    {
     "name": "stdout",
     "output_type": "stream",
     "text": [
      "77\n"
     ]
    },
    {
     "name": "stderr",
     "output_type": "stream",
     "text": [
      "78it [42:14, 45.11s/it]/tmp/ipykernel_1997758/2728505039.py:58: DeprecationWarning: Conversion of an array with ndim > 0 to a scalar is deprecated, and will error in future. Ensure you extract a single element from your array before performing this operation. (Deprecated NumPy 1.25.)\n",
      "  graph.ca_idx = int(ca_idx)\n"
     ]
    },
    {
     "name": "stdout",
     "output_type": "stream",
     "text": [
      "78\n"
     ]
    },
    {
     "name": "stderr",
     "output_type": "stream",
     "text": [
      "79it [42:59, 44.99s/it]/tmp/ipykernel_1997758/2728505039.py:58: DeprecationWarning: Conversion of an array with ndim > 0 to a scalar is deprecated, and will error in future. Ensure you extract a single element from your array before performing this operation. (Deprecated NumPy 1.25.)\n",
      "  graph.ca_idx = int(ca_idx)\n"
     ]
    },
    {
     "name": "stdout",
     "output_type": "stream",
     "text": [
      "79\n"
     ]
    },
    {
     "name": "stderr",
     "output_type": "stream",
     "text": [
      "80it [43:37, 42.84s/it]/tmp/ipykernel_1997758/2728505039.py:58: DeprecationWarning: Conversion of an array with ndim > 0 to a scalar is deprecated, and will error in future. Ensure you extract a single element from your array before performing this operation. (Deprecated NumPy 1.25.)\n",
      "  graph.ca_idx = int(ca_idx)\n"
     ]
    },
    {
     "name": "stdout",
     "output_type": "stream",
     "text": [
      "80\n"
     ]
    },
    {
     "name": "stderr",
     "output_type": "stream",
     "text": [
      "81it [44:12, 40.64s/it]/tmp/ipykernel_1997758/2728505039.py:58: DeprecationWarning: Conversion of an array with ndim > 0 to a scalar is deprecated, and will error in future. Ensure you extract a single element from your array before performing this operation. (Deprecated NumPy 1.25.)\n",
      "  graph.ca_idx = int(ca_idx)\n"
     ]
    },
    {
     "name": "stdout",
     "output_type": "stream",
     "text": [
      "81\n"
     ]
    },
    {
     "name": "stderr",
     "output_type": "stream",
     "text": [
      "82it [45:15, 47.19s/it]/tmp/ipykernel_1997758/2728505039.py:58: DeprecationWarning: Conversion of an array with ndim > 0 to a scalar is deprecated, and will error in future. Ensure you extract a single element from your array before performing this operation. (Deprecated NumPy 1.25.)\n",
      "  graph.ca_idx = int(ca_idx)\n"
     ]
    },
    {
     "name": "stdout",
     "output_type": "stream",
     "text": [
      "82\n"
     ]
    },
    {
     "name": "stderr",
     "output_type": "stream",
     "text": [
      "83it [45:52, 44.19s/it]/tmp/ipykernel_1997758/2728505039.py:58: DeprecationWarning: Conversion of an array with ndim > 0 to a scalar is deprecated, and will error in future. Ensure you extract a single element from your array before performing this operation. (Deprecated NumPy 1.25.)\n",
      "  graph.ca_idx = int(ca_idx)\n"
     ]
    },
    {
     "name": "stdout",
     "output_type": "stream",
     "text": [
      "83\n"
     ]
    },
    {
     "name": "stderr",
     "output_type": "stream",
     "text": [
      "84it [46:41, 45.46s/it]/tmp/ipykernel_1997758/2728505039.py:58: DeprecationWarning: Conversion of an array with ndim > 0 to a scalar is deprecated, and will error in future. Ensure you extract a single element from your array before performing this operation. (Deprecated NumPy 1.25.)\n",
      "  graph.ca_idx = int(ca_idx)\n"
     ]
    },
    {
     "name": "stdout",
     "output_type": "stream",
     "text": [
      "84\n"
     ]
    },
    {
     "name": "stderr",
     "output_type": "stream",
     "text": [
      "85it [47:28, 46.02s/it]/tmp/ipykernel_1997758/2728505039.py:58: DeprecationWarning: Conversion of an array with ndim > 0 to a scalar is deprecated, and will error in future. Ensure you extract a single element from your array before performing this operation. (Deprecated NumPy 1.25.)\n",
      "  graph.ca_idx = int(ca_idx)\n"
     ]
    },
    {
     "name": "stdout",
     "output_type": "stream",
     "text": [
      "85\n"
     ]
    },
    {
     "name": "stderr",
     "output_type": "stream",
     "text": [
      "86it [48:09, 44.68s/it]/tmp/ipykernel_1997758/2728505039.py:58: DeprecationWarning: Conversion of an array with ndim > 0 to a scalar is deprecated, and will error in future. Ensure you extract a single element from your array before performing this operation. (Deprecated NumPy 1.25.)\n",
      "  graph.ca_idx = int(ca_idx)\n"
     ]
    },
    {
     "name": "stdout",
     "output_type": "stream",
     "text": [
      "86\n"
     ]
    },
    {
     "name": "stderr",
     "output_type": "stream",
     "text": [
      "87it [48:58, 45.98s/it]/tmp/ipykernel_1997758/2728505039.py:58: DeprecationWarning: Conversion of an array with ndim > 0 to a scalar is deprecated, and will error in future. Ensure you extract a single element from your array before performing this operation. (Deprecated NumPy 1.25.)\n",
      "  graph.ca_idx = int(ca_idx)\n"
     ]
    },
    {
     "name": "stdout",
     "output_type": "stream",
     "text": [
      "87\n"
     ]
    },
    {
     "name": "stderr",
     "output_type": "stream",
     "text": [
      "88it [49:32, 42.13s/it]/tmp/ipykernel_1997758/2728505039.py:58: DeprecationWarning: Conversion of an array with ndim > 0 to a scalar is deprecated, and will error in future. Ensure you extract a single element from your array before performing this operation. (Deprecated NumPy 1.25.)\n",
      "  graph.ca_idx = int(ca_idx)\n"
     ]
    },
    {
     "name": "stdout",
     "output_type": "stream",
     "text": [
      "88\n"
     ]
    },
    {
     "name": "stderr",
     "output_type": "stream",
     "text": [
      "89it [50:09, 40.73s/it]/tmp/ipykernel_1997758/2728505039.py:58: DeprecationWarning: Conversion of an array with ndim > 0 to a scalar is deprecated, and will error in future. Ensure you extract a single element from your array before performing this operation. (Deprecated NumPy 1.25.)\n",
      "  graph.ca_idx = int(ca_idx)\n"
     ]
    },
    {
     "name": "stdout",
     "output_type": "stream",
     "text": [
      "89\n"
     ]
    },
    {
     "name": "stderr",
     "output_type": "stream",
     "text": [
      "90it [50:47, 39.79s/it]/tmp/ipykernel_1997758/2728505039.py:58: DeprecationWarning: Conversion of an array with ndim > 0 to a scalar is deprecated, and will error in future. Ensure you extract a single element from your array before performing this operation. (Deprecated NumPy 1.25.)\n",
      "  graph.ca_idx = int(ca_idx)\n"
     ]
    },
    {
     "name": "stdout",
     "output_type": "stream",
     "text": [
      "90\n"
     ]
    },
    {
     "name": "stderr",
     "output_type": "stream",
     "text": [
      "91it [51:41, 44.12s/it]/tmp/ipykernel_1997758/2728505039.py:58: DeprecationWarning: Conversion of an array with ndim > 0 to a scalar is deprecated, and will error in future. Ensure you extract a single element from your array before performing this operation. (Deprecated NumPy 1.25.)\n",
      "  graph.ca_idx = int(ca_idx)\n"
     ]
    },
    {
     "name": "stdout",
     "output_type": "stream",
     "text": [
      "91\n"
     ]
    },
    {
     "name": "stderr",
     "output_type": "stream",
     "text": [
      "92it [52:40, 48.71s/it]/tmp/ipykernel_1997758/2728505039.py:58: DeprecationWarning: Conversion of an array with ndim > 0 to a scalar is deprecated, and will error in future. Ensure you extract a single element from your array before performing this operation. (Deprecated NumPy 1.25.)\n",
      "  graph.ca_idx = int(ca_idx)\n"
     ]
    },
    {
     "name": "stdout",
     "output_type": "stream",
     "text": [
      "92\n"
     ]
    },
    {
     "name": "stderr",
     "output_type": "stream",
     "text": [
      "93it [53:31, 49.17s/it]/tmp/ipykernel_1997758/2728505039.py:58: DeprecationWarning: Conversion of an array with ndim > 0 to a scalar is deprecated, and will error in future. Ensure you extract a single element from your array before performing this operation. (Deprecated NumPy 1.25.)\n",
      "  graph.ca_idx = int(ca_idx)\n"
     ]
    },
    {
     "name": "stdout",
     "output_type": "stream",
     "text": [
      "93\n"
     ]
    },
    {
     "name": "stderr",
     "output_type": "stream",
     "text": [
      "94it [54:41, 55.68s/it]/tmp/ipykernel_1997758/2728505039.py:58: DeprecationWarning: Conversion of an array with ndim > 0 to a scalar is deprecated, and will error in future. Ensure you extract a single element from your array before performing this operation. (Deprecated NumPy 1.25.)\n",
      "  graph.ca_idx = int(ca_idx)\n"
     ]
    },
    {
     "name": "stdout",
     "output_type": "stream",
     "text": [
      "94\n"
     ]
    },
    {
     "name": "stderr",
     "output_type": "stream",
     "text": [
      "95it [55:34, 54.72s/it]/tmp/ipykernel_1997758/2728505039.py:58: DeprecationWarning: Conversion of an array with ndim > 0 to a scalar is deprecated, and will error in future. Ensure you extract a single element from your array before performing this operation. (Deprecated NumPy 1.25.)\n",
      "  graph.ca_idx = int(ca_idx)\n"
     ]
    },
    {
     "name": "stdout",
     "output_type": "stream",
     "text": [
      "95\n"
     ]
    },
    {
     "name": "stderr",
     "output_type": "stream",
     "text": [
      "96it [56:20, 52.28s/it]/tmp/ipykernel_1997758/2728505039.py:58: DeprecationWarning: Conversion of an array with ndim > 0 to a scalar is deprecated, and will error in future. Ensure you extract a single element from your array before performing this operation. (Deprecated NumPy 1.25.)\n",
      "  graph.ca_idx = int(ca_idx)\n"
     ]
    },
    {
     "name": "stdout",
     "output_type": "stream",
     "text": [
      "96\n"
     ]
    },
    {
     "name": "stderr",
     "output_type": "stream",
     "text": [
      "97it [57:13, 52.40s/it]/tmp/ipykernel_1997758/2728505039.py:58: DeprecationWarning: Conversion of an array with ndim > 0 to a scalar is deprecated, and will error in future. Ensure you extract a single element from your array before performing this operation. (Deprecated NumPy 1.25.)\n",
      "  graph.ca_idx = int(ca_idx)\n"
     ]
    },
    {
     "name": "stdout",
     "output_type": "stream",
     "text": [
      "97\n"
     ]
    },
    {
     "name": "stderr",
     "output_type": "stream",
     "text": [
      "98it [57:52, 48.45s/it]/tmp/ipykernel_1997758/2728505039.py:58: DeprecationWarning: Conversion of an array with ndim > 0 to a scalar is deprecated, and will error in future. Ensure you extract a single element from your array before performing this operation. (Deprecated NumPy 1.25.)\n",
      "  graph.ca_idx = int(ca_idx)\n"
     ]
    },
    {
     "name": "stdout",
     "output_type": "stream",
     "text": [
      "98\n"
     ]
    },
    {
     "name": "stderr",
     "output_type": "stream",
     "text": [
      "99it [58:28, 44.65s/it]/tmp/ipykernel_1997758/2728505039.py:58: DeprecationWarning: Conversion of an array with ndim > 0 to a scalar is deprecated, and will error in future. Ensure you extract a single element from your array before performing this operation. (Deprecated NumPy 1.25.)\n",
      "  graph.ca_idx = int(ca_idx)\n"
     ]
    },
    {
     "name": "stdout",
     "output_type": "stream",
     "text": [
      "99\n"
     ]
    },
    {
     "name": "stderr",
     "output_type": "stream",
     "text": [
      "100it [58:55, 39.39s/it]/tmp/ipykernel_1997758/2728505039.py:58: DeprecationWarning: Conversion of an array with ndim > 0 to a scalar is deprecated, and will error in future. Ensure you extract a single element from your array before performing this operation. (Deprecated NumPy 1.25.)\n",
      "  graph.ca_idx = int(ca_idx)\n"
     ]
    },
    {
     "name": "stdout",
     "output_type": "stream",
     "text": [
      "100\n"
     ]
    },
    {
     "name": "stderr",
     "output_type": "stream",
     "text": [
      "101it [59:31, 38.42s/it]/tmp/ipykernel_1997758/2728505039.py:58: DeprecationWarning: Conversion of an array with ndim > 0 to a scalar is deprecated, and will error in future. Ensure you extract a single element from your array before performing this operation. (Deprecated NumPy 1.25.)\n",
      "  graph.ca_idx = int(ca_idx)\n"
     ]
    },
    {
     "name": "stdout",
     "output_type": "stream",
     "text": [
      "101\n"
     ]
    },
    {
     "name": "stderr",
     "output_type": "stream",
     "text": [
      "102it [1:00:17, 40.54s/it]/tmp/ipykernel_1997758/2728505039.py:58: DeprecationWarning: Conversion of an array with ndim > 0 to a scalar is deprecated, and will error in future. Ensure you extract a single element from your array before performing this operation. (Deprecated NumPy 1.25.)\n",
      "  graph.ca_idx = int(ca_idx)\n"
     ]
    },
    {
     "name": "stdout",
     "output_type": "stream",
     "text": [
      "102\n"
     ]
    },
    {
     "name": "stderr",
     "output_type": "stream",
     "text": [
      "103it [1:01:00, 41.40s/it]/tmp/ipykernel_1997758/2728505039.py:58: DeprecationWarning: Conversion of an array with ndim > 0 to a scalar is deprecated, and will error in future. Ensure you extract a single element from your array before performing this operation. (Deprecated NumPy 1.25.)\n",
      "  graph.ca_idx = int(ca_idx)\n"
     ]
    },
    {
     "name": "stdout",
     "output_type": "stream",
     "text": [
      "103\n"
     ]
    },
    {
     "name": "stderr",
     "output_type": "stream",
     "text": [
      "104it [1:01:56, 45.71s/it]/tmp/ipykernel_1997758/2728505039.py:58: DeprecationWarning: Conversion of an array with ndim > 0 to a scalar is deprecated, and will error in future. Ensure you extract a single element from your array before performing this operation. (Deprecated NumPy 1.25.)\n",
      "  graph.ca_idx = int(ca_idx)\n"
     ]
    },
    {
     "name": "stdout",
     "output_type": "stream",
     "text": [
      "104\n"
     ]
    },
    {
     "name": "stderr",
     "output_type": "stream",
     "text": [
      "105it [1:02:30, 42.07s/it]/tmp/ipykernel_1997758/2728505039.py:58: DeprecationWarning: Conversion of an array with ndim > 0 to a scalar is deprecated, and will error in future. Ensure you extract a single element from your array before performing this operation. (Deprecated NumPy 1.25.)\n",
      "  graph.ca_idx = int(ca_idx)\n"
     ]
    },
    {
     "name": "stdout",
     "output_type": "stream",
     "text": [
      "105\n"
     ]
    },
    {
     "name": "stderr",
     "output_type": "stream",
     "text": [
      "106it [1:03:03, 39.54s/it]/tmp/ipykernel_1997758/2728505039.py:58: DeprecationWarning: Conversion of an array with ndim > 0 to a scalar is deprecated, and will error in future. Ensure you extract a single element from your array before performing this operation. (Deprecated NumPy 1.25.)\n",
      "  graph.ca_idx = int(ca_idx)\n"
     ]
    },
    {
     "name": "stdout",
     "output_type": "stream",
     "text": [
      "106\n"
     ]
    },
    {
     "name": "stderr",
     "output_type": "stream",
     "text": [
      "107it [1:03:49, 41.38s/it]/tmp/ipykernel_1997758/2728505039.py:58: DeprecationWarning: Conversion of an array with ndim > 0 to a scalar is deprecated, and will error in future. Ensure you extract a single element from your array before performing this operation. (Deprecated NumPy 1.25.)\n",
      "  graph.ca_idx = int(ca_idx)\n"
     ]
    },
    {
     "name": "stdout",
     "output_type": "stream",
     "text": [
      "107\n"
     ]
    },
    {
     "name": "stderr",
     "output_type": "stream",
     "text": [
      "108it [1:04:14, 36.40s/it]/tmp/ipykernel_1997758/2728505039.py:58: DeprecationWarning: Conversion of an array with ndim > 0 to a scalar is deprecated, and will error in future. Ensure you extract a single element from your array before performing this operation. (Deprecated NumPy 1.25.)\n",
      "  graph.ca_idx = int(ca_idx)\n"
     ]
    },
    {
     "name": "stdout",
     "output_type": "stream",
     "text": [
      "108\n"
     ]
    },
    {
     "name": "stderr",
     "output_type": "stream",
     "text": [
      "109it [1:04:44, 34.45s/it]/tmp/ipykernel_1997758/2728505039.py:58: DeprecationWarning: Conversion of an array with ndim > 0 to a scalar is deprecated, and will error in future. Ensure you extract a single element from your array before performing this operation. (Deprecated NumPy 1.25.)\n",
      "  graph.ca_idx = int(ca_idx)\n"
     ]
    },
    {
     "name": "stdout",
     "output_type": "stream",
     "text": [
      "109\n"
     ]
    },
    {
     "name": "stderr",
     "output_type": "stream",
     "text": [
      "110it [1:05:15, 33.36s/it]/tmp/ipykernel_1997758/2728505039.py:58: DeprecationWarning: Conversion of an array with ndim > 0 to a scalar is deprecated, and will error in future. Ensure you extract a single element from your array before performing this operation. (Deprecated NumPy 1.25.)\n",
      "  graph.ca_idx = int(ca_idx)\n"
     ]
    },
    {
     "name": "stdout",
     "output_type": "stream",
     "text": [
      "110\n"
     ]
    },
    {
     "name": "stderr",
     "output_type": "stream",
     "text": [
      "111it [1:05:56, 35.65s/it]/tmp/ipykernel_1997758/2728505039.py:58: DeprecationWarning: Conversion of an array with ndim > 0 to a scalar is deprecated, and will error in future. Ensure you extract a single element from your array before performing this operation. (Deprecated NumPy 1.25.)\n",
      "  graph.ca_idx = int(ca_idx)\n"
     ]
    },
    {
     "name": "stdout",
     "output_type": "stream",
     "text": [
      "111\n"
     ]
    },
    {
     "name": "stderr",
     "output_type": "stream",
     "text": [
      "112it [1:07:01, 44.67s/it]/tmp/ipykernel_1997758/2728505039.py:58: DeprecationWarning: Conversion of an array with ndim > 0 to a scalar is deprecated, and will error in future. Ensure you extract a single element from your array before performing this operation. (Deprecated NumPy 1.25.)\n",
      "  graph.ca_idx = int(ca_idx)\n"
     ]
    },
    {
     "name": "stdout",
     "output_type": "stream",
     "text": [
      "112\n"
     ]
    },
    {
     "name": "stderr",
     "output_type": "stream",
     "text": [
      "113it [1:07:43, 43.75s/it]/tmp/ipykernel_1997758/2728505039.py:58: DeprecationWarning: Conversion of an array with ndim > 0 to a scalar is deprecated, and will error in future. Ensure you extract a single element from your array before performing this operation. (Deprecated NumPy 1.25.)\n",
      "  graph.ca_idx = int(ca_idx)\n"
     ]
    },
    {
     "name": "stdout",
     "output_type": "stream",
     "text": [
      "113\n"
     ]
    },
    {
     "name": "stderr",
     "output_type": "stream",
     "text": [
      "114it [1:08:30, 44.63s/it]/tmp/ipykernel_1997758/2728505039.py:58: DeprecationWarning: Conversion of an array with ndim > 0 to a scalar is deprecated, and will error in future. Ensure you extract a single element from your array before performing this operation. (Deprecated NumPy 1.25.)\n",
      "  graph.ca_idx = int(ca_idx)\n"
     ]
    },
    {
     "name": "stdout",
     "output_type": "stream",
     "text": [
      "114\n"
     ]
    },
    {
     "name": "stderr",
     "output_type": "stream",
     "text": [
      "115it [1:09:15, 44.99s/it]/tmp/ipykernel_1997758/2728505039.py:58: DeprecationWarning: Conversion of an array with ndim > 0 to a scalar is deprecated, and will error in future. Ensure you extract a single element from your array before performing this operation. (Deprecated NumPy 1.25.)\n",
      "  graph.ca_idx = int(ca_idx)\n"
     ]
    },
    {
     "name": "stdout",
     "output_type": "stream",
     "text": [
      "115\n"
     ]
    },
    {
     "name": "stderr",
     "output_type": "stream",
     "text": [
      "116it [1:09:45, 40.43s/it]/tmp/ipykernel_1997758/2728505039.py:58: DeprecationWarning: Conversion of an array with ndim > 0 to a scalar is deprecated, and will error in future. Ensure you extract a single element from your array before performing this operation. (Deprecated NumPy 1.25.)\n",
      "  graph.ca_idx = int(ca_idx)\n"
     ]
    },
    {
     "name": "stdout",
     "output_type": "stream",
     "text": [
      "116\n"
     ]
    },
    {
     "name": "stderr",
     "output_type": "stream",
     "text": [
      "117it [1:10:55, 49.34s/it]/tmp/ipykernel_1997758/2728505039.py:58: DeprecationWarning: Conversion of an array with ndim > 0 to a scalar is deprecated, and will error in future. Ensure you extract a single element from your array before performing this operation. (Deprecated NumPy 1.25.)\n",
      "  graph.ca_idx = int(ca_idx)\n"
     ]
    },
    {
     "name": "stdout",
     "output_type": "stream",
     "text": [
      "117\n"
     ]
    },
    {
     "name": "stderr",
     "output_type": "stream",
     "text": [
      "118it [1:11:37, 46.95s/it]/tmp/ipykernel_1997758/2728505039.py:58: DeprecationWarning: Conversion of an array with ndim > 0 to a scalar is deprecated, and will error in future. Ensure you extract a single element from your array before performing this operation. (Deprecated NumPy 1.25.)\n",
      "  graph.ca_idx = int(ca_idx)\n"
     ]
    },
    {
     "name": "stdout",
     "output_type": "stream",
     "text": [
      "118\n"
     ]
    },
    {
     "name": "stderr",
     "output_type": "stream",
     "text": [
      "119it [1:12:37, 51.04s/it]/tmp/ipykernel_1997758/2728505039.py:58: DeprecationWarning: Conversion of an array with ndim > 0 to a scalar is deprecated, and will error in future. Ensure you extract a single element from your array before performing this operation. (Deprecated NumPy 1.25.)\n",
      "  graph.ca_idx = int(ca_idx)\n"
     ]
    },
    {
     "name": "stdout",
     "output_type": "stream",
     "text": [
      "119\n"
     ]
    },
    {
     "name": "stderr",
     "output_type": "stream",
     "text": [
      "120it [1:13:43, 55.37s/it]/tmp/ipykernel_1997758/2728505039.py:58: DeprecationWarning: Conversion of an array with ndim > 0 to a scalar is deprecated, and will error in future. Ensure you extract a single element from your array before performing this operation. (Deprecated NumPy 1.25.)\n",
      "  graph.ca_idx = int(ca_idx)\n"
     ]
    },
    {
     "name": "stdout",
     "output_type": "stream",
     "text": [
      "120\n"
     ]
    },
    {
     "name": "stderr",
     "output_type": "stream",
     "text": [
      "121it [1:14:24, 51.29s/it]/tmp/ipykernel_1997758/2728505039.py:58: DeprecationWarning: Conversion of an array with ndim > 0 to a scalar is deprecated, and will error in future. Ensure you extract a single element from your array before performing this operation. (Deprecated NumPy 1.25.)\n",
      "  graph.ca_idx = int(ca_idx)\n"
     ]
    },
    {
     "name": "stdout",
     "output_type": "stream",
     "text": [
      "121\n"
     ]
    },
    {
     "name": "stderr",
     "output_type": "stream",
     "text": [
      "122it [1:15:05, 48.19s/it]/tmp/ipykernel_1997758/2728505039.py:58: DeprecationWarning: Conversion of an array with ndim > 0 to a scalar is deprecated, and will error in future. Ensure you extract a single element from your array before performing this operation. (Deprecated NumPy 1.25.)\n",
      "  graph.ca_idx = int(ca_idx)\n"
     ]
    },
    {
     "name": "stdout",
     "output_type": "stream",
     "text": [
      "122\n"
     ]
    },
    {
     "name": "stderr",
     "output_type": "stream",
     "text": [
      "123it [1:16:04, 51.40s/it]/tmp/ipykernel_1997758/2728505039.py:58: DeprecationWarning: Conversion of an array with ndim > 0 to a scalar is deprecated, and will error in future. Ensure you extract a single element from your array before performing this operation. (Deprecated NumPy 1.25.)\n",
      "  graph.ca_idx = int(ca_idx)\n"
     ]
    },
    {
     "name": "stdout",
     "output_type": "stream",
     "text": [
      "123\n"
     ]
    },
    {
     "name": "stderr",
     "output_type": "stream",
     "text": [
      "124it [1:16:48, 49.03s/it]/tmp/ipykernel_1997758/2728505039.py:58: DeprecationWarning: Conversion of an array with ndim > 0 to a scalar is deprecated, and will error in future. Ensure you extract a single element from your array before performing this operation. (Deprecated NumPy 1.25.)\n",
      "  graph.ca_idx = int(ca_idx)\n"
     ]
    },
    {
     "name": "stdout",
     "output_type": "stream",
     "text": [
      "124\n"
     ]
    },
    {
     "name": "stderr",
     "output_type": "stream",
     "text": [
      "125it [1:17:19, 43.74s/it]/tmp/ipykernel_1997758/2728505039.py:58: DeprecationWarning: Conversion of an array with ndim > 0 to a scalar is deprecated, and will error in future. Ensure you extract a single element from your array before performing this operation. (Deprecated NumPy 1.25.)\n",
      "  graph.ca_idx = int(ca_idx)\n"
     ]
    },
    {
     "name": "stdout",
     "output_type": "stream",
     "text": [
      "125\n"
     ]
    },
    {
     "name": "stderr",
     "output_type": "stream",
     "text": [
      "126it [1:17:52, 40.47s/it]/tmp/ipykernel_1997758/2728505039.py:58: DeprecationWarning: Conversion of an array with ndim > 0 to a scalar is deprecated, and will error in future. Ensure you extract a single element from your array before performing this operation. (Deprecated NumPy 1.25.)\n",
      "  graph.ca_idx = int(ca_idx)\n"
     ]
    },
    {
     "name": "stdout",
     "output_type": "stream",
     "text": [
      "126\n"
     ]
    },
    {
     "name": "stderr",
     "output_type": "stream",
     "text": [
      "127it [1:18:23, 37.67s/it]/tmp/ipykernel_1997758/2728505039.py:58: DeprecationWarning: Conversion of an array with ndim > 0 to a scalar is deprecated, and will error in future. Ensure you extract a single element from your array before performing this operation. (Deprecated NumPy 1.25.)\n",
      "  graph.ca_idx = int(ca_idx)\n"
     ]
    },
    {
     "name": "stdout",
     "output_type": "stream",
     "text": [
      "127\n"
     ]
    },
    {
     "name": "stderr",
     "output_type": "stream",
     "text": [
      "128it [1:19:09, 39.97s/it]/tmp/ipykernel_1997758/2728505039.py:58: DeprecationWarning: Conversion of an array with ndim > 0 to a scalar is deprecated, and will error in future. Ensure you extract a single element from your array before performing this operation. (Deprecated NumPy 1.25.)\n",
      "  graph.ca_idx = int(ca_idx)\n"
     ]
    },
    {
     "name": "stdout",
     "output_type": "stream",
     "text": [
      "128\n"
     ]
    },
    {
     "name": "stderr",
     "output_type": "stream",
     "text": [
      "129it [1:20:17, 48.48s/it]/tmp/ipykernel_1997758/2728505039.py:58: DeprecationWarning: Conversion of an array with ndim > 0 to a scalar is deprecated, and will error in future. Ensure you extract a single element from your array before performing this operation. (Deprecated NumPy 1.25.)\n",
      "  graph.ca_idx = int(ca_idx)\n"
     ]
    },
    {
     "name": "stdout",
     "output_type": "stream",
     "text": [
      "129\n"
     ]
    },
    {
     "name": "stderr",
     "output_type": "stream",
     "text": [
      "130it [1:21:24, 54.21s/it]/tmp/ipykernel_1997758/2728505039.py:58: DeprecationWarning: Conversion of an array with ndim > 0 to a scalar is deprecated, and will error in future. Ensure you extract a single element from your array before performing this operation. (Deprecated NumPy 1.25.)\n",
      "  graph.ca_idx = int(ca_idx)\n"
     ]
    },
    {
     "name": "stdout",
     "output_type": "stream",
     "text": [
      "130\n"
     ]
    },
    {
     "name": "stderr",
     "output_type": "stream",
     "text": [
      "131it [1:22:27, 56.58s/it]/tmp/ipykernel_1997758/2728505039.py:58: DeprecationWarning: Conversion of an array with ndim > 0 to a scalar is deprecated, and will error in future. Ensure you extract a single element from your array before performing this operation. (Deprecated NumPy 1.25.)\n",
      "  graph.ca_idx = int(ca_idx)\n"
     ]
    },
    {
     "name": "stdout",
     "output_type": "stream",
     "text": [
      "131\n"
     ]
    },
    {
     "name": "stderr",
     "output_type": "stream",
     "text": [
      "132it [1:23:16, 54.30s/it]/tmp/ipykernel_1997758/2728505039.py:58: DeprecationWarning: Conversion of an array with ndim > 0 to a scalar is deprecated, and will error in future. Ensure you extract a single element from your array before performing this operation. (Deprecated NumPy 1.25.)\n",
      "  graph.ca_idx = int(ca_idx)\n"
     ]
    },
    {
     "name": "stdout",
     "output_type": "stream",
     "text": [
      "132\n"
     ]
    },
    {
     "name": "stderr",
     "output_type": "stream",
     "text": [
      "133it [1:23:57, 50.31s/it]/tmp/ipykernel_1997758/2728505039.py:58: DeprecationWarning: Conversion of an array with ndim > 0 to a scalar is deprecated, and will error in future. Ensure you extract a single element from your array before performing this operation. (Deprecated NumPy 1.25.)\n",
      "  graph.ca_idx = int(ca_idx)\n"
     ]
    },
    {
     "name": "stdout",
     "output_type": "stream",
     "text": [
      "133\n"
     ]
    },
    {
     "name": "stderr",
     "output_type": "stream",
     "text": [
      "134it [1:24:31, 45.44s/it]/tmp/ipykernel_1997758/2728505039.py:58: DeprecationWarning: Conversion of an array with ndim > 0 to a scalar is deprecated, and will error in future. Ensure you extract a single element from your array before performing this operation. (Deprecated NumPy 1.25.)\n",
      "  graph.ca_idx = int(ca_idx)\n"
     ]
    },
    {
     "name": "stdout",
     "output_type": "stream",
     "text": [
      "134\n"
     ]
    },
    {
     "name": "stderr",
     "output_type": "stream",
     "text": [
      "135it [1:25:20, 46.57s/it]/tmp/ipykernel_1997758/2728505039.py:58: DeprecationWarning: Conversion of an array with ndim > 0 to a scalar is deprecated, and will error in future. Ensure you extract a single element from your array before performing this operation. (Deprecated NumPy 1.25.)\n",
      "  graph.ca_idx = int(ca_idx)\n"
     ]
    },
    {
     "name": "stdout",
     "output_type": "stream",
     "text": [
      "135\n"
     ]
    },
    {
     "name": "stderr",
     "output_type": "stream",
     "text": [
      "136it [1:26:15, 49.01s/it]/tmp/ipykernel_1997758/2728505039.py:58: DeprecationWarning: Conversion of an array with ndim > 0 to a scalar is deprecated, and will error in future. Ensure you extract a single element from your array before performing this operation. (Deprecated NumPy 1.25.)\n",
      "  graph.ca_idx = int(ca_idx)\n"
     ]
    },
    {
     "name": "stdout",
     "output_type": "stream",
     "text": [
      "136\n"
     ]
    },
    {
     "name": "stderr",
     "output_type": "stream",
     "text": [
      "137it [1:26:49, 44.60s/it]/tmp/ipykernel_1997758/2728505039.py:58: DeprecationWarning: Conversion of an array with ndim > 0 to a scalar is deprecated, and will error in future. Ensure you extract a single element from your array before performing this operation. (Deprecated NumPy 1.25.)\n",
      "  graph.ca_idx = int(ca_idx)\n"
     ]
    },
    {
     "name": "stdout",
     "output_type": "stream",
     "text": [
      "137\n"
     ]
    },
    {
     "name": "stderr",
     "output_type": "stream",
     "text": [
      "138it [1:27:24, 41.81s/it]/tmp/ipykernel_1997758/2728505039.py:58: DeprecationWarning: Conversion of an array with ndim > 0 to a scalar is deprecated, and will error in future. Ensure you extract a single element from your array before performing this operation. (Deprecated NumPy 1.25.)\n",
      "  graph.ca_idx = int(ca_idx)\n"
     ]
    },
    {
     "name": "stdout",
     "output_type": "stream",
     "text": [
      "138\n"
     ]
    },
    {
     "name": "stderr",
     "output_type": "stream",
     "text": [
      "139it [1:28:48, 54.44s/it]/tmp/ipykernel_1997758/2728505039.py:58: DeprecationWarning: Conversion of an array with ndim > 0 to a scalar is deprecated, and will error in future. Ensure you extract a single element from your array before performing this operation. (Deprecated NumPy 1.25.)\n",
      "  graph.ca_idx = int(ca_idx)\n"
     ]
    },
    {
     "name": "stdout",
     "output_type": "stream",
     "text": [
      "139\n"
     ]
    },
    {
     "name": "stderr",
     "output_type": "stream",
     "text": [
      "140it [1:30:26, 67.37s/it]/tmp/ipykernel_1997758/2728505039.py:58: DeprecationWarning: Conversion of an array with ndim > 0 to a scalar is deprecated, and will error in future. Ensure you extract a single element from your array before performing this operation. (Deprecated NumPy 1.25.)\n",
      "  graph.ca_idx = int(ca_idx)\n"
     ]
    },
    {
     "name": "stdout",
     "output_type": "stream",
     "text": [
      "140\n"
     ]
    },
    {
     "name": "stderr",
     "output_type": "stream",
     "text": [
      "141it [1:32:14, 79.68s/it]/tmp/ipykernel_1997758/2728505039.py:58: DeprecationWarning: Conversion of an array with ndim > 0 to a scalar is deprecated, and will error in future. Ensure you extract a single element from your array before performing this operation. (Deprecated NumPy 1.25.)\n",
      "  graph.ca_idx = int(ca_idx)\n"
     ]
    },
    {
     "name": "stdout",
     "output_type": "stream",
     "text": [
      "141\n"
     ]
    },
    {
     "name": "stderr",
     "output_type": "stream",
     "text": [
      "142it [1:32:59, 69.30s/it]/tmp/ipykernel_1997758/2728505039.py:58: DeprecationWarning: Conversion of an array with ndim > 0 to a scalar is deprecated, and will error in future. Ensure you extract a single element from your array before performing this operation. (Deprecated NumPy 1.25.)\n",
      "  graph.ca_idx = int(ca_idx)\n"
     ]
    },
    {
     "name": "stdout",
     "output_type": "stream",
     "text": [
      "142\n"
     ]
    },
    {
     "name": "stderr",
     "output_type": "stream",
     "text": [
      "143it [1:33:51, 64.17s/it]/tmp/ipykernel_1997758/2728505039.py:58: DeprecationWarning: Conversion of an array with ndim > 0 to a scalar is deprecated, and will error in future. Ensure you extract a single element from your array before performing this operation. (Deprecated NumPy 1.25.)\n",
      "  graph.ca_idx = int(ca_idx)\n"
     ]
    },
    {
     "name": "stdout",
     "output_type": "stream",
     "text": [
      "143\n"
     ]
    },
    {
     "name": "stderr",
     "output_type": "stream",
     "text": [
      "144it [1:35:11, 68.74s/it]/tmp/ipykernel_1997758/2728505039.py:58: DeprecationWarning: Conversion of an array with ndim > 0 to a scalar is deprecated, and will error in future. Ensure you extract a single element from your array before performing this operation. (Deprecated NumPy 1.25.)\n",
      "  graph.ca_idx = int(ca_idx)\n"
     ]
    },
    {
     "name": "stdout",
     "output_type": "stream",
     "text": [
      "144\n"
     ]
    },
    {
     "name": "stderr",
     "output_type": "stream",
     "text": [
      "145it [1:36:10, 66.06s/it]/tmp/ipykernel_1997758/2728505039.py:58: DeprecationWarning: Conversion of an array with ndim > 0 to a scalar is deprecated, and will error in future. Ensure you extract a single element from your array before performing this operation. (Deprecated NumPy 1.25.)\n",
      "  graph.ca_idx = int(ca_idx)\n"
     ]
    },
    {
     "name": "stdout",
     "output_type": "stream",
     "text": [
      "145\n"
     ]
    },
    {
     "name": "stderr",
     "output_type": "stream",
     "text": [
      "146it [1:36:56, 59.92s/it]/tmp/ipykernel_1997758/2728505039.py:58: DeprecationWarning: Conversion of an array with ndim > 0 to a scalar is deprecated, and will error in future. Ensure you extract a single element from your array before performing this operation. (Deprecated NumPy 1.25.)\n",
      "  graph.ca_idx = int(ca_idx)\n"
     ]
    },
    {
     "name": "stdout",
     "output_type": "stream",
     "text": [
      "146\n"
     ]
    },
    {
     "name": "stderr",
     "output_type": "stream",
     "text": [
      "147it [1:37:19, 48.94s/it]/tmp/ipykernel_1997758/2728505039.py:58: DeprecationWarning: Conversion of an array with ndim > 0 to a scalar is deprecated, and will error in future. Ensure you extract a single element from your array before performing this operation. (Deprecated NumPy 1.25.)\n",
      "  graph.ca_idx = int(ca_idx)\n"
     ]
    },
    {
     "name": "stdout",
     "output_type": "stream",
     "text": [
      "147\n"
     ]
    },
    {
     "name": "stderr",
     "output_type": "stream",
     "text": [
      "148it [1:38:15, 50.99s/it]/tmp/ipykernel_1997758/2728505039.py:58: DeprecationWarning: Conversion of an array with ndim > 0 to a scalar is deprecated, and will error in future. Ensure you extract a single element from your array before performing this operation. (Deprecated NumPy 1.25.)\n",
      "  graph.ca_idx = int(ca_idx)\n"
     ]
    },
    {
     "name": "stdout",
     "output_type": "stream",
     "text": [
      "148\n"
     ]
    },
    {
     "name": "stderr",
     "output_type": "stream",
     "text": [
      "149it [1:40:20, 73.05s/it]/tmp/ipykernel_1997758/2728505039.py:58: DeprecationWarning: Conversion of an array with ndim > 0 to a scalar is deprecated, and will error in future. Ensure you extract a single element from your array before performing this operation. (Deprecated NumPy 1.25.)\n",
      "  graph.ca_idx = int(ca_idx)\n"
     ]
    },
    {
     "name": "stdout",
     "output_type": "stream",
     "text": [
      "149\n"
     ]
    },
    {
     "name": "stderr",
     "output_type": "stream",
     "text": [
      "150it [1:42:43, 93.99s/it]/tmp/ipykernel_1997758/2728505039.py:58: DeprecationWarning: Conversion of an array with ndim > 0 to a scalar is deprecated, and will error in future. Ensure you extract a single element from your array before performing this operation. (Deprecated NumPy 1.25.)\n",
      "  graph.ca_idx = int(ca_idx)\n"
     ]
    },
    {
     "name": "stdout",
     "output_type": "stream",
     "text": [
      "150\n"
     ]
    },
    {
     "name": "stderr",
     "output_type": "stream",
     "text": [
      "151it [1:43:13, 74.87s/it]/tmp/ipykernel_1997758/2728505039.py:58: DeprecationWarning: Conversion of an array with ndim > 0 to a scalar is deprecated, and will error in future. Ensure you extract a single element from your array before performing this operation. (Deprecated NumPy 1.25.)\n",
      "  graph.ca_idx = int(ca_idx)\n"
     ]
    },
    {
     "name": "stdout",
     "output_type": "stream",
     "text": [
      "151\n"
     ]
    },
    {
     "name": "stderr",
     "output_type": "stream",
     "text": [
      "152it [1:43:53, 64.34s/it]/tmp/ipykernel_1997758/2728505039.py:58: DeprecationWarning: Conversion of an array with ndim > 0 to a scalar is deprecated, and will error in future. Ensure you extract a single element from your array before performing this operation. (Deprecated NumPy 1.25.)\n",
      "  graph.ca_idx = int(ca_idx)\n"
     ]
    },
    {
     "name": "stdout",
     "output_type": "stream",
     "text": [
      "152\n"
     ]
    },
    {
     "name": "stderr",
     "output_type": "stream",
     "text": [
      "153it [1:44:24, 54.35s/it]/tmp/ipykernel_1997758/2728505039.py:58: DeprecationWarning: Conversion of an array with ndim > 0 to a scalar is deprecated, and will error in future. Ensure you extract a single element from your array before performing this operation. (Deprecated NumPy 1.25.)\n",
      "  graph.ca_idx = int(ca_idx)\n"
     ]
    },
    {
     "name": "stdout",
     "output_type": "stream",
     "text": [
      "153\n"
     ]
    },
    {
     "name": "stderr",
     "output_type": "stream",
     "text": [
      "154it [1:45:07, 51.01s/it]/tmp/ipykernel_1997758/2728505039.py:58: DeprecationWarning: Conversion of an array with ndim > 0 to a scalar is deprecated, and will error in future. Ensure you extract a single element from your array before performing this operation. (Deprecated NumPy 1.25.)\n",
      "  graph.ca_idx = int(ca_idx)\n"
     ]
    },
    {
     "name": "stdout",
     "output_type": "stream",
     "text": [
      "154\n"
     ]
    },
    {
     "name": "stderr",
     "output_type": "stream",
     "text": [
      "155it [1:45:42, 46.38s/it]/tmp/ipykernel_1997758/2728505039.py:58: DeprecationWarning: Conversion of an array with ndim > 0 to a scalar is deprecated, and will error in future. Ensure you extract a single element from your array before performing this operation. (Deprecated NumPy 1.25.)\n",
      "  graph.ca_idx = int(ca_idx)\n"
     ]
    },
    {
     "name": "stdout",
     "output_type": "stream",
     "text": [
      "155\n"
     ]
    },
    {
     "name": "stderr",
     "output_type": "stream",
     "text": [
      "156it [1:46:08, 40.17s/it]/tmp/ipykernel_1997758/2728505039.py:58: DeprecationWarning: Conversion of an array with ndim > 0 to a scalar is deprecated, and will error in future. Ensure you extract a single element from your array before performing this operation. (Deprecated NumPy 1.25.)\n",
      "  graph.ca_idx = int(ca_idx)\n"
     ]
    },
    {
     "name": "stdout",
     "output_type": "stream",
     "text": [
      "156\n"
     ]
    },
    {
     "name": "stderr",
     "output_type": "stream",
     "text": [
      "157it [4:08:00, 2581.62s/it]/tmp/ipykernel_1997758/2728505039.py:58: DeprecationWarning: Conversion of an array with ndim > 0 to a scalar is deprecated, and will error in future. Ensure you extract a single element from your array before performing this operation. (Deprecated NumPy 1.25.)\n",
      "  graph.ca_idx = int(ca_idx)\n"
     ]
    },
    {
     "name": "stdout",
     "output_type": "stream",
     "text": [
      "157\n"
     ]
    },
    {
     "name": "stderr",
     "output_type": "stream",
     "text": [
      "158it [4:15:28, 1941.76s/it]/tmp/ipykernel_1997758/2728505039.py:58: DeprecationWarning: Conversion of an array with ndim > 0 to a scalar is deprecated, and will error in future. Ensure you extract a single element from your array before performing this operation. (Deprecated NumPy 1.25.)\n",
      "  graph.ca_idx = int(ca_idx)\n"
     ]
    },
    {
     "name": "stdout",
     "output_type": "stream",
     "text": [
      "158\n"
     ]
    },
    {
     "name": "stderr",
     "output_type": "stream",
     "text": [
      "159it [4:20:20, 1446.72s/it]/tmp/ipykernel_1997758/2728505039.py:58: DeprecationWarning: Conversion of an array with ndim > 0 to a scalar is deprecated, and will error in future. Ensure you extract a single element from your array before performing this operation. (Deprecated NumPy 1.25.)\n",
      "  graph.ca_idx = int(ca_idx)\n"
     ]
    },
    {
     "name": "stdout",
     "output_type": "stream",
     "text": [
      "159\n"
     ]
    },
    {
     "name": "stderr",
     "output_type": "stream",
     "text": [
      "160it [4:22:56, 1059.44s/it]/tmp/ipykernel_1997758/2728505039.py:58: DeprecationWarning: Conversion of an array with ndim > 0 to a scalar is deprecated, and will error in future. Ensure you extract a single element from your array before performing this operation. (Deprecated NumPy 1.25.)\n",
      "  graph.ca_idx = int(ca_idx)\n"
     ]
    },
    {
     "name": "stdout",
     "output_type": "stream",
     "text": [
      "160\n"
     ]
    },
    {
     "name": "stderr",
     "output_type": "stream",
     "text": [
      "161it [4:25:58, 796.32s/it] /tmp/ipykernel_1997758/2728505039.py:58: DeprecationWarning: Conversion of an array with ndim > 0 to a scalar is deprecated, and will error in future. Ensure you extract a single element from your array before performing this operation. (Deprecated NumPy 1.25.)\n",
      "  graph.ca_idx = int(ca_idx)\n"
     ]
    },
    {
     "name": "stdout",
     "output_type": "stream",
     "text": [
      "161\n"
     ]
    },
    {
     "name": "stderr",
     "output_type": "stream",
     "text": [
      "162it [4:27:33, 585.91s/it]/tmp/ipykernel_1997758/2728505039.py:58: DeprecationWarning: Conversion of an array with ndim > 0 to a scalar is deprecated, and will error in future. Ensure you extract a single element from your array before performing this operation. (Deprecated NumPy 1.25.)\n",
      "  graph.ca_idx = int(ca_idx)\n"
     ]
    },
    {
     "name": "stdout",
     "output_type": "stream",
     "text": [
      "162\n"
     ]
    },
    {
     "name": "stderr",
     "output_type": "stream",
     "text": [
      "163it [4:28:43, 431.04s/it]/tmp/ipykernel_1997758/2728505039.py:58: DeprecationWarning: Conversion of an array with ndim > 0 to a scalar is deprecated, and will error in future. Ensure you extract a single element from your array before performing this operation. (Deprecated NumPy 1.25.)\n",
      "  graph.ca_idx = int(ca_idx)\n"
     ]
    },
    {
     "name": "stdout",
     "output_type": "stream",
     "text": [
      "163\n"
     ]
    },
    {
     "name": "stderr",
     "output_type": "stream",
     "text": [
      "164it [4:30:11, 328.31s/it]/tmp/ipykernel_1997758/2728505039.py:58: DeprecationWarning: Conversion of an array with ndim > 0 to a scalar is deprecated, and will error in future. Ensure you extract a single element from your array before performing this operation. (Deprecated NumPy 1.25.)\n",
      "  graph.ca_idx = int(ca_idx)\n"
     ]
    },
    {
     "name": "stdout",
     "output_type": "stream",
     "text": [
      "164\n"
     ]
    },
    {
     "name": "stderr",
     "output_type": "stream",
     "text": [
      "165it [4:31:56, 261.18s/it]"
     ]
    },
    {
     "name": "stdout",
     "output_type": "stream",
     "text": [
      "165\n"
     ]
    },
    {
     "name": "stderr",
     "output_type": "stream",
     "text": [
      "166it [4:32:59, 201.84s/it]"
     ]
    },
    {
     "name": "stdout",
     "output_type": "stream",
     "text": [
      "166\n"
     ]
    },
    {
     "name": "stderr",
     "output_type": "stream",
     "text": [
      "167it [4:34:29, 168.09s/it]"
     ]
    },
    {
     "name": "stdout",
     "output_type": "stream",
     "text": [
      "167\n"
     ]
    },
    {
     "name": "stderr",
     "output_type": "stream",
     "text": [
      "168it [4:35:56, 143.81s/it]"
     ]
    },
    {
     "name": "stdout",
     "output_type": "stream",
     "text": [
      "168\n"
     ]
    },
    {
     "name": "stderr",
     "output_type": "stream",
     "text": [
      "169it [4:37:04, 98.37s/it] "
     ]
    },
    {
     "name": "stdout",
     "output_type": "stream",
     "text": [
      "169\n",
      "Computing residue preferences for 93 amino acids took 16624.486426607706 seconds.\n"
     ]
    },
    {
     "name": "stderr",
     "output_type": "stream",
     "text": [
      "\n"
     ]
    }
   ],
   "source": [
    "# computing the antitoxin residue preferences from the strutural surrounding\n",
    "wt_at = 'MANVEKMSVAVTPQQAAVMREAVEAGEYATASEIVREAVRDWLAKRELRHDDIRRLRQLWDEGKASGRPEPVDFDALRKEARQKLTEVPPNGR'\n",
    "n_ave = 100\n",
    "\n",
    "start = timeit.default_timer()\n",
    "df_result = get_gvp_res_prefs(wt_seq=wt_at,\n",
    "                                protein_name ='at',\n",
    "                                chain_number='A',\n",
    "                                # pdb_din=pdb_dir+'at/ta/',\n",
    "                                # lmdb_dout=pdb_dir+'at/lmdb_at_all/',\n",
    "                                # lmdb_dout = \"/disk2/fli/SSMuLA/lmdb\",\n",
    "                                lmdb_dout = \"/disk2/fli/ddingding-CoVES/data/coves/pdbs/pabp/lmdb\",\n",
    "                                model_weight_path = \"/disk2/fli/ddingding-CoVES/data/coves/res_weights/RES_1646945484.3030427_8.pt\",\n",
    "                                dout = \"/disk2/fli/SSMuLA/coves\", \n",
    "                                n_ave = n_ave\n",
    "                             )\n",
    "end = timeit.default_timer()\n",
    "\n",
    "print(f'Computing residue preferences for {len(wt_at)} amino acids took {end-start} seconds.')"
   ]
  },
  {
   "cell_type": "code",
   "execution_count": 90,
   "metadata": {},
   "outputs": [
    {
     "data": {
      "text/html": [
       "<div>\n",
       "<style scoped>\n",
       "    .dataframe tbody tr th:only-of-type {\n",
       "        vertical-align: middle;\n",
       "    }\n",
       "\n",
       "    .dataframe tbody tr th {\n",
       "        vertical-align: top;\n",
       "    }\n",
       "\n",
       "    .dataframe thead th {\n",
       "        text-align: right;\n",
       "    }\n",
       "</style>\n",
       "<table border=\"1\" class=\"dataframe\">\n",
       "  <thead>\n",
       "    <tr style=\"text-align: right;\">\n",
       "      <th></th>\n",
       "      <th>index</th>\n",
       "      <th>mut</th>\n",
       "      <th>mean_x</th>\n",
       "      <th>std_x</th>\n",
       "    </tr>\n",
       "  </thead>\n",
       "  <tbody>\n",
       "    <tr>\n",
       "      <th>0</th>\n",
       "      <td>0</td>\n",
       "      <td>A11A</td>\n",
       "      <td>-6.286508</td>\n",
       "      <td>0.0</td>\n",
       "    </tr>\n",
       "    <tr>\n",
       "      <th>1</th>\n",
       "      <td>1</td>\n",
       "      <td>A11R</td>\n",
       "      <td>-6.669939</td>\n",
       "      <td>0.0</td>\n",
       "    </tr>\n",
       "    <tr>\n",
       "      <th>2</th>\n",
       "      <td>2</td>\n",
       "      <td>A11N</td>\n",
       "      <td>-5.280306</td>\n",
       "      <td>0.0</td>\n",
       "    </tr>\n",
       "    <tr>\n",
       "      <th>3</th>\n",
       "      <td>3</td>\n",
       "      <td>A11D</td>\n",
       "      <td>-6.569097</td>\n",
       "      <td>0.0</td>\n",
       "    </tr>\n",
       "    <tr>\n",
       "      <th>4</th>\n",
       "      <td>4</td>\n",
       "      <td>A11C</td>\n",
       "      <td>-7.270478</td>\n",
       "      <td>0.0</td>\n",
       "    </tr>\n",
       "    <tr>\n",
       "      <th>...</th>\n",
       "      <td>...</td>\n",
       "      <td>...</td>\n",
       "      <td>...</td>\n",
       "      <td>...</td>\n",
       "    </tr>\n",
       "    <tr>\n",
       "      <th>3375</th>\n",
       "      <td>15</td>\n",
       "      <td>R179S</td>\n",
       "      <td>-4.541832</td>\n",
       "      <td>0.0</td>\n",
       "    </tr>\n",
       "    <tr>\n",
       "      <th>3376</th>\n",
       "      <td>16</td>\n",
       "      <td>R179T</td>\n",
       "      <td>-3.489768</td>\n",
       "      <td>0.0</td>\n",
       "    </tr>\n",
       "    <tr>\n",
       "      <th>3377</th>\n",
       "      <td>17</td>\n",
       "      <td>R179W</td>\n",
       "      <td>-2.647094</td>\n",
       "      <td>0.0</td>\n",
       "    </tr>\n",
       "    <tr>\n",
       "      <th>3378</th>\n",
       "      <td>18</td>\n",
       "      <td>R179Y</td>\n",
       "      <td>-2.080436</td>\n",
       "      <td>0.0</td>\n",
       "    </tr>\n",
       "    <tr>\n",
       "      <th>3379</th>\n",
       "      <td>19</td>\n",
       "      <td>R179V</td>\n",
       "      <td>-3.154127</td>\n",
       "      <td>0.0</td>\n",
       "    </tr>\n",
       "  </tbody>\n",
       "</table>\n",
       "<p>3380 rows × 4 columns</p>\n",
       "</div>"
      ],
      "text/plain": [
       "      index    mut    mean_x  std_x\n",
       "0         0   A11A -6.286508    0.0\n",
       "1         1   A11R -6.669939    0.0\n",
       "2         2   A11N -5.280306    0.0\n",
       "3         3   A11D -6.569097    0.0\n",
       "4         4   A11C -7.270478    0.0\n",
       "...     ...    ...       ...    ...\n",
       "3375     15  R179S -4.541832    0.0\n",
       "3376     16  R179T -3.489768    0.0\n",
       "3377     17  R179W -2.647094    0.0\n",
       "3378     18  R179Y -2.080436    0.0\n",
       "3379     19  R179V -3.154127    0.0\n",
       "\n",
       "[3380 rows x 4 columns]"
      ]
     },
     "execution_count": 90,
     "metadata": {},
     "output_type": "execute_result"
    }
   ],
   "source": [
    "df_result"
   ]
  },
  {
   "cell_type": "code",
   "execution_count": 91,
   "metadata": {},
   "outputs": [],
   "source": [
    "df_result.to_csv(\"/disk2/fli/SSMuLA/coves/ParD3.csv\")"
   ]
  },
  {
   "cell_type": "code",
   "execution_count": 65,
   "metadata": {},
   "outputs": [],
   "source": [
    "ds_all = myRESDataset(lmdb_dataset=\"/disk2/fli/ddingding-CoVES/data/coves/pdbs/pabp/lmdb\", chain_id_oi=\"A\")"
   ]
  },
  {
   "cell_type": "code",
   "execution_count": 66,
   "metadata": {},
   "outputs": [],
   "source": [
    "dl_all = torch_geometric.loader.DataLoader(ds_all, num_workers=4, batch_size=1)"
   ]
  },
  {
   "cell_type": "code",
   "execution_count": 67,
   "metadata": {},
   "outputs": [
    {
     "data": {
      "text/plain": [
       "<torch_geometric.loader.dataloader.DataLoader at 0x7f9ca4077f40>"
      ]
     },
     "execution_count": 67,
     "metadata": {},
     "output_type": "execute_result"
    }
   ],
   "source": [
    "dl_all"
   ]
  },
  {
   "cell_type": "code",
   "execution_count": 85,
   "metadata": {},
   "outputs": [
    {
     "name": "stdout",
     "output_type": "stream",
     "text": [
      "idx 0\n"
     ]
    },
    {
     "name": "stderr",
     "output_type": "stream",
     "text": [
      "/tmp/ipykernel_1997758/2728505039.py:58: DeprecationWarning: Conversion of an array with ndim > 0 to a scalar is deprecated, and will error in future. Ensure you extract a single element from your array before performing this operation. (Deprecated NumPy 1.25.)\n",
      "  graph.ca_idx = int(ca_idx)\n",
      "/tmp/ipykernel_1997758/2728505039.py:58: DeprecationWarning: Conversion of an array with ndim > 0 to a scalar is deprecated, and will error in future. Ensure you extract a single element from your array before performing this operation. (Deprecated NumPy 1.25.)\n",
      "  graph.ca_idx = int(ca_idx)\n",
      "/tmp/ipykernel_1997758/2728505039.py:58: DeprecationWarning: Conversion of an array with ndim > 0 to a scalar is deprecated, and will error in future. Ensure you extract a single element from your array before performing this operation. (Deprecated NumPy 1.25.)\n",
      "  graph.ca_idx = int(ca_idx)\n"
     ]
    },
    {
     "name": "stdout",
     "output_type": "stream",
     "text": [
      "tensor([11]) tensor([0]) DataBatch(x=[438, 3], edge_index=[2, 6692], atoms=[438], edge_s=[6692, 16], edge_v=[6692, 1, 3], label=[1], ca_idx=[1], batch=[438], ptr=[2])\n"
     ]
    }
   ],
   "source": [
    "for d in dl_all:\n",
    "    num, aa, b = d\n",
    "    print(num, aa, b)\n",
    "    break"
   ]
  },
  {
   "cell_type": "code",
   "execution_count": null,
   "metadata": {},
   "outputs": [],
   "source": []
  }
 ],
 "metadata": {
  "kernelspec": {
   "display_name": "atom3d",
   "language": "python",
   "name": "python3"
  },
  "language_info": {
   "codemirror_mode": {
    "name": "ipython",
    "version": 3
   },
   "file_extension": ".py",
   "mimetype": "text/x-python",
   "name": "python",
   "nbconvert_exporter": "python",
   "pygments_lexer": "ipython3",
   "version": "3.9.19"
  }
 },
 "nbformat": 4,
 "nbformat_minor": 2
}
