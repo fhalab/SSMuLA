{
 "cells": [
  {
   "cell_type": "code",
   "execution_count": 1,
   "metadata": {},
   "outputs": [
    {
     "name": "stdout",
     "output_type": "stream",
     "text": [
      "/disk2/fli/SSMuLA\n"
     ]
    }
   ],
   "source": [
    "%cd ~/SSMuLA"
   ]
  },
  {
   "cell_type": "code",
   "execution_count": 2,
   "metadata": {},
   "outputs": [],
   "source": [
    "%load_ext autoreload\n",
    "%autoreload 2\n",
    "%load_ext blackcellmagic"
   ]
  },
  {
   "cell_type": "code",
   "execution_count": 17,
   "metadata": {},
   "outputs": [
    {
     "name": "stderr",
     "output_type": "stream",
     "text": [
      "/disk2/fli/miniconda3/envs/SSMuLA/lib/python3.10/site-packages/Bio/PDB/StructureBuilder.py:89: PDBConstructionWarning: WARNING: Chain A is discontinuous at line 3817.\n",
      "  warnings.warn(\n",
      "/disk2/fli/miniconda3/envs/SSMuLA/lib/python3.10/site-packages/Bio/PDB/StructureBuilder.py:89: PDBConstructionWarning: WARNING: Chain B is discontinuous at line 3825.\n",
      "  warnings.warn(\n",
      "/disk2/fli/miniconda3/envs/SSMuLA/lib/python3.10/site-packages/Bio/PDB/StructureBuilder.py:89: PDBConstructionWarning: WARNING: Chain C is discontinuous at line 3839.\n",
      "  warnings.warn(\n",
      "/disk2/fli/miniconda3/envs/SSMuLA/lib/python3.10/site-packages/Bio/PDB/StructureBuilder.py:89: PDBConstructionWarning: WARNING: Chain D is discontinuous at line 3846.\n",
      "  warnings.warn(\n",
      "/disk2/fli/miniconda3/envs/SSMuLA/lib/python3.10/site-packages/Bio/PDB/StructureBuilder.py:89: PDBConstructionWarning: WARNING: Chain A is discontinuous at line 3868.\n",
      "  warnings.warn(\n",
      "/disk2/fli/miniconda3/envs/SSMuLA/lib/python3.10/site-packages/Bio/PDB/StructureBuilder.py:89: PDBConstructionWarning: WARNING: Chain B is discontinuous at line 3977.\n",
      "  warnings.warn(\n",
      "/disk2/fli/miniconda3/envs/SSMuLA/lib/python3.10/site-packages/Bio/PDB/StructureBuilder.py:89: PDBConstructionWarning: WARNING: Chain C is discontinuous at line 4105.\n",
      "  warnings.warn(\n",
      "/disk2/fli/miniconda3/envs/SSMuLA/lib/python3.10/site-packages/Bio/PDB/StructureBuilder.py:89: PDBConstructionWarning: WARNING: Chain D is discontinuous at line 4224.\n",
      "  warnings.warn(\n"
     ]
    }
   ],
   "source": [
    "from Bio import PDB\n",
    "\n",
    "# Create a PDB parser\n",
    "parser = PDB.PDBParser()\n",
    "\n",
    "# Read the structure from file\n",
    "structure = parser.get_structure(id=\"5CEG\",file=\"add_data/5ceg.pdb\")\n",
    "\n",
    "# Specify the chain ID you want to extract\n",
    "chain_id = 'A'  # Replace 'A' with your chain ID\n",
    "\n",
    "# Iterate through the structure and get the desired chain\n",
    "for model in structure:\n",
    "    chain = model[chain_id]\n",
    "    # Now you can work with the chain object, or write it to a new file\n",
    "\n",
    "    # To save the chain to a new PDB file\n",
    "    io = PDB.PDBIO()\n",
    "    io.set_structure(chain)\n",
    "    io.save(\"data/ParD3/ParD3.pdb\".format(chain_id))\n"
   ]
  },
  {
   "cell_type": "code",
   "execution_count": 18,
   "metadata": {},
   "outputs": [
    {
     "name": "stdout",
     "output_type": "stream",
     "text": [
      "Model ID: 0, Chain ID: A\n",
      "Model ID: 0, Chain ID: B\n",
      "Model ID: 0, Chain ID: C\n",
      "Model ID: 0, Chain ID: D\n",
      "Model ID: 0, Chain ID: E\n",
      "Model ID: 0, Chain ID: F\n",
      "Model ID: 0, Chain ID: G\n",
      "Model ID: 0, Chain ID: H\n",
      "Model ID: 0, Chain ID: I\n",
      "Model ID: 0, Chain ID: J\n",
      "Model ID: 0, Chain ID: K\n",
      "Model ID: 0, Chain ID: L\n",
      "Model ID: 0, Chain ID: M\n",
      "Model ID: 0, Chain ID: N\n",
      "Model ID: 0, Chain ID: O\n",
      "Model ID: 0, Chain ID: P\n",
      "Model ID: 0, Chain ID: Q\n",
      "Model ID: 0, Chain ID: R\n",
      "Model ID: 0, Chain ID: a\n",
      "Model ID: 0, Chain ID: b\n",
      "Model ID: 0, Chain ID: c\n",
      "Model ID: 0, Chain ID: d\n",
      "Model ID: 0, Chain ID: e\n",
      "Model ID: 0, Chain ID: f\n",
      "Model ID: 0, Chain ID: g\n",
      "Model ID: 0, Chain ID: h\n",
      "Model ID: 0, Chain ID: i\n",
      "Model ID: 0, Chain ID: j\n",
      "Model ID: 0, Chain ID: k\n",
      "Model ID: 0, Chain ID: l\n",
      "Model ID: 0, Chain ID: m\n",
      "Model ID: 0, Chain ID: n\n",
      "Model ID: 0, Chain ID: o\n",
      "Model ID: 0, Chain ID: p\n",
      "Model ID: 0, Chain ID: q\n",
      "Model ID: 0, Chain ID: r\n"
     ]
    },
    {
     "name": "stderr",
     "output_type": "stream",
     "text": [
      "/disk2/fli/miniconda3/envs/SSMuLA/lib/python3.10/site-packages/Bio/PDB/StructureBuilder.py:89: PDBConstructionWarning: WARNING: Chain A is discontinuous at line 78243.\n",
      "  warnings.warn(\n",
      "/disk2/fli/miniconda3/envs/SSMuLA/lib/python3.10/site-packages/Bio/PDB/StructureBuilder.py:89: PDBConstructionWarning: WARNING: Chain B is discontinuous at line 78301.\n",
      "  warnings.warn(\n",
      "/disk2/fli/miniconda3/envs/SSMuLA/lib/python3.10/site-packages/Bio/PDB/StructureBuilder.py:89: PDBConstructionWarning: WARNING: Chain C is discontinuous at line 78330.\n",
      "  warnings.warn(\n",
      "/disk2/fli/miniconda3/envs/SSMuLA/lib/python3.10/site-packages/Bio/PDB/StructureBuilder.py:89: PDBConstructionWarning: WARNING: Chain D is discontinuous at line 78388.\n",
      "  warnings.warn(\n",
      "/disk2/fli/miniconda3/envs/SSMuLA/lib/python3.10/site-packages/Bio/PDB/StructureBuilder.py:89: PDBConstructionWarning: WARNING: Chain E is discontinuous at line 78446.\n",
      "  warnings.warn(\n",
      "/disk2/fli/miniconda3/envs/SSMuLA/lib/python3.10/site-packages/Bio/PDB/StructureBuilder.py:89: PDBConstructionWarning: WARNING: Chain L is discontinuous at line 78475.\n",
      "  warnings.warn(\n",
      "/disk2/fli/miniconda3/envs/SSMuLA/lib/python3.10/site-packages/Bio/PDB/StructureBuilder.py:89: PDBConstructionWarning: WARNING: Chain M is discontinuous at line 78504.\n",
      "  warnings.warn(\n"
     ]
    }
   ],
   "source": [
    "from Bio import PDB\n",
    "\n",
    "# Create a PDB parser\n",
    "parser = PDB.PDBParser()\n",
    "\n",
    "# Read the structure from file\n",
    "structure = parser.get_structure(id=\"6X0A\",file=\"add_data/6x0a.pdb\")\n",
    "\n",
    "# Print out all chain IDs\n",
    "for model in structure:\n",
    "    for chain in model:\n",
    "        print(f\"Model ID: {model.id}, Chain ID: {chain.id}\")"
   ]
  },
  {
   "cell_type": "code",
   "execution_count": 19,
   "metadata": {},
   "outputs": [],
   "source": [
    "\n",
    "# Specify the chain ID you want to extract\n",
    "chain_id = 'a'  # Replace 'A' with your chain ID\n",
    "\n",
    "# Iterate through the structure and get the desired chain\n",
    "for model in structure:\n",
    "    chain = model[chain_id]\n",
    "    # Now you can work with the chain object, or write it to a new file\n",
    "\n",
    "    # To save the chain to a new PDB file\n",
    "    io = PDB.PDBIO()\n",
    "    io.set_structure(chain)\n",
    "    io.save(\"data/ParD2/ParD2.pdb\".format(chain_id))\n"
   ]
  },
  {
   "cell_type": "code",
   "execution_count": null,
   "metadata": {},
   "outputs": [],
   "source": []
  }
 ],
 "metadata": {
  "kernelspec": {
   "display_name": "SSMuLA",
   "language": "python",
   "name": "python3"
  },
  "language_info": {
   "codemirror_mode": {
    "name": "ipython",
    "version": 3
   },
   "file_extension": ".py",
   "mimetype": "text/x-python",
   "name": "python",
   "nbconvert_exporter": "python",
   "pygments_lexer": "ipython3",
   "version": "3.10.13"
  }
 },
 "nbformat": 4,
 "nbformat_minor": 2
}
