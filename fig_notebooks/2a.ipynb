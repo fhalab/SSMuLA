{
 "cells": [
  {
   "cell_type": "code",
   "execution_count": 3,
   "metadata": {},
   "outputs": [
    {
     "name": "stdout",
     "output_type": "stream",
     "text": [
      "/disk2/fli/SSMuLA\n",
      "The autoreload extension is already loaded. To reload it, use:\n",
      "  %reload_ext autoreload\n",
      "The blackcellmagic extension is already loaded. To reload it, use:\n",
      "  %reload_ext blackcellmagic\n"
     ]
    }
   ],
   "source": [
    "%cd ~/SSMuLA\n",
    "%load_ext autoreload\n",
    "%autoreload 2\n",
    "%load_ext blackcellmagic"
   ]
  },
  {
   "cell_type": "markdown",
   "metadata": {},
   "source": [
    "A notebook for regerating the MDLE, ALDE and ftALDE line plots"
   ]
  },
  {
   "cell_type": "code",
   "execution_count": 5,
   "metadata": {},
   "outputs": [],
   "source": [
    "import pandas as pd \n",
    "import numpy as np\n",
    "\n",
    "from SSMuLA.mlde_analysis import get_model_comp_dict, plot_mlde_dict\n",
    "\n",
    "%matplotlib inline"
   ]
  },
  {
   "cell_type": "code",
   "execution_count": 6,
   "metadata": {},
   "outputs": [],
   "source": [
    "mlde_all = pd.read_csv(\"/disk2/fli/SSMuLA/results4upload/mlde/one-hot.csv\")\n",
    "de_all = pd.read_csv(\"results/de/DE-active/scale2max/all_landscape_de_summary.csv\")\n",
    "lib_stat = pd.read_csv(\"/disk2/fli/SSMuLA/results4upload/landscape/lib_stats.csv\")\n",
    "active_cutoff = 1"
   ]
  },
  {
   "cell_type": "code",
   "execution_count": null,
   "metadata": {},
   "outputs": [],
   "source": [
    "de_avg = (\n",
    "    de_all[de_all[\"lib\"].isin(active_lib_list)][[\"de_type\", \"mean_all\", \"fraction_max\"]]\n",
    "    .groupby(\"de_type\")\n",
    "    .agg([\"mean\", \"std\"])\n",
    ")\n",
    "de_avg.columns = [\"{}_{}\".format(i, j) for i, j in de_avg.columns]\n",
    "de_avg = de_avg.rename(columns={\"de_type_\": \"de_type\"})\n",
    "de_avg"
   ]
  },
  {
   "cell_type": "code",
   "execution_count": null,
   "metadata": {},
   "outputs": [],
   "source": [
    "n_top = 96\n",
    "avg_mlde_df_dict = {}\n",
    "\n",
    "# just mlde\n",
    "avg_mlde_df_dict[\"MLDE\"] = get_mlde_avg_sdf(\n",
    "    mlde_all, n_top, n_mut_cutoff=\"all\", zs=\"none\", active_lib_list=active_lib_list, ft_frac=0.125\n",
    ")\n",
    "avg_mlde_df_dict[\"ftMLDE: Hamming distance\"] = get_mlde_avg_sdf(\n",
    "    mlde_all, n_top, n_mut_cutoff=\"double\", zs=\"none\", active_lib_list=active_lib_list, ft_frac=0.125\n",
    ")\n",
    "\n",
    "for zs in ZS_OPTS[1:]:\n",
    "    avg_mlde_df_dict[f\"ftMLDE: {ZS_OPTS_LEGEND[zs]}\"] = get_mlde_avg_sdf(\n",
    "        mlde_all, n_top, n_mut_cutoff=\"all\", zs=zs, active_lib_list=active_lib_list, ft_frac=0.125\n",
    "    )"
   ]
  }
 ],
 "metadata": {
  "kernelspec": {
   "display_name": "SSMuLA",
   "language": "python",
   "name": "python3"
  },
  "language_info": {
   "codemirror_mode": {
    "name": "ipython",
    "version": 3
   },
   "file_extension": ".py",
   "mimetype": "text/x-python",
   "name": "python",
   "nbconvert_exporter": "python",
   "pygments_lexer": "ipython3",
   "version": "3.10.14"
  }
 },
 "nbformat": 4,
 "nbformat_minor": 2
}
